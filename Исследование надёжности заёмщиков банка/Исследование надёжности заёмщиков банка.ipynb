{
 "cells": [
  {
   "cell_type": "markdown",
   "id": "e251719a",
   "metadata": {},
   "source": [
    "<h1> <p style=\"text-align: center;\"> Исследование надежности заемщиков банка </p></h1>\n",
    "<h3> Содержание </h3>\n",
    "\n",
    "<ol class=\"toc-item\">\n",
    "        <li> Обзор данных </li>\n",
    "        <li> Обработка данных </li>\n",
    "        <ul>\n",
    "            <li> заполнение пропусков </li>\n",
    "            <li> проверка данных на аномалии </li>\n",
    "            <li> изменение типов данных </li>\n",
    "            <li> удаление дубликатов </li>\n",
    "            <li> создание дополнительных словарей, декомпозиция исходных данных </li>\n",
    "            <li> категоризация данных </li>\n",
    "        </ul> \n",
    "        <li> Поиск зависимостей между параметрами </li>\n",
    "        <ul>\n",
    "            <li> взаимосвязь между количеством детей и благонадёжностью заёмщиков </li>\n",
    "            <li> влияние семейного положения на возрат кредита в срок </li>\n",
    "            <li> взаимосвязь между уровнем дохода и благонадёжностью заёмщиков </li>\n",
    "            <li> влияние различных целей кредита на его возврат в срок </li>\n",
    "        </ul>     \n",
    "        <li> Общие выводы </li>\n",
    "    </ol>"
   ]
  },
  {
   "cell_type": "markdown",
   "id": "d4a6a089",
   "metadata": {},
   "source": [
    "### Обзор данных"
   ]
  },
  {
   "cell_type": "code",
   "execution_count": 1,
   "id": "d8ee8f2b",
   "metadata": {
    "scrolled": true
   },
   "outputs": [
    {
     "name": "stdout",
     "output_type": "stream",
     "text": [
      "<class 'pandas.core.frame.DataFrame'>\n",
      "RangeIndex: 21525 entries, 0 to 21524\n",
      "Data columns (total 12 columns):\n",
      " #   Column            Non-Null Count  Dtype  \n",
      "---  ------            --------------  -----  \n",
      " 0   children          21525 non-null  int64  \n",
      " 1   days_employed     19351 non-null  float64\n",
      " 2   dob_years         21525 non-null  int64  \n",
      " 3   education         21525 non-null  object \n",
      " 4   education_id      21525 non-null  int64  \n",
      " 5   family_status     21525 non-null  object \n",
      " 6   family_status_id  21525 non-null  int64  \n",
      " 7   gender            21525 non-null  object \n",
      " 8   income_type       21525 non-null  object \n",
      " 9   debt              21525 non-null  int64  \n",
      " 10  total_income      19351 non-null  float64\n",
      " 11  purpose           21525 non-null  object \n",
      "dtypes: float64(2), int64(5), object(5)\n",
      "memory usage: 2.0+ MB\n"
     ]
    },
    {
     "data": {
      "text/plain": [
       "None"
      ]
     },
     "metadata": {},
     "output_type": "display_data"
    },
    {
     "data": {
      "text/html": [
       "<div>\n",
       "<style scoped>\n",
       "    .dataframe tbody tr th:only-of-type {\n",
       "        vertical-align: middle;\n",
       "    }\n",
       "\n",
       "    .dataframe tbody tr th {\n",
       "        vertical-align: top;\n",
       "    }\n",
       "\n",
       "    .dataframe thead th {\n",
       "        text-align: right;\n",
       "    }\n",
       "</style>\n",
       "<table border=\"1\" class=\"dataframe\">\n",
       "  <thead>\n",
       "    <tr style=\"text-align: right;\">\n",
       "      <th></th>\n",
       "      <th>children</th>\n",
       "      <th>days_employed</th>\n",
       "      <th>dob_years</th>\n",
       "      <th>education</th>\n",
       "      <th>education_id</th>\n",
       "      <th>family_status</th>\n",
       "      <th>family_status_id</th>\n",
       "      <th>gender</th>\n",
       "      <th>income_type</th>\n",
       "      <th>debt</th>\n",
       "      <th>total_income</th>\n",
       "      <th>purpose</th>\n",
       "    </tr>\n",
       "  </thead>\n",
       "  <tbody>\n",
       "    <tr>\n",
       "      <th>0</th>\n",
       "      <td>1</td>\n",
       "      <td>-8437.673028</td>\n",
       "      <td>42</td>\n",
       "      <td>высшее</td>\n",
       "      <td>0</td>\n",
       "      <td>женат / замужем</td>\n",
       "      <td>0</td>\n",
       "      <td>F</td>\n",
       "      <td>сотрудник</td>\n",
       "      <td>0</td>\n",
       "      <td>253875.639453</td>\n",
       "      <td>покупка жилья</td>\n",
       "    </tr>\n",
       "    <tr>\n",
       "      <th>1</th>\n",
       "      <td>1</td>\n",
       "      <td>-4024.803754</td>\n",
       "      <td>36</td>\n",
       "      <td>среднее</td>\n",
       "      <td>1</td>\n",
       "      <td>женат / замужем</td>\n",
       "      <td>0</td>\n",
       "      <td>F</td>\n",
       "      <td>сотрудник</td>\n",
       "      <td>0</td>\n",
       "      <td>112080.014102</td>\n",
       "      <td>приобретение автомобиля</td>\n",
       "    </tr>\n",
       "    <tr>\n",
       "      <th>2</th>\n",
       "      <td>0</td>\n",
       "      <td>-5623.422610</td>\n",
       "      <td>33</td>\n",
       "      <td>Среднее</td>\n",
       "      <td>1</td>\n",
       "      <td>женат / замужем</td>\n",
       "      <td>0</td>\n",
       "      <td>M</td>\n",
       "      <td>сотрудник</td>\n",
       "      <td>0</td>\n",
       "      <td>145885.952297</td>\n",
       "      <td>покупка жилья</td>\n",
       "    </tr>\n",
       "    <tr>\n",
       "      <th>3</th>\n",
       "      <td>3</td>\n",
       "      <td>-4124.747207</td>\n",
       "      <td>32</td>\n",
       "      <td>среднее</td>\n",
       "      <td>1</td>\n",
       "      <td>женат / замужем</td>\n",
       "      <td>0</td>\n",
       "      <td>M</td>\n",
       "      <td>сотрудник</td>\n",
       "      <td>0</td>\n",
       "      <td>267628.550329</td>\n",
       "      <td>дополнительное образование</td>\n",
       "    </tr>\n",
       "    <tr>\n",
       "      <th>4</th>\n",
       "      <td>0</td>\n",
       "      <td>340266.072047</td>\n",
       "      <td>53</td>\n",
       "      <td>среднее</td>\n",
       "      <td>1</td>\n",
       "      <td>гражданский брак</td>\n",
       "      <td>1</td>\n",
       "      <td>F</td>\n",
       "      <td>пенсионер</td>\n",
       "      <td>0</td>\n",
       "      <td>158616.077870</td>\n",
       "      <td>сыграть свадьбу</td>\n",
       "    </tr>\n",
       "    <tr>\n",
       "      <th>5</th>\n",
       "      <td>0</td>\n",
       "      <td>-926.185831</td>\n",
       "      <td>27</td>\n",
       "      <td>высшее</td>\n",
       "      <td>0</td>\n",
       "      <td>гражданский брак</td>\n",
       "      <td>1</td>\n",
       "      <td>M</td>\n",
       "      <td>компаньон</td>\n",
       "      <td>0</td>\n",
       "      <td>255763.565419</td>\n",
       "      <td>покупка жилья</td>\n",
       "    </tr>\n",
       "    <tr>\n",
       "      <th>6</th>\n",
       "      <td>0</td>\n",
       "      <td>-2879.202052</td>\n",
       "      <td>43</td>\n",
       "      <td>высшее</td>\n",
       "      <td>0</td>\n",
       "      <td>женат / замужем</td>\n",
       "      <td>0</td>\n",
       "      <td>F</td>\n",
       "      <td>компаньон</td>\n",
       "      <td>0</td>\n",
       "      <td>240525.971920</td>\n",
       "      <td>операции с жильем</td>\n",
       "    </tr>\n",
       "    <tr>\n",
       "      <th>7</th>\n",
       "      <td>0</td>\n",
       "      <td>-152.779569</td>\n",
       "      <td>50</td>\n",
       "      <td>СРЕДНЕЕ</td>\n",
       "      <td>1</td>\n",
       "      <td>женат / замужем</td>\n",
       "      <td>0</td>\n",
       "      <td>M</td>\n",
       "      <td>сотрудник</td>\n",
       "      <td>0</td>\n",
       "      <td>135823.934197</td>\n",
       "      <td>образование</td>\n",
       "    </tr>\n",
       "    <tr>\n",
       "      <th>8</th>\n",
       "      <td>2</td>\n",
       "      <td>-6929.865299</td>\n",
       "      <td>35</td>\n",
       "      <td>ВЫСШЕЕ</td>\n",
       "      <td>0</td>\n",
       "      <td>гражданский брак</td>\n",
       "      <td>1</td>\n",
       "      <td>F</td>\n",
       "      <td>сотрудник</td>\n",
       "      <td>0</td>\n",
       "      <td>95856.832424</td>\n",
       "      <td>на проведение свадьбы</td>\n",
       "    </tr>\n",
       "    <tr>\n",
       "      <th>9</th>\n",
       "      <td>0</td>\n",
       "      <td>-2188.756445</td>\n",
       "      <td>41</td>\n",
       "      <td>среднее</td>\n",
       "      <td>1</td>\n",
       "      <td>женат / замужем</td>\n",
       "      <td>0</td>\n",
       "      <td>M</td>\n",
       "      <td>сотрудник</td>\n",
       "      <td>0</td>\n",
       "      <td>144425.938277</td>\n",
       "      <td>покупка жилья для семьи</td>\n",
       "    </tr>\n",
       "  </tbody>\n",
       "</table>\n",
       "</div>"
      ],
      "text/plain": [
       "   children  days_employed  dob_years education  education_id  \\\n",
       "0         1   -8437.673028         42    высшее             0   \n",
       "1         1   -4024.803754         36   среднее             1   \n",
       "2         0   -5623.422610         33   Среднее             1   \n",
       "3         3   -4124.747207         32   среднее             1   \n",
       "4         0  340266.072047         53   среднее             1   \n",
       "5         0    -926.185831         27    высшее             0   \n",
       "6         0   -2879.202052         43    высшее             0   \n",
       "7         0    -152.779569         50   СРЕДНЕЕ             1   \n",
       "8         2   -6929.865299         35    ВЫСШЕЕ             0   \n",
       "9         0   -2188.756445         41   среднее             1   \n",
       "\n",
       "      family_status  family_status_id gender income_type  debt   total_income  \\\n",
       "0   женат / замужем                 0      F   сотрудник     0  253875.639453   \n",
       "1   женат / замужем                 0      F   сотрудник     0  112080.014102   \n",
       "2   женат / замужем                 0      M   сотрудник     0  145885.952297   \n",
       "3   женат / замужем                 0      M   сотрудник     0  267628.550329   \n",
       "4  гражданский брак                 1      F   пенсионер     0  158616.077870   \n",
       "5  гражданский брак                 1      M   компаньон     0  255763.565419   \n",
       "6   женат / замужем                 0      F   компаньон     0  240525.971920   \n",
       "7   женат / замужем                 0      M   сотрудник     0  135823.934197   \n",
       "8  гражданский брак                 1      F   сотрудник     0   95856.832424   \n",
       "9   женат / замужем                 0      M   сотрудник     0  144425.938277   \n",
       "\n",
       "                      purpose  \n",
       "0               покупка жилья  \n",
       "1     приобретение автомобиля  \n",
       "2               покупка жилья  \n",
       "3  дополнительное образование  \n",
       "4             сыграть свадьбу  \n",
       "5               покупка жилья  \n",
       "6           операции с жильем  \n",
       "7                 образование  \n",
       "8       на проведение свадьбы  \n",
       "9     покупка жилья для семьи  "
      ]
     },
     "execution_count": 1,
     "metadata": {},
     "output_type": "execute_result"
    }
   ],
   "source": [
    "#открываем таблицу и изучаем общую информацию о данных, выводим первые 10 строк таблицы\n",
    "import pandas as pd\n",
    "\n",
    "debtors_database = pd.read_csv('') # в '' указываем наименование/ссылку на файл с данными\n",
    "display(debtors_database.info())\n",
    "debtors_database.head(10)"
   ]
  },
  {
   "cell_type": "code",
   "execution_count": 2,
   "id": "75506329",
   "metadata": {},
   "outputs": [
    {
     "data": {
      "text/html": [
       "<div>\n",
       "<style scoped>\n",
       "    .dataframe tbody tr th:only-of-type {\n",
       "        vertical-align: middle;\n",
       "    }\n",
       "\n",
       "    .dataframe tbody tr th {\n",
       "        vertical-align: top;\n",
       "    }\n",
       "\n",
       "    .dataframe thead th {\n",
       "        text-align: right;\n",
       "    }\n",
       "</style>\n",
       "<table border=\"1\" class=\"dataframe\">\n",
       "  <thead>\n",
       "    <tr style=\"text-align: right;\">\n",
       "      <th></th>\n",
       "      <th>count</th>\n",
       "      <th>mean</th>\n",
       "      <th>std</th>\n",
       "      <th>min</th>\n",
       "      <th>25%</th>\n",
       "      <th>50%</th>\n",
       "      <th>75%</th>\n",
       "      <th>max</th>\n",
       "    </tr>\n",
       "  </thead>\n",
       "  <tbody>\n",
       "    <tr>\n",
       "      <th>children</th>\n",
       "      <td>21525.0</td>\n",
       "      <td>0.538908</td>\n",
       "      <td>1.381587</td>\n",
       "      <td>-1.000000</td>\n",
       "      <td>0.000000</td>\n",
       "      <td>0.000000</td>\n",
       "      <td>1.000000</td>\n",
       "      <td>2.000000e+01</td>\n",
       "    </tr>\n",
       "    <tr>\n",
       "      <th>days_employed</th>\n",
       "      <td>19351.0</td>\n",
       "      <td>63046.497661</td>\n",
       "      <td>140827.311974</td>\n",
       "      <td>-18388.949901</td>\n",
       "      <td>-2747.423625</td>\n",
       "      <td>-1203.369529</td>\n",
       "      <td>-291.095954</td>\n",
       "      <td>4.017554e+05</td>\n",
       "    </tr>\n",
       "    <tr>\n",
       "      <th>dob_years</th>\n",
       "      <td>21525.0</td>\n",
       "      <td>43.293380</td>\n",
       "      <td>12.574584</td>\n",
       "      <td>0.000000</td>\n",
       "      <td>33.000000</td>\n",
       "      <td>42.000000</td>\n",
       "      <td>53.000000</td>\n",
       "      <td>7.500000e+01</td>\n",
       "    </tr>\n",
       "    <tr>\n",
       "      <th>education_id</th>\n",
       "      <td>21525.0</td>\n",
       "      <td>0.817236</td>\n",
       "      <td>0.548138</td>\n",
       "      <td>0.000000</td>\n",
       "      <td>1.000000</td>\n",
       "      <td>1.000000</td>\n",
       "      <td>1.000000</td>\n",
       "      <td>4.000000e+00</td>\n",
       "    </tr>\n",
       "    <tr>\n",
       "      <th>family_status_id</th>\n",
       "      <td>21525.0</td>\n",
       "      <td>0.972544</td>\n",
       "      <td>1.420324</td>\n",
       "      <td>0.000000</td>\n",
       "      <td>0.000000</td>\n",
       "      <td>0.000000</td>\n",
       "      <td>1.000000</td>\n",
       "      <td>4.000000e+00</td>\n",
       "    </tr>\n",
       "    <tr>\n",
       "      <th>debt</th>\n",
       "      <td>21525.0</td>\n",
       "      <td>0.080883</td>\n",
       "      <td>0.272661</td>\n",
       "      <td>0.000000</td>\n",
       "      <td>0.000000</td>\n",
       "      <td>0.000000</td>\n",
       "      <td>0.000000</td>\n",
       "      <td>1.000000e+00</td>\n",
       "    </tr>\n",
       "    <tr>\n",
       "      <th>total_income</th>\n",
       "      <td>19351.0</td>\n",
       "      <td>167422.302208</td>\n",
       "      <td>102971.566448</td>\n",
       "      <td>20667.263793</td>\n",
       "      <td>103053.152913</td>\n",
       "      <td>145017.937533</td>\n",
       "      <td>203435.067663</td>\n",
       "      <td>2.265604e+06</td>\n",
       "    </tr>\n",
       "  </tbody>\n",
       "</table>\n",
       "</div>"
      ],
      "text/plain": [
       "                    count           mean            std           min  \\\n",
       "children          21525.0       0.538908       1.381587     -1.000000   \n",
       "days_employed     19351.0   63046.497661  140827.311974 -18388.949901   \n",
       "dob_years         21525.0      43.293380      12.574584      0.000000   \n",
       "education_id      21525.0       0.817236       0.548138      0.000000   \n",
       "family_status_id  21525.0       0.972544       1.420324      0.000000   \n",
       "debt              21525.0       0.080883       0.272661      0.000000   \n",
       "total_income      19351.0  167422.302208  102971.566448  20667.263793   \n",
       "\n",
       "                            25%            50%            75%           max  \n",
       "children               0.000000       0.000000       1.000000  2.000000e+01  \n",
       "days_employed      -2747.423625   -1203.369529    -291.095954  4.017554e+05  \n",
       "dob_years             33.000000      42.000000      53.000000  7.500000e+01  \n",
       "education_id           1.000000       1.000000       1.000000  4.000000e+00  \n",
       "family_status_id       0.000000       0.000000       1.000000  4.000000e+00  \n",
       "debt                   0.000000       0.000000       0.000000  1.000000e+00  \n",
       "total_income      103053.152913  145017.937533  203435.067663  2.265604e+06  "
      ]
     },
     "execution_count": 2,
     "metadata": {},
     "output_type": "execute_result"
    }
   ],
   "source": [
    "debtors_database.describe().T"
   ]
  },
  {
   "cell_type": "markdown",
   "id": "84f4ba9e",
   "metadata": {},
   "source": [
    "С помощью функции describe() обнаружили некоторые особенности в наборе данных:\n",
    "- в параметрах days_employed, total_income довольно много пропущенных значений (примерно 10% от общего количества), об этом \"говорит\" столбец count;\n",
    "- в параметрах days_employed, dob_years, total_income очень большие отклонения от средних значениях, об этом \"говорит\" столбец std, этот факт свидетельствует о том, что в данных параметрах очень большой разброс данных, соответственно, средние значения данных параметров не стоит учитывать при анализе данных\n",
    "- в параметрах children, days_employed очевидно есть некорретные значения, так как минимальные значения параметров - отрицательные (-1 ребёнок и -18 тыс. дней стажа), чего быть не может, а максимальные значения - очень высокие (20 детей и более 400 тыс. дней стажа(~ 1000 лет))"
   ]
  },
  {
   "cell_type": "markdown",
   "id": "2795009f",
   "metadata": {},
   "source": [
    "### Обработка данных\n",
    "#### - заполнение пропусков"
   ]
  },
  {
   "cell_type": "code",
   "execution_count": 3,
   "id": "f863d4ca",
   "metadata": {},
   "outputs": [
    {
     "data": {
      "text/plain": [
       "'Доля пропущенных значений в столбце \"days_employed\" составляет 10.10%'"
      ]
     },
     "metadata": {},
     "output_type": "display_data"
    },
    {
     "data": {
      "text/plain": [
       "'Доля пропущенных значений в столбце \"total_income\" составляет 10.10%'"
      ]
     },
     "metadata": {},
     "output_type": "display_data"
    }
   ],
   "source": [
    "#в прошлом шаге с помощью медода info() нашли два столбца с пропущенными знчениями, проверяем, какую \n",
    "# долю составляют пропущенные значения в каждом из столбцов с пропусками;\n",
    "days_employed_nan_part = len(debtors_database[debtors_database['days_employed'].isna()]) / len(debtors_database['days_employed'])\n",
    "display(f'Доля пропущенных значений в столбце \"days_employed\" составляет {days_employed_nan_part:.2%}')\n",
    "                             \n",
    "total_income_nan_part = len(debtors_database[debtors_database['total_income'].isna()]) / len(debtors_database['total_income'])                  \n",
    "display(f'Доля пропущенных значений в столбце \"total_income\" составляет {total_income_nan_part:.2%}')"
   ]
  },
  {
   "cell_type": "code",
   "execution_count": 4,
   "id": "b195ec88",
   "metadata": {
    "scrolled": true
   },
   "outputs": [
    {
     "data": {
      "text/html": [
       "<div>\n",
       "<style scoped>\n",
       "    .dataframe tbody tr th:only-of-type {\n",
       "        vertical-align: middle;\n",
       "    }\n",
       "\n",
       "    .dataframe tbody tr th {\n",
       "        vertical-align: top;\n",
       "    }\n",
       "\n",
       "    .dataframe thead th {\n",
       "        text-align: right;\n",
       "    }\n",
       "</style>\n",
       "<table border=\"1\" class=\"dataframe\">\n",
       "  <thead>\n",
       "    <tr style=\"text-align: right;\">\n",
       "      <th></th>\n",
       "      <th>children</th>\n",
       "      <th>days_employed</th>\n",
       "      <th>dob_years</th>\n",
       "      <th>education</th>\n",
       "      <th>education_id</th>\n",
       "      <th>family_status</th>\n",
       "      <th>family_status_id</th>\n",
       "      <th>gender</th>\n",
       "      <th>income_type</th>\n",
       "      <th>debt</th>\n",
       "      <th>total_income</th>\n",
       "      <th>purpose</th>\n",
       "    </tr>\n",
       "  </thead>\n",
       "  <tbody>\n",
       "    <tr>\n",
       "      <th>12</th>\n",
       "      <td>0</td>\n",
       "      <td>NaN</td>\n",
       "      <td>65</td>\n",
       "      <td>среднее</td>\n",
       "      <td>1</td>\n",
       "      <td>гражданский брак</td>\n",
       "      <td>1</td>\n",
       "      <td>M</td>\n",
       "      <td>пенсионер</td>\n",
       "      <td>0</td>\n",
       "      <td>NaN</td>\n",
       "      <td>сыграть свадьбу</td>\n",
       "    </tr>\n",
       "    <tr>\n",
       "      <th>26</th>\n",
       "      <td>0</td>\n",
       "      <td>NaN</td>\n",
       "      <td>41</td>\n",
       "      <td>среднее</td>\n",
       "      <td>1</td>\n",
       "      <td>женат / замужем</td>\n",
       "      <td>0</td>\n",
       "      <td>M</td>\n",
       "      <td>госслужащий</td>\n",
       "      <td>0</td>\n",
       "      <td>NaN</td>\n",
       "      <td>образование</td>\n",
       "    </tr>\n",
       "    <tr>\n",
       "      <th>29</th>\n",
       "      <td>0</td>\n",
       "      <td>NaN</td>\n",
       "      <td>63</td>\n",
       "      <td>среднее</td>\n",
       "      <td>1</td>\n",
       "      <td>Не женат / не замужем</td>\n",
       "      <td>4</td>\n",
       "      <td>F</td>\n",
       "      <td>пенсионер</td>\n",
       "      <td>0</td>\n",
       "      <td>NaN</td>\n",
       "      <td>строительство жилой недвижимости</td>\n",
       "    </tr>\n",
       "    <tr>\n",
       "      <th>41</th>\n",
       "      <td>0</td>\n",
       "      <td>NaN</td>\n",
       "      <td>50</td>\n",
       "      <td>среднее</td>\n",
       "      <td>1</td>\n",
       "      <td>женат / замужем</td>\n",
       "      <td>0</td>\n",
       "      <td>F</td>\n",
       "      <td>госслужащий</td>\n",
       "      <td>0</td>\n",
       "      <td>NaN</td>\n",
       "      <td>сделка с подержанным автомобилем</td>\n",
       "    </tr>\n",
       "    <tr>\n",
       "      <th>55</th>\n",
       "      <td>0</td>\n",
       "      <td>NaN</td>\n",
       "      <td>54</td>\n",
       "      <td>среднее</td>\n",
       "      <td>1</td>\n",
       "      <td>гражданский брак</td>\n",
       "      <td>1</td>\n",
       "      <td>F</td>\n",
       "      <td>пенсионер</td>\n",
       "      <td>1</td>\n",
       "      <td>NaN</td>\n",
       "      <td>сыграть свадьбу</td>\n",
       "    </tr>\n",
       "    <tr>\n",
       "      <th>...</th>\n",
       "      <td>...</td>\n",
       "      <td>...</td>\n",
       "      <td>...</td>\n",
       "      <td>...</td>\n",
       "      <td>...</td>\n",
       "      <td>...</td>\n",
       "      <td>...</td>\n",
       "      <td>...</td>\n",
       "      <td>...</td>\n",
       "      <td>...</td>\n",
       "      <td>...</td>\n",
       "      <td>...</td>\n",
       "    </tr>\n",
       "    <tr>\n",
       "      <th>21489</th>\n",
       "      <td>2</td>\n",
       "      <td>NaN</td>\n",
       "      <td>47</td>\n",
       "      <td>Среднее</td>\n",
       "      <td>1</td>\n",
       "      <td>женат / замужем</td>\n",
       "      <td>0</td>\n",
       "      <td>M</td>\n",
       "      <td>компаньон</td>\n",
       "      <td>0</td>\n",
       "      <td>NaN</td>\n",
       "      <td>сделка с автомобилем</td>\n",
       "    </tr>\n",
       "    <tr>\n",
       "      <th>21495</th>\n",
       "      <td>1</td>\n",
       "      <td>NaN</td>\n",
       "      <td>50</td>\n",
       "      <td>среднее</td>\n",
       "      <td>1</td>\n",
       "      <td>гражданский брак</td>\n",
       "      <td>1</td>\n",
       "      <td>F</td>\n",
       "      <td>сотрудник</td>\n",
       "      <td>0</td>\n",
       "      <td>NaN</td>\n",
       "      <td>свадьба</td>\n",
       "    </tr>\n",
       "    <tr>\n",
       "      <th>21497</th>\n",
       "      <td>0</td>\n",
       "      <td>NaN</td>\n",
       "      <td>48</td>\n",
       "      <td>ВЫСШЕЕ</td>\n",
       "      <td>0</td>\n",
       "      <td>женат / замужем</td>\n",
       "      <td>0</td>\n",
       "      <td>F</td>\n",
       "      <td>компаньон</td>\n",
       "      <td>0</td>\n",
       "      <td>NaN</td>\n",
       "      <td>строительство недвижимости</td>\n",
       "    </tr>\n",
       "    <tr>\n",
       "      <th>21502</th>\n",
       "      <td>1</td>\n",
       "      <td>NaN</td>\n",
       "      <td>42</td>\n",
       "      <td>среднее</td>\n",
       "      <td>1</td>\n",
       "      <td>женат / замужем</td>\n",
       "      <td>0</td>\n",
       "      <td>F</td>\n",
       "      <td>сотрудник</td>\n",
       "      <td>0</td>\n",
       "      <td>NaN</td>\n",
       "      <td>строительство жилой недвижимости</td>\n",
       "    </tr>\n",
       "    <tr>\n",
       "      <th>21510</th>\n",
       "      <td>2</td>\n",
       "      <td>NaN</td>\n",
       "      <td>28</td>\n",
       "      <td>среднее</td>\n",
       "      <td>1</td>\n",
       "      <td>женат / замужем</td>\n",
       "      <td>0</td>\n",
       "      <td>F</td>\n",
       "      <td>сотрудник</td>\n",
       "      <td>0</td>\n",
       "      <td>NaN</td>\n",
       "      <td>приобретение автомобиля</td>\n",
       "    </tr>\n",
       "  </tbody>\n",
       "</table>\n",
       "<p>2174 rows × 12 columns</p>\n",
       "</div>"
      ],
      "text/plain": [
       "       children  days_employed  dob_years education  education_id  \\\n",
       "12            0            NaN         65   среднее             1   \n",
       "26            0            NaN         41   среднее             1   \n",
       "29            0            NaN         63   среднее             1   \n",
       "41            0            NaN         50   среднее             1   \n",
       "55            0            NaN         54   среднее             1   \n",
       "...         ...            ...        ...       ...           ...   \n",
       "21489         2            NaN         47   Среднее             1   \n",
       "21495         1            NaN         50   среднее             1   \n",
       "21497         0            NaN         48    ВЫСШЕЕ             0   \n",
       "21502         1            NaN         42   среднее             1   \n",
       "21510         2            NaN         28   среднее             1   \n",
       "\n",
       "               family_status  family_status_id gender  income_type  debt  \\\n",
       "12          гражданский брак                 1      M    пенсионер     0   \n",
       "26           женат / замужем                 0      M  госслужащий     0   \n",
       "29     Не женат / не замужем                 4      F    пенсионер     0   \n",
       "41           женат / замужем                 0      F  госслужащий     0   \n",
       "55          гражданский брак                 1      F    пенсионер     1   \n",
       "...                      ...               ...    ...          ...   ...   \n",
       "21489        женат / замужем                 0      M    компаньон     0   \n",
       "21495       гражданский брак                 1      F    сотрудник     0   \n",
       "21497        женат / замужем                 0      F    компаньон     0   \n",
       "21502        женат / замужем                 0      F    сотрудник     0   \n",
       "21510        женат / замужем                 0      F    сотрудник     0   \n",
       "\n",
       "       total_income                           purpose  \n",
       "12              NaN                   сыграть свадьбу  \n",
       "26              NaN                       образование  \n",
       "29              NaN  строительство жилой недвижимости  \n",
       "41              NaN  сделка с подержанным автомобилем  \n",
       "55              NaN                   сыграть свадьбу  \n",
       "...             ...                               ...  \n",
       "21489           NaN              сделка с автомобилем  \n",
       "21495           NaN                           свадьба  \n",
       "21497           NaN        строительство недвижимости  \n",
       "21502           NaN  строительство жилой недвижимости  \n",
       "21510           NaN           приобретение автомобиля  \n",
       "\n",
       "[2174 rows x 12 columns]"
      ]
     },
     "metadata": {},
     "output_type": "display_data"
    },
    {
     "data": {
      "text/html": [
       "<div>\n",
       "<style scoped>\n",
       "    .dataframe tbody tr th:only-of-type {\n",
       "        vertical-align: middle;\n",
       "    }\n",
       "\n",
       "    .dataframe tbody tr th {\n",
       "        vertical-align: top;\n",
       "    }\n",
       "\n",
       "    .dataframe thead th {\n",
       "        text-align: right;\n",
       "    }\n",
       "</style>\n",
       "<table border=\"1\" class=\"dataframe\">\n",
       "  <thead>\n",
       "    <tr style=\"text-align: right;\">\n",
       "      <th></th>\n",
       "      <th>children</th>\n",
       "      <th>days_employed</th>\n",
       "      <th>dob_years</th>\n",
       "      <th>education</th>\n",
       "      <th>education_id</th>\n",
       "      <th>family_status</th>\n",
       "      <th>family_status_id</th>\n",
       "      <th>gender</th>\n",
       "      <th>income_type</th>\n",
       "      <th>debt</th>\n",
       "      <th>total_income</th>\n",
       "      <th>purpose</th>\n",
       "    </tr>\n",
       "  </thead>\n",
       "  <tbody>\n",
       "    <tr>\n",
       "      <th>12</th>\n",
       "      <td>0</td>\n",
       "      <td>NaN</td>\n",
       "      <td>65</td>\n",
       "      <td>среднее</td>\n",
       "      <td>1</td>\n",
       "      <td>гражданский брак</td>\n",
       "      <td>1</td>\n",
       "      <td>M</td>\n",
       "      <td>пенсионер</td>\n",
       "      <td>0</td>\n",
       "      <td>NaN</td>\n",
       "      <td>сыграть свадьбу</td>\n",
       "    </tr>\n",
       "    <tr>\n",
       "      <th>26</th>\n",
       "      <td>0</td>\n",
       "      <td>NaN</td>\n",
       "      <td>41</td>\n",
       "      <td>среднее</td>\n",
       "      <td>1</td>\n",
       "      <td>женат / замужем</td>\n",
       "      <td>0</td>\n",
       "      <td>M</td>\n",
       "      <td>госслужащий</td>\n",
       "      <td>0</td>\n",
       "      <td>NaN</td>\n",
       "      <td>образование</td>\n",
       "    </tr>\n",
       "    <tr>\n",
       "      <th>29</th>\n",
       "      <td>0</td>\n",
       "      <td>NaN</td>\n",
       "      <td>63</td>\n",
       "      <td>среднее</td>\n",
       "      <td>1</td>\n",
       "      <td>Не женат / не замужем</td>\n",
       "      <td>4</td>\n",
       "      <td>F</td>\n",
       "      <td>пенсионер</td>\n",
       "      <td>0</td>\n",
       "      <td>NaN</td>\n",
       "      <td>строительство жилой недвижимости</td>\n",
       "    </tr>\n",
       "    <tr>\n",
       "      <th>41</th>\n",
       "      <td>0</td>\n",
       "      <td>NaN</td>\n",
       "      <td>50</td>\n",
       "      <td>среднее</td>\n",
       "      <td>1</td>\n",
       "      <td>женат / замужем</td>\n",
       "      <td>0</td>\n",
       "      <td>F</td>\n",
       "      <td>госслужащий</td>\n",
       "      <td>0</td>\n",
       "      <td>NaN</td>\n",
       "      <td>сделка с подержанным автомобилем</td>\n",
       "    </tr>\n",
       "    <tr>\n",
       "      <th>55</th>\n",
       "      <td>0</td>\n",
       "      <td>NaN</td>\n",
       "      <td>54</td>\n",
       "      <td>среднее</td>\n",
       "      <td>1</td>\n",
       "      <td>гражданский брак</td>\n",
       "      <td>1</td>\n",
       "      <td>F</td>\n",
       "      <td>пенсионер</td>\n",
       "      <td>1</td>\n",
       "      <td>NaN</td>\n",
       "      <td>сыграть свадьбу</td>\n",
       "    </tr>\n",
       "    <tr>\n",
       "      <th>...</th>\n",
       "      <td>...</td>\n",
       "      <td>...</td>\n",
       "      <td>...</td>\n",
       "      <td>...</td>\n",
       "      <td>...</td>\n",
       "      <td>...</td>\n",
       "      <td>...</td>\n",
       "      <td>...</td>\n",
       "      <td>...</td>\n",
       "      <td>...</td>\n",
       "      <td>...</td>\n",
       "      <td>...</td>\n",
       "    </tr>\n",
       "    <tr>\n",
       "      <th>21489</th>\n",
       "      <td>2</td>\n",
       "      <td>NaN</td>\n",
       "      <td>47</td>\n",
       "      <td>Среднее</td>\n",
       "      <td>1</td>\n",
       "      <td>женат / замужем</td>\n",
       "      <td>0</td>\n",
       "      <td>M</td>\n",
       "      <td>компаньон</td>\n",
       "      <td>0</td>\n",
       "      <td>NaN</td>\n",
       "      <td>сделка с автомобилем</td>\n",
       "    </tr>\n",
       "    <tr>\n",
       "      <th>21495</th>\n",
       "      <td>1</td>\n",
       "      <td>NaN</td>\n",
       "      <td>50</td>\n",
       "      <td>среднее</td>\n",
       "      <td>1</td>\n",
       "      <td>гражданский брак</td>\n",
       "      <td>1</td>\n",
       "      <td>F</td>\n",
       "      <td>сотрудник</td>\n",
       "      <td>0</td>\n",
       "      <td>NaN</td>\n",
       "      <td>свадьба</td>\n",
       "    </tr>\n",
       "    <tr>\n",
       "      <th>21497</th>\n",
       "      <td>0</td>\n",
       "      <td>NaN</td>\n",
       "      <td>48</td>\n",
       "      <td>ВЫСШЕЕ</td>\n",
       "      <td>0</td>\n",
       "      <td>женат / замужем</td>\n",
       "      <td>0</td>\n",
       "      <td>F</td>\n",
       "      <td>компаньон</td>\n",
       "      <td>0</td>\n",
       "      <td>NaN</td>\n",
       "      <td>строительство недвижимости</td>\n",
       "    </tr>\n",
       "    <tr>\n",
       "      <th>21502</th>\n",
       "      <td>1</td>\n",
       "      <td>NaN</td>\n",
       "      <td>42</td>\n",
       "      <td>среднее</td>\n",
       "      <td>1</td>\n",
       "      <td>женат / замужем</td>\n",
       "      <td>0</td>\n",
       "      <td>F</td>\n",
       "      <td>сотрудник</td>\n",
       "      <td>0</td>\n",
       "      <td>NaN</td>\n",
       "      <td>строительство жилой недвижимости</td>\n",
       "    </tr>\n",
       "    <tr>\n",
       "      <th>21510</th>\n",
       "      <td>2</td>\n",
       "      <td>NaN</td>\n",
       "      <td>28</td>\n",
       "      <td>среднее</td>\n",
       "      <td>1</td>\n",
       "      <td>женат / замужем</td>\n",
       "      <td>0</td>\n",
       "      <td>F</td>\n",
       "      <td>сотрудник</td>\n",
       "      <td>0</td>\n",
       "      <td>NaN</td>\n",
       "      <td>приобретение автомобиля</td>\n",
       "    </tr>\n",
       "  </tbody>\n",
       "</table>\n",
       "<p>2174 rows × 12 columns</p>\n",
       "</div>"
      ],
      "text/plain": [
       "       children  days_employed  dob_years education  education_id  \\\n",
       "12            0            NaN         65   среднее             1   \n",
       "26            0            NaN         41   среднее             1   \n",
       "29            0            NaN         63   среднее             1   \n",
       "41            0            NaN         50   среднее             1   \n",
       "55            0            NaN         54   среднее             1   \n",
       "...         ...            ...        ...       ...           ...   \n",
       "21489         2            NaN         47   Среднее             1   \n",
       "21495         1            NaN         50   среднее             1   \n",
       "21497         0            NaN         48    ВЫСШЕЕ             0   \n",
       "21502         1            NaN         42   среднее             1   \n",
       "21510         2            NaN         28   среднее             1   \n",
       "\n",
       "               family_status  family_status_id gender  income_type  debt  \\\n",
       "12          гражданский брак                 1      M    пенсионер     0   \n",
       "26           женат / замужем                 0      M  госслужащий     0   \n",
       "29     Не женат / не замужем                 4      F    пенсионер     0   \n",
       "41           женат / замужем                 0      F  госслужащий     0   \n",
       "55          гражданский брак                 1      F    пенсионер     1   \n",
       "...                      ...               ...    ...          ...   ...   \n",
       "21489        женат / замужем                 0      M    компаньон     0   \n",
       "21495       гражданский брак                 1      F    сотрудник     0   \n",
       "21497        женат / замужем                 0      F    компаньон     0   \n",
       "21502        женат / замужем                 0      F    сотрудник     0   \n",
       "21510        женат / замужем                 0      F    сотрудник     0   \n",
       "\n",
       "       total_income                           purpose  \n",
       "12              NaN                   сыграть свадьбу  \n",
       "26              NaN                       образование  \n",
       "29              NaN  строительство жилой недвижимости  \n",
       "41              NaN  сделка с подержанным автомобилем  \n",
       "55              NaN                   сыграть свадьбу  \n",
       "...             ...                               ...  \n",
       "21489           NaN              сделка с автомобилем  \n",
       "21495           NaN                           свадьба  \n",
       "21497           NaN        строительство недвижимости  \n",
       "21502           NaN  строительство жилой недвижимости  \n",
       "21510           NaN           приобретение автомобиля  \n",
       "\n",
       "[2174 rows x 12 columns]"
      ]
     },
     "metadata": {},
     "output_type": "display_data"
    },
    {
     "data": {
      "text/html": [
       "<div>\n",
       "<style scoped>\n",
       "    .dataframe tbody tr th:only-of-type {\n",
       "        vertical-align: middle;\n",
       "    }\n",
       "\n",
       "    .dataframe tbody tr th {\n",
       "        vertical-align: top;\n",
       "    }\n",
       "\n",
       "    .dataframe thead th {\n",
       "        text-align: right;\n",
       "    }\n",
       "</style>\n",
       "<table border=\"1\" class=\"dataframe\">\n",
       "  <thead>\n",
       "    <tr style=\"text-align: right;\">\n",
       "      <th></th>\n",
       "      <th>children</th>\n",
       "      <th>days_employed</th>\n",
       "      <th>dob_years</th>\n",
       "      <th>education</th>\n",
       "      <th>education_id</th>\n",
       "      <th>family_status</th>\n",
       "      <th>family_status_id</th>\n",
       "      <th>gender</th>\n",
       "      <th>income_type</th>\n",
       "      <th>debt</th>\n",
       "      <th>total_income</th>\n",
       "      <th>purpose</th>\n",
       "    </tr>\n",
       "  </thead>\n",
       "  <tbody>\n",
       "    <tr>\n",
       "      <th>12</th>\n",
       "      <td>0</td>\n",
       "      <td>NaN</td>\n",
       "      <td>65</td>\n",
       "      <td>среднее</td>\n",
       "      <td>1</td>\n",
       "      <td>гражданский брак</td>\n",
       "      <td>1</td>\n",
       "      <td>M</td>\n",
       "      <td>пенсионер</td>\n",
       "      <td>0</td>\n",
       "      <td>NaN</td>\n",
       "      <td>сыграть свадьбу</td>\n",
       "    </tr>\n",
       "    <tr>\n",
       "      <th>26</th>\n",
       "      <td>0</td>\n",
       "      <td>NaN</td>\n",
       "      <td>41</td>\n",
       "      <td>среднее</td>\n",
       "      <td>1</td>\n",
       "      <td>женат / замужем</td>\n",
       "      <td>0</td>\n",
       "      <td>M</td>\n",
       "      <td>госслужащий</td>\n",
       "      <td>0</td>\n",
       "      <td>NaN</td>\n",
       "      <td>образование</td>\n",
       "    </tr>\n",
       "    <tr>\n",
       "      <th>29</th>\n",
       "      <td>0</td>\n",
       "      <td>NaN</td>\n",
       "      <td>63</td>\n",
       "      <td>среднее</td>\n",
       "      <td>1</td>\n",
       "      <td>Не женат / не замужем</td>\n",
       "      <td>4</td>\n",
       "      <td>F</td>\n",
       "      <td>пенсионер</td>\n",
       "      <td>0</td>\n",
       "      <td>NaN</td>\n",
       "      <td>строительство жилой недвижимости</td>\n",
       "    </tr>\n",
       "    <tr>\n",
       "      <th>41</th>\n",
       "      <td>0</td>\n",
       "      <td>NaN</td>\n",
       "      <td>50</td>\n",
       "      <td>среднее</td>\n",
       "      <td>1</td>\n",
       "      <td>женат / замужем</td>\n",
       "      <td>0</td>\n",
       "      <td>F</td>\n",
       "      <td>госслужащий</td>\n",
       "      <td>0</td>\n",
       "      <td>NaN</td>\n",
       "      <td>сделка с подержанным автомобилем</td>\n",
       "    </tr>\n",
       "    <tr>\n",
       "      <th>55</th>\n",
       "      <td>0</td>\n",
       "      <td>NaN</td>\n",
       "      <td>54</td>\n",
       "      <td>среднее</td>\n",
       "      <td>1</td>\n",
       "      <td>гражданский брак</td>\n",
       "      <td>1</td>\n",
       "      <td>F</td>\n",
       "      <td>пенсионер</td>\n",
       "      <td>1</td>\n",
       "      <td>NaN</td>\n",
       "      <td>сыграть свадьбу</td>\n",
       "    </tr>\n",
       "    <tr>\n",
       "      <th>65</th>\n",
       "      <td>0</td>\n",
       "      <td>NaN</td>\n",
       "      <td>21</td>\n",
       "      <td>среднее</td>\n",
       "      <td>1</td>\n",
       "      <td>Не женат / не замужем</td>\n",
       "      <td>4</td>\n",
       "      <td>M</td>\n",
       "      <td>компаньон</td>\n",
       "      <td>0</td>\n",
       "      <td>NaN</td>\n",
       "      <td>операции с коммерческой недвижимостью</td>\n",
       "    </tr>\n",
       "    <tr>\n",
       "      <th>67</th>\n",
       "      <td>0</td>\n",
       "      <td>NaN</td>\n",
       "      <td>52</td>\n",
       "      <td>высшее</td>\n",
       "      <td>0</td>\n",
       "      <td>женат / замужем</td>\n",
       "      <td>0</td>\n",
       "      <td>F</td>\n",
       "      <td>пенсионер</td>\n",
       "      <td>0</td>\n",
       "      <td>NaN</td>\n",
       "      <td>покупка жилья для семьи</td>\n",
       "    </tr>\n",
       "    <tr>\n",
       "      <th>72</th>\n",
       "      <td>1</td>\n",
       "      <td>NaN</td>\n",
       "      <td>32</td>\n",
       "      <td>высшее</td>\n",
       "      <td>0</td>\n",
       "      <td>женат / замужем</td>\n",
       "      <td>0</td>\n",
       "      <td>M</td>\n",
       "      <td>госслужащий</td>\n",
       "      <td>0</td>\n",
       "      <td>NaN</td>\n",
       "      <td>операции с коммерческой недвижимостью</td>\n",
       "    </tr>\n",
       "    <tr>\n",
       "      <th>82</th>\n",
       "      <td>2</td>\n",
       "      <td>NaN</td>\n",
       "      <td>50</td>\n",
       "      <td>высшее</td>\n",
       "      <td>0</td>\n",
       "      <td>женат / замужем</td>\n",
       "      <td>0</td>\n",
       "      <td>F</td>\n",
       "      <td>сотрудник</td>\n",
       "      <td>0</td>\n",
       "      <td>NaN</td>\n",
       "      <td>жилье</td>\n",
       "    </tr>\n",
       "    <tr>\n",
       "      <th>83</th>\n",
       "      <td>0</td>\n",
       "      <td>NaN</td>\n",
       "      <td>52</td>\n",
       "      <td>среднее</td>\n",
       "      <td>1</td>\n",
       "      <td>женат / замужем</td>\n",
       "      <td>0</td>\n",
       "      <td>M</td>\n",
       "      <td>сотрудник</td>\n",
       "      <td>0</td>\n",
       "      <td>NaN</td>\n",
       "      <td>жилье</td>\n",
       "    </tr>\n",
       "  </tbody>\n",
       "</table>\n",
       "</div>"
      ],
      "text/plain": [
       "    children  days_employed  dob_years education  education_id  \\\n",
       "12         0            NaN         65   среднее             1   \n",
       "26         0            NaN         41   среднее             1   \n",
       "29         0            NaN         63   среднее             1   \n",
       "41         0            NaN         50   среднее             1   \n",
       "55         0            NaN         54   среднее             1   \n",
       "65         0            NaN         21   среднее             1   \n",
       "67         0            NaN         52    высшее             0   \n",
       "72         1            NaN         32    высшее             0   \n",
       "82         2            NaN         50    высшее             0   \n",
       "83         0            NaN         52   среднее             1   \n",
       "\n",
       "            family_status  family_status_id gender  income_type  debt  \\\n",
       "12       гражданский брак                 1      M    пенсионер     0   \n",
       "26        женат / замужем                 0      M  госслужащий     0   \n",
       "29  Не женат / не замужем                 4      F    пенсионер     0   \n",
       "41        женат / замужем                 0      F  госслужащий     0   \n",
       "55       гражданский брак                 1      F    пенсионер     1   \n",
       "65  Не женат / не замужем                 4      M    компаньон     0   \n",
       "67        женат / замужем                 0      F    пенсионер     0   \n",
       "72        женат / замужем                 0      M  госслужащий     0   \n",
       "82        женат / замужем                 0      F    сотрудник     0   \n",
       "83        женат / замужем                 0      M    сотрудник     0   \n",
       "\n",
       "    total_income                                purpose  \n",
       "12           NaN                        сыграть свадьбу  \n",
       "26           NaN                            образование  \n",
       "29           NaN       строительство жилой недвижимости  \n",
       "41           NaN       сделка с подержанным автомобилем  \n",
       "55           NaN                        сыграть свадьбу  \n",
       "65           NaN  операции с коммерческой недвижимостью  \n",
       "67           NaN                покупка жилья для семьи  \n",
       "72           NaN  операции с коммерческой недвижимостью  \n",
       "82           NaN                                  жилье  \n",
       "83           NaN                                  жилье  "
      ]
     },
     "execution_count": 4,
     "metadata": {},
     "output_type": "execute_result"
    }
   ],
   "source": [
    "#проверяем есть ли взаимосвязь между пропусками в в данных столбцах\n",
    "display(debtors_database[(debtors_database['days_employed'].isna()) & (debtors_database['total_income'].isna())])\n",
    "display(debtors_database[debtors_database['days_employed'].isna()])\n",
    "debtors_database[debtors_database['total_income'].isna()].head(10)"
   ]
  },
  {
   "cell_type": "code",
   "execution_count": 5,
   "id": "ca9462f4",
   "metadata": {
    "scrolled": true
   },
   "outputs": [],
   "source": [
    "#заполняем пропуски медианными значениями в столбце total income\n",
    "debtors_database['total_income'] = debtors_database['total_income'].fillna(debtors_database['total_income'].median())"
   ]
  },
  {
   "cell_type": "markdown",
   "id": "91ad0981",
   "metadata": {},
   "source": [
    "В двух столбцах ('days_employed' и 'total_income') были обнаружены пропущенные значения.\n",
    "Пропущенные значения в каждом из столбцов с пропусками составляют почти 10% всех данных.\n",
    "Причиной появления пропусков в данных может быть отсутствие информации о работе данных заёмщиков в принципе, так как у одних и тех же заёмщиков отсутствует информация как о количестве отработанных дней, так и об общем доходе.\n",
    "\n",
    "Попробуем восстановить пропуски ориентируясь на характеристик заемщиков - возвраст, образование и т.п. Изучив данные в столбцах с помощью describe() и value_counts(), обнаружили, что у 10 человек возраст равен нулю, поскольку для такого количества данных 10 человек - относительно немного, избавимся от этих строк.\n",
    "\n",
    "Также придадим более адекватный вид данным по количеству отработанных дней, так как у большинства заёмщиков в выборке стаж составлял порядка 400 тыс. дней, т.е.более 1000 лет, скорее всего, данные были не по количеству дней, а по количеству отработанных часов, поэтому разделим данные в столбце 'days_employed' на 24 часа. \n",
    "\n",
    "Далее разделим всех заёмщиков по возрастным группам и типу занятости, сразу избавимся от минусовых значений, чтобы в дальнейшем медианные значения для заполнения пропусков были более корректными. Предположим, что минус в данном случае возник случайно, умножим отрицательные данные в столбце 'days_employed' на -1.\n",
    "    \n",
    "Для того, чтобы оценить взаимосвязь между стажем работы и такими характеристиками, как возраст, образование и тип занятости, оформим сводную таблицу медианных значений стажа с помощью методов groupby() и agg().\n",
    "    \n",
    "Далее напишем функцию для заполнения столбца 'days_employed' медианными значениями, ориентируясь на возраст образование и тип занятости заёмщиков."
   ]
  },
  {
   "cell_type": "code",
   "execution_count": 6,
   "id": "3b0ac53f",
   "metadata": {},
   "outputs": [
    {
     "data": {
      "text/plain": [
       "сотрудник          11064\n",
       "компаньон           5065\n",
       "пенсионер           3836\n",
       "госслужащий         1453\n",
       "безработный            2\n",
       "предприниматель        2\n",
       "студент                1\n",
       "в декрете              1\n",
       "Name: income_type, dtype: int64"
      ]
     },
     "execution_count": 6,
     "metadata": {},
     "output_type": "execute_result"
    }
   ],
   "source": [
    "debtors_database = debtors_database[debtors_database['dob_years']!=0]\n",
    "debtors_database['days_employed'] = debtors_database['days_employed']/24\n",
    "debtors_database['income_type'].value_counts()"
   ]
  },
  {
   "cell_type": "code",
   "execution_count": 7,
   "id": "710340fe",
   "metadata": {},
   "outputs": [],
   "source": [
    "def age_group(age):\n",
    "    if age <= 33:\n",
    "        return 'молодые люди'\n",
    "    elif age <= 60:\n",
    "        return 'люди среднего возраста'\n",
    "    else:\n",
    "        return 'люди пожилого возраста' \n",
    "debtors_database['age_group'] = debtors_database['dob_years'].apply(age_group)\n",
    "\n",
    "def income_group(income_type):\n",
    "    if income_type == 'сотрудник' or income_type == 'госслужащий':\n",
    "        return 'наёмные работники'\n",
    "    if income_type == 'компаньон' or income_type == 'предприниматель':\n",
    "        return 'самозанятые'\n",
    "    else:\n",
    "        return 'на иждивении у государства'\n",
    "debtors_database['income_group'] = debtors_database['income_type'].apply(income_group)"
   ]
  },
  {
   "cell_type": "code",
   "execution_count": 8,
   "id": "5ec272f6",
   "metadata": {},
   "outputs": [],
   "source": [
    "def avoiding_negative_numbers (row):\n",
    "    days_employed = row['days_employed']    \n",
    "    if days_employed < 0:\n",
    "        return row['days_employed']*(-1)\n",
    "    else:\n",
    "        return row['days_employed']   \n",
    "\n",
    "debtors_database['days_employed'] = debtors_database.apply(avoiding_negative_numbers, axis=1)"
   ]
  },
  {
   "cell_type": "code",
   "execution_count": 9,
   "id": "c083ea63",
   "metadata": {},
   "outputs": [
    {
     "data": {
      "text/html": [
       "<div>\n",
       "<style scoped>\n",
       "    .dataframe tbody tr th:only-of-type {\n",
       "        vertical-align: middle;\n",
       "    }\n",
       "\n",
       "    .dataframe tbody tr th {\n",
       "        vertical-align: top;\n",
       "    }\n",
       "\n",
       "    .dataframe thead th {\n",
       "        text-align: right;\n",
       "    }\n",
       "</style>\n",
       "<table border=\"1\" class=\"dataframe\">\n",
       "  <thead>\n",
       "    <tr style=\"text-align: right;\">\n",
       "      <th></th>\n",
       "      <th></th>\n",
       "      <th></th>\n",
       "      <th>days_employed</th>\n",
       "    </tr>\n",
       "    <tr>\n",
       "      <th>age_group</th>\n",
       "      <th>income_group</th>\n",
       "      <th>education_id</th>\n",
       "      <th></th>\n",
       "    </tr>\n",
       "  </thead>\n",
       "  <tbody>\n",
       "    <tr>\n",
       "      <th>молодые люди</th>\n",
       "      <th>самозанятые</th>\n",
       "      <th>2</th>\n",
       "      <td>35.202564</td>\n",
       "    </tr>\n",
       "    <tr>\n",
       "      <th>люди пожилого возраста</th>\n",
       "      <th>самозанятые</th>\n",
       "      <th>2</th>\n",
       "      <td>38.639000</td>\n",
       "    </tr>\n",
       "    <tr>\n",
       "      <th rowspan=\"5\" valign=\"top\">молодые люди</th>\n",
       "      <th>наёмные работники</th>\n",
       "      <th>2</th>\n",
       "      <td>40.319845</td>\n",
       "    </tr>\n",
       "    <tr>\n",
       "      <th rowspan=\"3\" valign=\"top\">самозанятые</th>\n",
       "      <th>3</th>\n",
       "      <td>42.925819</td>\n",
       "    </tr>\n",
       "    <tr>\n",
       "      <th>0</th>\n",
       "      <td>43.492410</td>\n",
       "    </tr>\n",
       "    <tr>\n",
       "      <th>1</th>\n",
       "      <td>46.220826</td>\n",
       "    </tr>\n",
       "    <tr>\n",
       "      <th>наёмные работники</th>\n",
       "      <th>3</th>\n",
       "      <td>46.503905</td>\n",
       "    </tr>\n",
       "    <tr>\n",
       "      <th>люди среднего возраста</th>\n",
       "      <th>наёмные работники</th>\n",
       "      <th>3</th>\n",
       "      <td>46.848294</td>\n",
       "    </tr>\n",
       "    <tr>\n",
       "      <th rowspan=\"2\" valign=\"top\">молодые люди</th>\n",
       "      <th rowspan=\"2\" valign=\"top\">наёмные работники</th>\n",
       "      <th>1</th>\n",
       "      <td>49.133443</td>\n",
       "    </tr>\n",
       "    <tr>\n",
       "      <th>0</th>\n",
       "      <td>50.308020</td>\n",
       "    </tr>\n",
       "    <tr>\n",
       "      <th rowspan=\"7\" valign=\"top\">люди среднего возраста</th>\n",
       "      <th rowspan=\"2\" valign=\"top\">самозанятые</th>\n",
       "      <th>3</th>\n",
       "      <td>52.068321</td>\n",
       "    </tr>\n",
       "    <tr>\n",
       "      <th>2</th>\n",
       "      <td>64.752646</td>\n",
       "    </tr>\n",
       "    <tr>\n",
       "      <th>наёмные работники</th>\n",
       "      <th>2</th>\n",
       "      <td>66.350368</td>\n",
       "    </tr>\n",
       "    <tr>\n",
       "      <th rowspan=\"2\" valign=\"top\">самозанятые</th>\n",
       "      <th>0</th>\n",
       "      <td>74.340443</td>\n",
       "    </tr>\n",
       "    <tr>\n",
       "      <th>1</th>\n",
       "      <td>79.762798</td>\n",
       "    </tr>\n",
       "    <tr>\n",
       "      <th rowspan=\"2\" valign=\"top\">наёмные работники</th>\n",
       "      <th>1</th>\n",
       "      <td>84.281271</td>\n",
       "    </tr>\n",
       "    <tr>\n",
       "      <th>0</th>\n",
       "      <td>93.032761</td>\n",
       "    </tr>\n",
       "    <tr>\n",
       "      <th rowspan=\"5\" valign=\"top\">люди пожилого возраста</th>\n",
       "      <th>самозанятые</th>\n",
       "      <th>1</th>\n",
       "      <td>98.270213</td>\n",
       "    </tr>\n",
       "    <tr>\n",
       "      <th>наёмные работники</th>\n",
       "      <th>1</th>\n",
       "      <td>100.538193</td>\n",
       "    </tr>\n",
       "    <tr>\n",
       "      <th>самозанятые</th>\n",
       "      <th>0</th>\n",
       "      <td>107.338342</td>\n",
       "    </tr>\n",
       "    <tr>\n",
       "      <th rowspan=\"2\" valign=\"top\">наёмные работники</th>\n",
       "      <th>0</th>\n",
       "      <td>135.393031</td>\n",
       "    </tr>\n",
       "    <tr>\n",
       "      <th>2</th>\n",
       "      <td>147.992841</td>\n",
       "    </tr>\n",
       "    <tr>\n",
       "      <th>люди среднего возраста</th>\n",
       "      <th>наёмные работники</th>\n",
       "      <th>4</th>\n",
       "      <td>160.488961</td>\n",
       "    </tr>\n",
       "    <tr>\n",
       "      <th>люди пожилого возраста</th>\n",
       "      <th>наёмные работники</th>\n",
       "      <th>3</th>\n",
       "      <td>168.889982</td>\n",
       "    </tr>\n",
       "    <tr>\n",
       "      <th rowspan=\"2\" valign=\"top\">молодые люди</th>\n",
       "      <th rowspan=\"2\" valign=\"top\">на иждивении у государства</th>\n",
       "      <th>0</th>\n",
       "      <td>8124.498315</td>\n",
       "    </tr>\n",
       "    <tr>\n",
       "      <th>1</th>\n",
       "      <td>14330.525564</td>\n",
       "    </tr>\n",
       "    <tr>\n",
       "      <th>люди пожилого возраста</th>\n",
       "      <th>на иждивении у государства</th>\n",
       "      <th>4</th>\n",
       "      <td>14872.104898</td>\n",
       "    </tr>\n",
       "    <tr>\n",
       "      <th>люди среднего возраста</th>\n",
       "      <th>на иждивении у государства</th>\n",
       "      <th>3</th>\n",
       "      <td>14883.453818</td>\n",
       "    </tr>\n",
       "    <tr>\n",
       "      <th>люди пожилого возраста</th>\n",
       "      <th>на иждивении у государства</th>\n",
       "      <th>3</th>\n",
       "      <td>15095.102200</td>\n",
       "    </tr>\n",
       "    <tr>\n",
       "      <th rowspan=\"2\" valign=\"top\">люди среднего возраста</th>\n",
       "      <th rowspan=\"2\" valign=\"top\">на иждивении у государства</th>\n",
       "      <th>1</th>\n",
       "      <td>15204.190664</td>\n",
       "    </tr>\n",
       "    <tr>\n",
       "      <th>0</th>\n",
       "      <td>15209.049986</td>\n",
       "    </tr>\n",
       "    <tr>\n",
       "      <th rowspan=\"3\" valign=\"top\">люди пожилого возраста</th>\n",
       "      <th rowspan=\"3\" valign=\"top\">на иждивении у государства</th>\n",
       "      <th>1</th>\n",
       "      <td>15220.275944</td>\n",
       "    </tr>\n",
       "    <tr>\n",
       "      <th>2</th>\n",
       "      <td>15276.174641</td>\n",
       "    </tr>\n",
       "    <tr>\n",
       "      <th>0</th>\n",
       "      <td>15327.408606</td>\n",
       "    </tr>\n",
       "    <tr>\n",
       "      <th>люди среднего возраста</th>\n",
       "      <th>на иждивении у государства</th>\n",
       "      <th>2</th>\n",
       "      <td>15510.437569</td>\n",
       "    </tr>\n",
       "  </tbody>\n",
       "</table>\n",
       "</div>"
      ],
      "text/plain": [
       "                                                                days_employed\n",
       "age_group              income_group               education_id               \n",
       "молодые люди           самозанятые                2                 35.202564\n",
       "люди пожилого возраста самозанятые                2                 38.639000\n",
       "молодые люди           наёмные работники          2                 40.319845\n",
       "                       самозанятые                3                 42.925819\n",
       "                                                  0                 43.492410\n",
       "                                                  1                 46.220826\n",
       "                       наёмные работники          3                 46.503905\n",
       "люди среднего возраста наёмные работники          3                 46.848294\n",
       "молодые люди           наёмные работники          1                 49.133443\n",
       "                                                  0                 50.308020\n",
       "люди среднего возраста самозанятые                3                 52.068321\n",
       "                                                  2                 64.752646\n",
       "                       наёмные работники          2                 66.350368\n",
       "                       самозанятые                0                 74.340443\n",
       "                                                  1                 79.762798\n",
       "                       наёмные работники          1                 84.281271\n",
       "                                                  0                 93.032761\n",
       "люди пожилого возраста самозанятые                1                 98.270213\n",
       "                       наёмные работники          1                100.538193\n",
       "                       самозанятые                0                107.338342\n",
       "                       наёмные работники          0                135.393031\n",
       "                                                  2                147.992841\n",
       "люди среднего возраста наёмные работники          4                160.488961\n",
       "люди пожилого возраста наёмные работники          3                168.889982\n",
       "молодые люди           на иждивении у государства 0               8124.498315\n",
       "                                                  1              14330.525564\n",
       "люди пожилого возраста на иждивении у государства 4              14872.104898\n",
       "люди среднего возраста на иждивении у государства 3              14883.453818\n",
       "люди пожилого возраста на иждивении у государства 3              15095.102200\n",
       "люди среднего возраста на иждивении у государства 1              15204.190664\n",
       "                                                  0              15209.049986\n",
       "люди пожилого возраста на иждивении у государства 1              15220.275944\n",
       "                                                  2              15276.174641\n",
       "                                                  0              15327.408606\n",
       "люди среднего возраста на иждивении у государства 2              15510.437569"
      ]
     },
     "execution_count": 9,
     "metadata": {},
     "output_type": "execute_result"
    }
   ],
   "source": [
    "(\n",
    "    debtors_database.groupby(['age_group','income_group','education_id'])\n",
    "    .agg({'days_employed':'median'}).sort_values(by='days_employed')\n",
    ")"
   ]
  },
  {
   "cell_type": "code",
   "execution_count": 10,
   "id": "ba41538f",
   "metadata": {},
   "outputs": [],
   "source": [
    "median_dependents_experience = (\n",
    "    debtors_database[debtors_database['income_group']=='на иждивении у государства']['days_employed']\n",
    "    .median()\n",
    ")\n",
    "median_employees_eldest_experience = (\n",
    "    debtors_database[(\n",
    "        debtors_database['income_group']=='наёмные работники') & (\n",
    "        debtors_database['age_group']!='молодые люди')]['days_employed']\n",
    "    .median()\n",
    ")\n",
    "median_lower_educated_experience = (\n",
    "    debtors_database[(debtors_database['income_group']!='на иждивении у государства') & (\n",
    "        debtors_database['education_id']!=4)]['days_employed']\n",
    "    .median()\n",
    ")"
   ]
  },
  {
   "cell_type": "code",
   "execution_count": 11,
   "id": "58413980",
   "metadata": {},
   "outputs": [],
   "source": [
    "def median_days_employed(row):\n",
    "    income_group = row['income_group']\n",
    "    age_group = row['age_group']\n",
    "    education_id = row['education_id']\n",
    "    days_employed = row['days_employed']\n",
    "    if income_group=='на иждивении у государства':\n",
    "        return median_dependents_experience\n",
    "    elif income_group=='наёмные работники' and age_group!='молодые люди': \n",
    "        return median_employees_eldest_experience\n",
    "    elif income_group!='на иждивении у государства' and education_id!=4:\n",
    "        return median_lower_educated_experience\n",
    "    else:\n",
    "        return row['days_employed']"
   ]
  },
  {
   "cell_type": "code",
   "execution_count": 12,
   "id": "bd54b7d4",
   "metadata": {},
   "outputs": [],
   "source": [
    "debtors_database['days_employed'] = debtors_database.apply(median_days_employed, axis=1)\n"
   ]
  },
  {
   "cell_type": "code",
   "execution_count": 13,
   "id": "c799cf97",
   "metadata": {},
   "outputs": [
    {
     "data": {
      "text/html": [
       "<div>\n",
       "<style scoped>\n",
       "    .dataframe tbody tr th:only-of-type {\n",
       "        vertical-align: middle;\n",
       "    }\n",
       "\n",
       "    .dataframe tbody tr th {\n",
       "        vertical-align: top;\n",
       "    }\n",
       "\n",
       "    .dataframe thead th {\n",
       "        text-align: right;\n",
       "    }\n",
       "</style>\n",
       "<table border=\"1\" class=\"dataframe\">\n",
       "  <thead>\n",
       "    <tr style=\"text-align: right;\">\n",
       "      <th></th>\n",
       "      <th>children</th>\n",
       "      <th>days_employed</th>\n",
       "      <th>dob_years</th>\n",
       "      <th>education</th>\n",
       "      <th>education_id</th>\n",
       "      <th>family_status</th>\n",
       "      <th>family_status_id</th>\n",
       "      <th>gender</th>\n",
       "      <th>income_type</th>\n",
       "      <th>debt</th>\n",
       "      <th>total_income</th>\n",
       "      <th>purpose</th>\n",
       "      <th>age_group</th>\n",
       "      <th>income_group</th>\n",
       "    </tr>\n",
       "  </thead>\n",
       "  <tbody>\n",
       "    <tr>\n",
       "      <th>0</th>\n",
       "      <td>1</td>\n",
       "      <td>86.272344</td>\n",
       "      <td>42</td>\n",
       "      <td>высшее</td>\n",
       "      <td>0</td>\n",
       "      <td>женат / замужем</td>\n",
       "      <td>0</td>\n",
       "      <td>F</td>\n",
       "      <td>сотрудник</td>\n",
       "      <td>0</td>\n",
       "      <td>253875.639453</td>\n",
       "      <td>покупка жилья</td>\n",
       "      <td>люди среднего возраста</td>\n",
       "      <td>наёмные работники</td>\n",
       "    </tr>\n",
       "    <tr>\n",
       "      <th>1</th>\n",
       "      <td>1</td>\n",
       "      <td>86.272344</td>\n",
       "      <td>36</td>\n",
       "      <td>среднее</td>\n",
       "      <td>1</td>\n",
       "      <td>женат / замужем</td>\n",
       "      <td>0</td>\n",
       "      <td>F</td>\n",
       "      <td>сотрудник</td>\n",
       "      <td>0</td>\n",
       "      <td>112080.014102</td>\n",
       "      <td>приобретение автомобиля</td>\n",
       "      <td>люди среднего возраста</td>\n",
       "      <td>наёмные работники</td>\n",
       "    </tr>\n",
       "    <tr>\n",
       "      <th>2</th>\n",
       "      <td>0</td>\n",
       "      <td>67.933106</td>\n",
       "      <td>33</td>\n",
       "      <td>Среднее</td>\n",
       "      <td>1</td>\n",
       "      <td>женат / замужем</td>\n",
       "      <td>0</td>\n",
       "      <td>M</td>\n",
       "      <td>сотрудник</td>\n",
       "      <td>0</td>\n",
       "      <td>145885.952297</td>\n",
       "      <td>покупка жилья</td>\n",
       "      <td>молодые люди</td>\n",
       "      <td>наёмные работники</td>\n",
       "    </tr>\n",
       "    <tr>\n",
       "      <th>3</th>\n",
       "      <td>3</td>\n",
       "      <td>67.933106</td>\n",
       "      <td>32</td>\n",
       "      <td>среднее</td>\n",
       "      <td>1</td>\n",
       "      <td>женат / замужем</td>\n",
       "      <td>0</td>\n",
       "      <td>M</td>\n",
       "      <td>сотрудник</td>\n",
       "      <td>0</td>\n",
       "      <td>267628.550329</td>\n",
       "      <td>дополнительное образование</td>\n",
       "      <td>молодые люди</td>\n",
       "      <td>наёмные работники</td>\n",
       "    </tr>\n",
       "    <tr>\n",
       "      <th>4</th>\n",
       "      <td>0</td>\n",
       "      <td>15213.167609</td>\n",
       "      <td>53</td>\n",
       "      <td>среднее</td>\n",
       "      <td>1</td>\n",
       "      <td>гражданский брак</td>\n",
       "      <td>1</td>\n",
       "      <td>F</td>\n",
       "      <td>пенсионер</td>\n",
       "      <td>0</td>\n",
       "      <td>158616.077870</td>\n",
       "      <td>сыграть свадьбу</td>\n",
       "      <td>люди среднего возраста</td>\n",
       "      <td>на иждивении у государства</td>\n",
       "    </tr>\n",
       "    <tr>\n",
       "      <th>5</th>\n",
       "      <td>0</td>\n",
       "      <td>67.933106</td>\n",
       "      <td>27</td>\n",
       "      <td>высшее</td>\n",
       "      <td>0</td>\n",
       "      <td>гражданский брак</td>\n",
       "      <td>1</td>\n",
       "      <td>M</td>\n",
       "      <td>компаньон</td>\n",
       "      <td>0</td>\n",
       "      <td>255763.565419</td>\n",
       "      <td>покупка жилья</td>\n",
       "      <td>молодые люди</td>\n",
       "      <td>самозанятые</td>\n",
       "    </tr>\n",
       "    <tr>\n",
       "      <th>6</th>\n",
       "      <td>0</td>\n",
       "      <td>67.933106</td>\n",
       "      <td>43</td>\n",
       "      <td>высшее</td>\n",
       "      <td>0</td>\n",
       "      <td>женат / замужем</td>\n",
       "      <td>0</td>\n",
       "      <td>F</td>\n",
       "      <td>компаньон</td>\n",
       "      <td>0</td>\n",
       "      <td>240525.971920</td>\n",
       "      <td>операции с жильем</td>\n",
       "      <td>люди среднего возраста</td>\n",
       "      <td>самозанятые</td>\n",
       "    </tr>\n",
       "    <tr>\n",
       "      <th>7</th>\n",
       "      <td>0</td>\n",
       "      <td>86.272344</td>\n",
       "      <td>50</td>\n",
       "      <td>СРЕДНЕЕ</td>\n",
       "      <td>1</td>\n",
       "      <td>женат / замужем</td>\n",
       "      <td>0</td>\n",
       "      <td>M</td>\n",
       "      <td>сотрудник</td>\n",
       "      <td>0</td>\n",
       "      <td>135823.934197</td>\n",
       "      <td>образование</td>\n",
       "      <td>люди среднего возраста</td>\n",
       "      <td>наёмные работники</td>\n",
       "    </tr>\n",
       "    <tr>\n",
       "      <th>8</th>\n",
       "      <td>2</td>\n",
       "      <td>86.272344</td>\n",
       "      <td>35</td>\n",
       "      <td>ВЫСШЕЕ</td>\n",
       "      <td>0</td>\n",
       "      <td>гражданский брак</td>\n",
       "      <td>1</td>\n",
       "      <td>F</td>\n",
       "      <td>сотрудник</td>\n",
       "      <td>0</td>\n",
       "      <td>95856.832424</td>\n",
       "      <td>на проведение свадьбы</td>\n",
       "      <td>люди среднего возраста</td>\n",
       "      <td>наёмные работники</td>\n",
       "    </tr>\n",
       "    <tr>\n",
       "      <th>9</th>\n",
       "      <td>0</td>\n",
       "      <td>86.272344</td>\n",
       "      <td>41</td>\n",
       "      <td>среднее</td>\n",
       "      <td>1</td>\n",
       "      <td>женат / замужем</td>\n",
       "      <td>0</td>\n",
       "      <td>M</td>\n",
       "      <td>сотрудник</td>\n",
       "      <td>0</td>\n",
       "      <td>144425.938277</td>\n",
       "      <td>покупка жилья для семьи</td>\n",
       "      <td>люди среднего возраста</td>\n",
       "      <td>наёмные работники</td>\n",
       "    </tr>\n",
       "    <tr>\n",
       "      <th>10</th>\n",
       "      <td>2</td>\n",
       "      <td>67.933106</td>\n",
       "      <td>36</td>\n",
       "      <td>высшее</td>\n",
       "      <td>0</td>\n",
       "      <td>женат / замужем</td>\n",
       "      <td>0</td>\n",
       "      <td>M</td>\n",
       "      <td>компаньон</td>\n",
       "      <td>0</td>\n",
       "      <td>113943.491460</td>\n",
       "      <td>покупка недвижимости</td>\n",
       "      <td>люди среднего возраста</td>\n",
       "      <td>самозанятые</td>\n",
       "    </tr>\n",
       "    <tr>\n",
       "      <th>11</th>\n",
       "      <td>0</td>\n",
       "      <td>86.272344</td>\n",
       "      <td>40</td>\n",
       "      <td>среднее</td>\n",
       "      <td>1</td>\n",
       "      <td>женат / замужем</td>\n",
       "      <td>0</td>\n",
       "      <td>F</td>\n",
       "      <td>сотрудник</td>\n",
       "      <td>0</td>\n",
       "      <td>77069.234271</td>\n",
       "      <td>покупка коммерческой недвижимости</td>\n",
       "      <td>люди среднего возраста</td>\n",
       "      <td>наёмные работники</td>\n",
       "    </tr>\n",
       "    <tr>\n",
       "      <th>12</th>\n",
       "      <td>0</td>\n",
       "      <td>15213.167609</td>\n",
       "      <td>65</td>\n",
       "      <td>среднее</td>\n",
       "      <td>1</td>\n",
       "      <td>гражданский брак</td>\n",
       "      <td>1</td>\n",
       "      <td>M</td>\n",
       "      <td>пенсионер</td>\n",
       "      <td>0</td>\n",
       "      <td>145017.937533</td>\n",
       "      <td>сыграть свадьбу</td>\n",
       "      <td>люди пожилого возраста</td>\n",
       "      <td>на иждивении у государства</td>\n",
       "    </tr>\n",
       "    <tr>\n",
       "      <th>13</th>\n",
       "      <td>0</td>\n",
       "      <td>86.272344</td>\n",
       "      <td>54</td>\n",
       "      <td>неоконченное высшее</td>\n",
       "      <td>2</td>\n",
       "      <td>женат / замужем</td>\n",
       "      <td>0</td>\n",
       "      <td>F</td>\n",
       "      <td>сотрудник</td>\n",
       "      <td>0</td>\n",
       "      <td>130458.228857</td>\n",
       "      <td>приобретение автомобиля</td>\n",
       "      <td>люди среднего возраста</td>\n",
       "      <td>наёмные работники</td>\n",
       "    </tr>\n",
       "    <tr>\n",
       "      <th>14</th>\n",
       "      <td>0</td>\n",
       "      <td>67.933106</td>\n",
       "      <td>56</td>\n",
       "      <td>высшее</td>\n",
       "      <td>0</td>\n",
       "      <td>гражданский брак</td>\n",
       "      <td>1</td>\n",
       "      <td>F</td>\n",
       "      <td>компаньон</td>\n",
       "      <td>1</td>\n",
       "      <td>165127.911772</td>\n",
       "      <td>покупка жилой недвижимости</td>\n",
       "      <td>люди среднего возраста</td>\n",
       "      <td>самозанятые</td>\n",
       "    </tr>\n",
       "  </tbody>\n",
       "</table>\n",
       "</div>"
      ],
      "text/plain": [
       "    children  days_employed  dob_years            education  education_id  \\\n",
       "0          1      86.272344         42               высшее             0   \n",
       "1          1      86.272344         36              среднее             1   \n",
       "2          0      67.933106         33              Среднее             1   \n",
       "3          3      67.933106         32              среднее             1   \n",
       "4          0   15213.167609         53              среднее             1   \n",
       "5          0      67.933106         27               высшее             0   \n",
       "6          0      67.933106         43               высшее             0   \n",
       "7          0      86.272344         50              СРЕДНЕЕ             1   \n",
       "8          2      86.272344         35               ВЫСШЕЕ             0   \n",
       "9          0      86.272344         41              среднее             1   \n",
       "10         2      67.933106         36               высшее             0   \n",
       "11         0      86.272344         40              среднее             1   \n",
       "12         0   15213.167609         65              среднее             1   \n",
       "13         0      86.272344         54  неоконченное высшее             2   \n",
       "14         0      67.933106         56               высшее             0   \n",
       "\n",
       "       family_status  family_status_id gender income_type  debt  \\\n",
       "0    женат / замужем                 0      F   сотрудник     0   \n",
       "1    женат / замужем                 0      F   сотрудник     0   \n",
       "2    женат / замужем                 0      M   сотрудник     0   \n",
       "3    женат / замужем                 0      M   сотрудник     0   \n",
       "4   гражданский брак                 1      F   пенсионер     0   \n",
       "5   гражданский брак                 1      M   компаньон     0   \n",
       "6    женат / замужем                 0      F   компаньон     0   \n",
       "7    женат / замужем                 0      M   сотрудник     0   \n",
       "8   гражданский брак                 1      F   сотрудник     0   \n",
       "9    женат / замужем                 0      M   сотрудник     0   \n",
       "10   женат / замужем                 0      M   компаньон     0   \n",
       "11   женат / замужем                 0      F   сотрудник     0   \n",
       "12  гражданский брак                 1      M   пенсионер     0   \n",
       "13   женат / замужем                 0      F   сотрудник     0   \n",
       "14  гражданский брак                 1      F   компаньон     1   \n",
       "\n",
       "     total_income                            purpose               age_group  \\\n",
       "0   253875.639453                      покупка жилья  люди среднего возраста   \n",
       "1   112080.014102            приобретение автомобиля  люди среднего возраста   \n",
       "2   145885.952297                      покупка жилья            молодые люди   \n",
       "3   267628.550329         дополнительное образование            молодые люди   \n",
       "4   158616.077870                    сыграть свадьбу  люди среднего возраста   \n",
       "5   255763.565419                      покупка жилья            молодые люди   \n",
       "6   240525.971920                  операции с жильем  люди среднего возраста   \n",
       "7   135823.934197                        образование  люди среднего возраста   \n",
       "8    95856.832424              на проведение свадьбы  люди среднего возраста   \n",
       "9   144425.938277            покупка жилья для семьи  люди среднего возраста   \n",
       "10  113943.491460               покупка недвижимости  люди среднего возраста   \n",
       "11   77069.234271  покупка коммерческой недвижимости  люди среднего возраста   \n",
       "12  145017.937533                    сыграть свадьбу  люди пожилого возраста   \n",
       "13  130458.228857            приобретение автомобиля  люди среднего возраста   \n",
       "14  165127.911772         покупка жилой недвижимости  люди среднего возраста   \n",
       "\n",
       "                  income_group  \n",
       "0            наёмные работники  \n",
       "1            наёмные работники  \n",
       "2            наёмные работники  \n",
       "3            наёмные работники  \n",
       "4   на иждивении у государства  \n",
       "5                  самозанятые  \n",
       "6                  самозанятые  \n",
       "7            наёмные работники  \n",
       "8            наёмные работники  \n",
       "9            наёмные работники  \n",
       "10                 самозанятые  \n",
       "11           наёмные работники  \n",
       "12  на иждивении у государства  \n",
       "13           наёмные работники  \n",
       "14                 самозанятые  "
      ]
     },
     "execution_count": 13,
     "metadata": {},
     "output_type": "execute_result"
    }
   ],
   "source": [
    "debtors_database.head(15)"
   ]
  },
  {
   "cell_type": "markdown",
   "id": "8f62d30f",
   "metadata": {},
   "source": [
    "#### - проверка данных на аномалии"
   ]
  },
  {
   "cell_type": "code",
   "execution_count": 14,
   "id": "7fa58485",
   "metadata": {},
   "outputs": [
    {
     "data": {
      "text/html": [
       "<div>\n",
       "<style scoped>\n",
       "    .dataframe tbody tr th:only-of-type {\n",
       "        vertical-align: middle;\n",
       "    }\n",
       "\n",
       "    .dataframe tbody tr th {\n",
       "        vertical-align: top;\n",
       "    }\n",
       "\n",
       "    .dataframe thead th {\n",
       "        text-align: right;\n",
       "    }\n",
       "</style>\n",
       "<table border=\"1\" class=\"dataframe\">\n",
       "  <thead>\n",
       "    <tr style=\"text-align: right;\">\n",
       "      <th></th>\n",
       "      <th>children</th>\n",
       "      <th>days_employed</th>\n",
       "      <th>dob_years</th>\n",
       "      <th>education</th>\n",
       "      <th>education_id</th>\n",
       "      <th>family_status</th>\n",
       "      <th>family_status_id</th>\n",
       "      <th>gender</th>\n",
       "      <th>income_type</th>\n",
       "      <th>debt</th>\n",
       "      <th>total_income</th>\n",
       "      <th>purpose</th>\n",
       "      <th>age_group</th>\n",
       "      <th>income_group</th>\n",
       "    </tr>\n",
       "  </thead>\n",
       "  <tbody>\n",
       "  </tbody>\n",
       "</table>\n",
       "</div>"
      ],
      "text/plain": [
       "Empty DataFrame\n",
       "Columns: [children, days_employed, dob_years, education, education_id, family_status, family_status_id, gender, income_type, debt, total_income, purpose, age_group, income_group]\n",
       "Index: []"
      ]
     },
     "execution_count": 14,
     "metadata": {},
     "output_type": "execute_result"
    }
   ],
   "source": [
    "#выводим строки с аномальными данными (отрицательным количеством дней трудового стажа в столбце 'days_employed')\n",
    "debtors_database[debtors_database['days_employed'] < 0]"
   ]
  },
  {
   "cell_type": "code",
   "execution_count": 15,
   "id": "acde868c",
   "metadata": {},
   "outputs": [
    {
     "data": {
      "text/html": [
       "<div>\n",
       "<style scoped>\n",
       "    .dataframe tbody tr th:only-of-type {\n",
       "        vertical-align: middle;\n",
       "    }\n",
       "\n",
       "    .dataframe tbody tr th {\n",
       "        vertical-align: top;\n",
       "    }\n",
       "\n",
       "    .dataframe thead th {\n",
       "        text-align: right;\n",
       "    }\n",
       "</style>\n",
       "<table border=\"1\" class=\"dataframe\">\n",
       "  <thead>\n",
       "    <tr style=\"text-align: right;\">\n",
       "      <th></th>\n",
       "      <th>children</th>\n",
       "      <th>days_employed</th>\n",
       "      <th>dob_years</th>\n",
       "      <th>education</th>\n",
       "      <th>education_id</th>\n",
       "      <th>family_status</th>\n",
       "      <th>family_status_id</th>\n",
       "      <th>gender</th>\n",
       "      <th>income_type</th>\n",
       "      <th>debt</th>\n",
       "      <th>total_income</th>\n",
       "      <th>purpose</th>\n",
       "      <th>age_group</th>\n",
       "      <th>income_group</th>\n",
       "      <th>correct_days_employed</th>\n",
       "    </tr>\n",
       "  </thead>\n",
       "  <tbody>\n",
       "    <tr>\n",
       "      <th>0</th>\n",
       "      <td>1</td>\n",
       "      <td>86.272344</td>\n",
       "      <td>42</td>\n",
       "      <td>высшее</td>\n",
       "      <td>0</td>\n",
       "      <td>женат / замужем</td>\n",
       "      <td>0</td>\n",
       "      <td>F</td>\n",
       "      <td>сотрудник</td>\n",
       "      <td>0</td>\n",
       "      <td>253875.639453</td>\n",
       "      <td>покупка жилья</td>\n",
       "      <td>люди среднего возраста</td>\n",
       "      <td>наёмные работники</td>\n",
       "      <td>86.272344</td>\n",
       "    </tr>\n",
       "    <tr>\n",
       "      <th>1</th>\n",
       "      <td>1</td>\n",
       "      <td>86.272344</td>\n",
       "      <td>36</td>\n",
       "      <td>среднее</td>\n",
       "      <td>1</td>\n",
       "      <td>женат / замужем</td>\n",
       "      <td>0</td>\n",
       "      <td>F</td>\n",
       "      <td>сотрудник</td>\n",
       "      <td>0</td>\n",
       "      <td>112080.014102</td>\n",
       "      <td>приобретение автомобиля</td>\n",
       "      <td>люди среднего возраста</td>\n",
       "      <td>наёмные работники</td>\n",
       "      <td>86.272344</td>\n",
       "    </tr>\n",
       "    <tr>\n",
       "      <th>2</th>\n",
       "      <td>0</td>\n",
       "      <td>67.933106</td>\n",
       "      <td>33</td>\n",
       "      <td>Среднее</td>\n",
       "      <td>1</td>\n",
       "      <td>женат / замужем</td>\n",
       "      <td>0</td>\n",
       "      <td>M</td>\n",
       "      <td>сотрудник</td>\n",
       "      <td>0</td>\n",
       "      <td>145885.952297</td>\n",
       "      <td>покупка жилья</td>\n",
       "      <td>молодые люди</td>\n",
       "      <td>наёмные работники</td>\n",
       "      <td>67.933106</td>\n",
       "    </tr>\n",
       "    <tr>\n",
       "      <th>3</th>\n",
       "      <td>3</td>\n",
       "      <td>67.933106</td>\n",
       "      <td>32</td>\n",
       "      <td>среднее</td>\n",
       "      <td>1</td>\n",
       "      <td>женат / замужем</td>\n",
       "      <td>0</td>\n",
       "      <td>M</td>\n",
       "      <td>сотрудник</td>\n",
       "      <td>0</td>\n",
       "      <td>267628.550329</td>\n",
       "      <td>дополнительное образование</td>\n",
       "      <td>молодые люди</td>\n",
       "      <td>наёмные работники</td>\n",
       "      <td>67.933106</td>\n",
       "    </tr>\n",
       "    <tr>\n",
       "      <th>4</th>\n",
       "      <td>0</td>\n",
       "      <td>15213.167609</td>\n",
       "      <td>53</td>\n",
       "      <td>среднее</td>\n",
       "      <td>1</td>\n",
       "      <td>гражданский брак</td>\n",
       "      <td>1</td>\n",
       "      <td>F</td>\n",
       "      <td>пенсионер</td>\n",
       "      <td>0</td>\n",
       "      <td>158616.077870</td>\n",
       "      <td>сыграть свадьбу</td>\n",
       "      <td>люди среднего возраста</td>\n",
       "      <td>на иждивении у государства</td>\n",
       "      <td>15213.167609</td>\n",
       "    </tr>\n",
       "    <tr>\n",
       "      <th>5</th>\n",
       "      <td>0</td>\n",
       "      <td>67.933106</td>\n",
       "      <td>27</td>\n",
       "      <td>высшее</td>\n",
       "      <td>0</td>\n",
       "      <td>гражданский брак</td>\n",
       "      <td>1</td>\n",
       "      <td>M</td>\n",
       "      <td>компаньон</td>\n",
       "      <td>0</td>\n",
       "      <td>255763.565419</td>\n",
       "      <td>покупка жилья</td>\n",
       "      <td>молодые люди</td>\n",
       "      <td>самозанятые</td>\n",
       "      <td>67.933106</td>\n",
       "    </tr>\n",
       "    <tr>\n",
       "      <th>6</th>\n",
       "      <td>0</td>\n",
       "      <td>67.933106</td>\n",
       "      <td>43</td>\n",
       "      <td>высшее</td>\n",
       "      <td>0</td>\n",
       "      <td>женат / замужем</td>\n",
       "      <td>0</td>\n",
       "      <td>F</td>\n",
       "      <td>компаньон</td>\n",
       "      <td>0</td>\n",
       "      <td>240525.971920</td>\n",
       "      <td>операции с жильем</td>\n",
       "      <td>люди среднего возраста</td>\n",
       "      <td>самозанятые</td>\n",
       "      <td>67.933106</td>\n",
       "    </tr>\n",
       "    <tr>\n",
       "      <th>7</th>\n",
       "      <td>0</td>\n",
       "      <td>86.272344</td>\n",
       "      <td>50</td>\n",
       "      <td>СРЕДНЕЕ</td>\n",
       "      <td>1</td>\n",
       "      <td>женат / замужем</td>\n",
       "      <td>0</td>\n",
       "      <td>M</td>\n",
       "      <td>сотрудник</td>\n",
       "      <td>0</td>\n",
       "      <td>135823.934197</td>\n",
       "      <td>образование</td>\n",
       "      <td>люди среднего возраста</td>\n",
       "      <td>наёмные работники</td>\n",
       "      <td>86.272344</td>\n",
       "    </tr>\n",
       "    <tr>\n",
       "      <th>8</th>\n",
       "      <td>2</td>\n",
       "      <td>86.272344</td>\n",
       "      <td>35</td>\n",
       "      <td>ВЫСШЕЕ</td>\n",
       "      <td>0</td>\n",
       "      <td>гражданский брак</td>\n",
       "      <td>1</td>\n",
       "      <td>F</td>\n",
       "      <td>сотрудник</td>\n",
       "      <td>0</td>\n",
       "      <td>95856.832424</td>\n",
       "      <td>на проведение свадьбы</td>\n",
       "      <td>люди среднего возраста</td>\n",
       "      <td>наёмные работники</td>\n",
       "      <td>86.272344</td>\n",
       "    </tr>\n",
       "    <tr>\n",
       "      <th>9</th>\n",
       "      <td>0</td>\n",
       "      <td>86.272344</td>\n",
       "      <td>41</td>\n",
       "      <td>среднее</td>\n",
       "      <td>1</td>\n",
       "      <td>женат / замужем</td>\n",
       "      <td>0</td>\n",
       "      <td>M</td>\n",
       "      <td>сотрудник</td>\n",
       "      <td>0</td>\n",
       "      <td>144425.938277</td>\n",
       "      <td>покупка жилья для семьи</td>\n",
       "      <td>люди среднего возраста</td>\n",
       "      <td>наёмные работники</td>\n",
       "      <td>86.272344</td>\n",
       "    </tr>\n",
       "    <tr>\n",
       "      <th>10</th>\n",
       "      <td>2</td>\n",
       "      <td>67.933106</td>\n",
       "      <td>36</td>\n",
       "      <td>высшее</td>\n",
       "      <td>0</td>\n",
       "      <td>женат / замужем</td>\n",
       "      <td>0</td>\n",
       "      <td>M</td>\n",
       "      <td>компаньон</td>\n",
       "      <td>0</td>\n",
       "      <td>113943.491460</td>\n",
       "      <td>покупка недвижимости</td>\n",
       "      <td>люди среднего возраста</td>\n",
       "      <td>самозанятые</td>\n",
       "      <td>67.933106</td>\n",
       "    </tr>\n",
       "    <tr>\n",
       "      <th>11</th>\n",
       "      <td>0</td>\n",
       "      <td>86.272344</td>\n",
       "      <td>40</td>\n",
       "      <td>среднее</td>\n",
       "      <td>1</td>\n",
       "      <td>женат / замужем</td>\n",
       "      <td>0</td>\n",
       "      <td>F</td>\n",
       "      <td>сотрудник</td>\n",
       "      <td>0</td>\n",
       "      <td>77069.234271</td>\n",
       "      <td>покупка коммерческой недвижимости</td>\n",
       "      <td>люди среднего возраста</td>\n",
       "      <td>наёмные работники</td>\n",
       "      <td>86.272344</td>\n",
       "    </tr>\n",
       "    <tr>\n",
       "      <th>12</th>\n",
       "      <td>0</td>\n",
       "      <td>15213.167609</td>\n",
       "      <td>65</td>\n",
       "      <td>среднее</td>\n",
       "      <td>1</td>\n",
       "      <td>гражданский брак</td>\n",
       "      <td>1</td>\n",
       "      <td>M</td>\n",
       "      <td>пенсионер</td>\n",
       "      <td>0</td>\n",
       "      <td>145017.937533</td>\n",
       "      <td>сыграть свадьбу</td>\n",
       "      <td>люди пожилого возраста</td>\n",
       "      <td>на иждивении у государства</td>\n",
       "      <td>15213.167609</td>\n",
       "    </tr>\n",
       "    <tr>\n",
       "      <th>13</th>\n",
       "      <td>0</td>\n",
       "      <td>86.272344</td>\n",
       "      <td>54</td>\n",
       "      <td>неоконченное высшее</td>\n",
       "      <td>2</td>\n",
       "      <td>женат / замужем</td>\n",
       "      <td>0</td>\n",
       "      <td>F</td>\n",
       "      <td>сотрудник</td>\n",
       "      <td>0</td>\n",
       "      <td>130458.228857</td>\n",
       "      <td>приобретение автомобиля</td>\n",
       "      <td>люди среднего возраста</td>\n",
       "      <td>наёмные работники</td>\n",
       "      <td>86.272344</td>\n",
       "    </tr>\n",
       "    <tr>\n",
       "      <th>14</th>\n",
       "      <td>0</td>\n",
       "      <td>67.933106</td>\n",
       "      <td>56</td>\n",
       "      <td>высшее</td>\n",
       "      <td>0</td>\n",
       "      <td>гражданский брак</td>\n",
       "      <td>1</td>\n",
       "      <td>F</td>\n",
       "      <td>компаньон</td>\n",
       "      <td>1</td>\n",
       "      <td>165127.911772</td>\n",
       "      <td>покупка жилой недвижимости</td>\n",
       "      <td>люди среднего возраста</td>\n",
       "      <td>самозанятые</td>\n",
       "      <td>67.933106</td>\n",
       "    </tr>\n",
       "  </tbody>\n",
       "</table>\n",
       "</div>"
      ],
      "text/plain": [
       "    children  days_employed  dob_years            education  education_id  \\\n",
       "0          1      86.272344         42               высшее             0   \n",
       "1          1      86.272344         36              среднее             1   \n",
       "2          0      67.933106         33              Среднее             1   \n",
       "3          3      67.933106         32              среднее             1   \n",
       "4          0   15213.167609         53              среднее             1   \n",
       "5          0      67.933106         27               высшее             0   \n",
       "6          0      67.933106         43               высшее             0   \n",
       "7          0      86.272344         50              СРЕДНЕЕ             1   \n",
       "8          2      86.272344         35               ВЫСШЕЕ             0   \n",
       "9          0      86.272344         41              среднее             1   \n",
       "10         2      67.933106         36               высшее             0   \n",
       "11         0      86.272344         40              среднее             1   \n",
       "12         0   15213.167609         65              среднее             1   \n",
       "13         0      86.272344         54  неоконченное высшее             2   \n",
       "14         0      67.933106         56               высшее             0   \n",
       "\n",
       "       family_status  family_status_id gender income_type  debt  \\\n",
       "0    женат / замужем                 0      F   сотрудник     0   \n",
       "1    женат / замужем                 0      F   сотрудник     0   \n",
       "2    женат / замужем                 0      M   сотрудник     0   \n",
       "3    женат / замужем                 0      M   сотрудник     0   \n",
       "4   гражданский брак                 1      F   пенсионер     0   \n",
       "5   гражданский брак                 1      M   компаньон     0   \n",
       "6    женат / замужем                 0      F   компаньон     0   \n",
       "7    женат / замужем                 0      M   сотрудник     0   \n",
       "8   гражданский брак                 1      F   сотрудник     0   \n",
       "9    женат / замужем                 0      M   сотрудник     0   \n",
       "10   женат / замужем                 0      M   компаньон     0   \n",
       "11   женат / замужем                 0      F   сотрудник     0   \n",
       "12  гражданский брак                 1      M   пенсионер     0   \n",
       "13   женат / замужем                 0      F   сотрудник     0   \n",
       "14  гражданский брак                 1      F   компаньон     1   \n",
       "\n",
       "     total_income                            purpose               age_group  \\\n",
       "0   253875.639453                      покупка жилья  люди среднего возраста   \n",
       "1   112080.014102            приобретение автомобиля  люди среднего возраста   \n",
       "2   145885.952297                      покупка жилья            молодые люди   \n",
       "3   267628.550329         дополнительное образование            молодые люди   \n",
       "4   158616.077870                    сыграть свадьбу  люди среднего возраста   \n",
       "5   255763.565419                      покупка жилья            молодые люди   \n",
       "6   240525.971920                  операции с жильем  люди среднего возраста   \n",
       "7   135823.934197                        образование  люди среднего возраста   \n",
       "8    95856.832424              на проведение свадьбы  люди среднего возраста   \n",
       "9   144425.938277            покупка жилья для семьи  люди среднего возраста   \n",
       "10  113943.491460               покупка недвижимости  люди среднего возраста   \n",
       "11   77069.234271  покупка коммерческой недвижимости  люди среднего возраста   \n",
       "12  145017.937533                    сыграть свадьбу  люди пожилого возраста   \n",
       "13  130458.228857            приобретение автомобиля  люди среднего возраста   \n",
       "14  165127.911772         покупка жилой недвижимости  люди среднего возраста   \n",
       "\n",
       "                  income_group  correct_days_employed  \n",
       "0            наёмные работники              86.272344  \n",
       "1            наёмные работники              86.272344  \n",
       "2            наёмные работники              67.933106  \n",
       "3            наёмные работники              67.933106  \n",
       "4   на иждивении у государства           15213.167609  \n",
       "5                  самозанятые              67.933106  \n",
       "6                  самозанятые              67.933106  \n",
       "7            наёмные работники              86.272344  \n",
       "8            наёмные работники              86.272344  \n",
       "9            наёмные работники              86.272344  \n",
       "10                 самозанятые              67.933106  \n",
       "11           наёмные работники              86.272344  \n",
       "12  на иждивении у государства           15213.167609  \n",
       "13           наёмные работники              86.272344  \n",
       "14                 самозанятые              67.933106  "
      ]
     },
     "execution_count": 15,
     "metadata": {},
     "output_type": "execute_result"
    }
   ],
   "source": [
    "#создаём функцию для обработки значений в столбцах с аномалиями, обработка осуществляется путём замены отрицательных \n",
    "#значений на медианные значения \n",
    "def avoiding_anomaly(row):\n",
    "    days_employed = row['days_employed']    \n",
    "    if days_employed < 0:\n",
    "        return debtors_database[debtors_database['days_employed'] > 0]['days_employed'].median()\n",
    "    return row['days_employed']\n",
    "    \n",
    "#применяем данную функцию к нашему датафрейму, создаём новый столбец с корректными значениями о количестве дней \n",
    "#трудового стажа\n",
    "debtors_database['correct_days_employed'] = debtors_database.apply(avoiding_anomaly, axis=1)\n",
    "\n",
    "#проверяем обновлённый датафрейм\n",
    "debtors_database.head(15)"
   ]
  },
  {
   "cell_type": "markdown",
   "id": "c7746681",
   "metadata": {},
   "source": [
    "В данных нам встретились артефакты (аномалии) — отрицательное количество дней трудового стажа в столбце 'days_employed'. \n",
    "Причиной, такой ошибки в данных, скорее всего, послужил тот факт, что общую продолжительность трудового стажа, как правило, подсчитывают довольно нестандартным способом: из трудовой книжки сначала выписывают все даты записей приема на работу и все даты увольнения, после чего их складывают, чтобы в результате получить две суммы: одну - из дат приема, вторую - из дат увольнений. Затем необходимо из второй суммы вычесть первую. Иногда, в таких случаях, разница между суммой дат увольнений и суммой дат приемов может получиться отрицательной (такой пример можно найти по этой ссылке https://www.kdelo.ru/art/384568-staj-raboty-18-m8), возможно,  и в данном случае, ошибка обусловлена особенностями подсчёта и несовсем корректной доработкой данных.\n",
    "Поскольку установить изначальные даты увольнений/ приёмов мы не можем, то лучше заменить некорректные отрицательные данные на новое медианное значение на основе данных по другим заёмщикам, у которых положительное количество дней трудового стажа."
   ]
  },
  {
   "cell_type": "markdown",
   "id": "10007da0",
   "metadata": {},
   "source": [
    "#### - изменение типов данных"
   ]
  },
  {
   "cell_type": "code",
   "execution_count": 16,
   "id": "32974c51",
   "metadata": {},
   "outputs": [
    {
     "name": "stdout",
     "output_type": "stream",
     "text": [
      "<class 'pandas.core.frame.DataFrame'>\n",
      "Int64Index: 21424 entries, 0 to 21524\n",
      "Data columns (total 15 columns):\n",
      " #   Column                 Non-Null Count  Dtype  \n",
      "---  ------                 --------------  -----  \n",
      " 0   children               21424 non-null  int64  \n",
      " 1   days_employed          21424 non-null  float64\n",
      " 2   dob_years              21424 non-null  int64  \n",
      " 3   education              21424 non-null  object \n",
      " 4   education_id           21424 non-null  int64  \n",
      " 5   family_status          21424 non-null  object \n",
      " 6   family_status_id       21424 non-null  int64  \n",
      " 7   gender                 21424 non-null  object \n",
      " 8   income_type            21424 non-null  object \n",
      " 9   debt                   21424 non-null  int64  \n",
      " 10  total_income           21424 non-null  int64  \n",
      " 11  purpose                21424 non-null  object \n",
      " 12  age_group              21424 non-null  object \n",
      " 13  income_group           21424 non-null  object \n",
      " 14  correct_days_employed  21424 non-null  float64\n",
      "dtypes: float64(2), int64(6), object(7)\n",
      "memory usage: 2.6+ MB\n"
     ]
    }
   ],
   "source": [
    "#заменяем вещественный тип данных в столбце 'total_income' на целочисленный с помощью метода astype()\n",
    "debtors_database['total_income'] = debtors_database['total_income'].astype('int')\n",
    "debtors_database['correct_days_employed'] = debtors_database['correct_days_employed'].astype('float')\n",
    "debtors_database.info()"
   ]
  },
  {
   "cell_type": "markdown",
   "id": "ebb864e9",
   "metadata": {},
   "source": [
    "#### - у.даление дубликатов."
   ]
  },
  {
   "cell_type": "code",
   "execution_count": 17,
   "id": "c711fa91",
   "metadata": {
    "scrolled": true
   },
   "outputs": [
    {
     "data": {
      "text/plain": [
       "54"
      ]
     },
     "metadata": {},
     "output_type": "display_data"
    }
   ],
   "source": [
    "#обработка явных дубликатов, сначала находим количество строк-дубликатов, затем удаляем их \n",
    "display(debtors_database.duplicated().sum())\n",
    "debtors_database = debtors_database.drop_duplicates()"
   ]
  },
  {
   "cell_type": "code",
   "execution_count": 18,
   "id": "3aca52b1",
   "metadata": {},
   "outputs": [
    {
     "data": {
      "text/plain": [
       "среднее                15124\n",
       "высшее                  5216\n",
       "неоконченное высшее      742\n",
       "начальное                282\n",
       "ученая степень             6\n",
       "Name: education, dtype: int64"
      ]
     },
     "execution_count": 18,
     "metadata": {},
     "output_type": "execute_result"
    }
   ],
   "source": [
    "#ищем неявные дубликаты\n",
    "debtors_database['education'].value_counts()\n",
    "#приводим данные в столбце к одному регистру\n",
    "debtors_database['education'] = debtors_database['education'].str.lower()\n",
    "#проверяем\n",
    "debtors_database['education'].value_counts()"
   ]
  },
  {
   "cell_type": "code",
   "execution_count": 19,
   "id": "bcd149bd",
   "metadata": {},
   "outputs": [
    {
     "data": {
      "text/plain": [
       "17"
      ]
     },
     "metadata": {},
     "output_type": "display_data"
    }
   ],
   "source": [
    "# снова проверяем данные на дубликаты\n",
    "display(debtors_database.duplicated().sum())"
   ]
  },
  {
   "cell_type": "code",
   "execution_count": 20,
   "id": "a621d64e",
   "metadata": {},
   "outputs": [
    {
     "data": {
      "text/plain": [
       "0"
      ]
     },
     "execution_count": 20,
     "metadata": {},
     "output_type": "execute_result"
    }
   ],
   "source": [
    "debtors_database = debtors_database.drop_duplicates()\n",
    "debtors_database.duplicated().sum()"
   ]
  },
  {
   "cell_type": "markdown",
   "id": "8b620f22",
   "metadata": {},
   "source": [
    "В данных присутствовали строки-дубликаты в количестве 71 шт., были удалены.\n",
    "Также обработали неявные дубликаты: привели данные в столбце 'education' к единому регистру. \n",
    "Также проверили остальные столбцы с данными типа 'object' на наличие неявных дубликатов, в столбце 'purpose' также дублируется однотипная информация, но с ним будем работать отдельно в дальнейшем.\n",
    "В качестве метода для поиска и удаления явных дубликатов в данных были выбраны duplicated().sum() и drop_duplicates, эти методы позволяют \"пройтись\" сразу по всему датафрейму и удалить абсолютно идентичные данные.\n",
    "Для поиска и обработки неявных дубликатов - value_counts() и str.lower(), данные методы удобны для обработки информации по отдельным столбцам, их удобно применять к данным типа 'object', где прочие варианты проверки могли бы дать некорректный результат.\n",
    "Возможные причины появления дубликатов:\n",
    "- для явных строк-дубликатов - неоднократное обращение одного и того человека за кредитом\n",
    "- для неяных дубликатов - отсутствие единообразия при заполнении заявки на получение кредита, заполнение заявок разными операторами банка"
   ]
  },
  {
   "cell_type": "markdown",
   "id": "d3e66bb7",
   "metadata": {},
   "source": [
    "#### - создание дополнительных словарей, декомпозиция исходных данных"
   ]
  },
  {
   "cell_type": "code",
   "execution_count": 21,
   "id": "2febffd2",
   "metadata": {},
   "outputs": [
    {
     "data": {
      "text/html": [
       "<div>\n",
       "<style scoped>\n",
       "    .dataframe tbody tr th:only-of-type {\n",
       "        vertical-align: middle;\n",
       "    }\n",
       "\n",
       "    .dataframe tbody tr th {\n",
       "        vertical-align: top;\n",
       "    }\n",
       "\n",
       "    .dataframe thead th {\n",
       "        text-align: right;\n",
       "    }\n",
       "</style>\n",
       "<table border=\"1\" class=\"dataframe\">\n",
       "  <thead>\n",
       "    <tr style=\"text-align: right;\">\n",
       "      <th></th>\n",
       "      <th>education_id</th>\n",
       "      <th>education</th>\n",
       "    </tr>\n",
       "  </thead>\n",
       "  <tbody>\n",
       "    <tr>\n",
       "      <th>0</th>\n",
       "      <td>0</td>\n",
       "      <td>высшее</td>\n",
       "    </tr>\n",
       "    <tr>\n",
       "      <th>1</th>\n",
       "      <td>1</td>\n",
       "      <td>среднее</td>\n",
       "    </tr>\n",
       "    <tr>\n",
       "      <th>2</th>\n",
       "      <td>2</td>\n",
       "      <td>неоконченное высшее</td>\n",
       "    </tr>\n",
       "    <tr>\n",
       "      <th>3</th>\n",
       "      <td>3</td>\n",
       "      <td>начальное</td>\n",
       "    </tr>\n",
       "    <tr>\n",
       "      <th>4</th>\n",
       "      <td>4</td>\n",
       "      <td>ученая степень</td>\n",
       "    </tr>\n",
       "  </tbody>\n",
       "</table>\n",
       "</div>"
      ],
      "text/plain": [
       "   education_id            education\n",
       "0             0               высшее\n",
       "1             1              среднее\n",
       "2             2  неоконченное высшее\n",
       "3             3            начальное\n",
       "4             4       ученая степень"
      ]
     },
     "metadata": {},
     "output_type": "display_data"
    },
    {
     "data": {
      "text/html": [
       "<div>\n",
       "<style scoped>\n",
       "    .dataframe tbody tr th:only-of-type {\n",
       "        vertical-align: middle;\n",
       "    }\n",
       "\n",
       "    .dataframe tbody tr th {\n",
       "        vertical-align: top;\n",
       "    }\n",
       "\n",
       "    .dataframe thead th {\n",
       "        text-align: right;\n",
       "    }\n",
       "</style>\n",
       "<table border=\"1\" class=\"dataframe\">\n",
       "  <thead>\n",
       "    <tr style=\"text-align: right;\">\n",
       "      <th></th>\n",
       "      <th>family_status_id</th>\n",
       "      <th>family_status</th>\n",
       "    </tr>\n",
       "  </thead>\n",
       "  <tbody>\n",
       "    <tr>\n",
       "      <th>0</th>\n",
       "      <td>0</td>\n",
       "      <td>женат / замужем</td>\n",
       "    </tr>\n",
       "    <tr>\n",
       "      <th>1</th>\n",
       "      <td>1</td>\n",
       "      <td>гражданский брак</td>\n",
       "    </tr>\n",
       "    <tr>\n",
       "      <th>2</th>\n",
       "      <td>2</td>\n",
       "      <td>вдовец / вдова</td>\n",
       "    </tr>\n",
       "    <tr>\n",
       "      <th>3</th>\n",
       "      <td>3</td>\n",
       "      <td>в разводе</td>\n",
       "    </tr>\n",
       "    <tr>\n",
       "      <th>4</th>\n",
       "      <td>4</td>\n",
       "      <td>Не женат / не замужем</td>\n",
       "    </tr>\n",
       "  </tbody>\n",
       "</table>\n",
       "</div>"
      ],
      "text/plain": [
       "   family_status_id          family_status\n",
       "0                 0        женат / замужем\n",
       "1                 1       гражданский брак\n",
       "2                 2         вдовец / вдова\n",
       "3                 3              в разводе\n",
       "4                 4  Не женат / не замужем"
      ]
     },
     "execution_count": 21,
     "metadata": {},
     "output_type": "execute_result"
    }
   ],
   "source": [
    "#создаём \"словари\" с данными об образовании и семейном положении, сразу удаляем дубликаты для более удобного пользования\n",
    "education_dict = debtors_database[['education_id', 'education']].drop_duplicates().reset_index(drop=True)\n",
    "display(education_dict)\n",
    "family_dict = debtors_database[['family_status_id', 'family_status']].drop_duplicates().reset_index(drop=True)\n",
    "family_dict"
   ]
  },
  {
   "cell_type": "code",
   "execution_count": 22,
   "id": "ca9af730",
   "metadata": {},
   "outputs": [
    {
     "data": {
      "text/html": [
       "<div>\n",
       "<style scoped>\n",
       "    .dataframe tbody tr th:only-of-type {\n",
       "        vertical-align: middle;\n",
       "    }\n",
       "\n",
       "    .dataframe tbody tr th {\n",
       "        vertical-align: top;\n",
       "    }\n",
       "\n",
       "    .dataframe thead th {\n",
       "        text-align: right;\n",
       "    }\n",
       "</style>\n",
       "<table border=\"1\" class=\"dataframe\">\n",
       "  <thead>\n",
       "    <tr style=\"text-align: right;\">\n",
       "      <th></th>\n",
       "      <th>children</th>\n",
       "      <th>dob_years</th>\n",
       "      <th>education_id</th>\n",
       "      <th>family_status_id</th>\n",
       "      <th>gender</th>\n",
       "      <th>income_type</th>\n",
       "      <th>debt</th>\n",
       "      <th>total_income</th>\n",
       "      <th>purpose</th>\n",
       "      <th>correct_days_employed</th>\n",
       "    </tr>\n",
       "  </thead>\n",
       "  <tbody>\n",
       "    <tr>\n",
       "      <th>0</th>\n",
       "      <td>1</td>\n",
       "      <td>42</td>\n",
       "      <td>0</td>\n",
       "      <td>0</td>\n",
       "      <td>F</td>\n",
       "      <td>сотрудник</td>\n",
       "      <td>0</td>\n",
       "      <td>253875</td>\n",
       "      <td>покупка жилья</td>\n",
       "      <td>86.272344</td>\n",
       "    </tr>\n",
       "    <tr>\n",
       "      <th>1</th>\n",
       "      <td>1</td>\n",
       "      <td>36</td>\n",
       "      <td>1</td>\n",
       "      <td>0</td>\n",
       "      <td>F</td>\n",
       "      <td>сотрудник</td>\n",
       "      <td>0</td>\n",
       "      <td>112080</td>\n",
       "      <td>приобретение автомобиля</td>\n",
       "      <td>86.272344</td>\n",
       "    </tr>\n",
       "    <tr>\n",
       "      <th>2</th>\n",
       "      <td>0</td>\n",
       "      <td>33</td>\n",
       "      <td>1</td>\n",
       "      <td>0</td>\n",
       "      <td>M</td>\n",
       "      <td>сотрудник</td>\n",
       "      <td>0</td>\n",
       "      <td>145885</td>\n",
       "      <td>покупка жилья</td>\n",
       "      <td>67.933106</td>\n",
       "    </tr>\n",
       "    <tr>\n",
       "      <th>3</th>\n",
       "      <td>3</td>\n",
       "      <td>32</td>\n",
       "      <td>1</td>\n",
       "      <td>0</td>\n",
       "      <td>M</td>\n",
       "      <td>сотрудник</td>\n",
       "      <td>0</td>\n",
       "      <td>267628</td>\n",
       "      <td>дополнительное образование</td>\n",
       "      <td>67.933106</td>\n",
       "    </tr>\n",
       "    <tr>\n",
       "      <th>4</th>\n",
       "      <td>0</td>\n",
       "      <td>53</td>\n",
       "      <td>1</td>\n",
       "      <td>1</td>\n",
       "      <td>F</td>\n",
       "      <td>пенсионер</td>\n",
       "      <td>0</td>\n",
       "      <td>158616</td>\n",
       "      <td>сыграть свадьбу</td>\n",
       "      <td>15213.167609</td>\n",
       "    </tr>\n",
       "  </tbody>\n",
       "</table>\n",
       "</div>"
      ],
      "text/plain": [
       "   children  dob_years  education_id  family_status_id gender income_type  \\\n",
       "0         1         42             0                 0      F   сотрудник   \n",
       "1         1         36             1                 0      F   сотрудник   \n",
       "2         0         33             1                 0      M   сотрудник   \n",
       "3         3         32             1                 0      M   сотрудник   \n",
       "4         0         53             1                 1      F   пенсионер   \n",
       "\n",
       "   debt  total_income                     purpose  correct_days_employed  \n",
       "0     0        253875               покупка жилья              86.272344  \n",
       "1     0        112080     приобретение автомобиля              86.272344  \n",
       "2     0        145885               покупка жилья              67.933106  \n",
       "3     0        267628  дополнительное образование              67.933106  \n",
       "4     0        158616             сыграть свадьбу           15213.167609  "
      ]
     },
     "execution_count": 22,
     "metadata": {},
     "output_type": "execute_result"
    }
   ],
   "source": [
    "# удаляем из исходного датафрейма столбцы 'education' и 'family_status', оставляем только их \n",
    "# идентификаторы: 'education_id' и 'family_status_id', также удаляем столбец 'days_employed', \n",
    "# оставляем только 'correct_days_employed' с уже обаботанными данными по стажу заёмщиков\n",
    "debtors_database = debtors_database[['children', 'dob_years', 'education_id', 'family_status_id', 'gender', 'income_type', 'debt', 'total_income', 'purpose', 'correct_days_employed']]\n",
    "debtors_database.head()"
   ]
  },
  {
   "cell_type": "markdown",
   "id": "ae0d1e9a",
   "metadata": {},
   "source": [
    "#### - категоризация данных"
   ]
  },
  {
   "cell_type": "code",
   "execution_count": 23,
   "id": "4c0b5ac2",
   "metadata": {
    "scrolled": true
   },
   "outputs": [
    {
     "data": {
      "text/html": [
       "<div>\n",
       "<style scoped>\n",
       "    .dataframe tbody tr th:only-of-type {\n",
       "        vertical-align: middle;\n",
       "    }\n",
       "\n",
       "    .dataframe tbody tr th {\n",
       "        vertical-align: top;\n",
       "    }\n",
       "\n",
       "    .dataframe thead th {\n",
       "        text-align: right;\n",
       "    }\n",
       "</style>\n",
       "<table border=\"1\" class=\"dataframe\">\n",
       "  <thead>\n",
       "    <tr style=\"text-align: right;\">\n",
       "      <th></th>\n",
       "      <th>children</th>\n",
       "      <th>dob_years</th>\n",
       "      <th>education_id</th>\n",
       "      <th>family_status_id</th>\n",
       "      <th>gender</th>\n",
       "      <th>income_type</th>\n",
       "      <th>debt</th>\n",
       "      <th>total_income</th>\n",
       "      <th>purpose</th>\n",
       "      <th>correct_days_employed</th>\n",
       "      <th>group_total_income</th>\n",
       "    </tr>\n",
       "  </thead>\n",
       "  <tbody>\n",
       "    <tr>\n",
       "      <th>0</th>\n",
       "      <td>1</td>\n",
       "      <td>42</td>\n",
       "      <td>0</td>\n",
       "      <td>0</td>\n",
       "      <td>F</td>\n",
       "      <td>сотрудник</td>\n",
       "      <td>0</td>\n",
       "      <td>253875</td>\n",
       "      <td>покупка жилья</td>\n",
       "      <td>86.272344</td>\n",
       "      <td>B</td>\n",
       "    </tr>\n",
       "    <tr>\n",
       "      <th>1</th>\n",
       "      <td>1</td>\n",
       "      <td>36</td>\n",
       "      <td>1</td>\n",
       "      <td>0</td>\n",
       "      <td>F</td>\n",
       "      <td>сотрудник</td>\n",
       "      <td>0</td>\n",
       "      <td>112080</td>\n",
       "      <td>приобретение автомобиля</td>\n",
       "      <td>86.272344</td>\n",
       "      <td>C</td>\n",
       "    </tr>\n",
       "    <tr>\n",
       "      <th>2</th>\n",
       "      <td>0</td>\n",
       "      <td>33</td>\n",
       "      <td>1</td>\n",
       "      <td>0</td>\n",
       "      <td>M</td>\n",
       "      <td>сотрудник</td>\n",
       "      <td>0</td>\n",
       "      <td>145885</td>\n",
       "      <td>покупка жилья</td>\n",
       "      <td>67.933106</td>\n",
       "      <td>C</td>\n",
       "    </tr>\n",
       "    <tr>\n",
       "      <th>3</th>\n",
       "      <td>3</td>\n",
       "      <td>32</td>\n",
       "      <td>1</td>\n",
       "      <td>0</td>\n",
       "      <td>M</td>\n",
       "      <td>сотрудник</td>\n",
       "      <td>0</td>\n",
       "      <td>267628</td>\n",
       "      <td>дополнительное образование</td>\n",
       "      <td>67.933106</td>\n",
       "      <td>B</td>\n",
       "    </tr>\n",
       "    <tr>\n",
       "      <th>4</th>\n",
       "      <td>0</td>\n",
       "      <td>53</td>\n",
       "      <td>1</td>\n",
       "      <td>1</td>\n",
       "      <td>F</td>\n",
       "      <td>пенсионер</td>\n",
       "      <td>0</td>\n",
       "      <td>158616</td>\n",
       "      <td>сыграть свадьбу</td>\n",
       "      <td>15213.167609</td>\n",
       "      <td>C</td>\n",
       "    </tr>\n",
       "  </tbody>\n",
       "</table>\n",
       "</div>"
      ],
      "text/plain": [
       "   children  dob_years  education_id  family_status_id gender income_type  \\\n",
       "0         1         42             0                 0      F   сотрудник   \n",
       "1         1         36             1                 0      F   сотрудник   \n",
       "2         0         33             1                 0      M   сотрудник   \n",
       "3         3         32             1                 0      M   сотрудник   \n",
       "4         0         53             1                 1      F   пенсионер   \n",
       "\n",
       "   debt  total_income                     purpose  correct_days_employed  \\\n",
       "0     0        253875               покупка жилья              86.272344   \n",
       "1     0        112080     приобретение автомобиля              86.272344   \n",
       "2     0        145885               покупка жилья              67.933106   \n",
       "3     0        267628  дополнительное образование              67.933106   \n",
       "4     0        158616             сыграть свадьбу           15213.167609   \n",
       "\n",
       "  group_total_income  \n",
       "0                  B  \n",
       "1                  C  \n",
       "2                  C  \n",
       "3                  B  \n",
       "4                  C  "
      ]
     },
     "execution_count": 23,
     "metadata": {},
     "output_type": "execute_result"
    }
   ],
   "source": [
    "#создаём столбец 'total_income_category' с различными категориями заёмщиков по уровню доходов\n",
    "def group_total_income(row):\n",
    "    total_income = row['total_income']\n",
    "    if total_income <= 30000:\n",
    "        return 'E'\n",
    "    elif 30001 <= total_income <= 50000:\n",
    "        return 'D'\n",
    "    elif 50001 <= total_income <= 200000:\n",
    "        return 'C'\n",
    "    elif 200001 <= total_income <= 1000000:\n",
    "        return 'B'\n",
    "    else:\n",
    "        return 'A'\n",
    "debtors_database['group_total_income'] = debtors_database.apply(group_total_income, axis=1)\n",
    "debtors_database.head()"
   ]
  },
  {
   "cell_type": "code",
   "execution_count": 24,
   "id": "13827b3e",
   "metadata": {},
   "outputs": [
    {
     "data": {
      "text/plain": [
       "свадьба                                   786\n",
       "на проведение свадьбы                     764\n",
       "сыграть свадьбу                           760\n",
       "операции с недвижимостью                  672\n",
       "покупка коммерческой недвижимости         658\n",
       "покупка жилья для сдачи                   649\n",
       "операции с коммерческой недвижимостью     648\n",
       "операции с жильем                         646\n",
       "покупка жилья                             640\n",
       "жилье                                     640\n",
       "покупка жилья для семьи                   637\n",
       "строительство собственной недвижимости    633\n",
       "недвижимость                              629\n",
       "операции со своей недвижимостью           627\n",
       "строительство жилой недвижимости          621\n",
       "строительство недвижимости                619\n",
       "покупка своего жилья                      619\n",
       "покупка недвижимости                      618\n",
       "ремонт жилью                              605\n",
       "покупка жилой недвижимости                603\n",
       "на покупку своего автомобиля              502\n",
       "заняться высшим образованием              493\n",
       "автомобиль                                490\n",
       "сделка с подержанным автомобилем          484\n",
       "на покупку подержанного автомобиля        478\n",
       "автомобили                                476\n",
       "свой автомобиль                           475\n",
       "на покупку автомобиля                     466\n",
       "приобретение автомобиля                   459\n",
       "дополнительное образование                458\n",
       "сделка с автомобилем                      454\n",
       "высшее образование                        449\n",
       "образование                               444\n",
       "получение дополнительного образования     444\n",
       "получение образования                     441\n",
       "профильное образование                    435\n",
       "получение высшего образования             424\n",
       "заняться образованием                     407\n",
       "Name: purpose, dtype: int64"
      ]
     },
     "execution_count": 24,
     "metadata": {},
     "output_type": "execute_result"
    }
   ],
   "source": [
    "#изучаем данные в столбце 'purpose', определяем ключевые слова для группировки данных в более крупные категории\n",
    "debtors_database['purpose'].value_counts()"
   ]
  },
  {
   "cell_type": "code",
   "execution_count": 25,
   "id": "6ec50fb4",
   "metadata": {
    "scrolled": true
   },
   "outputs": [
    {
     "data": {
      "text/html": [
       "<div>\n",
       "<style scoped>\n",
       "    .dataframe tbody tr th:only-of-type {\n",
       "        vertical-align: middle;\n",
       "    }\n",
       "\n",
       "    .dataframe tbody tr th {\n",
       "        vertical-align: top;\n",
       "    }\n",
       "\n",
       "    .dataframe thead th {\n",
       "        text-align: right;\n",
       "    }\n",
       "</style>\n",
       "<table border=\"1\" class=\"dataframe\">\n",
       "  <thead>\n",
       "    <tr style=\"text-align: right;\">\n",
       "      <th></th>\n",
       "      <th>children</th>\n",
       "      <th>dob_years</th>\n",
       "      <th>education_id</th>\n",
       "      <th>family_status_id</th>\n",
       "      <th>gender</th>\n",
       "      <th>income_type</th>\n",
       "      <th>debt</th>\n",
       "      <th>total_income</th>\n",
       "      <th>purpose</th>\n",
       "      <th>correct_days_employed</th>\n",
       "      <th>group_total_income</th>\n",
       "      <th>group_purpose</th>\n",
       "    </tr>\n",
       "  </thead>\n",
       "  <tbody>\n",
       "    <tr>\n",
       "      <th>0</th>\n",
       "      <td>1</td>\n",
       "      <td>42</td>\n",
       "      <td>0</td>\n",
       "      <td>0</td>\n",
       "      <td>F</td>\n",
       "      <td>сотрудник</td>\n",
       "      <td>0</td>\n",
       "      <td>253875</td>\n",
       "      <td>покупка жилья</td>\n",
       "      <td>86.272344</td>\n",
       "      <td>B</td>\n",
       "      <td>операции с недвижимостью</td>\n",
       "    </tr>\n",
       "    <tr>\n",
       "      <th>1</th>\n",
       "      <td>1</td>\n",
       "      <td>36</td>\n",
       "      <td>1</td>\n",
       "      <td>0</td>\n",
       "      <td>F</td>\n",
       "      <td>сотрудник</td>\n",
       "      <td>0</td>\n",
       "      <td>112080</td>\n",
       "      <td>приобретение автомобиля</td>\n",
       "      <td>86.272344</td>\n",
       "      <td>C</td>\n",
       "      <td>операции с автомобилем</td>\n",
       "    </tr>\n",
       "    <tr>\n",
       "      <th>2</th>\n",
       "      <td>0</td>\n",
       "      <td>33</td>\n",
       "      <td>1</td>\n",
       "      <td>0</td>\n",
       "      <td>M</td>\n",
       "      <td>сотрудник</td>\n",
       "      <td>0</td>\n",
       "      <td>145885</td>\n",
       "      <td>покупка жилья</td>\n",
       "      <td>67.933106</td>\n",
       "      <td>C</td>\n",
       "      <td>операции с недвижимостью</td>\n",
       "    </tr>\n",
       "    <tr>\n",
       "      <th>3</th>\n",
       "      <td>3</td>\n",
       "      <td>32</td>\n",
       "      <td>1</td>\n",
       "      <td>0</td>\n",
       "      <td>M</td>\n",
       "      <td>сотрудник</td>\n",
       "      <td>0</td>\n",
       "      <td>267628</td>\n",
       "      <td>дополнительное образование</td>\n",
       "      <td>67.933106</td>\n",
       "      <td>B</td>\n",
       "      <td>получение образования</td>\n",
       "    </tr>\n",
       "    <tr>\n",
       "      <th>4</th>\n",
       "      <td>0</td>\n",
       "      <td>53</td>\n",
       "      <td>1</td>\n",
       "      <td>1</td>\n",
       "      <td>F</td>\n",
       "      <td>пенсионер</td>\n",
       "      <td>0</td>\n",
       "      <td>158616</td>\n",
       "      <td>сыграть свадьбу</td>\n",
       "      <td>15213.167609</td>\n",
       "      <td>C</td>\n",
       "      <td>проведение свадьбы</td>\n",
       "    </tr>\n",
       "  </tbody>\n",
       "</table>\n",
       "</div>"
      ],
      "text/plain": [
       "   children  dob_years  education_id  family_status_id gender income_type  \\\n",
       "0         1         42             0                 0      F   сотрудник   \n",
       "1         1         36             1                 0      F   сотрудник   \n",
       "2         0         33             1                 0      M   сотрудник   \n",
       "3         3         32             1                 0      M   сотрудник   \n",
       "4         0         53             1                 1      F   пенсионер   \n",
       "\n",
       "   debt  total_income                     purpose  correct_days_employed  \\\n",
       "0     0        253875               покупка жилья              86.272344   \n",
       "1     0        112080     приобретение автомобиля              86.272344   \n",
       "2     0        145885               покупка жилья              67.933106   \n",
       "3     0        267628  дополнительное образование              67.933106   \n",
       "4     0        158616             сыграть свадьбу           15213.167609   \n",
       "\n",
       "  group_total_income             group_purpose  \n",
       "0                  B  операции с недвижимостью  \n",
       "1                  C    операции с автомобилем  \n",
       "2                  C  операции с недвижимостью  \n",
       "3                  B     получение образования  \n",
       "4                  C        проведение свадьбы  "
      ]
     },
     "execution_count": 25,
     "metadata": {},
     "output_type": "execute_result"
    }
   ],
   "source": [
    "#создаём функцию, которая на основании данных из столбца 'purpose' сформирует новый столбец 'purpose_category', \n",
    "#в который войдут следующие категории: 'операции с автомобилем', 'операции с недвижимостью', 'проведение свадьбы', \n",
    "#'получение образования'\n",
    "def group_purpose(row):\n",
    "    purpose = row['purpose']\n",
    "    if 'автомобил' in purpose:\n",
    "        return 'операции с автомобилем'\n",
    "    elif 'жиль' in purpose or 'недвижимост' in purpose:\n",
    "        return 'операции с недвижимостью'\n",
    "    elif 'свадьб' in purpose:\n",
    "        return 'проведение свадьбы'\n",
    "    elif 'образовани' in purpose:\n",
    "        return 'получение образования'\n",
    "debtors_database['group_purpose'] = debtors_database.apply(group_purpose, axis=1)\n",
    "debtors_database.head()"
   ]
  },
  {
   "cell_type": "markdown",
   "id": "9198945c",
   "metadata": {},
   "source": [
    "### Поиск зависимостей между параметрами\n",
    "\n",
    "#### - взаимосвязь между количеством детей и благонадёжностью заёмщиков"
   ]
  },
  {
   "cell_type": "markdown",
   "id": "3bb279f0",
   "metadata": {},
   "source": [
    "СОтветимгруппируем данные по количеству детей у заёмщиков, которые ввозвращают вредиты в срок(индекс 0) и у которых есть задолженности по кредитам(индекс 1), подсчитаем количество заёмщиков из обоих категорий по количеству детей у них."
   ]
  },
  {
   "cell_type": "code",
   "execution_count": 26,
   "id": "00ae5ff4",
   "metadata": {},
   "outputs": [
    {
     "data": {
      "text/html": [
       "<div>\n",
       "<style scoped>\n",
       "    .dataframe tbody tr th:only-of-type {\n",
       "        vertical-align: middle;\n",
       "    }\n",
       "\n",
       "    .dataframe tbody tr th {\n",
       "        vertical-align: top;\n",
       "    }\n",
       "\n",
       "    .dataframe thead tr th {\n",
       "        text-align: left;\n",
       "    }\n",
       "\n",
       "    .dataframe thead tr:last-of-type th {\n",
       "        text-align: right;\n",
       "    }\n",
       "</style>\n",
       "<table border=\"1\" class=\"dataframe\">\n",
       "  <thead>\n",
       "    <tr>\n",
       "      <th></th>\n",
       "      <th>sum</th>\n",
       "      <th>count</th>\n",
       "      <th>proportion_in_%</th>\n",
       "    </tr>\n",
       "    <tr>\n",
       "      <th></th>\n",
       "      <th>debt</th>\n",
       "      <th>debt</th>\n",
       "      <th></th>\n",
       "    </tr>\n",
       "    <tr>\n",
       "      <th>children</th>\n",
       "      <th></th>\n",
       "      <th></th>\n",
       "      <th></th>\n",
       "    </tr>\n",
       "  </thead>\n",
       "  <tbody>\n",
       "    <tr>\n",
       "      <th>-1</th>\n",
       "      <td>1</td>\n",
       "      <td>47</td>\n",
       "      <td>2.127660</td>\n",
       "    </tr>\n",
       "    <tr>\n",
       "      <th>0</th>\n",
       "      <td>1058</td>\n",
       "      <td>14022</td>\n",
       "      <td>7.545286</td>\n",
       "    </tr>\n",
       "    <tr>\n",
       "      <th>1</th>\n",
       "      <td>441</td>\n",
       "      <td>4792</td>\n",
       "      <td>9.202838</td>\n",
       "    </tr>\n",
       "    <tr>\n",
       "      <th>2</th>\n",
       "      <td>194</td>\n",
       "      <td>2039</td>\n",
       "      <td>9.514468</td>\n",
       "    </tr>\n",
       "    <tr>\n",
       "      <th>3</th>\n",
       "      <td>27</td>\n",
       "      <td>328</td>\n",
       "      <td>8.231707</td>\n",
       "    </tr>\n",
       "    <tr>\n",
       "      <th>4</th>\n",
       "      <td>4</td>\n",
       "      <td>41</td>\n",
       "      <td>9.756098</td>\n",
       "    </tr>\n",
       "    <tr>\n",
       "      <th>5</th>\n",
       "      <td>0</td>\n",
       "      <td>9</td>\n",
       "      <td>0.000000</td>\n",
       "    </tr>\n",
       "    <tr>\n",
       "      <th>20</th>\n",
       "      <td>8</td>\n",
       "      <td>75</td>\n",
       "      <td>10.666667</td>\n",
       "    </tr>\n",
       "  </tbody>\n",
       "</table>\n",
       "</div>"
      ],
      "text/plain": [
       "           sum  count proportion_in_%\n",
       "          debt   debt                \n",
       "children                             \n",
       "-1           1     47        2.127660\n",
       " 0        1058  14022        7.545286\n",
       " 1         441   4792        9.202838\n",
       " 2         194   2039        9.514468\n",
       " 3          27    328        8.231707\n",
       " 4           4     41        9.756098\n",
       " 5           0      9        0.000000\n",
       " 20          8     75       10.666667"
      ]
     },
     "execution_count": 26,
     "metadata": {},
     "output_type": "execute_result"
    }
   ],
   "source": [
    "debt_by_children = debtors_database.pivot_table(index=['children'], values='debt',aggfunc=['sum','count'])\n",
    "debt_by_children['proportion_in_%'] = debt_by_children[(  'sum', 'debt')]/debt_by_children[('count', 'debt')]*100\n",
    "debt_by_children"
   ]
  },
  {
   "cell_type": "markdown",
   "id": "f5bfc77d-2942-4374-bbec-8dff1aaa1b5b",
   "metadata": {},
   "source": [
    "Вывели проценты по каждой категории: среди бездетных людей, процент должников меньше (7,5 %), процент должников у людей с детьми, выше - в среднем, от 9%, никакой тенденции в зависимости от увеличения/ уменьшения количества детей и благонадёжности заёмщиков не выявлено, только у людей с 3-мя детьми - благонадёжность немного выше, процент должников составляет 8,23%."
   ]
  },
  {
   "cell_type": "markdown",
   "id": "f6ff9ba6",
   "metadata": {},
   "source": [
    "Обнаруживаем \"интересный\" факт, у 47 заёмщиков по минус одному ребёнку. Также крайне удивительным выглядит факт присутствия в данных 76 заёмщиков, у каждого из которых 20 детей.Очевидно, в эти данные закралась ошибка, но, поскольку уточнить, откуда она взялась, не представляется возможным, будем анализировать данные дальше без учёта этих 47 заёмщиков, в конце концов это всего 0,6% из общего числа заёмщиков. \n",
    "Из оставшихся данных получившейся таблицы можно сделать вывод, что количество детей у заёмщиков не имеет ключевого значения при оценке их благонадёжности. Так, на одного бездетного заёмщика с задолженностью по кредиту, приходится 12 бездетных заёмщиков, которые возвращают кредиты в срок. Те заёмщики, у которых дети есть, оказываются менее благонадёжными: на одного заёмщика с задодженностью приходится ориентировочно 9-10 порядочных заёмщиков, и доля заёмщиков с задолженностями, у которых дети есть, не имеет тенденции ни к росту, ни к снижению пропорционально количеству детей, наблюдается \"прорыв\" только у заёмщиков, имеющих по трое детей, там на 1 неблагонадёжного заёмщика приходится 11 благонадёжных. Но в общем и целом, выходит, что заёмщики с детьми менее благонадёжны, чем заёмщики без детей."
   ]
  },
  {
   "cell_type": "markdown",
   "id": "160ad7f2",
   "metadata": {},
   "source": [
    "#### - влияние семейного положения на возрат кредита в срок\n",
    "\n",
    "Аналогично сгруппируем оба вида заёмщиков по их семейному положению."
   ]
  },
  {
   "cell_type": "code",
   "execution_count": 27,
   "id": "0cedd952",
   "metadata": {},
   "outputs": [
    {
     "data": {
      "text/html": [
       "<div>\n",
       "<style scoped>\n",
       "    .dataframe tbody tr th:only-of-type {\n",
       "        vertical-align: middle;\n",
       "    }\n",
       "\n",
       "    .dataframe tbody tr th {\n",
       "        vertical-align: top;\n",
       "    }\n",
       "\n",
       "    .dataframe thead tr th {\n",
       "        text-align: left;\n",
       "    }\n",
       "\n",
       "    .dataframe thead tr:last-of-type th {\n",
       "        text-align: right;\n",
       "    }\n",
       "</style>\n",
       "<table border=\"1\" class=\"dataframe\">\n",
       "  <thead>\n",
       "    <tr>\n",
       "      <th></th>\n",
       "      <th>sum</th>\n",
       "      <th>count</th>\n",
       "      <th>proportion_in_%</th>\n",
       "    </tr>\n",
       "    <tr>\n",
       "      <th></th>\n",
       "      <th>debt</th>\n",
       "      <th>debt</th>\n",
       "      <th></th>\n",
       "    </tr>\n",
       "    <tr>\n",
       "      <th>family_status</th>\n",
       "      <th></th>\n",
       "      <th></th>\n",
       "      <th></th>\n",
       "    </tr>\n",
       "  </thead>\n",
       "  <tbody>\n",
       "    <tr>\n",
       "      <th>Не женат / не замужем</th>\n",
       "      <td>273</td>\n",
       "      <td>2794</td>\n",
       "      <td>9.770938</td>\n",
       "    </tr>\n",
       "    <tr>\n",
       "      <th>в разводе</th>\n",
       "      <td>85</td>\n",
       "      <td>1185</td>\n",
       "      <td>7.172996</td>\n",
       "    </tr>\n",
       "    <tr>\n",
       "      <th>вдовец / вдова</th>\n",
       "      <td>62</td>\n",
       "      <td>954</td>\n",
       "      <td>6.498952</td>\n",
       "    </tr>\n",
       "    <tr>\n",
       "      <th>гражданский брак</th>\n",
       "      <td>386</td>\n",
       "      <td>4130</td>\n",
       "      <td>9.346247</td>\n",
       "    </tr>\n",
       "    <tr>\n",
       "      <th>женат / замужем</th>\n",
       "      <td>927</td>\n",
       "      <td>12290</td>\n",
       "      <td>7.542718</td>\n",
       "    </tr>\n",
       "  </tbody>\n",
       "</table>\n",
       "</div>"
      ],
      "text/plain": [
       "                       sum  count proportion_in_%\n",
       "                      debt   debt                \n",
       "family_status                                    \n",
       "Не женат / не замужем  273   2794        9.770938\n",
       "в разводе               85   1185        7.172996\n",
       "вдовец / вдова          62    954        6.498952\n",
       "гражданский брак       386   4130        9.346247\n",
       "женат / замужем        927  12290        7.542718"
      ]
     },
     "execution_count": 27,
     "metadata": {},
     "output_type": "execute_result"
    }
   ],
   "source": [
    "debt_by_family_status = debtors_database[['family_status_id', 'debt']].merge(family_dict, on='family_status_id', how='right')\n",
    "debt_by_family_status = debt_by_family_status.pivot_table(index=['family_status'], values='debt',aggfunc=['sum','count'])\n",
    "debt_by_family_status['proportion_in_%'] = debt_by_family_status[(  'sum', 'debt')]/debt_by_family_status[('count', 'debt')]*100\n",
    "debt_by_family_status"
   ]
  },
  {
   "cell_type": "markdown",
   "id": "4ff0022f",
   "metadata": {},
   "source": [
    "Анализ данной таблицы показывает, что несемейные люди и люди, живущие в гражданском браке, менее благонадёжные заёмщики (на одного заёмщика, имеющего задолженность, приходится 9 заёмщиков, которые возвращают кредиты в срок). Наиболее благонадёжные заёмщики оказались среди вдовцов и вдов (14 благонадёжных на 1 неблагонадёжного), далее идут люди в разводе(13/1) и люди, состоящие в браке(12/1)."
   ]
  },
  {
   "cell_type": "markdown",
   "id": "42bde36d",
   "metadata": {},
   "source": [
    "#### - взаимосвязь между уровнем дохода и благонадёжностью заёмщиков\n",
    "\n",
    "Группируем оба вида заёмщиков по их доходу."
   ]
  },
  {
   "cell_type": "code",
   "execution_count": 28,
   "id": "1a5109c6",
   "metadata": {},
   "outputs": [
    {
     "data": {
      "text/html": [
       "<div>\n",
       "<style scoped>\n",
       "    .dataframe tbody tr th:only-of-type {\n",
       "        vertical-align: middle;\n",
       "    }\n",
       "\n",
       "    .dataframe tbody tr th {\n",
       "        vertical-align: top;\n",
       "    }\n",
       "\n",
       "    .dataframe thead tr th {\n",
       "        text-align: left;\n",
       "    }\n",
       "\n",
       "    .dataframe thead tr:last-of-type th {\n",
       "        text-align: right;\n",
       "    }\n",
       "</style>\n",
       "<table border=\"1\" class=\"dataframe\">\n",
       "  <thead>\n",
       "    <tr>\n",
       "      <th></th>\n",
       "      <th>sum</th>\n",
       "      <th>count</th>\n",
       "      <th>proportion_in_%</th>\n",
       "    </tr>\n",
       "    <tr>\n",
       "      <th></th>\n",
       "      <th>debt</th>\n",
       "      <th>debt</th>\n",
       "      <th></th>\n",
       "    </tr>\n",
       "    <tr>\n",
       "      <th>group_total_income</th>\n",
       "      <th></th>\n",
       "      <th></th>\n",
       "      <th></th>\n",
       "    </tr>\n",
       "  </thead>\n",
       "  <tbody>\n",
       "    <tr>\n",
       "      <th>A</th>\n",
       "      <td>2</td>\n",
       "      <td>25</td>\n",
       "      <td>8.000000</td>\n",
       "    </tr>\n",
       "    <tr>\n",
       "      <th>B</th>\n",
       "      <td>355</td>\n",
       "      <td>5015</td>\n",
       "      <td>7.078764</td>\n",
       "    </tr>\n",
       "    <tr>\n",
       "      <th>C</th>\n",
       "      <td>1353</td>\n",
       "      <td>15943</td>\n",
       "      <td>8.486483</td>\n",
       "    </tr>\n",
       "    <tr>\n",
       "      <th>D</th>\n",
       "      <td>21</td>\n",
       "      <td>348</td>\n",
       "      <td>6.034483</td>\n",
       "    </tr>\n",
       "    <tr>\n",
       "      <th>E</th>\n",
       "      <td>2</td>\n",
       "      <td>22</td>\n",
       "      <td>9.090909</td>\n",
       "    </tr>\n",
       "  </tbody>\n",
       "</table>\n",
       "</div>"
      ],
      "text/plain": [
       "                     sum  count proportion_in_%\n",
       "                    debt   debt                \n",
       "group_total_income                             \n",
       "A                      2     25        8.000000\n",
       "B                    355   5015        7.078764\n",
       "C                   1353  15943        8.486483\n",
       "D                     21    348        6.034483\n",
       "E                      2     22        9.090909"
      ]
     },
     "execution_count": 28,
     "metadata": {},
     "output_type": "execute_result"
    }
   ],
   "source": [
    "debt_by_income = debtors_database.pivot_table(index=['group_total_income'], values='debt',aggfunc=['sum','count'])\n",
    "debt_by_income['proportion_in_%'] = debt_by_income[(  'sum', 'debt')]/debt_by_income[('count', 'debt')]*100\n",
    "debt_by_income"
   ]
  },
  {
   "cell_type": "markdown",
   "id": "ab5f2b52",
   "metadata": {},
   "source": [
    "В группе А у нас люди с наибольшим уровнем дохода, в группе Е - с наименьшим. Показательно, что среди людей с наименьшим уровнем дохода меньше всего благонадёжных заёмщиков(10 к одному), немного больше их в группе С со средним уровнем дохода (10,8 к одному) и ещё немного больше в группе с наибольшим уровнем дохода(11,5 к одному). Но самыми благонадёжными заёмщиками оказались люди с доходом от 30 до 50 тысяч (группа D), тут на одного неблагонадёжного заёмщика приходится 15,7 надёжных. Следующая по благонадёжности - группа В (от 200 тыс. до 1 млн), тут на одного неблагонадёжного заёмщика приходится 13,2 надёжных."
   ]
  },
  {
   "cell_type": "markdown",
   "id": "26330036",
   "metadata": {},
   "source": [
    "#### - влияние различных целей кредита на его возврат в срок\n",
    "\n",
    "Группируем заёмщиков по различным типам целей."
   ]
  },
  {
   "cell_type": "code",
   "execution_count": 29,
   "id": "8bc600b0",
   "metadata": {},
   "outputs": [
    {
     "data": {
      "text/html": [
       "<div>\n",
       "<style scoped>\n",
       "    .dataframe tbody tr th:only-of-type {\n",
       "        vertical-align: middle;\n",
       "    }\n",
       "\n",
       "    .dataframe tbody tr th {\n",
       "        vertical-align: top;\n",
       "    }\n",
       "\n",
       "    .dataframe thead tr th {\n",
       "        text-align: left;\n",
       "    }\n",
       "\n",
       "    .dataframe thead tr:last-of-type th {\n",
       "        text-align: right;\n",
       "    }\n",
       "</style>\n",
       "<table border=\"1\" class=\"dataframe\">\n",
       "  <thead>\n",
       "    <tr>\n",
       "      <th></th>\n",
       "      <th>sum</th>\n",
       "      <th>count</th>\n",
       "      <th>proportion_in_%</th>\n",
       "    </tr>\n",
       "    <tr>\n",
       "      <th></th>\n",
       "      <th>debt</th>\n",
       "      <th>debt</th>\n",
       "      <th></th>\n",
       "    </tr>\n",
       "    <tr>\n",
       "      <th>group_purpose</th>\n",
       "      <th></th>\n",
       "      <th></th>\n",
       "      <th></th>\n",
       "    </tr>\n",
       "  </thead>\n",
       "  <tbody>\n",
       "    <tr>\n",
       "      <th>операции с автомобилем</th>\n",
       "      <td>400</td>\n",
       "      <td>4284</td>\n",
       "      <td>9.337068</td>\n",
       "    </tr>\n",
       "    <tr>\n",
       "      <th>операции с недвижимостью</th>\n",
       "      <td>779</td>\n",
       "      <td>10764</td>\n",
       "      <td>7.237087</td>\n",
       "    </tr>\n",
       "    <tr>\n",
       "      <th>получение образования</th>\n",
       "      <td>370</td>\n",
       "      <td>3995</td>\n",
       "      <td>9.261577</td>\n",
       "    </tr>\n",
       "    <tr>\n",
       "      <th>проведение свадьбы</th>\n",
       "      <td>184</td>\n",
       "      <td>2310</td>\n",
       "      <td>7.965368</td>\n",
       "    </tr>\n",
       "  </tbody>\n",
       "</table>\n",
       "</div>"
      ],
      "text/plain": [
       "                          sum  count proportion_in_%\n",
       "                         debt   debt                \n",
       "group_purpose                                       \n",
       "операции с автомобилем    400   4284        9.337068\n",
       "операции с недвижимостью  779  10764        7.237087\n",
       "получение образования     370   3995        9.261577\n",
       "проведение свадьбы        184   2310        7.965368"
      ]
     },
     "execution_count": 29,
     "metadata": {},
     "output_type": "execute_result"
    }
   ],
   "source": [
    "debt_by_purpose = debtors_database.pivot_table(index=['group_purpose'], values='debt',aggfunc=['sum','count'])\n",
    "debt_by_purpose['proportion_in_%'] = debt_by_purpose[(  'sum', 'debt')]/debt_by_purpose[('count', 'debt')]*100\n",
    "debt_by_purpose"
   ]
  },
  {
   "cell_type": "markdown",
   "id": "88afb92d",
   "metadata": {},
   "source": [
    "Больше всего кредитов заёмщики берут для осуществления операций с недвижимостью, меньше всего - на проведение свадеб.\n",
    "При этом на одного человека, который имеет задолженность по свадебному кредиту, приходится 11,6 человек, которые рассчитываются за такой кредит вовремя. По кредитам на недвижимость ситуация выглядит лучше всего (12,8 к одному).Хуже всего обстоят дела с кредитами на образование (9,8 к одному) и на автомобили(9,7 к одному)."
   ]
  },
  {
   "cell_type": "markdown",
   "id": "6af70e53",
   "metadata": {},
   "source": [
    "Подытожим полученные данные:\n",
    "\n",
    "1) Несемейные люди и люди, живущие в гражданском браке, менее благонадёжные заёмщики (9,8% и 9,3% должников). Наиболее благонадёжные заёмщики оказались среди вдовцов и вдов (6,5% должников), далее идут люди в разводе(7,2%) и люди, состоящие в браке(7,5%).\n",
    "\n",
    "2) Среди людей с наименьшим уровнем дохода меньше всего благонадёжных заёмщиков (9,1% должников), немного больше их в группе С со средним уровнем дохода (8,5% должников) и ещё немного больше в группе с наибольшим уровнем дохода(8% должников). Самые благонадёжные заёмщики среди людей с доходом от 30 до 50 тысяч (группа D), тут примерно 6% должников, следующая по благонадёжности - группа В (от 200 тыс. до 1 млн), тут 7,1% должников.\n",
    "\n",
    "3) Среди людей, которые берут кредиты на образование и автомобили больше всего должников (примерно по 9,3% должников), по свадебным кредитам - примерно 8% должников, меньше всего должников по ипотечным кредитам - всего 7,2%.\n",
    "</div>"
   ]
  },
  {
   "cell_type": "markdown",
   "id": "9ed144a7",
   "metadata": {},
   "source": [
    "## Общий вывод:"
   ]
  },
  {
   "cell_type": "markdown",
   "id": "9b1cb354",
   "metadata": {},
   "source": [
    "В данном проекте был проведён анализ зависимости возврата кредита в срок от н/у факторов:\n",
    "- количество детей у заёмщика\n",
    "- семейное положение заёмщика\n",
    "- уровень его дохода\n",
    "- цель кредитования\n",
    "\n",
    "Анализ приводит к довольно неожиданным выводам:\n",
    "- наиболее надёжными заёмщиками являются бездетные вдовцы и вдовы с уровнем дохода от 30 до 50 тысяч, которые берут кредиты для операций с недвижимостью\n",
    "- наименее надёжные заёмщики - среди холостых людей с детьми и уровнем дохода до 30 тысяч, которые берут кредиты для операций с автомобилем.\n",
    "Возможно, имеет смысл перепроверять и соотносить данные не только по отдельным критериям, а по их совокупности.\n",
    "Ради интереса можно поискать в нашем датафрейме самых надёжных и самых ненадёжных заёмщиков по совокупности проанализированных параметров, есть вероятность, что таких людей, в целом, окажется немного.\n",
    "Проверка показала, что самых надёждых заёмщиков в нашем датафрейме 11, а вот самых ненадёжных - нет совсем."
   ]
  },
  {
   "cell_type": "code",
   "execution_count": 30,
   "id": "09edfe22",
   "metadata": {},
   "outputs": [
    {
     "data": {
      "text/plain": [
       "debt\n",
       "0    11\n",
       "Name: debt, dtype: int64"
      ]
     },
     "execution_count": 30,
     "metadata": {},
     "output_type": "execute_result"
    }
   ],
   "source": [
    "debtors_database[(debtors_database['children']==0) & (debtors_database['family_status_id']==2) & (debtors_database['group_total_income']=='D') & (debtors_database['group_purpose']=='операции с недвижимостью')].groupby('debt')['debt'].count()"
   ]
  },
  {
   "cell_type": "code",
   "execution_count": 31,
   "id": "2b85b6f0",
   "metadata": {},
   "outputs": [
    {
     "data": {
      "text/plain": [
       "Series([], Name: debt, dtype: int64)"
      ]
     },
     "execution_count": 31,
     "metadata": {},
     "output_type": "execute_result"
    }
   ],
   "source": [
    "debtors_database[(debtors_database['children']>0) & (debtors_database['family_status_id']==1) & (debtors_database['group_total_income']=='С') & (debtors_database['group_purpose']=='получение образования')].groupby('debt')['debt'].count()"
   ]
  }
 ],
 "metadata": {
  "ExecuteTimeLog": [
   {
    "duration": 922,
    "start_time": "2022-02-23T16:27:50.181Z"
   },
   {
    "duration": 65,
    "start_time": "2022-02-23T16:28:34.996Z"
   },
   {
    "duration": 8,
    "start_time": "2022-02-23T16:34:45.777Z"
   },
   {
    "duration": 5,
    "start_time": "2022-02-23T16:38:23.398Z"
   },
   {
    "duration": 5,
    "start_time": "2022-02-23T16:39:46.700Z"
   },
   {
    "duration": 8,
    "start_time": "2022-02-23T16:45:01.433Z"
   },
   {
    "duration": 5,
    "start_time": "2022-02-23T16:46:27.441Z"
   },
   {
    "duration": 4,
    "start_time": "2022-02-23T16:46:29.671Z"
   },
   {
    "duration": 331,
    "start_time": "2022-02-23T16:51:09.619Z"
   },
   {
    "duration": 5,
    "start_time": "2022-02-23T16:51:21.080Z"
   },
   {
    "duration": 7,
    "start_time": "2022-02-23T16:54:36.511Z"
   },
   {
    "duration": 4,
    "start_time": "2022-02-23T16:56:35.058Z"
   },
   {
    "duration": 5,
    "start_time": "2022-02-23T16:56:44.941Z"
   },
   {
    "duration": 11,
    "start_time": "2022-02-23T16:58:41.917Z"
   },
   {
    "duration": 12,
    "start_time": "2022-02-23T16:59:30.635Z"
   },
   {
    "duration": 10,
    "start_time": "2022-02-23T16:59:42.624Z"
   },
   {
    "duration": 11,
    "start_time": "2022-02-23T17:00:13.047Z"
   },
   {
    "duration": 309,
    "start_time": "2022-02-23T17:03:50.757Z"
   },
   {
    "duration": 277,
    "start_time": "2022-02-23T17:04:12.775Z"
   },
   {
    "duration": 7,
    "start_time": "2022-02-23T17:04:26.716Z"
   },
   {
    "duration": 5,
    "start_time": "2022-02-23T17:04:57.194Z"
   },
   {
    "duration": 6,
    "start_time": "2022-02-23T17:05:10.280Z"
   },
   {
    "duration": 11,
    "start_time": "2022-02-23T17:08:41.081Z"
   },
   {
    "duration": 12,
    "start_time": "2022-02-23T17:09:29.251Z"
   },
   {
    "duration": 5,
    "start_time": "2022-02-23T17:10:03.797Z"
   },
   {
    "duration": 6,
    "start_time": "2022-02-23T17:10:17.504Z"
   },
   {
    "duration": 6,
    "start_time": "2022-02-23T17:11:10.264Z"
   },
   {
    "duration": 11,
    "start_time": "2022-02-23T17:11:17.891Z"
   },
   {
    "duration": 150,
    "start_time": "2022-02-23T17:12:09.886Z"
   },
   {
    "duration": 61,
    "start_time": "2022-02-23T17:12:22.110Z"
   },
   {
    "duration": 52,
    "start_time": "2022-02-23T17:13:56.717Z"
   },
   {
    "duration": 19,
    "start_time": "2022-02-23T17:15:11.940Z"
   },
   {
    "duration": 7,
    "start_time": "2022-02-23T17:15:52.692Z"
   },
   {
    "duration": -385,
    "start_time": "2022-02-23T17:16:39.937Z"
   },
   {
    "duration": -1376,
    "start_time": "2022-02-23T17:16:49.227Z"
   },
   {
    "duration": 10,
    "start_time": "2022-02-23T17:16:56.969Z"
   },
   {
    "duration": 17,
    "start_time": "2022-02-23T17:17:12.156Z"
   },
   {
    "duration": 21,
    "start_time": "2022-02-23T17:17:25.143Z"
   },
   {
    "duration": 6,
    "start_time": "2022-02-23T17:18:33.089Z"
   },
   {
    "duration": 7,
    "start_time": "2022-02-23T17:19:07.186Z"
   },
   {
    "duration": 8,
    "start_time": "2022-02-23T17:19:29.580Z"
   },
   {
    "duration": 7,
    "start_time": "2022-02-23T17:19:37.455Z"
   },
   {
    "duration": 12,
    "start_time": "2022-02-23T17:24:23.532Z"
   },
   {
    "duration": 56,
    "start_time": "2022-02-23T17:24:45.108Z"
   },
   {
    "duration": 8,
    "start_time": "2022-02-23T17:24:49.061Z"
   },
   {
    "duration": 341,
    "start_time": "2022-02-23T17:26:15.081Z"
   },
   {
    "duration": 20,
    "start_time": "2022-02-23T17:26:24.204Z"
   },
   {
    "duration": 7,
    "start_time": "2022-02-23T17:27:41.745Z"
   },
   {
    "duration": 9,
    "start_time": "2022-02-23T17:28:53.648Z"
   },
   {
    "duration": 13,
    "start_time": "2022-02-23T17:29:30.126Z"
   },
   {
    "duration": 8,
    "start_time": "2022-02-23T17:29:46.153Z"
   },
   {
    "duration": 13,
    "start_time": "2022-02-23T17:30:02.801Z"
   },
   {
    "duration": 12,
    "start_time": "2022-02-23T17:31:18.820Z"
   },
   {
    "duration": 14,
    "start_time": "2022-02-23T17:33:22.098Z"
   },
   {
    "duration": 99,
    "start_time": "2022-02-23T17:39:08.086Z"
   },
   {
    "duration": 20,
    "start_time": "2022-02-23T17:40:03.829Z"
   },
   {
    "duration": 645,
    "start_time": "2022-02-23T19:59:14.944Z"
   },
   {
    "duration": 61,
    "start_time": "2022-02-23T20:06:44.458Z"
   },
   {
    "duration": 66,
    "start_time": "2022-02-23T20:15:57.096Z"
   },
   {
    "duration": 104,
    "start_time": "2022-02-23T20:17:15.224Z"
   },
   {
    "duration": 102,
    "start_time": "2022-02-23T20:17:24.264Z"
   },
   {
    "duration": 329,
    "start_time": "2022-02-23T20:17:32.909Z"
   },
   {
    "duration": 11,
    "start_time": "2022-02-23T20:18:22.712Z"
   },
   {
    "duration": 109,
    "start_time": "2022-02-23T20:21:12.003Z"
   },
   {
    "duration": 90,
    "start_time": "2022-02-23T20:22:44.409Z"
   },
   {
    "duration": 9,
    "start_time": "2022-02-23T20:23:40.047Z"
   },
   {
    "duration": 9,
    "start_time": "2022-02-23T20:23:57.688Z"
   },
   {
    "duration": 114,
    "start_time": "2022-02-23T20:25:13.925Z"
   },
   {
    "duration": 99,
    "start_time": "2022-02-23T20:25:31.284Z"
   },
   {
    "duration": 10,
    "start_time": "2022-02-23T20:30:03.135Z"
   },
   {
    "duration": 10,
    "start_time": "2022-02-23T20:30:39.686Z"
   },
   {
    "duration": 9,
    "start_time": "2022-02-23T20:31:04.165Z"
   },
   {
    "duration": 13,
    "start_time": "2022-02-23T20:31:14.750Z"
   },
   {
    "duration": 13,
    "start_time": "2022-02-23T20:35:55.455Z"
   },
   {
    "duration": 102,
    "start_time": "2022-02-23T20:36:19.544Z"
   },
   {
    "duration": 11,
    "start_time": "2022-02-23T20:36:45.079Z"
   },
   {
    "duration": 61,
    "start_time": "2022-02-23T20:36:59.560Z"
   },
   {
    "duration": 7,
    "start_time": "2022-02-23T20:36:59.623Z"
   },
   {
    "duration": 64,
    "start_time": "2022-02-23T20:37:21.120Z"
   },
   {
    "duration": 9,
    "start_time": "2022-02-23T20:37:21.186Z"
   },
   {
    "duration": 8,
    "start_time": "2022-02-23T20:37:21.197Z"
   },
   {
    "duration": 25,
    "start_time": "2022-02-23T20:37:21.207Z"
   },
   {
    "duration": 4,
    "start_time": "2022-02-23T20:37:21.234Z"
   },
   {
    "duration": 14,
    "start_time": "2022-02-23T20:42:15.384Z"
   },
   {
    "duration": 277,
    "start_time": "2022-02-23T20:54:44.052Z"
   },
   {
    "duration": 10,
    "start_time": "2022-02-23T20:54:59.631Z"
   },
   {
    "duration": 7,
    "start_time": "2022-02-23T20:55:44.287Z"
   },
   {
    "duration": 8,
    "start_time": "2022-02-23T20:55:46.347Z"
   },
   {
    "duration": 8,
    "start_time": "2022-02-23T20:55:47.850Z"
   },
   {
    "duration": 21,
    "start_time": "2022-02-23T20:58:05.374Z"
   },
   {
    "duration": 50,
    "start_time": "2022-02-23T20:59:55.853Z"
   },
   {
    "duration": 23,
    "start_time": "2022-02-23T21:15:25.557Z"
   },
   {
    "duration": 13,
    "start_time": "2022-02-23T21:22:04.400Z"
   },
   {
    "duration": 510,
    "start_time": "2022-02-23T21:46:37.671Z"
   },
   {
    "duration": 217,
    "start_time": "2022-02-23T21:46:58.213Z"
   },
   {
    "duration": 248,
    "start_time": "2022-02-23T21:47:33.730Z"
   },
   {
    "duration": 246,
    "start_time": "2022-02-23T21:48:29.770Z"
   },
   {
    "duration": 233,
    "start_time": "2022-02-23T21:50:15.503Z"
   },
   {
    "duration": 243,
    "start_time": "2022-02-23T21:50:36.537Z"
   },
   {
    "duration": 66,
    "start_time": "2022-02-23T22:16:36.762Z"
   },
   {
    "duration": 7,
    "start_time": "2022-02-23T22:16:36.831Z"
   },
   {
    "duration": 48,
    "start_time": "2022-02-23T22:16:36.840Z"
   },
   {
    "duration": 11,
    "start_time": "2022-02-23T22:16:36.890Z"
   },
   {
    "duration": 40,
    "start_time": "2022-02-23T22:16:36.903Z"
   },
   {
    "duration": 246,
    "start_time": "2022-02-23T22:16:36.945Z"
   },
   {
    "duration": 63,
    "start_time": "2022-02-23T22:21:08.028Z"
   },
   {
    "duration": 6,
    "start_time": "2022-02-23T22:21:08.093Z"
   },
   {
    "duration": 62,
    "start_time": "2022-02-23T22:21:08.101Z"
   },
   {
    "duration": 13,
    "start_time": "2022-02-23T22:21:08.165Z"
   },
   {
    "duration": 21,
    "start_time": "2022-02-23T22:21:08.180Z"
   },
   {
    "duration": 262,
    "start_time": "2022-02-23T22:21:08.202Z"
   },
   {
    "duration": 3,
    "start_time": "2022-02-23T22:21:08.466Z"
   },
   {
    "duration": 12,
    "start_time": "2022-02-23T22:21:30.659Z"
   },
   {
    "duration": 23,
    "start_time": "2022-02-23T22:28:13.662Z"
   },
   {
    "duration": 18,
    "start_time": "2022-02-23T22:29:40.755Z"
   },
   {
    "duration": 18,
    "start_time": "2022-02-23T22:29:55.853Z"
   },
   {
    "duration": 18,
    "start_time": "2022-02-23T22:30:14.274Z"
   },
   {
    "duration": 29,
    "start_time": "2022-02-23T22:32:47.672Z"
   },
   {
    "duration": 251,
    "start_time": "2022-02-23T22:46:50.034Z"
   },
   {
    "duration": 241,
    "start_time": "2022-02-23T22:48:59.747Z"
   },
   {
    "duration": 5180,
    "start_time": "2022-02-23T22:53:50.953Z"
   },
   {
    "duration": 562,
    "start_time": "2022-02-23T22:55:25.765Z"
   },
   {
    "duration": 727,
    "start_time": "2022-02-23T22:56:29.618Z"
   },
   {
    "duration": 643,
    "start_time": "2022-02-23T22:57:02.950Z"
   },
   {
    "duration": 238,
    "start_time": "2022-02-23T22:57:41.298Z"
   },
   {
    "duration": 279,
    "start_time": "2022-02-23T23:01:55.166Z"
   },
   {
    "duration": 287,
    "start_time": "2022-02-23T23:02:22.852Z"
   },
   {
    "duration": 5,
    "start_time": "2022-02-23T23:04:18.385Z"
   },
   {
    "duration": 5,
    "start_time": "2022-02-23T23:04:23.534Z"
   },
   {
    "duration": 22,
    "start_time": "2022-02-23T23:04:56.538Z"
   },
   {
    "duration": 286,
    "start_time": "2022-02-23T23:07:31.877Z"
   },
   {
    "duration": 22,
    "start_time": "2022-02-23T23:08:27.638Z"
   },
   {
    "duration": 344,
    "start_time": "2022-02-23T23:08:55.084Z"
   },
   {
    "duration": 276,
    "start_time": "2022-02-23T23:09:28.709Z"
   },
   {
    "duration": 1317,
    "start_time": "2022-02-23T23:11:06.305Z"
   },
   {
    "duration": 95,
    "start_time": "2022-02-23T23:15:07.420Z"
   },
   {
    "duration": 15,
    "start_time": "2022-02-23T23:15:56.287Z"
   },
   {
    "duration": 20,
    "start_time": "2022-02-23T23:16:05.196Z"
   },
   {
    "duration": 7,
    "start_time": "2022-02-23T23:17:22.524Z"
   },
   {
    "duration": 23447,
    "start_time": "2022-02-23T23:18:14.198Z"
   },
   {
    "duration": 22187,
    "start_time": "2022-02-23T23:24:22.569Z"
   },
   {
    "duration": 31,
    "start_time": "2022-02-23T23:26:54.960Z"
   },
   {
    "duration": 43,
    "start_time": "2022-02-23T23:28:01.949Z"
   },
   {
    "duration": 264,
    "start_time": "2022-02-23T23:30:09.794Z"
   },
   {
    "duration": 41,
    "start_time": "2022-02-23T23:31:27.506Z"
   },
   {
    "duration": 260,
    "start_time": "2022-02-23T23:32:35.782Z"
   },
   {
    "duration": 14,
    "start_time": "2022-02-23T23:33:38.508Z"
   },
   {
    "duration": 11,
    "start_time": "2022-02-23T23:35:49.822Z"
   },
   {
    "duration": 7,
    "start_time": "2022-02-23T23:37:18.861Z"
   },
   {
    "duration": 7,
    "start_time": "2022-02-23T23:38:12.604Z"
   },
   {
    "duration": 274,
    "start_time": "2022-02-23T23:39:02.213Z"
   },
   {
    "duration": 6,
    "start_time": "2022-02-23T23:39:46.566Z"
   },
   {
    "duration": 17,
    "start_time": "2022-02-23T23:40:41.000Z"
   },
   {
    "duration": 6,
    "start_time": "2022-02-23T23:42:21.380Z"
   },
   {
    "duration": 7,
    "start_time": "2022-02-23T23:42:34.809Z"
   },
   {
    "duration": 5,
    "start_time": "2022-02-23T23:44:08.726Z"
   },
   {
    "duration": 12,
    "start_time": "2022-02-23T23:44:31.105Z"
   },
   {
    "duration": 7,
    "start_time": "2022-02-23T23:45:10.343Z"
   },
   {
    "duration": 13,
    "start_time": "2022-02-23T23:46:43.172Z"
   },
   {
    "duration": 20,
    "start_time": "2022-02-23T23:47:08.659Z"
   },
   {
    "duration": 296,
    "start_time": "2022-02-24T00:09:51.010Z"
   },
   {
    "duration": 7,
    "start_time": "2022-02-24T00:09:57.097Z"
   },
   {
    "duration": 92,
    "start_time": "2022-02-24T00:12:23.220Z"
   },
   {
    "duration": 8,
    "start_time": "2022-02-24T00:12:36.934Z"
   },
   {
    "duration": 272,
    "start_time": "2022-02-24T00:12:57.109Z"
   },
   {
    "duration": 271,
    "start_time": "2022-02-24T00:13:18.607Z"
   },
   {
    "duration": 66,
    "start_time": "2022-02-24T00:14:45.311Z"
   },
   {
    "duration": 8,
    "start_time": "2022-02-24T00:14:45.379Z"
   },
   {
    "duration": 63,
    "start_time": "2022-02-24T00:14:45.388Z"
   },
   {
    "duration": 11,
    "start_time": "2022-02-24T00:14:45.453Z"
   },
   {
    "duration": 19,
    "start_time": "2022-02-24T00:14:45.466Z"
   },
   {
    "duration": 21471,
    "start_time": "2022-02-24T00:14:45.486Z"
   },
   {
    "duration": 13,
    "start_time": "2022-02-24T00:15:06.959Z"
   },
   {
    "duration": 58,
    "start_time": "2022-02-24T00:15:06.973Z"
   },
   {
    "duration": 18,
    "start_time": "2022-02-24T00:15:07.033Z"
   },
   {
    "duration": 20,
    "start_time": "2022-02-24T00:16:10.440Z"
   },
   {
    "duration": 216,
    "start_time": "2022-02-24T00:25:52.762Z"
   },
   {
    "duration": 231,
    "start_time": "2022-02-24T00:26:15.310Z"
   },
   {
    "duration": 7205,
    "start_time": "2022-02-24T00:29:50.513Z"
   },
   {
    "duration": 8,
    "start_time": "2022-02-24T00:30:41.273Z"
   },
   {
    "duration": 234,
    "start_time": "2022-02-24T00:35:57.547Z"
   },
   {
    "duration": -1192,
    "start_time": "2022-02-24T00:39:45.298Z"
   },
   {
    "duration": 13,
    "start_time": "2022-02-24T00:39:51.365Z"
   },
   {
    "duration": 111,
    "start_time": "2022-02-24T00:41:33.393Z"
   },
   {
    "duration": 127,
    "start_time": "2022-02-24T00:41:51.433Z"
   },
   {
    "duration": 7,
    "start_time": "2022-02-24T00:42:43.596Z"
   },
   {
    "duration": 8,
    "start_time": "2022-02-24T00:43:16.500Z"
   },
   {
    "duration": 8,
    "start_time": "2022-02-24T00:43:31.498Z"
   },
   {
    "duration": 7,
    "start_time": "2022-02-24T00:43:43.681Z"
   },
   {
    "duration": 276,
    "start_time": "2022-02-24T00:44:36.676Z"
   },
   {
    "duration": 25,
    "start_time": "2022-02-24T00:45:00.811Z"
   },
   {
    "duration": 11,
    "start_time": "2022-02-24T00:45:32.354Z"
   },
   {
    "duration": 11,
    "start_time": "2022-02-24T00:46:10.687Z"
   },
   {
    "duration": 15,
    "start_time": "2022-02-24T00:46:23.819Z"
   },
   {
    "duration": 9,
    "start_time": "2022-02-24T00:46:53.993Z"
   },
   {
    "duration": 9,
    "start_time": "2022-02-24T00:47:01.961Z"
   },
   {
    "duration": 8,
    "start_time": "2022-02-24T00:47:08.695Z"
   },
   {
    "duration": 8,
    "start_time": "2022-02-24T00:47:17.303Z"
   },
   {
    "duration": 5,
    "start_time": "2022-02-24T00:47:52.968Z"
   },
   {
    "duration": 9,
    "start_time": "2022-02-24T00:50:40.574Z"
   },
   {
    "duration": 9,
    "start_time": "2022-02-24T00:50:55.904Z"
   },
   {
    "duration": 6,
    "start_time": "2022-02-24T00:51:10.939Z"
   },
   {
    "duration": 5,
    "start_time": "2022-02-24T00:51:35.350Z"
   },
   {
    "duration": 8,
    "start_time": "2022-02-24T00:51:44.906Z"
   },
   {
    "duration": 23,
    "start_time": "2022-02-24T00:52:13.935Z"
   },
   {
    "duration": -1263,
    "start_time": "2022-02-24T00:55:39.401Z"
   },
   {
    "duration": 6,
    "start_time": "2022-02-24T00:56:03.888Z"
   },
   {
    "duration": 8,
    "start_time": "2022-02-24T00:57:19.512Z"
   },
   {
    "duration": 5,
    "start_time": "2022-02-24T00:57:46.765Z"
   },
   {
    "duration": 7,
    "start_time": "2022-02-24T00:58:06.633Z"
   },
   {
    "duration": 2,
    "start_time": "2022-02-24T00:59:58.414Z"
   },
   {
    "duration": 12,
    "start_time": "2022-02-24T01:00:05.857Z"
   },
   {
    "duration": 10,
    "start_time": "2022-02-24T01:00:18.485Z"
   },
   {
    "duration": 9,
    "start_time": "2022-02-24T01:00:25.772Z"
   },
   {
    "duration": 9,
    "start_time": "2022-02-24T01:00:34.212Z"
   },
   {
    "duration": 9,
    "start_time": "2022-02-24T01:00:42.177Z"
   },
   {
    "duration": 10,
    "start_time": "2022-02-24T01:00:48.467Z"
   },
   {
    "duration": 11,
    "start_time": "2022-02-24T01:01:51.666Z"
   },
   {
    "duration": 7,
    "start_time": "2022-02-24T01:03:26.053Z"
   },
   {
    "duration": 6,
    "start_time": "2022-02-24T01:04:13.992Z"
   },
   {
    "duration": 6,
    "start_time": "2022-02-24T01:04:14.133Z"
   },
   {
    "duration": 8,
    "start_time": "2022-02-24T01:05:43.712Z"
   },
   {
    "duration": 9,
    "start_time": "2022-02-24T01:05:54.965Z"
   },
   {
    "duration": 9,
    "start_time": "2022-02-24T01:06:10.232Z"
   },
   {
    "duration": 851,
    "start_time": "2022-02-24T20:32:28.238Z"
   },
   {
    "duration": 13,
    "start_time": "2022-02-24T20:32:29.091Z"
   },
   {
    "duration": 110,
    "start_time": "2022-02-24T20:32:29.107Z"
   },
   {
    "duration": 20,
    "start_time": "2022-02-24T20:32:29.220Z"
   },
   {
    "duration": 62,
    "start_time": "2022-02-24T20:32:29.242Z"
   },
   {
    "duration": 37998,
    "start_time": "2022-02-24T20:32:29.306Z"
   },
   {
    "duration": 21,
    "start_time": "2022-02-24T20:33:07.306Z"
   },
   {
    "duration": 106,
    "start_time": "2022-02-24T20:33:07.331Z"
   },
   {
    "duration": 27,
    "start_time": "2022-02-24T20:33:07.440Z"
   },
   {
    "duration": 54,
    "start_time": "2022-02-24T20:33:07.469Z"
   },
   {
    "duration": 476,
    "start_time": "2022-02-24T20:33:07.525Z"
   },
   {
    "duration": 11,
    "start_time": "2022-02-24T20:33:08.003Z"
   },
   {
    "duration": 604,
    "start_time": "2022-02-24T20:33:08.016Z"
   },
   {
    "duration": 15,
    "start_time": "2022-02-24T20:33:08.623Z"
   },
   {
    "duration": 47,
    "start_time": "2022-02-24T20:37:16.111Z"
   },
   {
    "duration": 5,
    "start_time": "2022-02-24T20:41:42.139Z"
   },
   {
    "duration": 15,
    "start_time": "2022-02-24T20:41:58.184Z"
   },
   {
    "duration": 18,
    "start_time": "2022-02-24T20:42:31.534Z"
   },
   {
    "duration": 22,
    "start_time": "2022-02-24T20:42:58.930Z"
   },
   {
    "duration": 124,
    "start_time": "2022-02-24T20:47:11.585Z"
   },
   {
    "duration": 88,
    "start_time": "2022-02-24T20:47:26.696Z"
   },
   {
    "duration": 24,
    "start_time": "2022-02-24T20:47:50.282Z"
   },
   {
    "duration": 44,
    "start_time": "2022-02-24T20:48:03.703Z"
   },
   {
    "duration": 28,
    "start_time": "2022-02-24T20:49:53.258Z"
   },
   {
    "duration": 8,
    "start_time": "2022-02-24T20:51:08.302Z"
   },
   {
    "duration": 29,
    "start_time": "2022-02-24T20:55:06.133Z"
   },
   {
    "duration": 100,
    "start_time": "2022-02-24T20:56:23.611Z"
   },
   {
    "duration": 9422,
    "start_time": "2022-02-24T20:57:04.913Z"
   },
   {
    "duration": 630,
    "start_time": "2022-02-24T20:57:27.258Z"
   },
   {
    "duration": 594,
    "start_time": "2022-02-24T20:57:27.296Z"
   },
   {
    "duration": 576,
    "start_time": "2022-02-24T20:57:27.315Z"
   },
   {
    "duration": 566,
    "start_time": "2022-02-24T20:57:27.327Z"
   },
   {
    "duration": 555,
    "start_time": "2022-02-24T20:57:27.339Z"
   },
   {
    "duration": 549,
    "start_time": "2022-02-24T20:57:27.346Z"
   },
   {
    "duration": 544,
    "start_time": "2022-02-24T20:57:27.353Z"
   },
   {
    "duration": 539,
    "start_time": "2022-02-24T20:57:27.360Z"
   },
   {
    "duration": 534,
    "start_time": "2022-02-24T20:57:27.367Z"
   },
   {
    "duration": 527,
    "start_time": "2022-02-24T20:57:27.376Z"
   },
   {
    "duration": 501,
    "start_time": "2022-02-24T20:57:27.404Z"
   },
   {
    "duration": 493,
    "start_time": "2022-02-24T20:57:27.414Z"
   },
   {
    "duration": 484,
    "start_time": "2022-02-24T20:57:27.426Z"
   },
   {
    "duration": 479,
    "start_time": "2022-02-24T20:57:27.433Z"
   },
   {
    "duration": 474,
    "start_time": "2022-02-24T20:57:27.440Z"
   },
   {
    "duration": 7853,
    "start_time": "2022-02-24T20:58:29.336Z"
   },
   {
    "duration": 9079,
    "start_time": "2022-02-24T20:58:41.916Z"
   },
   {
    "duration": 97,
    "start_time": "2022-02-24T20:59:19.065Z"
   },
   {
    "duration": 30,
    "start_time": "2022-02-24T20:59:19.165Z"
   },
   {
    "duration": 108,
    "start_time": "2022-02-24T20:59:19.198Z"
   },
   {
    "duration": 18,
    "start_time": "2022-02-24T20:59:19.308Z"
   },
   {
    "duration": 34,
    "start_time": "2022-02-24T20:59:19.329Z"
   },
   {
    "duration": 104,
    "start_time": "2022-02-24T20:59:58.951Z"
   },
   {
    "duration": 37,
    "start_time": "2022-02-24T20:59:59.058Z"
   },
   {
    "duration": 117,
    "start_time": "2022-02-24T20:59:59.097Z"
   },
   {
    "duration": 18,
    "start_time": "2022-02-24T20:59:59.217Z"
   },
   {
    "duration": 59,
    "start_time": "2022-02-24T20:59:59.238Z"
   },
   {
    "duration": 8475,
    "start_time": "2022-02-24T21:01:02.530Z"
   },
   {
    "duration": 8023,
    "start_time": "2022-02-24T21:02:56.040Z"
   },
   {
    "duration": 6732,
    "start_time": "2022-02-24T21:04:35.724Z"
   },
   {
    "duration": 7050,
    "start_time": "2022-02-24T21:06:13.935Z"
   },
   {
    "duration": 4,
    "start_time": "2022-02-24T21:07:46.917Z"
   },
   {
    "duration": 6933,
    "start_time": "2022-02-24T21:07:48.739Z"
   },
   {
    "duration": 3,
    "start_time": "2022-02-24T21:08:19.074Z"
   },
   {
    "duration": 8952,
    "start_time": "2022-02-24T21:09:44.602Z"
   },
   {
    "duration": 369,
    "start_time": "2022-02-24T21:09:53.188Z"
   },
   {
    "duration": 88,
    "start_time": "2022-02-24T21:09:55.405Z"
   },
   {
    "duration": 12,
    "start_time": "2022-02-24T21:09:55.496Z"
   },
   {
    "duration": 115,
    "start_time": "2022-02-24T21:09:55.511Z"
   },
   {
    "duration": 20,
    "start_time": "2022-02-24T21:09:55.629Z"
   },
   {
    "duration": 91,
    "start_time": "2022-02-24T21:10:48.997Z"
   },
   {
    "duration": 12,
    "start_time": "2022-02-24T21:10:49.094Z"
   },
   {
    "duration": 124,
    "start_time": "2022-02-24T21:10:49.108Z"
   },
   {
    "duration": 18,
    "start_time": "2022-02-24T21:10:49.235Z"
   },
   {
    "duration": 62,
    "start_time": "2022-02-24T21:10:49.255Z"
   },
   {
    "duration": 484,
    "start_time": "2022-02-24T21:12:10.194Z"
   },
   {
    "duration": 476,
    "start_time": "2022-02-24T21:12:33.551Z"
   },
   {
    "duration": 462,
    "start_time": "2022-02-24T21:13:10.782Z"
   },
   {
    "duration": 501,
    "start_time": "2022-02-24T21:13:21.417Z"
   },
   {
    "duration": 459,
    "start_time": "2022-02-24T21:15:28.302Z"
   },
   {
    "duration": 657,
    "start_time": "2022-02-24T21:15:40.191Z"
   },
   {
    "duration": 39814,
    "start_time": "2022-02-24T21:16:36.038Z"
   },
   {
    "duration": 456,
    "start_time": "2022-02-24T21:24:20.866Z"
   },
   {
    "duration": 95,
    "start_time": "2022-02-24T21:24:53.899Z"
   },
   {
    "duration": 11,
    "start_time": "2022-02-24T21:24:53.997Z"
   },
   {
    "duration": 122,
    "start_time": "2022-02-24T21:24:54.011Z"
   },
   {
    "duration": 20,
    "start_time": "2022-02-24T21:24:54.135Z"
   },
   {
    "duration": 58,
    "start_time": "2022-02-24T21:24:54.157Z"
   },
   {
    "duration": 38095,
    "start_time": "2022-02-24T21:24:54.218Z"
   },
   {
    "duration": 20,
    "start_time": "2022-02-24T21:25:32.315Z"
   },
   {
    "duration": 105,
    "start_time": "2022-02-24T21:25:32.339Z"
   },
   {
    "duration": 27,
    "start_time": "2022-02-24T21:25:32.448Z"
   },
   {
    "duration": 28,
    "start_time": "2022-02-24T21:25:32.494Z"
   },
   {
    "duration": 28,
    "start_time": "2022-02-24T21:25:32.524Z"
   },
   {
    "duration": 503,
    "start_time": "2022-02-24T21:25:32.555Z"
   },
   {
    "duration": 12,
    "start_time": "2022-02-24T21:25:33.061Z"
   },
   {
    "duration": 454,
    "start_time": "2022-02-24T21:47:27.171Z"
   },
   {
    "duration": 469,
    "start_time": "2022-02-24T21:47:45.021Z"
   },
   {
    "duration": 332,
    "start_time": "2022-02-24T21:48:35.808Z"
   },
   {
    "duration": 279,
    "start_time": "2022-02-24T21:49:00.144Z"
   },
   {
    "duration": 13,
    "start_time": "2022-02-24T21:52:09.364Z"
   },
   {
    "duration": 11,
    "start_time": "2022-02-24T21:53:36.780Z"
   },
   {
    "duration": 286,
    "start_time": "2022-02-24T21:54:01.746Z"
   },
   {
    "duration": 90,
    "start_time": "2022-02-24T21:54:21.015Z"
   },
   {
    "duration": 11,
    "start_time": "2022-02-24T21:54:42.646Z"
   },
   {
    "duration": 6,
    "start_time": "2022-02-24T21:55:38.858Z"
   },
   {
    "duration": 9,
    "start_time": "2022-02-24T21:55:56.927Z"
   },
   {
    "duration": 10,
    "start_time": "2022-02-24T21:56:35.268Z"
   },
   {
    "duration": 13,
    "start_time": "2022-02-24T21:57:27.378Z"
   },
   {
    "duration": 13,
    "start_time": "2022-02-24T21:58:01.553Z"
   },
   {
    "duration": 11,
    "start_time": "2022-02-24T21:58:51.929Z"
   },
   {
    "duration": 12,
    "start_time": "2022-02-24T21:59:08.484Z"
   },
   {
    "duration": 13,
    "start_time": "2022-02-24T21:59:33.899Z"
   },
   {
    "duration": 11,
    "start_time": "2022-02-24T22:05:09.329Z"
   },
   {
    "duration": 19,
    "start_time": "2022-02-24T22:10:10.803Z"
   },
   {
    "duration": 101,
    "start_time": "2022-02-24T22:10:59.612Z"
   },
   {
    "duration": 86,
    "start_time": "2022-02-24T22:11:11.995Z"
   },
   {
    "duration": 10,
    "start_time": "2022-02-24T22:11:23.952Z"
   },
   {
    "duration": 11,
    "start_time": "2022-02-24T22:19:53.233Z"
   },
   {
    "duration": 11,
    "start_time": "2022-02-24T22:22:25.338Z"
   },
   {
    "duration": 91,
    "start_time": "2022-02-24T22:41:04.581Z"
   },
   {
    "duration": 10,
    "start_time": "2022-02-24T22:41:51.575Z"
   },
   {
    "duration": 12,
    "start_time": "2022-02-24T22:47:57.717Z"
   },
   {
    "duration": 283,
    "start_time": "2022-02-24T22:55:22.955Z"
   },
   {
    "duration": 14,
    "start_time": "2022-02-24T22:56:45.237Z"
   },
   {
    "duration": 18,
    "start_time": "2022-02-24T22:57:13.904Z"
   },
   {
    "duration": 272,
    "start_time": "2022-02-24T23:05:27.615Z"
   },
   {
    "duration": 112,
    "start_time": "2022-02-24T23:05:37.492Z"
   },
   {
    "duration": 16,
    "start_time": "2022-02-24T23:05:48.053Z"
   },
   {
    "duration": 298,
    "start_time": "2022-02-24T23:05:51.458Z"
   },
   {
    "duration": 273,
    "start_time": "2022-02-24T23:06:19.141Z"
   },
   {
    "duration": 431,
    "start_time": "2022-02-24T23:06:41.373Z"
   },
   {
    "duration": 286,
    "start_time": "2022-02-24T23:08:55.083Z"
   },
   {
    "duration": 10,
    "start_time": "2022-02-24T23:14:53.444Z"
   },
   {
    "duration": 12,
    "start_time": "2022-02-24T23:15:13.679Z"
   },
   {
    "duration": 10,
    "start_time": "2022-02-24T23:15:16.833Z"
   },
   {
    "duration": 13,
    "start_time": "2022-02-24T23:19:49.675Z"
   },
   {
    "duration": 24,
    "start_time": "2022-02-24T23:20:08.283Z"
   },
   {
    "duration": 25,
    "start_time": "2022-02-24T23:21:32.031Z"
   },
   {
    "duration": 23,
    "start_time": "2022-02-24T23:21:45.321Z"
   },
   {
    "duration": 184,
    "start_time": "2022-02-26T04:49:41.111Z"
   },
   {
    "duration": 675,
    "start_time": "2022-02-26T04:50:02.315Z"
   },
   {
    "duration": 9,
    "start_time": "2022-02-26T04:50:02.992Z"
   },
   {
    "duration": 58,
    "start_time": "2022-02-26T04:50:03.003Z"
   },
   {
    "duration": 15,
    "start_time": "2022-02-26T04:50:03.063Z"
   },
   {
    "duration": 42,
    "start_time": "2022-02-26T04:50:03.080Z"
   },
   {
    "duration": 65,
    "start_time": "2022-02-26T04:50:26.185Z"
   },
   {
    "duration": 8,
    "start_time": "2022-02-26T04:50:26.252Z"
   },
   {
    "duration": 69,
    "start_time": "2022-02-26T04:50:26.262Z"
   },
   {
    "duration": 13,
    "start_time": "2022-02-26T04:50:26.332Z"
   },
   {
    "duration": 21,
    "start_time": "2022-02-26T04:50:26.347Z"
   },
   {
    "duration": 63,
    "start_time": "2022-02-26T04:50:50.571Z"
   },
   {
    "duration": 8,
    "start_time": "2022-02-26T04:50:50.636Z"
   },
   {
    "duration": 77,
    "start_time": "2022-02-26T04:50:50.646Z"
   },
   {
    "duration": 13,
    "start_time": "2022-02-26T04:50:50.725Z"
   },
   {
    "duration": 21,
    "start_time": "2022-02-26T04:50:50.740Z"
   },
   {
    "duration": 65,
    "start_time": "2022-02-26T04:51:14.316Z"
   },
   {
    "duration": 9,
    "start_time": "2022-02-26T04:51:14.383Z"
   },
   {
    "duration": 72,
    "start_time": "2022-02-26T04:51:14.393Z"
   },
   {
    "duration": 14,
    "start_time": "2022-02-26T04:51:14.467Z"
   },
   {
    "duration": 46,
    "start_time": "2022-02-26T04:51:14.483Z"
   },
   {
    "duration": 23095,
    "start_time": "2022-02-26T04:51:14.531Z"
   },
   {
    "duration": 14,
    "start_time": "2022-02-26T04:51:37.627Z"
   },
   {
    "duration": 44,
    "start_time": "2022-02-26T04:51:37.643Z"
   },
   {
    "duration": 38,
    "start_time": "2022-02-26T04:51:37.688Z"
   },
   {
    "duration": 23,
    "start_time": "2022-02-26T04:51:37.728Z"
   },
   {
    "duration": 15,
    "start_time": "2022-02-26T04:51:37.753Z"
   },
   {
    "duration": 264,
    "start_time": "2022-02-26T04:51:37.770Z"
   },
   {
    "duration": 7,
    "start_time": "2022-02-26T04:51:38.036Z"
   },
   {
    "duration": 238,
    "start_time": "2022-02-26T04:51:38.044Z"
   },
   {
    "duration": 16,
    "start_time": "2022-02-26T04:51:38.284Z"
   },
   {
    "duration": 15,
    "start_time": "2022-02-26T04:51:38.301Z"
   },
   {
    "duration": 9,
    "start_time": "2022-02-26T04:51:38.317Z"
   },
   {
    "duration": 7,
    "start_time": "2022-02-26T04:51:38.328Z"
   },
   {
    "duration": 7,
    "start_time": "2022-02-26T04:51:38.337Z"
   },
   {
    "duration": 6,
    "start_time": "2022-02-26T04:51:38.345Z"
   },
   {
    "duration": 8,
    "start_time": "2022-02-26T04:51:38.352Z"
   },
   {
    "duration": 9,
    "start_time": "2022-02-26T04:51:38.362Z"
   },
   {
    "duration": 14,
    "start_time": "2022-02-26T04:52:00.575Z"
   },
   {
    "duration": 16,
    "start_time": "2022-02-26T04:52:38.056Z"
   },
   {
    "duration": 17,
    "start_time": "2022-02-26T04:54:20.555Z"
   },
   {
    "duration": 48,
    "start_time": "2022-02-26T04:56:02.266Z"
   },
   {
    "duration": 17,
    "start_time": "2022-02-26T04:56:13.477Z"
   },
   {
    "duration": 21,
    "start_time": "2022-02-26T04:57:11.678Z"
   },
   {
    "duration": 51,
    "start_time": "2022-02-26T04:59:50.393Z"
   },
   {
    "duration": 61,
    "start_time": "2022-02-26T05:00:00.743Z"
   },
   {
    "duration": 81,
    "start_time": "2022-02-26T05:00:01.817Z"
   },
   {
    "duration": 10,
    "start_time": "2022-02-26T05:00:08.329Z"
   },
   {
    "duration": 12,
    "start_time": "2022-02-26T05:00:11.477Z"
   },
   {
    "duration": 6,
    "start_time": "2022-02-26T05:00:48.453Z"
   },
   {
    "duration": 7,
    "start_time": "2022-02-26T05:00:52.133Z"
   },
   {
    "duration": 6,
    "start_time": "2022-02-26T05:00:52.878Z"
   },
   {
    "duration": 9,
    "start_time": "2022-02-26T05:01:07.687Z"
   },
   {
    "duration": 8,
    "start_time": "2022-02-26T05:02:10.582Z"
   },
   {
    "duration": 18,
    "start_time": "2022-02-26T05:03:20.162Z"
   },
   {
    "duration": 8,
    "start_time": "2022-02-26T05:04:05.021Z"
   },
   {
    "duration": 190,
    "start_time": "2022-02-26T05:07:18.888Z"
   },
   {
    "duration": 4,
    "start_time": "2022-02-26T05:08:17.330Z"
   },
   {
    "duration": 4,
    "start_time": "2022-02-26T05:08:44.875Z"
   },
   {
    "duration": 5,
    "start_time": "2022-02-26T05:08:46.019Z"
   },
   {
    "duration": 10,
    "start_time": "2022-02-26T05:08:56.721Z"
   },
   {
    "duration": 8,
    "start_time": "2022-02-26T05:09:22.781Z"
   },
   {
    "duration": 11,
    "start_time": "2022-02-26T05:11:24.366Z"
   },
   {
    "duration": 12,
    "start_time": "2022-02-26T05:12:01.840Z"
   },
   {
    "duration": 10,
    "start_time": "2022-02-26T05:14:27.115Z"
   },
   {
    "duration": 124,
    "start_time": "2022-02-26T05:18:48.589Z"
   },
   {
    "duration": 7,
    "start_time": "2022-02-26T05:19:08.427Z"
   },
   {
    "duration": 15,
    "start_time": "2022-02-26T05:20:19.009Z"
   },
   {
    "duration": 9,
    "start_time": "2022-02-26T05:21:07.311Z"
   },
   {
    "duration": 142,
    "start_time": "2022-02-26T05:26:22.385Z"
   },
   {
    "duration": 311,
    "start_time": "2022-02-26T13:56:37.439Z"
   },
   {
    "duration": 827,
    "start_time": "2022-02-26T13:56:54.517Z"
   },
   {
    "duration": 29,
    "start_time": "2022-02-26T13:56:55.346Z"
   },
   {
    "duration": 105,
    "start_time": "2022-02-26T13:56:55.378Z"
   },
   {
    "duration": 19,
    "start_time": "2022-02-26T13:56:55.486Z"
   },
   {
    "duration": 66,
    "start_time": "2022-02-26T13:56:55.507Z"
   },
   {
    "duration": 684,
    "start_time": "2022-02-26T13:58:54.491Z"
   },
   {
    "duration": 672,
    "start_time": "2022-02-26T13:58:54.505Z"
   },
   {
    "duration": 662,
    "start_time": "2022-02-26T13:58:54.516Z"
   },
   {
    "duration": 655,
    "start_time": "2022-02-26T13:58:54.525Z"
   },
   {
    "duration": 648,
    "start_time": "2022-02-26T13:58:54.534Z"
   },
   {
    "duration": 641,
    "start_time": "2022-02-26T13:58:54.542Z"
   },
   {
    "duration": 633,
    "start_time": "2022-02-26T13:58:54.553Z"
   },
   {
    "duration": 626,
    "start_time": "2022-02-26T13:58:54.561Z"
   },
   {
    "duration": 604,
    "start_time": "2022-02-26T13:58:54.585Z"
   },
   {
    "duration": 593,
    "start_time": "2022-02-26T13:58:54.597Z"
   },
   {
    "duration": 585,
    "start_time": "2022-02-26T13:58:54.607Z"
   },
   {
    "duration": 577,
    "start_time": "2022-02-26T13:58:54.616Z"
   },
   {
    "duration": 569,
    "start_time": "2022-02-26T13:58:54.626Z"
   },
   {
    "duration": 562,
    "start_time": "2022-02-26T13:58:54.634Z"
   },
   {
    "duration": 554,
    "start_time": "2022-02-26T13:58:54.644Z"
   },
   {
    "duration": 545,
    "start_time": "2022-02-26T13:58:54.654Z"
   },
   {
    "duration": 498,
    "start_time": "2022-02-26T13:58:54.702Z"
   },
   {
    "duration": 489,
    "start_time": "2022-02-26T13:58:54.713Z"
   },
   {
    "duration": 479,
    "start_time": "2022-02-26T13:58:54.724Z"
   },
   {
    "duration": 472,
    "start_time": "2022-02-26T13:58:54.733Z"
   },
   {
    "duration": 465,
    "start_time": "2022-02-26T13:58:54.741Z"
   },
   {
    "duration": 458,
    "start_time": "2022-02-26T13:58:54.750Z"
   },
   {
    "duration": 85,
    "start_time": "2022-02-26T13:59:08.875Z"
   },
   {
    "duration": 11,
    "start_time": "2022-02-26T13:59:12.280Z"
   },
   {
    "duration": 91,
    "start_time": "2022-02-26T13:59:14.351Z"
   },
   {
    "duration": 85,
    "start_time": "2022-02-26T13:59:18.997Z"
   },
   {
    "duration": 12,
    "start_time": "2022-02-26T13:59:19.085Z"
   },
   {
    "duration": 116,
    "start_time": "2022-02-26T13:59:19.099Z"
   },
   {
    "duration": 18,
    "start_time": "2022-02-26T13:59:19.218Z"
   },
   {
    "duration": 62,
    "start_time": "2022-02-26T13:59:19.239Z"
   },
   {
    "duration": 16,
    "start_time": "2022-02-26T13:59:57.981Z"
   },
   {
    "duration": 101,
    "start_time": "2022-02-26T13:59:58.000Z"
   },
   {
    "duration": -228,
    "start_time": "2022-02-26T13:59:58.333Z"
   },
   {
    "duration": -234,
    "start_time": "2022-02-26T13:59:58.340Z"
   },
   {
    "duration": -241,
    "start_time": "2022-02-26T13:59:58.348Z"
   },
   {
    "duration": -246,
    "start_time": "2022-02-26T13:59:58.355Z"
   },
   {
    "duration": -252,
    "start_time": "2022-02-26T13:59:58.363Z"
   },
   {
    "duration": -259,
    "start_time": "2022-02-26T13:59:58.371Z"
   },
   {
    "duration": -264,
    "start_time": "2022-02-26T13:59:58.380Z"
   },
   {
    "duration": -270,
    "start_time": "2022-02-26T13:59:58.388Z"
   },
   {
    "duration": -277,
    "start_time": "2022-02-26T13:59:58.396Z"
   },
   {
    "duration": -285,
    "start_time": "2022-02-26T13:59:58.406Z"
   },
   {
    "duration": -292,
    "start_time": "2022-02-26T13:59:58.415Z"
   },
   {
    "duration": -299,
    "start_time": "2022-02-26T13:59:58.423Z"
   },
   {
    "duration": -304,
    "start_time": "2022-02-26T13:59:58.430Z"
   },
   {
    "duration": -310,
    "start_time": "2022-02-26T13:59:58.438Z"
   },
   {
    "duration": -316,
    "start_time": "2022-02-26T13:59:58.445Z"
   },
   {
    "duration": -323,
    "start_time": "2022-02-26T13:59:58.454Z"
   },
   {
    "duration": -330,
    "start_time": "2022-02-26T13:59:58.463Z"
   },
   {
    "duration": -338,
    "start_time": "2022-02-26T13:59:58.472Z"
   },
   {
    "duration": -344,
    "start_time": "2022-02-26T13:59:58.480Z"
   },
   {
    "duration": -349,
    "start_time": "2022-02-26T13:59:58.491Z"
   },
   {
    "duration": 87,
    "start_time": "2022-02-26T14:01:12.315Z"
   },
   {
    "duration": 12,
    "start_time": "2022-02-26T14:01:16.617Z"
   },
   {
    "duration": 109,
    "start_time": "2022-02-26T14:01:17.868Z"
   },
   {
    "duration": 19,
    "start_time": "2022-02-26T14:01:23.538Z"
   },
   {
    "duration": 37,
    "start_time": "2022-02-26T14:01:26.644Z"
   },
   {
    "duration": 646,
    "start_time": "2022-02-26T14:08:36.337Z"
   },
   {
    "duration": 609,
    "start_time": "2022-02-26T14:08:36.376Z"
   },
   {
    "duration": 600,
    "start_time": "2022-02-26T14:08:36.387Z"
   },
   {
    "duration": 566,
    "start_time": "2022-02-26T14:08:36.423Z"
   },
   {
    "duration": 553,
    "start_time": "2022-02-26T14:08:36.438Z"
   },
   {
    "duration": 547,
    "start_time": "2022-02-26T14:08:36.446Z"
   },
   {
    "duration": 538,
    "start_time": "2022-02-26T14:08:36.456Z"
   },
   {
    "duration": 532,
    "start_time": "2022-02-26T14:08:36.463Z"
   },
   {
    "duration": 524,
    "start_time": "2022-02-26T14:08:36.473Z"
   },
   {
    "duration": 518,
    "start_time": "2022-02-26T14:08:36.480Z"
   },
   {
    "duration": 511,
    "start_time": "2022-02-26T14:08:36.489Z"
   },
   {
    "duration": 504,
    "start_time": "2022-02-26T14:08:36.497Z"
   },
   {
    "duration": 496,
    "start_time": "2022-02-26T14:08:36.506Z"
   },
   {
    "duration": 490,
    "start_time": "2022-02-26T14:08:36.513Z"
   },
   {
    "duration": 464,
    "start_time": "2022-02-26T14:08:36.541Z"
   },
   {
    "duration": 456,
    "start_time": "2022-02-26T14:08:36.550Z"
   },
   {
    "duration": 450,
    "start_time": "2022-02-26T14:08:36.558Z"
   },
   {
    "duration": 442,
    "start_time": "2022-02-26T14:08:36.568Z"
   },
   {
    "duration": 434,
    "start_time": "2022-02-26T14:08:36.577Z"
   },
   {
    "duration": 487,
    "start_time": "2022-02-26T14:08:36.586Z"
   },
   {
    "duration": 481,
    "start_time": "2022-02-26T14:08:36.594Z"
   },
   {
    "duration": 475,
    "start_time": "2022-02-26T14:08:36.602Z"
   },
   {
    "duration": 97,
    "start_time": "2022-02-26T15:19:07.076Z"
   },
   {
    "duration": 11,
    "start_time": "2022-02-26T15:19:07.176Z"
   },
   {
    "duration": 133,
    "start_time": "2022-02-26T15:19:07.190Z"
   },
   {
    "duration": 19,
    "start_time": "2022-02-26T15:19:07.326Z"
   },
   {
    "duration": 55,
    "start_time": "2022-02-26T15:19:07.347Z"
   },
   {
    "duration": 36730,
    "start_time": "2022-02-26T15:19:07.404Z"
   },
   {
    "duration": 36,
    "start_time": "2022-02-26T15:19:44.137Z"
   },
   {
    "duration": 74,
    "start_time": "2022-02-26T15:19:44.177Z"
   },
   {
    "duration": 43,
    "start_time": "2022-02-26T15:19:44.254Z"
   },
   {
    "duration": 27,
    "start_time": "2022-02-26T15:19:44.300Z"
   },
   {
    "duration": 61,
    "start_time": "2022-02-26T15:19:44.329Z"
   },
   {
    "duration": 431,
    "start_time": "2022-02-26T15:19:44.392Z"
   },
   {
    "duration": 9,
    "start_time": "2022-02-26T15:19:44.826Z"
   },
   {
    "duration": 449,
    "start_time": "2022-02-26T15:19:44.838Z"
   },
   {
    "duration": 16,
    "start_time": "2022-02-26T15:19:45.289Z"
   },
   {
    "duration": 84,
    "start_time": "2022-02-26T15:19:45.307Z"
   },
   {
    "duration": 476,
    "start_time": "2022-02-26T15:19:44.917Z"
   },
   {
    "duration": 467,
    "start_time": "2022-02-26T15:19:44.927Z"
   },
   {
    "duration": 461,
    "start_time": "2022-02-26T15:19:44.935Z"
   },
   {
    "duration": 454,
    "start_time": "2022-02-26T15:19:44.943Z"
   },
   {
    "duration": 446,
    "start_time": "2022-02-26T15:19:44.952Z"
   },
   {
    "duration": 440,
    "start_time": "2022-02-26T15:19:44.959Z"
   },
   {
    "duration": 11,
    "start_time": "2022-02-26T15:20:19.244Z"
   },
   {
    "duration": 253,
    "start_time": "2022-02-26T15:20:57.131Z"
   },
   {
    "duration": 11,
    "start_time": "2022-02-26T15:21:31.387Z"
   },
   {
    "duration": 10,
    "start_time": "2022-02-26T15:21:40.598Z"
   },
   {
    "duration": 15,
    "start_time": "2022-02-26T15:23:10.154Z"
   },
   {
    "duration": 13,
    "start_time": "2022-02-26T15:27:17.865Z"
   },
   {
    "duration": 10,
    "start_time": "2022-02-26T15:29:56.302Z"
   },
   {
    "duration": 10,
    "start_time": "2022-02-26T15:30:19.231Z"
   },
   {
    "duration": 13,
    "start_time": "2022-02-26T15:38:42.200Z"
   },
   {
    "duration": 18,
    "start_time": "2022-02-26T15:40:10.721Z"
   },
   {
    "duration": 6,
    "start_time": "2022-02-26T15:45:16.869Z"
   },
   {
    "duration": 8,
    "start_time": "2022-02-26T15:45:29.703Z"
   },
   {
    "duration": 8,
    "start_time": "2022-02-26T15:45:53.908Z"
   },
   {
    "duration": 247,
    "start_time": "2022-02-26T15:46:33.582Z"
   },
   {
    "duration": 31,
    "start_time": "2022-02-26T15:46:45.601Z"
   },
   {
    "duration": 8,
    "start_time": "2022-02-26T15:47:14.761Z"
   },
   {
    "duration": 7,
    "start_time": "2022-02-26T15:47:47.910Z"
   },
   {
    "duration": 9,
    "start_time": "2022-02-26T15:49:16.004Z"
   },
   {
    "duration": 8,
    "start_time": "2022-02-26T15:49:47.740Z"
   },
   {
    "duration": 10,
    "start_time": "2022-02-26T15:50:15.724Z"
   },
   {
    "duration": 8,
    "start_time": "2022-02-26T15:54:44.294Z"
   },
   {
    "duration": 6,
    "start_time": "2022-02-26T15:57:51.213Z"
   },
   {
    "duration": 6,
    "start_time": "2022-02-26T15:58:11.333Z"
   },
   {
    "duration": 248,
    "start_time": "2022-02-26T16:25:08.209Z"
   },
   {
    "duration": 9,
    "start_time": "2022-02-26T16:25:32.770Z"
   },
   {
    "duration": 10,
    "start_time": "2022-02-26T16:34:48.211Z"
   },
   {
    "duration": 13,
    "start_time": "2022-02-26T16:35:05.808Z"
   },
   {
    "duration": 12,
    "start_time": "2022-02-26T16:35:52.305Z"
   },
   {
    "duration": 12,
    "start_time": "2022-02-26T16:36:06.700Z"
   },
   {
    "duration": 11,
    "start_time": "2022-02-26T16:36:53.553Z"
   },
   {
    "duration": 242,
    "start_time": "2022-02-26T16:40:43.401Z"
   },
   {
    "duration": 311,
    "start_time": "2022-02-26T16:41:12.253Z"
   },
   {
    "duration": 14,
    "start_time": "2022-02-26T16:41:32.395Z"
   },
   {
    "duration": 12,
    "start_time": "2022-02-26T16:42:40.595Z"
   },
   {
    "duration": 12,
    "start_time": "2022-02-26T16:42:57.666Z"
   },
   {
    "duration": 14,
    "start_time": "2022-02-26T16:45:38.522Z"
   },
   {
    "duration": 19,
    "start_time": "2022-02-26T16:45:48.978Z"
   },
   {
    "duration": 16,
    "start_time": "2022-02-26T16:46:21.161Z"
   },
   {
    "duration": 20,
    "start_time": "2022-02-26T16:47:00.818Z"
   },
   {
    "duration": 102,
    "start_time": "2022-02-26T16:48:19.209Z"
   },
   {
    "duration": 92,
    "start_time": "2022-02-26T16:49:06.459Z"
   },
   {
    "duration": 15,
    "start_time": "2022-02-26T16:49:31.283Z"
   },
   {
    "duration": 14,
    "start_time": "2022-02-26T16:49:53.750Z"
   },
   {
    "duration": 14,
    "start_time": "2022-02-26T16:50:21.291Z"
   },
   {
    "duration": 15,
    "start_time": "2022-02-26T16:50:32.005Z"
   },
   {
    "duration": 14,
    "start_time": "2022-02-26T16:50:44.073Z"
   },
   {
    "duration": 87,
    "start_time": "2022-02-26T17:04:27.130Z"
   },
   {
    "duration": 94,
    "start_time": "2022-02-26T17:05:10.109Z"
   },
   {
    "duration": 245,
    "start_time": "2022-02-26T17:05:18.931Z"
   },
   {
    "duration": 245,
    "start_time": "2022-02-26T17:06:16.284Z"
   },
   {
    "duration": 267,
    "start_time": "2022-02-26T17:07:09.438Z"
   },
   {
    "duration": 22,
    "start_time": "2022-02-26T17:07:24.851Z"
   },
   {
    "duration": 22,
    "start_time": "2022-02-26T17:07:39.752Z"
   },
   {
    "duration": 26,
    "start_time": "2022-02-26T17:08:45.190Z"
   },
   {
    "duration": 20,
    "start_time": "2022-02-26T17:25:09.572Z"
   },
   {
    "duration": 263,
    "start_time": "2022-02-26T17:30:04.423Z"
   },
   {
    "duration": 17,
    "start_time": "2022-02-26T17:37:05.102Z"
   },
   {
    "duration": 280,
    "start_time": "2022-02-26T17:38:04.339Z"
   },
   {
    "duration": 236,
    "start_time": "2022-02-26T17:39:05.681Z"
   },
   {
    "duration": 96,
    "start_time": "2022-02-26T18:14:31.021Z"
   },
   {
    "duration": 392,
    "start_time": "2022-02-26T18:18:03.908Z"
   },
   {
    "duration": 248,
    "start_time": "2022-02-26T18:27:37.212Z"
   },
   {
    "duration": 276,
    "start_time": "2022-02-26T18:28:27.887Z"
   },
   {
    "duration": 16,
    "start_time": "2022-02-26T18:29:04.885Z"
   },
   {
    "duration": 1451,
    "start_time": "2022-02-26T18:30:09.638Z"
   },
   {
    "duration": 13,
    "start_time": "2022-02-26T18:33:46.198Z"
   },
   {
    "duration": 238,
    "start_time": "2022-02-26T18:34:25.533Z"
   },
   {
    "duration": 15,
    "start_time": "2022-02-26T18:34:39.381Z"
   },
   {
    "duration": 15,
    "start_time": "2022-02-26T18:34:56.567Z"
   },
   {
    "duration": 14,
    "start_time": "2022-02-26T18:35:23.877Z"
   },
   {
    "duration": 9,
    "start_time": "2022-02-26T18:36:08.260Z"
   },
   {
    "duration": 11,
    "start_time": "2022-02-26T18:36:19.459Z"
   },
   {
    "duration": 13,
    "start_time": "2022-02-26T18:38:29.041Z"
   },
   {
    "duration": 14,
    "start_time": "2022-02-26T18:38:44.835Z"
   },
   {
    "duration": 15,
    "start_time": "2022-02-26T18:39:04.047Z"
   },
   {
    "duration": 41,
    "start_time": "2022-02-26T18:39:35.331Z"
   },
   {
    "duration": 273,
    "start_time": "2022-02-26T18:40:48.658Z"
   },
   {
    "duration": 281,
    "start_time": "2022-02-26T18:41:10.623Z"
   },
   {
    "duration": 38,
    "start_time": "2022-02-26T18:41:17.777Z"
   },
   {
    "duration": 29,
    "start_time": "2022-02-26T18:42:36.267Z"
   },
   {
    "duration": 36,
    "start_time": "2022-02-26T18:42:48.310Z"
   },
   {
    "duration": 39,
    "start_time": "2022-02-26T18:48:45.486Z"
   },
   {
    "duration": 42,
    "start_time": "2022-02-26T18:50:25.034Z"
   },
   {
    "duration": 41,
    "start_time": "2022-02-26T18:53:21.390Z"
   },
   {
    "duration": 44,
    "start_time": "2022-02-26T18:53:32.474Z"
   },
   {
    "duration": 46,
    "start_time": "2022-02-26T18:54:58.942Z"
   },
   {
    "duration": 48,
    "start_time": "2022-02-26T18:55:25.232Z"
   },
   {
    "duration": 284,
    "start_time": "2022-02-26T18:56:08.490Z"
   },
   {
    "duration": 286,
    "start_time": "2022-02-26T18:56:35.931Z"
   },
   {
    "duration": 47,
    "start_time": "2022-02-26T18:57:24.545Z"
   },
   {
    "duration": 7037,
    "start_time": "2022-02-26T18:57:51.415Z"
   },
   {
    "duration": 45,
    "start_time": "2022-02-26T18:58:38.416Z"
   },
   {
    "duration": 35,
    "start_time": "2022-02-26T18:59:15.881Z"
   },
   {
    "duration": 25,
    "start_time": "2022-02-26T19:08:28.079Z"
   },
   {
    "duration": 26,
    "start_time": "2022-02-26T19:09:58.199Z"
   },
   {
    "duration": 61,
    "start_time": "2022-02-26T19:24:44.266Z"
   },
   {
    "duration": 28,
    "start_time": "2022-02-26T19:25:03.360Z"
   },
   {
    "duration": 418,
    "start_time": "2022-02-26T19:25:15.160Z"
   },
   {
    "duration": 412,
    "start_time": "2022-02-26T19:26:41.233Z"
   },
   {
    "duration": 8,
    "start_time": "2022-02-26T19:31:51.301Z"
   },
   {
    "duration": 8,
    "start_time": "2022-02-26T19:32:12.238Z"
   },
   {
    "duration": 25,
    "start_time": "2022-02-26T19:34:57.240Z"
   },
   {
    "duration": 270,
    "start_time": "2022-02-26T21:52:00.758Z"
   },
   {
    "duration": 237,
    "start_time": "2022-02-26T21:52:05.343Z"
   },
   {
    "duration": 572,
    "start_time": "2022-02-26T21:52:10.143Z"
   },
   {
    "duration": 9,
    "start_time": "2022-02-26T21:52:10.717Z"
   },
   {
    "duration": 78,
    "start_time": "2022-02-26T21:52:10.728Z"
   },
   {
    "duration": 14,
    "start_time": "2022-02-26T21:52:10.808Z"
   },
   {
    "duration": 21,
    "start_time": "2022-02-26T21:52:10.824Z"
   },
   {
    "duration": 22788,
    "start_time": "2022-02-26T21:52:10.846Z"
   },
   {
    "duration": 15,
    "start_time": "2022-02-26T21:52:33.636Z"
   },
   {
    "duration": 67,
    "start_time": "2022-02-26T21:52:33.654Z"
   },
   {
    "duration": 18,
    "start_time": "2022-02-26T21:52:33.723Z"
   },
   {
    "duration": 20,
    "start_time": "2022-02-26T21:52:33.743Z"
   },
   {
    "duration": 47,
    "start_time": "2022-02-26T21:52:33.765Z"
   },
   {
    "duration": 237,
    "start_time": "2022-02-26T21:52:33.814Z"
   },
   {
    "duration": 8,
    "start_time": "2022-02-26T21:52:34.053Z"
   },
   {
    "duration": 243,
    "start_time": "2022-02-26T21:52:34.063Z"
   },
   {
    "duration": 18,
    "start_time": "2022-02-26T21:52:34.308Z"
   },
   {
    "duration": 17,
    "start_time": "2022-02-26T21:52:34.328Z"
   },
   {
    "duration": 258,
    "start_time": "2022-02-26T21:53:10.935Z"
   },
   {
    "duration": 242,
    "start_time": "2022-02-26T21:54:58.708Z"
   },
   {
    "duration": 80,
    "start_time": "2022-02-26T21:58:38.940Z"
   },
   {
    "duration": 237,
    "start_time": "2022-02-26T21:58:53.479Z"
   },
   {
    "duration": 61,
    "start_time": "2022-02-26T21:59:39.977Z"
   },
   {
    "duration": 229,
    "start_time": "2022-02-26T21:59:42.871Z"
   },
   {
    "duration": 73,
    "start_time": "2022-02-26T22:05:14.884Z"
   },
   {
    "duration": 7,
    "start_time": "2022-02-26T22:05:28.035Z"
   },
   {
    "duration": 10,
    "start_time": "2022-02-26T22:06:00.434Z"
   },
   {
    "duration": 9,
    "start_time": "2022-02-26T22:06:24.045Z"
   },
   {
    "duration": 12,
    "start_time": "2022-02-26T22:06:55.589Z"
   },
   {
    "duration": 10,
    "start_time": "2022-02-26T22:09:57.203Z"
   },
   {
    "duration": 9,
    "start_time": "2022-02-26T22:10:21.529Z"
   },
   {
    "duration": 13,
    "start_time": "2022-02-26T22:15:49.154Z"
   },
   {
    "duration": 5603,
    "start_time": "2022-02-26T22:16:31.533Z"
   },
   {
    "duration": 9,
    "start_time": "2022-02-26T22:17:25.517Z"
   },
   {
    "duration": 9,
    "start_time": "2022-02-26T22:23:25.425Z"
   },
   {
    "duration": 9,
    "start_time": "2022-02-26T22:41:14.005Z"
   },
   {
    "duration": 12,
    "start_time": "2022-02-26T22:43:16.327Z"
   },
   {
    "duration": 11,
    "start_time": "2022-02-26T22:43:46.868Z"
   },
   {
    "duration": 12,
    "start_time": "2022-02-26T22:43:55.286Z"
   },
   {
    "duration": 12,
    "start_time": "2022-02-26T22:44:48.083Z"
   },
   {
    "duration": 279,
    "start_time": "2022-02-26T22:45:34.503Z"
   },
   {
    "duration": 13,
    "start_time": "2022-02-26T22:46:55.921Z"
   },
   {
    "duration": 14,
    "start_time": "2022-02-26T22:47:35.707Z"
   },
   {
    "duration": 14,
    "start_time": "2022-02-26T22:48:29.038Z"
   },
   {
    "duration": 256,
    "start_time": "2022-02-26T23:00:46.409Z"
   },
   {
    "duration": 266,
    "start_time": "2022-02-26T23:02:41.772Z"
   },
   {
    "duration": 15,
    "start_time": "2022-02-26T23:02:51.722Z"
   },
   {
    "duration": 14,
    "start_time": "2022-02-26T23:02:56.121Z"
   },
   {
    "duration": 61,
    "start_time": "2022-02-26T23:03:44.172Z"
   },
   {
    "duration": 7,
    "start_time": "2022-02-26T23:03:44.234Z"
   },
   {
    "duration": 73,
    "start_time": "2022-02-26T23:03:44.243Z"
   },
   {
    "duration": 12,
    "start_time": "2022-02-26T23:03:44.318Z"
   },
   {
    "duration": 20,
    "start_time": "2022-02-26T23:03:44.332Z"
   },
   {
    "duration": 23922,
    "start_time": "2022-02-26T23:03:44.354Z"
   },
   {
    "duration": 26,
    "start_time": "2022-02-26T23:04:08.278Z"
   },
   {
    "duration": 39,
    "start_time": "2022-02-26T23:04:08.307Z"
   },
   {
    "duration": 17,
    "start_time": "2022-02-26T23:04:08.347Z"
   },
   {
    "duration": 43,
    "start_time": "2022-02-26T23:04:08.365Z"
   },
   {
    "duration": 15,
    "start_time": "2022-02-26T23:04:08.410Z"
   },
   {
    "duration": 237,
    "start_time": "2022-02-26T23:04:08.427Z"
   },
   {
    "duration": 7,
    "start_time": "2022-02-26T23:04:08.665Z"
   },
   {
    "duration": 241,
    "start_time": "2022-02-26T23:04:08.673Z"
   },
   {
    "duration": 10,
    "start_time": "2022-02-26T23:04:08.916Z"
   },
   {
    "duration": 13,
    "start_time": "2022-02-26T23:04:08.928Z"
   },
   {
    "duration": 231,
    "start_time": "2022-02-26T23:04:08.943Z"
   },
   {
    "duration": 70,
    "start_time": "2022-02-26T23:04:09.106Z"
   },
   {
    "duration": 18,
    "start_time": "2022-02-26T23:10:09.458Z"
   },
   {
    "duration": 217,
    "start_time": "2022-02-26T23:10:41.188Z"
   },
   {
    "duration": 10,
    "start_time": "2022-02-26T23:11:19.249Z"
   },
   {
    "duration": 28,
    "start_time": "2022-02-26T23:11:42.017Z"
   },
   {
    "duration": 27,
    "start_time": "2022-02-26T23:11:43.199Z"
   },
   {
    "duration": 246,
    "start_time": "2022-02-26T23:13:02.488Z"
   },
   {
    "duration": 21,
    "start_time": "2022-02-26T23:13:09.874Z"
   },
   {
    "duration": 9,
    "start_time": "2022-02-26T23:13:46.894Z"
   },
   {
    "duration": 265,
    "start_time": "2022-02-26T23:23:24.441Z"
   },
   {
    "duration": 6,
    "start_time": "2022-02-26T23:23:55.068Z"
   },
   {
    "duration": 7,
    "start_time": "2022-02-26T23:24:03.158Z"
   },
   {
    "duration": 9,
    "start_time": "2022-02-26T23:26:23.735Z"
   },
   {
    "duration": 316,
    "start_time": "2022-02-26T23:30:21.625Z"
   },
   {
    "duration": 10,
    "start_time": "2022-02-26T23:30:51.759Z"
   },
   {
    "duration": 4,
    "start_time": "2022-02-26T23:31:51.997Z"
   },
   {
    "duration": 256,
    "start_time": "2022-02-26T23:32:09.740Z"
   },
   {
    "duration": 317,
    "start_time": "2022-02-26T23:33:20.578Z"
   },
   {
    "duration": 236,
    "start_time": "2022-02-26T23:34:21.935Z"
   },
   {
    "duration": 741,
    "start_time": "2022-02-26T23:35:34.075Z"
   },
   {
    "duration": 324,
    "start_time": "2022-02-26T23:36:42.901Z"
   },
   {
    "duration": 295,
    "start_time": "2022-02-26T23:37:21.284Z"
   },
   {
    "duration": 11,
    "start_time": "2022-02-26T23:46:11.015Z"
   },
   {
    "duration": 12,
    "start_time": "2022-02-26T23:46:37.164Z"
   },
   {
    "duration": 5733,
    "start_time": "2022-02-26T23:48:08.607Z"
   },
   {
    "duration": 5660,
    "start_time": "2022-02-26T23:54:23.226Z"
   },
   {
    "duration": 11,
    "start_time": "2022-02-26T23:54:52.060Z"
   },
   {
    "duration": 12,
    "start_time": "2022-02-27T00:09:28.181Z"
   },
   {
    "duration": 19,
    "start_time": "2022-02-27T00:36:34.381Z"
   },
   {
    "duration": 18,
    "start_time": "2022-02-27T00:38:42.899Z"
   },
   {
    "duration": 20,
    "start_time": "2022-02-27T00:38:53.557Z"
   },
   {
    "duration": 18,
    "start_time": "2022-02-27T00:41:59.890Z"
   },
   {
    "duration": 13,
    "start_time": "2022-02-27T00:56:01.382Z"
   },
   {
    "duration": 11,
    "start_time": "2022-02-27T00:56:11.593Z"
   },
   {
    "duration": 12,
    "start_time": "2022-02-27T00:56:37.866Z"
   },
   {
    "duration": 15,
    "start_time": "2022-02-27T00:58:25.146Z"
   },
   {
    "duration": 10,
    "start_time": "2022-02-27T00:58:55.245Z"
   },
   {
    "duration": 10,
    "start_time": "2022-02-27T00:58:59.350Z"
   },
   {
    "duration": 10,
    "start_time": "2022-02-27T00:59:10.260Z"
   },
   {
    "duration": 16,
    "start_time": "2022-02-27T01:00:31.040Z"
   },
   {
    "duration": 9,
    "start_time": "2022-02-27T01:01:46.010Z"
   },
   {
    "duration": 9,
    "start_time": "2022-02-27T01:03:12.160Z"
   },
   {
    "duration": 10,
    "start_time": "2022-02-27T01:03:26.784Z"
   },
   {
    "duration": 9,
    "start_time": "2022-02-27T01:03:55.354Z"
   },
   {
    "duration": 70,
    "start_time": "2022-02-27T01:05:56.896Z"
   },
   {
    "duration": 94,
    "start_time": "2022-02-27T01:06:31.817Z"
   },
   {
    "duration": 15,
    "start_time": "2022-02-27T01:06:41.493Z"
   },
   {
    "duration": 10,
    "start_time": "2022-02-27T01:07:01.150Z"
   },
   {
    "duration": 10,
    "start_time": "2022-02-27T01:07:22.412Z"
   },
   {
    "duration": 71,
    "start_time": "2022-02-27T01:07:57.212Z"
   },
   {
    "duration": 8,
    "start_time": "2022-02-27T01:07:57.284Z"
   },
   {
    "duration": 50,
    "start_time": "2022-02-27T01:07:57.293Z"
   },
   {
    "duration": 12,
    "start_time": "2022-02-27T01:07:57.345Z"
   },
   {
    "duration": 18,
    "start_time": "2022-02-27T01:07:57.358Z"
   },
   {
    "duration": 20624,
    "start_time": "2022-02-27T01:07:57.378Z"
   },
   {
    "duration": 12,
    "start_time": "2022-02-27T01:08:18.003Z"
   },
   {
    "duration": 39,
    "start_time": "2022-02-27T01:08:18.017Z"
   },
   {
    "duration": 16,
    "start_time": "2022-02-27T01:08:18.058Z"
   },
   {
    "duration": 16,
    "start_time": "2022-02-27T01:08:18.101Z"
   },
   {
    "duration": 14,
    "start_time": "2022-02-27T01:08:18.119Z"
   },
   {
    "duration": 245,
    "start_time": "2022-02-27T01:08:18.134Z"
   },
   {
    "duration": 6,
    "start_time": "2022-02-27T01:08:18.380Z"
   },
   {
    "duration": 237,
    "start_time": "2022-02-27T01:08:18.387Z"
   },
   {
    "duration": 10,
    "start_time": "2022-02-27T01:08:18.625Z"
   },
   {
    "duration": 13,
    "start_time": "2022-02-27T01:08:18.636Z"
   },
   {
    "duration": 9,
    "start_time": "2022-02-27T01:08:18.650Z"
   },
   {
    "duration": 46,
    "start_time": "2022-02-27T01:08:18.660Z"
   },
   {
    "duration": 10,
    "start_time": "2022-02-27T01:08:18.707Z"
   },
   {
    "duration": 9,
    "start_time": "2022-02-27T01:08:18.718Z"
   },
   {
    "duration": 621,
    "start_time": "2022-03-07T11:23:12.023Z"
   },
   {
    "duration": 8,
    "start_time": "2022-03-07T11:23:12.646Z"
   },
   {
    "duration": 50,
    "start_time": "2022-03-07T11:23:12.663Z"
   },
   {
    "duration": 12,
    "start_time": "2022-03-07T11:23:12.715Z"
   },
   {
    "duration": 48,
    "start_time": "2022-03-07T11:23:12.728Z"
   },
   {
    "duration": 21452,
    "start_time": "2022-03-07T11:23:12.778Z"
   },
   {
    "duration": 12,
    "start_time": "2022-03-07T11:23:34.231Z"
   },
   {
    "duration": 58,
    "start_time": "2022-03-07T11:23:34.245Z"
   },
   {
    "duration": 18,
    "start_time": "2022-03-07T11:23:34.305Z"
   },
   {
    "duration": 47,
    "start_time": "2022-03-07T11:23:34.324Z"
   },
   {
    "duration": 17,
    "start_time": "2022-03-07T11:23:34.373Z"
   },
   {
    "duration": 248,
    "start_time": "2022-03-07T11:23:34.391Z"
   },
   {
    "duration": 7,
    "start_time": "2022-03-07T11:23:34.640Z"
   },
   {
    "duration": 253,
    "start_time": "2022-03-07T11:23:34.648Z"
   },
   {
    "duration": 10,
    "start_time": "2022-03-07T11:23:34.903Z"
   },
   {
    "duration": 14,
    "start_time": "2022-03-07T11:23:34.915Z"
   },
   {
    "duration": 38,
    "start_time": "2022-03-07T11:23:34.930Z"
   },
   {
    "duration": 10,
    "start_time": "2022-03-07T11:23:34.970Z"
   },
   {
    "duration": 9,
    "start_time": "2022-03-07T11:23:34.981Z"
   },
   {
    "duration": 9,
    "start_time": "2022-03-07T11:23:34.992Z"
   }
  ],
  "kernelspec": {
   "display_name": "Python 3 (ipykernel)",
   "language": "python",
   "name": "python3"
  },
  "language_info": {
   "codemirror_mode": {
    "name": "ipython",
    "version": 3
   },
   "file_extension": ".py",
   "mimetype": "text/x-python",
   "name": "python",
   "nbconvert_exporter": "python",
   "pygments_lexer": "ipython3",
   "version": "3.10.4"
  },
  "toc": {
   "base_numbering": 1,
   "nav_menu": {},
   "number_sections": true,
   "sideBar": true,
   "skip_h1_title": true,
   "title_cell": "Table of Contents",
   "title_sidebar": "Contents",
   "toc_cell": false,
   "toc_position": {},
   "toc_section_display": true,
   "toc_window_display": false
  }
 },
 "nbformat": 4,
 "nbformat_minor": 5
}
