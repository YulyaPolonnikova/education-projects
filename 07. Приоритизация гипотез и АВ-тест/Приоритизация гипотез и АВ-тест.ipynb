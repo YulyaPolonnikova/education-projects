{
 "cells": [
  {
   "cell_type": "markdown",
   "metadata": {},
   "source": [
    "<h1><p style=\"text-align: center;\">Приоритизация гипотез и анализ результатов А/В-теста для интернет-магазина</p></h1>\n",
    "<h2>Содержание<span class=\"tocSkip\"></span></h2>\n",
    "<div class=\"toc\"><ol class=\"toc-item\">\n",
    "    <li> Приоритизация гипотез\n",
    "        <ul class=\"toc-item\">\n",
    "            <li> Изучение общей информации из файла и подготовка данных </li>\n",
    "            <li> Приоритизация гипотез с помощью ICE и RICE </li>\n",
    "            <li> Выводы </li>\n",
    "        </ul> \n",
    "    </li>\n",
    "    <li> Анализ A/B-теста\n",
    "        <ul class=\"toc-item\">\n",
    "            <li> Изучение общей информации из файлов и подготовка данных </li>\n",
    "            <li> Кумулятивные метрики </li>\n",
    "            <li> Определение аномальных пользователей </li>\n",
    "            <li> Анализ выбросов и всплесков </li>\n",
    "            <li> Выводы и принятие решения </li>\n",
    "        </ul>\n",
    "    </li>\n",
    "    <li> Общий вывод</li>\n",
    "</ol></div>"
   ]
  },
  {
   "cell_type": "code",
   "execution_count": 1,
   "metadata": {},
   "outputs": [],
   "source": [
    "import pandas as pd\n",
    "import datetime as dt\n",
    "from scipy import stats as st\n",
    "import matplotlib.pyplot as plt\n",
    "import math as mth\n",
    "import numpy as np\n",
    "import warnings"
   ]
  },
  {
   "cell_type": "markdown",
   "metadata": {},
   "source": [
    "# Часть 1. Приоритизация гипотез\n",
    "## Изучение общей информации из файла и подготовка данных\n",
    "\n",
    "Откроем файл с данными и изучим общую информацию"
   ]
  },
  {
   "cell_type": "code",
   "execution_count": 2,
   "metadata": {},
   "outputs": [
    {
     "name": "stdout",
     "output_type": "stream",
     "text": [
      "<class 'pandas.core.frame.DataFrame'>\n",
      "RangeIndex: 9 entries, 0 to 8\n",
      "Data columns (total 5 columns):\n",
      " #   Column      Non-Null Count  Dtype \n",
      "---  ------      --------------  ----- \n",
      " 0   Hypothesis  9 non-null      object\n",
      " 1   Reach       9 non-null      int64 \n",
      " 2   Impact      9 non-null      int64 \n",
      " 3   Confidence  9 non-null      int64 \n",
      " 4   Efforts     9 non-null      int64 \n",
      "dtypes: int64(4), object(1)\n",
      "memory usage: 488.0+ bytes\n"
     ]
    }
   ],
   "source": [
    "hypothesis = pd.read_csv('') # в '' пишем наименование csv-файла с данными\n",
    "warnings.filterwarnings(\"ignore\")\n",
    "\n",
    "hypothesis.info()"
   ]
  },
  {
   "cell_type": "markdown",
   "metadata": {},
   "source": [
    "Видим, что в данных нет пропусков, типы данных заданы корректно, поэтому обрабатывать в этом датафрейме особенно нечего.\n",
    "Можем привести наименования столбцов к нижнему регистру в целях стандартизации."
   ]
  },
  {
   "cell_type": "code",
   "execution_count": 3,
   "metadata": {},
   "outputs": [
    {
     "data": {
      "text/plain": [
       "Index(['hypothesis', 'reach', 'impact', 'confidence', 'efforts'], dtype='object')"
      ]
     },
     "execution_count": 3,
     "metadata": {},
     "output_type": "execute_result"
    }
   ],
   "source": [
    "hypothesis.columns = hypothesis.columns.str.lower()\n",
    "hypothesis.columns"
   ]
  },
  {
   "cell_type": "markdown",
   "metadata": {},
   "source": [
    "## Приоритизация гипотез с помощью ICE и RICE\n"
   ]
  },
  {
   "cell_type": "markdown",
   "metadata": {},
   "source": [
    "Применим фреймворк ICE для приоритизации гипотез. Отсортируем  их по убыванию приоритета."
   ]
  },
  {
   "cell_type": "code",
   "execution_count": 4,
   "metadata": {},
   "outputs": [
    {
     "data": {
      "text/html": [
       "<div>\n",
       "<style scoped>\n",
       "    .dataframe tbody tr th:only-of-type {\n",
       "        vertical-align: middle;\n",
       "    }\n",
       "\n",
       "    .dataframe tbody tr th {\n",
       "        vertical-align: top;\n",
       "    }\n",
       "\n",
       "    .dataframe thead th {\n",
       "        text-align: right;\n",
       "    }\n",
       "</style>\n",
       "<table border=\"1\" class=\"dataframe\">\n",
       "  <thead>\n",
       "    <tr style=\"text-align: right;\">\n",
       "      <th></th>\n",
       "      <th>hypothesis</th>\n",
       "      <th>ICE</th>\n",
       "    </tr>\n",
       "  </thead>\n",
       "  <tbody>\n",
       "    <tr>\n",
       "      <th>8</th>\n",
       "      <td>Запустить акцию, дающую скидку на товар в день рождения</td>\n",
       "      <td>16.200000</td>\n",
       "    </tr>\n",
       "    <tr>\n",
       "      <th>0</th>\n",
       "      <td>Добавить два новых канала привлечения трафика, что позволит привлекать на 30% больше пользователей</td>\n",
       "      <td>13.333333</td>\n",
       "    </tr>\n",
       "    <tr>\n",
       "      <th>7</th>\n",
       "      <td>Добавить форму подписки на все основные страницы, чтобы собрать базу клиентов для email-рассылок</td>\n",
       "      <td>11.200000</td>\n",
       "    </tr>\n",
       "    <tr>\n",
       "      <th>6</th>\n",
       "      <td>Показать на главной странице баннеры с актуальными акциями и распродажами, чтобы увеличить конверсию</td>\n",
       "      <td>8.000000</td>\n",
       "    </tr>\n",
       "    <tr>\n",
       "      <th>2</th>\n",
       "      <td>Добавить блоки рекомендаций товаров на сайт интернет магазина, чтобы повысить конверсию и средний чек заказа</td>\n",
       "      <td>7.000000</td>\n",
       "    </tr>\n",
       "    <tr>\n",
       "      <th>1</th>\n",
       "      <td>Запустить собственную службу доставки, что сократит срок доставки заказов</td>\n",
       "      <td>2.000000</td>\n",
       "    </tr>\n",
       "    <tr>\n",
       "      <th>5</th>\n",
       "      <td>Добавить страницу отзывов клиентов о магазине, что позволит увеличить количество заказов</td>\n",
       "      <td>1.333333</td>\n",
       "    </tr>\n",
       "    <tr>\n",
       "      <th>3</th>\n",
       "      <td>Изменить структура категорий, что увеличит конверсию, т.к. пользователи быстрее найдут нужный товар</td>\n",
       "      <td>1.125000</td>\n",
       "    </tr>\n",
       "    <tr>\n",
       "      <th>4</th>\n",
       "      <td>Изменить цвет фона главной страницы, чтобы увеличить вовлеченность пользователей</td>\n",
       "      <td>1.000000</td>\n",
       "    </tr>\n",
       "  </tbody>\n",
       "</table>\n",
       "</div>"
      ],
      "text/plain": [
       "                                                                                                     hypothesis  \\\n",
       "8                                                       Запустить акцию, дающую скидку на товар в день рождения   \n",
       "0            Добавить два новых канала привлечения трафика, что позволит привлекать на 30% больше пользователей   \n",
       "7              Добавить форму подписки на все основные страницы, чтобы собрать базу клиентов для email-рассылок   \n",
       "6          Показать на главной странице баннеры с актуальными акциями и распродажами, чтобы увеличить конверсию   \n",
       "2  Добавить блоки рекомендаций товаров на сайт интернет магазина, чтобы повысить конверсию и средний чек заказа   \n",
       "1                                     Запустить собственную службу доставки, что сократит срок доставки заказов   \n",
       "5                      Добавить страницу отзывов клиентов о магазине, что позволит увеличить количество заказов   \n",
       "3           Изменить структура категорий, что увеличит конверсию, т.к. пользователи быстрее найдут нужный товар   \n",
       "4                              Изменить цвет фона главной страницы, чтобы увеличить вовлеченность пользователей   \n",
       "\n",
       "         ICE  \n",
       "8  16.200000  \n",
       "0  13.333333  \n",
       "7  11.200000  \n",
       "6   8.000000  \n",
       "2   7.000000  \n",
       "1   2.000000  \n",
       "5   1.333333  \n",
       "3   1.125000  \n",
       "4   1.000000  "
      ]
     },
     "execution_count": 4,
     "metadata": {},
     "output_type": "execute_result"
    }
   ],
   "source": [
    "hypothesis['ICE'] = hypothesis['impact'] * hypothesis['confidence'] / hypothesis['efforts']\n",
    "pd.options.display.max_colwidth = 400\n",
    "hypothesis[['hypothesis', 'ICE']].sort_values(by = 'ICE', ascending = False)"
   ]
  },
  {
   "cell_type": "markdown",
   "metadata": {},
   "source": [
    "Видим, что наиболее перспективными гипотезами являются гипотезы с порядковыми номерами (в порядке убывания приоритетности): 9, 1, 8, 7, 3. Наименее перспективные гипотезы, соответственно - 5-я, 4-я, 6-я, 2-я."
   ]
  },
  {
   "cell_type": "markdown",
   "metadata": {},
   "source": [
    "Применим фреймворк RICE для приоритизации гипотез. Отсортируем их по убыванию приоритета."
   ]
  },
  {
   "cell_type": "code",
   "execution_count": 5,
   "metadata": {
    "scrolled": true
   },
   "outputs": [
    {
     "data": {
      "text/html": [
       "<div>\n",
       "<style scoped>\n",
       "    .dataframe tbody tr th:only-of-type {\n",
       "        vertical-align: middle;\n",
       "    }\n",
       "\n",
       "    .dataframe tbody tr th {\n",
       "        vertical-align: top;\n",
       "    }\n",
       "\n",
       "    .dataframe thead th {\n",
       "        text-align: right;\n",
       "    }\n",
       "</style>\n",
       "<table border=\"1\" class=\"dataframe\">\n",
       "  <thead>\n",
       "    <tr style=\"text-align: right;\">\n",
       "      <th></th>\n",
       "      <th>hypothesis</th>\n",
       "      <th>reach</th>\n",
       "      <th>impact</th>\n",
       "      <th>confidence</th>\n",
       "      <th>efforts</th>\n",
       "      <th>ICE</th>\n",
       "      <th>RICE</th>\n",
       "    </tr>\n",
       "  </thead>\n",
       "  <tbody>\n",
       "    <tr>\n",
       "      <th>7</th>\n",
       "      <td>Добавить форму подписки на все основные страницы, чтобы собрать базу клиентов для email-рассылок</td>\n",
       "      <td>10</td>\n",
       "      <td>7</td>\n",
       "      <td>8</td>\n",
       "      <td>5</td>\n",
       "      <td>11.200000</td>\n",
       "      <td>112.0</td>\n",
       "    </tr>\n",
       "    <tr>\n",
       "      <th>2</th>\n",
       "      <td>Добавить блоки рекомендаций товаров на сайт интернет магазина, чтобы повысить конверсию и средний чек заказа</td>\n",
       "      <td>8</td>\n",
       "      <td>3</td>\n",
       "      <td>7</td>\n",
       "      <td>3</td>\n",
       "      <td>7.000000</td>\n",
       "      <td>56.0</td>\n",
       "    </tr>\n",
       "    <tr>\n",
       "      <th>0</th>\n",
       "      <td>Добавить два новых канала привлечения трафика, что позволит привлекать на 30% больше пользователей</td>\n",
       "      <td>3</td>\n",
       "      <td>10</td>\n",
       "      <td>8</td>\n",
       "      <td>6</td>\n",
       "      <td>13.333333</td>\n",
       "      <td>40.0</td>\n",
       "    </tr>\n",
       "    <tr>\n",
       "      <th>6</th>\n",
       "      <td>Показать на главной странице баннеры с актуальными акциями и распродажами, чтобы увеличить конверсию</td>\n",
       "      <td>5</td>\n",
       "      <td>3</td>\n",
       "      <td>8</td>\n",
       "      <td>3</td>\n",
       "      <td>8.000000</td>\n",
       "      <td>40.0</td>\n",
       "    </tr>\n",
       "    <tr>\n",
       "      <th>8</th>\n",
       "      <td>Запустить акцию, дающую скидку на товар в день рождения</td>\n",
       "      <td>1</td>\n",
       "      <td>9</td>\n",
       "      <td>9</td>\n",
       "      <td>5</td>\n",
       "      <td>16.200000</td>\n",
       "      <td>16.2</td>\n",
       "    </tr>\n",
       "    <tr>\n",
       "      <th>3</th>\n",
       "      <td>Изменить структура категорий, что увеличит конверсию, т.к. пользователи быстрее найдут нужный товар</td>\n",
       "      <td>8</td>\n",
       "      <td>3</td>\n",
       "      <td>3</td>\n",
       "      <td>8</td>\n",
       "      <td>1.125000</td>\n",
       "      <td>9.0</td>\n",
       "    </tr>\n",
       "    <tr>\n",
       "      <th>1</th>\n",
       "      <td>Запустить собственную службу доставки, что сократит срок доставки заказов</td>\n",
       "      <td>2</td>\n",
       "      <td>5</td>\n",
       "      <td>4</td>\n",
       "      <td>10</td>\n",
       "      <td>2.000000</td>\n",
       "      <td>4.0</td>\n",
       "    </tr>\n",
       "    <tr>\n",
       "      <th>5</th>\n",
       "      <td>Добавить страницу отзывов клиентов о магазине, что позволит увеличить количество заказов</td>\n",
       "      <td>3</td>\n",
       "      <td>2</td>\n",
       "      <td>2</td>\n",
       "      <td>3</td>\n",
       "      <td>1.333333</td>\n",
       "      <td>4.0</td>\n",
       "    </tr>\n",
       "    <tr>\n",
       "      <th>4</th>\n",
       "      <td>Изменить цвет фона главной страницы, чтобы увеличить вовлеченность пользователей</td>\n",
       "      <td>3</td>\n",
       "      <td>1</td>\n",
       "      <td>1</td>\n",
       "      <td>1</td>\n",
       "      <td>1.000000</td>\n",
       "      <td>3.0</td>\n",
       "    </tr>\n",
       "  </tbody>\n",
       "</table>\n",
       "</div>"
      ],
      "text/plain": [
       "                                                                                                     hypothesis  \\\n",
       "7              Добавить форму подписки на все основные страницы, чтобы собрать базу клиентов для email-рассылок   \n",
       "2  Добавить блоки рекомендаций товаров на сайт интернет магазина, чтобы повысить конверсию и средний чек заказа   \n",
       "0            Добавить два новых канала привлечения трафика, что позволит привлекать на 30% больше пользователей   \n",
       "6          Показать на главной странице баннеры с актуальными акциями и распродажами, чтобы увеличить конверсию   \n",
       "8                                                       Запустить акцию, дающую скидку на товар в день рождения   \n",
       "3           Изменить структура категорий, что увеличит конверсию, т.к. пользователи быстрее найдут нужный товар   \n",
       "1                                     Запустить собственную службу доставки, что сократит срок доставки заказов   \n",
       "5                      Добавить страницу отзывов клиентов о магазине, что позволит увеличить количество заказов   \n",
       "4                              Изменить цвет фона главной страницы, чтобы увеличить вовлеченность пользователей   \n",
       "\n",
       "   reach  impact  confidence  efforts        ICE   RICE  \n",
       "7     10       7           8        5  11.200000  112.0  \n",
       "2      8       3           7        3   7.000000   56.0  \n",
       "0      3      10           8        6  13.333333   40.0  \n",
       "6      5       3           8        3   8.000000   40.0  \n",
       "8      1       9           9        5  16.200000   16.2  \n",
       "3      8       3           3        8   1.125000    9.0  \n",
       "1      2       5           4       10   2.000000    4.0  \n",
       "5      3       2           2        3   1.333333    4.0  \n",
       "4      3       1           1        1   1.000000    3.0  "
      ]
     },
     "execution_count": 5,
     "metadata": {},
     "output_type": "execute_result"
    }
   ],
   "source": [
    "hypothesis['RICE'] = hypothesis['reach'] * hypothesis['impact'] * hypothesis['confidence'] / hypothesis['efforts']\n",
    "pd.options.display.max_colwidth = 400\n",
    "hypothesis.sort_values(by = 'RICE', ascending = False)"
   ]
  },
  {
   "cell_type": "markdown",
   "metadata": {},
   "source": [
    "Видим, что что среди наиболее перспективных гипотез снова гипотезы с порядковыми номерами: 9, 1, 8, 7, 3. Однако порядок приоритетности изменился, теперь на первом месте гипотеза под номером 8, а на втором - под номером 3."
   ]
  },
  {
   "cell_type": "code",
   "execution_count": 6,
   "metadata": {},
   "outputs": [
    {
     "data": {
      "text/plain": [
       "<matplotlib.legend.Legend at 0x7f7683d4bdc0>"
      ]
     },
     "execution_count": 6,
     "metadata": {},
     "output_type": "execute_result"
    },
    {
     "data": {
      "image/png": "[encoded data removed]",
      "text/plain": [
       "<Figure size 1080x720 with 1 Axes>"
      ]
     },
     "metadata": {
      "needs_background": "light"
     },
     "output_type": "display_data"
    }
   ],
   "source": [
    "myplot = hypothesis[['ICE', 'RICE']].T.plot(figsize=(15,10), xticks=[0, 1], yticks=[])\n",
    "df = pd.DataFrame({'ICE': [0], 'RICE': [1]})\n",
    "for i in hypothesis['ICE']:\n",
    "    myplot.text(0,i,round(i,2))\n",
    "for i in hypothesis['RICE']:    \n",
    "    myplot.text(1,i,i)\n",
    "myplot.legend([1,2,3,4,5,6,7,8,9])"
   ]
  },
  {
   "cell_type": "markdown",
   "metadata": {},
   "source": [
    "## Выводы"
   ]
  },
  {
   "cell_type": "markdown",
   "metadata": {},
   "source": [
    "Таким образом, очевидно, что приоритизация гипотез при применении RICE вместо ICE несколько изменилась, так произошло из-за параметра Reach, который показывает, скольких пользователей затронет изменение, которое мы хотим внести. У гипотез с номерами 8 и 3 он равен, соответственно 10 и 8 баллам, в то время, как у других гипотез этот показатель набрал сильно меньше баллов.\n",
    "Поскольку при выборе гипотез в качестве наиболее приоритетных и перспективных необходимо, в том числе, учитывать охват пользователей, которых она затронет, лучше руководствоваться приоритизацией с помощью RICE."
   ]
  },
  {
   "cell_type": "markdown",
   "metadata": {},
   "source": [
    "# Часть 2. Анализ A/B-теста\n",
    "## Изучение общей информации из файлов и подготовка данных\n",
    "\n",
    "Откроем файлы с данными и изучим общую информацию"
   ]
  },
  {
   "cell_type": "code",
   "execution_count": 7,
   "metadata": {},
   "outputs": [
    {
     "name": "stdout",
     "output_type": "stream",
     "text": [
      "<class 'pandas.core.frame.DataFrame'>\n",
      "RangeIndex: 1197 entries, 0 to 1196\n",
      "Data columns (total 5 columns):\n",
      " #   Column         Non-Null Count  Dtype \n",
      "---  ------         --------------  ----- \n",
      " 0   transactionId  1197 non-null   int64 \n",
      " 1   visitorId      1197 non-null   int64 \n",
      " 2   date           1197 non-null   object\n",
      " 3   revenue        1197 non-null   int64 \n",
      " 4   group          1197 non-null   object\n",
      "dtypes: int64(3), object(2)\n",
      "memory usage: 46.9+ KB\n"
     ]
    }
   ],
   "source": [
    "orders = pd.read_csv('') # в '' пишем наименование csv-файла с данными\n",
    "visitors = pd.read_csv('') # в '' пишем наименование csv-файла с данными\n",
    "\n",
    "orders.info()"
   ]
  },
  {
   "cell_type": "markdown",
   "metadata": {},
   "source": [
    "В данном датафрейме нет пропусков, можно привести данные в столбце date к формату дата-время для удобства дальнейших расчётов.\n",
    "Также можем привести наименования столбцов transactionId и visitorId к стандартному формату для удобства читаемости."
   ]
  },
  {
   "cell_type": "code",
   "execution_count": 8,
   "metadata": {},
   "outputs": [],
   "source": [
    "orders['date'] = pd.to_datetime(orders['date'], format='%Y-%m-%d')\n",
    "orders = orders.rename(columns={'transactionId':'transaction_id', 'visitorId': 'visitor_id'})"
   ]
  },
  {
   "cell_type": "code",
   "execution_count": 9,
   "metadata": {
    "scrolled": true
   },
   "outputs": [
    {
     "name": "stdout",
     "output_type": "stream",
     "text": [
      "<class 'pandas.core.frame.DataFrame'>\n",
      "RangeIndex: 1197 entries, 0 to 1196\n",
      "Data columns (total 5 columns):\n",
      " #   Column          Non-Null Count  Dtype         \n",
      "---  ------          --------------  -----         \n",
      " 0   transaction_id  1197 non-null   int64         \n",
      " 1   visitor_id      1197 non-null   int64         \n",
      " 2   date            1197 non-null   datetime64[ns]\n",
      " 3   revenue         1197 non-null   int64         \n",
      " 4   group           1197 non-null   object        \n",
      "dtypes: datetime64[ns](1), int64(3), object(1)\n",
      "memory usage: 46.9+ KB\n"
     ]
    }
   ],
   "source": [
    "orders.info()"
   ]
  },
  {
   "cell_type": "markdown",
   "metadata": {},
   "source": [
    "С датафреймом orders больше ничего делать не будем, взглянем на датафрейм visitors."
   ]
  },
  {
   "cell_type": "code",
   "execution_count": 10,
   "metadata": {},
   "outputs": [
    {
     "name": "stdout",
     "output_type": "stream",
     "text": [
      "<class 'pandas.core.frame.DataFrame'>\n",
      "RangeIndex: 62 entries, 0 to 61\n",
      "Data columns (total 3 columns):\n",
      " #   Column    Non-Null Count  Dtype \n",
      "---  ------    --------------  ----- \n",
      " 0   date      62 non-null     object\n",
      " 1   group     62 non-null     object\n",
      " 2   visitors  62 non-null     int64 \n",
      "dtypes: int64(1), object(2)\n",
      "memory usage: 1.6+ KB\n"
     ]
    }
   ],
   "source": [
    "visitors.info()"
   ]
  },
  {
   "cell_type": "markdown",
   "metadata": {},
   "source": [
    "В этом датафрейме также нет пропусков, но мы можем привести данные в столбце date также к формату датавремя для удобства дальнейших расчётов."
   ]
  },
  {
   "cell_type": "code",
   "execution_count": 11,
   "metadata": {},
   "outputs": [
    {
     "name": "stdout",
     "output_type": "stream",
     "text": [
      "<class 'pandas.core.frame.DataFrame'>\n",
      "RangeIndex: 62 entries, 0 to 61\n",
      "Data columns (total 3 columns):\n",
      " #   Column    Non-Null Count  Dtype         \n",
      "---  ------    --------------  -----         \n",
      " 0   date      62 non-null     datetime64[ns]\n",
      " 1   group     62 non-null     object        \n",
      " 2   visitors  62 non-null     int64         \n",
      "dtypes: datetime64[ns](1), int64(1), object(1)\n",
      "memory usage: 1.6+ KB\n"
     ]
    }
   ],
   "source": [
    "visitors['date'] = pd.to_datetime(visitors['date'], format='%Y-%m-%d')\n",
    "visitors.info()"
   ]
  },
  {
   "cell_type": "markdown",
   "metadata": {},
   "source": [
    "Теперь проверим корректность разбиения посетителей на группы, возможно, есть посетители, попавшие в обе группы. "
   ]
  },
  {
   "cell_type": "code",
   "execution_count": 12,
   "metadata": {},
   "outputs": [
    {
     "data": {
      "text/html": [
       "<div>\n",
       "<style scoped>\n",
       "    .dataframe tbody tr th:only-of-type {\n",
       "        vertical-align: middle;\n",
       "    }\n",
       "\n",
       "    .dataframe tbody tr th {\n",
       "        vertical-align: top;\n",
       "    }\n",
       "\n",
       "    .dataframe thead th {\n",
       "        text-align: right;\n",
       "    }\n",
       "</style>\n",
       "<table border=\"1\" class=\"dataframe\">\n",
       "  <thead>\n",
       "    <tr style=\"text-align: right;\">\n",
       "      <th></th>\n",
       "      <th>transaction_id</th>\n",
       "      <th>visitor_id</th>\n",
       "      <th>date</th>\n",
       "      <th>revenue</th>\n",
       "      <th>group</th>\n",
       "      <th>repeated_visitors</th>\n",
       "    </tr>\n",
       "  </thead>\n",
       "  <tbody>\n",
       "    <tr>\n",
       "      <th>0</th>\n",
       "      <td>3667963787</td>\n",
       "      <td>3312258926</td>\n",
       "      <td>2019-08-15</td>\n",
       "      <td>1650</td>\n",
       "      <td>B</td>\n",
       "      <td>1</td>\n",
       "    </tr>\n",
       "    <tr>\n",
       "      <th>1</th>\n",
       "      <td>2804400009</td>\n",
       "      <td>3642806036</td>\n",
       "      <td>2019-08-15</td>\n",
       "      <td>730</td>\n",
       "      <td>B</td>\n",
       "      <td>1</td>\n",
       "    </tr>\n",
       "    <tr>\n",
       "      <th>2</th>\n",
       "      <td>2961555356</td>\n",
       "      <td>4069496402</td>\n",
       "      <td>2019-08-15</td>\n",
       "      <td>400</td>\n",
       "      <td>A</td>\n",
       "      <td>2</td>\n",
       "    </tr>\n",
       "    <tr>\n",
       "      <th>3</th>\n",
       "      <td>1473132782</td>\n",
       "      <td>4069496402</td>\n",
       "      <td>2019-08-12</td>\n",
       "      <td>640</td>\n",
       "      <td>B</td>\n",
       "      <td>2</td>\n",
       "    </tr>\n",
       "    <tr>\n",
       "      <th>4</th>\n",
       "      <td>3797467345</td>\n",
       "      <td>1196621759</td>\n",
       "      <td>2019-08-15</td>\n",
       "      <td>9759</td>\n",
       "      <td>B</td>\n",
       "      <td>1</td>\n",
       "    </tr>\n",
       "    <tr>\n",
       "      <th>5</th>\n",
       "      <td>2282983706</td>\n",
       "      <td>2322279887</td>\n",
       "      <td>2019-08-15</td>\n",
       "      <td>2308</td>\n",
       "      <td>B</td>\n",
       "      <td>1</td>\n",
       "    </tr>\n",
       "    <tr>\n",
       "      <th>6</th>\n",
       "      <td>182168103</td>\n",
       "      <td>935554773</td>\n",
       "      <td>2019-08-15</td>\n",
       "      <td>2210</td>\n",
       "      <td>B</td>\n",
       "      <td>1</td>\n",
       "    </tr>\n",
       "    <tr>\n",
       "      <th>7</th>\n",
       "      <td>398296753</td>\n",
       "      <td>2900797465</td>\n",
       "      <td>2019-08-15</td>\n",
       "      <td>1860</td>\n",
       "      <td>B</td>\n",
       "      <td>1</td>\n",
       "    </tr>\n",
       "    <tr>\n",
       "      <th>8</th>\n",
       "      <td>2626614568</td>\n",
       "      <td>78758296</td>\n",
       "      <td>2019-08-15</td>\n",
       "      <td>1044</td>\n",
       "      <td>A</td>\n",
       "      <td>1</td>\n",
       "    </tr>\n",
       "    <tr>\n",
       "      <th>9</th>\n",
       "      <td>1576988021</td>\n",
       "      <td>295230930</td>\n",
       "      <td>2019-08-15</td>\n",
       "      <td>13710</td>\n",
       "      <td>A</td>\n",
       "      <td>1</td>\n",
       "    </tr>\n",
       "  </tbody>\n",
       "</table>\n",
       "</div>"
      ],
      "text/plain": [
       "   transaction_id  visitor_id       date  revenue group  repeated_visitors\n",
       "0      3667963787  3312258926 2019-08-15     1650     B                  1\n",
       "1      2804400009  3642806036 2019-08-15      730     B                  1\n",
       "2      2961555356  4069496402 2019-08-15      400     A                  2\n",
       "3      1473132782  4069496402 2019-08-12      640     B                  2\n",
       "4      3797467345  1196621759 2019-08-15     9759     B                  1\n",
       "5      2282983706  2322279887 2019-08-15     2308     B                  1\n",
       "6       182168103   935554773 2019-08-15     2210     B                  1\n",
       "7       398296753  2900797465 2019-08-15     1860     B                  1\n",
       "8      2626614568    78758296 2019-08-15     1044     A                  1\n",
       "9      1576988021   295230930 2019-08-15    13710     A                  1"
      ]
     },
     "execution_count": 12,
     "metadata": {},
     "output_type": "execute_result"
    }
   ],
   "source": [
    "#сначала формируем срез уникальных пользователей в нашем датафрейме по группам\n",
    "unique_visitors = orders.groupby('visitor_id')['group'].nunique()\n",
    "#далее объединяем датафрейм orders с получившимся срезом уникальных пользователей по группам\n",
    "orders = orders.merge(unique_visitors, on = 'visitor_id').rename(columns = {'group_x':'group', 'group_y': 'repeated_visitors'})\n",
    "orders.head(10)"
   ]
  },
  {
   "cell_type": "code",
   "execution_count": 13,
   "metadata": {},
   "outputs": [
    {
     "data": {
      "text/plain": [
       "'Пересечение групп составляет: 15.12%'"
      ]
     },
     "metadata": {},
     "output_type": "display_data"
    },
    {
     "data": {
      "text/plain": [
       "array([1, 2])"
      ]
     },
     "execution_count": 13,
     "metadata": {},
     "output_type": "execute_result"
    }
   ],
   "source": [
    "overlap = len(orders.query('repeated_visitors == 2'))/len(orders)\n",
    "display(f'Пересечение групп составляет: {overlap:.2%}')\n",
    "orders['repeated_visitors'].unique()"
   ]
  },
  {
   "cell_type": "markdown",
   "metadata": {},
   "source": [
    "В столбце repeated_visitors у нас фигурируют значения 1 и 2, 1 - означает, что данный посетитель попал только в одну из групп, 2 - посетитель попал в обе группы, поскольку пересечение групп сильно влияет на результаты теста, если процент достаточно большой (в нашем случае, довольно ощутимый - чуть больше 15%), то мы попробуем удалить таких посетителей из нашего датафрейма."
   ]
  },
  {
   "cell_type": "code",
   "execution_count": 14,
   "metadata": {},
   "outputs": [
    {
     "data": {
      "text/html": [
       "<div>\n",
       "<style scoped>\n",
       "    .dataframe tbody tr th:only-of-type {\n",
       "        vertical-align: middle;\n",
       "    }\n",
       "\n",
       "    .dataframe tbody tr th {\n",
       "        vertical-align: top;\n",
       "    }\n",
       "\n",
       "    .dataframe thead th {\n",
       "        text-align: right;\n",
       "    }\n",
       "</style>\n",
       "<table border=\"1\" class=\"dataframe\">\n",
       "  <thead>\n",
       "    <tr style=\"text-align: right;\">\n",
       "      <th></th>\n",
       "      <th>transaction_id</th>\n",
       "      <th>visitor_id</th>\n",
       "      <th>date</th>\n",
       "      <th>revenue</th>\n",
       "      <th>group</th>\n",
       "    </tr>\n",
       "  </thead>\n",
       "  <tbody>\n",
       "    <tr>\n",
       "      <th>0</th>\n",
       "      <td>3667963787</td>\n",
       "      <td>3312258926</td>\n",
       "      <td>2019-08-15</td>\n",
       "      <td>1650</td>\n",
       "      <td>B</td>\n",
       "    </tr>\n",
       "    <tr>\n",
       "      <th>1</th>\n",
       "      <td>2804400009</td>\n",
       "      <td>3642806036</td>\n",
       "      <td>2019-08-15</td>\n",
       "      <td>730</td>\n",
       "      <td>B</td>\n",
       "    </tr>\n",
       "    <tr>\n",
       "      <th>4</th>\n",
       "      <td>3797467345</td>\n",
       "      <td>1196621759</td>\n",
       "      <td>2019-08-15</td>\n",
       "      <td>9759</td>\n",
       "      <td>B</td>\n",
       "    </tr>\n",
       "    <tr>\n",
       "      <th>5</th>\n",
       "      <td>2282983706</td>\n",
       "      <td>2322279887</td>\n",
       "      <td>2019-08-15</td>\n",
       "      <td>2308</td>\n",
       "      <td>B</td>\n",
       "    </tr>\n",
       "    <tr>\n",
       "      <th>6</th>\n",
       "      <td>182168103</td>\n",
       "      <td>935554773</td>\n",
       "      <td>2019-08-15</td>\n",
       "      <td>2210</td>\n",
       "      <td>B</td>\n",
       "    </tr>\n",
       "    <tr>\n",
       "      <th>7</th>\n",
       "      <td>398296753</td>\n",
       "      <td>2900797465</td>\n",
       "      <td>2019-08-15</td>\n",
       "      <td>1860</td>\n",
       "      <td>B</td>\n",
       "    </tr>\n",
       "    <tr>\n",
       "      <th>8</th>\n",
       "      <td>2626614568</td>\n",
       "      <td>78758296</td>\n",
       "      <td>2019-08-15</td>\n",
       "      <td>1044</td>\n",
       "      <td>A</td>\n",
       "    </tr>\n",
       "    <tr>\n",
       "      <th>9</th>\n",
       "      <td>1576988021</td>\n",
       "      <td>295230930</td>\n",
       "      <td>2019-08-15</td>\n",
       "      <td>13710</td>\n",
       "      <td>A</td>\n",
       "    </tr>\n",
       "    <tr>\n",
       "      <th>10</th>\n",
       "      <td>1506739906</td>\n",
       "      <td>1882260405</td>\n",
       "      <td>2019-08-15</td>\n",
       "      <td>1855</td>\n",
       "      <td>B</td>\n",
       "    </tr>\n",
       "    <tr>\n",
       "      <th>11</th>\n",
       "      <td>3649131742</td>\n",
       "      <td>879864040</td>\n",
       "      <td>2019-08-15</td>\n",
       "      <td>4008</td>\n",
       "      <td>A</td>\n",
       "    </tr>\n",
       "  </tbody>\n",
       "</table>\n",
       "</div>"
      ],
      "text/plain": [
       "    transaction_id  visitor_id       date  revenue group\n",
       "0       3667963787  3312258926 2019-08-15     1650     B\n",
       "1       2804400009  3642806036 2019-08-15      730     B\n",
       "4       3797467345  1196621759 2019-08-15     9759     B\n",
       "5       2282983706  2322279887 2019-08-15     2308     B\n",
       "6        182168103   935554773 2019-08-15     2210     B\n",
       "7        398296753  2900797465 2019-08-15     1860     B\n",
       "8       2626614568    78758296 2019-08-15     1044     A\n",
       "9       1576988021   295230930 2019-08-15    13710     A\n",
       "10      1506739906  1882260405 2019-08-15     1855     B\n",
       "11      3649131742   879864040 2019-08-15     4008     A"
      ]
     },
     "execution_count": 14,
     "metadata": {},
     "output_type": "execute_result"
    }
   ],
   "source": [
    "orders = orders.query('repeated_visitors == 1').drop('repeated_visitors', 1)\n",
    "orders.head(10)"
   ]
  },
  {
   "cell_type": "markdown",
   "metadata": {},
   "source": [
    "Данные обработаны, теперь можем начать анализ А/В-теста."
   ]
  },
  {
   "cell_type": "markdown",
   "metadata": {},
   "source": [
    "## Кумулятивные метрики\n",
    "\n",
    "Для начала построим график кумулятивной выручки по группам."
   ]
  },
  {
   "cell_type": "code",
   "execution_count": 15,
   "metadata": {},
   "outputs": [
    {
     "data": {
      "image/png": "[encoded data removed]",
      "text/plain": [
       "<Figure size 1080x288 with 1 Axes>"
      ]
     },
     "metadata": {
      "needs_background": "light"
     },
     "output_type": "display_data"
    }
   ],
   "source": [
    "#создадим датафрейм dates_groups с уникальными парами значений 'date' и 'group' из таблицы orders, \n",
    "#избавимся от дубликатов методом drop_duplicates()\n",
    "dates_groups = orders[['date', 'group']].drop_duplicates()\n",
    "\n",
    "#объявим переменную orders_aggregated, содержащую: дату, группу A/B-теста, число уникальных транзакций \n",
    "#в группе теста по указанную дату включительно, число уникальных посетителей, совершивших хотя бы \n",
    "#одну транзакцию в группе теста по указанную дату включительно, суммарную выручку транзакций в группе теста по \n",
    "#указанную дату включительно, отсортируем получившийся датафрейм по столбцам 'date', 'group'\n",
    "orders_aggregated = (\n",
    "    dates_groups.apply(lambda x: orders[np.logical_and(orders['date'] <= x['date'], orders['group'] == x['group'])]\\\n",
    "    .agg({'date' : 'max', 'group' : 'max', 'transaction_id' : 'nunique', 'visitor_id' : 'nunique', 'revenue' : 'sum'}), axis=1)\n",
    "    .sort_values(by=['date','group'])\n",
    ")\n",
    "    \n",
    "#объявим переменную visitors_aggregated, содержащую: дату, группу A/B-теста, количество уникальных посетителей\n",
    "#в группе теста по указанную дату включительно, отсортируем получившийся датафрейм по столбцам 'date', 'group'\n",
    "visitors_aggregated = (\n",
    "    dates_groups.apply(    lambda x: visitors[np.logical_and(visitors['date'] <= x['date'], visitors['group'] == x['group'])]\n",
    "    .agg({'date' : 'max', 'group' : 'max', 'visitors' : 'sum'}), axis=1).sort_values(by=['date','group'])\n",
    ")\n",
    "\n",
    "# определим переменную cumulative_data, объединив orders_aggregated и visitors_aggregated по колонкам 'date', \n",
    "#'group' методом merge(), присвоим столбцам cumulative_data названия ['date', 'group', 'orders', 'buyers', 'revenue', \n",
    "#'visitors'], выведем первые 5 строк переменной cumulative_data\n",
    "cumulative_data = orders_aggregated.merge(visitors_aggregated, left_on=['date', 'group'], right_on=['date', 'group'])\n",
    "cumulative_data.columns = ['date', 'group', 'orders', 'buyers', 'revenue', 'visitors']\n",
    "cumulative_data.head()\n",
    "\n",
    "#объявим переменные cumulative_revenue_A и cumulative_revenue_B, в которых сохраним данные о датах, выручке и числе \n",
    "#транзакций в группах A и B, построим графики кумулятивной выручки по дням по группам\n",
    "cumulative_revenue_A = cumulative_data.query('group == \"A\"')[['date','revenue', 'orders']]\n",
    "cumulative_revenue_B = cumulative_data.query('group == \"B\"')[['date','revenue', 'orders']]\n",
    "\n",
    "plt.figure(figsize=(15,4))\n",
    "plt.plot(cumulative_revenue_A['date'], cumulative_revenue_A['revenue'], label='A')\n",
    "plt.plot(cumulative_revenue_B['date'], cumulative_revenue_B['revenue'], label='B')\n",
    "plt.legend()\n",
    "plt.title('График кумулятивной выручки по группам')\n",
    "plt.show()"
   ]
  },
  {
   "cell_type": "markdown",
   "metadata": {},
   "source": [
    "После 17 августа сегмент B показывает довольно большой скачок роста, возможно в данных есть аномально большие суммы транзакций, что искажает картинку теста и,соответственно, его результаты.\n",
    "\n",
    "Теперь построим график кумулятивного среднего чека по группам."
   ]
  },
  {
   "cell_type": "code",
   "execution_count": 16,
   "metadata": {
    "scrolled": true
   },
   "outputs": [
    {
     "data": {
      "image/png": "[encoded data removed]",
      "text/plain": [
       "<Figure size 1080x288 with 1 Axes>"
      ]
     },
     "metadata": {
      "needs_background": "light"
     },
     "output_type": "display_data"
    }
   ],
   "source": [
    "plt.figure(figsize=(15,4))\n",
    "plt.plot(cumulative_revenue_A['date'], cumulative_revenue_A['revenue']/cumulative_revenue_A['orders'], label='A')\n",
    "plt.plot(cumulative_revenue_B['date'], cumulative_revenue_B['revenue']/cumulative_revenue_B['orders'], label='B')\n",
    "plt.legend()\n",
    "plt.title('График кумулятивного среднего чека по группам')\n",
    "plt.show()"
   ]
  },
  {
   "cell_type": "markdown",
   "metadata": {},
   "source": [
    "Кумулятивное значение среднего чека также показывает, что 17 августа какие-то посетители совершили покупку на очень большую сумму, видимо, нужно найти эти выбросы и убрать их для адекватного анализа теста, так как текущие результаты довольно сильно искажены.\n",
    "\n",
    "Построим график относительного изменения кумулятивного среднего чека группы B к группе A."
   ]
  },
  {
   "cell_type": "code",
   "execution_count": 17,
   "metadata": {},
   "outputs": [
    {
     "data": {
      "image/png": "[encoded data removed]",
      "text/plain": [
       "<Figure size 1080x288 with 1 Axes>"
      ]
     },
     "metadata": {
      "needs_background": "light"
     },
     "output_type": "display_data"
    }
   ],
   "source": [
    "#объединим таблицы cumulative_revenue_A и cumulative_revenue_B методом merge() так, чтобы она содержала столбцы: \n",
    "#['date', 'revenueA', 'revenueB', 'ordersA', 'ordersB'], cохраниv в переменной merged_cumulative_revenue.\n",
    "merged_cumulative_revenue = cumulative_revenue_A.merge(cumulative_revenue_B, left_on='date', right_on='date', how='left', suffixes=['A', 'B'])\n",
    "\n",
    "#построим график относительно различия кумулятивного среднего чека группы B к группе A,\n",
    "#добавим пунктирную линию оси X (значение оси Y = 0) методом plt.axhline()\n",
    "plt.figure(figsize=(15,4))\n",
    "plt.plot(merged_cumulative_revenue['date'], (merged_cumulative_revenue['revenueB']/merged_cumulative_revenue['ordersB'])/(merged_cumulative_revenue['revenueA']/merged_cumulative_revenue['ordersA'])-1)\n",
    "plt.axhline(y=0, color='black', linestyle='--')\n",
    "plt.title('График относительного изменения кумулятивного среднего чека группы B к группе A')\n",
    "plt.show()"
   ]
  },
  {
   "cell_type": "markdown",
   "metadata": {},
   "source": [
    "Видим, что результаты теста довольно резко и серьёзно менялись, причём не только после 17 августа, но и 5 августа, 9 августа, а вот 13 августа резкий спад графика. Видимо, как раз в эти даты и были совершены аномальные транзакции.\n",
    "\n",
    "Построим график кумулятивной конверсии по группам."
   ]
  },
  {
   "cell_type": "code",
   "execution_count": 18,
   "metadata": {
    "scrolled": true
   },
   "outputs": [
    {
     "data": {
      "image/png": "[encoded data removed]",
      "text/plain": [
       "<Figure size 1080x288 with 1 Axes>"
      ]
     },
     "metadata": {
      "needs_background": "light"
     },
     "output_type": "display_data"
    }
   ],
   "source": [
    "# считаем кумулятивную конверсию\n",
    "cumulative_data['conversion'] = cumulative_data['orders']/cumulative_data['visitors']\n",
    "\n",
    "# отделяем данные по группе A\n",
    "cumulative_data_A = cumulative_data.query('group ==\"A\"')\n",
    "\n",
    "# отделяем данные по группе B\n",
    "cumulative_data_B = cumulative_data.query('group ==\"B\"')\n",
    "\n",
    "# строим графики\n",
    "plt.figure(figsize=(15,4))\n",
    "plt.plot(cumulative_data_A['date'], cumulative_data_A['conversion'], label='A')\n",
    "plt.plot(cumulative_data_B['date'], cumulative_data_B['conversion'], label='B')\n",
    "plt.legend()\n",
    "plt.title('График кумулятивной конверсии по группам')\n",
    "\n",
    "# задаем масштаб осей, чтобы было видно только абсолютное значение колебания в начале и в конце теста\n",
    "plt.axis([dt.datetime(2019, 8, 1), dt.datetime(2019,9,1), 0, 0.05])\n",
    "plt.show()"
   ]
  },
  {
   "cell_type": "markdown",
   "metadata": {},
   "source": [
    "Итак, в начале теста сегмент А имел бОльшую конверсию, но довольно быстро сегмент B выровнялся и зафиксировался примерно на одно значение выше, чем сегмент А.\n",
    "\n",
    "Построим график относительного изменения кумулятивной конверсии группы B к группе A."
   ]
  },
  {
   "cell_type": "code",
   "execution_count": 19,
   "metadata": {},
   "outputs": [
    {
     "data": {
      "image/png": "[encoded data removed]",
      "text/plain": [
       "<Figure size 1080x288 with 1 Axes>"
      ]
     },
     "metadata": {
      "needs_background": "light"
     },
     "output_type": "display_data"
    }
   ],
   "source": [
    "#объединим таблицы cumulative_data_A и cumulative_data_B методом merge() так, чтобы она содержала столбцы: \n",
    "#['date', 'conversionA', 'conversionB'], сохраним в переменной merged_cumulative_conversions\n",
    "merged_cumulative_conversions = cumulative_data_A[['date','conversion']].merge(cumulative_data_B[['date','conversion']], left_on='date', right_on='date', how='left', suffixes=['A', 'B'])\n",
    "\n",
    "#построим график относительного различия кумулятивной конверсии группы B к группе A\n",
    "plt.figure(figsize=(15,4))\n",
    "plt.plot(merged_cumulative_conversions['date'], merged_cumulative_conversions['conversionB']/merged_cumulative_conversions['conversionA']-1, label=\"Относительный прирост конверсии группы B относительно группы A\")\n",
    "plt.legend()\n",
    "plt.title('График относительного изменения кумулятивной конверсии группы B к группе A')\n",
    "\n",
    "#добавим пунктирную линию оси X чёрного цвета ('black') со значением оси Y = 0 методом plt.axhline()\n",
    "#и ещё одну линию оси X серого цвета ('grey') со значением оси Y = 0.2.\n",
    "plt.axhline(y=0, color='black', linestyle='--')\n",
    "plt.axhline(y=0.2, color='grey', linestyle='--')\n",
    "\n",
    "#зададим масштаб осей, чтобы было видно только абсолютное значение колебания в начале и в конце теста\n",
    "plt.axis([dt.datetime(2019, 8, 1), dt.datetime(2019,9,1), -0.5, 0.5])\n",
    "plt.show()"
   ]
  },
  {
   "cell_type": "markdown",
   "metadata": {},
   "source": [
    "Видим, что почти с самого начала теста группа В лидирует по конверсии, становится лучше, была близка к преодолению уровня прироста в 20% относительно группы В в середине августа, но затем немного снизилась и на конец августа её прирост на уровне примерно 15%.\n",
    "Пора посмотреть на так называемых аномальных посетителей, чтобы исключить из анализа все выбросы и всплески"
   ]
  },
  {
   "cell_type": "markdown",
   "metadata": {},
   "source": [
    "## Определение аномальных пользователей\n",
    "\n",
    "Для начала найдём число транзакций по посетителям"
   ]
  },
  {
   "cell_type": "code",
   "execution_count": 20,
   "metadata": {
    "scrolled": true
   },
   "outputs": [
    {
     "data": {
      "text/html": [
       "<div>\n",
       "<style scoped>\n",
       "    .dataframe tbody tr th:only-of-type {\n",
       "        vertical-align: middle;\n",
       "    }\n",
       "\n",
       "    .dataframe tbody tr th {\n",
       "        vertical-align: top;\n",
       "    }\n",
       "\n",
       "    .dataframe thead th {\n",
       "        text-align: right;\n",
       "    }\n",
       "</style>\n",
       "<table border=\"1\" class=\"dataframe\">\n",
       "  <thead>\n",
       "    <tr style=\"text-align: right;\">\n",
       "      <th></th>\n",
       "      <th>visitor_id</th>\n",
       "      <th>transactions</th>\n",
       "    </tr>\n",
       "  </thead>\n",
       "  <tbody>\n",
       "    <tr>\n",
       "      <th>908</th>\n",
       "      <td>3967698036</td>\n",
       "      <td>3</td>\n",
       "    </tr>\n",
       "    <tr>\n",
       "      <th>55</th>\n",
       "      <td>249864742</td>\n",
       "      <td>3</td>\n",
       "    </tr>\n",
       "    <tr>\n",
       "      <th>478</th>\n",
       "      <td>2108163459</td>\n",
       "      <td>3</td>\n",
       "    </tr>\n",
       "    <tr>\n",
       "      <th>687</th>\n",
       "      <td>2988190573</td>\n",
       "      <td>3</td>\n",
       "    </tr>\n",
       "    <tr>\n",
       "      <th>890</th>\n",
       "      <td>3908431265</td>\n",
       "      <td>3</td>\n",
       "    </tr>\n",
       "  </tbody>\n",
       "</table>\n",
       "</div>"
      ],
      "text/plain": [
       "     visitor_id  transactions\n",
       "908  3967698036             3\n",
       "55    249864742             3\n",
       "478  2108163459             3\n",
       "687  2988190573             3\n",
       "890  3908431265             3"
      ]
     },
     "execution_count": 20,
     "metadata": {},
     "output_type": "execute_result"
    }
   ],
   "source": [
    "#создаём датафрейм transations_by_visitors c двумя столбцами: 'visitor_id' и 'transactions'\n",
    "#отсортируем по убыванию количества транзакций посетителей и выведем на экран первые 5 строк.\n",
    "transactions_by_visitors = (\n",
    "    orders.groupby('visitor_id', as_index = False)\n",
    "    .agg({'transaction_id': 'nunique'}).rename(columns = {'transaction_id': 'transactions'})\n",
    "    .sort_values(by = 'transactions', ascending = False)\n",
    ")\n",
    "transactions_by_visitors.head()"
   ]
  },
  {
   "cell_type": "markdown",
   "metadata": {},
   "source": [
    "Строим точечный график количества транзакций по пользователям и считаем 95-й и 99-й перцентили количества транзакций на посетителя"
   ]
  },
  {
   "cell_type": "code",
   "execution_count": 21,
   "metadata": {},
   "outputs": [
    {
     "data": {
      "image/png": "[encoded data removed]",
      "text/plain": [
       "<Figure size 1080x288 with 1 Axes>"
      ]
     },
     "metadata": {
      "needs_background": "light"
     },
     "output_type": "display_data"
    },
    {
     "data": {
      "text/plain": [
       "array([1., 2.])"
      ]
     },
     "metadata": {},
     "output_type": "display_data"
    },
    {
     "data": {
      "text/plain": [
       "<module 'matplotlib.pyplot' from '/opt/conda/lib/python3.10/site-packages/matplotlib/pyplot.py'>"
      ]
     },
     "execution_count": 21,
     "metadata": {},
     "output_type": "execute_result"
    }
   ],
   "source": [
    "#задаём функцию для построения точечных графиков и подсчёта перцентилей\n",
    "def plot_and_percentile(variable, title):\n",
    "    #в переменной x_values — сгенерированные номера наблюдений (от 0 до количества наблюдений в датафрейме)\n",
    "    x_values = pd.Series(range(0, len(variable)))\n",
    "    plt.figure(figsize = (15,4)) \n",
    "    plt.scatter(x_values, variable, alpha = 0.3)\n",
    "    plt.title(title)\n",
    "    plt.show()\n",
    "    #выводим 95-й и 99-й перцентили \n",
    "    display(np.percentile(variable, [95, 99]))\n",
    "    return plt\n",
    "\n",
    "plot_and_percentile(transactions_by_visitors['transactions'],'Точечный график количества транзакций по посетителям')"
   ]
  },
  {
   "cell_type": "markdown",
   "metadata": {},
   "source": [
    "Видим, что посетителей, совершивших более 1-й транзакции, очень немного, соответственно, такие посетители вполне могут быть отнесены к категории аномальных пользователей.\n",
    "\n",
    "Для того, чтобы в этом убедиться и выбрать границу для определения аномальных пользователей, посчитали 95-й и 99-й перцентили количества транзакций на посетителя. Итак, 95% посетителей совершали не более 1-й транзакции, а 2 и более транзакций совершали всего 1% посетителей, таким образом нормальной границей для определения аномальных пользователей будут посетители совершившие, не более 1-й транзакции.\n",
    "\n",
    "Теперь построим точечный график стоимостей транзакций и считаем 95-й и 99-й перцентили стоимости транзакций"
   ]
  },
  {
   "cell_type": "code",
   "execution_count": 22,
   "metadata": {},
   "outputs": [
    {
     "data": {
      "image/png": "[encoded data removed]",
      "text/plain": [
       "<Figure size 1080x288 with 1 Axes>"
      ]
     },
     "metadata": {
      "needs_background": "light"
     },
     "output_type": "display_data"
    },
    {
     "data": {
      "text/plain": [
       "array([26785., 53904.])"
      ]
     },
     "metadata": {},
     "output_type": "display_data"
    },
    {
     "data": {
      "text/plain": [
       "<module 'matplotlib.pyplot' from '/opt/conda/lib/python3.10/site-packages/matplotlib/pyplot.py'>"
      ]
     },
     "execution_count": 22,
     "metadata": {},
     "output_type": "execute_result"
    }
   ],
   "source": [
    "plot_and_percentile(orders['revenue'],'Точечный график стоимости транзакций')"
   ]
  },
  {
   "cell_type": "markdown",
   "metadata": {},
   "source": [
    "Видим, что заказов даже 100 тыс. руб. совсем немного, но есть мощный выброс более 1,2 млн. руб., что выглядит довольно аномально.\n",
    "\n",
    "Посчитаем 95-й и 99-й перцентили стоимости транзакций и выберем границу для определения аномальных транзакций.\n",
    "Итак, у 95% посетителей чек не больше 26785 руб., и у лишь у 1% посетителей - чек превышает 53 904 руб. Таким образом, можем считать 26785 руб. - границей для определения аномальных транзакций."
   ]
  },
  {
   "cell_type": "code",
   "execution_count": 23,
   "metadata": {},
   "outputs": [
    {
     "data": {
      "text/plain": [
       "86"
      ]
     },
     "execution_count": 23,
     "metadata": {},
     "output_type": "execute_result"
    }
   ],
   "source": [
    "#создадим сводную таблицу из датафрейма ordres, в которой подсчитаем количество транзакций для каждого посетителя \n",
    "transactions_by_visitors = (\n",
    "    orders.pivot_table(index = {'visitor_id', 'group'}, values = 'transaction_id', aggfunc = 'nunique')\n",
    "    .reset_index().rename(columns = {'transaction_id': 'transactions'})\n",
    ")\n",
    "\n",
    "#сделаем срез из сводной таблицы по посетителям с 3 и более транзакциями\n",
    "#abnormal_visitors = transactions_by_visitors.query('transactions > 1')['visitor_id']\n",
    "abnormal_visitors = (\n",
    "    transactions_by_visitors[transactions_by_visitors['transactions'] > np.\n",
    "                             percentile(transactions_by_visitors['transactions'], 95)]['visitor_id']\n",
    ")\n",
    "\n",
    "#сделаем срез из датафрейма orders по посетителям, сумма выручки с которых более 28 тыс. руб.\n",
    "#visitors_with_expensive_transactions = orders.query('revenue>26785')['visitor_id']\n",
    "visitors_with_expensive_transactions = orders[orders['revenue'] > np.percentile(orders['revenue'], 95)]['visitor_id']\n",
    "\n",
    "#объединим оба среза и выведем общее количество аномальных пользователейabnormal_visitors = transactions_by_visitors[transactions_by_visitors['transactions'] > np.percentile(transactions_by_visitors['transactions'], 95)]['visitor_id']\n",
    "abnormal_visitors = (\n",
    "    pd.concat([abnormal_visitors, visitors_with_expensive_transactions], axis = 0)\n",
    "    .drop_duplicates().sort_values()\n",
    ")\n",
    "abnormal_visitors.shape[0]"
   ]
  },
  {
   "cell_type": "markdown",
   "metadata": {},
   "source": [
    "Таким образом, определили аномальных пользователей, как тех, которые совершают более 1-й транзакции, а чек покупки которых превышает 26785 рублей, всего таких посетителей 86."
   ]
  },
  {
   "cell_type": "markdown",
   "metadata": {},
   "source": [
    "## Анализ выбросов и всплесков\n",
    "\n",
    "Для начала подготовим данные: сгруппируем данные из датафреймов orders и visitors отдельно из каждой группы(А и В) по датам, создадим новый общий датафрейм data, в котором будут отображены н/у столбцы:\n",
    "- date - дата\n",
    "- transaction_per_date_A - количество транзакций в группе А в текущую дату\n",
    "- revenue_per_date_A - сумма дохода в группе А в текущую дату\n",
    "- transaction_per_date_B - количество транзакций в группе B в текущую дату\n",
    "- revenue_per_date_B - сумма дохода в группе А в текущую дату\n",
    "- transaction_cummulative_A - общее количество транзакций в группе А с первого дня проведения теста до текущей даты вкл-но\n",
    "- revenue_cummulative_A - общая сумма дохода в группе А с первого дня проведения теста до текущей даты вкл-но\n",
    "- transaction_cummulative_B - общее количество транзакций в группе B с первого дня проведения теста до текущей даты вкл-но\n",
    "- revenue_cummulative_B - общая сумма дохода в группе В с первого дня проведения теста до текущей даты вкл-но\n",
    "- visitors_per_date_A - количество посетителей в группе А в текущую дату\n",
    "- visitors_per_date_B - количество посетителей в группе В в текущую дату\n",
    "- visitors_cummulative_A - общее количество посетителей в группе А с первого дня проведения теста до текущей даты вкл-но\n",
    "- visitors_cummulative_B - общее количество посетителей в группе В с первого дня проведения теста до текущей даты вкл-но"
   ]
  },
  {
   "cell_type": "code",
   "execution_count": 24,
   "metadata": {},
   "outputs": [
    {
     "data": {
      "text/html": [
       "<div>\n",
       "<style scoped>\n",
       "    .dataframe tbody tr th:only-of-type {\n",
       "        vertical-align: middle;\n",
       "    }\n",
       "\n",
       "    .dataframe tbody tr th {\n",
       "        vertical-align: top;\n",
       "    }\n",
       "\n",
       "    .dataframe thead th {\n",
       "        text-align: right;\n",
       "    }\n",
       "</style>\n",
       "<table border=\"1\" class=\"dataframe\">\n",
       "  <thead>\n",
       "    <tr style=\"text-align: right;\">\n",
       "      <th></th>\n",
       "      <th>date</th>\n",
       "      <th>transaction_per_date_A</th>\n",
       "      <th>revenue_per_date_A</th>\n",
       "      <th>transaction_per_date_B</th>\n",
       "      <th>revenue_per_date_B</th>\n",
       "      <th>transaction_cummulative_A</th>\n",
       "      <th>revenue_cummulative_A</th>\n",
       "      <th>transaction_cummulative_B</th>\n",
       "      <th>revenue_cummulative_B</th>\n",
       "      <th>visitors_per_date_A</th>\n",
       "      <th>visitors_per_date_B</th>\n",
       "      <th>visitors_cummulative_A</th>\n",
       "      <th>visitors_cummulative_B</th>\n",
       "    </tr>\n",
       "  </thead>\n",
       "  <tbody>\n",
       "    <tr>\n",
       "      <th>0</th>\n",
       "      <td>2019-08-01</td>\n",
       "      <td>23</td>\n",
       "      <td>142779</td>\n",
       "      <td>17</td>\n",
       "      <td>59758</td>\n",
       "      <td>23</td>\n",
       "      <td>142779</td>\n",
       "      <td>17</td>\n",
       "      <td>59758</td>\n",
       "      <td>719</td>\n",
       "      <td>713</td>\n",
       "      <td>719</td>\n",
       "      <td>713</td>\n",
       "    </tr>\n",
       "    <tr>\n",
       "      <th>1</th>\n",
       "      <td>2019-08-02</td>\n",
       "      <td>19</td>\n",
       "      <td>91602</td>\n",
       "      <td>23</td>\n",
       "      <td>162043</td>\n",
       "      <td>42</td>\n",
       "      <td>234381</td>\n",
       "      <td>40</td>\n",
       "      <td>221801</td>\n",
       "      <td>619</td>\n",
       "      <td>581</td>\n",
       "      <td>1338</td>\n",
       "      <td>1294</td>\n",
       "    </tr>\n",
       "    <tr>\n",
       "      <th>2</th>\n",
       "      <td>2019-08-03</td>\n",
       "      <td>24</td>\n",
       "      <td>112473</td>\n",
       "      <td>14</td>\n",
       "      <td>67049</td>\n",
       "      <td>66</td>\n",
       "      <td>346854</td>\n",
       "      <td>54</td>\n",
       "      <td>288850</td>\n",
       "      <td>507</td>\n",
       "      <td>509</td>\n",
       "      <td>1845</td>\n",
       "      <td>1803</td>\n",
       "    </tr>\n",
       "    <tr>\n",
       "      <th>3</th>\n",
       "      <td>2019-08-04</td>\n",
       "      <td>11</td>\n",
       "      <td>41176</td>\n",
       "      <td>14</td>\n",
       "      <td>96890</td>\n",
       "      <td>77</td>\n",
       "      <td>388030</td>\n",
       "      <td>68</td>\n",
       "      <td>385740</td>\n",
       "      <td>717</td>\n",
       "      <td>770</td>\n",
       "      <td>2562</td>\n",
       "      <td>2573</td>\n",
       "    </tr>\n",
       "    <tr>\n",
       "      <th>4</th>\n",
       "      <td>2019-08-05</td>\n",
       "      <td>22</td>\n",
       "      <td>86383</td>\n",
       "      <td>21</td>\n",
       "      <td>89908</td>\n",
       "      <td>99</td>\n",
       "      <td>474413</td>\n",
       "      <td>89</td>\n",
       "      <td>475648</td>\n",
       "      <td>756</td>\n",
       "      <td>707</td>\n",
       "      <td>3318</td>\n",
       "      <td>3280</td>\n",
       "    </tr>\n",
       "  </tbody>\n",
       "</table>\n",
       "</div>"
      ],
      "text/plain": [
       "        date  transaction_per_date_A  revenue_per_date_A  \\\n",
       "0 2019-08-01                      23              142779   \n",
       "1 2019-08-02                      19               91602   \n",
       "2 2019-08-03                      24              112473   \n",
       "3 2019-08-04                      11               41176   \n",
       "4 2019-08-05                      22               86383   \n",
       "\n",
       "   transaction_per_date_B  revenue_per_date_B  transaction_cummulative_A  \\\n",
       "0                      17               59758                         23   \n",
       "1                      23              162043                         42   \n",
       "2                      14               67049                         66   \n",
       "3                      14               96890                         77   \n",
       "4                      21               89908                         99   \n",
       "\n",
       "   revenue_cummulative_A  transaction_cummulative_B  revenue_cummulative_B  \\\n",
       "0                 142779                         17                  59758   \n",
       "1                 234381                         40                 221801   \n",
       "2                 346854                         54                 288850   \n",
       "3                 388030                         68                 385740   \n",
       "4                 474413                         89                 475648   \n",
       "\n",
       "   visitors_per_date_A  visitors_per_date_B  visitors_cummulative_A  \\\n",
       "0                  719                  713                     719   \n",
       "1                  619                  581                    1338   \n",
       "2                  507                  509                    1845   \n",
       "3                  717                  770                    2562   \n",
       "4                  756                  707                    3318   \n",
       "\n",
       "   visitors_cummulative_B  \n",
       "0                     713  \n",
       "1                    1294  \n",
       "2                    1803  \n",
       "3                    2573  \n",
       "4                    3280  "
      ]
     },
     "execution_count": 24,
     "metadata": {},
     "output_type": "execute_result"
    }
   ],
   "source": [
    "# группируем данные из датафрейма visitors отдельно для каждой группы A и B\n",
    "visitors_A_Daily = visitors.query('group == \"A\"')[['date', 'visitors']].rename(columns = {'visitors': 'visitors_per_date_A'})\n",
    "visitors_B_Daily = visitors.query('group == \"B\"')[['date', 'visitors']].rename(columns = {'visitors': 'visitors_per_date_B'})\n",
    "\n",
    "#далее дополняем датафреймы с данными по каждой группе дополнительным столбцом, который подсчитает так называемое \n",
    "#кумулятивное количество посетителей, то есть куммулятивное количество посетителей 1-го дня останется неизменным, \n",
    "#куммулятивное количество посетителей 2-го дня - общее количество посетителей 1-го и 2-го дней, соответственно, \n",
    "#куммулятивное количество посетителей 3-го дня - общее количество посетителей 1-го, 2-го и 3-го дней и т.д.\n",
    "visitors_A_cummulative = (\n",
    "    visitors_A_Daily\n",
    "    .apply(lambda x: visitors_A_Daily[visitors_A_Daily['date'] <= x['date']]\n",
    "                           .agg({'date': 'max', 'visitors_per_date_A': 'sum'}),axis=1)\n",
    "    .rename(columns = {'visitors_per_date_A': 'visitors_cummulative_A'})\n",
    ")\n",
    "\n",
    "visitors_B_cummulative = (\n",
    "    visitors_B_Daily\n",
    "    .apply(lambda x: visitors_B_Daily[visitors_B_Daily['date'] <= x['date']]\n",
    "                           .agg({'date': 'max', 'visitors_per_date_B': 'sum'}),axis=1)\n",
    "    .rename(columns = {'visitors_per_date_B': 'visitors_cummulative_B'})\n",
    ")\n",
    "\n",
    "#аналогично группируем данные из датафрейма orders отдельно для каждой группы\n",
    "transactions_A_daily = (\n",
    "    orders\n",
    "    .query('group == \"A\"')[['date', 'transaction_id', 'visitor_id', 'revenue']]\n",
    "    .groupby('date', as_index=False)\n",
    "    .agg({'transaction_id': 'nunique', 'revenue': 'sum'})\n",
    "    .rename(columns = {'transaction_id': 'transaction_per_date_A', 'revenue': 'revenue_per_date_A'})\n",
    ")\n",
    "\n",
    "transactions_B_daily = (\n",
    "    orders\n",
    "    .query('group == \"B\"')[['date', 'transaction_id', 'visitor_id', 'revenue']]\n",
    "    .groupby('date', as_index=False)\n",
    "    .agg({'transaction_id': 'nunique', 'revenue': 'sum'})\n",
    "    .rename(columns = {'transaction_id': 'transaction_per_date_B', 'revenue': 'revenue_per_date_B'})\n",
    ")\n",
    "\n",
    "#аналогично дополняем датафреймы с транзакциями дополнительными столбцами с куммулятивным количеством транзакций и \n",
    "#куммулятивным доходом на каждую дату\n",
    "transactions_A_cummulative = (\n",
    "    transactions_A_daily\n",
    "    .apply(lambda x: transactions_A_daily[transactions_A_daily['date'] <= x['date']]\n",
    "           .agg({'date': 'max', 'transaction_per_date_A': 'sum', 'revenue_per_date_A': 'sum'}), axis=1)\n",
    "    .sort_values(by=['date'])\n",
    "    .rename(columns = {'transaction_per_date_A': 'transaction_cummulative_A', 'revenue_per_date_A': 'revenue_cummulative_A'})\n",
    ")\n",
    "\n",
    "transactions_B_cummulative = (\n",
    "    transactions_B_daily\n",
    "    .apply(lambda x: transactions_B_daily[transactions_B_daily['date'] <= x['date']]\n",
    "           .agg({'date': 'max', 'transaction_per_date_B': 'sum', 'revenue_per_date_B': 'sum'}), axis=1)\n",
    "    .sort_values(by=['date'])\n",
    "    .rename(columns = {'transaction_per_date_B': 'transaction_cummulative_B', 'revenue_per_date_B': 'revenue_cummulative_B'})\n",
    ")\n",
    "\n",
    "#объединяем данные по обеим группам в один общий датафрейм по дате\n",
    "data = (\n",
    "    transactions_A_daily\n",
    "    .merge(transactions_B_daily, left_on='date', right_on='date', how='left')\n",
    "    .merge(transactions_A_cummulative, left_on='date', right_on='date', how='left')\n",
    "    .merge(transactions_B_cummulative, left_on='date', right_on='date', how='left')\n",
    "    .merge(visitors_A_Daily, left_on='date', right_on='date', how='left')\n",
    "    .merge(visitors_B_Daily, left_on='date', right_on='date', how='left')\n",
    "    .merge(visitors_A_cummulative, left_on='date', right_on='date', how='left')\n",
    "    .merge(visitors_B_cummulative, left_on='date', right_on='date', how='left')\n",
    ")\n",
    "\n",
    "data.head()"
   ]
  },
  {
   "cell_type": "markdown",
   "metadata": {},
   "source": [
    "Теперь посчитаем статистическую значимость различий в конверсии между группами по «сырым» данным — без удаления аномальных пользователей. \n",
    "Сформулируем гипотезы. \n",
    "- Нулевая: различий в конверсии между группами нет.\n",
    "- Альтернативная: различия в конверсии между группами есть."
   ]
  },
  {
   "cell_type": "code",
   "execution_count": 25,
   "metadata": {
    "scrolled": true
   },
   "outputs": [],
   "source": [
    "#объявим переменные transactions_by_visitors_A и transactions_by_visitors_B, в которых пользователи будут разбиты на группы \n",
    "transactions_by_visitors_A = transactions_by_visitors.query('group == \"A\"')\n",
    "transactions_by_visitors_B = transactions_by_visitors.query('group == \"B\"')\n",
    "#объявим переменные sample_A и sample_B, в которых посетителям с транзакциями будет соответствовать число транзакций посетителя,\n",
    "#а пользователям без транзакций — нули\n",
    "sample_A = pd.concat(\n",
    "    [transactions_by_visitors_A['transactions'], pd.Series(0,index=np.arange(\n",
    "        data['visitors_per_date_A'].sum() - len(transactions_by_visitors_A['transactions'])), name='transactions')], axis=0)\n",
    "\n",
    "sample_B = pd.concat(\n",
    "    [transactions_by_visitors_B['transactions'], pd.Series(0,index=np.arange(\n",
    "        data['visitors_per_date_B'].sum() - len(transactions_by_visitors_B['transactions'])), name='transactions')], axis=0)"
   ]
  },
  {
   "cell_type": "code",
   "execution_count": 26,
   "metadata": {},
   "outputs": [],
   "source": [
    "#зададим функцию для расчёта критерия Манна-Уитни, вывода p-value для сравнений между группами\n",
    "def mannwhitneyu_test(var1, var2, words):\n",
    "    #зададим критический уровень статистической значимости для удобства сравнения и оценки гипотез\n",
    "    alpha = .05 \n",
    "    results = st.mannwhitneyu(var1, var2)\n",
    "    print('p-значение: {0:.5f}'.format(results.pvalue))\n",
    "    \n",
    "    if results.pvalue < alpha:\n",
    "        print('Нулевая гипотеза опровергнута: разница в', words, 'между группами статистически значима')\n",
    "    else:\n",
    "        print('Не получилось опровергнуть нулевую гипотезу, вывод о различии в', words, 'между группами сделать нельзя')\n",
    "\n",
    "#вычислим и выведем относительное различие в конверсии между группами\n",
    "    print('Относительный прирост в', words, ': {0:.2%}'.format(var2.mean() / var1.mean() - 1))\n",
    "    return "
   ]
  },
  {
   "cell_type": "code",
   "execution_count": 27,
   "metadata": {
    "scrolled": true
   },
   "outputs": [
    {
     "name": "stdout",
     "output_type": "stream",
     "text": [
      "p-значение: 0.01102\n",
      "Нулевая гипотеза опровергнута: разница в конверсии между группами статистически значима\n",
      "Относительный прирост в конверсии : 15.98%\n"
     ]
    }
   ],
   "source": [
    "#применим функцию для сравнения конверсии между группами\n",
    "mannwhitneyu_test(sample_A, sample_B, 'конверсии')"
   ]
  },
  {
   "cell_type": "markdown",
   "metadata": {},
   "source": [
    "Анализ \"сырых данных\" даёт нам понять, что  в конверсии между группами могут быть статистически значимые отличия.\n",
    "Относительный прирост конверсии группы В к конверсии группы А равен примерно 15,98%.\n",
    "\n",
    "Теперь посчитаем статистическую значимость различий в среднем чеке заказа между группами по «сырым» данным. \n",
    "Сформулируем гипотезы:\n",
    "- Нулевая: различий в среднем чеке между группами нет. \n",
    "- Альтернативная: различия в среднем чеке между группами есть."
   ]
  },
  {
   "cell_type": "code",
   "execution_count": 28,
   "metadata": {},
   "outputs": [
    {
     "name": "stdout",
     "output_type": "stream",
     "text": [
      "p-значение: 0.82949\n",
      "Не получилось опровергнуть нулевую гипотезу, вывод о различии в среднем чеке между группами сделать нельзя\n",
      "Относительный прирост в среднем чеке : 28.66%\n"
     ]
    }
   ],
   "source": [
    "#передадим функции данные о выручке с транзакций\n",
    "mannwhitneyu_test(orders.query('group ==\"A\"')['revenue'], orders.query('group ==\"B\"')['revenue'], 'среднем чеке')"
   ]
  },
  {
   "cell_type": "markdown",
   "metadata": {},
   "source": [
    "Видим, что нулевая гипотеза не опровергается анализом \"сырых данных\", это даёт нам понять, что в среднем чеке между группами вряд ли есть статистически значимые отличия. При этом относительный прирост среднего чека между группами составляет примерно 28,66%, возможно это произошло из-за искажения данных выбросами и всплесками.\n",
    "\n",
    "Теперь посчитаем статистическую значимость различий в конверсии между группами по «очищенным» данным. "
   ]
  },
  {
   "cell_type": "code",
   "execution_count": 29,
   "metadata": {
    "scrolled": true
   },
   "outputs": [
    {
     "name": "stdout",
     "output_type": "stream",
     "text": [
      "p-значение: 0.01593\n",
      "Нулевая гипотеза опровергнута: разница в конверсии между группами статистически значима\n",
      "Относительный прирост в конверсии : 17.39%\n"
     ]
    }
   ],
   "source": [
    "#сначала подготовим выборки количества транзакций по посетителям по группам теста:\n",
    "sample_A_filtered = (\n",
    "    pd.concat([transactions_by_visitors_A[np.logical_not(transactions_by_visitors_A['visitor_id']\n",
    "                                                         .isin(abnormal_visitors))]['transactions'],pd\n",
    "               .Series(0, index=np.arange(data['visitors_per_date_A'].sum() - len(transactions_by_visitors_A['transactions'])\n",
    "                          ),name='transactions')], axis=0)\n",
    ")\n",
    "\n",
    "sample_B_filtered = (\n",
    "    pd.concat([transactions_by_visitors_B[np.logical_not(transactions_by_visitors_B['visitor_id']\n",
    "                                                         .isin(abnormal_visitors))]['transactions'],pd\n",
    "               .Series(0, index=np.arange(data['visitors_per_date_B'].sum() - len(transactions_by_visitors_B['transactions'])\n",
    "                          ),name='transactions')], axis=0)\n",
    ")\n",
    "\n",
    "mannwhitneyu_test(sample_A_filtered, sample_B_filtered, 'конверсии')"
   ]
  },
  {
   "cell_type": "markdown",
   "metadata": {},
   "source": [
    "Анализ \"очищенных данных\", как и, ранее анализ \"сырых данных\", даёт нам понять, что в конверсии между группами, скорее всего, есть статистически значимые отличия. А относительный прирост конверсии группы В к конверсии группы А на 1-2% больше, чем при анализе \"сырых данных\" и составил примерно 17,39%.\n",
    "\n",
    "Теперь посчитаем статистическую значимость различий в среднем чеке заказа между группами по «очищенным» данным. "
   ]
  },
  {
   "cell_type": "code",
   "execution_count": 30,
   "metadata": {},
   "outputs": [
    {
     "name": "stdout",
     "output_type": "stream",
     "text": [
      "p-значение: 0.72713\n",
      "Не получилось опровергнуть нулевую гипотезу, вывод о различии в среднем чеке между группами сделать нельзя\n",
      "Относительный прирост в среднем чеке : -3.37%\n"
     ]
    }
   ],
   "source": [
    "#сначала подготовим выборки выручки по посетителям по группам теста:\n",
    "revenue_A_filtered = (\n",
    "    orders[np.logical_and(orders['group']=='A', np.logical_not(orders['visitor_id'].isin(abnormal_visitors)))]['revenue']\n",
    ")\n",
    "revenue_B_filtered = (\n",
    "    orders[np.logical_and(orders['group']=='B', np.logical_not(orders['visitor_id'].isin(abnormal_visitors)))]['revenue']\n",
    ")\n",
    "\n",
    "mannwhitneyu_test(revenue_A_filtered, revenue_B_filtered, 'среднем чеке')"
   ]
  },
  {
   "cell_type": "markdown",
   "metadata": {},
   "source": [
    "Видим, что даже без учёта аномальных пользователей в среднем чеке между группами не обнаруживаются статистически значимые отличия, при этом относительное различие среднего чека между группами составляет теперь -3,37%, то есть сумма среднего чека в группе В стала меньше суммы среднего чека в группе А."
   ]
  },
  {
   "cell_type": "markdown",
   "metadata": {},
   "source": [
    "## Выводы и принятие решения"
   ]
  },
  {
   "cell_type": "markdown",
   "metadata": {},
   "source": [
    "Итак, мы получили следующие результаты анализа А/В-теста:\n",
    "- есть статистически значимое различие по конверсии между группами как по сырым данным, так и после фильтрации аномалий.\n",
    "- нет статистически значимых различий по среднему чеку между группами как по \"сырым\", так и по \"отфильстрованным\" данным\n",
    "- график различия конверсии между группами сообщает, что результаты группы B лучше группы A: имеют тенденцию к росту, либо зафиксировались около среднего значения\n",
    "- график различия среднего чека колеблется,сделать из этого графика определённые выводы сложно, это позволило нам определить аномальных пользователей и после фильтрации данных стало понятно, что сумма среднего чека снизилась в группе В по сравнению с группой А.\n",
    "\n",
    "Исходя из этих фактов наилучшим решением было бы, наверное, остановить тест, зафиксировав отсутствие различий между группами в силу того, что интернет-магазин, в первую очередь интересует, конечно, увеличение среднего чека, чем рост конверсии.\n",
    "\n",
    "Однако, если есть такие возможности (финансовые и временные ресурсы) можно было бы попробовать продолжить тест, так как раз конверсия в группе В показывает хороший рост, возможно спустя какое-то время начнёт расти и сумма среднего чека.\n",
    "\n",
    "Кроме того, на результаты теста мог повлиять такой фактор, как некорректное деление трафика теста. Попробуем проверить эту гипотезу и сравним доли посетителей, совершивших транзакции в каждой из групп. "
   ]
  },
  {
   "cell_type": "code",
   "execution_count": 31,
   "metadata": {},
   "outputs": [
    {
     "data": {
      "text/html": [
       "<div>\n",
       "<style scoped>\n",
       "    .dataframe tbody tr th:only-of-type {\n",
       "        vertical-align: middle;\n",
       "    }\n",
       "\n",
       "    .dataframe tbody tr th {\n",
       "        vertical-align: top;\n",
       "    }\n",
       "\n",
       "    .dataframe thead th {\n",
       "        text-align: right;\n",
       "    }\n",
       "</style>\n",
       "<table border=\"1\" class=\"dataframe\">\n",
       "  <thead>\n",
       "    <tr style=\"text-align: right;\">\n",
       "      <th></th>\n",
       "      <th>group</th>\n",
       "      <th>visitors</th>\n",
       "      <th>transactions</th>\n",
       "      <th>revenue_sum</th>\n",
       "      <th>revenue_mean</th>\n",
       "    </tr>\n",
       "  </thead>\n",
       "  <tbody>\n",
       "    <tr>\n",
       "      <th>0</th>\n",
       "      <td>A</td>\n",
       "      <td>445</td>\n",
       "      <td>468</td>\n",
       "      <td>7189.435897</td>\n",
       "      <td>3364656</td>\n",
       "    </tr>\n",
       "    <tr>\n",
       "      <th>1</th>\n",
       "      <td>B</td>\n",
       "      <td>528</td>\n",
       "      <td>548</td>\n",
       "      <td>9249.948905</td>\n",
       "      <td>5068972</td>\n",
       "    </tr>\n",
       "  </tbody>\n",
       "</table>\n",
       "</div>"
      ],
      "text/plain": [
       "  group  visitors  transactions  revenue_sum  revenue_mean\n",
       "0     A       445           468  7189.435897       3364656\n",
       "1     B       528           548  9249.948905       5068972"
      ]
     },
     "execution_count": 31,
     "metadata": {},
     "output_type": "execute_result"
    }
   ],
   "source": [
    "info_per_group = orders.groupby('group').agg({'visitor_id': 'nunique', 'transaction_id': 'count', 'revenue': {'sum', 'mean'}}).reset_index()\n",
    "info_per_group.columns = ['group','visitors', 'transactions', 'revenue_sum', 'revenue_mean']\n",
    "info_per_group"
   ]
  },
  {
   "cell_type": "code",
   "execution_count": 32,
   "metadata": {},
   "outputs": [
    {
     "name": "stdout",
     "output_type": "stream",
     "text": [
      "Относительное различие количества транзакций между группами: 14.60%\n"
     ]
    }
   ],
   "source": [
    "print(\n",
    "    'Относительное различие количества транзакций между группами: {:.2%}'\n",
    "    .format(1 - info_per_group['transactions'][0]/info_per_group['transactions'][1])\n",
    ")"
   ]
  },
  {
   "cell_type": "code",
   "execution_count": 33,
   "metadata": {},
   "outputs": [
    {
     "name": "stdout",
     "output_type": "stream",
     "text": [
      "Относительное различие количества уникальных посетителей, совершивших транзакции, между группами: 15.72%\n"
     ]
    }
   ],
   "source": [
    "print(\n",
    "    'Относительное различие количества уникальных посетителей, совершивших транзакции, между группами: {:.2%}'\n",
    "    .format(1 - info_per_group['visitors'][0]/info_per_group['visitors'][1])\n",
    ")"
   ]
  },
  {
   "cell_type": "code",
   "execution_count": 34,
   "metadata": {},
   "outputs": [
    {
     "data": {
      "text/html": [
       "<div>\n",
       "<style scoped>\n",
       "    .dataframe tbody tr th:only-of-type {\n",
       "        vertical-align: middle;\n",
       "    }\n",
       "\n",
       "    .dataframe tbody tr th {\n",
       "        vertical-align: top;\n",
       "    }\n",
       "\n",
       "    .dataframe thead th {\n",
       "        text-align: right;\n",
       "    }\n",
       "</style>\n",
       "<table border=\"1\" class=\"dataframe\">\n",
       "  <thead>\n",
       "    <tr style=\"text-align: right;\">\n",
       "      <th></th>\n",
       "      <th>group</th>\n",
       "      <th>visitors</th>\n",
       "    </tr>\n",
       "  </thead>\n",
       "  <tbody>\n",
       "    <tr>\n",
       "      <th>0</th>\n",
       "      <td>A</td>\n",
       "      <td>18736</td>\n",
       "    </tr>\n",
       "    <tr>\n",
       "      <th>1</th>\n",
       "      <td>B</td>\n",
       "      <td>18916</td>\n",
       "    </tr>\n",
       "  </tbody>\n",
       "</table>\n",
       "</div>"
      ],
      "text/plain": [
       "  group  visitors\n",
       "0     A     18736\n",
       "1     B     18916"
      ]
     },
     "execution_count": 34,
     "metadata": {},
     "output_type": "execute_result"
    }
   ],
   "source": [
    "total_visitors_per_group = visitors.pivot_table(columns = 'group', values = 'visitors', aggfunc = 'sum').T.reset_index()\n",
    "total_visitors_per_group"
   ]
  },
  {
   "cell_type": "code",
   "execution_count": 35,
   "metadata": {},
   "outputs": [
    {
     "name": "stdout",
     "output_type": "stream",
     "text": [
      "Относительное различие общего количества посетителей между группами: 0.95%\n"
     ]
    }
   ],
   "source": [
    "print(\n",
    "    'Относительное различие общего количества посетителей между группами: {:.2%}'\n",
    "    .format(1 - total_visitors_per_group['visitors'][0]/total_visitors_per_group['visitors'][1])\n",
    ")"
   ]
  },
  {
   "cell_type": "markdown",
   "metadata": {},
   "source": [
    "Видим, что транзакций в группе В несколько больше, чем транзакций в группе А (640 против 557), таким образом относительное различие количества транзакций составляет порядка 13%, также различается количество уникальных посетителей, совершивших транзакции,  в каждой из групп: в группе А - 503, в группе В - 586, относительное различие количества  таких посетителей равно, соответственно, чуть больше 14%. \n",
    "При этом общее количество посетителей, распределённых по группам и включая повторяющихся, в течение всего срока проведения теста отличается менее, чем на 1% (18916 посетителей из группы В против 18736 посетителей из группы В). \n",
    "Как известно, разные доли могут довольно сильно искажать результаты, так, сейчас кажется, что возможно лучше было бы прервать тест, зафиксировав отсутствие различий между группами, и это может стать ошибкой ввиду неравномерного распределения изначальных данных.\n",
    "\n",
    "Так 18736 посетителей группы A совершили 557 транзакций, а 18916 посетителей группы В - 640 транзакций.\n",
    "Проверим, с помощью небольшого теста, можно ли сделать вывод о разнице в конверсии посещения в транзакцию для групп А и В.\n",
    "Сформулируем гипотезы:\n",
    "- Нулевая гипотеза: между долями значимой разницы нет\n",
    "- Альтернативная гипотеза: между долями есть значимая разница"
   ]
  },
  {
   "cell_type": "code",
   "execution_count": 36,
   "metadata": {},
   "outputs": [
    {
     "name": "stdout",
     "output_type": "stream",
     "text": [
      "Доля транзакций в группе А: 2.50%\n",
      "Доля транзакций в группе B: 2.90%\n",
      "Доля транзакций в общем: 2.70%\n",
      "p-значение:  0.016851380434703023\n",
      "Отвергаем нулевую гипотезу: между долями есть значимая разница\n"
     ]
    }
   ],
   "source": [
    "# проверим гипотезу о равенстве пропорций транзакций в группах, \n",
    "#для удобства сравнения зададим критический уровень статистической значимости\n",
    "alpha = .05\n",
    "successes = np.array(info_per_group['transactions'])\n",
    "trials = np.array(total_visitors_per_group['visitors'])\n",
    "\n",
    "# вычислим пропорции транзакций в каждой из групп, а также в общем:\n",
    "p1 = successes[0]/trials[0]\n",
    "print('Доля транзакций в группе А: {:.2%}'.format(p1))\n",
    "p2 = successes[1]/trials[1]\n",
    "print('Доля транзакций в группе B: {:.2%}'.format(p2))\n",
    "p_combined = (successes[0] + successes[1]) / (trials[0] + trials[1])\n",
    "print('Доля транзакций в общем: {:.2%}'.format(p_combined))\n",
    "\n",
    "# вычислим разницу пропорций в датасетах\n",
    "difference = p1 - p2\n",
    "\n",
    "# считаем статистику в стандартных отклонениях стандартного нормального распределения\n",
    "z_value = difference / mth.sqrt(p_combined * (1 - p_combined) * (1/trials[0] + 1/trials[1]))\n",
    "\n",
    "# задаем стандартное нормальное распределение (среднее 0, ст.отклонение 1)\n",
    "distr = st.norm(0, 1)\n",
    "\n",
    "# считаем статистику в ст.отклонениях стандартного нормального распределения\n",
    "z_value = difference / mth.sqrt(p_combined * (1 - p_combined) * (1 / trials[0] + 1 / trials[1]))\n",
    "\n",
    "# задаем стандартное нормальное распределение (среднее 0, ст.отклонение 1)\n",
    "distr = st.norm(0, 1)\n",
    "\n",
    "p_value = (1 - distr.cdf(abs(z_value))) * 2\n",
    "\n",
    "print('p-значение: ', p_value)\n",
    "\n",
    "if p_value < alpha:\n",
    "    print('Отвергаем нулевую гипотезу: между долями есть значимая разница')\n",
    "else:\n",
    "    print('Не получилось отвергнуть нулевую гипотезу, нет оснований считать доли разными')"
   ]
  },
  {
   "cell_type": "markdown",
   "metadata": {},
   "source": [
    "Выходит, что такая разница в пропорциях при указанных размерах выборок достаточна, чтобы говорить о статистически значимом различии. Хотя на первый взгляд, различие 2,97% и 3,38% кажется небольшим, а значит, результаты нашего А/В-теста вполне могут оказаться некорректными, в силу чего лучше было бы продолжить тестирование и постараться устранить проблему некорректного деления трафика теста."
   ]
  },
  {
   "cell_type": "markdown",
   "metadata": {},
   "source": [
    "## Общий вывод"
   ]
  },
  {
   "cell_type": "markdown",
   "metadata": {},
   "source": [
    "В результате проведённого исследования мы приоритизировали гипотезы для увеличения выручки крупного интернет-магазина, проанализировали результаты A/B-теста, а также приняли решение по результатам теста.\n",
    "\n",
    "Исследование было разделено на две части:\n",
    "1) В первой части мы занимались оценкой и приоритизацией 9-ти гипотез по увеличению выручки интернет-магазина.\n",
    "Применив для приоритезации гипотез фреймворки ICE и RICE выяснили, что наиболее перспективными гипотезами являются гипотезы с порядковыми номерами 8, 3, 1, 7, 9. Приоритизация гипотез при применении ICE несколько отличается от приоритизация гипотез при применении RICE, это происходит из-за параметра Reach, который показывает, скольких пользователей затронет изменение, которое мы хотим внести. Так, у гипотез с номерами 8 и 3 он равен, соответственно 10 и 8 баллам, в то время, как у других гипотез этот показатель набрал сильно меньше баллов.Поскольку при выборе гипотез в качестве наиболее приоритетных и перспективных необходимо, в том числе, учитывать охват пользователей, которых она затронет, лучше руководствоваться приоритизацией с помощью RICE. Значит, самым перспективными гипотезами будем считать 8 и 3.\n",
    "- Гипотеза 8. Добавить форму подписки на все основные страницы, чтобы собрать базу клиентов для email-рассылок\n",
    "- Гипотеза 3. Добавить блоки рекомендаций товаров на сайт интернет магазина, чтобы повысить конверсию и средний чек заказа\n",
    "\n",
    "2) Во второй части мы проанализировали A/B-тест и приняли решение по его результатам\n",
    "В ходе работы с куммулятивными метриками мы получили информацию о том, что кумулятивная конверсия в группе В немного выше, чем в группе А, однако график кумулятивного среднего чека показал, что в данных есть выбросы и всплески, которые могут помешать корректной оценке результатов теста. Таким образом, мы вычленили и сформировали представление об аномальных пользователях, общее чсло которых составило 74, затем мы проанализировали статистическую значимость различий и относительные различия в конверсии  и в среднем чеке заказа между группами как по «сырым» данным, так и по «очищенным» данным. Выяснили, что существует статистическая значимость различий в конверсии между группами как по «сырым» данным, так и по данным без аномальных пользователей. Относительное увеличение конверсии  примерно на 3-4% в группе В относительно группы А также было зафиксировано.\n",
    "Однако статистической значимости различий между группами по среднему чеку выявлено не было, более того анализ «очищенных» данных показал снижение среднего чека почти на 2% в группе В по сравнению с группой А. \n",
    "\n",
    "В результате логичным было бы принять решение об остановке тест с фиксацией отсутствия различий между группами, так как  увеличение среднего чека для интернет-магазина в общем и целом важнее конверсии. Однако останавливал тот факт, что конверсия в группе В всё-таки лучше. Поэтому было решено дополнительно проверить гипотезу о равенстве долей, так как при анализе А/B-тестов нередко возникает проблема некорректного деления трафика теста, например, когда пользователи распределяются между сегментами неравномерно. Мы проверили гипотезу о равенстве пропорций между посещениями в транзакциями в группах и выяснили, что разница в пропорциях достаточна, чтобы говорить о статистически значимом различии между группами, а это значит, результаты нашего А/В-теста вполне могли оказаться некорректными, в силу чего всё-таки принять решение о продолжении тестирования."
   ]
  }
 ],
 "metadata": {
  "ExecuteTimeLog": [
   {
    "duration": 1032,
    "start_time": "2022-05-24T08:14:49.389Z"
   },
   {
    "duration": 34,
    "start_time": "2022-05-24T08:14:50.423Z"
   },
   {
    "duration": 6,
    "start_time": "2022-05-24T08:14:50.462Z"
   },
   {
    "duration": 14,
    "start_time": "2022-05-24T08:14:50.469Z"
   },
   {
    "duration": 13,
    "start_time": "2022-05-24T08:14:50.485Z"
   },
   {
    "duration": 56,
    "start_time": "2022-05-24T08:14:50.500Z"
   },
   {
    "duration": 5,
    "start_time": "2022-05-24T08:14:50.557Z"
   },
   {
    "duration": 16,
    "start_time": "2022-05-24T08:14:50.563Z"
   },
   {
    "duration": 9,
    "start_time": "2022-05-24T08:14:50.581Z"
   },
   {
    "duration": 10,
    "start_time": "2022-05-24T08:14:50.592Z"
   },
   {
    "duration": 550,
    "start_time": "2022-05-24T08:14:50.604Z"
   },
   {
    "duration": 252,
    "start_time": "2022-05-24T08:14:51.156Z"
   },
   {
    "duration": 303,
    "start_time": "2022-05-24T08:14:51.409Z"
   },
   {
    "duration": 176,
    "start_time": "2022-05-24T08:14:51.713Z"
   },
   {
    "duration": 303,
    "start_time": "2022-05-24T08:14:51.891Z"
   },
   {
    "duration": 11,
    "start_time": "2022-05-24T08:14:52.195Z"
   },
   {
    "duration": 135,
    "start_time": "2022-05-24T08:14:52.207Z"
   },
   {
    "duration": 158,
    "start_time": "2022-05-24T08:14:52.344Z"
   },
   {
    "duration": 22,
    "start_time": "2022-05-24T08:14:52.504Z"
   },
   {
    "duration": 233,
    "start_time": "2022-05-24T08:14:52.529Z"
   },
   {
    "duration": 9,
    "start_time": "2022-05-24T08:14:52.764Z"
   },
   {
    "duration": 33,
    "start_time": "2022-05-24T08:14:52.774Z"
   },
   {
    "duration": 55,
    "start_time": "2022-05-24T08:14:52.808Z"
   },
   {
    "duration": 10,
    "start_time": "2022-05-24T08:14:52.865Z"
   },
   {
    "duration": 36,
    "start_time": "2022-05-24T08:14:52.877Z"
   },
   {
    "duration": 10,
    "start_time": "2022-05-24T08:14:52.915Z"
   },
   {
    "duration": 16,
    "start_time": "2022-05-24T08:14:52.927Z"
   },
   {
    "duration": 12,
    "start_time": "2022-05-24T08:14:52.944Z"
   },
   {
    "duration": 20,
    "start_time": "2022-05-24T08:14:52.957Z"
   },
   {
    "duration": 29,
    "start_time": "2022-05-24T08:14:52.978Z"
   },
   {
    "duration": 15,
    "start_time": "2022-05-24T08:14:53.008Z"
   },
   {
    "duration": 22,
    "start_time": "2022-05-24T08:14:53.024Z"
   },
   {
    "duration": 54,
    "start_time": "2022-05-24T08:18:08.943Z"
   },
   {
    "duration": 35,
    "start_time": "2022-05-24T08:33:20.588Z"
   },
   {
    "duration": 979,
    "start_time": "2022-05-26T10:55:57.605Z"
   },
   {
    "duration": 34,
    "start_time": "2022-05-26T10:55:58.585Z"
   },
   {
    "duration": 6,
    "start_time": "2022-05-26T10:55:58.621Z"
   },
   {
    "duration": 13,
    "start_time": "2022-05-26T10:55:58.629Z"
   },
   {
    "duration": 11,
    "start_time": "2022-05-26T10:55:58.644Z"
   },
   {
    "duration": 226,
    "start_time": "2022-05-26T10:55:58.656Z"
   },
   {
    "duration": 56,
    "start_time": "2022-05-26T10:55:58.884Z"
   },
   {
    "duration": 5,
    "start_time": "2022-05-26T10:55:58.942Z"
   },
   {
    "duration": 13,
    "start_time": "2022-05-26T10:55:58.949Z"
   },
   {
    "duration": 9,
    "start_time": "2022-05-26T10:55:58.964Z"
   },
   {
    "duration": 11,
    "start_time": "2022-05-26T10:55:58.975Z"
   },
   {
    "duration": 16,
    "start_time": "2022-05-26T10:55:58.987Z"
   },
   {
    "duration": 8,
    "start_time": "2022-05-26T10:55:59.005Z"
   },
   {
    "duration": 13,
    "start_time": "2022-05-26T10:55:59.014Z"
   },
   {
    "duration": 622,
    "start_time": "2022-05-26T10:55:59.028Z"
   },
   {
    "duration": 183,
    "start_time": "2022-05-26T10:55:59.652Z"
   },
   {
    "duration": 304,
    "start_time": "2022-05-26T10:55:59.837Z"
   },
   {
    "duration": 204,
    "start_time": "2022-05-26T10:56:00.142Z"
   },
   {
    "duration": 321,
    "start_time": "2022-05-26T10:56:00.347Z"
   },
   {
    "duration": 13,
    "start_time": "2022-05-26T10:56:00.669Z"
   },
   {
    "duration": 157,
    "start_time": "2022-05-26T10:56:00.683Z"
   },
   {
    "duration": 151,
    "start_time": "2022-05-26T10:56:00.841Z"
   },
   {
    "duration": 19,
    "start_time": "2022-05-26T10:56:00.994Z"
   },
   {
    "duration": 235,
    "start_time": "2022-05-26T10:56:01.015Z"
   },
   {
    "duration": 10,
    "start_time": "2022-05-26T10:56:01.252Z"
   },
   {
    "duration": 27,
    "start_time": "2022-05-26T10:56:01.263Z"
   },
   {
    "duration": 40,
    "start_time": "2022-05-26T10:56:01.292Z"
   },
   {
    "duration": 10,
    "start_time": "2022-05-26T10:56:01.335Z"
   },
   {
    "duration": 103,
    "start_time": "2022-05-26T10:56:01.346Z"
   },
   {
    "duration": 26,
    "start_time": "2022-05-26T10:56:01.450Z"
   },
   {
    "duration": 16,
    "start_time": "2022-05-26T10:56:01.478Z"
   },
   {
    "duration": 3,
    "start_time": "2022-05-26T10:56:01.496Z"
   },
   {
    "duration": 26,
    "start_time": "2022-05-26T10:56:01.500Z"
   },
   {
    "duration": 18,
    "start_time": "2022-05-26T10:56:01.527Z"
   },
   {
    "duration": 6,
    "start_time": "2022-05-26T10:56:01.546Z"
   },
   {
    "duration": 10,
    "start_time": "2022-05-26T10:56:01.553Z"
   }
  ],
  "kernelspec": {
   "display_name": "Python 3 (ipykernel)",
   "language": "python",
   "name": "python3"
  },
  "language_info": {
   "codemirror_mode": {
    "name": "ipython",
    "version": 3
   },
   "file_extension": ".py",
   "mimetype": "text/x-python",
   "name": "python",
   "nbconvert_exporter": "python",
   "pygments_lexer": "ipython3",
   "version": "3.10.4"
  },
  "toc": {
   "base_numbering": 1,
   "nav_menu": {},
   "number_sections": true,
   "sideBar": true,
   "skip_h1_title": true,
   "title_cell": "Содержание",
   "title_sidebar": "Contents",
   "toc_cell": true,
   "toc_position": {
    "height": "calc(100% - 180px)",
    "left": "10px",
    "top": "150px",
    "width": "165px"
   },
   "toc_section_display": true,
   "toc_window_display": true
  }
 },
 "nbformat": 4,
 "nbformat_minor": 4
}
