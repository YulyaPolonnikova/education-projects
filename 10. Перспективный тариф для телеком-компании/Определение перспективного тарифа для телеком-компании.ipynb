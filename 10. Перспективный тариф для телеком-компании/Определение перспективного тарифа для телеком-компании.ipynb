{
 "cells": [
  {
   "cell_type": "markdown",
   "metadata": {
    "toc": true
   },
   "source": [
    "<h1> <p style=\"text-align: center;\"> Определение перспективного тарифа для телеком-компании </p> </h1>\n",
    "<h3> Содержание </h3>\n",
    "<div class=\"toc\"><ol class=\"toc-item\">\n",
    "    <li> Изучение данных из файлов и их предобработка</li>\n",
    "    <li> Расчёты и добавление результатов в таблицу </li>\n",
    "    <li> Анализ данных </li>\n",
    "    <li> Проверка гипотез </li>\n",
    "    <li> Общий вывод </li>\n",
    "</ol></div>"
   ]
  },
  {
   "cell_type": "code",
   "execution_count": 1,
   "metadata": {},
   "outputs": [],
   "source": [
    "import pandas as pd\n",
    "import math\n",
    "import datetime as dt\n",
    "import numpy as np \n",
    "from scipy import stats as st\n",
    "import matplotlib.pyplot as plt\n",
    "import seaborn as sns\n",
    "import warnings"
   ]
  },
  {
   "cell_type": "markdown",
   "metadata": {},
   "source": [
    "## Изучение данных из файлов и их предобработка\n",
    "\n",
    "Откроем файлы с данными и изучим общую информацию"
   ]
  },
  {
   "cell_type": "code",
   "execution_count": 2,
   "metadata": {},
   "outputs": [],
   "source": [
    "# в '' прописываем наименования csv-файлов с даннымизакономерностей\n",
    "users = pd.read_csv('')\n",
    "calls = pd.read_csv('')\n",
    "messages = pd.read_csv('')\n",
    "internet = pd.read_csv('')\n",
    "tariffs = pd.read_csv('')\n",
    "\n",
    "warnings.filterwarnings(\"ignore\")"
   ]
  },
  {
   "cell_type": "code",
   "execution_count": 3,
   "metadata": {},
   "outputs": [
    {
     "name": "stdout",
     "output_type": "stream",
     "text": [
      "\n",
      "<class 'pandas.core.frame.DataFrame'>\n",
      "RangeIndex: 500 entries, 0 to 499\n",
      "Data columns (total 8 columns):\n",
      " #   Column      Non-Null Count  Dtype \n",
      "---  ------      --------------  ----- \n",
      " 0   user_id     500 non-null    int64 \n",
      " 1   age         500 non-null    int64 \n",
      " 2   churn_date  38 non-null     object\n",
      " 3   city        500 non-null    object\n",
      " 4   first_name  500 non-null    object\n",
      " 5   last_name   500 non-null    object\n",
      " 6   reg_date    500 non-null    object\n",
      " 7   tariff      500 non-null    object\n",
      "dtypes: int64(2), object(6)\n",
      "memory usage: 31.4+ KB\n"
     ]
    },
    {
     "data": {
      "text/plain": [
       "None"
      ]
     },
     "metadata": {},
     "output_type": "display_data"
    },
    {
     "data": {
      "text/html": [
       "<div>\n",
       "<style scoped>\n",
       "    .dataframe tbody tr th:only-of-type {\n",
       "        vertical-align: middle;\n",
       "    }\n",
       "\n",
       "    .dataframe tbody tr th {\n",
       "        vertical-align: top;\n",
       "    }\n",
       "\n",
       "    .dataframe thead th {\n",
       "        text-align: right;\n",
       "    }\n",
       "</style>\n",
       "<table border=\"1\" class=\"dataframe\">\n",
       "  <thead>\n",
       "    <tr style=\"text-align: right;\">\n",
       "      <th></th>\n",
       "      <th>user_id</th>\n",
       "      <th>age</th>\n",
       "      <th>churn_date</th>\n",
       "      <th>city</th>\n",
       "      <th>first_name</th>\n",
       "      <th>last_name</th>\n",
       "      <th>reg_date</th>\n",
       "      <th>tariff</th>\n",
       "    </tr>\n",
       "  </thead>\n",
       "  <tbody>\n",
       "    <tr>\n",
       "      <th>0</th>\n",
       "      <td>1000</td>\n",
       "      <td>52</td>\n",
       "      <td>NaN</td>\n",
       "      <td>Краснодар</td>\n",
       "      <td>Рафаил</td>\n",
       "      <td>Верещагин</td>\n",
       "      <td>2018-05-25</td>\n",
       "      <td>ultra</td>\n",
       "    </tr>\n",
       "    <tr>\n",
       "      <th>1</th>\n",
       "      <td>1001</td>\n",
       "      <td>41</td>\n",
       "      <td>NaN</td>\n",
       "      <td>Москва</td>\n",
       "      <td>Иван</td>\n",
       "      <td>Ежов</td>\n",
       "      <td>2018-11-01</td>\n",
       "      <td>smart</td>\n",
       "    </tr>\n",
       "    <tr>\n",
       "      <th>2</th>\n",
       "      <td>1002</td>\n",
       "      <td>59</td>\n",
       "      <td>NaN</td>\n",
       "      <td>Стерлитамак</td>\n",
       "      <td>Евгений</td>\n",
       "      <td>Абрамович</td>\n",
       "      <td>2018-06-17</td>\n",
       "      <td>smart</td>\n",
       "    </tr>\n",
       "    <tr>\n",
       "      <th>3</th>\n",
       "      <td>1003</td>\n",
       "      <td>23</td>\n",
       "      <td>NaN</td>\n",
       "      <td>Москва</td>\n",
       "      <td>Белла</td>\n",
       "      <td>Белякова</td>\n",
       "      <td>2018-08-17</td>\n",
       "      <td>ultra</td>\n",
       "    </tr>\n",
       "    <tr>\n",
       "      <th>4</th>\n",
       "      <td>1004</td>\n",
       "      <td>68</td>\n",
       "      <td>NaN</td>\n",
       "      <td>Новокузнецк</td>\n",
       "      <td>Татьяна</td>\n",
       "      <td>Авдеенко</td>\n",
       "      <td>2018-05-14</td>\n",
       "      <td>ultra</td>\n",
       "    </tr>\n",
       "  </tbody>\n",
       "</table>\n",
       "</div>"
      ],
      "text/plain": [
       "   user_id  age churn_date         city first_name  last_name    reg_date  \\\n",
       "0     1000   52        NaN    Краснодар     Рафаил  Верещагин  2018-05-25   \n",
       "1     1001   41        NaN       Москва       Иван       Ежов  2018-11-01   \n",
       "2     1002   59        NaN  Стерлитамак    Евгений  Абрамович  2018-06-17   \n",
       "3     1003   23        NaN       Москва      Белла   Белякова  2018-08-17   \n",
       "4     1004   68        NaN  Новокузнецк    Татьяна   Авдеенко  2018-05-14   \n",
       "\n",
       "  tariff  \n",
       "0  ultra  \n",
       "1  smart  \n",
       "2  smart  \n",
       "3  ultra  \n",
       "4  ultra  "
      ]
     },
     "metadata": {},
     "output_type": "display_data"
    },
    {
     "data": {
      "text/plain": [
       "0"
      ]
     },
     "metadata": {},
     "output_type": "display_data"
    },
    {
     "name": "stdout",
     "output_type": "stream",
     "text": [
      "\n",
      "\n",
      "<class 'pandas.core.frame.DataFrame'>\n",
      "RangeIndex: 202607 entries, 0 to 202606\n",
      "Data columns (total 4 columns):\n",
      " #   Column     Non-Null Count   Dtype  \n",
      "---  ------     --------------   -----  \n",
      " 0   id         202607 non-null  object \n",
      " 1   call_date  202607 non-null  object \n",
      " 2   duration   202607 non-null  float64\n",
      " 3   user_id    202607 non-null  int64  \n",
      "dtypes: float64(1), int64(1), object(2)\n",
      "memory usage: 6.2+ MB\n"
     ]
    },
    {
     "data": {
      "text/plain": [
       "None"
      ]
     },
     "metadata": {},
     "output_type": "display_data"
    },
    {
     "data": {
      "text/html": [
       "<div>\n",
       "<style scoped>\n",
       "    .dataframe tbody tr th:only-of-type {\n",
       "        vertical-align: middle;\n",
       "    }\n",
       "\n",
       "    .dataframe tbody tr th {\n",
       "        vertical-align: top;\n",
       "    }\n",
       "\n",
       "    .dataframe thead th {\n",
       "        text-align: right;\n",
       "    }\n",
       "</style>\n",
       "<table border=\"1\" class=\"dataframe\">\n",
       "  <thead>\n",
       "    <tr style=\"text-align: right;\">\n",
       "      <th></th>\n",
       "      <th>id</th>\n",
       "      <th>call_date</th>\n",
       "      <th>duration</th>\n",
       "      <th>user_id</th>\n",
       "    </tr>\n",
       "  </thead>\n",
       "  <tbody>\n",
       "    <tr>\n",
       "      <th>0</th>\n",
       "      <td>1000_0</td>\n",
       "      <td>2018-07-25</td>\n",
       "      <td>0.00</td>\n",
       "      <td>1000</td>\n",
       "    </tr>\n",
       "    <tr>\n",
       "      <th>1</th>\n",
       "      <td>1000_1</td>\n",
       "      <td>2018-08-17</td>\n",
       "      <td>0.00</td>\n",
       "      <td>1000</td>\n",
       "    </tr>\n",
       "    <tr>\n",
       "      <th>2</th>\n",
       "      <td>1000_2</td>\n",
       "      <td>2018-06-11</td>\n",
       "      <td>2.85</td>\n",
       "      <td>1000</td>\n",
       "    </tr>\n",
       "    <tr>\n",
       "      <th>3</th>\n",
       "      <td>1000_3</td>\n",
       "      <td>2018-09-21</td>\n",
       "      <td>13.80</td>\n",
       "      <td>1000</td>\n",
       "    </tr>\n",
       "    <tr>\n",
       "      <th>4</th>\n",
       "      <td>1000_4</td>\n",
       "      <td>2018-12-15</td>\n",
       "      <td>5.18</td>\n",
       "      <td>1000</td>\n",
       "    </tr>\n",
       "  </tbody>\n",
       "</table>\n",
       "</div>"
      ],
      "text/plain": [
       "       id   call_date  duration  user_id\n",
       "0  1000_0  2018-07-25      0.00     1000\n",
       "1  1000_1  2018-08-17      0.00     1000\n",
       "2  1000_2  2018-06-11      2.85     1000\n",
       "3  1000_3  2018-09-21     13.80     1000\n",
       "4  1000_4  2018-12-15      5.18     1000"
      ]
     },
     "metadata": {},
     "output_type": "display_data"
    },
    {
     "data": {
      "text/plain": [
       "0"
      ]
     },
     "metadata": {},
     "output_type": "display_data"
    },
    {
     "name": "stdout",
     "output_type": "stream",
     "text": [
      "\n",
      "\n",
      "<class 'pandas.core.frame.DataFrame'>\n",
      "RangeIndex: 123036 entries, 0 to 123035\n",
      "Data columns (total 3 columns):\n",
      " #   Column        Non-Null Count   Dtype \n",
      "---  ------        --------------   ----- \n",
      " 0   id            123036 non-null  object\n",
      " 1   message_date  123036 non-null  object\n",
      " 2   user_id       123036 non-null  int64 \n",
      "dtypes: int64(1), object(2)\n",
      "memory usage: 2.8+ MB\n"
     ]
    },
    {
     "data": {
      "text/plain": [
       "None"
      ]
     },
     "metadata": {},
     "output_type": "display_data"
    },
    {
     "data": {
      "text/html": [
       "<div>\n",
       "<style scoped>\n",
       "    .dataframe tbody tr th:only-of-type {\n",
       "        vertical-align: middle;\n",
       "    }\n",
       "\n",
       "    .dataframe tbody tr th {\n",
       "        vertical-align: top;\n",
       "    }\n",
       "\n",
       "    .dataframe thead th {\n",
       "        text-align: right;\n",
       "    }\n",
       "</style>\n",
       "<table border=\"1\" class=\"dataframe\">\n",
       "  <thead>\n",
       "    <tr style=\"text-align: right;\">\n",
       "      <th></th>\n",
       "      <th>id</th>\n",
       "      <th>message_date</th>\n",
       "      <th>user_id</th>\n",
       "    </tr>\n",
       "  </thead>\n",
       "  <tbody>\n",
       "    <tr>\n",
       "      <th>0</th>\n",
       "      <td>1000_0</td>\n",
       "      <td>2018-06-27</td>\n",
       "      <td>1000</td>\n",
       "    </tr>\n",
       "    <tr>\n",
       "      <th>1</th>\n",
       "      <td>1000_1</td>\n",
       "      <td>2018-10-08</td>\n",
       "      <td>1000</td>\n",
       "    </tr>\n",
       "    <tr>\n",
       "      <th>2</th>\n",
       "      <td>1000_2</td>\n",
       "      <td>2018-08-04</td>\n",
       "      <td>1000</td>\n",
       "    </tr>\n",
       "    <tr>\n",
       "      <th>3</th>\n",
       "      <td>1000_3</td>\n",
       "      <td>2018-06-16</td>\n",
       "      <td>1000</td>\n",
       "    </tr>\n",
       "    <tr>\n",
       "      <th>4</th>\n",
       "      <td>1000_4</td>\n",
       "      <td>2018-12-05</td>\n",
       "      <td>1000</td>\n",
       "    </tr>\n",
       "  </tbody>\n",
       "</table>\n",
       "</div>"
      ],
      "text/plain": [
       "       id message_date  user_id\n",
       "0  1000_0   2018-06-27     1000\n",
       "1  1000_1   2018-10-08     1000\n",
       "2  1000_2   2018-08-04     1000\n",
       "3  1000_3   2018-06-16     1000\n",
       "4  1000_4   2018-12-05     1000"
      ]
     },
     "metadata": {},
     "output_type": "display_data"
    },
    {
     "data": {
      "text/plain": [
       "0"
      ]
     },
     "metadata": {},
     "output_type": "display_data"
    },
    {
     "name": "stdout",
     "output_type": "stream",
     "text": [
      "\n",
      "\n",
      "<class 'pandas.core.frame.DataFrame'>\n",
      "RangeIndex: 149396 entries, 0 to 149395\n",
      "Data columns (total 5 columns):\n",
      " #   Column        Non-Null Count   Dtype  \n",
      "---  ------        --------------   -----  \n",
      " 0   Unnamed: 0    149396 non-null  int64  \n",
      " 1   id            149396 non-null  object \n",
      " 2   mb_used       149396 non-null  float64\n",
      " 3   session_date  149396 non-null  object \n",
      " 4   user_id       149396 non-null  int64  \n",
      "dtypes: float64(1), int64(2), object(2)\n",
      "memory usage: 5.7+ MB\n"
     ]
    },
    {
     "data": {
      "text/plain": [
       "None"
      ]
     },
     "metadata": {},
     "output_type": "display_data"
    },
    {
     "data": {
      "text/html": [
       "<div>\n",
       "<style scoped>\n",
       "    .dataframe tbody tr th:only-of-type {\n",
       "        vertical-align: middle;\n",
       "    }\n",
       "\n",
       "    .dataframe tbody tr th {\n",
       "        vertical-align: top;\n",
       "    }\n",
       "\n",
       "    .dataframe thead th {\n",
       "        text-align: right;\n",
       "    }\n",
       "</style>\n",
       "<table border=\"1\" class=\"dataframe\">\n",
       "  <thead>\n",
       "    <tr style=\"text-align: right;\">\n",
       "      <th></th>\n",
       "      <th>Unnamed: 0</th>\n",
       "      <th>id</th>\n",
       "      <th>mb_used</th>\n",
       "      <th>session_date</th>\n",
       "      <th>user_id</th>\n",
       "    </tr>\n",
       "  </thead>\n",
       "  <tbody>\n",
       "    <tr>\n",
       "      <th>0</th>\n",
       "      <td>0</td>\n",
       "      <td>1000_0</td>\n",
       "      <td>112.95</td>\n",
       "      <td>2018-11-25</td>\n",
       "      <td>1000</td>\n",
       "    </tr>\n",
       "    <tr>\n",
       "      <th>1</th>\n",
       "      <td>1</td>\n",
       "      <td>1000_1</td>\n",
       "      <td>1052.81</td>\n",
       "      <td>2018-09-07</td>\n",
       "      <td>1000</td>\n",
       "    </tr>\n",
       "    <tr>\n",
       "      <th>2</th>\n",
       "      <td>2</td>\n",
       "      <td>1000_2</td>\n",
       "      <td>1197.26</td>\n",
       "      <td>2018-06-25</td>\n",
       "      <td>1000</td>\n",
       "    </tr>\n",
       "    <tr>\n",
       "      <th>3</th>\n",
       "      <td>3</td>\n",
       "      <td>1000_3</td>\n",
       "      <td>550.27</td>\n",
       "      <td>2018-08-22</td>\n",
       "      <td>1000</td>\n",
       "    </tr>\n",
       "    <tr>\n",
       "      <th>4</th>\n",
       "      <td>4</td>\n",
       "      <td>1000_4</td>\n",
       "      <td>302.56</td>\n",
       "      <td>2018-09-24</td>\n",
       "      <td>1000</td>\n",
       "    </tr>\n",
       "  </tbody>\n",
       "</table>\n",
       "</div>"
      ],
      "text/plain": [
       "   Unnamed: 0      id  mb_used session_date  user_id\n",
       "0           0  1000_0   112.95   2018-11-25     1000\n",
       "1           1  1000_1  1052.81   2018-09-07     1000\n",
       "2           2  1000_2  1197.26   2018-06-25     1000\n",
       "3           3  1000_3   550.27   2018-08-22     1000\n",
       "4           4  1000_4   302.56   2018-09-24     1000"
      ]
     },
     "metadata": {},
     "output_type": "display_data"
    },
    {
     "data": {
      "text/plain": [
       "0"
      ]
     },
     "metadata": {},
     "output_type": "display_data"
    },
    {
     "name": "stdout",
     "output_type": "stream",
     "text": [
      "\n",
      "\n",
      "<class 'pandas.core.frame.DataFrame'>\n",
      "RangeIndex: 2 entries, 0 to 1\n",
      "Data columns (total 8 columns):\n",
      " #   Column                 Non-Null Count  Dtype \n",
      "---  ------                 --------------  ----- \n",
      " 0   messages_included      2 non-null      int64 \n",
      " 1   mb_per_month_included  2 non-null      int64 \n",
      " 2   minutes_included       2 non-null      int64 \n",
      " 3   rub_monthly_fee        2 non-null      int64 \n",
      " 4   rub_per_gb             2 non-null      int64 \n",
      " 5   rub_per_message        2 non-null      int64 \n",
      " 6   rub_per_minute         2 non-null      int64 \n",
      " 7   tariff_name            2 non-null      object\n",
      "dtypes: int64(7), object(1)\n",
      "memory usage: 256.0+ bytes\n"
     ]
    },
    {
     "data": {
      "text/plain": [
       "None"
      ]
     },
     "metadata": {},
     "output_type": "display_data"
    },
    {
     "data": {
      "text/html": [
       "<div>\n",
       "<style scoped>\n",
       "    .dataframe tbody tr th:only-of-type {\n",
       "        vertical-align: middle;\n",
       "    }\n",
       "\n",
       "    .dataframe tbody tr th {\n",
       "        vertical-align: top;\n",
       "    }\n",
       "\n",
       "    .dataframe thead th {\n",
       "        text-align: right;\n",
       "    }\n",
       "</style>\n",
       "<table border=\"1\" class=\"dataframe\">\n",
       "  <thead>\n",
       "    <tr style=\"text-align: right;\">\n",
       "      <th></th>\n",
       "      <th>messages_included</th>\n",
       "      <th>mb_per_month_included</th>\n",
       "      <th>minutes_included</th>\n",
       "      <th>rub_monthly_fee</th>\n",
       "      <th>rub_per_gb</th>\n",
       "      <th>rub_per_message</th>\n",
       "      <th>rub_per_minute</th>\n",
       "      <th>tariff_name</th>\n",
       "    </tr>\n",
       "  </thead>\n",
       "  <tbody>\n",
       "    <tr>\n",
       "      <th>0</th>\n",
       "      <td>50</td>\n",
       "      <td>15360</td>\n",
       "      <td>500</td>\n",
       "      <td>550</td>\n",
       "      <td>200</td>\n",
       "      <td>3</td>\n",
       "      <td>3</td>\n",
       "      <td>smart</td>\n",
       "    </tr>\n",
       "    <tr>\n",
       "      <th>1</th>\n",
       "      <td>1000</td>\n",
       "      <td>30720</td>\n",
       "      <td>3000</td>\n",
       "      <td>1950</td>\n",
       "      <td>150</td>\n",
       "      <td>1</td>\n",
       "      <td>1</td>\n",
       "      <td>ultra</td>\n",
       "    </tr>\n",
       "  </tbody>\n",
       "</table>\n",
       "</div>"
      ],
      "text/plain": [
       "   messages_included  mb_per_month_included  minutes_included  \\\n",
       "0                 50                  15360               500   \n",
       "1               1000                  30720              3000   \n",
       "\n",
       "   rub_monthly_fee  rub_per_gb  rub_per_message  rub_per_minute tariff_name  \n",
       "0              550         200                3               3       smart  \n",
       "1             1950         150                1               1       ultra  "
      ]
     },
     "metadata": {},
     "output_type": "display_data"
    },
    {
     "data": {
      "text/plain": [
       "0"
      ]
     },
     "metadata": {},
     "output_type": "display_data"
    },
    {
     "name": "stdout",
     "output_type": "stream",
     "text": [
      "\n"
     ]
    }
   ],
   "source": [
    "# у нас есть массив датафреймов\n",
    "frames = [users, calls, messages, internet, tariffs]\n",
    "\n",
    "# пропишем функцию для проверки данных на тип данных, дубликаты  и т.п.\n",
    "def check_df(frame):\n",
    "    display(frame.info())\n",
    "    display(frame.head())\n",
    "    display(frame.duplicated().sum())\n",
    "    display()\n",
    "\n",
    "# вызовем функцию в цикле по всем датафреймам\n",
    "for frame in frames:\n",
    "    print()\n",
    "    check_df(frame)\n",
    "    print()\n"
   ]
  },
  {
   "cell_type": "markdown",
   "metadata": {},
   "source": [
    "В датафрейме users сразу обнаруживаем отсутствующие значения в колонке churn_date,в условии задания было указано, что это дата прекращения пользования тарифом, а если значение пропущено, то тариф ещё действовал на момент выгрузки данных.\n",
    "Поскольку данные представлены за 2018 год, можем заменить пропущенные значения на последний день 2018 года - 31.12.2018."
   ]
  },
  {
   "cell_type": "code",
   "execution_count": 4,
   "metadata": {},
   "outputs": [],
   "source": [
    "users['churn_date'] = users['churn_date'].fillna('2018-12-31')"
   ]
  },
  {
   "cell_type": "markdown",
   "metadata": {},
   "source": [
    "Приведём данные в колонках churn_date, reg_date датафрейма users к формату дата-время.."
   ]
  },
  {
   "cell_type": "code",
   "execution_count": 5,
   "metadata": {},
   "outputs": [],
   "source": [
    "users['churn_date'] = pd.to_datetime(users['churn_date'], format='%Y-%m-%d')\n",
    "users['reg_date'] = pd.to_datetime(users['reg_date'], format='%Y-%m-%d')"
   ]
  },
  {
   "cell_type": "markdown",
   "metadata": {},
   "source": [
    "Данные в колонках call_date, message_date, session_date также приведём к формату дата-фремя и выделим в отдельную колонку месяц, так как в дальнейшем все рассчёты будем вести по месяцам. "
   ]
  },
  {
   "cell_type": "code",
   "execution_count": 6,
   "metadata": {},
   "outputs": [],
   "source": [
    "def date_month(df, column):\n",
    "    df[column] = pd.to_datetime(df[column], format='%Y-%m-%d')\n",
    "    df['month'] = df[column].dt.month\n",
    "\n",
    "date_month(df = calls, column = 'call_date')\n",
    "date_month(df = messages, column = 'message_date')\n",
    "date_month(df = internet, column = 'session_date')"
   ]
  },
  {
   "cell_type": "markdown",
   "metadata": {},
   "source": [
    "Из примечаний к данным по проекту, мы знаем, что «Мегалайн» всегда округляет секунды до минут,а каждый звонок округляется отдельно: даже если он длился всего 1 секунду, будет засчитан как 1 минута. \n",
    "Таким образом, нам нужно округлить длительность каждого звонка до целых минут, для этого напишем функцию и обновим информацию в столбце duration."
   ]
  },
  {
   "cell_type": "code",
   "execution_count": 7,
   "metadata": {},
   "outputs": [],
   "source": [
    "def calls_duration(row):\n",
    "    duration = row['duration']\n",
    "    return math.ceil(duration) \n",
    "\n",
    "calls['duration'] = calls.apply(calls_duration, axis=1)"
   ]
  },
  {
   "cell_type": "markdown",
   "metadata": {},
   "source": [
    "Из примечаний к данным по проекту мы значем, что «Мегалайн» всегда округляет мегабайты — до гигабайт.\n",
    "При этом для веб-трафика отдельные сессии не считаются. Вместо этого общая сумма за месяц округляется в бо́льшую сторону. Если абонент использует 1025 мегабайт в этом месяце, с него возьмут плату за 2 гигабайта.\n",
    "Поэтому для начала нам нужно подсчитать общее количество мегабайт, потраченных пользователем за месяц, сделаем это с помощью сводной таблицы, далее переведём сумму мегабайтов за месяц в гигабайты с округлением в бОльшую сторону, напишем такую функцию."
   ]
  },
  {
   "cell_type": "code",
   "execution_count": 8,
   "metadata": {},
   "outputs": [],
   "source": [
    "internet = internet.pivot_table(index =['user_id','month'], values='mb_used', aggfunc='sum')\n",
    "\n",
    "def gb_used(row):\n",
    "    mb_used = row['mb_used']\n",
    "    gb_used = math.ceil(mb_used /1024)\n",
    "    return gb_used\n",
    "\n",
    "internet['gb_used'] = internet.apply(gb_used, axis=1)"
   ]
  },
  {
   "cell_type": "markdown",
   "metadata": {},
   "source": [
    "Теперь можно приступить к созданию общего датафрейма по пользователям с указанием о  количестве совершённых ими звонков, написанных сообщений и потраченном трафике помесячно.\n",
    "Для удобства, с помощью сводных таблиц к датафреймам calls, messages, internet подсчитаем для каждого пользователя помесячно:\n",
    "- количество звонков \n",
    "- сумму минут\n",
    "- количество отправленных сообщений \n",
    "- количество потраченных гигабайт \n",
    "\n",
    "Сразу приведём данные в получившихся колонках calls_quantity, calls_duration, messages_quantity, gb_used к целочисленному типу, чтобы данные занимали меньше памяти и для удобства дальнейших подсчётов.\n",
    "\n",
    "Далее объединим получившиеся датафреймы calls, messages, internet с уже имеющимся датафреймом users, назовём его cost_details."
   ]
  },
  {
   "cell_type": "code",
   "execution_count": 9,
   "metadata": {},
   "outputs": [],
   "source": [
    "calls = calls.pivot_table(index =['user_id', 'month'], values='duration', aggfunc=['count','sum']).reset_index()\n",
    "calls.columns = ['user_id', 'month','calls_quantity', 'calls_duration'] \n",
    "calls[['calls_quantity','calls_duration']] = calls[['calls_quantity','calls_duration']].astype(int)"
   ]
  },
  {
   "cell_type": "code",
   "execution_count": 10,
   "metadata": {
    "scrolled": true
   },
   "outputs": [],
   "source": [
    "messages= messages.pivot_table(index =['user_id','month'], values='id', aggfunc='count').reset_index()\n",
    "messages.columns = ['user_id', 'month','messages_quantity'] \n",
    "messages['messages_quantity'] = messages['messages_quantity'].astype(int)"
   ]
  },
  {
   "cell_type": "code",
   "execution_count": 11,
   "metadata": {},
   "outputs": [],
   "source": [
    "internet = internet.pivot_table(index =['user_id','month'], values='gb_used', aggfunc='sum').reset_index()\n",
    "internet['gb_used'] = internet['gb_used'].astype(int)"
   ]
  },
  {
   "cell_type": "code",
   "execution_count": 12,
   "metadata": {},
   "outputs": [
    {
     "data": {
      "text/html": [
       "<div>\n",
       "<style scoped>\n",
       "    .dataframe tbody tr th:only-of-type {\n",
       "        vertical-align: middle;\n",
       "    }\n",
       "\n",
       "    .dataframe tbody tr th {\n",
       "        vertical-align: top;\n",
       "    }\n",
       "\n",
       "    .dataframe thead th {\n",
       "        text-align: right;\n",
       "    }\n",
       "</style>\n",
       "<table border=\"1\" class=\"dataframe\">\n",
       "  <thead>\n",
       "    <tr style=\"text-align: right;\">\n",
       "      <th></th>\n",
       "      <th>user_id</th>\n",
       "      <th>age</th>\n",
       "      <th>churn_date</th>\n",
       "      <th>city</th>\n",
       "      <th>first_name</th>\n",
       "      <th>last_name</th>\n",
       "      <th>reg_date</th>\n",
       "      <th>tariff</th>\n",
       "      <th>month</th>\n",
       "      <th>gb_used</th>\n",
       "      <th>calls_quantity</th>\n",
       "      <th>calls_duration</th>\n",
       "      <th>messages_quantity</th>\n",
       "    </tr>\n",
       "  </thead>\n",
       "  <tbody>\n",
       "    <tr>\n",
       "      <th>0</th>\n",
       "      <td>1000</td>\n",
       "      <td>52</td>\n",
       "      <td>2018-12-31</td>\n",
       "      <td>Краснодар</td>\n",
       "      <td>Рафаил</td>\n",
       "      <td>Верещагин</td>\n",
       "      <td>2018-05-25</td>\n",
       "      <td>ultra</td>\n",
       "      <td>5.0</td>\n",
       "      <td>3.0</td>\n",
       "      <td>22.0</td>\n",
       "      <td>159.0</td>\n",
       "      <td>22.0</td>\n",
       "    </tr>\n",
       "    <tr>\n",
       "      <th>1</th>\n",
       "      <td>1000</td>\n",
       "      <td>52</td>\n",
       "      <td>2018-12-31</td>\n",
       "      <td>Краснодар</td>\n",
       "      <td>Рафаил</td>\n",
       "      <td>Верещагин</td>\n",
       "      <td>2018-05-25</td>\n",
       "      <td>ultra</td>\n",
       "      <td>6.0</td>\n",
       "      <td>23.0</td>\n",
       "      <td>43.0</td>\n",
       "      <td>172.0</td>\n",
       "      <td>60.0</td>\n",
       "    </tr>\n",
       "    <tr>\n",
       "      <th>2</th>\n",
       "      <td>1000</td>\n",
       "      <td>52</td>\n",
       "      <td>2018-12-31</td>\n",
       "      <td>Краснодар</td>\n",
       "      <td>Рафаил</td>\n",
       "      <td>Верещагин</td>\n",
       "      <td>2018-05-25</td>\n",
       "      <td>ultra</td>\n",
       "      <td>7.0</td>\n",
       "      <td>14.0</td>\n",
       "      <td>47.0</td>\n",
       "      <td>340.0</td>\n",
       "      <td>75.0</td>\n",
       "    </tr>\n",
       "    <tr>\n",
       "      <th>3</th>\n",
       "      <td>1000</td>\n",
       "      <td>52</td>\n",
       "      <td>2018-12-31</td>\n",
       "      <td>Краснодар</td>\n",
       "      <td>Рафаил</td>\n",
       "      <td>Верещагин</td>\n",
       "      <td>2018-05-25</td>\n",
       "      <td>ultra</td>\n",
       "      <td>8.0</td>\n",
       "      <td>14.0</td>\n",
       "      <td>52.0</td>\n",
       "      <td>408.0</td>\n",
       "      <td>81.0</td>\n",
       "    </tr>\n",
       "    <tr>\n",
       "      <th>4</th>\n",
       "      <td>1000</td>\n",
       "      <td>52</td>\n",
       "      <td>2018-12-31</td>\n",
       "      <td>Краснодар</td>\n",
       "      <td>Рафаил</td>\n",
       "      <td>Верещагин</td>\n",
       "      <td>2018-05-25</td>\n",
       "      <td>ultra</td>\n",
       "      <td>9.0</td>\n",
       "      <td>15.0</td>\n",
       "      <td>58.0</td>\n",
       "      <td>466.0</td>\n",
       "      <td>57.0</td>\n",
       "    </tr>\n",
       "  </tbody>\n",
       "</table>\n",
       "</div>"
      ],
      "text/plain": [
       "   user_id  age churn_date       city first_name  last_name   reg_date tariff  \\\n",
       "0     1000   52 2018-12-31  Краснодар     Рафаил  Верещагин 2018-05-25  ultra   \n",
       "1     1000   52 2018-12-31  Краснодар     Рафаил  Верещагин 2018-05-25  ultra   \n",
       "2     1000   52 2018-12-31  Краснодар     Рафаил  Верещагин 2018-05-25  ultra   \n",
       "3     1000   52 2018-12-31  Краснодар     Рафаил  Верещагин 2018-05-25  ultra   \n",
       "4     1000   52 2018-12-31  Краснодар     Рафаил  Верещагин 2018-05-25  ultra   \n",
       "\n",
       "   month  gb_used  calls_quantity  calls_duration  messages_quantity  \n",
       "0    5.0      3.0            22.0           159.0               22.0  \n",
       "1    6.0     23.0            43.0           172.0               60.0  \n",
       "2    7.0     14.0            47.0           340.0               75.0  \n",
       "3    8.0     14.0            52.0           408.0               81.0  \n",
       "4    9.0     15.0            58.0           466.0               57.0  "
      ]
     },
     "execution_count": 12,
     "metadata": {},
     "output_type": "execute_result"
    }
   ],
   "source": [
    "cost_details = internet.merge(calls, on=['user_id','month'], how='outer')\n",
    "cost_details = cost_details.merge(messages, on=['user_id','month'], how='outer')\n",
    "cost_details = users.merge(cost_details, how='outer')\n",
    "cost_details.head()"
   ]
  },
  {
   "cell_type": "markdown",
   "metadata": {},
   "source": [
    "Изучим информацию о получившемся датафрейме cost_details более внимательно."
   ]
  },
  {
   "cell_type": "code",
   "execution_count": 13,
   "metadata": {
    "tags": []
   },
   "outputs": [
    {
     "name": "stdout",
     "output_type": "stream",
     "text": [
      "<class 'pandas.core.frame.DataFrame'>\n",
      "Int64Index: 3216 entries, 0 to 3215\n",
      "Data columns (total 13 columns):\n",
      " #   Column             Non-Null Count  Dtype         \n",
      "---  ------             --------------  -----         \n",
      " 0   user_id            3216 non-null   int64         \n",
      " 1   age                3216 non-null   int64         \n",
      " 2   churn_date         3216 non-null   datetime64[ns]\n",
      " 3   city               3216 non-null   object        \n",
      " 4   first_name         3216 non-null   object        \n",
      " 5   last_name          3216 non-null   object        \n",
      " 6   reg_date           3216 non-null   datetime64[ns]\n",
      " 7   tariff             3216 non-null   object        \n",
      " 8   month              3214 non-null   float64       \n",
      " 9   gb_used            3203 non-null   float64       \n",
      " 10  calls_quantity     3174 non-null   float64       \n",
      " 11  calls_duration     3174 non-null   float64       \n",
      " 12  messages_quantity  2717 non-null   float64       \n",
      "dtypes: datetime64[ns](2), float64(5), int64(2), object(4)\n",
      "memory usage: 351.8+ KB\n"
     ]
    }
   ],
   "source": [
    "cost_details.info()"
   ]
  },
  {
   "cell_type": "markdown",
   "metadata": {},
   "source": [
    "Обнаружили пропуски в колонках month, gb_used, calls_quantity, calls_duration, messages_quantity.\n",
    "Очевидно строки, где пропущен месяц можно просто удалить из датафрейма, так как пользователь просто ещё не был пользователем \"Мегалайн\".\n",
    "\n",
    "Отстутствующие данные в колонках gb_used, calls_quantity, calls_duration, messages_quantity заменим на 0, так как пользователем просто не звонил, не писал сообщения и не пользовался интернетом в какие-то определённые месяцы, раз данных нет, т.е. либо он был в отпуске, либо только-только подключился к тарифу в самом конце месяца.\n",
    "\n",
    "Также проверим датафрейм на явные дубликаты."
   ]
  },
  {
   "cell_type": "code",
   "execution_count": 14,
   "metadata": {},
   "outputs": [],
   "source": [
    "cost_details = cost_details.dropna(subset=['month'])"
   ]
  },
  {
   "cell_type": "code",
   "execution_count": 15,
   "metadata": {},
   "outputs": [],
   "source": [
    "cost_details[['gb_used','calls_quantity', 'calls_duration','messages_quantity']] = cost_details[['gb_used','calls_quantity', 'calls_duration','messages_quantity']].fillna(0)\n",
    "cost_details[['month', 'gb_used','calls_quantity', 'calls_duration','messages_quantity']] = cost_details[['month', 'gb_used','calls_quantity', 'calls_duration','messages_quantity']].astype(int)"
   ]
  },
  {
   "cell_type": "code",
   "execution_count": 16,
   "metadata": {},
   "outputs": [
    {
     "data": {
      "text/plain": [
       "0"
      ]
     },
     "execution_count": 16,
     "metadata": {},
     "output_type": "execute_result"
    }
   ],
   "source": [
    "cost_details.duplicated().sum()"
   ]
  },
  {
   "cell_type": "markdown",
   "metadata": {},
   "source": [
    "Ещё раз посмотрим на получившийся для работы датафрейм cost_details, чтобы убедиться, что с ним всё в порядке и он пригоден для дальнейших подсчётов."
   ]
  },
  {
   "cell_type": "code",
   "execution_count": 17,
   "metadata": {},
   "outputs": [
    {
     "name": "stdout",
     "output_type": "stream",
     "text": [
      "<class 'pandas.core.frame.DataFrame'>\n",
      "Int64Index: 3214 entries, 0 to 3215\n",
      "Data columns (total 13 columns):\n",
      " #   Column             Non-Null Count  Dtype         \n",
      "---  ------             --------------  -----         \n",
      " 0   user_id            3214 non-null   int64         \n",
      " 1   age                3214 non-null   int64         \n",
      " 2   churn_date         3214 non-null   datetime64[ns]\n",
      " 3   city               3214 non-null   object        \n",
      " 4   first_name         3214 non-null   object        \n",
      " 5   last_name          3214 non-null   object        \n",
      " 6   reg_date           3214 non-null   datetime64[ns]\n",
      " 7   tariff             3214 non-null   object        \n",
      " 8   month              3214 non-null   int64         \n",
      " 9   gb_used            3214 non-null   int64         \n",
      " 10  calls_quantity     3214 non-null   int64         \n",
      " 11  calls_duration     3214 non-null   int64         \n",
      " 12  messages_quantity  3214 non-null   int64         \n",
      "dtypes: datetime64[ns](2), int64(7), object(4)\n",
      "memory usage: 351.5+ KB\n"
     ]
    }
   ],
   "source": [
    "cost_details.info()"
   ]
  },
  {
   "cell_type": "markdown",
   "metadata": {},
   "source": [
    "Теперь рассмотрим датафрейм tariffs"
   ]
  },
  {
   "cell_type": "code",
   "execution_count": 18,
   "metadata": {
    "scrolled": true
   },
   "outputs": [
    {
     "data": {
      "text/html": [
       "<div>\n",
       "<style scoped>\n",
       "    .dataframe tbody tr th:only-of-type {\n",
       "        vertical-align: middle;\n",
       "    }\n",
       "\n",
       "    .dataframe tbody tr th {\n",
       "        vertical-align: top;\n",
       "    }\n",
       "\n",
       "    .dataframe thead th {\n",
       "        text-align: right;\n",
       "    }\n",
       "</style>\n",
       "<table border=\"1\" class=\"dataframe\">\n",
       "  <thead>\n",
       "    <tr style=\"text-align: right;\">\n",
       "      <th></th>\n",
       "      <th>messages_included</th>\n",
       "      <th>mb_per_month_included</th>\n",
       "      <th>minutes_included</th>\n",
       "      <th>rub_monthly_fee</th>\n",
       "      <th>rub_per_gb</th>\n",
       "      <th>rub_per_message</th>\n",
       "      <th>rub_per_minute</th>\n",
       "      <th>tariff_name</th>\n",
       "    </tr>\n",
       "  </thead>\n",
       "  <tbody>\n",
       "    <tr>\n",
       "      <th>0</th>\n",
       "      <td>50</td>\n",
       "      <td>15360</td>\n",
       "      <td>500</td>\n",
       "      <td>550</td>\n",
       "      <td>200</td>\n",
       "      <td>3</td>\n",
       "      <td>3</td>\n",
       "      <td>smart</td>\n",
       "    </tr>\n",
       "    <tr>\n",
       "      <th>1</th>\n",
       "      <td>1000</td>\n",
       "      <td>30720</td>\n",
       "      <td>3000</td>\n",
       "      <td>1950</td>\n",
       "      <td>150</td>\n",
       "      <td>1</td>\n",
       "      <td>1</td>\n",
       "      <td>ultra</td>\n",
       "    </tr>\n",
       "  </tbody>\n",
       "</table>\n",
       "</div>"
      ],
      "text/plain": [
       "   messages_included  mb_per_month_included  minutes_included  \\\n",
       "0                 50                  15360               500   \n",
       "1               1000                  30720              3000   \n",
       "\n",
       "   rub_monthly_fee  rub_per_gb  rub_per_message  rub_per_minute tariff_name  \n",
       "0              550         200                3               3       smart  \n",
       "1             1950         150                1               1       ultra  "
      ]
     },
     "execution_count": 18,
     "metadata": {},
     "output_type": "execute_result"
    }
   ],
   "source": [
    "tariffs.head()"
   ]
  },
  {
   "cell_type": "markdown",
   "metadata": {},
   "source": [
    "Переведём данные в колонке mb_per_month_included в гигабайты, присвоим ему целочисленный тип данных  и ,соответственно, переименуем этот столбец в gb_per_month_included."
   ]
  },
  {
   "cell_type": "code",
   "execution_count": 19,
   "metadata": {},
   "outputs": [
    {
     "name": "stdout",
     "output_type": "stream",
     "text": [
      "<class 'pandas.core.frame.DataFrame'>\n",
      "RangeIndex: 2 entries, 0 to 1\n",
      "Data columns (total 8 columns):\n",
      " #   Column                 Non-Null Count  Dtype \n",
      "---  ------                 --------------  ----- \n",
      " 0   messages_included      2 non-null      int64 \n",
      " 1   gb_per_month_included  2 non-null      int64 \n",
      " 2   minutes_included       2 non-null      int64 \n",
      " 3   rub_monthly_fee        2 non-null      int64 \n",
      " 4   rub_per_gb             2 non-null      int64 \n",
      " 5   rub_per_message        2 non-null      int64 \n",
      " 6   rub_per_minute         2 non-null      int64 \n",
      " 7   tariff_name            2 non-null      object\n",
      "dtypes: int64(7), object(1)\n",
      "memory usage: 256.0+ bytes\n"
     ]
    }
   ],
   "source": [
    "tariffs['mb_per_month_included'] = (tariffs['mb_per_month_included']/1024).astype(int)\n",
    "tariffs = tariffs.rename(columns={'mb_per_month_included': 'gb_per_month_included'})\n",
    "tariffs.info()"
   ]
  },
  {
   "cell_type": "markdown",
   "metadata": {},
   "source": [
    "Итак, мы получили два обработанных датафрейма cost_details и tariffs для дальнейшего анализа, полученные на основании данных, предоставленных компанией \"Мегалайн\" по пользователям двух тарифных планов: «Смарт» и «Ультра». "
   ]
  },
  {
   "cell_type": "markdown",
   "metadata": {},
   "source": [
    "## Расчёты и добавление результатов в таблицу\n",
    "\n",
    "Мы уже посчитали для каждого пользователя:\n",
    "- количество сделанных звонков и израсходованных минут разговора по месяцам;\n",
    "- количество отправленных сообщений по месяцам;\n",
    "- объем израсходованного интернет-трафика по месяцам;\n",
    "\n",
    "Теперь вычислим помесячную выручку с каждого пользователя, для этого сначала посчитаем для каждого пользователя помесячно расходы сверх тарифных пакетов:\n",
    "- стоимость дополнительных минут (колонка add_calls_cost таблицы cost_details) \n",
    "- стоимость дополнительных сообщений (колонка add_messages_cost таблицы cost_details)\n",
    "- стоимость допольнительного интернет-трафика (колонка add_gb_cost таблицы cost_details)\n",
    "\n",
    "Далее к стоимости расходов сверх тарифных пакетов прибавим абонентскую плату, соответствующую тарифному плану и запишем эту сумму в колонку total_cost таблицы cost_details."
   ]
  },
  {
   "cell_type": "code",
   "execution_count": 20,
   "metadata": {
    "scrolled": true
   },
   "outputs": [],
   "source": [
    "def add_calls_cost(row):\n",
    "    tariff = row['tariff']\n",
    "    calls_duration = row['calls_duration']\n",
    "    if tariff == 'smart' and calls_duration > tariffs['minutes_included'][0]:\n",
    "        return (calls_duration - tariffs['minutes_included'][0])*tariffs['rub_per_minute'][0]\n",
    "    elif tariff == 'ultra' and calls_duration > tariffs['minutes_included'][1]:\n",
    "        return (calls_duration - tariffs['minutes_included'][1])*tariffs['rub_per_minute'][1]\n",
    "    else:\n",
    "        return 0\n",
    "                   \n",
    "cost_details['add_calls_cost'] = cost_details.apply(add_calls_cost, axis=1)"
   ]
  },
  {
   "cell_type": "code",
   "execution_count": 21,
   "metadata": {
    "scrolled": true
   },
   "outputs": [],
   "source": [
    "def add_messages_cost(row):\n",
    "    tariff = row['tariff']\n",
    "    messages_quantity = row['messages_quantity']\n",
    "    if tariff == 'smart' and messages_quantity > tariffs['messages_included'][0]:\n",
    "        return (messages_quantity - tariffs['messages_included'][0])*tariffs['rub_per_message'][0]\n",
    "    elif tariff == 'ultra' and messages_quantity > tariffs['messages_included'][1]:\n",
    "        return (messages_quantity - tariffs['messages_included'][1])*tariffs['rub_per_message'][1]\n",
    "    else:\n",
    "        return 0\n",
    "                   \n",
    "cost_details['add_messages_cost'] = cost_details.apply(add_messages_cost, axis=1)"
   ]
  },
  {
   "cell_type": "code",
   "execution_count": 22,
   "metadata": {
    "scrolled": true
   },
   "outputs": [],
   "source": [
    "def add_gb_cost(row):\n",
    "    tariff = row['tariff']\n",
    "    gb_used = row['gb_used']\n",
    "    if tariff == 'smart' and gb_used > tariffs['gb_per_month_included'][0]:\n",
    "        return (gb_used - tariffs['gb_per_month_included'][0])*tariffs['rub_per_gb'][0]\n",
    "    elif tariff == 'ultra' and gb_used > tariffs['gb_per_month_included'][1]:\n",
    "        return (gb_used - tariffs['gb_per_month_included'][1])*tariffs['rub_per_gb'][1]\n",
    "    else:\n",
    "        return 0\n",
    "                   \n",
    "cost_details['add_gb_cost'] = cost_details.apply(add_gb_cost, axis=1)"
   ]
  },
  {
   "cell_type": "code",
   "execution_count": 23,
   "metadata": {},
   "outputs": [],
   "source": [
    "def total_cost(row):\n",
    "    tariff = row['tariff']\n",
    "    add_gb_cost = row['add_gb_cost'] \n",
    "    add_messages_cost = row['add_messages_cost'] \n",
    "    add_calls_cost = row['add_calls_cost']\n",
    "    if tariff == 'smart':\n",
    "        return (add_gb_cost + add_messages_cost + add_calls_cost + tariffs['rub_monthly_fee'][0])\n",
    "    else:\n",
    "        return (add_gb_cost + add_messages_cost + add_calls_cost + tariffs['rub_monthly_fee'][1])\n",
    "                   \n",
    "cost_details['total_cost'] = cost_details.apply(total_cost, axis=1)"
   ]
  },
  {
   "cell_type": "code",
   "execution_count": 24,
   "metadata": {
    "scrolled": true
   },
   "outputs": [
    {
     "data": {
      "text/html": [
       "<div>\n",
       "<style scoped>\n",
       "    .dataframe tbody tr th:only-of-type {\n",
       "        vertical-align: middle;\n",
       "    }\n",
       "\n",
       "    .dataframe tbody tr th {\n",
       "        vertical-align: top;\n",
       "    }\n",
       "\n",
       "    .dataframe thead th {\n",
       "        text-align: right;\n",
       "    }\n",
       "</style>\n",
       "<table border=\"1\" class=\"dataframe\">\n",
       "  <thead>\n",
       "    <tr style=\"text-align: right;\">\n",
       "      <th></th>\n",
       "      <th>user_id</th>\n",
       "      <th>age</th>\n",
       "      <th>churn_date</th>\n",
       "      <th>city</th>\n",
       "      <th>first_name</th>\n",
       "      <th>last_name</th>\n",
       "      <th>reg_date</th>\n",
       "      <th>tariff</th>\n",
       "      <th>month</th>\n",
       "      <th>gb_used</th>\n",
       "      <th>calls_quantity</th>\n",
       "      <th>calls_duration</th>\n",
       "      <th>messages_quantity</th>\n",
       "      <th>add_calls_cost</th>\n",
       "      <th>add_messages_cost</th>\n",
       "      <th>add_gb_cost</th>\n",
       "      <th>total_cost</th>\n",
       "    </tr>\n",
       "  </thead>\n",
       "  <tbody>\n",
       "    <tr>\n",
       "      <th>0</th>\n",
       "      <td>1000</td>\n",
       "      <td>52</td>\n",
       "      <td>2018-12-31</td>\n",
       "      <td>Краснодар</td>\n",
       "      <td>Рафаил</td>\n",
       "      <td>Верещагин</td>\n",
       "      <td>2018-05-25</td>\n",
       "      <td>ultra</td>\n",
       "      <td>5</td>\n",
       "      <td>3</td>\n",
       "      <td>22</td>\n",
       "      <td>159</td>\n",
       "      <td>22</td>\n",
       "      <td>0</td>\n",
       "      <td>0</td>\n",
       "      <td>0</td>\n",
       "      <td>1950</td>\n",
       "    </tr>\n",
       "    <tr>\n",
       "      <th>1</th>\n",
       "      <td>1000</td>\n",
       "      <td>52</td>\n",
       "      <td>2018-12-31</td>\n",
       "      <td>Краснодар</td>\n",
       "      <td>Рафаил</td>\n",
       "      <td>Верещагин</td>\n",
       "      <td>2018-05-25</td>\n",
       "      <td>ultra</td>\n",
       "      <td>6</td>\n",
       "      <td>23</td>\n",
       "      <td>43</td>\n",
       "      <td>172</td>\n",
       "      <td>60</td>\n",
       "      <td>0</td>\n",
       "      <td>0</td>\n",
       "      <td>0</td>\n",
       "      <td>1950</td>\n",
       "    </tr>\n",
       "    <tr>\n",
       "      <th>2</th>\n",
       "      <td>1000</td>\n",
       "      <td>52</td>\n",
       "      <td>2018-12-31</td>\n",
       "      <td>Краснодар</td>\n",
       "      <td>Рафаил</td>\n",
       "      <td>Верещагин</td>\n",
       "      <td>2018-05-25</td>\n",
       "      <td>ultra</td>\n",
       "      <td>7</td>\n",
       "      <td>14</td>\n",
       "      <td>47</td>\n",
       "      <td>340</td>\n",
       "      <td>75</td>\n",
       "      <td>0</td>\n",
       "      <td>0</td>\n",
       "      <td>0</td>\n",
       "      <td>1950</td>\n",
       "    </tr>\n",
       "    <tr>\n",
       "      <th>3</th>\n",
       "      <td>1000</td>\n",
       "      <td>52</td>\n",
       "      <td>2018-12-31</td>\n",
       "      <td>Краснодар</td>\n",
       "      <td>Рафаил</td>\n",
       "      <td>Верещагин</td>\n",
       "      <td>2018-05-25</td>\n",
       "      <td>ultra</td>\n",
       "      <td>8</td>\n",
       "      <td>14</td>\n",
       "      <td>52</td>\n",
       "      <td>408</td>\n",
       "      <td>81</td>\n",
       "      <td>0</td>\n",
       "      <td>0</td>\n",
       "      <td>0</td>\n",
       "      <td>1950</td>\n",
       "    </tr>\n",
       "    <tr>\n",
       "      <th>4</th>\n",
       "      <td>1000</td>\n",
       "      <td>52</td>\n",
       "      <td>2018-12-31</td>\n",
       "      <td>Краснодар</td>\n",
       "      <td>Рафаил</td>\n",
       "      <td>Верещагин</td>\n",
       "      <td>2018-05-25</td>\n",
       "      <td>ultra</td>\n",
       "      <td>9</td>\n",
       "      <td>15</td>\n",
       "      <td>58</td>\n",
       "      <td>466</td>\n",
       "      <td>57</td>\n",
       "      <td>0</td>\n",
       "      <td>0</td>\n",
       "      <td>0</td>\n",
       "      <td>1950</td>\n",
       "    </tr>\n",
       "  </tbody>\n",
       "</table>\n",
       "</div>"
      ],
      "text/plain": [
       "   user_id  age churn_date       city first_name  last_name   reg_date tariff  \\\n",
       "0     1000   52 2018-12-31  Краснодар     Рафаил  Верещагин 2018-05-25  ultra   \n",
       "1     1000   52 2018-12-31  Краснодар     Рафаил  Верещагин 2018-05-25  ultra   \n",
       "2     1000   52 2018-12-31  Краснодар     Рафаил  Верещагин 2018-05-25  ultra   \n",
       "3     1000   52 2018-12-31  Краснодар     Рафаил  Верещагин 2018-05-25  ultra   \n",
       "4     1000   52 2018-12-31  Краснодар     Рафаил  Верещагин 2018-05-25  ultra   \n",
       "\n",
       "   month  gb_used  calls_quantity  calls_duration  messages_quantity  \\\n",
       "0      5        3              22             159                 22   \n",
       "1      6       23              43             172                 60   \n",
       "2      7       14              47             340                 75   \n",
       "3      8       14              52             408                 81   \n",
       "4      9       15              58             466                 57   \n",
       "\n",
       "   add_calls_cost  add_messages_cost  add_gb_cost  total_cost  \n",
       "0               0                  0            0        1950  \n",
       "1               0                  0            0        1950  \n",
       "2               0                  0            0        1950  \n",
       "3               0                  0            0        1950  \n",
       "4               0                  0            0        1950  "
      ]
     },
     "execution_count": 24,
     "metadata": {},
     "output_type": "execute_result"
    }
   ],
   "source": [
    "cost_details.head()"
   ]
  },
  {
   "cell_type": "markdown",
   "metadata": {},
   "source": [
    "## Анализ данных\n",
    "\n",
    "Опишем поведение клиентов оператора, исходя из выборки. \n",
    "Сначала оценим с помощью функции describe оценим, сколько минут разговора, сколько сообщений и какой объём интернет-трафика требуется пользователям каждого тарифа в месяц."
   ]
  },
  {
   "cell_type": "code",
   "execution_count": 25,
   "metadata": {},
   "outputs": [
    {
     "data": {
      "text/html": [
       "<div>\n",
       "<style scoped>\n",
       "    .dataframe tbody tr th:only-of-type {\n",
       "        vertical-align: middle;\n",
       "    }\n",
       "\n",
       "    .dataframe tbody tr th {\n",
       "        vertical-align: top;\n",
       "    }\n",
       "\n",
       "    .dataframe thead th {\n",
       "        text-align: right;\n",
       "    }\n",
       "</style>\n",
       "<table border=\"1\" class=\"dataframe\">\n",
       "  <thead>\n",
       "    <tr style=\"text-align: right;\">\n",
       "      <th></th>\n",
       "      <th>count</th>\n",
       "      <th>mean</th>\n",
       "      <th>std</th>\n",
       "      <th>min</th>\n",
       "      <th>25%</th>\n",
       "      <th>50%</th>\n",
       "      <th>75%</th>\n",
       "      <th>max</th>\n",
       "    </tr>\n",
       "  </thead>\n",
       "  <tbody>\n",
       "    <tr>\n",
       "      <th>calls_duration</th>\n",
       "      <td>2229.0</td>\n",
       "      <td>417.934948</td>\n",
       "      <td>190.313730</td>\n",
       "      <td>0.0</td>\n",
       "      <td>282.0</td>\n",
       "      <td>422.0</td>\n",
       "      <td>545.0</td>\n",
       "      <td>1435.0</td>\n",
       "    </tr>\n",
       "    <tr>\n",
       "      <th>messages_quantity</th>\n",
       "      <td>2229.0</td>\n",
       "      <td>33.384029</td>\n",
       "      <td>28.227876</td>\n",
       "      <td>0.0</td>\n",
       "      <td>10.0</td>\n",
       "      <td>28.0</td>\n",
       "      <td>51.0</td>\n",
       "      <td>143.0</td>\n",
       "    </tr>\n",
       "    <tr>\n",
       "      <th>gb_used</th>\n",
       "      <td>2229.0</td>\n",
       "      <td>16.328847</td>\n",
       "      <td>5.747061</td>\n",
       "      <td>0.0</td>\n",
       "      <td>13.0</td>\n",
       "      <td>17.0</td>\n",
       "      <td>20.0</td>\n",
       "      <td>38.0</td>\n",
       "    </tr>\n",
       "  </tbody>\n",
       "</table>\n",
       "</div>"
      ],
      "text/plain": [
       "                    count        mean         std  min    25%    50%    75%  \\\n",
       "calls_duration     2229.0  417.934948  190.313730  0.0  282.0  422.0  545.0   \n",
       "messages_quantity  2229.0   33.384029   28.227876  0.0   10.0   28.0   51.0   \n",
       "gb_used            2229.0   16.328847    5.747061  0.0   13.0   17.0   20.0   \n",
       "\n",
       "                      max  \n",
       "calls_duration     1435.0  \n",
       "messages_quantity   143.0  \n",
       "gb_used              38.0  "
      ]
     },
     "execution_count": 25,
     "metadata": {},
     "output_type": "execute_result"
    }
   ],
   "source": [
    "cost_details.query('tariff ==\"smart\"')[['calls_duration','messages_quantity','gb_used']].describe().T"
   ]
  },
  {
   "cell_type": "code",
   "execution_count": 26,
   "metadata": {},
   "outputs": [
    {
     "data": {
      "text/html": [
       "<div>\n",
       "<style scoped>\n",
       "    .dataframe tbody tr th:only-of-type {\n",
       "        vertical-align: middle;\n",
       "    }\n",
       "\n",
       "    .dataframe tbody tr th {\n",
       "        vertical-align: top;\n",
       "    }\n",
       "\n",
       "    .dataframe thead th {\n",
       "        text-align: right;\n",
       "    }\n",
       "</style>\n",
       "<table border=\"1\" class=\"dataframe\">\n",
       "  <thead>\n",
       "    <tr style=\"text-align: right;\">\n",
       "      <th></th>\n",
       "      <th>count</th>\n",
       "      <th>mean</th>\n",
       "      <th>std</th>\n",
       "      <th>min</th>\n",
       "      <th>25%</th>\n",
       "      <th>50%</th>\n",
       "      <th>75%</th>\n",
       "      <th>max</th>\n",
       "    </tr>\n",
       "  </thead>\n",
       "  <tbody>\n",
       "    <tr>\n",
       "      <th>calls_duration</th>\n",
       "      <td>985.0</td>\n",
       "      <td>526.623350</td>\n",
       "      <td>317.606098</td>\n",
       "      <td>0.0</td>\n",
       "      <td>284.0</td>\n",
       "      <td>518.0</td>\n",
       "      <td>752.0</td>\n",
       "      <td>1673.0</td>\n",
       "    </tr>\n",
       "    <tr>\n",
       "      <th>messages_quantity</th>\n",
       "      <td>985.0</td>\n",
       "      <td>49.363452</td>\n",
       "      <td>47.804457</td>\n",
       "      <td>0.0</td>\n",
       "      <td>6.0</td>\n",
       "      <td>38.0</td>\n",
       "      <td>79.0</td>\n",
       "      <td>224.0</td>\n",
       "    </tr>\n",
       "    <tr>\n",
       "      <th>gb_used</th>\n",
       "      <td>985.0</td>\n",
       "      <td>19.494416</td>\n",
       "      <td>9.853511</td>\n",
       "      <td>0.0</td>\n",
       "      <td>12.0</td>\n",
       "      <td>19.0</td>\n",
       "      <td>27.0</td>\n",
       "      <td>49.0</td>\n",
       "    </tr>\n",
       "  </tbody>\n",
       "</table>\n",
       "</div>"
      ],
      "text/plain": [
       "                   count        mean         std  min    25%    50%    75%  \\\n",
       "calls_duration     985.0  526.623350  317.606098  0.0  284.0  518.0  752.0   \n",
       "messages_quantity  985.0   49.363452   47.804457  0.0    6.0   38.0   79.0   \n",
       "gb_used            985.0   19.494416    9.853511  0.0   12.0   19.0   27.0   \n",
       "\n",
       "                      max  \n",
       "calls_duration     1673.0  \n",
       "messages_quantity   224.0  \n",
       "gb_used              49.0  "
      ]
     },
     "execution_count": 26,
     "metadata": {},
     "output_type": "execute_result"
    }
   ],
   "source": [
    "cost_details.query('tariff ==\"ultra\"')[['calls_duration','messages_quantity','gb_used']].describe().T"
   ]
  },
  {
   "cell_type": "code",
   "execution_count": 27,
   "metadata": {},
   "outputs": [
    {
     "data": {
      "text/html": [
       "<div>\n",
       "<style scoped>\n",
       "    .dataframe tbody tr th:only-of-type {\n",
       "        vertical-align: middle;\n",
       "    }\n",
       "\n",
       "    .dataframe tbody tr th {\n",
       "        vertical-align: top;\n",
       "    }\n",
       "\n",
       "    .dataframe thead th {\n",
       "        text-align: right;\n",
       "    }\n",
       "</style>\n",
       "<table border=\"1\" class=\"dataframe\">\n",
       "  <thead>\n",
       "    <tr style=\"text-align: right;\">\n",
       "      <th></th>\n",
       "      <th>messages_included</th>\n",
       "      <th>gb_per_month_included</th>\n",
       "      <th>minutes_included</th>\n",
       "      <th>rub_monthly_fee</th>\n",
       "      <th>rub_per_gb</th>\n",
       "      <th>rub_per_message</th>\n",
       "      <th>rub_per_minute</th>\n",
       "      <th>tariff_name</th>\n",
       "    </tr>\n",
       "  </thead>\n",
       "  <tbody>\n",
       "    <tr>\n",
       "      <th>0</th>\n",
       "      <td>50</td>\n",
       "      <td>15</td>\n",
       "      <td>500</td>\n",
       "      <td>550</td>\n",
       "      <td>200</td>\n",
       "      <td>3</td>\n",
       "      <td>3</td>\n",
       "      <td>smart</td>\n",
       "    </tr>\n",
       "    <tr>\n",
       "      <th>1</th>\n",
       "      <td>1000</td>\n",
       "      <td>30</td>\n",
       "      <td>3000</td>\n",
       "      <td>1950</td>\n",
       "      <td>150</td>\n",
       "      <td>1</td>\n",
       "      <td>1</td>\n",
       "      <td>ultra</td>\n",
       "    </tr>\n",
       "  </tbody>\n",
       "</table>\n",
       "</div>"
      ],
      "text/plain": [
       "   messages_included  gb_per_month_included  minutes_included  \\\n",
       "0                 50                     15               500   \n",
       "1               1000                     30              3000   \n",
       "\n",
       "   rub_monthly_fee  rub_per_gb  rub_per_message  rub_per_minute tariff_name  \n",
       "0              550         200                3               3       smart  \n",
       "1             1950         150                1               1       ultra  "
      ]
     },
     "execution_count": 27,
     "metadata": {},
     "output_type": "execute_result"
    }
   ],
   "source": [
    "tariffs.head()"
   ]
  },
  {
   "cell_type": "markdown",
   "metadata": {},
   "source": [
    "Итак, в нашей выборке оказалось больше пользователей тарифа smart, чем ultra. При этом как минимум 50% пользователей платят за дополнительный интернет при тарифе smart. В среднем пользователям данного тарифа достаточно 418 минут разговоров, 34 сообщений и 17 гб интернета в месяц. Тарифом ultra пользуется почти в 2,3 раза меньше людей из выборки, при этом 75% пользователей не нуждаются в каких-либо дополнительных минутах, сообщениях и гигабайтах, эти 75% укладываются в лимиты по своему тарифу. В среднем пользователям тарифа ultra достаточно 527 минут разговоров, 50 сообщений и 20 гб в месяц."
   ]
  },
  {
   "cell_type": "markdown",
   "metadata": {},
   "source": [
    "Отдельно посчитаем медианные значения и дисперсии, дополним таблицу также стандартными отклонениямии средними зачениями для наглядности"
   ]
  },
  {
   "cell_type": "code",
   "execution_count": 28,
   "metadata": {},
   "outputs": [
    {
     "data": {
      "text/html": [
       "<div>\n",
       "<style scoped>\n",
       "    .dataframe tbody tr th:only-of-type {\n",
       "        vertical-align: middle;\n",
       "    }\n",
       "\n",
       "    .dataframe tbody tr th {\n",
       "        vertical-align: top;\n",
       "    }\n",
       "\n",
       "    .dataframe thead tr th {\n",
       "        text-align: left;\n",
       "    }\n",
       "\n",
       "    .dataframe thead tr:last-of-type th {\n",
       "        text-align: right;\n",
       "    }\n",
       "</style>\n",
       "<table border=\"1\" class=\"dataframe\">\n",
       "  <thead>\n",
       "    <tr>\n",
       "      <th></th>\n",
       "      <th colspan=\"3\" halign=\"left\">mean</th>\n",
       "      <th colspan=\"3\" halign=\"left\">median</th>\n",
       "      <th colspan=\"3\" halign=\"left\">var</th>\n",
       "      <th colspan=\"3\" halign=\"left\">std</th>\n",
       "    </tr>\n",
       "    <tr>\n",
       "      <th></th>\n",
       "      <th>calls_duration</th>\n",
       "      <th>gb_used</th>\n",
       "      <th>messages_quantity</th>\n",
       "      <th>calls_duration</th>\n",
       "      <th>gb_used</th>\n",
       "      <th>messages_quantity</th>\n",
       "      <th>calls_duration</th>\n",
       "      <th>gb_used</th>\n",
       "      <th>messages_quantity</th>\n",
       "      <th>calls_duration</th>\n",
       "      <th>gb_used</th>\n",
       "      <th>messages_quantity</th>\n",
       "    </tr>\n",
       "    <tr>\n",
       "      <th>tariff</th>\n",
       "      <th></th>\n",
       "      <th></th>\n",
       "      <th></th>\n",
       "      <th></th>\n",
       "      <th></th>\n",
       "      <th></th>\n",
       "      <th></th>\n",
       "      <th></th>\n",
       "      <th></th>\n",
       "      <th></th>\n",
       "      <th></th>\n",
       "      <th></th>\n",
       "    </tr>\n",
       "  </thead>\n",
       "  <tbody>\n",
       "    <tr>\n",
       "      <th>smart</th>\n",
       "      <td>417.934948</td>\n",
       "      <td>16.328847</td>\n",
       "      <td>33.384029</td>\n",
       "      <td>422</td>\n",
       "      <td>17</td>\n",
       "      <td>28</td>\n",
       "      <td>36219.315784</td>\n",
       "      <td>33.028705</td>\n",
       "      <td>796.812958</td>\n",
       "      <td>190.313730</td>\n",
       "      <td>5.747061</td>\n",
       "      <td>28.227876</td>\n",
       "    </tr>\n",
       "    <tr>\n",
       "      <th>ultra</th>\n",
       "      <td>526.623350</td>\n",
       "      <td>19.494416</td>\n",
       "      <td>49.363452</td>\n",
       "      <td>518</td>\n",
       "      <td>19</td>\n",
       "      <td>38</td>\n",
       "      <td>100873.633397</td>\n",
       "      <td>97.091686</td>\n",
       "      <td>2285.266143</td>\n",
       "      <td>317.606098</td>\n",
       "      <td>9.853511</td>\n",
       "      <td>47.804457</td>\n",
       "    </tr>\n",
       "  </tbody>\n",
       "</table>\n",
       "</div>"
      ],
      "text/plain": [
       "                 mean                                      median          \\\n",
       "       calls_duration    gb_used messages_quantity calls_duration gb_used   \n",
       "tariff                                                                      \n",
       "smart      417.934948  16.328847         33.384029            422      17   \n",
       "ultra      526.623350  19.494416         49.363452            518      19   \n",
       "\n",
       "                                    var                               \\\n",
       "       messages_quantity calls_duration    gb_used messages_quantity   \n",
       "tariff                                                                 \n",
       "smart                 28   36219.315784  33.028705        796.812958   \n",
       "ultra                 38  100873.633397  97.091686       2285.266143   \n",
       "\n",
       "                  std                              \n",
       "       calls_duration   gb_used messages_quantity  \n",
       "tariff                                             \n",
       "smart      190.313730  5.747061         28.227876  \n",
       "ultra      317.606098  9.853511         47.804457  "
      ]
     },
     "execution_count": 28,
     "metadata": {},
     "output_type": "execute_result"
    }
   ],
   "source": [
    "cost_details.pivot_table(index = 'tariff', values = ['calls_duration', 'messages_quantity', 'gb_used'], aggfunc = ['mean','median','var','std'])"
   ]
  },
  {
   "cell_type": "markdown",
   "metadata": {},
   "source": [
    "Несмотря на то, что пользователей с тарифом smart почти в 2,3 больше, чем пользователей с тарифом ultra, разброс данных относительно средних показателей по длительности разговоров, количеству сообщений и гигабайт в месяц среди пользователей с тарифом ultra в разы больше, отсюда можем сделать вывод, что публика, пользующаяся тарифом ultra - более разношёрстная.\n",
    "\n",
    "При этом относительная близость средних и медианных значений говорит нам о том, что распределение пользователей внутри каждого тарифа близко к нормальному, просто, скорее всего для пользователей тарифа smart \"хвосты\" распределения будут короче, чем для пользователей тарифа ultra, тут \"хвосты\" будут длинее, т.е. встретятся как пользователи, которые значительно выходят за рамки лимитов по тарифу, так и те, кто даже на самый минимум его не исчерпывает.\n",
    "Также можем обратить внимание на то, данные по количеству потраченных минут и гигабайт интернета среди пользователей тарифа smart немного скошены вправо(медиана выше среднего), а данные по количеству отправленных сообщений, наоборот, немного скошены влево (медиана ниже среднего),что означает, что чуть бОльшая часть пользователей тарифа smart тяготеет к телефонным разговорам, а не к перепискам.\n",
    "Среди пользователей тарифа ultra наблюдается другая картина: данные по количеству минут, гигабайт и сообщений скошены влево (медиана ниже среднего.\n",
    "\n",
    "Стандартное отклонение показывает нам, как далеко от среднего значения находятся точки данных: чем меньше стандартное отклонение, тем более «сгруппированы» данные вокруг среднего, чем отклонение больше, тем больше разброс значений.\n",
    "Очевидно, что среди пользователей тарифа smart разброс значений в 1,6-1,7 раз меньше, чем среди пользователей тарифа ultra."
   ]
  },
  {
   "cell_type": "markdown",
   "metadata": {},
   "source": [
    "Строим гистограммы по среднему количеству минут, сообщений и гигабайт пользователей тарифа smart:"
   ]
  },
  {
   "cell_type": "code",
   "execution_count": 29,
   "metadata": {},
   "outputs": [
    {
     "data": {
      "image/png": "[encoded data removed]",
      "text/plain": [
       "<Figure size 432x288 with 1 Axes>"
      ]
     },
     "metadata": {
      "needs_background": "light"
     },
     "output_type": "display_data"
    },
    {
     "data": {
      "image/png": "[encoded data removed]",
      "text/plain": [
       "<Figure size 432x288 with 1 Axes>"
      ]
     },
     "metadata": {
      "needs_background": "light"
     },
     "output_type": "display_data"
    },
    {
     "data": {
      "text/plain": [
       "<AxesSubplot:title={'center':'gb_used_smart'}, ylabel='Frequency'>"
      ]
     },
     "execution_count": 29,
     "metadata": {},
     "output_type": "execute_result"
    },
    {
     "data": {
      "image/png": "[encoded data removed]",
      "text/plain": [
       "<Figure size 432x288 with 1 Axes>"
      ]
     },
     "metadata": {
      "needs_background": "light"
     },
     "output_type": "display_data"
    }
   ],
   "source": [
    "cost_details.query('tariff ==\"smart\"')['calls_duration'].plot(kind='hist', title='calls_duration_smart')\n",
    "plt.show()\n",
    "cost_details.query('tariff ==\"smart\"')['messages_quantity'].plot(kind='hist', title='messages_quantity_smart')\n",
    "plt.show()\n",
    "cost_details.query('tariff ==\"smart\"')['gb_used'].plot(kind='hist', title='gb_used_smart')"
   ]
  },
  {
   "cell_type": "markdown",
   "metadata": {},
   "source": [
    "Как и предполагали по результатам расчётов средних, медианных значений, гистограммы количества минут и гигабайт близки к нормальным распределениям, а вот диаграмма по количеству сообщений показывает планомерное снижение количества пользователей, которые вообще пользуются таким средством коммуникации, как сообщения, очевидно, что сейчас люди чаще пользуются мессенджерами,на которые тратится интернет, а не обычными смс-ками. Из гистограмм мы видим, что наибольшее количество пользователей выговаривает примерно от 300 до 600 минут, в пользовании интеренетом видим два пика - 12-15 гб и 20-22? гб, очевидно, что как минимум половине пользователей тарифа smart не хватает лимита гигабайт, предложенного \"Мегалайном\" для данного тарифа."
   ]
  },
  {
   "cell_type": "markdown",
   "metadata": {},
   "source": [
    "Строим гистограммы по среднему количеству минут, сообщений и гигабайт пользователей тарифа ultra:"
   ]
  },
  {
   "cell_type": "code",
   "execution_count": 30,
   "metadata": {},
   "outputs": [
    {
     "data": {
      "image/png": "[encoded data removed]",
      "text/plain": [
       "<Figure size 432x288 with 1 Axes>"
      ]
     },
     "metadata": {
      "needs_background": "light"
     },
     "output_type": "display_data"
    },
    {
     "data": {
      "image/png": "[encoded data removed]",
      "text/plain": [
       "<Figure size 432x288 with 1 Axes>"
      ]
     },
     "metadata": {
      "needs_background": "light"
     },
     "output_type": "display_data"
    },
    {
     "data": {
      "text/plain": [
       "<AxesSubplot:title={'center':'gb_used_ultra'}, ylabel='Frequency'>"
      ]
     },
     "execution_count": 30,
     "metadata": {},
     "output_type": "execute_result"
    },
    {
     "data": {
      "image/png": "[encoded data removed]",
      "text/plain": [
       "<Figure size 432x288 with 1 Axes>"
      ]
     },
     "metadata": {
      "needs_background": "light"
     },
     "output_type": "display_data"
    }
   ],
   "source": [
    "cost_details.query('tariff ==\"ultra\"')['calls_duration'].plot(kind='hist', title='calls_duration_ultra')\n",
    "plt.show()\n",
    "cost_details.query('tariff ==\"ultra\"')['messages_quantity'].plot(kind='hist', title='messages_quantity_ultra')\n",
    "plt.show()\n",
    "cost_details.query('tariff ==\"ultra\"')['gb_used'].plot(kind='hist', title='gb_used_ultra')"
   ]
  },
  {
   "cell_type": "markdown",
   "metadata": {},
   "source": [
    "Большинство пользователей тарифа ultra не тратят больше 800 минут в месяц, смс-ками также пользуюся совсем немногие, интернет трафик - также в пределах предложенного по тарифу у большинства пользователей.Получается, что тариф ultra полностью покрывает нужды бОльшинства пользователей в звонках, гигабайтах и сообщениях, порой даже с лихвой."
   ]
  },
  {
   "cell_type": "code",
   "execution_count": 31,
   "metadata": {},
   "outputs": [
    {
     "data": {
      "text/plain": [
       "Text(9.777777777777779, 0.5, 'пользователи, кол-во чел.')"
      ]
     },
     "execution_count": 31,
     "metadata": {},
     "output_type": "execute_result"
    },
    {
     "data": {
      "image/png": "[encoded data removed]",
      "text/plain": [
       "<Figure size 425x360 with 1 Axes>"
      ]
     },
     "metadata": {
      "needs_background": "light"
     },
     "output_type": "display_data"
    }
   ],
   "source": [
    "sns.displot(x='calls_duration', hue='tariff', multiple='dodge', data=cost_details)\n",
    "plt.title('Количество потраченных минут в месяц')\n",
    "plt.xlabel('минуты')\n",
    "plt.ylabel('пользователи, кол-во чел.')"
   ]
  },
  {
   "cell_type": "code",
   "execution_count": 32,
   "metadata": {},
   "outputs": [
    {
     "data": {
      "text/plain": [
       "Text(9.777777777777779, 0.5, 'пользователи, кол-во чел.')"
      ]
     },
     "execution_count": 32,
     "metadata": {},
     "output_type": "execute_result"
    },
    {
     "data": {
      "image/png": "[encoded data removed]",
      "text/plain": [
       "<Figure size 425x360 with 1 Axes>"
      ]
     },
     "metadata": {
      "needs_background": "light"
     },
     "output_type": "display_data"
    }
   ],
   "source": [
    "sns.displot(x='messages_quantity', hue='tariff', multiple='dodge', data=cost_details)\n",
    "plt.title('Количество написанных сообщений в месяц')\n",
    "plt.xlabel('сообщения, шт.')\n",
    "plt.ylabel('пользователи, кол-во чел.')"
   ]
  },
  {
   "cell_type": "code",
   "execution_count": 33,
   "metadata": {},
   "outputs": [
    {
     "data": {
      "text/plain": [
       "Text(9.777777777777779, 0.5, 'пользователи, кол-во чел.')"
      ]
     },
     "execution_count": 33,
     "metadata": {},
     "output_type": "execute_result"
    },
    {
     "data": {
      "image/png": "[encoded data removed]",
      "text/plain": [
       "<Figure size 425x360 with 1 Axes>"
      ]
     },
     "metadata": {
      "needs_background": "light"
     },
     "output_type": "display_data"
    }
   ],
   "source": [
    "sns.displot(x='gb_used', hue='tariff', multiple='dodge', data=cost_details)\n",
    "plt.title('Объём потраченного интернет-трафика за месяц')\n",
    "plt.xlabel('интернет-трафик, gb')\n",
    "plt.ylabel('пользователи, кол-во чел.')"
   ]
  },
  {
   "cell_type": "code",
   "execution_count": 34,
   "metadata": {},
   "outputs": [
    {
     "data": {
      "text/plain": [
       "Text(12.902777777777779, 0.5, 'пользователи, кол-во чел.')"
      ]
     },
     "execution_count": 34,
     "metadata": {},
     "output_type": "execute_result"
    },
    {
     "data": {
      "image/png": "[encoded data removed]",
      "text/plain": [
       "<Figure size 425x360 with 1 Axes>"
      ]
     },
     "metadata": {
      "needs_background": "light"
     },
     "output_type": "display_data"
    }
   ],
   "source": [
    "cost_details['user_stability'] = cost_details['churn_date'] - cost_details['reg_date']\n",
    "cost_details['user_stability'] = pd.to_numeric(cost_details['user_stability'])\n",
    "sns.displot(x='user_stability', hue='tariff', data=cost_details, kind='kde')\n",
    "plt.title('Сроки обслуживания пользователя')\n",
    "plt.xlabel('срок пользования тарифом, дни')\n",
    "plt.ylabel('пользователи, кол-во чел.')\n"
   ]
  },
  {
   "cell_type": "code",
   "execution_count": 35,
   "metadata": {
    "scrolled": true
   },
   "outputs": [
    {
     "data": {
      "text/plain": [
       "Text(0, 0.5, 'наименование тарифа')"
      ]
     },
     "execution_count": 35,
     "metadata": {},
     "output_type": "execute_result"
    },
    {
     "data": {
      "image/png": "[encoded data removed]",
      "text/plain": [
       "<Figure size 432x288 with 1 Axes>"
      ]
     },
     "metadata": {
      "needs_background": "light"
     },
     "output_type": "display_data"
    }
   ],
   "source": [
    "sns.boxplot(x=\"age\", y=\"tariff\", data=cost_details)\n",
    "plt.title('Возрастные категории пользователей')\n",
    "plt.xlabel('возраст пользователя, годы')\n",
    "plt.ylabel('наименование тарифа')\n"
   ]
  },
  {
   "cell_type": "markdown",
   "metadata": {},
   "source": [
    "## Проверка гипотез\n",
    "\n",
    "Проверим первую гипотезу о том, что средняя выручка пользователей тарифов «Ультра» и «Смарт» различаются.\n",
    "В данном случае нам нужно сравнивать средние двух генеральных совокупностей между собой. \n",
    "\n",
    "Сформулируем нулевую гипотезу H₀ так: «средняя выручка пользователей тарифов \"Ультра\" равна средней выручке пользователейтарифов \"Смарт\"».\n",
    "Исходя из нулевой гипотезы H₀ сформулируем альтернативную гипотезу H₁. Это утверждение, которое принимается верным, если отбрасывается H₀, т.е.в нашем случае оно будет звучать так: «средняя выручка пользователей тарифов \"Ультра\" не равна средней выручке пользователейтарифов \"Смарт\"». \n",
    "\n",
    "Гипотезу будем проверять специальным методом для проверки гипотезы о равенстве среднего двух генеральных совокупностей по взятым из них выборкам: scipy.stats.ttest_ind (array1, array2, equal_var), так как наши генеральные совокупности не зависят друг от друга. Для корректного применения данного метода и с учётом того, что размеры выборок у нас отличаются, рассчитаем дисперсии рассматриваемых генеральных совокупностей."
   ]
  },
  {
   "cell_type": "code",
   "execution_count": 36,
   "metadata": {},
   "outputs": [
    {
     "data": {
      "text/html": [
       "<div>\n",
       "<style scoped>\n",
       "    .dataframe tbody tr th:only-of-type {\n",
       "        vertical-align: middle;\n",
       "    }\n",
       "\n",
       "    .dataframe tbody tr th {\n",
       "        vertical-align: top;\n",
       "    }\n",
       "\n",
       "    .dataframe thead tr th {\n",
       "        text-align: left;\n",
       "    }\n",
       "\n",
       "    .dataframe thead tr:last-of-type th {\n",
       "        text-align: right;\n",
       "    }\n",
       "</style>\n",
       "<table border=\"1\" class=\"dataframe\">\n",
       "  <thead>\n",
       "    <tr>\n",
       "      <th></th>\n",
       "      <th>count</th>\n",
       "      <th>var</th>\n",
       "      <th>std</th>\n",
       "    </tr>\n",
       "    <tr>\n",
       "      <th></th>\n",
       "      <th>total_cost</th>\n",
       "      <th>total_cost</th>\n",
       "      <th>total_cost</th>\n",
       "    </tr>\n",
       "    <tr>\n",
       "      <th>tariff</th>\n",
       "      <th></th>\n",
       "      <th></th>\n",
       "      <th></th>\n",
       "    </tr>\n",
       "  </thead>\n",
       "  <tbody>\n",
       "    <tr>\n",
       "      <th>smart</th>\n",
       "      <td>2229</td>\n",
       "      <td>669785.708006</td>\n",
       "      <td>818.404367</td>\n",
       "    </tr>\n",
       "    <tr>\n",
       "      <th>ultra</th>\n",
       "      <td>985</td>\n",
       "      <td>141516.745079</td>\n",
       "      <td>376.187114</td>\n",
       "    </tr>\n",
       "  </tbody>\n",
       "</table>\n",
       "</div>"
      ],
      "text/plain": [
       "            count            var         std\n",
       "       total_cost     total_cost  total_cost\n",
       "tariff                                      \n",
       "smart        2229  669785.708006  818.404367\n",
       "ultra         985  141516.745079  376.187114"
      ]
     },
     "execution_count": 36,
     "metadata": {},
     "output_type": "execute_result"
    }
   ],
   "source": [
    "cost_details.pivot_table(index = 'tariff', values = 'total_cost', aggfunc = ['count','var','std'])"
   ]
  },
  {
   "cell_type": "markdown",
   "metadata": {},
   "source": [
    "Дисперсии выборок сильно отличаются, таким образом будем указывать equal_var = False при вызове метода scipy.stats.ttest_ind(), в качестве критического уровня статистической значимости зададим alpha=0.05."
   ]
  },
  {
   "cell_type": "code",
   "execution_count": 37,
   "metadata": {},
   "outputs": [
    {
     "name": "stdout",
     "output_type": "stream",
     "text": [
      "p-значение:  4.2606313931076085e-250\n",
      "Принимаем альтернативную гипотезу\n"
     ]
    }
   ],
   "source": [
    "ultra_costs = cost_details.query('tariff == \"ultra\"')['total_cost'] \n",
    "smart_costs = cost_details.query('tariff == \"smart\"')['total_cost'] \n",
    "results = st.ttest_ind( ultra_costs, smart_costs, equal_var=False)\n",
    "alpha = 0.05\n",
    "\n",
    "print('p-значение: ', results.pvalue)\n",
    "if results.pvalue < alpha:\n",
    "    print('Принимаем альтернативную гипотезу')\n",
    "else:\n",
    "    print('Опровергнуть нулевую гипотезу нельзя')"
   ]
  },
  {
   "cell_type": "markdown",
   "metadata": {},
   "source": [
    "Получается, что в нашем случае нужно принимать альтернативную гипотезу о том, что средняя выручка пользователей тарифов \"Ультра\" не равна средней выручке пользователейтарифов \"Смарт\", следовательно, изначальная гипотеза о том, что средняя выручка пользователей тарифов «Ультра» и «Смарт» различаются подтверждена.\n",
    "На всякий случай, можем дополнительно убедиться в этом, рассчитав средние показатели выручки с помощью функции mean в сводной таблице по тарифам."
   ]
  },
  {
   "cell_type": "code",
   "execution_count": 38,
   "metadata": {
    "scrolled": true
   },
   "outputs": [
    {
     "data": {
      "text/html": [
       "<div>\n",
       "<style scoped>\n",
       "    .dataframe tbody tr th:only-of-type {\n",
       "        vertical-align: middle;\n",
       "    }\n",
       "\n",
       "    .dataframe tbody tr th {\n",
       "        vertical-align: top;\n",
       "    }\n",
       "\n",
       "    .dataframe thead th {\n",
       "        text-align: right;\n",
       "    }\n",
       "</style>\n",
       "<table border=\"1\" class=\"dataframe\">\n",
       "  <thead>\n",
       "    <tr style=\"text-align: right;\">\n",
       "      <th></th>\n",
       "      <th>total_cost</th>\n",
       "    </tr>\n",
       "    <tr>\n",
       "      <th>tariff</th>\n",
       "      <th></th>\n",
       "    </tr>\n",
       "  </thead>\n",
       "  <tbody>\n",
       "    <tr>\n",
       "      <th>smart</th>\n",
       "      <td>1289.973531</td>\n",
       "    </tr>\n",
       "    <tr>\n",
       "      <th>ultra</th>\n",
       "      <td>2070.152284</td>\n",
       "    </tr>\n",
       "  </tbody>\n",
       "</table>\n",
       "</div>"
      ],
      "text/plain": [
       "         total_cost\n",
       "tariff             \n",
       "smart   1289.973531\n",
       "ultra   2070.152284"
      ]
     },
     "execution_count": 38,
     "metadata": {},
     "output_type": "execute_result"
    }
   ],
   "source": [
    "cost_details.pivot_table(index='tariff', values='total_cost')"
   ]
  },
  {
   "cell_type": "markdown",
   "metadata": {},
   "source": [
    "Проверим вторую гипотезу о том, что средняя выручка пользователей из Москвы отличается от выручки пользователей из других регионов. Тут также нужно сравнивать средние двух генеральных совокупностей между собой. \n",
    "\n",
    "Сформулируем нулевую гипотезу H₀ так: «средняя выручка пользователей из Москвы не отличается от выручки пользователей из других регионов, т.е. средние выручки равны\". Альтернативную гипотезу H₁ сформулируем так: \"средняя выручка пользователей из Москвы отличается от выручки пользователей из других регионов, т.е. средние выручки не равны\".\n",
    "\n",
    "Гипотезу будем проверять специальным методом для проверки гипотезы о равенстве среднего двух генеральных совокупностей по взятым из них выборкам: scipy.stats.ttest_ind (array1, array2, equal_var), так как наши генеральные совокупности не зависят друг от друга. Для корректного применения данного метода также рассчитаем дисперсии рассматриваемых генеральных совокупностей."
   ]
  },
  {
   "cell_type": "code",
   "execution_count": 39,
   "metadata": {
    "scrolled": true
   },
   "outputs": [
    {
     "name": "stdout",
     "output_type": "stream",
     "text": [
      "Дисперсия средней выручки по Москве 564710.7117467269\n",
      "Дисперсия средней выручки в других регионах 653886.3270894104\n"
     ]
    }
   ],
   "source": [
    "variance_moscow = np.var(cost_details.query('city ==\"Москва\"')['total_cost'])\n",
    "print('Дисперсия средней выручки по Москве', variance_moscow)\n",
    "variance_others = np.var(cost_details.query('city !=\"Москва\"')['total_cost'])\n",
    "print('Дисперсия средней выручки в других регионах', variance_others)"
   ]
  },
  {
   "cell_type": "markdown",
   "metadata": {},
   "source": [
    "Теперь визуализируем выборки с помощью категориального графика boxplot."
   ]
  },
  {
   "cell_type": "code",
   "execution_count": 40,
   "metadata": {
    "scrolled": true
   },
   "outputs": [
    {
     "data": {
      "text/plain": [
       "<AxesSubplot:xlabel='Moscow', ylabel='total_cost'>"
      ]
     },
     "execution_count": 40,
     "metadata": {},
     "output_type": "execute_result"
    },
    {
     "data": {
      "image/png": "[encoded data removed]",
      "text/plain": [
       "<Figure size 432x288 with 1 Axes>"
      ]
     },
     "metadata": {
      "needs_background": "light"
     },
     "output_type": "display_data"
    }
   ],
   "source": [
    "cost_details['Moscow'] = cost_details['city'] == 'Москва'\n",
    "sns.boxplot(x='Moscow', y='total_cost', data=cost_details)"
   ]
  },
  {
   "cell_type": "markdown",
   "metadata": {},
   "source": [
    "Из графика можем сделать вывод, что разброс данных в обеих выборках примерно одинаков, в выборке по другим регионам - больше выбросов, чем в выборке по Москве, в Москве медианное значение больше, чем в других регионах, но, в целом, обе медианы больше средних значений.\n",
    "\n",
    "Теперь визуализируем выборки наложением гистограм для каждой из выборок."
   ]
  },
  {
   "cell_type": "code",
   "execution_count": 41,
   "metadata": {},
   "outputs": [
    {
     "data": {
      "text/plain": [
       "<matplotlib.legend.Legend at 0x7f80c1ac6740>"
      ]
     },
     "execution_count": 41,
     "metadata": {},
     "output_type": "execute_result"
    },
    {
     "data": {
      "image/png": "[encoded data removed]",
      "text/plain": [
       "<Figure size 432x288 with 1 Axes>"
      ]
     },
     "metadata": {
      "needs_background": "light"
     },
     "output_type": "display_data"
    }
   ],
   "source": [
    "plt.hist([cost_details.query('city==\"Москва\"')['total_cost'], cost_details.query('city!=\"Москва\"')['total_cost']])\n",
    "name = ['Moscow', 'other']\n",
    "plt.title('Средняя выручка в месяц')\n",
    "plt.xlabel('выручка, руб.')\n",
    "plt.ylabel('пользователи, кол-во чел.')\n",
    "plt.legend(labels=name)"
   ]
  },
  {
   "cell_type": "markdown",
   "metadata": {},
   "source": [
    " Видим, схожий рисунок изменения выручки, как для Москвы, так и для других регионов."
   ]
  },
  {
   "cell_type": "markdown",
   "metadata": {},
   "source": [
    "Как мы помним, дисперсии выборок сильно отличаются, таким образом будем указывать equal_var = False при вызове метода scipy.stats.ttest_ind(), в качестве критического уровня статистической значимости зададим alpha=0.05."
   ]
  },
  {
   "cell_type": "code",
   "execution_count": 42,
   "metadata": {},
   "outputs": [
    {
     "name": "stdout",
     "output_type": "stream",
     "text": [
      "p-значение:  0.5257376663729298\n",
      "Не получилось опровергнуть нулевую гипотезу\n"
     ]
    }
   ],
   "source": [
    "moscow_costs = cost_details.query('city ==\"Москва\"')['total_cost'] \n",
    "other_costs = cost_details.query('city !=\"Москва\"')['total_cost'] \n",
    "results = st.ttest_ind( moscow_costs, other_costs, equal_var=False)\n",
    "alpha = 0.05\n",
    "\n",
    "print('p-значение: ', results.pvalue)\n",
    "if results.pvalue < alpha:\n",
    "    print('Опровергаем нулевую гипотезу')\n",
    "else:\n",
    "    print('Не получилось опровергнуть нулевую гипотезу')"
   ]
  },
  {
   "cell_type": "markdown",
   "metadata": {},
   "source": [
    "Итак, нулевую гипотезу о том, что средняя выручка пользователей из Москвы равна выручке пользователей из других регионов, опровергнуть не получилось, а значит вторая гипотеза не подтвердилась, и средняя выручка пользователей из Москвы не отличается от выручки пользователей из других регионов с вероятностью 5%, т.е. в 95% случаев, средняя выручка пользователей из Москвы равна средней выручке пользователей из других регионов.\n",
    "На всякий случай, также можем дополнительно убедиться в этом, рассчитав средние показатели выручки с помощью функции mean."
   ]
  },
  {
   "cell_type": "code",
   "execution_count": 43,
   "metadata": {},
   "outputs": [
    {
     "data": {
      "text/plain": [
       "1546.7135842880523"
      ]
     },
     "execution_count": 43,
     "metadata": {},
     "output_type": "execute_result"
    }
   ],
   "source": [
    "cost_details.query('city ==\"Москва\"')['total_cost'].mean()"
   ]
  },
  {
   "cell_type": "code",
   "execution_count": 44,
   "metadata": {
    "scrolled": true
   },
   "outputs": [
    {
     "data": {
      "text/plain": [
       "1524.9362274298885"
      ]
     },
     "execution_count": 44,
     "metadata": {},
     "output_type": "execute_result"
    }
   ],
   "source": [
    "cost_details.query('city !=\"Москва\"')['total_cost'].mean()"
   ]
  },
  {
   "cell_type": "markdown",
   "metadata": {},
   "source": [
    "## Общий вывод\n",
    "\n",
    "В результате проведённого анализа тарифных планов компании «Мегалайн» на выборке 500 пользователей двух различных тарифов, мы смогли оценить поведение клиентов.\n",
    "\n",
    "Несмотря на то, что пользователей с тарифом smart почти в 2,3 больше, чем пользователей с тарифом ultra, средняя выручка пользователей smart в 1,6 раз меньше, чем средняя выручка пользователей ultra.\n",
    "При этом, пользователи ultra практически не докупают дополнительные минуты и гигабайты, укладываются в рамки своего тарифного пакета, а пользователи smart в большинстве докупают дополнительные гигабайты помимо ежемесячной абонентской платы.\n",
    "Практически все пользователи обоих тарифов склонны к меньшему использованию сообщений.\n",
    "\n",
    "Также в рамках данного анализа, мы проверили две гипотезы о том, что средняя выручка пользователей тарифов «Ультра» и «Смарт» различаются, и о том, что средняя выручка пользователей из Москвы отличается от выручки пользователей из других регионов.\n",
    "Первая гипотеза подтвердилась, выручка пользователей тарифа \"Ультра\" отличается от вырчки пользователей тарифа \"Смарт\".\n",
    "Вторая гипотеза была опровергнута, средняя выручка пользователей из Москвы практически не отличается от выручки пользователей из других регионов.\n",
    "\n",
    "Основной задачей исследования было определение тарифа, который приносит больше прибыли компании \"Мегалайн\".\n",
    "Это тариф \"Ультра\"."
   ]
  }
 ],
 "metadata": {
  "ExecuteTimeLog": [
   {
    "duration": 1371,
    "start_time": "2022-04-11T14:18:40.415Z"
   },
   {
    "duration": 248,
    "start_time": "2022-04-11T14:18:41.789Z"
   },
   {
    "duration": 0,
    "start_time": "2022-04-11T14:18:42.041Z"
   },
   {
    "duration": 0,
    "start_time": "2022-04-11T14:18:42.043Z"
   },
   {
    "duration": 0,
    "start_time": "2022-04-11T14:18:42.044Z"
   },
   {
    "duration": 0,
    "start_time": "2022-04-11T14:18:42.046Z"
   },
   {
    "duration": 0,
    "start_time": "2022-04-11T14:18:42.047Z"
   },
   {
    "duration": 0,
    "start_time": "2022-04-11T14:18:42.048Z"
   },
   {
    "duration": 0,
    "start_time": "2022-04-11T14:18:42.050Z"
   },
   {
    "duration": 0,
    "start_time": "2022-04-11T14:18:42.068Z"
   },
   {
    "duration": 0,
    "start_time": "2022-04-11T14:18:42.070Z"
   },
   {
    "duration": 0,
    "start_time": "2022-04-11T14:18:42.071Z"
   },
   {
    "duration": 0,
    "start_time": "2022-04-11T14:18:42.073Z"
   },
   {
    "duration": 0,
    "start_time": "2022-04-11T14:18:42.074Z"
   },
   {
    "duration": 0,
    "start_time": "2022-04-11T14:18:42.076Z"
   },
   {
    "duration": 0,
    "start_time": "2022-04-11T14:18:42.078Z"
   },
   {
    "duration": 0,
    "start_time": "2022-04-11T14:18:42.079Z"
   },
   {
    "duration": 0,
    "start_time": "2022-04-11T14:18:42.081Z"
   },
   {
    "duration": 0,
    "start_time": "2022-04-11T14:18:42.082Z"
   },
   {
    "duration": 0,
    "start_time": "2022-04-11T14:18:42.084Z"
   },
   {
    "duration": 1,
    "start_time": "2022-04-11T14:18:42.085Z"
   },
   {
    "duration": 0,
    "start_time": "2022-04-11T14:18:42.087Z"
   },
   {
    "duration": 0,
    "start_time": "2022-04-11T14:18:42.088Z"
   },
   {
    "duration": 0,
    "start_time": "2022-04-11T14:18:42.089Z"
   },
   {
    "duration": 0,
    "start_time": "2022-04-11T14:18:42.091Z"
   },
   {
    "duration": 0,
    "start_time": "2022-04-11T14:18:42.093Z"
   },
   {
    "duration": 0,
    "start_time": "2022-04-11T14:18:42.094Z"
   },
   {
    "duration": 0,
    "start_time": "2022-04-11T14:18:42.096Z"
   },
   {
    "duration": 0,
    "start_time": "2022-04-11T14:18:42.097Z"
   },
   {
    "duration": 0,
    "start_time": "2022-04-11T14:18:42.099Z"
   },
   {
    "duration": 0,
    "start_time": "2022-04-11T14:18:42.100Z"
   },
   {
    "duration": 0,
    "start_time": "2022-04-11T14:18:42.102Z"
   },
   {
    "duration": 0,
    "start_time": "2022-04-11T14:18:42.103Z"
   },
   {
    "duration": 0,
    "start_time": "2022-04-11T14:18:42.168Z"
   },
   {
    "duration": 0,
    "start_time": "2022-04-11T14:18:42.170Z"
   },
   {
    "duration": 0,
    "start_time": "2022-04-11T14:18:42.171Z"
   },
   {
    "duration": 0,
    "start_time": "2022-04-11T14:18:42.173Z"
   },
   {
    "duration": 0,
    "start_time": "2022-04-11T14:18:42.175Z"
   },
   {
    "duration": 0,
    "start_time": "2022-04-11T14:18:42.177Z"
   },
   {
    "duration": 1,
    "start_time": "2022-04-11T14:18:42.178Z"
   },
   {
    "duration": 0,
    "start_time": "2022-04-11T14:18:42.180Z"
   },
   {
    "duration": 1768,
    "start_time": "2022-04-11T15:03:19.245Z"
   },
   {
    "duration": 617,
    "start_time": "2022-04-11T15:03:21.017Z"
   },
   {
    "duration": 19,
    "start_time": "2022-04-11T15:03:21.636Z"
   },
   {
    "duration": 13,
    "start_time": "2022-04-11T15:03:21.659Z"
   },
   {
    "duration": 33,
    "start_time": "2022-04-11T15:03:21.674Z"
   },
   {
    "duration": 17,
    "start_time": "2022-04-11T15:03:21.710Z"
   },
   {
    "duration": 3229,
    "start_time": "2022-04-11T15:03:21.729Z"
   },
   {
    "duration": 29,
    "start_time": "2022-04-11T15:03:24.961Z"
   },
   {
    "duration": 11,
    "start_time": "2022-04-11T15:03:24.992Z"
   },
   {
    "duration": 73,
    "start_time": "2022-04-11T15:03:25.007Z"
   },
   {
    "duration": 29,
    "start_time": "2022-04-11T15:03:25.082Z"
   },
   {
    "duration": 13,
    "start_time": "2022-04-11T15:03:25.114Z"
   },
   {
    "duration": 109,
    "start_time": "2022-04-11T15:03:25.130Z"
   },
   {
    "duration": 116,
    "start_time": "2022-04-11T15:03:25.242Z"
   },
   {
    "duration": 88,
    "start_time": "2022-04-11T15:03:25.360Z"
   },
   {
    "duration": 65,
    "start_time": "2022-04-11T15:03:25.451Z"
   },
   {
    "duration": 20,
    "start_time": "2022-04-11T15:03:25.519Z"
   },
   {
    "duration": 71,
    "start_time": "2022-04-11T15:03:25.542Z"
   },
   {
    "duration": 18,
    "start_time": "2022-04-11T15:03:25.615Z"
   },
   {
    "duration": 33,
    "start_time": "2022-04-11T15:03:25.636Z"
   },
   {
    "duration": 14,
    "start_time": "2022-04-11T15:03:25.671Z"
   },
   {
    "duration": 13,
    "start_time": "2022-04-11T15:03:25.687Z"
   },
   {
    "duration": 17,
    "start_time": "2022-04-11T15:03:25.704Z"
   },
   {
    "duration": 53,
    "start_time": "2022-04-11T15:03:25.724Z"
   },
   {
    "duration": 27,
    "start_time": "2022-04-11T15:03:25.780Z"
   },
   {
    "duration": 209,
    "start_time": "2022-04-11T15:03:25.810Z"
   },
   {
    "duration": 128,
    "start_time": "2022-04-11T15:03:26.021Z"
   },
   {
    "duration": 139,
    "start_time": "2022-04-11T15:03:26.153Z"
   },
   {
    "duration": 143,
    "start_time": "2022-04-11T15:03:26.295Z"
   },
   {
    "duration": 41,
    "start_time": "2022-04-11T15:03:26.441Z"
   },
   {
    "duration": 32,
    "start_time": "2022-04-11T15:03:26.485Z"
   },
   {
    "duration": 59,
    "start_time": "2022-04-11T15:03:26.519Z"
   },
   {
    "duration": 11,
    "start_time": "2022-04-11T15:03:26.580Z"
   },
   {
    "duration": 77,
    "start_time": "2022-04-11T15:03:26.594Z"
   },
   {
    "duration": 646,
    "start_time": "2022-04-11T15:03:26.674Z"
   },
   {
    "duration": 624,
    "start_time": "2022-04-11T15:03:27.322Z"
   },
   {
    "duration": 23,
    "start_time": "2022-04-11T15:03:27.948Z"
   },
   {
    "duration": 21,
    "start_time": "2022-04-11T15:03:27.972Z"
   },
   {
    "duration": 14,
    "start_time": "2022-04-11T15:03:27.995Z"
   },
   {
    "duration": 11,
    "start_time": "2022-04-11T15:03:28.011Z"
   },
   {
    "duration": 47,
    "start_time": "2022-04-11T15:03:28.024Z"
   },
   {
    "duration": 984,
    "start_time": "2022-04-11T15:20:46.013Z"
   },
   {
    "duration": 1556,
    "start_time": "2022-04-11T15:20:59.014Z"
   },
   {
    "duration": 179,
    "start_time": "2022-04-11T15:27:46.054Z"
   },
   {
    "duration": 835,
    "start_time": "2022-04-11T15:28:10.924Z"
   },
   {
    "duration": 860,
    "start_time": "2022-04-11T15:28:16.013Z"
   },
   {
    "duration": 633,
    "start_time": "2022-04-11T15:28:25.371Z"
   },
   {
    "duration": 852,
    "start_time": "2022-04-11T15:29:13.453Z"
   },
   {
    "duration": 194,
    "start_time": "2022-04-11T15:31:17.664Z"
   },
   {
    "duration": 565,
    "start_time": "2022-04-11T15:31:38.611Z"
   },
   {
    "duration": 12,
    "start_time": "2022-04-11T15:32:04.027Z"
   },
   {
    "duration": 189,
    "start_time": "2022-04-11T15:32:13.076Z"
   },
   {
    "duration": 7,
    "start_time": "2022-04-12T13:56:35.774Z"
   },
   {
    "duration": 38,
    "start_time": "2022-04-12T13:56:49.181Z"
   },
   {
    "duration": 1529,
    "start_time": "2022-04-12T14:01:35.007Z"
   },
   {
    "duration": 487,
    "start_time": "2022-04-12T14:01:36.538Z"
   },
   {
    "duration": 134,
    "start_time": "2022-04-12T14:01:52.850Z"
   },
   {
    "duration": 121,
    "start_time": "2022-04-12T14:01:56.700Z"
   },
   {
    "duration": 1277,
    "start_time": "2022-04-12T14:06:05.854Z"
   },
   {
    "duration": 498,
    "start_time": "2022-04-12T14:06:07.133Z"
   },
   {
    "duration": 17,
    "start_time": "2022-04-12T14:06:07.634Z"
   },
   {
    "duration": 15,
    "start_time": "2022-04-12T14:06:07.660Z"
   },
   {
    "duration": 29,
    "start_time": "2022-04-12T14:06:07.677Z"
   },
   {
    "duration": 28,
    "start_time": "2022-04-12T14:06:07.707Z"
   },
   {
    "duration": 2065,
    "start_time": "2022-04-12T14:06:07.736Z"
   },
   {
    "duration": 32,
    "start_time": "2022-04-12T14:06:09.804Z"
   },
   {
    "duration": 21,
    "start_time": "2022-04-12T14:06:09.838Z"
   },
   {
    "duration": 50,
    "start_time": "2022-04-12T14:06:09.862Z"
   },
   {
    "duration": 55,
    "start_time": "2022-04-12T14:06:09.914Z"
   },
   {
    "duration": 13,
    "start_time": "2022-04-12T14:06:09.971Z"
   },
   {
    "duration": 40,
    "start_time": "2022-04-12T14:06:09.986Z"
   },
   {
    "duration": 88,
    "start_time": "2022-04-12T14:06:10.028Z"
   },
   {
    "duration": 52,
    "start_time": "2022-04-12T14:06:10.117Z"
   },
   {
    "duration": 36,
    "start_time": "2022-04-12T14:06:10.171Z"
   },
   {
    "duration": 13,
    "start_time": "2022-04-12T14:06:10.208Z"
   },
   {
    "duration": 58,
    "start_time": "2022-04-12T14:06:10.223Z"
   },
   {
    "duration": 16,
    "start_time": "2022-04-12T14:06:10.284Z"
   },
   {
    "duration": 7,
    "start_time": "2022-04-12T14:06:10.302Z"
   },
   {
    "duration": 13,
    "start_time": "2022-04-12T14:06:10.311Z"
   },
   {
    "duration": 15,
    "start_time": "2022-04-12T14:06:10.358Z"
   },
   {
    "duration": 18,
    "start_time": "2022-04-12T14:06:10.377Z"
   },
   {
    "duration": 15,
    "start_time": "2022-04-12T14:06:10.397Z"
   },
   {
    "duration": 23,
    "start_time": "2022-04-12T14:06:10.413Z"
   },
   {
    "duration": 134,
    "start_time": "2022-04-12T14:06:10.439Z"
   },
   {
    "duration": 124,
    "start_time": "2022-04-12T14:06:10.575Z"
   },
   {
    "duration": 124,
    "start_time": "2022-04-12T14:06:10.704Z"
   },
   {
    "duration": 150,
    "start_time": "2022-04-12T14:06:10.830Z"
   },
   {
    "duration": 31,
    "start_time": "2022-04-12T14:06:10.983Z"
   },
   {
    "duration": 54,
    "start_time": "2022-04-12T14:06:11.018Z"
   },
   {
    "duration": 35,
    "start_time": "2022-04-12T14:06:11.074Z"
   },
   {
    "duration": 11,
    "start_time": "2022-04-12T14:06:11.112Z"
   },
   {
    "duration": 85,
    "start_time": "2022-04-12T14:06:11.125Z"
   },
   {
    "duration": 567,
    "start_time": "2022-04-12T14:06:11.212Z"
   },
   {
    "duration": 606,
    "start_time": "2022-04-12T14:06:11.781Z"
   },
   {
    "duration": 845,
    "start_time": "2022-04-12T14:06:12.389Z"
   },
   {
    "duration": 796,
    "start_time": "2022-04-12T14:06:13.236Z"
   },
   {
    "duration": 693,
    "start_time": "2022-04-12T14:06:14.034Z"
   },
   {
    "duration": 541,
    "start_time": "2022-04-12T14:06:14.730Z"
   },
   {
    "duration": 206,
    "start_time": "2022-04-12T14:06:15.273Z"
   },
   {
    "duration": 24,
    "start_time": "2022-04-12T14:06:15.481Z"
   },
   {
    "duration": 12,
    "start_time": "2022-04-12T14:06:15.506Z"
   },
   {
    "duration": 19,
    "start_time": "2022-04-12T14:06:15.520Z"
   },
   {
    "duration": 39,
    "start_time": "2022-04-12T14:06:15.541Z"
   },
   {
    "duration": 130,
    "start_time": "2022-04-12T14:06:15.584Z"
   },
   {
    "duration": 189,
    "start_time": "2022-04-12T14:06:15.715Z"
   },
   {
    "duration": 10,
    "start_time": "2022-04-12T14:06:15.906Z"
   },
   {
    "duration": 9,
    "start_time": "2022-04-12T14:06:15.918Z"
   },
   {
    "duration": 36,
    "start_time": "2022-04-12T14:06:15.928Z"
   },
   {
    "duration": 16,
    "start_time": "2022-04-12T14:07:28.105Z"
   },
   {
    "duration": 6,
    "start_time": "2022-04-12T14:07:43.637Z"
   },
   {
    "duration": 183,
    "start_time": "2022-04-12T14:09:15.702Z"
   },
   {
    "duration": 6,
    "start_time": "2022-04-12T14:09:24.883Z"
   },
   {
    "duration": 8,
    "start_time": "2022-04-12T14:09:53.961Z"
   },
   {
    "duration": 6,
    "start_time": "2022-04-12T14:13:23.341Z"
   },
   {
    "duration": 7,
    "start_time": "2022-04-12T14:13:46.776Z"
   },
   {
    "duration": 6,
    "start_time": "2022-04-12T14:14:59.924Z"
   },
   {
    "duration": 7,
    "start_time": "2022-04-12T14:16:14.868Z"
   },
   {
    "duration": 11,
    "start_time": "2022-04-12T14:17:08.106Z"
   },
   {
    "duration": 7,
    "start_time": "2022-04-12T14:17:20.168Z"
   },
   {
    "duration": 141,
    "start_time": "2022-04-12T14:20:53.838Z"
   },
   {
    "duration": 176,
    "start_time": "2022-04-12T14:21:10.787Z"
   },
   {
    "duration": 166,
    "start_time": "2022-04-12T14:21:22.769Z"
   }
  ],
  "kernelspec": {
   "display_name": "Python 3 (ipykernel)",
   "language": "python",
   "name": "python3"
  },
  "language_info": {
   "codemirror_mode": {
    "name": "ipython",
    "version": 3
   },
   "file_extension": ".py",
   "mimetype": "text/x-python",
   "name": "python",
   "nbconvert_exporter": "python",
   "pygments_lexer": "ipython3",
   "version": "3.10.4"
  },
  "toc": {
   "base_numbering": 1,
   "nav_menu": {},
   "number_sections": true,
   "sideBar": true,
   "skip_h1_title": true,
   "title_cell": "Содержание",
   "title_sidebar": "Contents",
   "toc_cell": true,
   "toc_position": {},
   "toc_section_display": true,
   "toc_window_display": true
  }
 },
 "nbformat": 4,
 "nbformat_minor": 4
}
