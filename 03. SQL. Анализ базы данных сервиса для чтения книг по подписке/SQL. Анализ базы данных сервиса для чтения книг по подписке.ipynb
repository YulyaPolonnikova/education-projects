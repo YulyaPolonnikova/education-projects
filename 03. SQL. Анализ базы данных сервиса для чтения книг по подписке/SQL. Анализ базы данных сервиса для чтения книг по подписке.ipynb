{
 "cells": [
  {
   "cell_type": "markdown",
   "id": "0a01498a-f35a-44c6-9021-a656abf7ee0f",
   "metadata": {
    "tags": []
   },
   "source": [
    "<h1><p style=\"text-align: center;\"> SQL. Анализ базы данных сервиса для чтения книг по подписке </p></h1>\n",
    "<h3> Содержание </span></h3>\n",
    "\n",
    "<div class=\"toc\">\n",
    "    <ol class=\"toc-item\">\n",
    "        <li> Исследование таблиц </li>\n",
    "        <li> SQL-запросы для решения заданий и вывод результатов </li>\n",
    "        <ul>\n",
    "            <li> подсчёт количества книг, вышедших после 1 января 2000 года </li>\n",
    "            <li> подсчёт количества обзоров и средней оценки для каждой книги </li>\n",
    "            <li> определение издательства, которое выпустило наибольшее число книг толще 50 страниц ( исключаем из анализа брошюры) </li>\n",
    "            <li> определение автора с самой высокой средней оценкой книг (учитываем только книги с 50 и более оценками) </li>\n",
    "            <li> подсчёт среднего количества обзоров от пользователей, которые поставили больше 50 оценок </li>\n",
    "        </ul> \n",
    "        <li> Выводы </li>\n",
    "    </ol>\n",
    "</div>"
   ]
  },
  {
   "cell_type": "markdown",
   "id": "c407d817-8af8-4053-b12d-6c3590bd6b6d",
   "metadata": {},
   "source": [
    "## 1. Исследование таблиц "
   ]
  },
  {
   "cell_type": "code",
   "execution_count": 1,
   "id": "bfd14e9a-a2de-4192-b83f-ffa1aa49ef56",
   "metadata": {},
   "outputs": [],
   "source": [
    "# импортируем библиотеки\n",
    "import pandas as pd\n",
    "from sqlalchemy import create_engine\n",
    "\n",
    "# устанавливаем параметры\n",
    "db_config = {'user': '', # имя пользователя\n",
    "             'pwd': '', # пароль\n",
    "             'host': '',\n",
    "             'port': , # порт подключения\n",
    "             'db': ''} # название базы данных\n",
    "connection_string = 'postgresql://{}:{}@{}:{}/{}'.format(db_config['user'],\n",
    "                                                         db_config['pwd'],\n",
    "                                                         db_config['host'],\n",
    "                                                         db_config['port'],\n",
    "                                                         db_config['db'])\n",
    "# сохраняем коннектор\n",
    "engine = create_engine(connection_string, connect_args={'sslmode':'require'})"
   ]
  },
  {
   "cell_type": "markdown",
   "id": "c1b653ba-f5ef-4690-958f-1cb7f8823727",
   "metadata": {},
   "source": [
    "Выводим первые строки таблицы с информацией о книгах"
   ]
  },
  {
   "cell_type": "code",
   "execution_count": 2,
   "id": "3dc29639-2862-4991-bf78-022da451b0a7",
   "metadata": {
    "tags": []
   },
   "outputs": [
    {
     "data": {
      "text/html": [
       "<div>\n",
       "<style scoped>\n",
       "    .dataframe tbody tr th:only-of-type {\n",
       "        vertical-align: middle;\n",
       "    }\n",
       "\n",
       "    .dataframe tbody tr th {\n",
       "        vertical-align: top;\n",
       "    }\n",
       "\n",
       "    .dataframe thead th {\n",
       "        text-align: right;\n",
       "    }\n",
       "</style>\n",
       "<table border=\"1\" class=\"dataframe\">\n",
       "  <thead>\n",
       "    <tr style=\"text-align: right;\">\n",
       "      <th></th>\n",
       "      <th>book_id</th>\n",
       "      <th>author_id</th>\n",
       "      <th>title</th>\n",
       "      <th>num_pages</th>\n",
       "      <th>publication_date</th>\n",
       "      <th>publisher_id</th>\n",
       "    </tr>\n",
       "  </thead>\n",
       "  <tbody>\n",
       "    <tr>\n",
       "      <th>0</th>\n",
       "      <td>1</td>\n",
       "      <td>546</td>\n",
       "      <td>'Salem's Lot</td>\n",
       "      <td>594</td>\n",
       "      <td>2005-11-01</td>\n",
       "      <td>93</td>\n",
       "    </tr>\n",
       "    <tr>\n",
       "      <th>1</th>\n",
       "      <td>2</td>\n",
       "      <td>465</td>\n",
       "      <td>1 000 Places to See Before You Die</td>\n",
       "      <td>992</td>\n",
       "      <td>2003-05-22</td>\n",
       "      <td>336</td>\n",
       "    </tr>\n",
       "    <tr>\n",
       "      <th>2</th>\n",
       "      <td>3</td>\n",
       "      <td>407</td>\n",
       "      <td>13 Little Blue Envelopes (Little Blue Envelope...</td>\n",
       "      <td>322</td>\n",
       "      <td>2010-12-21</td>\n",
       "      <td>135</td>\n",
       "    </tr>\n",
       "    <tr>\n",
       "      <th>3</th>\n",
       "      <td>4</td>\n",
       "      <td>82</td>\n",
       "      <td>1491: New Revelations of the Americas Before C...</td>\n",
       "      <td>541</td>\n",
       "      <td>2006-10-10</td>\n",
       "      <td>309</td>\n",
       "    </tr>\n",
       "    <tr>\n",
       "      <th>4</th>\n",
       "      <td>5</td>\n",
       "      <td>125</td>\n",
       "      <td>1776</td>\n",
       "      <td>386</td>\n",
       "      <td>2006-07-04</td>\n",
       "      <td>268</td>\n",
       "    </tr>\n",
       "  </tbody>\n",
       "</table>\n",
       "</div>"
      ],
      "text/plain": [
       "   book_id  author_id                                              title  \\\n",
       "0        1        546                                       'Salem's Lot   \n",
       "1        2        465                 1 000 Places to See Before You Die   \n",
       "2        3        407  13 Little Blue Envelopes (Little Blue Envelope...   \n",
       "3        4         82  1491: New Revelations of the Americas Before C...   \n",
       "4        5        125                                               1776   \n",
       "\n",
       "   num_pages publication_date  publisher_id  \n",
       "0        594       2005-11-01            93  \n",
       "1        992       2003-05-22           336  \n",
       "2        322       2010-12-21           135  \n",
       "3        541       2006-10-10           309  \n",
       "4        386       2006-07-04           268  "
      ]
     },
     "execution_count": 2,
     "metadata": {},
     "output_type": "execute_result"
    }
   ],
   "source": [
    "query = '''\n",
    "           SELECT *\n",
    "           FROM books\n",
    "           LIMIT 5\n",
    "        '''\n",
    "books = pd.io.sql.read_sql(query, con=engine)\n",
    "books"
   ]
  },
  {
   "cell_type": "markdown",
   "id": "98aabbf0-c05e-4d57-a38f-e571e58413fa",
   "metadata": {},
   "source": [
    "Выводим первые строки таблицы с информацией об авторах"
   ]
  },
  {
   "cell_type": "code",
   "execution_count": 3,
   "id": "d08266e9-e5fc-47ba-a56a-0d769a9df72a",
   "metadata": {
    "tags": []
   },
   "outputs": [
    {
     "data": {
      "text/html": [
       "<div>\n",
       "<style scoped>\n",
       "    .dataframe tbody tr th:only-of-type {\n",
       "        vertical-align: middle;\n",
       "    }\n",
       "\n",
       "    .dataframe tbody tr th {\n",
       "        vertical-align: top;\n",
       "    }\n",
       "\n",
       "    .dataframe thead th {\n",
       "        text-align: right;\n",
       "    }\n",
       "</style>\n",
       "<table border=\"1\" class=\"dataframe\">\n",
       "  <thead>\n",
       "    <tr style=\"text-align: right;\">\n",
       "      <th></th>\n",
       "      <th>author_id</th>\n",
       "      <th>author</th>\n",
       "    </tr>\n",
       "  </thead>\n",
       "  <tbody>\n",
       "    <tr>\n",
       "      <th>0</th>\n",
       "      <td>1</td>\n",
       "      <td>A.S. Byatt</td>\n",
       "    </tr>\n",
       "    <tr>\n",
       "      <th>1</th>\n",
       "      <td>2</td>\n",
       "      <td>Aesop/Laura Harris/Laura Gibbs</td>\n",
       "    </tr>\n",
       "    <tr>\n",
       "      <th>2</th>\n",
       "      <td>3</td>\n",
       "      <td>Agatha Christie</td>\n",
       "    </tr>\n",
       "    <tr>\n",
       "      <th>3</th>\n",
       "      <td>4</td>\n",
       "      <td>Alan Brennert</td>\n",
       "    </tr>\n",
       "    <tr>\n",
       "      <th>4</th>\n",
       "      <td>5</td>\n",
       "      <td>Alan Moore/David   Lloyd</td>\n",
       "    </tr>\n",
       "  </tbody>\n",
       "</table>\n",
       "</div>"
      ],
      "text/plain": [
       "   author_id                          author\n",
       "0          1                      A.S. Byatt\n",
       "1          2  Aesop/Laura Harris/Laura Gibbs\n",
       "2          3                 Agatha Christie\n",
       "3          4                   Alan Brennert\n",
       "4          5        Alan Moore/David   Lloyd"
      ]
     },
     "execution_count": 3,
     "metadata": {},
     "output_type": "execute_result"
    }
   ],
   "source": [
    "query = '''\n",
    "           SELECT *\n",
    "           FROM authors\n",
    "           LIMIT 5\n",
    "        '''\n",
    "authors = pd.io.sql.read_sql(query, con=engine)\n",
    "authors"
   ]
  },
  {
   "cell_type": "markdown",
   "id": "aa80af51-d5a9-4ab0-ac5c-8c1bffc041b3",
   "metadata": {},
   "source": [
    "Выводим первые строки таблицы с информацией о издательствах"
   ]
  },
  {
   "cell_type": "code",
   "execution_count": 4,
   "id": "180f1719-d78f-4208-ac2b-f549b1455cc7",
   "metadata": {
    "tags": []
   },
   "outputs": [
    {
     "data": {
      "text/html": [
       "<div>\n",
       "<style scoped>\n",
       "    .dataframe tbody tr th:only-of-type {\n",
       "        vertical-align: middle;\n",
       "    }\n",
       "\n",
       "    .dataframe tbody tr th {\n",
       "        vertical-align: top;\n",
       "    }\n",
       "\n",
       "    .dataframe thead th {\n",
       "        text-align: right;\n",
       "    }\n",
       "</style>\n",
       "<table border=\"1\" class=\"dataframe\">\n",
       "  <thead>\n",
       "    <tr style=\"text-align: right;\">\n",
       "      <th></th>\n",
       "      <th>publisher_id</th>\n",
       "      <th>publisher</th>\n",
       "    </tr>\n",
       "  </thead>\n",
       "  <tbody>\n",
       "    <tr>\n",
       "      <th>0</th>\n",
       "      <td>1</td>\n",
       "      <td>Ace</td>\n",
       "    </tr>\n",
       "    <tr>\n",
       "      <th>1</th>\n",
       "      <td>2</td>\n",
       "      <td>Ace Book</td>\n",
       "    </tr>\n",
       "    <tr>\n",
       "      <th>2</th>\n",
       "      <td>3</td>\n",
       "      <td>Ace Books</td>\n",
       "    </tr>\n",
       "    <tr>\n",
       "      <th>3</th>\n",
       "      <td>4</td>\n",
       "      <td>Ace Hardcover</td>\n",
       "    </tr>\n",
       "    <tr>\n",
       "      <th>4</th>\n",
       "      <td>5</td>\n",
       "      <td>Addison Wesley Publishing Company</td>\n",
       "    </tr>\n",
       "  </tbody>\n",
       "</table>\n",
       "</div>"
      ],
      "text/plain": [
       "   publisher_id                          publisher\n",
       "0             1                                Ace\n",
       "1             2                           Ace Book\n",
       "2             3                          Ace Books\n",
       "3             4                      Ace Hardcover\n",
       "4             5  Addison Wesley Publishing Company"
      ]
     },
     "execution_count": 4,
     "metadata": {},
     "output_type": "execute_result"
    }
   ],
   "source": [
    "query = '''\n",
    "           SELECT *\n",
    "           FROM publishers\n",
    "           LIMIT 5\n",
    "        '''\n",
    "publishers = pd.io.sql.read_sql(query, con=engine)\n",
    "publishers"
   ]
  },
  {
   "cell_type": "markdown",
   "id": "0cc34214-0995-49f0-ae45-cad6bc5bd40d",
   "metadata": {},
   "source": [
    "Выводим первые строки таблицы с информацией о рейтингах"
   ]
  },
  {
   "cell_type": "code",
   "execution_count": 5,
   "id": "a2fb79cb-e96e-491e-958f-76174844afbe",
   "metadata": {
    "tags": []
   },
   "outputs": [
    {
     "data": {
      "text/html": [
       "<div>\n",
       "<style scoped>\n",
       "    .dataframe tbody tr th:only-of-type {\n",
       "        vertical-align: middle;\n",
       "    }\n",
       "\n",
       "    .dataframe tbody tr th {\n",
       "        vertical-align: top;\n",
       "    }\n",
       "\n",
       "    .dataframe thead th {\n",
       "        text-align: right;\n",
       "    }\n",
       "</style>\n",
       "<table border=\"1\" class=\"dataframe\">\n",
       "  <thead>\n",
       "    <tr style=\"text-align: right;\">\n",
       "      <th></th>\n",
       "      <th>rating_id</th>\n",
       "      <th>book_id</th>\n",
       "      <th>username</th>\n",
       "      <th>rating</th>\n",
       "    </tr>\n",
       "  </thead>\n",
       "  <tbody>\n",
       "    <tr>\n",
       "      <th>0</th>\n",
       "      <td>1</td>\n",
       "      <td>1</td>\n",
       "      <td>ryanfranco</td>\n",
       "      <td>4</td>\n",
       "    </tr>\n",
       "    <tr>\n",
       "      <th>1</th>\n",
       "      <td>2</td>\n",
       "      <td>1</td>\n",
       "      <td>grantpatricia</td>\n",
       "      <td>2</td>\n",
       "    </tr>\n",
       "    <tr>\n",
       "      <th>2</th>\n",
       "      <td>3</td>\n",
       "      <td>1</td>\n",
       "      <td>brandtandrea</td>\n",
       "      <td>5</td>\n",
       "    </tr>\n",
       "    <tr>\n",
       "      <th>3</th>\n",
       "      <td>4</td>\n",
       "      <td>2</td>\n",
       "      <td>lorichen</td>\n",
       "      <td>3</td>\n",
       "    </tr>\n",
       "    <tr>\n",
       "      <th>4</th>\n",
       "      <td>5</td>\n",
       "      <td>2</td>\n",
       "      <td>mariokeller</td>\n",
       "      <td>2</td>\n",
       "    </tr>\n",
       "  </tbody>\n",
       "</table>\n",
       "</div>"
      ],
      "text/plain": [
       "   rating_id  book_id       username  rating\n",
       "0          1        1     ryanfranco       4\n",
       "1          2        1  grantpatricia       2\n",
       "2          3        1   brandtandrea       5\n",
       "3          4        2       lorichen       3\n",
       "4          5        2    mariokeller       2"
      ]
     },
     "execution_count": 5,
     "metadata": {},
     "output_type": "execute_result"
    }
   ],
   "source": [
    "query = '''\n",
    "           SELECT *\n",
    "           FROM ratings\n",
    "           LIMIT 5\n",
    "        '''\n",
    "ratings = pd.io.sql.read_sql(query, con=engine)\n",
    "ratings"
   ]
  },
  {
   "cell_type": "markdown",
   "id": "bf3f0994-44b2-4160-af0e-0d00fef7d598",
   "metadata": {},
   "source": [
    "Выводим первые строки таблицы с информацией об обзорах"
   ]
  },
  {
   "cell_type": "code",
   "execution_count": 6,
   "id": "256f367a-1e05-4ecf-b109-1b5ead29a8f5",
   "metadata": {
    "tags": []
   },
   "outputs": [
    {
     "data": {
      "text/html": [
       "<div>\n",
       "<style scoped>\n",
       "    .dataframe tbody tr th:only-of-type {\n",
       "        vertical-align: middle;\n",
       "    }\n",
       "\n",
       "    .dataframe tbody tr th {\n",
       "        vertical-align: top;\n",
       "    }\n",
       "\n",
       "    .dataframe thead th {\n",
       "        text-align: right;\n",
       "    }\n",
       "</style>\n",
       "<table border=\"1\" class=\"dataframe\">\n",
       "  <thead>\n",
       "    <tr style=\"text-align: right;\">\n",
       "      <th></th>\n",
       "      <th>review_id</th>\n",
       "      <th>book_id</th>\n",
       "      <th>username</th>\n",
       "      <th>text</th>\n",
       "    </tr>\n",
       "  </thead>\n",
       "  <tbody>\n",
       "    <tr>\n",
       "      <th>0</th>\n",
       "      <td>1</td>\n",
       "      <td>1</td>\n",
       "      <td>brandtandrea</td>\n",
       "      <td>Mention society tell send professor analysis. ...</td>\n",
       "    </tr>\n",
       "    <tr>\n",
       "      <th>1</th>\n",
       "      <td>2</td>\n",
       "      <td>1</td>\n",
       "      <td>ryanfranco</td>\n",
       "      <td>Foot glass pretty audience hit themselves. Amo...</td>\n",
       "    </tr>\n",
       "    <tr>\n",
       "      <th>2</th>\n",
       "      <td>3</td>\n",
       "      <td>2</td>\n",
       "      <td>lorichen</td>\n",
       "      <td>Listen treat keep worry. Miss husband tax but ...</td>\n",
       "    </tr>\n",
       "    <tr>\n",
       "      <th>3</th>\n",
       "      <td>4</td>\n",
       "      <td>3</td>\n",
       "      <td>johnsonamanda</td>\n",
       "      <td>Finally month interesting blue could nature cu...</td>\n",
       "    </tr>\n",
       "    <tr>\n",
       "      <th>4</th>\n",
       "      <td>5</td>\n",
       "      <td>3</td>\n",
       "      <td>scotttamara</td>\n",
       "      <td>Nation purpose heavy give wait song will. List...</td>\n",
       "    </tr>\n",
       "  </tbody>\n",
       "</table>\n",
       "</div>"
      ],
      "text/plain": [
       "   review_id  book_id       username  \\\n",
       "0          1        1   brandtandrea   \n",
       "1          2        1     ryanfranco   \n",
       "2          3        2       lorichen   \n",
       "3          4        3  johnsonamanda   \n",
       "4          5        3    scotttamara   \n",
       "\n",
       "                                                text  \n",
       "0  Mention society tell send professor analysis. ...  \n",
       "1  Foot glass pretty audience hit themselves. Amo...  \n",
       "2  Listen treat keep worry. Miss husband tax but ...  \n",
       "3  Finally month interesting blue could nature cu...  \n",
       "4  Nation purpose heavy give wait song will. List...  "
      ]
     },
     "execution_count": 6,
     "metadata": {},
     "output_type": "execute_result"
    }
   ],
   "source": [
    "query = '''\n",
    "           SELECT *\n",
    "           FROM reviews\n",
    "           LIMIT 5\n",
    "        '''\n",
    "reviews = pd.io.sql.read_sql(query, con=engine)\n",
    "reviews"
   ]
  },
  {
   "cell_type": "markdown",
   "id": "933b5ee5-532a-4471-ab20-b3f347523615",
   "metadata": {
    "tags": []
   },
   "source": [
    "Первые строки каждой из таблиц мы посмотрели, информация о типах данных в каждой из колонок каждой из таблиц нам известна из задания, типы данных для дальнейшей работы коррекции не требуют."
   ]
  },
  {
   "cell_type": "markdown",
   "id": "6c559f83-0dae-45cf-b33d-96ff54c88da3",
   "metadata": {},
   "source": [
    "## 2.  SQL-запросы для решения заданий и вывод результатов\n",
    "\n",
    "#### - подсчёт количества книг, вышедших после 1 января 2000 года\n",
    "\n",
    "В данном запросе нам понадобятся данные только из таблицы с информацией о книгах, ограничим их датой публиции, указанной в задании"
   ]
  },
  {
   "cell_type": "code",
   "execution_count": 7,
   "id": "e8f96949-a54d-4263-9329-237a0b14617e",
   "metadata": {},
   "outputs": [
    {
     "data": {
      "text/html": [
       "<div>\n",
       "<style scoped>\n",
       "    .dataframe tbody tr th:only-of-type {\n",
       "        vertical-align: middle;\n",
       "    }\n",
       "\n",
       "    .dataframe tbody tr th {\n",
       "        vertical-align: top;\n",
       "    }\n",
       "\n",
       "    .dataframe thead th {\n",
       "        text-align: right;\n",
       "    }\n",
       "</style>\n",
       "<table border=\"1\" class=\"dataframe\">\n",
       "  <thead>\n",
       "    <tr style=\"text-align: right;\">\n",
       "      <th></th>\n",
       "      <th>count</th>\n",
       "    </tr>\n",
       "  </thead>\n",
       "  <tbody>\n",
       "    <tr>\n",
       "      <th>0</th>\n",
       "      <td>819</td>\n",
       "    </tr>\n",
       "  </tbody>\n",
       "</table>\n",
       "</div>"
      ],
      "text/plain": [
       "   count\n",
       "0    819"
      ]
     },
     "execution_count": 7,
     "metadata": {},
     "output_type": "execute_result"
    }
   ],
   "source": [
    "query = '''\n",
    "            SELECT COUNT(book_id)\n",
    "            FROM books\n",
    "            WHERE publication_date > '2000-01-01';\n",
    "        '''\n",
    "books_quantity = pd.io.sql.read_sql(query, con=engine)\n",
    "books_quantity"
   ]
  },
  {
   "cell_type": "markdown",
   "id": "ec58424e-9d38-4d12-b32f-f9ca45ea8aa2",
   "metadata": {},
   "source": [
    "После 1 января 2000 года было выпущено 819 книг, в целом, есть ощущение, что это не так много, но лучше проверить, каким периодом датируется окончание нашей выборки.Выведем информацию о крайних датах изданий нашей таблицы."
   ]
  },
  {
   "cell_type": "code",
   "execution_count": 8,
   "id": "34c623b7-6255-47ed-a8b0-38b147ae634f",
   "metadata": {},
   "outputs": [
    {
     "data": {
      "text/html": [
       "<div>\n",
       "<style scoped>\n",
       "    .dataframe tbody tr th:only-of-type {\n",
       "        vertical-align: middle;\n",
       "    }\n",
       "\n",
       "    .dataframe tbody tr th {\n",
       "        vertical-align: top;\n",
       "    }\n",
       "\n",
       "    .dataframe thead th {\n",
       "        text-align: right;\n",
       "    }\n",
       "</style>\n",
       "<table border=\"1\" class=\"dataframe\">\n",
       "  <thead>\n",
       "    <tr style=\"text-align: right;\">\n",
       "      <th></th>\n",
       "      <th>min</th>\n",
       "      <th>max</th>\n",
       "    </tr>\n",
       "  </thead>\n",
       "  <tbody>\n",
       "    <tr>\n",
       "      <th>0</th>\n",
       "      <td>1952-12-01</td>\n",
       "      <td>2020-03-31</td>\n",
       "    </tr>\n",
       "  </tbody>\n",
       "</table>\n",
       "</div>"
      ],
      "text/plain": [
       "          min         max\n",
       "0  1952-12-01  2020-03-31"
      ]
     },
     "execution_count": 8,
     "metadata": {},
     "output_type": "execute_result"
    }
   ],
   "source": [
    "query = '''\n",
    "            SELECT MIN(publication_date),\n",
    "                   MAX(publication_date)\n",
    "            FROM books;\n",
    "        '''\n",
    "books_quantity = pd.io.sql.read_sql(query, con=engine)\n",
    "books_quantity"
   ]
  },
  {
   "cell_type": "markdown",
   "id": "c9fa3b59-92cd-4a42-b5f2-d89687f78d33",
   "metadata": {},
   "source": [
    "Итак, мы обладаем данными до конца марта 2020, значит, за период в чуть больше 20 лет было выпущено всего 819 книг (чуть больше 40 книг в год), кажется, что это совсем мало, но давайте проверим общее количество книг в нашей выборке."
   ]
  },
  {
   "cell_type": "code",
   "execution_count": 9,
   "id": "e550b823",
   "metadata": {},
   "outputs": [
    {
     "data": {
      "text/html": [
       "<div>\n",
       "<style scoped>\n",
       "    .dataframe tbody tr th:only-of-type {\n",
       "        vertical-align: middle;\n",
       "    }\n",
       "\n",
       "    .dataframe tbody tr th {\n",
       "        vertical-align: top;\n",
       "    }\n",
       "\n",
       "    .dataframe thead th {\n",
       "        text-align: right;\n",
       "    }\n",
       "</style>\n",
       "<table border=\"1\" class=\"dataframe\">\n",
       "  <thead>\n",
       "    <tr style=\"text-align: right;\">\n",
       "      <th></th>\n",
       "      <th>count</th>\n",
       "    </tr>\n",
       "  </thead>\n",
       "  <tbody>\n",
       "    <tr>\n",
       "      <th>0</th>\n",
       "      <td>1000</td>\n",
       "    </tr>\n",
       "  </tbody>\n",
       "</table>\n",
       "</div>"
      ],
      "text/plain": [
       "   count\n",
       "0   1000"
      ]
     },
     "execution_count": 9,
     "metadata": {},
     "output_type": "execute_result"
    }
   ],
   "source": [
    "query = '''\n",
    "            SELECT COUNT(book_id)\n",
    "            FROM books;\n",
    "        '''\n",
    "books_quantity = pd.io.sql.read_sql(query, con=engine)\n",
    "books_quantity"
   ]
  },
  {
   "cell_type": "markdown",
   "id": "6472af79",
   "metadata": {},
   "source": [
    "Всего в нашей выборке 1000 книг, таким образом, выходит, что более 80% книг были выпущены в последние 20 лет, а оставшиеся чуть менее 20% были выпущены в период с 1952 по 1999 года включительно."
   ]
  },
  {
   "cell_type": "markdown",
   "id": "de9f728e-9eb5-4553-9e90-3ee190b849c2",
   "metadata": {},
   "source": [
    "#### - подсчёт количества обзоров и средней оценки для каждой книги\n",
    "\n",
    "В данном запросе мы оформляем два подзапроса: в первом связываем между собой таблицы с информацией о книгах и обзорах, считаем количество обзоров для каждой книги, во втором - связываем таблицы с информацией о книгах  и оценках, выводим среднюю оценку для каждой книги, из этих двух подзапросов выводим информацию о книге, количестве обзоров и средней оценке, сортируем список по убыванию количества обзоров."
   ]
  },
  {
   "cell_type": "code",
   "execution_count": 10,
   "id": "186cacee",
   "metadata": {},
   "outputs": [
    {
     "data": {
      "text/html": [
       "<div>\n",
       "<style scoped>\n",
       "    .dataframe tbody tr th:only-of-type {\n",
       "        vertical-align: middle;\n",
       "    }\n",
       "\n",
       "    .dataframe tbody tr th {\n",
       "        vertical-align: top;\n",
       "    }\n",
       "\n",
       "    .dataframe thead th {\n",
       "        text-align: right;\n",
       "    }\n",
       "</style>\n",
       "<table border=\"1\" class=\"dataframe\">\n",
       "  <thead>\n",
       "    <tr style=\"text-align: right;\">\n",
       "      <th></th>\n",
       "      <th>book_id</th>\n",
       "      <th>title</th>\n",
       "      <th>reviews_quantity</th>\n",
       "      <th>avg_rating_score</th>\n",
       "    </tr>\n",
       "  </thead>\n",
       "  <tbody>\n",
       "    <tr>\n",
       "      <th>0</th>\n",
       "      <td>948</td>\n",
       "      <td>Twilight (Twilight  #1)</td>\n",
       "      <td>7</td>\n",
       "      <td>3.662500</td>\n",
       "    </tr>\n",
       "    <tr>\n",
       "      <th>1</th>\n",
       "      <td>963</td>\n",
       "      <td>Water for Elephants</td>\n",
       "      <td>6</td>\n",
       "      <td>3.977273</td>\n",
       "    </tr>\n",
       "    <tr>\n",
       "      <th>2</th>\n",
       "      <td>734</td>\n",
       "      <td>The Glass Castle</td>\n",
       "      <td>6</td>\n",
       "      <td>4.206897</td>\n",
       "    </tr>\n",
       "    <tr>\n",
       "      <th>3</th>\n",
       "      <td>302</td>\n",
       "      <td>Harry Potter and the Prisoner of Azkaban (Harr...</td>\n",
       "      <td>6</td>\n",
       "      <td>4.414634</td>\n",
       "    </tr>\n",
       "    <tr>\n",
       "      <th>4</th>\n",
       "      <td>695</td>\n",
       "      <td>The Curious Incident of the Dog in the Night-Time</td>\n",
       "      <td>6</td>\n",
       "      <td>4.081081</td>\n",
       "    </tr>\n",
       "    <tr>\n",
       "      <th>...</th>\n",
       "      <td>...</td>\n",
       "      <td>...</td>\n",
       "      <td>...</td>\n",
       "      <td>...</td>\n",
       "    </tr>\n",
       "    <tr>\n",
       "      <th>995</th>\n",
       "      <td>83</td>\n",
       "      <td>Anne Rice's The Vampire Lestat: A Graphic Novel</td>\n",
       "      <td>0</td>\n",
       "      <td>3.666667</td>\n",
       "    </tr>\n",
       "    <tr>\n",
       "      <th>996</th>\n",
       "      <td>808</td>\n",
       "      <td>The Natural Way to Draw</td>\n",
       "      <td>0</td>\n",
       "      <td>3.000000</td>\n",
       "    </tr>\n",
       "    <tr>\n",
       "      <th>997</th>\n",
       "      <td>672</td>\n",
       "      <td>The Cat in the Hat and Other Dr. Seuss Favorites</td>\n",
       "      <td>0</td>\n",
       "      <td>5.000000</td>\n",
       "    </tr>\n",
       "    <tr>\n",
       "      <th>998</th>\n",
       "      <td>221</td>\n",
       "      <td>Essential Tales and Poems</td>\n",
       "      <td>0</td>\n",
       "      <td>4.000000</td>\n",
       "    </tr>\n",
       "    <tr>\n",
       "      <th>999</th>\n",
       "      <td>191</td>\n",
       "      <td>Disney's Beauty and the Beast (A Little Golden...</td>\n",
       "      <td>0</td>\n",
       "      <td>4.000000</td>\n",
       "    </tr>\n",
       "  </tbody>\n",
       "</table>\n",
       "<p>1000 rows × 4 columns</p>\n",
       "</div>"
      ],
      "text/plain": [
       "     book_id                                              title  \\\n",
       "0        948                            Twilight (Twilight  #1)   \n",
       "1        963                                Water for Elephants   \n",
       "2        734                                   The Glass Castle   \n",
       "3        302  Harry Potter and the Prisoner of Azkaban (Harr...   \n",
       "4        695  The Curious Incident of the Dog in the Night-Time   \n",
       "..       ...                                                ...   \n",
       "995       83    Anne Rice's The Vampire Lestat: A Graphic Novel   \n",
       "996      808                            The Natural Way to Draw   \n",
       "997      672   The Cat in the Hat and Other Dr. Seuss Favorites   \n",
       "998      221                          Essential Tales and Poems   \n",
       "999      191  Disney's Beauty and the Beast (A Little Golden...   \n",
       "\n",
       "     reviews_quantity  avg_rating_score  \n",
       "0                   7          3.662500  \n",
       "1                   6          3.977273  \n",
       "2                   6          4.206897  \n",
       "3                   6          4.414634  \n",
       "4                   6          4.081081  \n",
       "..                ...               ...  \n",
       "995                 0          3.666667  \n",
       "996                 0          3.000000  \n",
       "997                 0          5.000000  \n",
       "998                 0          4.000000  \n",
       "999                 0          4.000000  \n",
       "\n",
       "[1000 rows x 4 columns]"
      ]
     },
     "execution_count": 10,
     "metadata": {},
     "output_type": "execute_result"
    }
   ],
   "source": [
    "query = '''\n",
    "            WITH \n",
    "            rq AS \n",
    "                    (SELECT b.book_id,\n",
    "                            b.title,\n",
    "                            COUNT(rev.review_id) AS reviews_quantity\n",
    "                     FROM books AS b\n",
    "                     FULL OUTER JOIN reviews AS rev ON b.book_id = rev.book_id\n",
    "                     GROUP BY b.book_id),\n",
    "            \n",
    "            sc AS\n",
    "                    (SELECT b.book_id,\n",
    "                            b.title,\n",
    "                            AVG(rat.rating) AS avg_rating_score\n",
    "                     FROM books AS b\n",
    "                     FULL OUTER JOIN ratings AS rat ON b.book_id = rat.book_id\n",
    "                     GROUP BY b.book_id)\n",
    "            SELECT rq.book_id,\n",
    "                   rq.title,\n",
    "                   rq.reviews_quantity,\n",
    "                   sc.avg_rating_score\n",
    "            FROM rq JOIN sc ON rq.book_id = sc.book_id\n",
    "            ORDER BY reviews_quantity DESC;\n",
    "        '''\n",
    "rev_n_rat = pd.io.sql.read_sql(query, con=engine)\n",
    "rev_n_rat"
   ]
  },
  {
   "cell_type": "markdown",
   "id": "44d9d489",
   "metadata": {},
   "source": [
    "Видим, что наибольшее количество обзоров получила книга Twilight (Сумерки) - 7 обзоров, Возможно, наибольшее количество обзоров именно у этой книги ввиду популярности одноименного фильма среди девочек-подростков, однако, как мы видим, что средняя оценка у этой книги не столь высока, попробуем отсортировать список по убыванию средней оценки, чтобы узнать лучшую книги по мнению пользователей."
   ]
  },
  {
   "cell_type": "code",
   "execution_count": 11,
   "id": "3477203e",
   "metadata": {},
   "outputs": [
    {
     "data": {
      "text/html": [
       "<div>\n",
       "<style scoped>\n",
       "    .dataframe tbody tr th:only-of-type {\n",
       "        vertical-align: middle;\n",
       "    }\n",
       "\n",
       "    .dataframe tbody tr th {\n",
       "        vertical-align: top;\n",
       "    }\n",
       "\n",
       "    .dataframe thead th {\n",
       "        text-align: right;\n",
       "    }\n",
       "</style>\n",
       "<table border=\"1\" class=\"dataframe\">\n",
       "  <thead>\n",
       "    <tr style=\"text-align: right;\">\n",
       "      <th></th>\n",
       "      <th>book_id</th>\n",
       "      <th>title</th>\n",
       "      <th>reviews_quantity</th>\n",
       "      <th>avg_rating_score</th>\n",
       "    </tr>\n",
       "  </thead>\n",
       "  <tbody>\n",
       "    <tr>\n",
       "      <th>0</th>\n",
       "      <td>55</td>\n",
       "      <td>A Woman of Substance (Emma Harte Saga #1)</td>\n",
       "      <td>2</td>\n",
       "      <td>5.000000</td>\n",
       "    </tr>\n",
       "    <tr>\n",
       "      <th>1</th>\n",
       "      <td>182</td>\n",
       "      <td>Dead Souls</td>\n",
       "      <td>2</td>\n",
       "      <td>5.000000</td>\n",
       "    </tr>\n",
       "    <tr>\n",
       "      <th>2</th>\n",
       "      <td>901</td>\n",
       "      <td>The Walking Dead  Book One (The Walking Dead #...</td>\n",
       "      <td>2</td>\n",
       "      <td>5.000000</td>\n",
       "    </tr>\n",
       "    <tr>\n",
       "      <th>3</th>\n",
       "      <td>62</td>\n",
       "      <td>Alas  Babylon</td>\n",
       "      <td>2</td>\n",
       "      <td>5.000000</td>\n",
       "    </tr>\n",
       "    <tr>\n",
       "      <th>4</th>\n",
       "      <td>967</td>\n",
       "      <td>Welcome to Temptation (Dempseys  #1)</td>\n",
       "      <td>2</td>\n",
       "      <td>5.000000</td>\n",
       "    </tr>\n",
       "    <tr>\n",
       "      <th>5</th>\n",
       "      <td>224</td>\n",
       "      <td>Evening Class</td>\n",
       "      <td>2</td>\n",
       "      <td>5.000000</td>\n",
       "    </tr>\n",
       "    <tr>\n",
       "      <th>6</th>\n",
       "      <td>610</td>\n",
       "      <td>Tai-Pan (Asian Saga  #2)</td>\n",
       "      <td>2</td>\n",
       "      <td>5.000000</td>\n",
       "    </tr>\n",
       "    <tr>\n",
       "      <th>7</th>\n",
       "      <td>699</td>\n",
       "      <td>The Demon-Haunted World: Science as a Candle i...</td>\n",
       "      <td>2</td>\n",
       "      <td>5.000000</td>\n",
       "    </tr>\n",
       "    <tr>\n",
       "      <th>8</th>\n",
       "      <td>993</td>\n",
       "      <td>Women</td>\n",
       "      <td>2</td>\n",
       "      <td>5.000000</td>\n",
       "    </tr>\n",
       "    <tr>\n",
       "      <th>9</th>\n",
       "      <td>76</td>\n",
       "      <td>Angels Fall</td>\n",
       "      <td>2</td>\n",
       "      <td>5.000000</td>\n",
       "    </tr>\n",
       "    <tr>\n",
       "      <th>10</th>\n",
       "      <td>902</td>\n",
       "      <td>The War of Art: Break Through the Blocks &amp; Win...</td>\n",
       "      <td>2</td>\n",
       "      <td>5.000000</td>\n",
       "    </tr>\n",
       "    <tr>\n",
       "      <th>11</th>\n",
       "      <td>913</td>\n",
       "      <td>The Woman in Black</td>\n",
       "      <td>2</td>\n",
       "      <td>5.000000</td>\n",
       "    </tr>\n",
       "    <tr>\n",
       "      <th>12</th>\n",
       "      <td>938</td>\n",
       "      <td>Triptych (Will Trent  #1)</td>\n",
       "      <td>2</td>\n",
       "      <td>5.000000</td>\n",
       "    </tr>\n",
       "    <tr>\n",
       "      <th>13</th>\n",
       "      <td>599</td>\n",
       "      <td>Stone of Farewell (Memory  Sorrow  and Thorn  #2)</td>\n",
       "      <td>1</td>\n",
       "      <td>5.000000</td>\n",
       "    </tr>\n",
       "    <tr>\n",
       "      <th>14</th>\n",
       "      <td>390</td>\n",
       "      <td>Light in August</td>\n",
       "      <td>2</td>\n",
       "      <td>5.000000</td>\n",
       "    </tr>\n",
       "    <tr>\n",
       "      <th>15</th>\n",
       "      <td>469</td>\n",
       "      <td>Neil Gaiman's Neverwhere</td>\n",
       "      <td>2</td>\n",
       "      <td>5.000000</td>\n",
       "    </tr>\n",
       "    <tr>\n",
       "      <th>16</th>\n",
       "      <td>672</td>\n",
       "      <td>The Cat in the Hat and Other Dr. Seuss Favorites</td>\n",
       "      <td>0</td>\n",
       "      <td>5.000000</td>\n",
       "    </tr>\n",
       "    <tr>\n",
       "      <th>17</th>\n",
       "      <td>642</td>\n",
       "      <td>The Big Bad Wolf  (Alex Cross  #9)</td>\n",
       "      <td>2</td>\n",
       "      <td>5.000000</td>\n",
       "    </tr>\n",
       "    <tr>\n",
       "      <th>18</th>\n",
       "      <td>421</td>\n",
       "      <td>Marvel 1602</td>\n",
       "      <td>2</td>\n",
       "      <td>5.000000</td>\n",
       "    </tr>\n",
       "    <tr>\n",
       "      <th>19</th>\n",
       "      <td>972</td>\n",
       "      <td>Wherever You Go  There You Are: Mindfulness Me...</td>\n",
       "      <td>2</td>\n",
       "      <td>5.000000</td>\n",
       "    </tr>\n",
       "    <tr>\n",
       "      <th>20</th>\n",
       "      <td>459</td>\n",
       "      <td>My Name Is Asher Lev</td>\n",
       "      <td>2</td>\n",
       "      <td>5.000000</td>\n",
       "    </tr>\n",
       "    <tr>\n",
       "      <th>21</th>\n",
       "      <td>444</td>\n",
       "      <td>Moneyball: The Art of Winning an Unfair Game</td>\n",
       "      <td>3</td>\n",
       "      <td>5.000000</td>\n",
       "    </tr>\n",
       "    <tr>\n",
       "      <th>22</th>\n",
       "      <td>513</td>\n",
       "      <td>Piercing the Darkness (Darkness  #2)</td>\n",
       "      <td>2</td>\n",
       "      <td>5.000000</td>\n",
       "    </tr>\n",
       "    <tr>\n",
       "      <th>23</th>\n",
       "      <td>518</td>\n",
       "      <td>Pop Goes the Weasel (Alex Cross  #5)</td>\n",
       "      <td>2</td>\n",
       "      <td>5.000000</td>\n",
       "    </tr>\n",
       "    <tr>\n",
       "      <th>24</th>\n",
       "      <td>516</td>\n",
       "      <td>Plum Island (John Corey  #1)</td>\n",
       "      <td>2</td>\n",
       "      <td>5.000000</td>\n",
       "    </tr>\n",
       "    <tr>\n",
       "      <th>25</th>\n",
       "      <td>213</td>\n",
       "      <td>Emily of New Moon (Emily  #1)</td>\n",
       "      <td>2</td>\n",
       "      <td>5.000000</td>\n",
       "    </tr>\n",
       "    <tr>\n",
       "      <th>26</th>\n",
       "      <td>625</td>\n",
       "      <td>The Adventures of Tom Sawyer and Adventures of...</td>\n",
       "      <td>1</td>\n",
       "      <td>5.000000</td>\n",
       "    </tr>\n",
       "    <tr>\n",
       "      <th>27</th>\n",
       "      <td>553</td>\n",
       "      <td>School's Out—Forever (Maximum Ride  #2)</td>\n",
       "      <td>3</td>\n",
       "      <td>5.000000</td>\n",
       "    </tr>\n",
       "    <tr>\n",
       "      <th>28</th>\n",
       "      <td>229</td>\n",
       "      <td>Evil Under the Sun (Hercule Poirot  #24)</td>\n",
       "      <td>2</td>\n",
       "      <td>5.000000</td>\n",
       "    </tr>\n",
       "    <tr>\n",
       "      <th>29</th>\n",
       "      <td>598</td>\n",
       "      <td>Stolen (Women of the Otherworld  #2)</td>\n",
       "      <td>2</td>\n",
       "      <td>5.000000</td>\n",
       "    </tr>\n",
       "    <tr>\n",
       "      <th>30</th>\n",
       "      <td>321</td>\n",
       "      <td>Homage to Catalonia</td>\n",
       "      <td>2</td>\n",
       "      <td>5.000000</td>\n",
       "    </tr>\n",
       "    <tr>\n",
       "      <th>31</th>\n",
       "      <td>275</td>\n",
       "      <td>Geek Love</td>\n",
       "      <td>2</td>\n",
       "      <td>5.000000</td>\n",
       "    </tr>\n",
       "    <tr>\n",
       "      <th>32</th>\n",
       "      <td>17</td>\n",
       "      <td>A Dirty Job (Grim Reaper  #1)</td>\n",
       "      <td>4</td>\n",
       "      <td>5.000000</td>\n",
       "    </tr>\n",
       "    <tr>\n",
       "      <th>33</th>\n",
       "      <td>297</td>\n",
       "      <td>Hard Times</td>\n",
       "      <td>2</td>\n",
       "      <td>5.000000</td>\n",
       "    </tr>\n",
       "    <tr>\n",
       "      <th>34</th>\n",
       "      <td>347</td>\n",
       "      <td>In the Hand of the Goddess (Song of the Liones...</td>\n",
       "      <td>2</td>\n",
       "      <td>5.000000</td>\n",
       "    </tr>\n",
       "    <tr>\n",
       "      <th>35</th>\n",
       "      <td>57</td>\n",
       "      <td>Act of Treason (Mitch Rapp  #9)</td>\n",
       "      <td>2</td>\n",
       "      <td>5.000000</td>\n",
       "    </tr>\n",
       "    <tr>\n",
       "      <th>36</th>\n",
       "      <td>86</td>\n",
       "      <td>Arrows of the Queen (Heralds of Valdemar  #1)</td>\n",
       "      <td>2</td>\n",
       "      <td>5.000000</td>\n",
       "    </tr>\n",
       "    <tr>\n",
       "      <th>37</th>\n",
       "      <td>330</td>\n",
       "      <td>How to Be a Domestic Goddess: Baking and the A...</td>\n",
       "      <td>1</td>\n",
       "      <td>5.000000</td>\n",
       "    </tr>\n",
       "    <tr>\n",
       "      <th>38</th>\n",
       "      <td>20</td>\n",
       "      <td>A Fistful of Charms (The Hollows  #4)</td>\n",
       "      <td>2</td>\n",
       "      <td>5.000000</td>\n",
       "    </tr>\n",
       "    <tr>\n",
       "      <th>39</th>\n",
       "      <td>169</td>\n",
       "      <td>Crucial Conversations: Tools for Talking When ...</td>\n",
       "      <td>2</td>\n",
       "      <td>5.000000</td>\n",
       "    </tr>\n",
       "    <tr>\n",
       "      <th>40</th>\n",
       "      <td>418</td>\n",
       "      <td>March</td>\n",
       "      <td>2</td>\n",
       "      <td>5.000000</td>\n",
       "    </tr>\n",
       "    <tr>\n",
       "      <th>41</th>\n",
       "      <td>732</td>\n",
       "      <td>The Ghost Map: The Story of London's Most Terr...</td>\n",
       "      <td>2</td>\n",
       "      <td>5.000000</td>\n",
       "    </tr>\n",
       "    <tr>\n",
       "      <th>42</th>\n",
       "      <td>136</td>\n",
       "      <td>Captivating: Unveiling the Mystery of a Woman'...</td>\n",
       "      <td>2</td>\n",
       "      <td>5.000000</td>\n",
       "    </tr>\n",
       "    <tr>\n",
       "      <th>43</th>\n",
       "      <td>441</td>\n",
       "      <td>Misty of Chincoteague (Misty  #1)</td>\n",
       "      <td>2</td>\n",
       "      <td>5.000000</td>\n",
       "    </tr>\n",
       "    <tr>\n",
       "      <th>44</th>\n",
       "      <td>195</td>\n",
       "      <td>Dragonfly in Amber (Outlander  #2)</td>\n",
       "      <td>4</td>\n",
       "      <td>4.875000</td>\n",
       "    </tr>\n",
       "    <tr>\n",
       "      <th>45</th>\n",
       "      <td>524</td>\n",
       "      <td>Preludes &amp; Nocturnes (The Sandman  #1)</td>\n",
       "      <td>3</td>\n",
       "      <td>4.833333</td>\n",
       "    </tr>\n",
       "    <tr>\n",
       "      <th>46</th>\n",
       "      <td>912</td>\n",
       "      <td>The Witching Hour (Lives of the Mayfair Witche...</td>\n",
       "      <td>3</td>\n",
       "      <td>4.750000</td>\n",
       "    </tr>\n",
       "    <tr>\n",
       "      <th>47</th>\n",
       "      <td>411</td>\n",
       "      <td>Lover Revealed (Black Dagger Brotherhood  #4)</td>\n",
       "      <td>3</td>\n",
       "      <td>4.750000</td>\n",
       "    </tr>\n",
       "    <tr>\n",
       "      <th>48</th>\n",
       "      <td>801</td>\n",
       "      <td>The Monster at the End of this Book</td>\n",
       "      <td>3</td>\n",
       "      <td>4.750000</td>\n",
       "    </tr>\n",
       "    <tr>\n",
       "      <th>49</th>\n",
       "      <td>890</td>\n",
       "      <td>The Twits</td>\n",
       "      <td>3</td>\n",
       "      <td>4.750000</td>\n",
       "    </tr>\n",
       "  </tbody>\n",
       "</table>\n",
       "</div>"
      ],
      "text/plain": [
       "    book_id                                              title  \\\n",
       "0        55          A Woman of Substance (Emma Harte Saga #1)   \n",
       "1       182                                         Dead Souls   \n",
       "2       901  The Walking Dead  Book One (The Walking Dead #...   \n",
       "3        62                                      Alas  Babylon   \n",
       "4       967               Welcome to Temptation (Dempseys  #1)   \n",
       "5       224                                      Evening Class   \n",
       "6       610                           Tai-Pan (Asian Saga  #2)   \n",
       "7       699  The Demon-Haunted World: Science as a Candle i...   \n",
       "8       993                                              Women   \n",
       "9        76                                        Angels Fall   \n",
       "10      902  The War of Art: Break Through the Blocks & Win...   \n",
       "11      913                                 The Woman in Black   \n",
       "12      938                          Triptych (Will Trent  #1)   \n",
       "13      599  Stone of Farewell (Memory  Sorrow  and Thorn  #2)   \n",
       "14      390                                    Light in August   \n",
       "15      469                           Neil Gaiman's Neverwhere   \n",
       "16      672   The Cat in the Hat and Other Dr. Seuss Favorites   \n",
       "17      642                 The Big Bad Wolf  (Alex Cross  #9)   \n",
       "18      421                                        Marvel 1602   \n",
       "19      972  Wherever You Go  There You Are: Mindfulness Me...   \n",
       "20      459                               My Name Is Asher Lev   \n",
       "21      444       Moneyball: The Art of Winning an Unfair Game   \n",
       "22      513               Piercing the Darkness (Darkness  #2)   \n",
       "23      518               Pop Goes the Weasel (Alex Cross  #5)   \n",
       "24      516                       Plum Island (John Corey  #1)   \n",
       "25      213                      Emily of New Moon (Emily  #1)   \n",
       "26      625  The Adventures of Tom Sawyer and Adventures of...   \n",
       "27      553            School's Out—Forever (Maximum Ride  #2)   \n",
       "28      229           Evil Under the Sun (Hercule Poirot  #24)   \n",
       "29      598               Stolen (Women of the Otherworld  #2)   \n",
       "30      321                                Homage to Catalonia   \n",
       "31      275                                          Geek Love   \n",
       "32       17                      A Dirty Job (Grim Reaper  #1)   \n",
       "33      297                                         Hard Times   \n",
       "34      347  In the Hand of the Goddess (Song of the Liones...   \n",
       "35       57                    Act of Treason (Mitch Rapp  #9)   \n",
       "36       86      Arrows of the Queen (Heralds of Valdemar  #1)   \n",
       "37      330  How to Be a Domestic Goddess: Baking and the A...   \n",
       "38       20              A Fistful of Charms (The Hollows  #4)   \n",
       "39      169  Crucial Conversations: Tools for Talking When ...   \n",
       "40      418                                              March   \n",
       "41      732  The Ghost Map: The Story of London's Most Terr...   \n",
       "42      136  Captivating: Unveiling the Mystery of a Woman'...   \n",
       "43      441                  Misty of Chincoteague (Misty  #1)   \n",
       "44      195                 Dragonfly in Amber (Outlander  #2)   \n",
       "45      524             Preludes & Nocturnes (The Sandman  #1)   \n",
       "46      912  The Witching Hour (Lives of the Mayfair Witche...   \n",
       "47      411      Lover Revealed (Black Dagger Brotherhood  #4)   \n",
       "48      801                The Monster at the End of this Book   \n",
       "49      890                                          The Twits   \n",
       "\n",
       "    reviews_quantity  avg_rating_score  \n",
       "0                  2          5.000000  \n",
       "1                  2          5.000000  \n",
       "2                  2          5.000000  \n",
       "3                  2          5.000000  \n",
       "4                  2          5.000000  \n",
       "5                  2          5.000000  \n",
       "6                  2          5.000000  \n",
       "7                  2          5.000000  \n",
       "8                  2          5.000000  \n",
       "9                  2          5.000000  \n",
       "10                 2          5.000000  \n",
       "11                 2          5.000000  \n",
       "12                 2          5.000000  \n",
       "13                 1          5.000000  \n",
       "14                 2          5.000000  \n",
       "15                 2          5.000000  \n",
       "16                 0          5.000000  \n",
       "17                 2          5.000000  \n",
       "18                 2          5.000000  \n",
       "19                 2          5.000000  \n",
       "20                 2          5.000000  \n",
       "21                 3          5.000000  \n",
       "22                 2          5.000000  \n",
       "23                 2          5.000000  \n",
       "24                 2          5.000000  \n",
       "25                 2          5.000000  \n",
       "26                 1          5.000000  \n",
       "27                 3          5.000000  \n",
       "28                 2          5.000000  \n",
       "29                 2          5.000000  \n",
       "30                 2          5.000000  \n",
       "31                 2          5.000000  \n",
       "32                 4          5.000000  \n",
       "33                 2          5.000000  \n",
       "34                 2          5.000000  \n",
       "35                 2          5.000000  \n",
       "36                 2          5.000000  \n",
       "37                 1          5.000000  \n",
       "38                 2          5.000000  \n",
       "39                 2          5.000000  \n",
       "40                 2          5.000000  \n",
       "41                 2          5.000000  \n",
       "42                 2          5.000000  \n",
       "43                 2          5.000000  \n",
       "44                 4          4.875000  \n",
       "45                 3          4.833333  \n",
       "46                 3          4.750000  \n",
       "47                 3          4.750000  \n",
       "48                 3          4.750000  \n",
       "49                 3          4.750000  "
      ]
     },
     "execution_count": 11,
     "metadata": {},
     "output_type": "execute_result"
    }
   ],
   "source": [
    "query = '''\n",
    "            WITH \n",
    "            rq AS \n",
    "                    (SELECT b.book_id,\n",
    "                            b.title,\n",
    "                            COUNT(rev.review_id) AS reviews_quantity\n",
    "                     FROM books AS b\n",
    "                     FULL OUTER JOIN reviews AS rev ON b.book_id = rev.book_id\n",
    "                     GROUP BY b.book_id),\n",
    "            \n",
    "            sc AS\n",
    "                    (SELECT b.book_id,\n",
    "                            b.title,\n",
    "                            AVG(rat.rating) AS avg_rating_score\n",
    "                     FROM books AS b\n",
    "                     FULL OUTER JOIN ratings AS rat ON b.book_id = rat.book_id\n",
    "                     GROUP BY b.book_id)\n",
    "            SELECT rq.book_id,\n",
    "                   rq.title,\n",
    "                   rq.reviews_quantity,\n",
    "                   sc.avg_rating_score\n",
    "            FROM rq JOIN sc ON rq.book_id = sc.book_id\n",
    "            ORDER BY avg_rating_score DESC\n",
    "            LIMIT 50;\n",
    "        '''\n",
    "rev_n_rat = pd.io.sql.read_sql(query, con=engine)\n",
    "rev_n_rat"
   ]
  },
  {
   "cell_type": "markdown",
   "id": "918ed5fa",
   "metadata": {},
   "source": [
    "Оказывается, у 43 книг наивысшая средняя оценка, правда, обзоров на эти книги совсем мало (в основном по 2 обзора), поэтому эти книги нравятся тем, кто их прочёл, но прочли их немногие, видимо, либо мало кто захотел писать на них обзор после прочтения."
   ]
  },
  {
   "cell_type": "markdown",
   "id": "67fde4fc-2c69-43dd-a31b-1d833200e60a",
   "metadata": {},
   "source": [
    "#### - определение издательства, которое выпустило наибольшее число книг толще 50 страниц ( исключаем из анализа брошюры)\n",
    "\n",
    "В данном случае мы связываем между собой таблицы с информацией о книгах и об издательствах, ограничиваем выборку количеством страниц в книге, сортируем список по убыванию количества книг и выводим информацию об издательстве, которое выпустило самое большое количество книг (не брошюр)."
   ]
  },
  {
   "cell_type": "code",
   "execution_count": 12,
   "id": "975f1ca4-8517-4c2c-904c-8ac43a78f7b0",
   "metadata": {},
   "outputs": [
    {
     "data": {
      "text/html": [
       "<div>\n",
       "<style scoped>\n",
       "    .dataframe tbody tr th:only-of-type {\n",
       "        vertical-align: middle;\n",
       "    }\n",
       "\n",
       "    .dataframe tbody tr th {\n",
       "        vertical-align: top;\n",
       "    }\n",
       "\n",
       "    .dataframe thead th {\n",
       "        text-align: right;\n",
       "    }\n",
       "</style>\n",
       "<table border=\"1\" class=\"dataframe\">\n",
       "  <thead>\n",
       "    <tr style=\"text-align: right;\">\n",
       "      <th></th>\n",
       "      <th>publisher_id</th>\n",
       "      <th>publisher</th>\n",
       "      <th>books_quantity</th>\n",
       "    </tr>\n",
       "  </thead>\n",
       "  <tbody>\n",
       "    <tr>\n",
       "      <th>0</th>\n",
       "      <td>212</td>\n",
       "      <td>Penguin Books</td>\n",
       "      <td>42</td>\n",
       "    </tr>\n",
       "  </tbody>\n",
       "</table>\n",
       "</div>"
      ],
      "text/plain": [
       "   publisher_id      publisher  books_quantity\n",
       "0           212  Penguin Books              42"
      ]
     },
     "execution_count": 12,
     "metadata": {},
     "output_type": "execute_result"
    }
   ],
   "source": [
    "query = '''\n",
    "            SELECT p.publisher_id,\n",
    "                   p.publisher,\n",
    "                   COUNT(b.book_id) AS books_quantity    \n",
    "            FROM books AS b\n",
    "            LEFT JOIN publishers AS p on b.publisher_id = p.publisher_id\n",
    "            WHERE b.num_pages > 50\n",
    "            GROUP BY p.publisher_id\n",
    "            ORDER BY books_quantity DESC\n",
    "            LIMIT 1;\n",
    "        '''\n",
    "largest_publisher = pd.io.sql.read_sql(query, con=engine)\n",
    "largest_publisher"
   ]
  },
  {
   "cell_type": "markdown",
   "id": "b2cae30e-1071-4e4e-b659-dd8e80b4f888",
   "metadata": {},
   "source": [
    "Итак, выяснили, что таким издательством является Penguin Books, выпустившее 42 книги.\n",
    "Как известно, когда-то это издательство одним из первых стало выпускать серьёзные книги в несерьёзных мягких обложках. Однако, мы видим, что 42 книги это не так много, видимо, в целом в нашей выборке книги распределились относительно равномерно по издательствам или в таблицах есть дубликаты наименований издательств, поэтому наш результат может оказаться не вполне корректным.\n",
    "Поэтому попробуем вывести список из 30 наиболее печатающих издательств."
   ]
  },
  {
   "cell_type": "code",
   "execution_count": 13,
   "id": "e690e822-b080-4747-9da6-130b2d707372",
   "metadata": {},
   "outputs": [
    {
     "data": {
      "text/html": [
       "<div>\n",
       "<style scoped>\n",
       "    .dataframe tbody tr th:only-of-type {\n",
       "        vertical-align: middle;\n",
       "    }\n",
       "\n",
       "    .dataframe tbody tr th {\n",
       "        vertical-align: top;\n",
       "    }\n",
       "\n",
       "    .dataframe thead th {\n",
       "        text-align: right;\n",
       "    }\n",
       "</style>\n",
       "<table border=\"1\" class=\"dataframe\">\n",
       "  <thead>\n",
       "    <tr style=\"text-align: right;\">\n",
       "      <th></th>\n",
       "      <th>publisher_id</th>\n",
       "      <th>publisher</th>\n",
       "      <th>books_quantity</th>\n",
       "    </tr>\n",
       "  </thead>\n",
       "  <tbody>\n",
       "    <tr>\n",
       "      <th>0</th>\n",
       "      <td>212</td>\n",
       "      <td>Penguin Books</td>\n",
       "      <td>42</td>\n",
       "    </tr>\n",
       "    <tr>\n",
       "      <th>1</th>\n",
       "      <td>309</td>\n",
       "      <td>Vintage</td>\n",
       "      <td>31</td>\n",
       "    </tr>\n",
       "    <tr>\n",
       "      <th>2</th>\n",
       "      <td>116</td>\n",
       "      <td>Grand Central Publishing</td>\n",
       "      <td>25</td>\n",
       "    </tr>\n",
       "    <tr>\n",
       "      <th>3</th>\n",
       "      <td>217</td>\n",
       "      <td>Penguin Classics</td>\n",
       "      <td>24</td>\n",
       "    </tr>\n",
       "    <tr>\n",
       "      <th>4</th>\n",
       "      <td>33</td>\n",
       "      <td>Ballantine Books</td>\n",
       "      <td>19</td>\n",
       "    </tr>\n",
       "    <tr>\n",
       "      <th>5</th>\n",
       "      <td>35</td>\n",
       "      <td>Bantam</td>\n",
       "      <td>19</td>\n",
       "    </tr>\n",
       "    <tr>\n",
       "      <th>6</th>\n",
       "      <td>45</td>\n",
       "      <td>Berkley</td>\n",
       "      <td>17</td>\n",
       "    </tr>\n",
       "    <tr>\n",
       "      <th>7</th>\n",
       "      <td>284</td>\n",
       "      <td>St. Martin's Press</td>\n",
       "      <td>14</td>\n",
       "    </tr>\n",
       "    <tr>\n",
       "      <th>8</th>\n",
       "      <td>46</td>\n",
       "      <td>Berkley Books</td>\n",
       "      <td>14</td>\n",
       "    </tr>\n",
       "    <tr>\n",
       "      <th>9</th>\n",
       "      <td>83</td>\n",
       "      <td>Delta</td>\n",
       "      <td>13</td>\n",
       "    </tr>\n",
       "    <tr>\n",
       "      <th>10</th>\n",
       "      <td>333</td>\n",
       "      <td>William Morrow Paperbacks</td>\n",
       "      <td>13</td>\n",
       "    </tr>\n",
       "    <tr>\n",
       "      <th>11</th>\n",
       "      <td>176</td>\n",
       "      <td>Little  Brown and Company</td>\n",
       "      <td>12</td>\n",
       "    </tr>\n",
       "    <tr>\n",
       "      <th>12</th>\n",
       "      <td>133</td>\n",
       "      <td>HarperCollins</td>\n",
       "      <td>12</td>\n",
       "    </tr>\n",
       "    <tr>\n",
       "      <th>13</th>\n",
       "      <td>129</td>\n",
       "      <td>Harper Perennial</td>\n",
       "      <td>12</td>\n",
       "    </tr>\n",
       "    <tr>\n",
       "      <th>14</th>\n",
       "      <td>31</td>\n",
       "      <td>Back Bay Books</td>\n",
       "      <td>11</td>\n",
       "    </tr>\n",
       "    <tr>\n",
       "      <th>15</th>\n",
       "      <td>297</td>\n",
       "      <td>Tor Books</td>\n",
       "      <td>11</td>\n",
       "    </tr>\n",
       "    <tr>\n",
       "      <th>16</th>\n",
       "      <td>265</td>\n",
       "      <td>Signet</td>\n",
       "      <td>10</td>\n",
       "    </tr>\n",
       "    <tr>\n",
       "      <th>17</th>\n",
       "      <td>178</td>\n",
       "      <td>Mariner Books</td>\n",
       "      <td>10</td>\n",
       "    </tr>\n",
       "    <tr>\n",
       "      <th>18</th>\n",
       "      <td>229</td>\n",
       "      <td>Pocket Books</td>\n",
       "      <td>10</td>\n",
       "    </tr>\n",
       "    <tr>\n",
       "      <th>19</th>\n",
       "      <td>210</td>\n",
       "      <td>Penguin</td>\n",
       "      <td>10</td>\n",
       "    </tr>\n",
       "    <tr>\n",
       "      <th>20</th>\n",
       "      <td>305</td>\n",
       "      <td>Vertigo</td>\n",
       "      <td>10</td>\n",
       "    </tr>\n",
       "    <tr>\n",
       "      <th>21</th>\n",
       "      <td>143</td>\n",
       "      <td>HarperTorch</td>\n",
       "      <td>10</td>\n",
       "    </tr>\n",
       "    <tr>\n",
       "      <th>22</th>\n",
       "      <td>274</td>\n",
       "      <td>Simon Pulse</td>\n",
       "      <td>9</td>\n",
       "    </tr>\n",
       "    <tr>\n",
       "      <th>23</th>\n",
       "      <td>16</td>\n",
       "      <td>Anchor Books</td>\n",
       "      <td>9</td>\n",
       "    </tr>\n",
       "    <tr>\n",
       "      <th>24</th>\n",
       "      <td>183</td>\n",
       "      <td>Modern Library</td>\n",
       "      <td>9</td>\n",
       "    </tr>\n",
       "    <tr>\n",
       "      <th>25</th>\n",
       "      <td>329</td>\n",
       "      <td>Washington Square Press</td>\n",
       "      <td>9</td>\n",
       "    </tr>\n",
       "    <tr>\n",
       "      <th>26</th>\n",
       "      <td>268</td>\n",
       "      <td>Simon  Schuster</td>\n",
       "      <td>9</td>\n",
       "    </tr>\n",
       "    <tr>\n",
       "      <th>27</th>\n",
       "      <td>15</td>\n",
       "      <td>Anchor</td>\n",
       "      <td>9</td>\n",
       "    </tr>\n",
       "    <tr>\n",
       "      <th>28</th>\n",
       "      <td>243</td>\n",
       "      <td>Random House Trade Paperbacks</td>\n",
       "      <td>9</td>\n",
       "    </tr>\n",
       "    <tr>\n",
       "      <th>29</th>\n",
       "      <td>82</td>\n",
       "      <td>Dell Publishing Company</td>\n",
       "      <td>8</td>\n",
       "    </tr>\n",
       "  </tbody>\n",
       "</table>\n",
       "</div>"
      ],
      "text/plain": [
       "    publisher_id                      publisher  books_quantity\n",
       "0            212                  Penguin Books              42\n",
       "1            309                        Vintage              31\n",
       "2            116       Grand Central Publishing              25\n",
       "3            217               Penguin Classics              24\n",
       "4             33               Ballantine Books              19\n",
       "5             35                         Bantam              19\n",
       "6             45                        Berkley              17\n",
       "7            284             St. Martin's Press              14\n",
       "8             46                  Berkley Books              14\n",
       "9             83                          Delta              13\n",
       "10           333      William Morrow Paperbacks              13\n",
       "11           176      Little  Brown and Company              12\n",
       "12           133                  HarperCollins              12\n",
       "13           129               Harper Perennial              12\n",
       "14            31                 Back Bay Books              11\n",
       "15           297                      Tor Books              11\n",
       "16           265                         Signet              10\n",
       "17           178                  Mariner Books              10\n",
       "18           229                   Pocket Books              10\n",
       "19           210                        Penguin              10\n",
       "20           305                        Vertigo              10\n",
       "21           143                    HarperTorch              10\n",
       "22           274                    Simon Pulse               9\n",
       "23            16                   Anchor Books               9\n",
       "24           183                 Modern Library               9\n",
       "25           329        Washington Square Press               9\n",
       "26           268                Simon  Schuster               9\n",
       "27            15                         Anchor               9\n",
       "28           243  Random House Trade Paperbacks               9\n",
       "29            82        Dell Publishing Company               8"
      ]
     },
     "execution_count": 13,
     "metadata": {},
     "output_type": "execute_result"
    }
   ],
   "source": [
    "query = '''\n",
    "            SELECT p.publisher_id,\n",
    "                   p.publisher,\n",
    "                   COUNT(b.book_id) AS books_quantity    \n",
    "            FROM books AS b\n",
    "            LEFT JOIN publishers AS p on b.publisher_id = p.publisher_id\n",
    "            WHERE b.num_pages > 50\n",
    "            GROUP BY p.publisher_id\n",
    "            ORDER BY books_quantity DESC\n",
    "            LIMIT 30;\n",
    "        '''\n",
    "largest_publisher = pd.io.sql.read_sql(query, con=engine)\n",
    "largest_publisher"
   ]
  },
  {
   "cell_type": "markdown",
   "id": "81ed298a-0829-4aa3-9a2a-dbb9ffd480ee",
   "metadata": {},
   "source": [
    "Как и ожидали, видим уже, как минимум, три варианта написания пингвинов в выборке из 30 издательств, очевидно, данные в таблице с издательствами требуют определённого \"причёсывания\", чтобы можно было делать выводы о достоверности полученного результата."
   ]
  },
  {
   "cell_type": "markdown",
   "id": "e8dcd550-8bc7-4a75-8e19-1f5e3653e774",
   "metadata": {},
   "source": [
    "#### - определение автора с самой высокой средней оценкой книг (учитываем только книги с 50 и более оценками)\n",
    "    \n",
    "В данном случае, объединяем таблицы с информацией о рейтингах, книгах и авторах, группируем данные по авторам, выводим среднюю оценку книг автора, сортируем список по убыванию оценки, выводим первую строку."
   ]
  },
  {
   "cell_type": "code",
   "execution_count": 14,
   "id": "2c5e8efb-3496-4726-82b6-487287e35164",
   "metadata": {},
   "outputs": [
    {
     "data": {
      "text/html": [
       "<div>\n",
       "<style scoped>\n",
       "    .dataframe tbody tr th:only-of-type {\n",
       "        vertical-align: middle;\n",
       "    }\n",
       "\n",
       "    .dataframe tbody tr th {\n",
       "        vertical-align: top;\n",
       "    }\n",
       "\n",
       "    .dataframe thead th {\n",
       "        text-align: right;\n",
       "    }\n",
       "</style>\n",
       "<table border=\"1\" class=\"dataframe\">\n",
       "  <thead>\n",
       "    <tr style=\"text-align: right;\">\n",
       "      <th></th>\n",
       "      <th>avg_score</th>\n",
       "      <th>author</th>\n",
       "    </tr>\n",
       "  </thead>\n",
       "  <tbody>\n",
       "    <tr>\n",
       "      <th>0</th>\n",
       "      <td>4.288462</td>\n",
       "      <td>J.K. Rowling/Mary GrandPré</td>\n",
       "    </tr>\n",
       "  </tbody>\n",
       "</table>\n",
       "</div>"
      ],
      "text/plain": [
       "   avg_score                      author\n",
       "0   4.288462  J.K. Rowling/Mary GrandPré"
      ]
     },
     "execution_count": 14,
     "metadata": {},
     "output_type": "execute_result"
    }
   ],
   "source": [
    "query = '''\n",
    "            SELECT AVG(rat.rating) AS avg_score,\n",
    "                   a.author\n",
    "            FROM ratings AS rat\n",
    "            RIGHT JOIN books AS b ON rat.book_id = b.book_id\n",
    "            LEFT JOIN authors AS a ON b.author_id = a.author_id\n",
    "            GROUP BY a.author\n",
    "            HAVING COUNT(rat.rating_id) > 50\n",
    "            ORDER BY avg_score DESC\n",
    "            LIMIT 1;\n",
    "        '''\n",
    "highest_score = pd.io.sql.read_sql(query, con=engine)\n",
    "highest_score"
   ]
  },
  {
   "cell_type": "markdown",
   "id": "d0bdfff2-90b7-42fd-ac07-1c09463f66d3",
   "metadata": {},
   "source": [
    "Ожидаемо, в топе наиболее высокооцениваемых авторов у нас автор Гарри Поттера - J.K. Rowling, правда, тут автор идёт в паре с иллюстратором Mary GrandPré, и мы значем, что серия книг про Гарри Поттера в компании именно с этим иллюстратором имела наибольший успех, так что тут, возможно, заслуга не только автора книги.\n",
    "Посмотрим на первую десятку наиболее высокооцениваемых авторов."
   ]
  },
  {
   "cell_type": "code",
   "execution_count": 15,
   "id": "d5640827-7ff2-4d9b-bb2e-3ff90bb615ff",
   "metadata": {},
   "outputs": [
    {
     "data": {
      "text/html": [
       "<div>\n",
       "<style scoped>\n",
       "    .dataframe tbody tr th:only-of-type {\n",
       "        vertical-align: middle;\n",
       "    }\n",
       "\n",
       "    .dataframe tbody tr th {\n",
       "        vertical-align: top;\n",
       "    }\n",
       "\n",
       "    .dataframe thead th {\n",
       "        text-align: right;\n",
       "    }\n",
       "</style>\n",
       "<table border=\"1\" class=\"dataframe\">\n",
       "  <thead>\n",
       "    <tr style=\"text-align: right;\">\n",
       "      <th></th>\n",
       "      <th>avg_score</th>\n",
       "      <th>author</th>\n",
       "    </tr>\n",
       "  </thead>\n",
       "  <tbody>\n",
       "    <tr>\n",
       "      <th>0</th>\n",
       "      <td>4.288462</td>\n",
       "      <td>J.K. Rowling/Mary GrandPré</td>\n",
       "    </tr>\n",
       "    <tr>\n",
       "      <th>1</th>\n",
       "      <td>4.283019</td>\n",
       "      <td>Agatha Christie</td>\n",
       "    </tr>\n",
       "    <tr>\n",
       "      <th>2</th>\n",
       "      <td>4.264151</td>\n",
       "      <td>Markus Zusak/Cao Xuân Việt Khương</td>\n",
       "    </tr>\n",
       "    <tr>\n",
       "      <th>3</th>\n",
       "      <td>4.240964</td>\n",
       "      <td>J.R.R. Tolkien</td>\n",
       "    </tr>\n",
       "    <tr>\n",
       "      <th>4</th>\n",
       "      <td>4.209677</td>\n",
       "      <td>Roald Dahl/Quentin Blake</td>\n",
       "    </tr>\n",
       "    <tr>\n",
       "      <th>5</th>\n",
       "      <td>4.203704</td>\n",
       "      <td>Louisa May Alcott</td>\n",
       "    </tr>\n",
       "    <tr>\n",
       "      <th>6</th>\n",
       "      <td>4.130952</td>\n",
       "      <td>Rick Riordan</td>\n",
       "    </tr>\n",
       "    <tr>\n",
       "      <th>7</th>\n",
       "      <td>4.107143</td>\n",
       "      <td>Arthur Golden</td>\n",
       "    </tr>\n",
       "    <tr>\n",
       "      <th>8</th>\n",
       "      <td>4.009434</td>\n",
       "      <td>Stephen King</td>\n",
       "    </tr>\n",
       "    <tr>\n",
       "      <th>9</th>\n",
       "      <td>3.971429</td>\n",
       "      <td>John Grisham</td>\n",
       "    </tr>\n",
       "  </tbody>\n",
       "</table>\n",
       "</div>"
      ],
      "text/plain": [
       "   avg_score                             author\n",
       "0   4.288462         J.K. Rowling/Mary GrandPré\n",
       "1   4.283019                    Agatha Christie\n",
       "2   4.264151  Markus Zusak/Cao Xuân Việt Khương\n",
       "3   4.240964                     J.R.R. Tolkien\n",
       "4   4.209677           Roald Dahl/Quentin Blake\n",
       "5   4.203704                  Louisa May Alcott\n",
       "6   4.130952                       Rick Riordan\n",
       "7   4.107143                      Arthur Golden\n",
       "8   4.009434                       Stephen King\n",
       "9   3.971429                       John Grisham"
      ]
     },
     "execution_count": 15,
     "metadata": {},
     "output_type": "execute_result"
    }
   ],
   "source": [
    "query = '''\n",
    "            SELECT AVG(rat.rating) AS avg_score,\n",
    "                   a.author\n",
    "            FROM ratings AS rat\n",
    "            RIGHT JOIN books AS b ON rat.book_id = b.book_id\n",
    "            LEFT JOIN authors AS a ON b.author_id = a.author_id\n",
    "            GROUP BY a.author\n",
    "            HAVING COUNT(rat.rating_id) > 50\n",
    "            ORDER BY avg_score DESC\n",
    "            LIMIT 10;\n",
    "        '''\n",
    "highest_score = pd.io.sql.read_sql(query, con=engine)\n",
    "highest_score"
   ]
  },
  {
   "cell_type": "markdown",
   "id": "f90d07fe-4121-476a-9f4e-314cbe860ced",
   "metadata": {
    "tags": []
   },
   "source": [
    "Видим, что у первых двух авторов средняя оценка очень близка, а авторы их все1 первой десятки действительно авторы мировых бестселлеров, так что, полагаю, по данным в таблице с авторами \"сюрпризов\" в виде дубликатов, скорее всего, нет."
   ]
  },
  {
   "cell_type": "markdown",
   "id": "bd835d91-f5a4-45ea-b8df-71ce87ceef8c",
   "metadata": {},
   "source": [
    "#### - подсчёт среднего количества обзоров от пользователей, которые поставили больше 50 оценок\n",
    "\n",
    "Для выполнения такого расчёта нам необходимо сформировать подзапрос, в котором мы подсчитаем количество обзоров, которые оставил каждый пользователь, причём пользователей будем брать из таблицы с рейтингами, ограничив выборку лишь теми, кто поставил более 50 оценок. Далее из получившего подзапроса нам остаётся лишь подсчитать среднее количество обзоров от выбранных пользователей."
   ]
  },
  {
   "cell_type": "code",
   "execution_count": 16,
   "id": "e3e2ae55-6c7a-4728-a3c7-ad75245f5288",
   "metadata": {},
   "outputs": [
    {
     "data": {
      "text/html": [
       "<div>\n",
       "<style scoped>\n",
       "    .dataframe tbody tr th:only-of-type {\n",
       "        vertical-align: middle;\n",
       "    }\n",
       "\n",
       "    .dataframe tbody tr th {\n",
       "        vertical-align: top;\n",
       "    }\n",
       "\n",
       "    .dataframe thead th {\n",
       "        text-align: right;\n",
       "    }\n",
       "</style>\n",
       "<table border=\"1\" class=\"dataframe\">\n",
       "  <thead>\n",
       "    <tr style=\"text-align: right;\">\n",
       "      <th></th>\n",
       "      <th>avg</th>\n",
       "    </tr>\n",
       "  </thead>\n",
       "  <tbody>\n",
       "    <tr>\n",
       "      <th>0</th>\n",
       "      <td>24.333333</td>\n",
       "    </tr>\n",
       "  </tbody>\n",
       "</table>\n",
       "</div>"
      ],
      "text/plain": [
       "         avg\n",
       "0  24.333333"
      ]
     },
     "execution_count": 16,
     "metadata": {},
     "output_type": "execute_result"
    }
   ],
   "source": [
    "query = '''\n",
    "            WITH \n",
    "            users_reviews AS \n",
    "                    (SELECT DISTINCT(username) AS username,\n",
    "                            COUNT(review_id) AS reviews_quantity\n",
    "                     FROM reviews \n",
    "                     WHERE username in (SELECT DISTINCT(username)\n",
    "                                        FROM ratings \n",
    "                                        GROUP BY username\n",
    "                                        HAVING COUNT(book_id) > 50)\n",
    "                     GROUP BY username)\n",
    "            SELECT AVG(reviews_quantity)\n",
    "            FROM users_reviews;\n",
    "        '''\n",
    "avg_reviews = pd.io.sql.read_sql(query, con=engine)\n",
    "avg_reviews"
   ]
  },
  {
   "cell_type": "markdown",
   "id": "b1447c82-9609-4017-a1b9-e06bf4223462",
   "metadata": {},
   "source": [
    "Выходит, что среднее количество обзоров на одного пользователя, который любит ставить книгам оценки,  - 24 обзора, довольно много, похоже, что такие пользователи уже близки к уровню литературных критиков.\n",
    "Но попробуем дополнительно посмотреть на выборку из пользователей, которые любят ставить оценки, выясним, сколько их в целом, возможно, среди них есть те, кто пишет очень много обзоров, а кто-то пишет совсем мало."
   ]
  },
  {
   "cell_type": "code",
   "execution_count": 17,
   "id": "74b258f7-c081-4a3f-a739-effce9c772d6",
   "metadata": {},
   "outputs": [
    {
     "data": {
      "text/html": [
       "<div>\n",
       "<style scoped>\n",
       "    .dataframe tbody tr th:only-of-type {\n",
       "        vertical-align: middle;\n",
       "    }\n",
       "\n",
       "    .dataframe tbody tr th {\n",
       "        vertical-align: top;\n",
       "    }\n",
       "\n",
       "    .dataframe thead th {\n",
       "        text-align: right;\n",
       "    }\n",
       "</style>\n",
       "<table border=\"1\" class=\"dataframe\">\n",
       "  <thead>\n",
       "    <tr style=\"text-align: right;\">\n",
       "      <th></th>\n",
       "      <th>username</th>\n",
       "      <th>reviews_quantity</th>\n",
       "    </tr>\n",
       "  </thead>\n",
       "  <tbody>\n",
       "    <tr>\n",
       "      <th>0</th>\n",
       "      <td>sfitzgerald</td>\n",
       "      <td>28</td>\n",
       "    </tr>\n",
       "    <tr>\n",
       "      <th>1</th>\n",
       "      <td>martinadam</td>\n",
       "      <td>27</td>\n",
       "    </tr>\n",
       "    <tr>\n",
       "      <th>2</th>\n",
       "      <td>richard89</td>\n",
       "      <td>26</td>\n",
       "    </tr>\n",
       "    <tr>\n",
       "      <th>3</th>\n",
       "      <td>jennifermiller</td>\n",
       "      <td>25</td>\n",
       "    </tr>\n",
       "    <tr>\n",
       "      <th>4</th>\n",
       "      <td>paul88</td>\n",
       "      <td>22</td>\n",
       "    </tr>\n",
       "    <tr>\n",
       "      <th>5</th>\n",
       "      <td>xdavis</td>\n",
       "      <td>18</td>\n",
       "    </tr>\n",
       "  </tbody>\n",
       "</table>\n",
       "</div>"
      ],
      "text/plain": [
       "         username  reviews_quantity\n",
       "0     sfitzgerald                28\n",
       "1      martinadam                27\n",
       "2       richard89                26\n",
       "3  jennifermiller                25\n",
       "4          paul88                22\n",
       "5          xdavis                18"
      ]
     },
     "execution_count": 17,
     "metadata": {},
     "output_type": "execute_result"
    }
   ],
   "source": [
    "query = '''\n",
    "            SELECT DISTINCT(username) AS username,\n",
    "                   COUNT(review_id) AS reviews_quantity\n",
    "            FROM reviews \n",
    "            WHERE username in (SELECT DISTINCT(username)\n",
    "                               FROM ratings \n",
    "                               GROUP BY username\n",
    "                               HAVING COUNT(book_id) > 50)\n",
    "            GROUP BY username\n",
    "            ORDER BY reviews_quantity DESC;\n",
    "        '''\n",
    "avg_reviews = pd.io.sql.read_sql(query, con=engine)\n",
    "avg_reviews"
   ]
  },
  {
   "cell_type": "markdown",
   "id": "aaa0ab3c-f998-419d-a734-1ac304a4d16f",
   "metadata": {},
   "source": [
    "Видим, что у нас всего 5 литературных критиков, которые действительно пишут много обзоров (от 18 до 28), так что среднее значение выглядит максимально корректным."
   ]
  },
  {
   "cell_type": "markdown",
   "id": "fef50515-aa59-4b64-9dd0-9719ff166aa7",
   "metadata": {},
   "source": [
    "## 3. Выводы"
   ]
  },
  {
   "cell_type": "markdown",
   "id": "7d87304f-a759-41f1-ad61-8f52b6318e9d",
   "metadata": {},
   "source": [
    "анализировать базу данных. В ней — информация о книгах, издательствах, авторах, а также пользовательские обзоры книг. Эти данные помогут сформулировать ценностное предложение для нового продукта.Итак, мы проанализировали имеющуюся базу данных с информацией о книгах, издательствах, авторах, пользовательских обзорах и оценках книг. \n",
    "В ходе исследования мы выполнили следующие шаги:\n",
    "- выяснили количество книг, вышедших за прошедшее время (после 1 января 2000 года) - всего 819 таких книг и учитывая, что в нашей выборке есть данные с начала 1952 до конца марта 2020 года, а книг в выборке всего 1000, выходит в последние 20 лет были изданы более 80% книг из выборки, это может говорить как о том, что либо издавать книги стало дешевле/проще, так и о том, что спрос на них в последние годы вырос.\n",
    "- оценили обозреваемость и узнали среднюю оценку для каждой книги из имеющейся базы данных - оказалось что больше всего обзоров у книги \"Сумерки\", возможно,из-за популярности одноимённого фильма, при этом рейтинг книги не очень высокий, а наиболее высокие рейтинги у книг, на которые мало обзоров, выходит, либо об этих книгах знают немногие читатели, в связи с чем не могут их прочесть, либо это книги специфические и рассчитаны на \"своего\" читателя, который их и находит, либо пользователи просто не делают обзоры на них по каким-то своим причинам.\n",
    "- выделили издательство, которое выпустило наибольшее число книг - это издательство британское издательство Penguin, однако тут возможны варианты, так как мы обнаружили некоторые неявные дубликаты в данных по наименованиям издательств (есть написания части имени издательства, написание серии книг, которые выпускает издательство, и т.п.), имеет смысл перепроверить информацию об издательстве, которое выпустило наибольшее число книг, после обработки этих дубликатов. \n",
    "- нашли автора с наивысшей (по мнению пользователей) средней оценкой книг среди наиболее оцениваемых книг - это автор Гарри Поттера в компании с наиболее известным иллюстратором книг о Гарри Поттере (J.K. Rowling/Mary GrandPré), также в выборке с наиболее высокой средней оценкой есть авторы современных и уже не очень современных (Агата Кристи) бестселлеров.\n",
    "- узнали, сколько в среднем обзоров книг делают пользователи, оценивающие книги максимально часто - оказалось что обозревателей, которые чаще других оценивают книги, всего 5, в среднем они делают по 24 обзора (от 18 до 28).\n",
    "\n",
    "Что касается цели исследования - сформулировать ценностное предложение для нового продукта в приложении для чтения книг по подписке, то, можно предложить внедрить в приложении следующие опции:\n",
    "- диверсификация предложений по книгам для разных категорий читателей (по возрасту и  интересам)\n",
    "- возможность прочитать первую главу книги бесплатно (чтобы пользователь мог оценить, насколько ему интересно продолжать чтение и затем подписаться на неё)\n",
    "- информация о наиболее высокооценённых книгах на главной странице приложения, чтобы пользователи сразу могли её увидеть\n",
    "- функционал по подбору похожей (по жанру, стилистике, автору) книги, после прочтения предыдущей, особенно, если пользователь поставил такой книге высокую оценку\n",
    "- предложение оценить книгу сразу после прочтения (лучше с возможностью не оставлять обязательный текст или проходить опрос, не все пользователи хотят тратить дополнительное время на это, некоторым проще просто поставить нужное количество звёздочек, чем  объяснять, что конкретно понравилось, а что нет)."
   ]
  }
 ],
 "metadata": {
  "ExecuteTimeLog": [
   {
    "duration": 99,
    "start_time": "2022-06-23T15:20:56.228Z"
   },
   {
    "duration": 1084,
    "start_time": "2022-06-24T03:41:59.167Z"
   },
   {
    "duration": 200,
    "start_time": "2022-06-24T03:42:00.254Z"
   },
   {
    "duration": 12,
    "start_time": "2022-06-24T03:42:00.458Z"
   },
   {
    "duration": 32,
    "start_time": "2022-06-24T03:42:00.472Z"
   },
   {
    "duration": 30,
    "start_time": "2022-06-24T03:42:00.506Z"
   },
   {
    "duration": 69,
    "start_time": "2022-06-24T03:42:00.654Z"
   },
   {
    "duration": 77,
    "start_time": "2022-06-24T03:42:00.957Z"
   },
   {
    "duration": 78,
    "start_time": "2022-06-24T03:42:01.286Z"
   },
   {
    "duration": 62,
    "start_time": "2022-06-24T03:42:01.767Z"
   },
   {
    "duration": 26,
    "start_time": "2022-06-24T03:42:02.086Z"
   },
   {
    "duration": 25,
    "start_time": "2022-06-24T03:42:02.416Z"
   },
   {
    "duration": 24,
    "start_time": "2022-06-24T03:42:02.733Z"
   },
   {
    "duration": 37,
    "start_time": "2022-06-24T03:42:03.062Z"
   },
   {
    "duration": 63,
    "start_time": "2022-06-24T03:42:03.381Z"
   },
   {
    "duration": 37,
    "start_time": "2022-06-24T03:42:03.958Z"
   },
   {
    "duration": 28,
    "start_time": "2022-06-24T03:42:04.981Z"
   },
   {
    "duration": 268,
    "start_time": "2022-06-24T03:42:05.334Z"
   },
   {
    "duration": 37,
    "start_time": "2022-06-24T03:42:05.734Z"
   },
   {
    "duration": 46,
    "start_time": "2022-06-24T03:42:07.309Z"
   },
   {
    "duration": 191,
    "start_time": "2022-06-24T03:42:07.489Z"
   },
   {
    "duration": 49,
    "start_time": "2022-06-24T03:42:08.861Z"
   },
   {
    "duration": 29,
    "start_time": "2022-06-24T03:42:09.725Z"
   },
   {
    "duration": 37,
    "start_time": "2022-06-24T03:42:10.697Z"
   },
   {
    "duration": 34,
    "start_time": "2022-06-24T03:42:11.661Z"
   },
   {
    "duration": 92,
    "start_time": "2022-06-24T03:42:11.934Z"
   },
   {
    "duration": 20,
    "start_time": "2022-06-24T03:42:13.141Z"
   },
   {
    "duration": 24,
    "start_time": "2022-06-24T03:42:15.189Z"
   },
   {
    "duration": 35,
    "start_time": "2022-06-24T03:42:16.510Z"
   },
   {
    "duration": 12,
    "start_time": "2022-06-24T03:42:18.590Z"
   },
   {
    "duration": 11,
    "start_time": "2022-06-24T03:42:20.862Z"
   },
   {
    "duration": 10,
    "start_time": "2022-06-24T03:42:21.959Z"
   },
   {
    "duration": 4,
    "start_time": "2022-06-24T03:42:23.208Z"
   },
   {
    "duration": 167,
    "start_time": "2022-06-24T03:42:24.286Z"
   },
   {
    "duration": 77,
    "start_time": "2022-06-24T04:18:59.683Z"
   },
   {
    "duration": 13256,
    "start_time": "2022-08-19T08:18:28.338Z"
   },
   {
    "duration": 77,
    "start_time": "2022-08-19T08:18:41.596Z"
   },
   {
    "duration": 11,
    "start_time": "2022-08-19T08:18:41.675Z"
   },
   {
    "duration": 11,
    "start_time": "2022-08-19T08:18:41.687Z"
   },
   {
    "duration": 20,
    "start_time": "2022-08-19T08:18:41.700Z"
   },
   {
    "duration": 11,
    "start_time": "2022-08-19T08:18:41.722Z"
   },
   {
    "duration": 9,
    "start_time": "2022-08-19T08:18:41.735Z"
   },
   {
    "duration": 9,
    "start_time": "2022-08-19T08:18:41.745Z"
   },
   {
    "duration": 26,
    "start_time": "2022-08-19T08:18:41.756Z"
   },
   {
    "duration": 28,
    "start_time": "2022-08-19T08:18:41.783Z"
   },
   {
    "duration": 16,
    "start_time": "2022-08-19T08:18:41.812Z"
   },
   {
    "duration": 11,
    "start_time": "2022-08-19T08:18:41.830Z"
   },
   {
    "duration": 14,
    "start_time": "2022-08-19T08:18:41.843Z"
   },
   {
    "duration": 14,
    "start_time": "2022-08-19T08:18:41.859Z"
   },
   {
    "duration": 12,
    "start_time": "2022-08-19T08:18:41.874Z"
   },
   {
    "duration": 12,
    "start_time": "2022-08-19T08:18:41.887Z"
   },
   {
    "duration": 13801,
    "start_time": "2022-08-19T08:19:03.374Z"
   },
   {
    "duration": 71,
    "start_time": "2022-08-19T08:19:17.177Z"
   },
   {
    "duration": 9,
    "start_time": "2022-08-19T08:19:17.249Z"
   },
   {
    "duration": 8,
    "start_time": "2022-08-19T08:19:17.260Z"
   },
   {
    "duration": 9,
    "start_time": "2022-08-19T08:19:17.270Z"
   },
   {
    "duration": 10,
    "start_time": "2022-08-19T08:19:17.280Z"
   },
   {
    "duration": 10,
    "start_time": "2022-08-19T08:19:17.291Z"
   },
   {
    "duration": 14,
    "start_time": "2022-08-19T08:19:17.302Z"
   },
   {
    "duration": 30,
    "start_time": "2022-08-19T08:19:17.318Z"
   },
   {
    "duration": 23,
    "start_time": "2022-08-19T08:19:17.350Z"
   },
   {
    "duration": 10,
    "start_time": "2022-08-19T08:19:17.374Z"
   },
   {
    "duration": 12,
    "start_time": "2022-08-19T08:19:17.385Z"
   },
   {
    "duration": 26,
    "start_time": "2022-08-19T08:19:17.398Z"
   },
   {
    "duration": 14,
    "start_time": "2022-08-19T08:19:17.426Z"
   },
   {
    "duration": 11,
    "start_time": "2022-08-19T08:19:17.441Z"
   },
   {
    "duration": 11,
    "start_time": "2022-08-19T08:19:17.453Z"
   },
   {
    "duration": 6248,
    "start_time": "2022-08-19T08:32:44.345Z"
   },
   {
    "duration": 275,
    "start_time": "2022-08-19T08:32:50.595Z"
   },
   {
    "duration": 75,
    "start_time": "2022-08-19T08:32:50.871Z"
   },
   {
    "duration": 73,
    "start_time": "2022-08-19T08:32:50.948Z"
   },
   {
    "duration": 74,
    "start_time": "2022-08-19T08:32:51.024Z"
   },
   {
    "duration": 74,
    "start_time": "2022-08-19T08:32:51.099Z"
   },
   {
    "duration": 74,
    "start_time": "2022-08-19T08:32:52.831Z"
   },
   {
    "duration": 75,
    "start_time": "2022-08-19T08:34:16.492Z"
   },
   {
    "duration": 75,
    "start_time": "2022-08-19T08:38:49.532Z"
   },
   {
    "duration": 218,
    "start_time": "2022-08-19T08:46:07.169Z"
   },
   {
    "duration": 100,
    "start_time": "2022-08-19T08:46:38.629Z"
   },
   {
    "duration": 102,
    "start_time": "2022-08-19T08:49:33.128Z"
   },
   {
    "duration": 104,
    "start_time": "2022-08-19T08:50:02.909Z"
   },
   {
    "duration": 136,
    "start_time": "2022-08-19T08:51:12.390Z"
   },
   {
    "duration": 73,
    "start_time": "2022-08-19T08:51:40.956Z"
   },
   {
    "duration": 121,
    "start_time": "2022-08-19T08:52:28.715Z"
   },
   {
    "duration": 73,
    "start_time": "2022-08-19T08:52:41.823Z"
   },
   {
    "duration": 101,
    "start_time": "2022-08-19T08:53:08.122Z"
   },
   {
    "duration": 101,
    "start_time": "2022-08-19T08:53:42.980Z"
   },
   {
    "duration": 100,
    "start_time": "2022-08-19T08:54:01.549Z"
   },
   {
    "duration": 102,
    "start_time": "2022-08-19T08:54:47.175Z"
   },
   {
    "duration": 102,
    "start_time": "2022-08-19T08:55:16.910Z"
   },
   {
    "duration": 110,
    "start_time": "2022-08-19T08:56:12.645Z"
   },
   {
    "duration": 85,
    "start_time": "2022-08-19T08:58:05.690Z"
   },
   {
    "duration": 108,
    "start_time": "2022-08-19T08:59:09.967Z"
   },
   {
    "duration": 108,
    "start_time": "2022-08-19T08:59:17.241Z"
   },
   {
    "duration": 128,
    "start_time": "2022-08-19T08:59:29.294Z"
   },
   {
    "duration": 107,
    "start_time": "2022-08-19T09:00:58.815Z"
   },
   {
    "duration": 85,
    "start_time": "2022-08-19T09:01:28.406Z"
   },
   {
    "duration": 108,
    "start_time": "2022-08-19T09:01:59.159Z"
   },
   {
    "duration": 100,
    "start_time": "2022-08-19T09:04:43.971Z"
   },
   {
    "duration": 129,
    "start_time": "2022-08-19T09:07:22.701Z"
   },
   {
    "duration": 103,
    "start_time": "2022-08-19T09:10:24.744Z"
   },
   {
    "duration": 107,
    "start_time": "2022-08-19T09:10:32.896Z"
   },
   {
    "duration": 240,
    "start_time": "2022-08-19T09:12:29.998Z"
   },
   {
    "duration": 147,
    "start_time": "2022-08-19T09:13:03.632Z"
   },
   {
    "duration": 113,
    "start_time": "2022-08-19T09:13:38.727Z"
   },
   {
    "duration": 107,
    "start_time": "2022-08-19T09:14:01.104Z"
   },
   {
    "duration": 179,
    "start_time": "2022-08-19T09:14:19.552Z"
   },
   {
    "duration": 164,
    "start_time": "2022-08-19T09:14:27.188Z"
   },
   {
    "duration": 112,
    "start_time": "2022-08-19T09:15:28.204Z"
   },
   {
    "duration": 112,
    "start_time": "2022-08-19T09:16:12.156Z"
   },
   {
    "duration": 92,
    "start_time": "2022-08-19T09:21:14.371Z"
   },
   {
    "duration": 99,
    "start_time": "2022-08-19T09:22:57.270Z"
   },
   {
    "duration": 6894,
    "start_time": "2022-08-19T09:27:13.269Z"
   },
   {
    "duration": 259,
    "start_time": "2022-08-19T09:27:20.164Z"
   },
   {
    "duration": 74,
    "start_time": "2022-08-19T09:27:20.425Z"
   },
   {
    "duration": 79,
    "start_time": "2022-08-19T09:27:20.501Z"
   },
   {
    "duration": 75,
    "start_time": "2022-08-19T09:27:20.582Z"
   },
   {
    "duration": 75,
    "start_time": "2022-08-19T09:27:20.659Z"
   },
   {
    "duration": 74,
    "start_time": "2022-08-19T09:27:20.736Z"
   },
   {
    "duration": 75,
    "start_time": "2022-08-19T09:27:20.811Z"
   },
   {
    "duration": 74,
    "start_time": "2022-08-19T09:27:20.888Z"
   },
   {
    "duration": 111,
    "start_time": "2022-08-19T09:27:20.964Z"
   },
   {
    "duration": 97,
    "start_time": "2022-08-19T09:27:21.077Z"
   },
   {
    "duration": 84,
    "start_time": "2022-08-19T09:27:21.175Z"
   },
   {
    "duration": 75,
    "start_time": "2022-08-19T09:27:21.261Z"
   },
   {
    "duration": 76,
    "start_time": "2022-08-19T09:27:21.337Z"
   },
   {
    "duration": 79,
    "start_time": "2022-08-19T09:27:21.414Z"
   },
   {
    "duration": 79,
    "start_time": "2022-08-19T09:27:21.495Z"
   },
   {
    "duration": 77,
    "start_time": "2022-08-19T09:27:21.575Z"
   },
   {
    "duration": 76,
    "start_time": "2022-08-19T09:27:21.653Z"
   }
  ],
  "kernelspec": {
   "display_name": "Python 3 (ipykernel)",
   "language": "python",
   "name": "python3"
  },
  "language_info": {
   "codemirror_mode": {
    "name": "ipython",
    "version": 3
   },
   "file_extension": ".py",
   "mimetype": "text/x-python",
   "name": "python",
   "nbconvert_exporter": "python",
   "pygments_lexer": "ipython3",
   "version": "3.10.4"
  },
  "toc": {
   "base_numbering": 1,
   "nav_menu": {},
   "number_sections": true,
   "sideBar": true,
   "skip_h1_title": true,
   "title_cell": "Table of Contents",
   "title_sidebar": "Contents",
   "toc_cell": false,
   "toc_position": {},
   "toc_section_display": true,
   "toc_window_display": false
  }
 },
 "nbformat": 4,
 "nbformat_minor": 5
}
