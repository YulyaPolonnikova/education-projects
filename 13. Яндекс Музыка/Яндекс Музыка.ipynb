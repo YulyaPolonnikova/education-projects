{
 "cells": [
  {
   "cell_type": "markdown",
   "metadata": {
    "id": "E0vqbgi9ay0H"
   },
   "source": [
    "<h1> <p style=\"text-align: center;\"> Яндекс Музыка </p></h1>\n",
    "<h3> Содержание </h3>\n",
    "\n",
    "<ol class=\"toc-item\">\n",
    "    <li> Обзор данных </li>\n",
    "    <li> Предобработка данных </li>\n",
    "    <ul> <li> Стиль заголовков </li>\n",
    "         <li> Пропуски значений </li>\n",
    "         <li> Дубликаты </li> </ul>        \n",
    "    <li> Проверка гипотез </li>\n",
    "    <ul> <li> Сравнение поведения пользователей двух столиц </li>\n",
    "         <li> Музыка в начале и в конце недели </li>\n",
    "         <li> Жанровые предпочтения в Москве и Петербурге </li> </ul>        \n",
    "    <li> Итоги исследования </li>"
   ]
  },
  {
   "cell_type": "markdown",
   "metadata": {
    "id": "Ml1hmfXC_Zcs"
   },
   "source": [
    "## Обзор данных\n",
    "\n",
    "Составим первое представление о данных Яндекс.Музыки"
   ]
  },
  {
   "cell_type": "markdown",
   "metadata": {
    "id": "57eAOGIz_Zcs"
   },
   "source": [
    "Импортируем библиотеку `pandas`."
   ]
  },
  {
   "cell_type": "code",
   "execution_count": 1,
   "metadata": {
    "id": "AXN7PHPN_Zcs"
   },
   "outputs": [],
   "source": [
    "# импорт библиотеки pandas\n",
    "import pandas as pd"
   ]
  },
  {
   "cell_type": "markdown",
   "metadata": {
    "id": "SG23P8tt_Zcs"
   },
   "source": [
    "Прочитаем файл с данными и сохраним его в переменной `df`:"
   ]
  },
  {
   "cell_type": "code",
   "execution_count": 2,
   "metadata": {
    "id": "fFVu7vqh_Zct"
   },
   "outputs": [],
   "source": [
    "# чтение файла с данными и сохранение в df\n",
    "df = pd.read_csv('') # в '' указываем наименование файла с данными"
   ]
  },
  {
   "cell_type": "markdown",
   "metadata": {
    "id": "rDoOMd3uTqnZ"
   },
   "source": [
    "Выводим на экран первые десять строк таблицы:"
   ]
  },
  {
   "cell_type": "code",
   "execution_count": 3,
   "metadata": {
    "id": "oWTVX3gW_Zct"
   },
   "outputs": [
    {
     "data": {
      "text/html": [
       "<div>\n",
       "<style scoped>\n",
       "    .dataframe tbody tr th:only-of-type {\n",
       "        vertical-align: middle;\n",
       "    }\n",
       "\n",
       "    .dataframe tbody tr th {\n",
       "        vertical-align: top;\n",
       "    }\n",
       "\n",
       "    .dataframe thead th {\n",
       "        text-align: right;\n",
       "    }\n",
       "</style>\n",
       "<table border=\"1\" class=\"dataframe\">\n",
       "  <thead>\n",
       "    <tr style=\"text-align: right;\">\n",
       "      <th></th>\n",
       "      <th>userID</th>\n",
       "      <th>Track</th>\n",
       "      <th>artist</th>\n",
       "      <th>genre</th>\n",
       "      <th>City</th>\n",
       "      <th>time</th>\n",
       "      <th>Day</th>\n",
       "    </tr>\n",
       "  </thead>\n",
       "  <tbody>\n",
       "    <tr>\n",
       "      <th>0</th>\n",
       "      <td>FFB692EC</td>\n",
       "      <td>Kamigata To Boots</td>\n",
       "      <td>The Mass Missile</td>\n",
       "      <td>rock</td>\n",
       "      <td>Saint-Petersburg</td>\n",
       "      <td>20:28:33</td>\n",
       "      <td>Wednesday</td>\n",
       "    </tr>\n",
       "    <tr>\n",
       "      <th>1</th>\n",
       "      <td>55204538</td>\n",
       "      <td>Delayed Because of Accident</td>\n",
       "      <td>Andreas Rönnberg</td>\n",
       "      <td>rock</td>\n",
       "      <td>Moscow</td>\n",
       "      <td>14:07:09</td>\n",
       "      <td>Friday</td>\n",
       "    </tr>\n",
       "    <tr>\n",
       "      <th>2</th>\n",
       "      <td>20EC38</td>\n",
       "      <td>Funiculì funiculà</td>\n",
       "      <td>Mario Lanza</td>\n",
       "      <td>pop</td>\n",
       "      <td>Saint-Petersburg</td>\n",
       "      <td>20:58:07</td>\n",
       "      <td>Wednesday</td>\n",
       "    </tr>\n",
       "    <tr>\n",
       "      <th>3</th>\n",
       "      <td>A3DD03C9</td>\n",
       "      <td>Dragons in the Sunset</td>\n",
       "      <td>Fire + Ice</td>\n",
       "      <td>folk</td>\n",
       "      <td>Saint-Petersburg</td>\n",
       "      <td>08:37:09</td>\n",
       "      <td>Monday</td>\n",
       "    </tr>\n",
       "    <tr>\n",
       "      <th>4</th>\n",
       "      <td>E2DC1FAE</td>\n",
       "      <td>Soul People</td>\n",
       "      <td>Space Echo</td>\n",
       "      <td>dance</td>\n",
       "      <td>Moscow</td>\n",
       "      <td>08:34:34</td>\n",
       "      <td>Monday</td>\n",
       "    </tr>\n",
       "    <tr>\n",
       "      <th>5</th>\n",
       "      <td>842029A1</td>\n",
       "      <td>Преданная</td>\n",
       "      <td>IMPERVTOR</td>\n",
       "      <td>rusrap</td>\n",
       "      <td>Saint-Petersburg</td>\n",
       "      <td>13:09:41</td>\n",
       "      <td>Friday</td>\n",
       "    </tr>\n",
       "    <tr>\n",
       "      <th>6</th>\n",
       "      <td>4CB90AA5</td>\n",
       "      <td>True</td>\n",
       "      <td>Roman Messer</td>\n",
       "      <td>dance</td>\n",
       "      <td>Moscow</td>\n",
       "      <td>13:00:07</td>\n",
       "      <td>Wednesday</td>\n",
       "    </tr>\n",
       "    <tr>\n",
       "      <th>7</th>\n",
       "      <td>F03E1C1F</td>\n",
       "      <td>Feeling This Way</td>\n",
       "      <td>Polina Griffith</td>\n",
       "      <td>dance</td>\n",
       "      <td>Moscow</td>\n",
       "      <td>20:47:49</td>\n",
       "      <td>Wednesday</td>\n",
       "    </tr>\n",
       "    <tr>\n",
       "      <th>8</th>\n",
       "      <td>8FA1D3BE</td>\n",
       "      <td>И вновь продолжается бой</td>\n",
       "      <td>NaN</td>\n",
       "      <td>ruspop</td>\n",
       "      <td>Moscow</td>\n",
       "      <td>09:17:40</td>\n",
       "      <td>Friday</td>\n",
       "    </tr>\n",
       "    <tr>\n",
       "      <th>9</th>\n",
       "      <td>E772D5C0</td>\n",
       "      <td>Pessimist</td>\n",
       "      <td>NaN</td>\n",
       "      <td>dance</td>\n",
       "      <td>Saint-Petersburg</td>\n",
       "      <td>21:20:49</td>\n",
       "      <td>Wednesday</td>\n",
       "    </tr>\n",
       "  </tbody>\n",
       "</table>\n",
       "</div>"
      ],
      "text/plain": [
       "     userID                        Track            artist   genre  \\\n",
       "0  FFB692EC            Kamigata To Boots  The Mass Missile    rock   \n",
       "1  55204538  Delayed Because of Accident  Andreas Rönnberg    rock   \n",
       "2    20EC38            Funiculì funiculà       Mario Lanza     pop   \n",
       "3  A3DD03C9        Dragons in the Sunset        Fire + Ice    folk   \n",
       "4  E2DC1FAE                  Soul People        Space Echo   dance   \n",
       "5  842029A1                    Преданная         IMPERVTOR  rusrap   \n",
       "6  4CB90AA5                         True      Roman Messer   dance   \n",
       "7  F03E1C1F             Feeling This Way   Polina Griffith   dance   \n",
       "8  8FA1D3BE     И вновь продолжается бой               NaN  ruspop   \n",
       "9  E772D5C0                    Pessimist               NaN   dance   \n",
       "\n",
       "             City        time        Day  \n",
       "0  Saint-Petersburg  20:28:33  Wednesday  \n",
       "1            Moscow  14:07:09     Friday  \n",
       "2  Saint-Petersburg  20:58:07  Wednesday  \n",
       "3  Saint-Petersburg  08:37:09     Monday  \n",
       "4            Moscow  08:34:34     Monday  \n",
       "5  Saint-Petersburg  13:09:41     Friday  \n",
       "6            Moscow  13:00:07  Wednesday  \n",
       "7            Moscow  20:47:49  Wednesday  \n",
       "8            Moscow  09:17:40     Friday  \n",
       "9  Saint-Petersburg  21:20:49  Wednesday  "
      ]
     },
     "execution_count": 3,
     "metadata": {},
     "output_type": "execute_result"
    }
   ],
   "source": [
    "# получение первых 10 строк таблицы df\n",
    "df.head(10)"
   ]
  },
  {
   "cell_type": "markdown",
   "metadata": {
    "id": "EO73Kwic_Zct"
   },
   "source": [
    "Получим общую информацию о таблице:"
   ]
  },
  {
   "cell_type": "code",
   "execution_count": 4,
   "metadata": {
    "id": "DSf2kIb-_Zct"
   },
   "outputs": [
    {
     "name": "stdout",
     "output_type": "stream",
     "text": [
      "<class 'pandas.core.frame.DataFrame'>\n",
      "RangeIndex: 65079 entries, 0 to 65078\n",
      "Data columns (total 7 columns):\n",
      " #   Column    Non-Null Count  Dtype \n",
      "---  ------    --------------  ----- \n",
      " 0     userID  65079 non-null  object\n",
      " 1   Track     63848 non-null  object\n",
      " 2   artist    57876 non-null  object\n",
      " 3   genre     63881 non-null  object\n",
      " 4     City    65079 non-null  object\n",
      " 5   time      65079 non-null  object\n",
      " 6   Day       65079 non-null  object\n",
      "dtypes: object(7)\n",
      "memory usage: 3.5+ MB\n"
     ]
    }
   ],
   "source": [
    "# получение общей информации о данных в таблице df\n",
    "df.info()"
   ]
  },
  {
   "cell_type": "markdown",
   "metadata": {
    "id": "TaQ2Iwbr_Zct"
   },
   "source": [
    "Итак, в таблице семь столбцов. Тип данных во всех столбцах — `object`.\n",
    "\n",
    "В названиях колонок видим нарушения стиля:\n",
    "1. Строчные буквы сочетаются с прописными.\n",
    "2. Встречаются пробелы.\n",
    "3. Отсутствует разделение слов через нижнее подчеркивание в названии колонки 'userID'.\n",
    "4. Количество значений в столбцах различается. Значит, в данных есть пропущенные значения.\n",
    "\n",
    "Для проведения дальнейшего анализа необходимо устранить эти проблемы."
   ]
  },
  {
   "cell_type": "markdown",
   "metadata": {
    "id": "SjYF6Ub9_Zct"
   },
   "source": [
    "## Предобработка данных\n",
    "Исправим стиль в заголовках столбцов, исключим пропуски. Затем проверим данные на дубликаты."
   ]
  },
  {
   "cell_type": "markdown",
   "metadata": {
    "id": "dIaKXr29_Zct"
   },
   "source": [
    "### Стиль заголовков\n",
    "Выводим на экран названия столбцов:"
   ]
  },
  {
   "cell_type": "code",
   "execution_count": 5,
   "metadata": {
    "id": "oKOTdF_Q_Zct"
   },
   "outputs": [
    {
     "data": {
      "text/plain": [
       "Index(['  userID', 'Track', 'artist', 'genre', '  City  ', 'time', 'Day'], dtype='object')"
      ]
     },
     "execution_count": 5,
     "metadata": {},
     "output_type": "execute_result"
    }
   ],
   "source": [
    "# перечень названий столбцов таблицы df\n",
    "df.columns"
   ]
  },
  {
   "cell_type": "markdown",
   "metadata": {
    "id": "zj5534cv_Zct"
   },
   "source": [
    "Приведём названия в соответствие с хорошим стилем:\n",
    "* несколько слов в названии запишем в «змеином_регистре» (вместо пробелом между словами ставим нижнее подчёркивание)\n",
    "* все символы сделаем строчными\n",
    "* устраним пробелы"
   ]
  },
  {
   "cell_type": "code",
   "execution_count": 6,
   "metadata": {
    "id": "ISlFqs5y_Zct"
   },
   "outputs": [],
   "source": [
    "# переименование столбцов\n",
    "df = df.rename(columns = {'  userID': 'user_id', 'Track': 'track', '  City  ': 'city', 'Day': 'day'})"
   ]
  },
  {
   "cell_type": "markdown",
   "metadata": {
    "id": "1dqbh00J_Zct"
   },
   "source": [
    "Проверим результат, снова выводим на экран названия столбцов:"
   ]
  },
  {
   "cell_type": "code",
   "execution_count": 7,
   "metadata": {
    "id": "d4NOAmTW_Zct"
   },
   "outputs": [
    {
     "data": {
      "text/plain": [
       "Index(['user_id', 'track', 'artist', 'genre', 'city', 'time', 'day'], dtype='object')"
      ]
     },
     "execution_count": 7,
     "metadata": {},
     "output_type": "execute_result"
    }
   ],
   "source": [
    "# проверка результатов - перечень названий столбцов\n",
    "df.columns"
   ]
  },
  {
   "cell_type": "markdown",
   "metadata": {
    "id": "5ISfbcfY_Zct"
   },
   "source": [
    "### Пропуски значений\n",
    "Сначала посчитаем, сколько в таблице пропущенных значений."
   ]
  },
  {
   "cell_type": "code",
   "execution_count": 8,
   "metadata": {
    "id": "RskX29qr_Zct"
   },
   "outputs": [
    {
     "data": {
      "text/plain": [
       "user_id       0\n",
       "track      1231\n",
       "artist     7203\n",
       "genre      1198\n",
       "city          0\n",
       "time          0\n",
       "day           0\n",
       "dtype: int64"
      ]
     },
     "execution_count": 8,
     "metadata": {},
     "output_type": "execute_result"
    }
   ],
   "source": [
    "# подсчёт пропусков\n",
    "df.isna().sum()"
   ]
  },
  {
   "cell_type": "markdown",
   "metadata": {
    "id": "fSv2laPA_Zct"
   },
   "source": [
    "Заменим пропущенные значения в столбцах `track`, `artist` и `genre` на строку `unknown`. Для этого создадим список `columns_to_replace`, переберём его элементы циклом `for` и для каждого столбца выполним замену пропущенных значений:"
   ]
  },
  {
   "cell_type": "code",
   "execution_count": 9,
   "metadata": {
    "id": "KplB5qWs_Zct"
   },
   "outputs": [],
   "source": [
    "# перебор названий столбцов в цикле и замена пропущенных значений на 'unknown'\n",
    "columns_to_replace = ['track', 'artist', 'genre']\n",
    "for column in columns_to_replace:\n",
    "    df[column] = df[column].fillna('unknown')"
   ]
  },
  {
   "cell_type": "markdown",
   "metadata": {
    "id": "Ilsm-MZo_Zct"
   },
   "source": [
    "Убедимся, что в таблице не осталось пропусков, ещё раз посчитаем пропущенные значения."
   ]
  },
  {
   "cell_type": "code",
   "execution_count": 10,
   "metadata": {
    "id": "Tq4nYRX4_Zct"
   },
   "outputs": [
    {
     "data": {
      "text/plain": [
       "user_id    0\n",
       "track      0\n",
       "artist     0\n",
       "genre      0\n",
       "city       0\n",
       "time       0\n",
       "day        0\n",
       "dtype: int64"
      ]
     },
     "execution_count": 10,
     "metadata": {},
     "output_type": "execute_result"
    }
   ],
   "source": [
    "# подсчёт пропусков\n",
    "df.isna().sum()"
   ]
  },
  {
   "cell_type": "markdown",
   "metadata": {
    "id": "BWKRtBJ3_Zct"
   },
   "source": [
    "### Дубликаты\n",
    "Посчитаем явные дубликатыи удалим их:"
   ]
  },
  {
   "cell_type": "code",
   "execution_count": 11,
   "metadata": {
    "id": "36eES_S0_Zct"
   },
   "outputs": [
    {
     "data": {
      "text/plain": [
       "3826"
      ]
     },
     "execution_count": 11,
     "metadata": {},
     "output_type": "execute_result"
    }
   ],
   "source": [
    "# подсчёт явных дубликатов\n",
    "df.duplicated().sum()"
   ]
  },
  {
   "cell_type": "code",
   "execution_count": 12,
   "metadata": {
    "id": "exFHq6tt_Zct"
   },
   "outputs": [],
   "source": [
    "# удаление явных дубликатов (с удалением старых индексов и формированием новых)\n",
    "df = df.drop_duplicates().reset_index(drop=True)"
   ]
  },
  {
   "cell_type": "markdown",
   "metadata": {
    "id": "Im2YwBEG_Zct"
   },
   "source": [
    "Ещё раз посчитаем явные дубликаты в таблице, чтобы удостовериться, что мы полностью от них избавились."
   ]
  },
  {
   "cell_type": "code",
   "execution_count": 13,
   "metadata": {
    "id": "-8PuNWQ0_Zct"
   },
   "outputs": [
    {
     "data": {
      "text/plain": [
       "0"
      ]
     },
     "execution_count": 13,
     "metadata": {},
     "output_type": "execute_result"
    }
   ],
   "source": [
    "# проверка на отсутствие дубликатов\n",
    "df.duplicated().sum()"
   ]
  },
  {
   "cell_type": "markdown",
   "metadata": {
    "id": "QlFBsxAr_Zct"
   },
   "source": [
    "Теперь избавимся от неявных дубликатов в колонке `genre`.\n",
    "\n",
    "Выводим на экран список уникальных названий жанров, отсортированный в алфавитном порядке. Для этого:\n",
    "* извлечём нужный столбец датафрейма, \n",
    "* применим к нему метод сортировки,\n",
    "* для отсортированного столбца вызываем метод, который вернёт уникальные значения из столбца."
   ]
  },
  {
   "cell_type": "code",
   "execution_count": 14,
   "metadata": {
    "id": "JIUcqzZN_Zct"
   },
   "outputs": [
    {
     "data": {
      "text/plain": [
       "['acid',\n",
       " 'acoustic',\n",
       " 'action',\n",
       " 'adult',\n",
       " 'africa',\n",
       " 'afrikaans',\n",
       " 'alternative',\n",
       " 'alternativepunk',\n",
       " 'ambient',\n",
       " 'americana',\n",
       " 'animated',\n",
       " 'anime',\n",
       " 'arabesk',\n",
       " 'arabic',\n",
       " 'arena',\n",
       " 'argentinetango',\n",
       " 'art',\n",
       " 'audiobook',\n",
       " 'author',\n",
       " 'avantgarde',\n",
       " 'axé',\n",
       " 'baile',\n",
       " 'balkan',\n",
       " 'beats',\n",
       " 'bigroom',\n",
       " 'black',\n",
       " 'bluegrass',\n",
       " 'blues',\n",
       " 'bollywood',\n",
       " 'bossa',\n",
       " 'brazilian',\n",
       " 'breakbeat',\n",
       " 'breaks',\n",
       " 'broadway',\n",
       " 'cantautori',\n",
       " 'cantopop',\n",
       " 'canzone',\n",
       " 'caribbean',\n",
       " 'caucasian',\n",
       " 'celtic',\n",
       " 'chamber',\n",
       " 'chanson',\n",
       " 'children',\n",
       " 'chill',\n",
       " 'chinese',\n",
       " 'choral',\n",
       " 'christian',\n",
       " 'christmas',\n",
       " 'classical',\n",
       " 'classicmetal',\n",
       " 'club',\n",
       " 'colombian',\n",
       " 'comedy',\n",
       " 'conjazz',\n",
       " 'contemporary',\n",
       " 'country',\n",
       " 'cuban',\n",
       " 'dance',\n",
       " 'dancehall',\n",
       " 'dancepop',\n",
       " 'dark',\n",
       " 'death',\n",
       " 'deep',\n",
       " 'deutschrock',\n",
       " 'deutschspr',\n",
       " 'dirty',\n",
       " 'disco',\n",
       " 'dnb',\n",
       " 'documentary',\n",
       " 'downbeat',\n",
       " 'downtempo',\n",
       " 'drum',\n",
       " 'dub',\n",
       " 'dubstep',\n",
       " 'eastern',\n",
       " 'easy',\n",
       " 'electronic',\n",
       " 'electropop',\n",
       " 'emo',\n",
       " 'entehno',\n",
       " 'epicmetal',\n",
       " 'estrada',\n",
       " 'ethnic',\n",
       " 'eurofolk',\n",
       " 'european',\n",
       " 'experimental',\n",
       " 'extrememetal',\n",
       " 'fado',\n",
       " 'fairytail',\n",
       " 'film',\n",
       " 'fitness',\n",
       " 'flamenco',\n",
       " 'folk',\n",
       " 'folklore',\n",
       " 'folkmetal',\n",
       " 'folkrock',\n",
       " 'folktronica',\n",
       " 'forró',\n",
       " 'frankreich',\n",
       " 'französisch',\n",
       " 'french',\n",
       " 'funk',\n",
       " 'future',\n",
       " 'gangsta',\n",
       " 'garage',\n",
       " 'german',\n",
       " 'ghazal',\n",
       " 'gitarre',\n",
       " 'glitch',\n",
       " 'gospel',\n",
       " 'gothic',\n",
       " 'grime',\n",
       " 'grunge',\n",
       " 'gypsy',\n",
       " 'handsup',\n",
       " \"hard'n'heavy\",\n",
       " 'hardcore',\n",
       " 'hardstyle',\n",
       " 'hardtechno',\n",
       " 'hip',\n",
       " 'hip-hop',\n",
       " 'hiphop',\n",
       " 'historisch',\n",
       " 'holiday',\n",
       " 'hop',\n",
       " 'horror',\n",
       " 'house',\n",
       " 'hymn',\n",
       " 'idm',\n",
       " 'independent',\n",
       " 'indian',\n",
       " 'indie',\n",
       " 'indipop',\n",
       " 'industrial',\n",
       " 'inspirational',\n",
       " 'instrumental',\n",
       " 'international',\n",
       " 'irish',\n",
       " 'jam',\n",
       " 'japanese',\n",
       " 'jazz',\n",
       " 'jewish',\n",
       " 'jpop',\n",
       " 'jungle',\n",
       " 'k-pop',\n",
       " 'karadeniz',\n",
       " 'karaoke',\n",
       " 'kayokyoku',\n",
       " 'korean',\n",
       " 'laiko',\n",
       " 'latin',\n",
       " 'latino',\n",
       " 'leftfield',\n",
       " 'local',\n",
       " 'lounge',\n",
       " 'loungeelectronic',\n",
       " 'lovers',\n",
       " 'malaysian',\n",
       " 'mandopop',\n",
       " 'marschmusik',\n",
       " 'meditative',\n",
       " 'mediterranean',\n",
       " 'melodic',\n",
       " 'metal',\n",
       " 'metalcore',\n",
       " 'mexican',\n",
       " 'middle',\n",
       " 'minimal',\n",
       " 'miscellaneous',\n",
       " 'modern',\n",
       " 'mood',\n",
       " 'mpb',\n",
       " 'muslim',\n",
       " 'native',\n",
       " 'neoklassik',\n",
       " 'neue',\n",
       " 'new',\n",
       " 'newage',\n",
       " 'newwave',\n",
       " 'nu',\n",
       " 'nujazz',\n",
       " 'numetal',\n",
       " 'oceania',\n",
       " 'old',\n",
       " 'opera',\n",
       " 'orchestral',\n",
       " 'other',\n",
       " 'piano',\n",
       " 'podcasts',\n",
       " 'pop',\n",
       " 'popdance',\n",
       " 'popelectronic',\n",
       " 'popeurodance',\n",
       " 'poprussian',\n",
       " 'post',\n",
       " 'posthardcore',\n",
       " 'postrock',\n",
       " 'power',\n",
       " 'progmetal',\n",
       " 'progressive',\n",
       " 'psychedelic',\n",
       " 'punjabi',\n",
       " 'punk',\n",
       " 'quebecois',\n",
       " 'ragga',\n",
       " 'ram',\n",
       " 'rancheras',\n",
       " 'rap',\n",
       " 'rave',\n",
       " 'reggae',\n",
       " 'reggaeton',\n",
       " 'regional',\n",
       " 'relax',\n",
       " 'religious',\n",
       " 'retro',\n",
       " 'rhythm',\n",
       " 'rnb',\n",
       " 'rnr',\n",
       " 'rock',\n",
       " 'rockabilly',\n",
       " 'rockalternative',\n",
       " 'rockindie',\n",
       " 'rockother',\n",
       " 'romance',\n",
       " 'roots',\n",
       " 'ruspop',\n",
       " 'rusrap',\n",
       " 'rusrock',\n",
       " 'russian',\n",
       " 'salsa',\n",
       " 'samba',\n",
       " 'scenic',\n",
       " 'schlager',\n",
       " 'self',\n",
       " 'sertanejo',\n",
       " 'shanson',\n",
       " 'shoegazing',\n",
       " 'showtunes',\n",
       " 'singer',\n",
       " 'ska',\n",
       " 'skarock',\n",
       " 'slow',\n",
       " 'smooth',\n",
       " 'soft',\n",
       " 'soul',\n",
       " 'soulful',\n",
       " 'sound',\n",
       " 'soundtrack',\n",
       " 'southern',\n",
       " 'specialty',\n",
       " 'speech',\n",
       " 'spiritual',\n",
       " 'sport',\n",
       " 'stonerrock',\n",
       " 'surf',\n",
       " 'swing',\n",
       " 'synthpop',\n",
       " 'synthrock',\n",
       " 'sängerportrait',\n",
       " 'tango',\n",
       " 'tanzorchester',\n",
       " 'taraftar',\n",
       " 'tatar',\n",
       " 'tech',\n",
       " 'techno',\n",
       " 'teen',\n",
       " 'thrash',\n",
       " 'top',\n",
       " 'traditional',\n",
       " 'tradjazz',\n",
       " 'trance',\n",
       " 'tribal',\n",
       " 'trip',\n",
       " 'triphop',\n",
       " 'tropical',\n",
       " 'türk',\n",
       " 'türkçe',\n",
       " 'ukrrock',\n",
       " 'unknown',\n",
       " 'urban',\n",
       " 'uzbek',\n",
       " 'variété',\n",
       " 'vi',\n",
       " 'videogame',\n",
       " 'vocal',\n",
       " 'western',\n",
       " 'world',\n",
       " 'worldbeat',\n",
       " 'ïîï',\n",
       " 'электроника']"
      ]
     },
     "execution_count": 14,
     "metadata": {},
     "output_type": "execute_result"
    }
   ],
   "source": [
    "# просмотр уникальных названий жанров\n",
    "sorted(df['genre'].unique())"
   ]
  },
  {
   "cell_type": "markdown",
   "metadata": {
    "id": "qej-Qmuo_Zct"
   },
   "source": [
    "Просмотрим на получившийся список и найдём неявные дубликаты названия `hiphop`. Это могут быть названия с ошибками или альтернативные названия того же жанра.\n",
    "\n",
    "Видим следующие неявные дубликаты:\n",
    "* *hip*,\n",
    "* *hop*,\n",
    "* *hip-hop*.\n",
    "\n",
    "Чтобы очистить от них таблицу, составим функцию `replace_wrong_genres()` с двумя параметрами: \n",
    "* `wrong_genres` — список дубликатов,\n",
    "* `correct_genre` — строка с правильным значением.\n",
    "\n",
    "Функция должна исправить колонку `genre` в таблице `df`: заменить каждое значение из списка `wrong_genres` на значение из `correct_genre`."
   ]
  },
  {
   "cell_type": "code",
   "execution_count": 15,
   "metadata": {
    "id": "ErNDkmns_Zct"
   },
   "outputs": [],
   "source": [
    "# функция для замены неявных дубликатов\n",
    "def replace_wrong_genres(wrong_genres, correct_genre):\n",
    "    for wrong_genre in wrong_genres:\n",
    "        df['genre'] = df['genre'].replace(wrong_genre, correct_genre)"
   ]
  },
  {
   "cell_type": "markdown",
   "metadata": {
    "id": "aDoBJxbA_Zct"
   },
   "source": [
    "Вызываем `replace_wrong_genres()` и передадим ей такие аргументы, чтобы она устранила неявные дубликаты: вместо `hip`, `hop` и `hip-hop` в таблице должно быть значение `hiphop`:"
   ]
  },
  {
   "cell_type": "code",
   "execution_count": 16,
   "metadata": {
    "id": "YN5i2hpmSo09"
   },
   "outputs": [],
   "source": [
    "# устранение неявных дубликатов\n",
    "duplicated_genres_hiphop = ['hip', 'hop', 'hip-hop']\n",
    "genre_hiphop = 'hiphop'\n",
    "replace_wrong_genres(duplicated_genres_hiphop, genre_hiphop)\n",
    "duplicated_genres_electronic = ['электроника']\n",
    "genre_electronic = 'electronic'\n",
    "replace_wrong_genres(duplicated_genres_electronic, genre_electronic)"
   ]
  },
  {
   "cell_type": "markdown",
   "metadata": {
    "id": "zQKF16_RG15m"
   },
   "source": [
    "Проверим результаты замены, выводим отсортированный список уникальных значений столбца `genre`:"
   ]
  },
  {
   "cell_type": "code",
   "execution_count": 17,
   "metadata": {
    "id": "wvixALnFG15m"
   },
   "outputs": [
    {
     "data": {
      "text/plain": [
       "['acid',\n",
       " 'acoustic',\n",
       " 'action',\n",
       " 'adult',\n",
       " 'africa',\n",
       " 'afrikaans',\n",
       " 'alternative',\n",
       " 'alternativepunk',\n",
       " 'ambient',\n",
       " 'americana',\n",
       " 'animated',\n",
       " 'anime',\n",
       " 'arabesk',\n",
       " 'arabic',\n",
       " 'arena',\n",
       " 'argentinetango',\n",
       " 'art',\n",
       " 'audiobook',\n",
       " 'author',\n",
       " 'avantgarde',\n",
       " 'axé',\n",
       " 'baile',\n",
       " 'balkan',\n",
       " 'beats',\n",
       " 'bigroom',\n",
       " 'black',\n",
       " 'bluegrass',\n",
       " 'blues',\n",
       " 'bollywood',\n",
       " 'bossa',\n",
       " 'brazilian',\n",
       " 'breakbeat',\n",
       " 'breaks',\n",
       " 'broadway',\n",
       " 'cantautori',\n",
       " 'cantopop',\n",
       " 'canzone',\n",
       " 'caribbean',\n",
       " 'caucasian',\n",
       " 'celtic',\n",
       " 'chamber',\n",
       " 'chanson',\n",
       " 'children',\n",
       " 'chill',\n",
       " 'chinese',\n",
       " 'choral',\n",
       " 'christian',\n",
       " 'christmas',\n",
       " 'classical',\n",
       " 'classicmetal',\n",
       " 'club',\n",
       " 'colombian',\n",
       " 'comedy',\n",
       " 'conjazz',\n",
       " 'contemporary',\n",
       " 'country',\n",
       " 'cuban',\n",
       " 'dance',\n",
       " 'dancehall',\n",
       " 'dancepop',\n",
       " 'dark',\n",
       " 'death',\n",
       " 'deep',\n",
       " 'deutschrock',\n",
       " 'deutschspr',\n",
       " 'dirty',\n",
       " 'disco',\n",
       " 'dnb',\n",
       " 'documentary',\n",
       " 'downbeat',\n",
       " 'downtempo',\n",
       " 'drum',\n",
       " 'dub',\n",
       " 'dubstep',\n",
       " 'eastern',\n",
       " 'easy',\n",
       " 'electronic',\n",
       " 'electropop',\n",
       " 'emo',\n",
       " 'entehno',\n",
       " 'epicmetal',\n",
       " 'estrada',\n",
       " 'ethnic',\n",
       " 'eurofolk',\n",
       " 'european',\n",
       " 'experimental',\n",
       " 'extrememetal',\n",
       " 'fado',\n",
       " 'fairytail',\n",
       " 'film',\n",
       " 'fitness',\n",
       " 'flamenco',\n",
       " 'folk',\n",
       " 'folklore',\n",
       " 'folkmetal',\n",
       " 'folkrock',\n",
       " 'folktronica',\n",
       " 'forró',\n",
       " 'frankreich',\n",
       " 'französisch',\n",
       " 'french',\n",
       " 'funk',\n",
       " 'future',\n",
       " 'gangsta',\n",
       " 'garage',\n",
       " 'german',\n",
       " 'ghazal',\n",
       " 'gitarre',\n",
       " 'glitch',\n",
       " 'gospel',\n",
       " 'gothic',\n",
       " 'grime',\n",
       " 'grunge',\n",
       " 'gypsy',\n",
       " 'handsup',\n",
       " \"hard'n'heavy\",\n",
       " 'hardcore',\n",
       " 'hardstyle',\n",
       " 'hardtechno',\n",
       " 'hiphop',\n",
       " 'historisch',\n",
       " 'holiday',\n",
       " 'horror',\n",
       " 'house',\n",
       " 'hymn',\n",
       " 'idm',\n",
       " 'independent',\n",
       " 'indian',\n",
       " 'indie',\n",
       " 'indipop',\n",
       " 'industrial',\n",
       " 'inspirational',\n",
       " 'instrumental',\n",
       " 'international',\n",
       " 'irish',\n",
       " 'jam',\n",
       " 'japanese',\n",
       " 'jazz',\n",
       " 'jewish',\n",
       " 'jpop',\n",
       " 'jungle',\n",
       " 'k-pop',\n",
       " 'karadeniz',\n",
       " 'karaoke',\n",
       " 'kayokyoku',\n",
       " 'korean',\n",
       " 'laiko',\n",
       " 'latin',\n",
       " 'latino',\n",
       " 'leftfield',\n",
       " 'local',\n",
       " 'lounge',\n",
       " 'loungeelectronic',\n",
       " 'lovers',\n",
       " 'malaysian',\n",
       " 'mandopop',\n",
       " 'marschmusik',\n",
       " 'meditative',\n",
       " 'mediterranean',\n",
       " 'melodic',\n",
       " 'metal',\n",
       " 'metalcore',\n",
       " 'mexican',\n",
       " 'middle',\n",
       " 'minimal',\n",
       " 'miscellaneous',\n",
       " 'modern',\n",
       " 'mood',\n",
       " 'mpb',\n",
       " 'muslim',\n",
       " 'native',\n",
       " 'neoklassik',\n",
       " 'neue',\n",
       " 'new',\n",
       " 'newage',\n",
       " 'newwave',\n",
       " 'nu',\n",
       " 'nujazz',\n",
       " 'numetal',\n",
       " 'oceania',\n",
       " 'old',\n",
       " 'opera',\n",
       " 'orchestral',\n",
       " 'other',\n",
       " 'piano',\n",
       " 'podcasts',\n",
       " 'pop',\n",
       " 'popdance',\n",
       " 'popelectronic',\n",
       " 'popeurodance',\n",
       " 'poprussian',\n",
       " 'post',\n",
       " 'posthardcore',\n",
       " 'postrock',\n",
       " 'power',\n",
       " 'progmetal',\n",
       " 'progressive',\n",
       " 'psychedelic',\n",
       " 'punjabi',\n",
       " 'punk',\n",
       " 'quebecois',\n",
       " 'ragga',\n",
       " 'ram',\n",
       " 'rancheras',\n",
       " 'rap',\n",
       " 'rave',\n",
       " 'reggae',\n",
       " 'reggaeton',\n",
       " 'regional',\n",
       " 'relax',\n",
       " 'religious',\n",
       " 'retro',\n",
       " 'rhythm',\n",
       " 'rnb',\n",
       " 'rnr',\n",
       " 'rock',\n",
       " 'rockabilly',\n",
       " 'rockalternative',\n",
       " 'rockindie',\n",
       " 'rockother',\n",
       " 'romance',\n",
       " 'roots',\n",
       " 'ruspop',\n",
       " 'rusrap',\n",
       " 'rusrock',\n",
       " 'russian',\n",
       " 'salsa',\n",
       " 'samba',\n",
       " 'scenic',\n",
       " 'schlager',\n",
       " 'self',\n",
       " 'sertanejo',\n",
       " 'shanson',\n",
       " 'shoegazing',\n",
       " 'showtunes',\n",
       " 'singer',\n",
       " 'ska',\n",
       " 'skarock',\n",
       " 'slow',\n",
       " 'smooth',\n",
       " 'soft',\n",
       " 'soul',\n",
       " 'soulful',\n",
       " 'sound',\n",
       " 'soundtrack',\n",
       " 'southern',\n",
       " 'specialty',\n",
       " 'speech',\n",
       " 'spiritual',\n",
       " 'sport',\n",
       " 'stonerrock',\n",
       " 'surf',\n",
       " 'swing',\n",
       " 'synthpop',\n",
       " 'synthrock',\n",
       " 'sängerportrait',\n",
       " 'tango',\n",
       " 'tanzorchester',\n",
       " 'taraftar',\n",
       " 'tatar',\n",
       " 'tech',\n",
       " 'techno',\n",
       " 'teen',\n",
       " 'thrash',\n",
       " 'top',\n",
       " 'traditional',\n",
       " 'tradjazz',\n",
       " 'trance',\n",
       " 'tribal',\n",
       " 'trip',\n",
       " 'triphop',\n",
       " 'tropical',\n",
       " 'türk',\n",
       " 'türkçe',\n",
       " 'ukrrock',\n",
       " 'unknown',\n",
       " 'urban',\n",
       " 'uzbek',\n",
       " 'variété',\n",
       " 'vi',\n",
       " 'videogame',\n",
       " 'vocal',\n",
       " 'western',\n",
       " 'world',\n",
       " 'worldbeat',\n",
       " 'ïîï']"
      ]
     },
     "execution_count": 17,
     "metadata": {},
     "output_type": "execute_result"
    }
   ],
   "source": [
    "# проверка на неявные дубликаты\n",
    "sorted(df['genre'].unique())"
   ]
  },
  {
   "cell_type": "markdown",
   "metadata": {
    "id": "jz6a9-7HQUDd"
   },
   "source": [
    "В ходе предобработки обнаружили три проблемы:\n",
    "\n",
    "- нарушения в стиле заголовков,\n",
    "- пропущенные значения,\n",
    "- дубликаты — явные и неявные.\n",
    "\n",
    "Чтобы упростить работу с таблицей, исправили заголовки, без дубликатов исследование будет более точным. Пропущенные значения вы заменили на `'unknown'`\n",
    "\n",
    "Теперь можем приступить к проверке гипотез. "
   ]
  },
  {
   "cell_type": "markdown",
   "metadata": {
    "id": "WttZHXH0SqKk"
   },
   "source": [
    "## Проверка гипотез"
   ]
  },
  {
   "cell_type": "markdown",
   "metadata": {
    "id": "Im936VVi_Zcu"
   },
   "source": [
    "### Сравнение поведения пользователей двух столиц"
   ]
  },
  {
   "cell_type": "markdown",
   "metadata": {
    "id": "nwt_MuaL_Zcu"
   },
   "source": [
    "Проверим предположение о том, что пользователя в Москве и СПб слушают музыку по-разному, за основу возьмём данные по трём дням недели — понедельнике, среде и пятнице:\n",
    "\n",
    "* разделим пользователей на две группы: москвичи и петербуржцы\n",
    "* выясним и сравним количество треков, которые послушала каждая из группа отдельно в каждый из выбранных дней недели (понедельник, среда, пятница).\n"
   ]
  },
  {
   "cell_type": "markdown",
   "metadata": {
    "id": "8Dw_YMmT_Zcu"
   },
   "source": [
    "Оценим активность пользователей в каждом городе. Сгруппируем данные по городу и посчитаем прослушивания в каждой группе."
   ]
  },
  {
   "cell_type": "code",
   "execution_count": 18,
   "metadata": {
    "id": "0_Qs96oh_Zcu"
   },
   "outputs": [
    {
     "data": {
      "text/plain": [
       "city\n",
       "Moscow              42741\n",
       "Saint-Petersburg    18512\n",
       "Name: track, dtype: int64"
      ]
     },
     "execution_count": 18,
     "metadata": {},
     "output_type": "execute_result"
    }
   ],
   "source": [
    "# подсчёт прослушиваний в каждом городе\n",
    "df.groupby('city')['track'].count()"
   ]
  },
  {
   "cell_type": "markdown",
   "metadata": {
    "id": "dzli3w8o_Zcu"
   },
   "source": [
    "В Москве прослушиваний больше, чем в Петербурге. Однако, из этого не следует, что московские пользователи чаще слушают музыку, просто самих пользователей в Москве больше.\n",
    "\n",
    "Теперь сгруппируем данные по дню недели и подсчитаем прослушивания в понедельник, среду и пятницу. "
   ]
  },
  {
   "cell_type": "code",
   "execution_count": 19,
   "metadata": {
    "id": "uZMKjiJz_Zcu"
   },
   "outputs": [
    {
     "data": {
      "text/plain": [
       "day\n",
       "Friday       21840\n",
       "Monday       21354\n",
       "Wednesday    18059\n",
       "Name: track, dtype: int64"
      ]
     },
     "execution_count": 19,
     "metadata": {},
     "output_type": "execute_result"
    }
   ],
   "source": [
    "# пИзодсчёт прослушиваний в каждый из трёх дней\n",
    "df.groupby('day')['track'].count()"
   ]
  },
  {
   "cell_type": "markdown",
   "metadata": {
    "id": "cC2tNrlL_Zcu"
   },
   "source": [
    "В среднем пользователи из двух городов менее активны по средам, проверим изменится ли картинка, если рассмотреть каждый город в отдельности по дням недели."
   ]
  },
  {
   "cell_type": "markdown",
   "metadata": {
    "id": "POzs8bGa_Zcu"
   },
   "source": [
    "Создадим функцию `number_tracks()`, которая посчитает прослушивания для заданного дня и города. Ей понадобятся два параметра:\n",
    "* день недели,\n",
    "* название города"
   ]
  },
  {
   "cell_type": "code",
   "execution_count": 20,
   "metadata": {
    "id": "Nz3GdQB1_Zcu"
   },
   "outputs": [],
   "source": [
    "# создаём функцию\n",
    "def number_tracks(day, city):\n",
    "    track_list = df[(df['day'] == day) & (df['city'] == city)]\n",
    "    track_list_count = track_list['user_id'].count()\n",
    "    return track_list_count"
   ]
  },
  {
   "cell_type": "markdown",
   "metadata": {
    "id": "ytf7xFrFJQ2r"
   },
   "source": [
    "Вызываем функцию `number_tracks()`, меняя значение параметров — так, чтобы получить данные для каждого города в каждый из трёх дней."
   ]
  },
  {
   "cell_type": "code",
   "execution_count": 21,
   "metadata": {
    "id": "rJcRATNQ_Zcu",
    "scrolled": true
   },
   "outputs": [
    {
     "data": {
      "text/plain": [
       "15740"
      ]
     },
     "execution_count": 21,
     "metadata": {},
     "output_type": "execute_result"
    }
   ],
   "source": [
    "# количество прослушиваний в Москве по понедельникам\n",
    "number_tracks('Monday', 'Moscow')"
   ]
  },
  {
   "cell_type": "code",
   "execution_count": 22,
   "metadata": {
    "id": "hq_ncZ5T_Zcu"
   },
   "outputs": [
    {
     "data": {
      "text/plain": [
       "5614"
      ]
     },
     "execution_count": 22,
     "metadata": {},
     "output_type": "execute_result"
    }
   ],
   "source": [
    "# количество прослушиваний в Санкт-Петербурге по понедельникам\n",
    "number_tracks('Monday', 'Saint-Petersburg')"
   ]
  },
  {
   "cell_type": "code",
   "execution_count": 23,
   "metadata": {
    "id": "_NTy2VPU_Zcu"
   },
   "outputs": [
    {
     "data": {
      "text/plain": [
       "11056"
      ]
     },
     "execution_count": 23,
     "metadata": {},
     "output_type": "execute_result"
    }
   ],
   "source": [
    "# количество прослушиваний в Москве по средам\n",
    "number_tracks('Wednesday', 'Moscow')"
   ]
  },
  {
   "cell_type": "code",
   "execution_count": 24,
   "metadata": {
    "id": "j2y3TAwo_Zcu"
   },
   "outputs": [
    {
     "data": {
      "text/plain": [
       "7003"
      ]
     },
     "execution_count": 24,
     "metadata": {},
     "output_type": "execute_result"
    }
   ],
   "source": [
    "# количество прослушиваний в Санкт-Петербурге по средам\n",
    "number_tracks('Wednesday', 'Saint-Petersburg')"
   ]
  },
  {
   "cell_type": "code",
   "execution_count": 25,
   "metadata": {
    "id": "vYDw5u_K_Zcu"
   },
   "outputs": [
    {
     "data": {
      "text/plain": [
       "15945"
      ]
     },
     "execution_count": 25,
     "metadata": {},
     "output_type": "execute_result"
    }
   ],
   "source": [
    "# количество прослушиваний в Москве по пятницам\n",
    "number_tracks('Friday', 'Moscow')"
   ]
  },
  {
   "cell_type": "code",
   "execution_count": 26,
   "metadata": {
    "id": "8_yzFtW3_Zcu"
   },
   "outputs": [
    {
     "data": {
      "text/plain": [
       "5895"
      ]
     },
     "execution_count": 26,
     "metadata": {},
     "output_type": "execute_result"
    }
   ],
   "source": [
    "# количество прослушиваний в Санкт-Петербурге по пятницам\n",
    "number_tracks('Friday', 'Saint-Petersburg')"
   ]
  },
  {
   "cell_type": "markdown",
   "metadata": {
    "id": "7QXffbO-_Zcu"
   },
   "source": [
    "Создаём c помощью конструктора `pd.DataFrame` таблицу, где\n",
    "* названия колонок — ['city', 'monday', 'wednesday', 'friday']\n",
    "* данные — результаты, полученные с помощью `number_tracks`"
   ]
  },
  {
   "cell_type": "code",
   "execution_count": 27,
   "metadata": {
    "id": "APAcLpOr_Zcu"
   },
   "outputs": [
    {
     "data": {
      "text/html": [
       "<div>\n",
       "<style scoped>\n",
       "    .dataframe tbody tr th:only-of-type {\n",
       "        vertical-align: middle;\n",
       "    }\n",
       "\n",
       "    .dataframe tbody tr th {\n",
       "        vertical-align: top;\n",
       "    }\n",
       "\n",
       "    .dataframe thead th {\n",
       "        text-align: right;\n",
       "    }\n",
       "</style>\n",
       "<table border=\"1\" class=\"dataframe\">\n",
       "  <thead>\n",
       "    <tr style=\"text-align: right;\">\n",
       "      <th></th>\n",
       "      <th>city</th>\n",
       "      <th>monday</th>\n",
       "      <th>wednesday</th>\n",
       "      <th>friday</th>\n",
       "    </tr>\n",
       "  </thead>\n",
       "  <tbody>\n",
       "    <tr>\n",
       "      <th>0</th>\n",
       "      <td>Moscow</td>\n",
       "      <td>15740</td>\n",
       "      <td>11056</td>\n",
       "      <td>15945</td>\n",
       "    </tr>\n",
       "    <tr>\n",
       "      <th>1</th>\n",
       "      <td>Saint-Petersburg</td>\n",
       "      <td>5614</td>\n",
       "      <td>7003</td>\n",
       "      <td>5895</td>\n",
       "    </tr>\n",
       "  </tbody>\n",
       "</table>\n",
       "</div>"
      ],
      "text/plain": [
       "               city  monday  wednesday  friday\n",
       "0            Moscow   15740      11056   15945\n",
       "1  Saint-Petersburg    5614       7003    5895"
      ]
     },
     "execution_count": 27,
     "metadata": {},
     "output_type": "execute_result"
    }
   ],
   "source": [
    "# таблица с результатами\n",
    "columns = ['city', 'monday', 'wednesday', 'friday']\n",
    "data = [['Moscow', number_tracks('Monday', 'Moscow'), number_tracks('Wednesday', 'Moscow'), number_tracks('Friday', 'Moscow')],\n",
    "       ['Saint-Petersburg', number_tracks('Monday', 'Saint-Petersburg'), number_tracks('Wednesday', 'Saint-Petersburg'), number_tracks('Friday', 'Saint-Petersburg')]]\n",
    "pd.DataFrame(columns=columns, data=data)     "
   ]
  },
  {
   "cell_type": "markdown",
   "metadata": {
    "id": "-EgPIHYu_Zcu"
   },
   "source": [
    "Итак, мы видим некоторую разницу в поведении москвичей и петербуржцев:\n",
    "\n",
    "- В Москве пик прослушиваний приходится на понедельник и пятницу, а в среду заметен спад.\n",
    "- В Петербурге, наоборот, больше слушают музыку по средам. Активность в понедельник и пятницу здесь почти в равной мере уступает среде.\n",
    "\n",
    "Значит, анализ подтверждает наше предположение о том, что поведение пользователей в Москве и СПб различается."
   ]
  },
  {
   "cell_type": "markdown",
   "metadata": {
    "id": "atZAxtq4_Zcu"
   },
   "source": [
    "### Музыка в начале и в конце недели"
   ]
  },
  {
   "cell_type": "markdown",
   "metadata": {
    "id": "eXrQqXFH_Zcu"
   },
   "source": [
    "Согласно второй гипотезе, по утрам понедельников и вечерам пятниц москчиви и петербуржцы слушают музыку разных жанров в зависимости от города."
   ]
  },
  {
   "cell_type": "markdown",
   "metadata": {
    "id": "S8UcW6Hw_Zcu"
   },
   "source": [
    "Сохраним таблицы с данными в две переменные:\n",
    "* по Москве — в `moscow_general`;\n",
    "* по Санкт-Петербургу — в `spb_general`."
   ]
  },
  {
   "cell_type": "code",
   "execution_count": 28,
   "metadata": {
    "id": "qeaFfM_P_Zcu"
   },
   "outputs": [],
   "source": [
    "# получение таблицы moscow_general из тех строк таблицы df, \n",
    "# для которых значение в столбце 'city' равно 'Moscow'\n",
    "moscow_general = df[df['city'] == 'Moscow']"
   ]
  },
  {
   "cell_type": "code",
   "execution_count": 29,
   "metadata": {
    "id": "ORaVRKto_Zcu"
   },
   "outputs": [],
   "source": [
    "# получение таблицы spb_general из тех строк таблицы df,\n",
    "# для которых значение в столбце 'city' равно 'Saint-Petersburg'\n",
    "spb_general = df[df['city'] == 'Saint-Petersburg']"
   ]
  },
  {
   "cell_type": "markdown",
   "metadata": {
    "id": "MEJV-CX2_Zcu"
   },
   "source": [
    "Создадим функцию `genre_weekday()` с 4-мя параметрами:\n",
    "* исходная таблица с данными\n",
    "* день недели\n",
    "* начальная временная метка в формате 'hh:mm', \n",
    "* последняя временная метка в формате 'hh:mm'.\n",
    "\n",
    "Функция должна вернуть информацию о топ-10 жанров тех треков, которые прослушивали в указанный день, в промежутке между двумя отметками времени."
   ]
  },
  {
   "cell_type": "code",
   "execution_count": 30,
   "metadata": {
    "id": "laJT9BYl_Zcu",
    "tags": []
   },
   "outputs": [],
   "source": [
    "# объявление функции genre_weekday() с параметрами table, day, time1, time2,\n",
    "def genre_weekday(table, day, time1, time2):\n",
    "    genre_df = table[(table['day'] == day) & (table['time'] > time1) & (table['time'] < time2)]\n",
    "    genre_df_count = genre_df.groupby('genre')['genre'].count()\n",
    "    genre_df_sorted = genre_df_count.sort_values(ascending = False)\n",
    "    return genre_df_sorted.head(10)"
   ]
  },
  {
   "cell_type": "markdown",
   "metadata": {
    "id": "la2s2_PF_Zcu"
   },
   "source": [
    "Cравним результаты функции `genre_weekday()` для Москвы и Санкт-Петербурга в понедельник утром (с 7:00 до 11:00) и в пятницу вечером (с 17:00 до 23:00):"
   ]
  },
  {
   "cell_type": "code",
   "execution_count": 31,
   "metadata": {
    "id": "yz7itPUQ_Zcu",
    "scrolled": true
   },
   "outputs": [
    {
     "data": {
      "text/plain": [
       "genre\n",
       "pop            781\n",
       "dance          549\n",
       "electronic     480\n",
       "rock           474\n",
       "hiphop         286\n",
       "ruspop         186\n",
       "world          181\n",
       "rusrap         175\n",
       "alternative    164\n",
       "unknown        161\n",
       "Name: genre, dtype: int64"
      ]
     },
     "execution_count": 31,
     "metadata": {},
     "output_type": "execute_result"
    }
   ],
   "source": [
    "# вызов функции для утра понедельника в Москве \n",
    "genre_weekday(moscow_general, 'Monday', '07:00:00', '11:00:00')"
   ]
  },
  {
   "cell_type": "code",
   "execution_count": 32,
   "metadata": {
    "id": "kwUcHPdy_Zcu"
   },
   "outputs": [
    {
     "data": {
      "text/plain": [
       "genre\n",
       "pop            218\n",
       "dance          182\n",
       "rock           162\n",
       "electronic     147\n",
       "hiphop          80\n",
       "ruspop          64\n",
       "alternative     58\n",
       "rusrap          55\n",
       "jazz            44\n",
       "classical       40\n",
       "Name: genre, dtype: int64"
      ]
     },
     "execution_count": 32,
     "metadata": {},
     "output_type": "execute_result"
    }
   ],
   "source": [
    "# вызов функции для утра понедельника в СПб\n",
    "genre_weekday(spb_general, 'Monday', '07:00:00', '11:00:00')"
   ]
  },
  {
   "cell_type": "code",
   "execution_count": 33,
   "metadata": {
    "id": "EzXVRE1o_Zcu"
   },
   "outputs": [
    {
     "data": {
      "text/plain": [
       "genre\n",
       "pop            713\n",
       "rock           517\n",
       "dance          495\n",
       "electronic     482\n",
       "hiphop         273\n",
       "world          208\n",
       "ruspop         170\n",
       "alternative    163\n",
       "classical      163\n",
       "rusrap         142\n",
       "Name: genre, dtype: int64"
      ]
     },
     "execution_count": 33,
     "metadata": {},
     "output_type": "execute_result"
    }
   ],
   "source": [
    "# вызов функции для вечера пятницы в Москве\n",
    "genre_weekday(moscow_general, 'Friday', '17:00:00', '23:00:00')"
   ]
  },
  {
   "cell_type": "code",
   "execution_count": 34,
   "metadata": {
    "id": "JZaEKu5v_Zcu"
   },
   "outputs": [
    {
     "data": {
      "text/plain": [
       "genre\n",
       "pop            256\n",
       "electronic     216\n",
       "rock           216\n",
       "dance          210\n",
       "hiphop          97\n",
       "alternative     63\n",
       "jazz            61\n",
       "classical       60\n",
       "rusrap          59\n",
       "world           54\n",
       "Name: genre, dtype: int64"
      ]
     },
     "execution_count": 34,
     "metadata": {},
     "output_type": "execute_result"
    }
   ],
   "source": [
    "# вызов функции для вечера пятницы в СПб\n",
    "genre_weekday(spb_general, 'Friday', '17:00:00', '23:00:00')"
   ]
  },
  {
   "cell_type": "markdown",
   "metadata": {
    "id": "wrCe4MNX_Zcu"
   },
   "source": [
    "Сравнив топ-10 жанров в понедельник утром, можно сделать такие выводы:\n",
    "\n",
    "1. В Москве и Петербурге слушают похожую музыку. Единственное отличие — в московский рейтинг вошёл жанр “world”, а в петербургский — джаз и классика.\n",
    "\n",
    "2. В Москве пропущенных значений оказалось так много, что значение `'unknown'` заняло десятое место среди самых популярных жанров. Значит, пропущенные значения занимают существенную долю в данных и угрожают достоверности исследования.\n",
    "\n",
    "Вечер пятницы не меняет эту картину. Некоторые жанры поднимаются немного выше, другие спускаются ниже по рейтингу, но в целом топ-10 остаётся тем же самым.\n",
    "\n",
    "Таким образом, вторая гипотеза подтвердается только частично:\n",
    "* Пользователи слушают похожую музыку в начале недели и в конце.\n",
    "* Разница между Москвой и СПб не слишком выражена. В Москве чаще слушают русскую популярную музыку, в Петербурге — джаз.\n",
    "\n",
    "Однако пропуски в данных ставят под сомнение и этот результат. В Москве их так много, что рейтинг топ-10 мог бы выглядеть иначе, если бы не утерянные  данные о жанрах."
   ]
  },
  {
   "cell_type": "markdown",
   "metadata": {
    "id": "JolODAqr_Zcu",
    "tags": []
   },
   "source": [
    "### Жанровые предпочтения в Москве и СПб\n",
    "\n",
    "Есть предположение о том, что в Москве и СПб в целом предпочитают музыку разных жанров: СПб — столица рэпа, музыку этого жанра там слушают чаще, чем в Москве.  А Москва — город контрастов, в котором, тем не менее, преобладает поп-музыка."
   ]
  },
  {
   "cell_type": "markdown",
   "metadata": {
    "id": "DlegSvaT_Zcu"
   },
   "source": [
    "Для проверки такого предположения, сгруппируем таблицу `moscow_general` по жанру и посчитаем количество прослушиваний треков каждого жанра методом `count()`. Затем отсортируем результат в порядке убывания и сохраним его в таблице `moscow_genres`."
   ]
  },
  {
   "cell_type": "code",
   "execution_count": 35,
   "metadata": {
    "id": "r19lIPke_Zcu"
   },
   "outputs": [],
   "source": [
    "moscow_genres = moscow_general.groupby('genre')['track'].count().sort_values(ascending=False)"
   ]
  },
  {
   "cell_type": "markdown",
   "metadata": {
    "id": "6kMuomxTiIr8"
   },
   "source": [
    "Выводим на экран первые десять строк `moscow_genres`:"
   ]
  },
  {
   "cell_type": "code",
   "execution_count": 36,
   "metadata": {
    "id": "WhCSooF8_Zcv"
   },
   "outputs": [
    {
     "data": {
      "text/plain": [
       "genre\n",
       "pop            5892\n",
       "dance          4435\n",
       "rock           3965\n",
       "electronic     3786\n",
       "hiphop         2096\n",
       "classical      1616\n",
       "world          1432\n",
       "alternative    1379\n",
       "ruspop         1372\n",
       "rusrap         1161\n",
       "Name: track, dtype: int64"
      ]
     },
     "execution_count": 36,
     "metadata": {},
     "output_type": "execute_result"
    }
   ],
   "source": [
    "# просмотр первых 10 строк moscow_genres\n",
    "moscow_genres.head(10)"
   ]
  },
  {
   "cell_type": "markdown",
   "metadata": {
    "id": "cnPG2vnN_Zcv"
   },
   "source": [
    "Теперь совершим те же действия для СПб."
   ]
  },
  {
   "cell_type": "code",
   "execution_count": 37,
   "metadata": {
    "id": "gluLIpE7_Zcv",
    "tags": []
   },
   "outputs": [
    {
     "data": {
      "text/plain": [
       "genre\n",
       "pop            2431\n",
       "dance          1932\n",
       "rock           1879\n",
       "electronic     1737\n",
       "hiphop          960\n",
       "alternative     649\n",
       "classical       646\n",
       "rusrap          564\n",
       "ruspop          538\n",
       "world           515\n",
       "Name: track, dtype: int64"
      ]
     },
     "execution_count": 37,
     "metadata": {},
     "output_type": "execute_result"
    }
   ],
   "source": [
    "spb_genres = spb_general.groupby('genre')['track'].count().sort_values(ascending=False)\n",
    "\n",
    "# просмотр первых 10 строк spb_genres\n",
    "spb_genres.head(10)"
   ]
  },
  {
   "cell_type": "markdown",
   "metadata": {
    "id": "nVhnJEm__Zcv"
   },
   "source": [
    "Итак, эта гипотеза также подтвердилась лишь частично:\n",
    "* Поп-музыка — действительно самый популярный жанр в Москве, как и предполагала гипотеза. Более того, в топ-10 жанров встречается близкий жанр — русская популярная музыка.\n",
    "* Но, вопреки ожиданиям, рэп одинаково популярен в Москве и Петербурге. "
   ]
  },
  {
   "cell_type": "markdown",
   "metadata": {
    "id": "ykKQ0N65_Zcv"
   },
   "source": [
    "## Итоги исследования"
   ]
  },
  {
   "cell_type": "markdown",
   "metadata": {
    "id": "tjUwbHb3_Zcv"
   },
   "source": [
    "В ходе исследования, мы проверили три гипотезы и установили:\n",
    "\n",
    "1. День недели по-разному влияет на активность пользователей в Москве и Петербурге. \n",
    "Первая гипотеза полностью подтвердилась.\n",
    "\n",
    "2. Музыкальные предпочтения не сильно меняются в течение недели как в Москве, так и в СПб. Небольшие различия заметны в начале недели, по понедельникам:\n",
    "* в Москве слушают музыку жанра “world”,\n",
    "* в Петербурге — джаз и классику.\n",
    "Таким образом, вторая гипотеза подтвердилась лишь отчасти. Этот результат мог оказаться иным, если бы не пропуски в данных.\n",
    "\n",
    "3. Во вкусах пользователей Москвы и СПб больше общего, чем различий. Вопреки ожиданиям, предпочтения жанров в СПб напоминают московские.\n",
    "Третья гипотеза не подтвердилась. Если различия в предпочтениях и существуют, на основной массе пользователей они незаметны.Вы"
   ]
  }
 ],
 "metadata": {
  "ExecuteTimeLog": [
   {
    "duration": 583,
    "start_time": "2022-02-10T19:18:43.129Z"
   },
   {
    "duration": 113,
    "start_time": "2022-02-10T19:18:43.714Z"
   },
   {
    "duration": 19,
    "start_time": "2022-02-10T19:18:43.829Z"
   },
   {
    "duration": 2,
    "start_time": "2022-02-10T19:19:08.068Z"
   },
   {
    "duration": 118,
    "start_time": "2022-02-10T19:19:08.077Z"
   },
   {
    "duration": 15,
    "start_time": "2022-02-10T19:19:14.654Z"
   },
   {
    "duration": 21,
    "start_time": "2022-02-10T19:19:35.365Z"
   },
   {
    "duration": 4,
    "start_time": "2022-02-10T19:20:12.976Z"
   },
   {
    "duration": 17,
    "start_time": "2022-02-10T19:22:53.284Z"
   },
   {
    "duration": 4,
    "start_time": "2022-02-10T19:23:05.029Z"
   },
   {
    "duration": 101,
    "start_time": "2022-02-10T19:23:27.442Z"
   },
   {
    "duration": 21,
    "start_time": "2022-02-10T19:24:14.688Z"
   },
   {
    "duration": 19,
    "start_time": "2022-02-10T19:24:23.178Z"
   },
   {
    "duration": 4140,
    "start_time": "2022-02-10T19:28:14.348Z"
   },
   {
    "duration": -7,
    "start_time": "2022-02-10T19:28:18.496Z"
   },
   {
    "duration": 3596,
    "start_time": "2022-02-10T19:33:02.844Z"
   },
   {
    "duration": 84,
    "start_time": "2022-02-10T19:34:43.379Z"
   },
   {
    "duration": 267,
    "start_time": "2022-02-10T19:34:57.426Z"
   },
   {
    "duration": 28,
    "start_time": "2022-02-10T19:35:30.463Z"
   },
   {
    "duration": 2,
    "start_time": "2022-02-10T19:35:40.854Z"
   },
   {
    "duration": 113,
    "start_time": "2022-02-10T19:35:40.865Z"
   },
   {
    "duration": 9,
    "start_time": "2022-02-10T19:35:40.980Z"
   },
   {
    "duration": 33,
    "start_time": "2022-02-10T19:35:40.991Z"
   },
   {
    "duration": 10,
    "start_time": "2022-02-10T19:35:41.025Z"
   },
   {
    "duration": 35,
    "start_time": "2022-02-10T19:35:41.036Z"
   },
   {
    "duration": 4,
    "start_time": "2022-02-10T19:35:41.072Z"
   },
   {
    "duration": 31,
    "start_time": "2022-02-10T19:35:41.078Z"
   },
   {
    "duration": 44,
    "start_time": "2022-02-10T19:35:59.453Z"
   },
   {
    "duration": 33,
    "start_time": "2022-02-10T19:35:59.465Z"
   },
   {
    "duration": 25,
    "start_time": "2022-02-10T19:35:59.474Z"
   },
   {
    "duration": 14,
    "start_time": "2022-02-10T19:35:59.486Z"
   },
   {
    "duration": 5,
    "start_time": "2022-02-10T19:35:59.496Z"
   },
   {
    "duration": -4,
    "start_time": "2022-02-10T19:35:59.506Z"
   },
   {
    "duration": -13,
    "start_time": "2022-02-10T19:35:59.516Z"
   },
   {
    "duration": -22,
    "start_time": "2022-02-10T19:35:59.526Z"
   },
   {
    "duration": -31,
    "start_time": "2022-02-10T19:35:59.536Z"
   },
   {
    "duration": 303,
    "start_time": "2022-02-10T19:37:34.109Z"
   },
   {
    "duration": 16,
    "start_time": "2022-02-10T19:39:13.029Z"
   },
   {
    "duration": 14,
    "start_time": "2022-02-10T19:39:15.184Z"
   },
   {
    "duration": 14,
    "start_time": "2022-02-10T19:39:17.068Z"
   },
   {
    "duration": 21,
    "start_time": "2022-02-10T19:39:19.133Z"
   },
   {
    "duration": 273,
    "start_time": "2022-02-10T19:39:49.958Z"
   },
   {
    "duration": 254,
    "start_time": "2022-02-10T19:39:57.390Z"
   },
   {
    "duration": 49,
    "start_time": "2022-02-10T19:40:48.160Z"
   },
   {
    "duration": 48,
    "start_time": "2022-02-10T19:41:16.773Z"
   },
   {
    "duration": 270,
    "start_time": "2022-02-10T19:43:15.618Z"
   },
   {
    "duration": 52,
    "start_time": "2022-02-10T19:43:27.427Z"
   },
   {
    "duration": 45,
    "start_time": "2022-02-10T19:43:42.037Z"
   },
   {
    "duration": 6,
    "start_time": "2022-02-10T19:44:12.802Z"
   },
   {
    "duration": 156,
    "start_time": "2022-02-10T19:49:27.349Z"
   },
   {
    "duration": 8,
    "start_time": "2022-02-10T19:49:35.717Z"
   },
   {
    "duration": 2,
    "start_time": "2022-02-10T19:57:11.269Z"
   },
   {
    "duration": 95,
    "start_time": "2022-02-10T20:00:52.618Z"
   },
   {
    "duration": 635,
    "start_time": "2022-02-10T20:01:22.453Z"
   },
   {
    "duration": 533,
    "start_time": "2022-02-10T20:03:39.460Z"
   },
   {
    "duration": 2,
    "start_time": "2022-02-10T20:09:42.387Z"
   },
   {
    "duration": 9,
    "start_time": "2022-02-10T20:09:59.134Z"
   },
   {
    "duration": 8,
    "start_time": "2022-02-10T20:11:07.543Z"
   },
   {
    "duration": 3,
    "start_time": "2022-02-10T20:30:10.819Z"
   },
   {
    "duration": 140,
    "start_time": "2022-02-10T20:30:10.823Z"
   },
   {
    "duration": 10,
    "start_time": "2022-02-10T20:30:10.966Z"
   },
   {
    "duration": 24,
    "start_time": "2022-02-10T20:30:10.978Z"
   },
   {
    "duration": 24,
    "start_time": "2022-02-10T20:30:11.003Z"
   },
   {
    "duration": 13,
    "start_time": "2022-02-10T20:30:11.029Z"
   },
   {
    "duration": 4,
    "start_time": "2022-02-10T20:30:11.044Z"
   },
   {
    "duration": 40,
    "start_time": "2022-02-10T20:30:11.051Z"
   },
   {
    "duration": 43,
    "start_time": "2022-02-10T20:30:11.093Z"
   },
   {
    "duration": 36,
    "start_time": "2022-02-10T20:30:11.138Z"
   },
   {
    "duration": 91,
    "start_time": "2022-02-10T20:30:11.176Z"
   },
   {
    "duration": 81,
    "start_time": "2022-02-10T20:30:11.269Z"
   },
   {
    "duration": 45,
    "start_time": "2022-02-10T20:30:11.351Z"
   },
   {
    "duration": 8,
    "start_time": "2022-02-10T20:30:11.397Z"
   },
   {
    "duration": 13,
    "start_time": "2022-02-10T20:30:11.406Z"
   },
   {
    "duration": 22,
    "start_time": "2022-02-10T20:30:11.427Z"
   },
   {
    "duration": 12,
    "start_time": "2022-02-10T20:30:22.345Z"
   },
   {
    "duration": -94,
    "start_time": "2022-02-10T20:37:00.577Z"
   },
   {
    "duration": 126,
    "start_time": "2022-02-10T20:37:14.887Z"
   },
   {
    "duration": -106,
    "start_time": "2022-02-10T20:37:30.011Z"
   },
   {
    "duration": -81,
    "start_time": "2022-02-10T20:38:53.667Z"
   },
   {
    "duration": 3,
    "start_time": "2022-02-10T20:39:04.404Z"
   },
   {
    "duration": 134,
    "start_time": "2022-02-10T20:39:04.411Z"
   },
   {
    "duration": 10,
    "start_time": "2022-02-10T20:39:04.547Z"
   },
   {
    "duration": 22,
    "start_time": "2022-02-10T20:39:04.559Z"
   },
   {
    "duration": 10,
    "start_time": "2022-02-10T20:39:04.583Z"
   },
   {
    "duration": 33,
    "start_time": "2022-02-10T20:39:04.594Z"
   },
   {
    "duration": 4,
    "start_time": "2022-02-10T20:39:04.629Z"
   },
   {
    "duration": 25,
    "start_time": "2022-02-10T20:39:04.635Z"
   },
   {
    "duration": 17,
    "start_time": "2022-02-10T20:39:04.662Z"
   },
   {
    "duration": 22,
    "start_time": "2022-02-10T20:39:04.681Z"
   },
   {
    "duration": 84,
    "start_time": "2022-02-10T20:39:04.704Z"
   },
   {
    "duration": 74,
    "start_time": "2022-02-10T20:39:04.790Z"
   },
   {
    "duration": 49,
    "start_time": "2022-02-10T20:39:04.866Z"
   },
   {
    "duration": 18,
    "start_time": "2022-02-10T20:39:04.916Z"
   },
   {
    "duration": 3,
    "start_time": "2022-02-10T20:39:04.935Z"
   },
   {
    "duration": 12,
    "start_time": "2022-02-10T20:39:04.940Z"
   },
   {
    "duration": 9,
    "start_time": "2022-02-10T20:39:04.954Z"
   },
   {
    "duration": 34,
    "start_time": "2022-02-10T20:40:55.056Z"
   },
   {
    "duration": 22,
    "start_time": "2022-02-10T20:41:39.876Z"
   },
   {
    "duration": 21,
    "start_time": "2022-02-10T20:44:08.555Z"
   },
   {
    "duration": 22,
    "start_time": "2022-02-10T20:45:11.771Z"
   },
   {
    "duration": 32,
    "start_time": "2022-02-10T20:45:22.751Z"
   },
   {
    "duration": 22,
    "start_time": "2022-02-10T20:52:52.552Z"
   },
   {
    "duration": 282,
    "start_time": "2022-02-10T20:58:55.625Z"
   },
   {
    "duration": 287,
    "start_time": "2022-02-10T21:00:28.398Z"
   },
   {
    "duration": 10,
    "start_time": "2022-02-10T21:05:02.687Z"
   },
   {
    "duration": 29,
    "start_time": "2022-02-10T21:05:16.121Z"
   },
   {
    "duration": 10,
    "start_time": "2022-02-10T21:05:42.220Z"
   },
   {
    "duration": 11,
    "start_time": "2022-02-10T21:05:56.721Z"
   },
   {
    "duration": 28,
    "start_time": "2022-02-10T21:06:43.812Z"
   },
   {
    "duration": 9,
    "start_time": "2022-02-10T21:07:09.091Z"
   },
   {
    "duration": 29,
    "start_time": "2022-02-10T21:07:26.488Z"
   },
   {
    "duration": 14,
    "start_time": "2022-02-10T21:07:50.718Z"
   },
   {
    "duration": 275,
    "start_time": "2022-02-10T21:15:52.784Z"
   },
   {
    "duration": 266,
    "start_time": "2022-02-10T21:15:54.299Z"
   },
   {
    "duration": 311,
    "start_time": "2022-02-10T21:16:07.626Z"
   },
   {
    "duration": 306,
    "start_time": "2022-02-10T21:17:45.212Z"
   },
   {
    "duration": 287,
    "start_time": "2022-02-10T21:18:00.281Z"
   },
   {
    "duration": 3,
    "start_time": "2022-02-10T21:19:35.047Z"
   },
   {
    "duration": 276,
    "start_time": "2022-02-10T21:19:39.875Z"
   },
   {
    "duration": 9,
    "start_time": "2022-02-10T21:19:55.785Z"
   },
   {
    "duration": 9,
    "start_time": "2022-02-10T21:20:08.017Z"
   },
   {
    "duration": 283,
    "start_time": "2022-02-10T21:20:23.946Z"
   },
   {
    "duration": 2,
    "start_time": "2022-02-10T21:20:45.209Z"
   },
   {
    "duration": 118,
    "start_time": "2022-02-10T21:20:45.219Z"
   },
   {
    "duration": 8,
    "start_time": "2022-02-10T21:20:45.339Z"
   },
   {
    "duration": 22,
    "start_time": "2022-02-10T21:20:45.349Z"
   },
   {
    "duration": 3,
    "start_time": "2022-02-10T21:20:45.373Z"
   },
   {
    "duration": 15,
    "start_time": "2022-02-10T21:20:45.378Z"
   },
   {
    "duration": 3,
    "start_time": "2022-02-10T21:20:45.394Z"
   },
   {
    "duration": 42,
    "start_time": "2022-02-10T21:20:45.399Z"
   },
   {
    "duration": 14,
    "start_time": "2022-02-10T21:20:45.444Z"
   },
   {
    "duration": 18,
    "start_time": "2022-02-10T21:20:45.459Z"
   },
   {
    "duration": 63,
    "start_time": "2022-02-10T21:20:45.478Z"
   },
   {
    "duration": 52,
    "start_time": "2022-02-10T21:20:45.543Z"
   },
   {
    "duration": 60,
    "start_time": "2022-02-10T21:20:45.596Z"
   },
   {
    "duration": 8,
    "start_time": "2022-02-10T21:20:45.657Z"
   },
   {
    "duration": 2,
    "start_time": "2022-02-10T21:20:45.667Z"
   },
   {
    "duration": 13,
    "start_time": "2022-02-10T21:20:45.670Z"
   },
   {
    "duration": 7,
    "start_time": "2022-02-10T21:20:45.685Z"
   },
   {
    "duration": 9,
    "start_time": "2022-02-10T21:20:45.693Z"
   },
   {
    "duration": 31,
    "start_time": "2022-02-10T21:20:45.703Z"
   },
   {
    "duration": 3,
    "start_time": "2022-02-10T21:20:45.736Z"
   },
   {
    "duration": 5,
    "start_time": "2022-02-10T21:22:41.804Z"
   },
   {
    "duration": 3,
    "start_time": "2022-02-10T21:25:50.029Z"
   },
   {
    "duration": 274,
    "start_time": "2022-02-10T21:26:31.883Z"
   },
   {
    "duration": 3,
    "start_time": "2022-02-10T21:26:56.578Z"
   },
   {
    "duration": 300,
    "start_time": "2022-02-10T21:27:01.758Z"
   },
   {
    "duration": 25,
    "start_time": "2022-02-10T21:28:38.747Z"
   },
   {
    "duration": 3,
    "start_time": "2022-02-10T21:28:41.973Z"
   },
   {
    "duration": 19,
    "start_time": "2022-02-10T21:28:44.478Z"
   },
   {
    "duration": 3,
    "start_time": "2022-02-10T21:28:48.799Z"
   },
   {
    "duration": 19,
    "start_time": "2022-02-10T21:28:52.290Z"
   },
   {
    "duration": 14,
    "start_time": "2022-02-10T21:30:54.454Z"
   },
   {
    "duration": 2,
    "start_time": "2022-02-10T21:33:01.977Z"
   },
   {
    "duration": 132,
    "start_time": "2022-02-10T21:33:01.986Z"
   },
   {
    "duration": 14,
    "start_time": "2022-02-10T21:33:02.119Z"
   },
   {
    "duration": 25,
    "start_time": "2022-02-10T21:33:02.135Z"
   },
   {
    "duration": 4,
    "start_time": "2022-02-10T21:33:02.161Z"
   },
   {
    "duration": 12,
    "start_time": "2022-02-10T21:33:02.166Z"
   },
   {
    "duration": 3,
    "start_time": "2022-02-10T21:33:02.180Z"
   },
   {
    "duration": 44,
    "start_time": "2022-02-10T21:33:02.184Z"
   },
   {
    "duration": 17,
    "start_time": "2022-02-10T21:33:02.230Z"
   },
   {
    "duration": 19,
    "start_time": "2022-02-10T21:33:02.249Z"
   },
   {
    "duration": 71,
    "start_time": "2022-02-10T21:33:02.269Z"
   },
   {
    "duration": 58,
    "start_time": "2022-02-10T21:33:02.341Z"
   },
   {
    "duration": 59,
    "start_time": "2022-02-10T21:33:02.401Z"
   },
   {
    "duration": 8,
    "start_time": "2022-02-10T21:33:02.461Z"
   },
   {
    "duration": 3,
    "start_time": "2022-02-10T21:33:02.470Z"
   },
   {
    "duration": 13,
    "start_time": "2022-02-10T21:33:02.474Z"
   },
   {
    "duration": 8,
    "start_time": "2022-02-10T21:33:02.489Z"
   },
   {
    "duration": 34,
    "start_time": "2022-02-10T21:33:02.498Z"
   },
   {
    "duration": 8,
    "start_time": "2022-02-10T21:33:02.534Z"
   },
   {
    "duration": 3,
    "start_time": "2022-02-10T21:33:02.544Z"
   },
   {
    "duration": 17,
    "start_time": "2022-02-10T21:33:02.548Z"
   },
   {
    "duration": 11,
    "start_time": "2022-02-10T21:33:02.567Z"
   },
   {
    "duration": 11,
    "start_time": "2022-02-10T21:33:02.579Z"
   },
   {
    "duration": 35,
    "start_time": "2022-02-10T21:33:02.593Z"
   },
   {
    "duration": 13,
    "start_time": "2022-02-10T21:33:02.629Z"
   },
   {
    "duration": 11,
    "start_time": "2022-02-10T21:33:02.643Z"
   },
   {
    "duration": 2,
    "start_time": "2022-02-10T21:33:02.656Z"
   },
   {
    "duration": 4,
    "start_time": "2022-02-10T21:33:02.659Z"
   },
   {
    "duration": 4,
    "start_time": "2022-02-10T21:33:02.664Z"
   },
   {
    "duration": 4,
    "start_time": "2022-02-10T21:33:02.669Z"
   },
   {
    "duration": 6,
    "start_time": "2022-02-10T21:33:02.674Z"
   },
   {
    "duration": 7,
    "start_time": "2022-02-10T21:33:02.681Z"
   },
   {
    "duration": 6,
    "start_time": "2022-02-10T21:33:02.689Z"
   },
   {
    "duration": 4,
    "start_time": "2022-02-10T21:33:02.697Z"
   },
   {
    "duration": 25,
    "start_time": "2022-02-10T21:33:02.702Z"
   },
   {
    "duration": 4,
    "start_time": "2022-02-10T21:33:02.728Z"
   },
   {
    "duration": 5,
    "start_time": "2022-02-10T21:33:02.733Z"
   },
   {
    "duration": 4,
    "start_time": "2022-02-10T21:33:02.739Z"
   },
   {
    "duration": 97,
    "start_time": "2022-02-10T21:40:32.607Z"
   },
   {
    "duration": 57,
    "start_time": "2022-02-10T21:40:49.575Z"
   },
   {
    "duration": 6,
    "start_time": "2022-02-10T21:42:17.220Z"
   },
   {
    "duration": 6,
    "start_time": "2022-02-10T21:42:19.618Z"
   },
   {
    "duration": 2,
    "start_time": "2022-02-10T21:43:01.511Z"
   },
   {
    "duration": 130,
    "start_time": "2022-02-10T21:43:01.519Z"
   },
   {
    "duration": 9,
    "start_time": "2022-02-10T21:43:01.651Z"
   },
   {
    "duration": 24,
    "start_time": "2022-02-10T21:43:01.662Z"
   },
   {
    "duration": 5,
    "start_time": "2022-02-10T21:43:01.688Z"
   },
   {
    "duration": 34,
    "start_time": "2022-02-10T21:43:01.694Z"
   },
   {
    "duration": 3,
    "start_time": "2022-02-10T21:43:01.730Z"
   },
   {
    "duration": 27,
    "start_time": "2022-02-10T21:43:01.734Z"
   },
   {
    "duration": 16,
    "start_time": "2022-02-10T21:43:01.763Z"
   },
   {
    "duration": 22,
    "start_time": "2022-02-10T21:43:01.781Z"
   },
   {
    "duration": 51,
    "start_time": "2022-02-10T21:43:01.827Z"
   },
   {
    "duration": 65,
    "start_time": "2022-02-10T21:43:01.879Z"
   },
   {
    "duration": 42,
    "start_time": "2022-02-10T21:43:01.946Z"
   },
   {
    "duration": 8,
    "start_time": "2022-02-10T21:43:01.989Z"
   },
   {
    "duration": 3,
    "start_time": "2022-02-10T21:43:01.998Z"
   },
   {
    "duration": 33,
    "start_time": "2022-02-10T21:43:02.002Z"
   },
   {
    "duration": 11,
    "start_time": "2022-02-10T21:43:02.037Z"
   },
   {
    "duration": 9,
    "start_time": "2022-02-10T21:43:02.049Z"
   },
   {
    "duration": 10,
    "start_time": "2022-02-10T21:43:02.060Z"
   },
   {
    "duration": 3,
    "start_time": "2022-02-10T21:43:02.071Z"
   },
   {
    "duration": 21,
    "start_time": "2022-02-10T21:43:02.075Z"
   },
   {
    "duration": 32,
    "start_time": "2022-02-10T21:43:02.097Z"
   },
   {
    "duration": 12,
    "start_time": "2022-02-10T21:43:02.131Z"
   },
   {
    "duration": 19,
    "start_time": "2022-02-10T21:43:02.144Z"
   },
   {
    "duration": 29,
    "start_time": "2022-02-10T21:43:02.165Z"
   },
   {
    "duration": 130,
    "start_time": "2022-02-10T21:43:02.196Z"
   },
   {
    "duration": 212,
    "start_time": "2022-02-10T21:43:02.328Z"
   },
   {
    "duration": 10,
    "start_time": "2022-02-10T21:43:02.542Z"
   },
   {
    "duration": 3,
    "start_time": "2022-02-10T21:50:27.900Z"
   },
   {
    "duration": 3738,
    "start_time": "2022-02-10T21:50:49.437Z"
   },
   {
    "duration": 3,
    "start_time": "2022-02-10T21:54:03.127Z"
   },
   {
    "duration": 124,
    "start_time": "2022-02-10T21:54:03.134Z"
   },
   {
    "duration": 10,
    "start_time": "2022-02-10T21:54:03.260Z"
   },
   {
    "duration": 21,
    "start_time": "2022-02-10T21:54:03.271Z"
   },
   {
    "duration": 3,
    "start_time": "2022-02-10T21:54:03.294Z"
   },
   {
    "duration": 35,
    "start_time": "2022-02-10T21:54:03.298Z"
   },
   {
    "duration": 6,
    "start_time": "2022-02-10T21:54:03.334Z"
   },
   {
    "duration": 22,
    "start_time": "2022-02-10T21:54:03.341Z"
   },
   {
    "duration": 18,
    "start_time": "2022-02-10T21:54:03.365Z"
   },
   {
    "duration": 44,
    "start_time": "2022-02-10T21:54:03.384Z"
   },
   {
    "duration": 49,
    "start_time": "2022-02-10T21:54:03.429Z"
   },
   {
    "duration": 66,
    "start_time": "2022-02-10T21:54:03.480Z"
   },
   {
    "duration": 42,
    "start_time": "2022-02-10T21:54:03.547Z"
   },
   {
    "duration": 8,
    "start_time": "2022-02-10T21:54:03.591Z"
   },
   {
    "duration": 3,
    "start_time": "2022-02-10T21:54:03.600Z"
   },
   {
    "duration": 31,
    "start_time": "2022-02-10T21:54:03.604Z"
   },
   {
    "duration": 8,
    "start_time": "2022-02-10T21:54:03.636Z"
   },
   {
    "duration": 9,
    "start_time": "2022-02-10T21:54:03.645Z"
   },
   {
    "duration": 8,
    "start_time": "2022-02-10T21:54:03.656Z"
   },
   {
    "duration": 3,
    "start_time": "2022-02-10T21:54:03.665Z"
   },
   {
    "duration": 17,
    "start_time": "2022-02-10T21:54:03.669Z"
   },
   {
    "duration": 11,
    "start_time": "2022-02-10T21:54:03.688Z"
   },
   {
    "duration": 36,
    "start_time": "2022-02-10T21:54:03.700Z"
   },
   {
    "duration": 11,
    "start_time": "2022-02-10T21:54:03.739Z"
   },
   {
    "duration": 13,
    "start_time": "2022-02-10T21:54:03.752Z"
   },
   {
    "duration": 11,
    "start_time": "2022-02-10T21:54:03.766Z"
   },
   {
    "duration": 88,
    "start_time": "2022-02-10T21:54:03.779Z"
   },
   {
    "duration": 5,
    "start_time": "2022-02-10T21:54:03.869Z"
   },
   {
    "duration": 8,
    "start_time": "2022-02-10T21:54:03.875Z"
   },
   {
    "duration": 7,
    "start_time": "2022-02-10T21:54:03.885Z"
   },
   {
    "duration": 3,
    "start_time": "2022-02-10T21:57:02.804Z"
   },
   {
    "duration": -243,
    "start_time": "2022-02-10T21:57:09.455Z"
   },
   {
    "duration": 2,
    "start_time": "2022-02-10T21:57:13.861Z"
   },
   {
    "duration": 121,
    "start_time": "2022-02-10T21:57:13.883Z"
   },
   {
    "duration": 8,
    "start_time": "2022-02-10T21:57:14.006Z"
   },
   {
    "duration": 30,
    "start_time": "2022-02-10T21:57:14.016Z"
   },
   {
    "duration": 4,
    "start_time": "2022-02-10T21:57:14.048Z"
   },
   {
    "duration": 20,
    "start_time": "2022-02-10T21:57:14.054Z"
   },
   {
    "duration": 4,
    "start_time": "2022-02-10T21:57:14.076Z"
   },
   {
    "duration": 49,
    "start_time": "2022-02-10T21:57:14.081Z"
   },
   {
    "duration": 15,
    "start_time": "2022-02-10T21:57:14.133Z"
   },
   {
    "duration": 20,
    "start_time": "2022-02-10T21:57:14.149Z"
   },
   {
    "duration": 71,
    "start_time": "2022-02-10T21:57:14.170Z"
   },
   {
    "duration": 52,
    "start_time": "2022-02-10T21:57:14.243Z"
   },
   {
    "duration": 51,
    "start_time": "2022-02-10T21:57:14.296Z"
   },
   {
    "duration": 8,
    "start_time": "2022-02-10T21:57:14.348Z"
   },
   {
    "duration": 2,
    "start_time": "2022-02-10T21:57:14.358Z"
   },
   {
    "duration": 13,
    "start_time": "2022-02-10T21:57:14.362Z"
   },
   {
    "duration": 7,
    "start_time": "2022-02-10T21:57:14.376Z"
   },
   {
    "duration": 9,
    "start_time": "2022-02-10T21:57:14.385Z"
   },
   {
    "duration": 33,
    "start_time": "2022-02-10T21:57:14.395Z"
   },
   {
    "duration": 3,
    "start_time": "2022-02-10T21:57:14.429Z"
   },
   {
    "duration": 18,
    "start_time": "2022-02-10T21:57:14.433Z"
   },
   {
    "duration": 12,
    "start_time": "2022-02-10T21:57:14.452Z"
   },
   {
    "duration": 12,
    "start_time": "2022-02-10T21:57:14.465Z"
   },
   {
    "duration": 12,
    "start_time": "2022-02-10T21:57:14.479Z"
   },
   {
    "duration": 40,
    "start_time": "2022-02-10T21:57:14.492Z"
   },
   {
    "duration": 12,
    "start_time": "2022-02-10T21:57:14.533Z"
   },
   {
    "duration": 54,
    "start_time": "2022-02-10T21:57:14.546Z"
   },
   {
    "duration": 5,
    "start_time": "2022-02-10T21:57:14.601Z"
   },
   {
    "duration": 20,
    "start_time": "2022-02-10T21:57:14.607Z"
   },
   {
    "duration": 3,
    "start_time": "2022-02-10T21:57:14.629Z"
   },
   {
    "duration": 3798,
    "start_time": "2022-02-10T21:57:33.583Z"
   },
   {
    "duration": 3,
    "start_time": "2022-02-10T21:59:35.289Z"
   },
   {
    "duration": 3694,
    "start_time": "2022-02-10T21:59:38.442Z"
   },
   {
    "duration": 7,
    "start_time": "2022-02-10T22:00:20.589Z"
   },
   {
    "duration": 18,
    "start_time": "2022-02-10T22:00:46.360Z"
   },
   {
    "duration": 8,
    "start_time": "2022-02-10T22:01:11.057Z"
   },
   {
    "duration": 2,
    "start_time": "2022-02-10T22:01:19.663Z"
   },
   {
    "duration": 132,
    "start_time": "2022-02-10T22:01:19.670Z"
   },
   {
    "duration": 9,
    "start_time": "2022-02-10T22:01:19.804Z"
   },
   {
    "duration": 35,
    "start_time": "2022-02-10T22:01:19.815Z"
   },
   {
    "duration": 6,
    "start_time": "2022-02-10T22:01:19.851Z"
   },
   {
    "duration": 19,
    "start_time": "2022-02-10T22:01:19.859Z"
   },
   {
    "duration": 3,
    "start_time": "2022-02-10T22:01:19.879Z"
   },
   {
    "duration": 46,
    "start_time": "2022-02-10T22:01:19.884Z"
   },
   {
    "duration": 14,
    "start_time": "2022-02-10T22:01:19.932Z"
   },
   {
    "duration": 21,
    "start_time": "2022-02-10T22:01:19.948Z"
   },
   {
    "duration": 63,
    "start_time": "2022-02-10T22:01:19.971Z"
   },
   {
    "duration": 53,
    "start_time": "2022-02-10T22:01:20.035Z"
   },
   {
    "duration": 56,
    "start_time": "2022-02-10T22:01:20.089Z"
   },
   {
    "duration": 7,
    "start_time": "2022-02-10T22:01:20.146Z"
   },
   {
    "duration": 2,
    "start_time": "2022-02-10T22:01:20.155Z"
   },
   {
    "duration": 15,
    "start_time": "2022-02-10T22:01:20.158Z"
   },
   {
    "duration": 8,
    "start_time": "2022-02-10T22:01:20.174Z"
   },
   {
    "duration": 9,
    "start_time": "2022-02-10T22:01:20.183Z"
   },
   {
    "duration": 35,
    "start_time": "2022-02-10T22:01:20.193Z"
   },
   {
    "duration": 2,
    "start_time": "2022-02-10T22:01:20.229Z"
   },
   {
    "duration": 19,
    "start_time": "2022-02-10T22:01:20.233Z"
   },
   {
    "duration": 11,
    "start_time": "2022-02-10T22:01:20.254Z"
   },
   {
    "duration": 12,
    "start_time": "2022-02-10T22:01:20.266Z"
   },
   {
    "duration": 11,
    "start_time": "2022-02-10T22:01:20.281Z"
   },
   {
    "duration": 34,
    "start_time": "2022-02-10T22:01:20.293Z"
   },
   {
    "duration": 12,
    "start_time": "2022-02-10T22:01:20.329Z"
   },
   {
    "duration": 58,
    "start_time": "2022-02-10T22:01:20.343Z"
   },
   {
    "duration": 29,
    "start_time": "2022-02-10T22:01:20.403Z"
   },
   {
    "duration": 9,
    "start_time": "2022-02-10T22:01:20.434Z"
   },
   {
    "duration": 3,
    "start_time": "2022-02-10T22:01:20.445Z"
   },
   {
    "duration": 19,
    "start_time": "2022-02-10T22:01:43.020Z"
   },
   {
    "duration": 2,
    "start_time": "2022-02-10T22:02:38.008Z"
   },
   {
    "duration": 128,
    "start_time": "2022-02-10T22:02:38.013Z"
   },
   {
    "duration": 9,
    "start_time": "2022-02-10T22:02:38.143Z"
   },
   {
    "duration": 22,
    "start_time": "2022-02-10T22:02:38.154Z"
   },
   {
    "duration": 4,
    "start_time": "2022-02-10T22:02:38.177Z"
   },
   {
    "duration": 16,
    "start_time": "2022-02-10T22:02:38.182Z"
   },
   {
    "duration": 3,
    "start_time": "2022-02-10T22:02:38.199Z"
   },
   {
    "duration": 40,
    "start_time": "2022-02-10T22:02:38.204Z"
   },
   {
    "duration": 15,
    "start_time": "2022-02-10T22:02:38.246Z"
   },
   {
    "duration": 18,
    "start_time": "2022-02-10T22:02:38.262Z"
   },
   {
    "duration": 73,
    "start_time": "2022-02-10T22:02:38.281Z"
   },
   {
    "duration": 51,
    "start_time": "2022-02-10T22:02:38.355Z"
   },
   {
    "duration": 54,
    "start_time": "2022-02-10T22:02:38.407Z"
   },
   {
    "duration": 7,
    "start_time": "2022-02-10T22:02:38.463Z"
   },
   {
    "duration": 2,
    "start_time": "2022-02-10T22:02:38.472Z"
   },
   {
    "duration": 14,
    "start_time": "2022-02-10T22:02:38.475Z"
   },
   {
    "duration": 7,
    "start_time": "2022-02-10T22:02:38.490Z"
   },
   {
    "duration": 33,
    "start_time": "2022-02-10T22:02:38.499Z"
   },
   {
    "duration": 9,
    "start_time": "2022-02-10T22:02:38.533Z"
   },
   {
    "duration": 3,
    "start_time": "2022-02-10T22:02:38.543Z"
   },
   {
    "duration": 17,
    "start_time": "2022-02-10T22:02:38.547Z"
   },
   {
    "duration": 11,
    "start_time": "2022-02-10T22:02:38.565Z"
   },
   {
    "duration": 11,
    "start_time": "2022-02-10T22:02:38.577Z"
   },
   {
    "duration": 36,
    "start_time": "2022-02-10T22:02:38.591Z"
   },
   {
    "duration": 13,
    "start_time": "2022-02-10T22:02:38.629Z"
   },
   {
    "duration": 11,
    "start_time": "2022-02-10T22:02:38.643Z"
   },
   {
    "duration": 72,
    "start_time": "2022-02-10T22:02:38.656Z"
   },
   {
    "duration": 10,
    "start_time": "2022-02-10T22:02:38.729Z"
   },
   {
    "duration": 8,
    "start_time": "2022-02-10T22:02:38.741Z"
   },
   {
    "duration": 4,
    "start_time": "2022-02-10T22:02:38.750Z"
   },
   {
    "duration": 2,
    "start_time": "2022-02-10T22:03:43.731Z"
   },
   {
    "duration": 179,
    "start_time": "2022-02-10T22:03:43.740Z"
   },
   {
    "duration": 18,
    "start_time": "2022-02-10T22:03:43.921Z"
   },
   {
    "duration": 35,
    "start_time": "2022-02-10T22:03:43.941Z"
   },
   {
    "duration": 4,
    "start_time": "2022-02-10T22:03:43.978Z"
   },
   {
    "duration": 12,
    "start_time": "2022-02-10T22:03:43.984Z"
   },
   {
    "duration": 31,
    "start_time": "2022-02-10T22:03:43.997Z"
   },
   {
    "duration": 27,
    "start_time": "2022-02-10T22:03:44.029Z"
   },
   {
    "duration": 21,
    "start_time": "2022-02-10T22:03:44.059Z"
   },
   {
    "duration": 53,
    "start_time": "2022-02-10T22:03:44.083Z"
   },
   {
    "duration": 92,
    "start_time": "2022-02-10T22:03:44.138Z"
   },
   {
    "duration": 84,
    "start_time": "2022-02-10T22:03:44.232Z"
   },
   {
    "duration": 64,
    "start_time": "2022-02-10T22:03:44.318Z"
   },
   {
    "duration": 7,
    "start_time": "2022-02-10T22:03:44.384Z"
   },
   {
    "duration": 2,
    "start_time": "2022-02-10T22:03:44.393Z"
   },
   {
    "duration": 30,
    "start_time": "2022-02-10T22:03:44.397Z"
   },
   {
    "duration": 8,
    "start_time": "2022-02-10T22:03:44.428Z"
   },
   {
    "duration": 13,
    "start_time": "2022-02-10T22:03:44.437Z"
   },
   {
    "duration": 9,
    "start_time": "2022-02-10T22:03:44.451Z"
   },
   {
    "duration": 2,
    "start_time": "2022-02-10T22:03:44.462Z"
   },
   {
    "duration": 17,
    "start_time": "2022-02-10T22:03:44.466Z"
   },
   {
    "duration": 12,
    "start_time": "2022-02-10T22:03:44.485Z"
   },
   {
    "duration": 13,
    "start_time": "2022-02-10T22:03:44.527Z"
   },
   {
    "duration": 12,
    "start_time": "2022-02-10T22:03:44.542Z"
   },
   {
    "duration": 13,
    "start_time": "2022-02-10T22:03:44.555Z"
   },
   {
    "duration": 11,
    "start_time": "2022-02-10T22:03:44.569Z"
   },
   {
    "duration": 90,
    "start_time": "2022-02-10T22:03:44.582Z"
   },
   {
    "duration": 12,
    "start_time": "2022-02-10T22:03:44.674Z"
   },
   {
    "duration": 9,
    "start_time": "2022-02-10T22:03:44.687Z"
   },
   {
    "duration": 3,
    "start_time": "2022-02-10T22:03:44.698Z"
   },
   {
    "duration": 693,
    "start_time": "2022-02-10T22:03:44.727Z"
   },
   {
    "duration": -620,
    "start_time": "2022-02-10T22:03:46.042Z"
   },
   {
    "duration": -630,
    "start_time": "2022-02-10T22:03:46.053Z"
   },
   {
    "duration": -656,
    "start_time": "2022-02-10T22:03:46.080Z"
   },
   {
    "duration": -667,
    "start_time": "2022-02-10T22:03:46.092Z"
   },
   {
    "duration": -677,
    "start_time": "2022-02-10T22:03:46.104Z"
   },
   {
    "duration": -689,
    "start_time": "2022-02-10T22:03:46.117Z"
   },
   {
    "duration": -700,
    "start_time": "2022-02-10T22:03:46.129Z"
   },
   {
    "duration": 533,
    "start_time": "2022-02-10T22:11:14.357Z"
   },
   {
    "duration": 547,
    "start_time": "2022-02-10T22:17:06.355Z"
   },
   {
    "duration": 4,
    "start_time": "2022-02-10T22:17:55.898Z"
   },
   {
    "duration": 566,
    "start_time": "2022-02-10T22:17:59.327Z"
   },
   {
    "duration": 175,
    "start_time": "2022-02-10T22:25:12.099Z"
   },
   {
    "duration": 18,
    "start_time": "2022-02-10T22:26:05.150Z"
   },
   {
    "duration": 93,
    "start_time": "2022-02-10T22:26:51.621Z"
   },
   {
    "duration": 294,
    "start_time": "2022-02-10T22:27:04.419Z"
   },
   {
    "duration": 18,
    "start_time": "2022-02-10T22:27:55.043Z"
   },
   {
    "duration": 19,
    "start_time": "2022-02-10T22:28:35.612Z"
   },
   {
    "duration": 14,
    "start_time": "2022-02-10T22:29:00.528Z"
   },
   {
    "duration": 17,
    "start_time": "2022-02-10T22:29:14.241Z"
   },
   {
    "duration": 17,
    "start_time": "2022-02-10T22:29:41.687Z"
   },
   {
    "duration": 20,
    "start_time": "2022-02-10T22:29:57.867Z"
   },
   {
    "duration": 280,
    "start_time": "2022-02-10T22:30:53.466Z"
   },
   {
    "duration": 30,
    "start_time": "2022-02-10T22:32:19.052Z"
   },
   {
    "duration": 605,
    "start_time": "2022-02-10T22:33:07.583Z"
   },
   {
    "duration": 3,
    "start_time": "2022-02-10T22:33:14.935Z"
   },
   {
    "duration": 129,
    "start_time": "2022-02-10T22:33:14.944Z"
   },
   {
    "duration": 9,
    "start_time": "2022-02-10T22:33:15.075Z"
   },
   {
    "duration": 22,
    "start_time": "2022-02-10T22:33:15.086Z"
   },
   {
    "duration": 18,
    "start_time": "2022-02-10T22:33:15.110Z"
   },
   {
    "duration": 13,
    "start_time": "2022-02-10T22:33:15.129Z"
   },
   {
    "duration": 3,
    "start_time": "2022-02-10T22:33:15.144Z"
   },
   {
    "duration": 22,
    "start_time": "2022-02-10T22:33:15.148Z"
   },
   {
    "duration": 15,
    "start_time": "2022-02-10T22:33:15.172Z"
   },
   {
    "duration": 44,
    "start_time": "2022-02-10T22:33:15.188Z"
   },
   {
    "duration": 49,
    "start_time": "2022-02-10T22:33:15.233Z"
   },
   {
    "duration": 74,
    "start_time": "2022-02-10T22:33:15.284Z"
   },
   {
    "duration": 41,
    "start_time": "2022-02-10T22:33:15.359Z"
   },
   {
    "duration": 7,
    "start_time": "2022-02-10T22:33:15.402Z"
   },
   {
    "duration": 17,
    "start_time": "2022-02-10T22:33:15.410Z"
   },
   {
    "duration": 10,
    "start_time": "2022-02-10T22:33:15.428Z"
   },
   {
    "duration": 8,
    "start_time": "2022-02-10T22:33:15.440Z"
   },
   {
    "duration": 10,
    "start_time": "2022-02-10T22:33:15.449Z"
   },
   {
    "duration": 8,
    "start_time": "2022-02-10T22:33:15.460Z"
   },
   {
    "duration": 3,
    "start_time": "2022-02-10T22:33:15.469Z"
   },
   {
    "duration": 18,
    "start_time": "2022-02-10T22:33:15.473Z"
   },
   {
    "duration": 39,
    "start_time": "2022-02-10T22:33:15.493Z"
   },
   {
    "duration": 12,
    "start_time": "2022-02-10T22:33:15.533Z"
   },
   {
    "duration": 12,
    "start_time": "2022-02-10T22:33:15.546Z"
   },
   {
    "duration": 12,
    "start_time": "2022-02-10T22:33:15.559Z"
   },
   {
    "duration": 10,
    "start_time": "2022-02-10T22:33:15.572Z"
   },
   {
    "duration": 87,
    "start_time": "2022-02-10T22:33:15.584Z"
   },
   {
    "duration": 17,
    "start_time": "2022-02-10T22:33:15.672Z"
   },
   {
    "duration": 7,
    "start_time": "2022-02-10T22:33:15.691Z"
   },
   {
    "duration": 3,
    "start_time": "2022-02-10T22:33:15.700Z"
   },
   {
    "duration": 3,
    "start_time": "2022-02-10T22:34:01.175Z"
   },
   {
    "duration": 16,
    "start_time": "2022-02-10T22:34:09.938Z"
   },
   {
    "duration": 4,
    "start_time": "2022-02-10T22:34:36.627Z"
   },
   {
    "duration": 15,
    "start_time": "2022-02-10T22:34:39.328Z"
   },
   {
    "duration": 11,
    "start_time": "2022-02-10T22:36:37.749Z"
   },
   {
    "duration": 16,
    "start_time": "2022-02-10T22:36:41.735Z"
   },
   {
    "duration": 11,
    "start_time": "2022-02-10T22:36:43.514Z"
   },
   {
    "duration": 16,
    "start_time": "2022-02-10T22:41:44.835Z"
   },
   {
    "duration": 4,
    "start_time": "2022-02-10T22:42:23.964Z"
   },
   {
    "duration": 7,
    "start_time": "2022-02-10T22:43:31.396Z"
   },
   {
    "duration": 4,
    "start_time": "2022-02-10T22:43:33.351Z"
   },
   {
    "duration": 3,
    "start_time": "2022-02-10T22:44:42.103Z"
   },
   {
    "duration": 118,
    "start_time": "2022-02-10T22:44:42.120Z"
   },
   {
    "duration": 9,
    "start_time": "2022-02-10T22:44:42.239Z"
   },
   {
    "duration": 23,
    "start_time": "2022-02-10T22:44:42.249Z"
   },
   {
    "duration": 3,
    "start_time": "2022-02-10T22:44:42.274Z"
   },
   {
    "duration": 12,
    "start_time": "2022-02-10T22:44:42.278Z"
   },
   {
    "duration": 3,
    "start_time": "2022-02-10T22:44:42.292Z"
   },
   {
    "duration": 45,
    "start_time": "2022-02-10T22:44:42.296Z"
   },
   {
    "duration": 15,
    "start_time": "2022-02-10T22:44:42.343Z"
   },
   {
    "duration": 22,
    "start_time": "2022-02-10T22:44:42.359Z"
   },
   {
    "duration": 68,
    "start_time": "2022-02-10T22:44:42.382Z"
   },
   {
    "duration": 51,
    "start_time": "2022-02-10T22:44:42.452Z"
   },
   {
    "duration": 58,
    "start_time": "2022-02-10T22:44:42.505Z"
   },
   {
    "duration": 7,
    "start_time": "2022-02-10T22:44:42.565Z"
   },
   {
    "duration": 2,
    "start_time": "2022-02-10T22:44:42.574Z"
   },
   {
    "duration": 12,
    "start_time": "2022-02-10T22:44:42.577Z"
   },
   {
    "duration": 8,
    "start_time": "2022-02-10T22:44:42.590Z"
   },
   {
    "duration": 29,
    "start_time": "2022-02-10T22:44:42.599Z"
   },
   {
    "duration": 9,
    "start_time": "2022-02-10T22:44:42.629Z"
   },
   {
    "duration": 3,
    "start_time": "2022-02-10T22:44:42.639Z"
   },
   {
    "duration": 17,
    "start_time": "2022-02-10T22:44:42.643Z"
   },
   {
    "duration": 11,
    "start_time": "2022-02-10T22:44:42.661Z"
   },
   {
    "duration": 11,
    "start_time": "2022-02-10T22:44:42.675Z"
   },
   {
    "duration": 11,
    "start_time": "2022-02-10T22:44:42.688Z"
   },
   {
    "duration": 13,
    "start_time": "2022-02-10T22:44:42.727Z"
   },
   {
    "duration": 12,
    "start_time": "2022-02-10T22:44:42.741Z"
   },
   {
    "duration": 56,
    "start_time": "2022-02-10T22:44:42.754Z"
   },
   {
    "duration": 8,
    "start_time": "2022-02-10T22:44:42.827Z"
   },
   {
    "duration": 8,
    "start_time": "2022-02-10T22:44:42.837Z"
   },
   {
    "duration": 3,
    "start_time": "2022-02-10T22:44:42.846Z"
   },
   {
    "duration": 17,
    "start_time": "2022-02-10T22:44:42.851Z"
   },
   {
    "duration": 9,
    "start_time": "2022-02-10T22:44:42.870Z"
   },
   {
    "duration": 14,
    "start_time": "2022-02-10T22:44:42.880Z"
   },
   {
    "duration": 38,
    "start_time": "2022-02-10T22:44:42.896Z"
   },
   {
    "duration": 8,
    "start_time": "2022-02-10T22:44:42.935Z"
   },
   {
    "duration": 4,
    "start_time": "2022-02-10T22:44:42.944Z"
   },
   {
    "duration": 8,
    "start_time": "2022-02-10T22:44:42.949Z"
   },
   {
    "duration": 5,
    "start_time": "2022-02-10T22:44:42.958Z"
   },
   {
    "duration": 714,
    "start_time": "2022-02-16T17:38:04.254Z"
   },
   {
    "duration": 180,
    "start_time": "2022-02-16T17:38:04.971Z"
   },
   {
    "duration": 25,
    "start_time": "2022-02-16T17:38:05.154Z"
   },
   {
    "duration": 53,
    "start_time": "2022-02-16T17:38:05.182Z"
   },
   {
    "duration": 5,
    "start_time": "2022-02-16T17:38:05.237Z"
   },
   {
    "duration": 26,
    "start_time": "2022-02-16T17:38:05.244Z"
   },
   {
    "duration": 10,
    "start_time": "2022-02-16T17:38:05.272Z"
   },
   {
    "duration": 56,
    "start_time": "2022-02-16T17:38:05.284Z"
   },
   {
    "duration": 23,
    "start_time": "2022-02-16T17:38:05.344Z"
   },
   {
    "duration": 29,
    "start_time": "2022-02-16T17:38:05.371Z"
   },
   {
    "duration": 105,
    "start_time": "2022-02-16T17:38:05.403Z"
   },
   {
    "duration": 121,
    "start_time": "2022-02-16T17:38:05.511Z"
   },
   {
    "duration": 79,
    "start_time": "2022-02-16T17:38:05.634Z"
   },
   {
    "duration": 27,
    "start_time": "2022-02-16T17:38:05.715Z"
   },
   {
    "duration": 4,
    "start_time": "2022-02-16T17:38:05.745Z"
   },
   {
    "duration": 23,
    "start_time": "2022-02-16T17:38:05.751Z"
   },
   {
    "duration": 14,
    "start_time": "2022-02-16T17:38:05.777Z"
   },
   {
    "duration": 53,
    "start_time": "2022-02-16T17:38:05.793Z"
   },
   {
    "duration": 15,
    "start_time": "2022-02-16T17:38:05.849Z"
   },
   {
    "duration": 5,
    "start_time": "2022-02-16T17:38:05.867Z"
   },
   {
    "duration": 26,
    "start_time": "2022-02-16T17:38:05.875Z"
   },
   {
    "duration": 18,
    "start_time": "2022-02-16T17:38:05.932Z"
   },
   {
    "duration": 20,
    "start_time": "2022-02-16T17:38:05.952Z"
   },
   {
    "duration": 24,
    "start_time": "2022-02-16T17:38:05.975Z"
   },
   {
    "duration": 45,
    "start_time": "2022-02-16T17:38:06.001Z"
   },
   {
    "duration": 18,
    "start_time": "2022-02-16T17:38:06.048Z"
   },
   {
    "duration": 114,
    "start_time": "2022-02-16T17:38:06.071Z"
   },
   {
    "duration": 14,
    "start_time": "2022-02-16T17:38:06.187Z"
   },
   {
    "duration": 28,
    "start_time": "2022-02-16T17:38:06.204Z"
   },
   {
    "duration": 7,
    "start_time": "2022-02-16T17:38:06.235Z"
   },
   {
    "duration": 31,
    "start_time": "2022-02-16T17:38:06.244Z"
   },
   {
    "duration": 18,
    "start_time": "2022-02-16T17:38:06.277Z"
   },
   {
    "duration": 56,
    "start_time": "2022-02-16T17:38:06.298Z"
   },
   {
    "duration": 18,
    "start_time": "2022-02-16T17:38:06.356Z"
   },
   {
    "duration": 12,
    "start_time": "2022-02-16T17:38:06.377Z"
   },
   {
    "duration": 6,
    "start_time": "2022-02-16T17:38:06.392Z"
   },
   {
    "duration": 10,
    "start_time": "2022-02-16T17:38:06.432Z"
   },
   {
    "duration": 7,
    "start_time": "2022-02-16T17:38:06.444Z"
   },
   {
    "duration": 106,
    "start_time": "2022-02-16T19:35:58.976Z"
   },
   {
    "duration": 124,
    "start_time": "2022-02-16T19:37:26.284Z"
   },
   {
    "duration": 353,
    "start_time": "2022-02-16T19:43:24.375Z"
   },
   {
    "duration": 321,
    "start_time": "2022-02-16T19:43:38.653Z"
   },
   {
    "duration": 728,
    "start_time": "2022-02-16T19:43:50.050Z"
   },
   {
    "duration": 185,
    "start_time": "2022-02-16T19:43:50.780Z"
   },
   {
    "duration": 25,
    "start_time": "2022-02-16T19:43:50.968Z"
   },
   {
    "duration": 49,
    "start_time": "2022-02-16T19:43:50.996Z"
   },
   {
    "duration": 5,
    "start_time": "2022-02-16T19:43:51.047Z"
   },
   {
    "duration": 35,
    "start_time": "2022-02-16T19:43:51.054Z"
   },
   {
    "duration": 31,
    "start_time": "2022-02-16T19:43:51.092Z"
   },
   {
    "duration": 30,
    "start_time": "2022-02-16T19:43:51.126Z"
   },
   {
    "duration": 24,
    "start_time": "2022-02-16T19:43:51.159Z"
   },
   {
    "duration": 50,
    "start_time": "2022-02-16T19:43:51.186Z"
   },
   {
    "duration": 111,
    "start_time": "2022-02-16T19:43:51.238Z"
   },
   {
    "duration": 110,
    "start_time": "2022-02-16T19:43:51.351Z"
   },
   {
    "duration": 82,
    "start_time": "2022-02-16T19:43:51.464Z"
   },
   {
    "duration": 15,
    "start_time": "2022-02-16T19:43:51.548Z"
   },
   {
    "duration": 5,
    "start_time": "2022-02-16T19:43:51.566Z"
   },
   {
    "duration": 48,
    "start_time": "2022-02-16T19:43:51.575Z"
   },
   {
    "duration": 14,
    "start_time": "2022-02-16T19:43:51.626Z"
   },
   {
    "duration": 17,
    "start_time": "2022-02-16T19:43:51.642Z"
   },
   {
    "duration": 16,
    "start_time": "2022-02-16T19:43:51.662Z"
   },
   {
    "duration": 5,
    "start_time": "2022-02-16T19:43:51.680Z"
   },
   {
    "duration": 23,
    "start_time": "2022-02-16T19:43:51.723Z"
   },
   {
    "duration": 19,
    "start_time": "2022-02-16T19:43:51.748Z"
   },
   {
    "duration": 53,
    "start_time": "2022-02-16T19:43:51.772Z"
   },
   {
    "duration": 26,
    "start_time": "2022-02-16T19:43:51.828Z"
   },
   {
    "duration": 21,
    "start_time": "2022-02-16T19:43:51.857Z"
   },
   {
    "duration": 45,
    "start_time": "2022-02-16T19:43:51.881Z"
   },
   {
    "duration": 106,
    "start_time": "2022-02-16T19:43:51.929Z"
   },
   {
    "duration": 16,
    "start_time": "2022-02-16T19:43:52.037Z"
   },
   {
    "duration": 14,
    "start_time": "2022-02-16T19:43:52.056Z"
   },
   {
    "duration": 7,
    "start_time": "2022-02-16T19:43:52.072Z"
   },
   {
    "duration": 60,
    "start_time": "2022-02-16T19:43:52.082Z"
   },
   {
    "duration": 19,
    "start_time": "2022-02-16T19:43:52.145Z"
   },
   {
    "duration": 59,
    "start_time": "2022-02-16T19:43:52.167Z"
   },
   {
    "duration": 20,
    "start_time": "2022-02-16T19:43:52.229Z"
   },
   {
    "duration": 11,
    "start_time": "2022-02-16T19:43:52.252Z"
   },
   {
    "duration": 6,
    "start_time": "2022-02-16T19:43:52.266Z"
   },
   {
    "duration": 54,
    "start_time": "2022-02-16T19:43:52.275Z"
   },
   {
    "duration": 9,
    "start_time": "2022-02-16T19:43:52.332Z"
   },
   {
    "duration": 104,
    "start_time": "2022-02-16T19:43:52.344Z"
   },
   {
    "duration": 95,
    "start_time": "2022-02-16T19:48:21.544Z"
   }
  ],
  "colab": {
   "collapsed_sections": [
    "E0vqbgi9ay0H",
    "VUC88oWjTJw2"
   ],
   "name": "yandex_music_project_2021.2.ipynb",
   "provenance": []
  },
  "kernelspec": {
   "display_name": "Python 3 (ipykernel)",
   "language": "python",
   "name": "python3"
  },
  "language_info": {
   "codemirror_mode": {
    "name": "ipython",
    "version": 3
   },
   "file_extension": ".py",
   "mimetype": "text/x-python",
   "name": "python",
   "nbconvert_exporter": "python",
   "pygments_lexer": "ipython3",
   "version": "3.10.4"
  },
  "toc": {
   "base_numbering": 1,
   "nav_menu": {},
   "number_sections": true,
   "sideBar": true,
   "skip_h1_title": true,
   "title_cell": "Table of Contents",
   "title_sidebar": "Contents",
   "toc_cell": false,
   "toc_position": {},
   "toc_section_display": true,
   "toc_window_display": false
  }
 },
 "nbformat": 4,
 "nbformat_minor": 4
}
