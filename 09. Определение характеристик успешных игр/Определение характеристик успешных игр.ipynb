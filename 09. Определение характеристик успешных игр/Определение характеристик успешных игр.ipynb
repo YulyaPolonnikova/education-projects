{
 "cells": [
  {
   "cell_type": "markdown",
   "metadata": {
    "toc": true
   },
   "source": [
    "<h1> <p style=\"text-align: center;\"> Определение закономерностей успешных игр </p> </h1>\n",
    "<h3>Содержание</h3>\n",
    "<div class=\"toc\"><ol class=\"toc-item\">\n",
    "    <li> Изучение общей информации из файла и подготовка данных </li>\n",
    "    <li> Исследовательский анализ данных </li>\n",
    "    <li> Составление портрета пользователя каждого региона </li>\n",
    "    <li> Проверка гипотез </li>\n",
    "    <li> Общий вывод </li>\n",
    "</ol></div>"
   ]
  },
  {
   "cell_type": "code",
   "execution_count": 1,
   "metadata": {},
   "outputs": [],
   "source": [
    "import pandas as pd\n",
    "from scipy import stats as st\n",
    "import matplotlib.pyplot as plt\n",
    "import seaborn as sns\n",
    "import numpy as np\n",
    "import warnings"
   ]
  },
  {
   "cell_type": "markdown",
   "metadata": {},
   "source": [
    "## Изучение общей информации из файла и подготовка данных\n",
    "\n",
    "Откроем файлы с данными и изучим общую информацию"
   ]
  },
  {
   "cell_type": "code",
   "execution_count": 2,
   "metadata": {},
   "outputs": [
    {
     "name": "stdout",
     "output_type": "stream",
     "text": [
      "<class 'pandas.core.frame.DataFrame'>\n",
      "RangeIndex: 16715 entries, 0 to 16714\n",
      "Data columns (total 11 columns):\n",
      " #   Column           Non-Null Count  Dtype  \n",
      "---  ------           --------------  -----  \n",
      " 0   Name             16713 non-null  object \n",
      " 1   Platform         16715 non-null  object \n",
      " 2   Year_of_Release  16446 non-null  float64\n",
      " 3   Genre            16713 non-null  object \n",
      " 4   NA_sales         16715 non-null  float64\n",
      " 5   EU_sales         16715 non-null  float64\n",
      " 6   JP_sales         16715 non-null  float64\n",
      " 7   Other_sales      16715 non-null  float64\n",
      " 8   Critic_Score     8137 non-null   float64\n",
      " 9   User_Score       10014 non-null  object \n",
      " 10  Rating           9949 non-null   object \n",
      "dtypes: float64(6), object(5)\n",
      "memory usage: 1.4+ MB\n"
     ]
    }
   ],
   "source": [
    "games = pd.read_csv('') # в '' указываем наименование файла с данными\n",
    "warnings.filterwarnings(\"ignore\")\n",
    "\n",
    "games.info()"
   ]
  },
  {
   "cell_type": "code",
   "execution_count": 3,
   "metadata": {},
   "outputs": [
    {
     "data": {
      "text/html": [
       "<div>\n",
       "<style scoped>\n",
       "    .dataframe tbody tr th:only-of-type {\n",
       "        vertical-align: middle;\n",
       "    }\n",
       "\n",
       "    .dataframe tbody tr th {\n",
       "        vertical-align: top;\n",
       "    }\n",
       "\n",
       "    .dataframe thead th {\n",
       "        text-align: right;\n",
       "    }\n",
       "</style>\n",
       "<table border=\"1\" class=\"dataframe\">\n",
       "  <thead>\n",
       "    <tr style=\"text-align: right;\">\n",
       "      <th></th>\n",
       "      <th>Name</th>\n",
       "      <th>Platform</th>\n",
       "      <th>Year_of_Release</th>\n",
       "      <th>Genre</th>\n",
       "      <th>NA_sales</th>\n",
       "      <th>EU_sales</th>\n",
       "      <th>JP_sales</th>\n",
       "      <th>Other_sales</th>\n",
       "      <th>Critic_Score</th>\n",
       "      <th>User_Score</th>\n",
       "      <th>Rating</th>\n",
       "    </tr>\n",
       "  </thead>\n",
       "  <tbody>\n",
       "    <tr>\n",
       "      <th>0</th>\n",
       "      <td>Wii Sports</td>\n",
       "      <td>Wii</td>\n",
       "      <td>2006.0</td>\n",
       "      <td>Sports</td>\n",
       "      <td>41.36</td>\n",
       "      <td>28.96</td>\n",
       "      <td>3.77</td>\n",
       "      <td>8.45</td>\n",
       "      <td>76.0</td>\n",
       "      <td>8</td>\n",
       "      <td>E</td>\n",
       "    </tr>\n",
       "    <tr>\n",
       "      <th>1</th>\n",
       "      <td>Super Mario Bros.</td>\n",
       "      <td>NES</td>\n",
       "      <td>1985.0</td>\n",
       "      <td>Platform</td>\n",
       "      <td>29.08</td>\n",
       "      <td>3.58</td>\n",
       "      <td>6.81</td>\n",
       "      <td>0.77</td>\n",
       "      <td>NaN</td>\n",
       "      <td>NaN</td>\n",
       "      <td>NaN</td>\n",
       "    </tr>\n",
       "    <tr>\n",
       "      <th>2</th>\n",
       "      <td>Mario Kart Wii</td>\n",
       "      <td>Wii</td>\n",
       "      <td>2008.0</td>\n",
       "      <td>Racing</td>\n",
       "      <td>15.68</td>\n",
       "      <td>12.76</td>\n",
       "      <td>3.79</td>\n",
       "      <td>3.29</td>\n",
       "      <td>82.0</td>\n",
       "      <td>8.3</td>\n",
       "      <td>E</td>\n",
       "    </tr>\n",
       "    <tr>\n",
       "      <th>3</th>\n",
       "      <td>Wii Sports Resort</td>\n",
       "      <td>Wii</td>\n",
       "      <td>2009.0</td>\n",
       "      <td>Sports</td>\n",
       "      <td>15.61</td>\n",
       "      <td>10.93</td>\n",
       "      <td>3.28</td>\n",
       "      <td>2.95</td>\n",
       "      <td>80.0</td>\n",
       "      <td>8</td>\n",
       "      <td>E</td>\n",
       "    </tr>\n",
       "    <tr>\n",
       "      <th>4</th>\n",
       "      <td>Pokemon Red/Pokemon Blue</td>\n",
       "      <td>GB</td>\n",
       "      <td>1996.0</td>\n",
       "      <td>Role-Playing</td>\n",
       "      <td>11.27</td>\n",
       "      <td>8.89</td>\n",
       "      <td>10.22</td>\n",
       "      <td>1.00</td>\n",
       "      <td>NaN</td>\n",
       "      <td>NaN</td>\n",
       "      <td>NaN</td>\n",
       "    </tr>\n",
       "    <tr>\n",
       "      <th>5</th>\n",
       "      <td>Tetris</td>\n",
       "      <td>GB</td>\n",
       "      <td>1989.0</td>\n",
       "      <td>Puzzle</td>\n",
       "      <td>23.20</td>\n",
       "      <td>2.26</td>\n",
       "      <td>4.22</td>\n",
       "      <td>0.58</td>\n",
       "      <td>NaN</td>\n",
       "      <td>NaN</td>\n",
       "      <td>NaN</td>\n",
       "    </tr>\n",
       "    <tr>\n",
       "      <th>6</th>\n",
       "      <td>New Super Mario Bros.</td>\n",
       "      <td>DS</td>\n",
       "      <td>2006.0</td>\n",
       "      <td>Platform</td>\n",
       "      <td>11.28</td>\n",
       "      <td>9.14</td>\n",
       "      <td>6.50</td>\n",
       "      <td>2.88</td>\n",
       "      <td>89.0</td>\n",
       "      <td>8.5</td>\n",
       "      <td>E</td>\n",
       "    </tr>\n",
       "    <tr>\n",
       "      <th>7</th>\n",
       "      <td>Wii Play</td>\n",
       "      <td>Wii</td>\n",
       "      <td>2006.0</td>\n",
       "      <td>Misc</td>\n",
       "      <td>13.96</td>\n",
       "      <td>9.18</td>\n",
       "      <td>2.93</td>\n",
       "      <td>2.84</td>\n",
       "      <td>58.0</td>\n",
       "      <td>6.6</td>\n",
       "      <td>E</td>\n",
       "    </tr>\n",
       "    <tr>\n",
       "      <th>8</th>\n",
       "      <td>New Super Mario Bros. Wii</td>\n",
       "      <td>Wii</td>\n",
       "      <td>2009.0</td>\n",
       "      <td>Platform</td>\n",
       "      <td>14.44</td>\n",
       "      <td>6.94</td>\n",
       "      <td>4.70</td>\n",
       "      <td>2.24</td>\n",
       "      <td>87.0</td>\n",
       "      <td>8.4</td>\n",
       "      <td>E</td>\n",
       "    </tr>\n",
       "    <tr>\n",
       "      <th>9</th>\n",
       "      <td>Duck Hunt</td>\n",
       "      <td>NES</td>\n",
       "      <td>1984.0</td>\n",
       "      <td>Shooter</td>\n",
       "      <td>26.93</td>\n",
       "      <td>0.63</td>\n",
       "      <td>0.28</td>\n",
       "      <td>0.47</td>\n",
       "      <td>NaN</td>\n",
       "      <td>NaN</td>\n",
       "      <td>NaN</td>\n",
       "    </tr>\n",
       "    <tr>\n",
       "      <th>10</th>\n",
       "      <td>Nintendogs</td>\n",
       "      <td>DS</td>\n",
       "      <td>2005.0</td>\n",
       "      <td>Simulation</td>\n",
       "      <td>9.05</td>\n",
       "      <td>10.95</td>\n",
       "      <td>1.93</td>\n",
       "      <td>2.74</td>\n",
       "      <td>NaN</td>\n",
       "      <td>NaN</td>\n",
       "      <td>NaN</td>\n",
       "    </tr>\n",
       "    <tr>\n",
       "      <th>11</th>\n",
       "      <td>Mario Kart DS</td>\n",
       "      <td>DS</td>\n",
       "      <td>2005.0</td>\n",
       "      <td>Racing</td>\n",
       "      <td>9.71</td>\n",
       "      <td>7.47</td>\n",
       "      <td>4.13</td>\n",
       "      <td>1.90</td>\n",
       "      <td>91.0</td>\n",
       "      <td>8.6</td>\n",
       "      <td>E</td>\n",
       "    </tr>\n",
       "    <tr>\n",
       "      <th>12</th>\n",
       "      <td>Pokemon Gold/Pokemon Silver</td>\n",
       "      <td>GB</td>\n",
       "      <td>1999.0</td>\n",
       "      <td>Role-Playing</td>\n",
       "      <td>9.00</td>\n",
       "      <td>6.18</td>\n",
       "      <td>7.20</td>\n",
       "      <td>0.71</td>\n",
       "      <td>NaN</td>\n",
       "      <td>NaN</td>\n",
       "      <td>NaN</td>\n",
       "    </tr>\n",
       "    <tr>\n",
       "      <th>13</th>\n",
       "      <td>Wii Fit</td>\n",
       "      <td>Wii</td>\n",
       "      <td>2007.0</td>\n",
       "      <td>Sports</td>\n",
       "      <td>8.92</td>\n",
       "      <td>8.03</td>\n",
       "      <td>3.60</td>\n",
       "      <td>2.15</td>\n",
       "      <td>80.0</td>\n",
       "      <td>7.7</td>\n",
       "      <td>E</td>\n",
       "    </tr>\n",
       "    <tr>\n",
       "      <th>14</th>\n",
       "      <td>Kinect Adventures!</td>\n",
       "      <td>X360</td>\n",
       "      <td>2010.0</td>\n",
       "      <td>Misc</td>\n",
       "      <td>15.00</td>\n",
       "      <td>4.89</td>\n",
       "      <td>0.24</td>\n",
       "      <td>1.69</td>\n",
       "      <td>61.0</td>\n",
       "      <td>6.3</td>\n",
       "      <td>E</td>\n",
       "    </tr>\n",
       "  </tbody>\n",
       "</table>\n",
       "</div>"
      ],
      "text/plain": [
       "                           Name Platform  Year_of_Release         Genre  \\\n",
       "0                    Wii Sports      Wii           2006.0        Sports   \n",
       "1             Super Mario Bros.      NES           1985.0      Platform   \n",
       "2                Mario Kart Wii      Wii           2008.0        Racing   \n",
       "3             Wii Sports Resort      Wii           2009.0        Sports   \n",
       "4      Pokemon Red/Pokemon Blue       GB           1996.0  Role-Playing   \n",
       "5                        Tetris       GB           1989.0        Puzzle   \n",
       "6         New Super Mario Bros.       DS           2006.0      Platform   \n",
       "7                      Wii Play      Wii           2006.0          Misc   \n",
       "8     New Super Mario Bros. Wii      Wii           2009.0      Platform   \n",
       "9                     Duck Hunt      NES           1984.0       Shooter   \n",
       "10                   Nintendogs       DS           2005.0    Simulation   \n",
       "11                Mario Kart DS       DS           2005.0        Racing   \n",
       "12  Pokemon Gold/Pokemon Silver       GB           1999.0  Role-Playing   \n",
       "13                      Wii Fit      Wii           2007.0        Sports   \n",
       "14           Kinect Adventures!     X360           2010.0          Misc   \n",
       "\n",
       "    NA_sales  EU_sales  JP_sales  Other_sales  Critic_Score User_Score Rating  \n",
       "0      41.36     28.96      3.77         8.45          76.0          8      E  \n",
       "1      29.08      3.58      6.81         0.77           NaN        NaN    NaN  \n",
       "2      15.68     12.76      3.79         3.29          82.0        8.3      E  \n",
       "3      15.61     10.93      3.28         2.95          80.0          8      E  \n",
       "4      11.27      8.89     10.22         1.00           NaN        NaN    NaN  \n",
       "5      23.20      2.26      4.22         0.58           NaN        NaN    NaN  \n",
       "6      11.28      9.14      6.50         2.88          89.0        8.5      E  \n",
       "7      13.96      9.18      2.93         2.84          58.0        6.6      E  \n",
       "8      14.44      6.94      4.70         2.24          87.0        8.4      E  \n",
       "9      26.93      0.63      0.28         0.47           NaN        NaN    NaN  \n",
       "10      9.05     10.95      1.93         2.74           NaN        NaN    NaN  \n",
       "11      9.71      7.47      4.13         1.90          91.0        8.6      E  \n",
       "12      9.00      6.18      7.20         0.71           NaN        NaN    NaN  \n",
       "13      8.92      8.03      3.60         2.15          80.0        7.7      E  \n",
       "14     15.00      4.89      0.24         1.69          61.0        6.3      E  "
      ]
     },
     "execution_count": 3,
     "metadata": {},
     "output_type": "execute_result"
    }
   ],
   "source": [
    "games.head(15)"
   ]
  },
  {
   "cell_type": "markdown",
   "metadata": {},
   "source": [
    "Посмотрим на названия столбцов и приведём их к нижнему регистру"
   ]
  },
  {
   "cell_type": "code",
   "execution_count": 4,
   "metadata": {
    "scrolled": true
   },
   "outputs": [
    {
     "data": {
      "text/plain": [
       "Index(['Name', 'Platform', 'Year_of_Release', 'Genre', 'NA_sales', 'EU_sales',\n",
       "       'JP_sales', 'Other_sales', 'Critic_Score', 'User_Score', 'Rating'],\n",
       "      dtype='object')"
      ]
     },
     "execution_count": 4,
     "metadata": {},
     "output_type": "execute_result"
    }
   ],
   "source": [
    "games.columns"
   ]
  },
  {
   "cell_type": "code",
   "execution_count": 5,
   "metadata": {},
   "outputs": [
    {
     "data": {
      "text/plain": [
       "Index(['name', 'platform', 'year_of_release', 'genre', 'na_sales', 'eu_sales',\n",
       "       'jp_sales', 'other_sales', 'critic_score', 'user_score', 'rating'],\n",
       "      dtype='object')"
      ]
     },
     "execution_count": 5,
     "metadata": {},
     "output_type": "execute_result"
    }
   ],
   "source": [
    "games.columns = games.columns.str.lower()\n",
    "games.columns"
   ]
  },
  {
   "cell_type": "markdown",
   "metadata": {},
   "source": [
    "Проверим данные на наличие явных дубликатов"
   ]
  },
  {
   "cell_type": "code",
   "execution_count": 6,
   "metadata": {
    "scrolled": true
   },
   "outputs": [
    {
     "data": {
      "text/plain": [
       "0"
      ]
     },
     "execution_count": 6,
     "metadata": {},
     "output_type": "execute_result"
    }
   ],
   "source": [
    "games.duplicated().sum()"
   ]
  },
  {
   "cell_type": "markdown",
   "metadata": {},
   "source": [
    "Рассмотрим более детально строки, где есть пропуски в названии и жанре, возможно, они нам не понадобятся в дальнейшем анализе и от таких строк можно просто избавиться."
   ]
  },
  {
   "cell_type": "code",
   "execution_count": 7,
   "metadata": {
    "scrolled": true
   },
   "outputs": [
    {
     "data": {
      "text/html": [
       "<div>\n",
       "<style scoped>\n",
       "    .dataframe tbody tr th:only-of-type {\n",
       "        vertical-align: middle;\n",
       "    }\n",
       "\n",
       "    .dataframe tbody tr th {\n",
       "        vertical-align: top;\n",
       "    }\n",
       "\n",
       "    .dataframe thead th {\n",
       "        text-align: right;\n",
       "    }\n",
       "</style>\n",
       "<table border=\"1\" class=\"dataframe\">\n",
       "  <thead>\n",
       "    <tr style=\"text-align: right;\">\n",
       "      <th></th>\n",
       "      <th>name</th>\n",
       "      <th>platform</th>\n",
       "      <th>year_of_release</th>\n",
       "      <th>genre</th>\n",
       "      <th>na_sales</th>\n",
       "      <th>eu_sales</th>\n",
       "      <th>jp_sales</th>\n",
       "      <th>other_sales</th>\n",
       "      <th>critic_score</th>\n",
       "      <th>user_score</th>\n",
       "      <th>rating</th>\n",
       "    </tr>\n",
       "  </thead>\n",
       "  <tbody>\n",
       "    <tr>\n",
       "      <th>659</th>\n",
       "      <td>NaN</td>\n",
       "      <td>GEN</td>\n",
       "      <td>1993.0</td>\n",
       "      <td>NaN</td>\n",
       "      <td>1.78</td>\n",
       "      <td>0.53</td>\n",
       "      <td>0.00</td>\n",
       "      <td>0.08</td>\n",
       "      <td>NaN</td>\n",
       "      <td>NaN</td>\n",
       "      <td>NaN</td>\n",
       "    </tr>\n",
       "    <tr>\n",
       "      <th>14244</th>\n",
       "      <td>NaN</td>\n",
       "      <td>GEN</td>\n",
       "      <td>1993.0</td>\n",
       "      <td>NaN</td>\n",
       "      <td>0.00</td>\n",
       "      <td>0.00</td>\n",
       "      <td>0.03</td>\n",
       "      <td>0.00</td>\n",
       "      <td>NaN</td>\n",
       "      <td>NaN</td>\n",
       "      <td>NaN</td>\n",
       "    </tr>\n",
       "  </tbody>\n",
       "</table>\n",
       "</div>"
      ],
      "text/plain": [
       "      name platform  year_of_release genre  na_sales  eu_sales  jp_sales  \\\n",
       "659    NaN      GEN           1993.0   NaN      1.78      0.53      0.00   \n",
       "14244  NaN      GEN           1993.0   NaN      0.00      0.00      0.03   \n",
       "\n",
       "       other_sales  critic_score user_score rating  \n",
       "659           0.08           NaN        NaN    NaN  \n",
       "14244         0.00           NaN        NaN    NaN  "
      ]
     },
     "execution_count": 7,
     "metadata": {},
     "output_type": "execute_result"
    }
   ],
   "source": [
    "games[pd.isna(games['name'])]"
   ]
  },
  {
   "cell_type": "markdown",
   "metadata": {},
   "source": [
    "Те строки, где пропущено наименование, также нет жанра игры, но при этом есть годы выпуска и довольно существенные показатели по продажам в Северной Америке в строке 659, при этом оценки критиков и пользвателей, равно как и отнесение игры к возрастной категории отсутствуют. Если бы не высокие продажи в строке 659, наверное, можно было бы избавиться от этих строк, но ввиду высоких продаж, просто пока переименуем отсутсвующие значения на 'unknown' в колонках name и genre."
   ]
  },
  {
   "cell_type": "code",
   "execution_count": 8,
   "metadata": {},
   "outputs": [],
   "source": [
    "games[['name','genre']] = games[['name','genre']].fillna('unknown') "
   ]
  },
  {
   "cell_type": "markdown",
   "metadata": {},
   "source": [
    "Теперь рассмотрим отдельно строки, где продажи во всех регионах одновременно равны нулю, вероятно, они нам не пригодятся для дальнейшего анализа"
   ]
  },
  {
   "cell_type": "code",
   "execution_count": 9,
   "metadata": {},
   "outputs": [
    {
     "data": {
      "text/html": [
       "<div>\n",
       "<style scoped>\n",
       "    .dataframe tbody tr th:only-of-type {\n",
       "        vertical-align: middle;\n",
       "    }\n",
       "\n",
       "    .dataframe tbody tr th {\n",
       "        vertical-align: top;\n",
       "    }\n",
       "\n",
       "    .dataframe thead th {\n",
       "        text-align: right;\n",
       "    }\n",
       "</style>\n",
       "<table border=\"1\" class=\"dataframe\">\n",
       "  <thead>\n",
       "    <tr style=\"text-align: right;\">\n",
       "      <th></th>\n",
       "      <th>name</th>\n",
       "      <th>platform</th>\n",
       "      <th>year_of_release</th>\n",
       "      <th>genre</th>\n",
       "      <th>na_sales</th>\n",
       "      <th>eu_sales</th>\n",
       "      <th>jp_sales</th>\n",
       "      <th>other_sales</th>\n",
       "      <th>critic_score</th>\n",
       "      <th>user_score</th>\n",
       "      <th>rating</th>\n",
       "    </tr>\n",
       "  </thead>\n",
       "  <tbody>\n",
       "    <tr>\n",
       "      <th>16676</th>\n",
       "      <td>G1 Jockey 4 2008</td>\n",
       "      <td>PS3</td>\n",
       "      <td>2008.0</td>\n",
       "      <td>Sports</td>\n",
       "      <td>0.0</td>\n",
       "      <td>0.0</td>\n",
       "      <td>0.0</td>\n",
       "      <td>0.0</td>\n",
       "      <td>NaN</td>\n",
       "      <td>NaN</td>\n",
       "      <td>NaN</td>\n",
       "    </tr>\n",
       "    <tr>\n",
       "      <th>16709</th>\n",
       "      <td>SCORE International Baja 1000: The Official Game</td>\n",
       "      <td>PS2</td>\n",
       "      <td>2008.0</td>\n",
       "      <td>Racing</td>\n",
       "      <td>0.0</td>\n",
       "      <td>0.0</td>\n",
       "      <td>0.0</td>\n",
       "      <td>0.0</td>\n",
       "      <td>NaN</td>\n",
       "      <td>NaN</td>\n",
       "      <td>NaN</td>\n",
       "    </tr>\n",
       "  </tbody>\n",
       "</table>\n",
       "</div>"
      ],
      "text/plain": [
       "                                                   name platform  \\\n",
       "16676                                  G1 Jockey 4 2008      PS3   \n",
       "16709  SCORE International Baja 1000: The Official Game      PS2   \n",
       "\n",
       "       year_of_release   genre  na_sales  eu_sales  jp_sales  other_sales  \\\n",
       "16676           2008.0  Sports       0.0       0.0       0.0          0.0   \n",
       "16709           2008.0  Racing       0.0       0.0       0.0          0.0   \n",
       "\n",
       "       critic_score user_score rating  \n",
       "16676           NaN        NaN    NaN  \n",
       "16709           NaN        NaN    NaN  "
      ]
     },
     "execution_count": 9,
     "metadata": {},
     "output_type": "execute_result"
    }
   ],
   "source": [
    "games.query('na_sales==0 and eu_sales==0 and jp_sales==0 and other_sales==0')"
   ]
  },
  {
   "cell_type": "markdown",
   "metadata": {},
   "source": [
    "Таких строки всего две, в целом, можно от них избавиться, оценок критиков и пользователей у этих игр также нет, из относительно ценной информации только год выпуска, хотя сам по себе он никакой конкретной информации не несёт, только то, что в 2008 году были выпущены две игры, ни одной копии из которых продано не было."
   ]
  },
  {
   "cell_type": "code",
   "execution_count": 10,
   "metadata": {},
   "outputs": [],
   "source": [
    "games = games.query('na_sales!=0 or eu_sales!=0 or jp_sales!=0 or other_sales!=0')"
   ]
  },
  {
   "cell_type": "markdown",
   "metadata": {},
   "source": [
    "Хотелось бы преобразовать данные в колонке year_of_release в тип дата-время, но, поскольку изначальные даты даны только в виде года, это не представляется возможным. В таком случае можем попробовать перевети формат данных в целые числа, а для этого нужно сначала обработать пропуски в этой колонке.\n",
    "Попробуем посмотреть на наименования игр попропущенным годам."
   ]
  },
  {
   "cell_type": "code",
   "execution_count": 11,
   "metadata": {
    "scrolled": true
   },
   "outputs": [
    {
     "data": {
      "text/plain": [
       "LEGO Harry Potter: Years 5-7                                      7\n",
       "Happy Feet Two                                                    4\n",
       "Rock Band                                                         4\n",
       "Test Drive Unlimited 2                                            3\n",
       "Bejeweled 3                                                       3\n",
       "WRC: FIA World Rally Championship                                 3\n",
       "Singularity                                                       2\n",
       "NBA Live 2003                                                     2\n",
       "Silent Hill: Homecoming                                           2\n",
       "Rock Revolution                                                   2\n",
       "Robert Ludlum's The Bourne Conspiracy                             2\n",
       "The Chronicles of Narnia: The Lion, The Witch and The Wardrobe    2\n",
       "Backbreaker                                                       2\n",
       "The Lord of the Rings: War in the North                           2\n",
       "Virtua Quest                                                      2\n",
       "Combat Elite: WWII Paratroopers                                   2\n",
       "PDC World Championship Darts 2008                                 2\n",
       "GRID                                                              2\n",
       "The Golden Compass                                                2\n",
       "LEGO Batman: The Videogame                                        2\n",
       "All-Star Baseball 2005                                            2\n",
       "Captain America: Super Soldier                                    2\n",
       "The Daring Game for Girls                                         2\n",
       "Port Royale 3                                                     2\n",
       "Battle vs. Chess                                                  2\n",
       "Tornado                                                           1\n",
       "Rayman Arena                                                      1\n",
       "Drake of the 99 Dragons                                           1\n",
       "National Geographic Challenge!                                    1\n",
       "McFarlane's Evil Prophecy                                         1\n",
       "Name: name, dtype: int64"
      ]
     },
     "execution_count": 11,
     "metadata": {},
     "output_type": "execute_result"
    }
   ],
   "source": [
    "games[pd.isna(games['year_of_release'])]['name'].value_counts().head(30)"
   ]
  },
  {
   "cell_type": "markdown",
   "metadata": {},
   "source": [
    "Теперь проверим встречаются ли какие-либо из этих наименований в тех строках, где заполнены данные по году"
   ]
  },
  {
   "cell_type": "code",
   "execution_count": 12,
   "metadata": {
    "scrolled": true
   },
   "outputs": [
    {
     "data": {
      "text/plain": [
       "name                               year_of_release\n",
       "Bejeweled 3                        2010.0             1\n",
       "Happy Feet Two                     2011.0             1\n",
       "LEGO Harry Potter: Years 5-7       2012.0             1\n",
       "NBA Live 2003                      2002.0             1\n",
       "PDC World Championship Darts 2008  2008.0             1\n",
       "WRC: FIA World Rally Championship  2005.0             1\n",
       "dtype: int64"
      ]
     },
     "execution_count": 12,
     "metadata": {},
     "output_type": "execute_result"
    }
   ],
   "source": [
    "games.query('name==\"LEGO Harry Potter: Years 5-7\" or name==\"Happy Feet Two\" or name==\"Rock Band\" or name==\"Test Drive Unlimited 2\" or name==\"Bejeweled 3\" or name==\"WRC: FIA World Rally Championship\" or name ==\"PDC World Championship Darts 2008\" or name==\"NBA Live 2003\" or name==\"All-Star Baseball 2005\" or name ==\"Drake of the 99 Dragons\"')[['name','year_of_release']].value_counts()"
   ]
  },
  {
   "cell_type": "markdown",
   "metadata": {},
   "source": [
    "Таким образом, можем заполнить часть пропусков в years_of_release"
   ]
  },
  {
   "cell_type": "code",
   "execution_count": 13,
   "metadata": {},
   "outputs": [],
   "source": [
    "def year (row):\n",
    "    name = row['name']\n",
    "    if name == 'Bejeweled 3':\n",
    "        return 2010\n",
    "    elif name == 'Happy Feet Two':\n",
    "        return 2011\n",
    "    elif name == 'LEGO Harry Potter: Years 5-7':\n",
    "        return 2012\n",
    "    elif name =='NBA Live 2003':\n",
    "        return 2002\n",
    "    elif name == 'PDC World Championship Darts 2008':\n",
    "        return 2008\n",
    "    elif name == 'WRC: FIA World Rally Championship':\n",
    "        return 2005\n",
    "games['year_of_release'] = games['year_of_release'].fillna(games.apply(year,axis=1))"
   ]
  },
  {
   "cell_type": "code",
   "execution_count": 14,
   "metadata": {},
   "outputs": [
    {
     "data": {
      "text/plain": [
       "name                               year_of_release\n",
       "LEGO Harry Potter: Years 5-7       2012.0             8\n",
       "Happy Feet Two                     2011.0             5\n",
       "Bejeweled 3                        2010.0             4\n",
       "WRC: FIA World Rally Championship  2005.0             4\n",
       "NBA Live 2003                      2002.0             3\n",
       "PDC World Championship Darts 2008  2008.0             3\n",
       "dtype: int64"
      ]
     },
     "execution_count": 14,
     "metadata": {},
     "output_type": "execute_result"
    }
   ],
   "source": [
    "games.query('name==\"LEGO Harry Potter: Years 5-7\" or name==\"Happy Feet Two\" or name==\"Rock Band\" or name==\"Test Drive Unlimited 2\" or name==\"Bejeweled 3\" or name==\"WRC: FIA World Rally Championship\" or name ==\"PDC World Championship Darts 2008\" or name==\"NBA Live 2003\" or name==\"All-Star Baseball 2005\" or name ==\"Drake of the 99 Dragons\"')[['name','year_of_release']].value_counts()"
   ]
  },
  {
   "cell_type": "markdown",
   "metadata": {},
   "source": [
    "Оставшиеся пропуски по годам попробуем заполнить годом, который при дальнейших расчётах сможем отбраcывать в графиках , как выброс, пусть это будет 1900.\n",
    "Также ппривёдём данные в колонке year_of_release в целочисленный формат, для сокращения объёмов памяти при выполнении дальнейших операций"
   ]
  },
  {
   "cell_type": "code",
   "execution_count": 15,
   "metadata": {},
   "outputs": [
    {
     "data": {
      "text/plain": [
       "1980.0"
      ]
     },
     "execution_count": 15,
     "metadata": {},
     "output_type": "execute_result"
    }
   ],
   "source": [
    "games['year_of_release'].min()"
   ]
  },
  {
   "cell_type": "code",
   "execution_count": 16,
   "metadata": {},
   "outputs": [],
   "source": [
    "games['year_of_release'] = games['year_of_release'].fillna(1900)\n",
    "games['year_of_release'] = games['year_of_release'].astype(int)"
   ]
  },
  {
   "cell_type": "markdown",
   "metadata": {},
   "source": [
    "Далее нужно заполнить пропуски в колонках critic_score, user_score, чтобы получить возможность привести данные в этих колонках к целочисленному формату. Поскольку заполнить эти данные каким-либо эмпирическим методом не представляется возможным, заменим пропуски на заведомо некорректные значения, чтобы прочие данные могли участвовать в дальнейшем анализе, а данные по пропускам мы могли сразу распознавать как \"выбросы\". Например, мы знаем что оценка критиков не может превышать 100 баллов, значит наши пропуски в данной колонке заменим на 1000 баллов, а оценка пользователей - не должна превышать 10 баллов, значит можем обозначить пропуски, как 100 баллов. Также в колонке user_score есть строковые значения tbd (=to be determined), это означает, что игре пользователи пока не поставили никакую оценку, будем считать, что это нулевая оценка в таком случае.\n",
    "Далее приведём данные в обеих колонках к целочисленному формату. "
   ]
  },
  {
   "cell_type": "code",
   "execution_count": 17,
   "metadata": {},
   "outputs": [],
   "source": [
    "games['critic_score'] = games['critic_score'].fillna(1000)\n",
    "games['user_score'] = games['user_score'].fillna(100)\n",
    "games['user_score'] = games['user_score'].replace('tbd', 0)\n",
    "games['user_score'] = pd.to_numeric(games['user_score'])\n",
    "games[['critic_score','user_score']] = games[['critic_score','user_score']].astype(int)"
   ]
  },
  {
   "cell_type": "markdown",
   "metadata": {},
   "source": [
    "Теперь приступим к обработке пропусков в колонке rating. Для начала посмотрим, какие значения есть в этой колонке, оценим количество каждого из этих значений"
   ]
  },
  {
   "cell_type": "code",
   "execution_count": 18,
   "metadata": {},
   "outputs": [
    {
     "data": {
      "text/plain": [
       "E       3990\n",
       "T       2961\n",
       "M       1563\n",
       "E10+    1420\n",
       "EC         8\n",
       "K-A        3\n",
       "RP         3\n",
       "AO         1\n",
       "Name: rating, dtype: int64"
      ]
     },
     "execution_count": 18,
     "metadata": {},
     "output_type": "execute_result"
    }
   ],
   "source": [
    "games['rating'].value_counts()"
   ]
  },
  {
   "cell_type": "markdown",
   "metadata": {},
   "source": [
    "Тут обнаруживаем первые неявные дубликаты - значения E(\"Everyone\")и K-A(\"Kids to Adults\") по сути - одно и то же, просто до 1998 года использовалось обозначения K-A, а после его заменили на E. Также M(\"Mature\") и AO (\"Adults Only 18+\") тоже примерно одно и то же.\n",
    "Таким образом, заменим значения K-A на E, M на  АО, а отсутствующие значения заменим на \"unknown\". С одной стороны отсутствующие значения можно было бы заменить и на RP («Rating Pending»), но такое возможно, скорее всего, только для относительно новых игр, а у нас пропуски есть и в более \"старые\" периоды."
   ]
  },
  {
   "cell_type": "code",
   "execution_count": 19,
   "metadata": {},
   "outputs": [],
   "source": [
    "games['rating'] = games['rating'].replace('K-A', 'E')\n",
    "games['rating'] = games['rating'].replace('M', 'AO')\n",
    "games['rating'] = games['rating'].fillna('unknown')"
   ]
  },
  {
   "cell_type": "markdown",
   "metadata": {},
   "source": [
    "Предполагаю, что причины имеющихся пропусков в оценках пользователей связаны с тем, что далеко не все пользователи вообще оценивают игры, приложения и т.п., многим просто лень. Что касается, оценки критиков, то, вероятно, у не самых популярных игр таких оценок также может и не быть. К сожалению, причины пропусков в годе выпуска игры и присвоении игре определённой возрастной категории вряд ли можно отнести к закономерным, скорее всего, это абсолютно случайные причины."
   ]
  },
  {
   "cell_type": "markdown",
   "metadata": {},
   "source": [
    "Посчитаем суммарные продажи во всех регионах и запишем их в отдельный столбец."
   ]
  },
  {
   "cell_type": "code",
   "execution_count": 20,
   "metadata": {
    "scrolled": true
   },
   "outputs": [
    {
     "name": "stdout",
     "output_type": "stream",
     "text": [
      "<class 'pandas.core.frame.DataFrame'>\n",
      "Int64Index: 16713 entries, 0 to 16714\n",
      "Data columns (total 12 columns):\n",
      " #   Column           Non-Null Count  Dtype  \n",
      "---  ------           --------------  -----  \n",
      " 0   name             16713 non-null  object \n",
      " 1   platform         16713 non-null  object \n",
      " 2   year_of_release  16713 non-null  int64  \n",
      " 3   genre            16713 non-null  object \n",
      " 4   na_sales         16713 non-null  float64\n",
      " 5   eu_sales         16713 non-null  float64\n",
      " 6   jp_sales         16713 non-null  float64\n",
      " 7   other_sales      16713 non-null  float64\n",
      " 8   critic_score     16713 non-null  int64  \n",
      " 9   user_score       16713 non-null  int64  \n",
      " 10  rating           16713 non-null  object \n",
      " 11  total_sales      16713 non-null  float64\n",
      "dtypes: float64(5), int64(3), object(4)\n",
      "memory usage: 1.7+ MB\n"
     ]
    }
   ],
   "source": [
    "games['total_sales'] = games[['na_sales','eu_sales','jp_sales', 'other_sales']].sum(axis = 1)\n",
    "games.info()"
   ]
  },
  {
   "cell_type": "code",
   "execution_count": 21,
   "metadata": {},
   "outputs": [
    {
     "data": {
      "text/html": [
       "<div>\n",
       "<style scoped>\n",
       "    .dataframe tbody tr th:only-of-type {\n",
       "        vertical-align: middle;\n",
       "    }\n",
       "\n",
       "    .dataframe tbody tr th {\n",
       "        vertical-align: top;\n",
       "    }\n",
       "\n",
       "    .dataframe thead th {\n",
       "        text-align: right;\n",
       "    }\n",
       "</style>\n",
       "<table border=\"1\" class=\"dataframe\">\n",
       "  <thead>\n",
       "    <tr style=\"text-align: right;\">\n",
       "      <th></th>\n",
       "      <th>count</th>\n",
       "      <th>mean</th>\n",
       "      <th>std</th>\n",
       "      <th>min</th>\n",
       "      <th>25%</th>\n",
       "      <th>50%</th>\n",
       "      <th>75%</th>\n",
       "      <th>max</th>\n",
       "    </tr>\n",
       "  </thead>\n",
       "  <tbody>\n",
       "    <tr>\n",
       "      <th>year_of_release</th>\n",
       "      <td>16713.0</td>\n",
       "      <td>2004.907736</td>\n",
       "      <td>14.134712</td>\n",
       "      <td>1900.00</td>\n",
       "      <td>2003.00</td>\n",
       "      <td>2007.00</td>\n",
       "      <td>2010.00</td>\n",
       "      <td>2016.00</td>\n",
       "    </tr>\n",
       "    <tr>\n",
       "      <th>na_sales</th>\n",
       "      <td>16713.0</td>\n",
       "      <td>0.263409</td>\n",
       "      <td>0.813647</td>\n",
       "      <td>0.00</td>\n",
       "      <td>0.00</td>\n",
       "      <td>0.08</td>\n",
       "      <td>0.24</td>\n",
       "      <td>41.36</td>\n",
       "    </tr>\n",
       "    <tr>\n",
       "      <th>eu_sales</th>\n",
       "      <td>16713.0</td>\n",
       "      <td>0.145077</td>\n",
       "      <td>0.503366</td>\n",
       "      <td>0.00</td>\n",
       "      <td>0.00</td>\n",
       "      <td>0.02</td>\n",
       "      <td>0.11</td>\n",
       "      <td>28.96</td>\n",
       "    </tr>\n",
       "    <tr>\n",
       "      <th>jp_sales</th>\n",
       "      <td>16713.0</td>\n",
       "      <td>0.077626</td>\n",
       "      <td>0.308871</td>\n",
       "      <td>0.00</td>\n",
       "      <td>0.00</td>\n",
       "      <td>0.00</td>\n",
       "      <td>0.04</td>\n",
       "      <td>10.22</td>\n",
       "    </tr>\n",
       "    <tr>\n",
       "      <th>other_sales</th>\n",
       "      <td>16713.0</td>\n",
       "      <td>0.047348</td>\n",
       "      <td>0.186741</td>\n",
       "      <td>0.00</td>\n",
       "      <td>0.00</td>\n",
       "      <td>0.01</td>\n",
       "      <td>0.03</td>\n",
       "      <td>10.57</td>\n",
       "    </tr>\n",
       "    <tr>\n",
       "      <th>critic_score</th>\n",
       "      <td>16713.0</td>\n",
       "      <td>546.711542</td>\n",
       "      <td>465.471069</td>\n",
       "      <td>13.00</td>\n",
       "      <td>71.00</td>\n",
       "      <td>1000.00</td>\n",
       "      <td>1000.00</td>\n",
       "      <td>1000.00</td>\n",
       "    </tr>\n",
       "    <tr>\n",
       "      <th>user_score</th>\n",
       "      <td>16713.0</td>\n",
       "      <td>43.115599</td>\n",
       "      <td>46.591130</td>\n",
       "      <td>0.00</td>\n",
       "      <td>6.00</td>\n",
       "      <td>8.00</td>\n",
       "      <td>100.00</td>\n",
       "      <td>100.00</td>\n",
       "    </tr>\n",
       "    <tr>\n",
       "      <th>total_sales</th>\n",
       "      <td>16713.0</td>\n",
       "      <td>0.533460</td>\n",
       "      <td>1.548343</td>\n",
       "      <td>0.01</td>\n",
       "      <td>0.06</td>\n",
       "      <td>0.17</td>\n",
       "      <td>0.47</td>\n",
       "      <td>82.54</td>\n",
       "    </tr>\n",
       "  </tbody>\n",
       "</table>\n",
       "</div>"
      ],
      "text/plain": [
       "                   count         mean         std      min      25%      50%  \\\n",
       "year_of_release  16713.0  2004.907736   14.134712  1900.00  2003.00  2007.00   \n",
       "na_sales         16713.0     0.263409    0.813647     0.00     0.00     0.08   \n",
       "eu_sales         16713.0     0.145077    0.503366     0.00     0.00     0.02   \n",
       "jp_sales         16713.0     0.077626    0.308871     0.00     0.00     0.00   \n",
       "other_sales      16713.0     0.047348    0.186741     0.00     0.00     0.01   \n",
       "critic_score     16713.0   546.711542  465.471069    13.00    71.00  1000.00   \n",
       "user_score       16713.0    43.115599   46.591130     0.00     6.00     8.00   \n",
       "total_sales      16713.0     0.533460    1.548343     0.01     0.06     0.17   \n",
       "\n",
       "                     75%      max  \n",
       "year_of_release  2010.00  2016.00  \n",
       "na_sales            0.24    41.36  \n",
       "eu_sales            0.11    28.96  \n",
       "jp_sales            0.04    10.22  \n",
       "other_sales         0.03    10.57  \n",
       "critic_score     1000.00  1000.00  \n",
       "user_score        100.00   100.00  \n",
       "total_sales         0.47    82.54  "
      ]
     },
     "execution_count": 21,
     "metadata": {},
     "output_type": "execute_result"
    }
   ],
   "source": [
    "games.describe().T"
   ]
  },
  {
   "cell_type": "markdown",
   "metadata": {},
   "source": [
    "Данные обработаны, можно приступать к дальнейшему анализу."
   ]
  },
  {
   "cell_type": "markdown",
   "metadata": {},
   "source": [
    "## Исследовательский анализ данных\n",
    "\n",
    "Посмотрим, сколько игр выпускалось в разные годы. В данном случае можем сразу отсечь годы меньше 1980 и более 2020. В исходных данных, как мы помним, данных за годы ранее 1980 и позднее 2016, в принципе не было."
   ]
  },
  {
   "cell_type": "code",
   "execution_count": 22,
   "metadata": {
    "scrolled": true
   },
   "outputs": [
    {
     "data": {
      "image/png": "[encoded data removed]",
      "text/plain": [
       "<Figure size 432x288 with 1 Axes>"
      ]
     },
     "metadata": {
      "needs_background": "light"
     },
     "output_type": "display_data"
    }
   ],
   "source": [
    "games['year_of_release'].hist(bins = 100, range=(1980,2020)) \n",
    "plt.title('Quantity of games per year')\n",
    "plt.xlabel('year_of_release')\n",
    "plt.ylabel('games quantity')\n",
    "plt.show()"
   ]
  },
  {
   "cell_type": "markdown",
   "metadata": {},
   "source": [
    "Из гистограммы видим, что больше всего игр было выпущено в 2008 и 2009 годах, меньше всего игр было выпущено в период с 1980 по 1993 годы, полагаю, как раз этот период с минимальным количеством игр можно считать относительно неважным, так как в этот период развитие ИТ не достигло таких высот, как сейчас,поэтому эти данные для оценки и анализа будущих продаж будут уже не актуальны."
   ]
  },
  {
   "cell_type": "markdown",
   "metadata": {},
   "source": [
    "Посмотрим, как менялись продажи по платформам в целом, а также по платформам в привязке к году выпуска игры."
   ]
  },
  {
   "cell_type": "code",
   "execution_count": 23,
   "metadata": {},
   "outputs": [
    {
     "data": {
      "image/png": "[encoded data removed]",
      "text/plain": [
       "<Figure size 1440x432 with 1 Axes>"
      ]
     },
     "metadata": {
      "needs_background": "light"
     },
     "output_type": "display_data"
    }
   ],
   "source": [
    "games['platform'].hist(bins = 100, figsize=(20,6))\n",
    "plt.title('Sales by platforms')\n",
    "plt.xlabel('platforms name')\n",
    "plt.ylabel('sales')\n",
    "plt.show()"
   ]
  },
  {
   "cell_type": "code",
   "execution_count": 24,
   "metadata": {},
   "outputs": [
    {
     "data": {
      "text/html": [
       "<div>\n",
       "<style scoped>\n",
       "    .dataframe tbody tr th:only-of-type {\n",
       "        vertical-align: middle;\n",
       "    }\n",
       "\n",
       "    .dataframe tbody tr th {\n",
       "        vertical-align: top;\n",
       "    }\n",
       "\n",
       "    .dataframe thead th {\n",
       "        text-align: right;\n",
       "    }\n",
       "</style>\n",
       "<table border=\"1\" class=\"dataframe\">\n",
       "  <thead>\n",
       "    <tr style=\"text-align: right;\">\n",
       "      <th></th>\n",
       "      <th></th>\n",
       "      <th>total_sales</th>\n",
       "    </tr>\n",
       "    <tr>\n",
       "      <th>platform</th>\n",
       "      <th>year_of_release</th>\n",
       "      <th></th>\n",
       "    </tr>\n",
       "  </thead>\n",
       "  <tbody>\n",
       "    <tr>\n",
       "      <th>PS2</th>\n",
       "      <th>2004</th>\n",
       "      <td>211.81</td>\n",
       "    </tr>\n",
       "    <tr>\n",
       "      <th>Wii</th>\n",
       "      <th>2009</th>\n",
       "      <td>206.97</td>\n",
       "    </tr>\n",
       "    <tr>\n",
       "      <th rowspan=\"2\" valign=\"top\">PS2</th>\n",
       "      <th>2002</th>\n",
       "      <td>205.38</td>\n",
       "    </tr>\n",
       "    <tr>\n",
       "      <th>2003</th>\n",
       "      <td>184.31</td>\n",
       "    </tr>\n",
       "    <tr>\n",
       "      <th>Wii</th>\n",
       "      <th>2008</th>\n",
       "      <td>171.32</td>\n",
       "    </tr>\n",
       "    <tr>\n",
       "      <th>X360</th>\n",
       "      <th>2010</th>\n",
       "      <td>170.17</td>\n",
       "    </tr>\n",
       "    <tr>\n",
       "      <th>PS</th>\n",
       "      <th>1998</th>\n",
       "      <td>169.49</td>\n",
       "    </tr>\n",
       "    <tr>\n",
       "      <th rowspan=\"2\" valign=\"top\">PS2</th>\n",
       "      <th>2001</th>\n",
       "      <td>166.43</td>\n",
       "    </tr>\n",
       "    <tr>\n",
       "      <th>2005</th>\n",
       "      <td>160.66</td>\n",
       "    </tr>\n",
       "    <tr>\n",
       "      <th>PS3</th>\n",
       "      <th>2011</th>\n",
       "      <td>156.88</td>\n",
       "    </tr>\n",
       "    <tr>\n",
       "      <th>Wii</th>\n",
       "      <th>2007</th>\n",
       "      <td>152.77</td>\n",
       "    </tr>\n",
       "    <tr>\n",
       "      <th rowspan=\"2\" valign=\"top\">DS</th>\n",
       "      <th>2007</th>\n",
       "      <td>146.94</td>\n",
       "    </tr>\n",
       "    <tr>\n",
       "      <th>2008</th>\n",
       "      <td>145.32</td>\n",
       "    </tr>\n",
       "    <tr>\n",
       "      <th>PS</th>\n",
       "      <th>1999</th>\n",
       "      <td>144.53</td>\n",
       "    </tr>\n",
       "    <tr>\n",
       "      <th>X360</th>\n",
       "      <th>2011</th>\n",
       "      <td>143.94</td>\n",
       "    </tr>\n",
       "    <tr>\n",
       "      <th>PS3</th>\n",
       "      <th>2010</th>\n",
       "      <td>142.32</td>\n",
       "    </tr>\n",
       "    <tr>\n",
       "      <th>Wii</th>\n",
       "      <th>2006</th>\n",
       "      <td>137.15</td>\n",
       "    </tr>\n",
       "    <tr>\n",
       "      <th>PS</th>\n",
       "      <th>1997</th>\n",
       "      <td>136.17</td>\n",
       "    </tr>\n",
       "    <tr>\n",
       "      <th>X360</th>\n",
       "      <th>2008</th>\n",
       "      <td>135.26</td>\n",
       "    </tr>\n",
       "    <tr>\n",
       "      <th>PS3</th>\n",
       "      <th>2009</th>\n",
       "      <td>130.93</td>\n",
       "    </tr>\n",
       "    <tr>\n",
       "      <th>DS</th>\n",
       "      <th>2005</th>\n",
       "      <td>130.14</td>\n",
       "    </tr>\n",
       "    <tr>\n",
       "      <th>Wii</th>\n",
       "      <th>2010</th>\n",
       "      <td>127.95</td>\n",
       "    </tr>\n",
       "    <tr>\n",
       "      <th>X360</th>\n",
       "      <th>2009</th>\n",
       "      <td>120.29</td>\n",
       "    </tr>\n",
       "    <tr>\n",
       "      <th rowspan=\"2\" valign=\"top\">DS</th>\n",
       "      <th>2006</th>\n",
       "      <td>119.81</td>\n",
       "    </tr>\n",
       "    <tr>\n",
       "      <th>2009</th>\n",
       "      <td>119.54</td>\n",
       "    </tr>\n",
       "    <tr>\n",
       "      <th>PS4</th>\n",
       "      <th>2015</th>\n",
       "      <td>118.90</td>\n",
       "    </tr>\n",
       "    <tr>\n",
       "      <th rowspan=\"3\" valign=\"top\">PS3</th>\n",
       "      <th>2008</th>\n",
       "      <td>118.52</td>\n",
       "    </tr>\n",
       "    <tr>\n",
       "      <th>2013</th>\n",
       "      <td>113.25</td>\n",
       "    </tr>\n",
       "    <tr>\n",
       "      <th>2012</th>\n",
       "      <td>108.28</td>\n",
       "    </tr>\n",
       "    <tr>\n",
       "      <th>PS2</th>\n",
       "      <th>2006</th>\n",
       "      <td>103.42</td>\n",
       "    </tr>\n",
       "  </tbody>\n",
       "</table>\n",
       "</div>"
      ],
      "text/plain": [
       "                          total_sales\n",
       "platform year_of_release             \n",
       "PS2      2004                  211.81\n",
       "Wii      2009                  206.97\n",
       "PS2      2002                  205.38\n",
       "         2003                  184.31\n",
       "Wii      2008                  171.32\n",
       "X360     2010                  170.17\n",
       "PS       1998                  169.49\n",
       "PS2      2001                  166.43\n",
       "         2005                  160.66\n",
       "PS3      2011                  156.88\n",
       "Wii      2007                  152.77\n",
       "DS       2007                  146.94\n",
       "         2008                  145.32\n",
       "PS       1999                  144.53\n",
       "X360     2011                  143.94\n",
       "PS3      2010                  142.32\n",
       "Wii      2006                  137.15\n",
       "PS       1997                  136.17\n",
       "X360     2008                  135.26\n",
       "PS3      2009                  130.93\n",
       "DS       2005                  130.14\n",
       "Wii      2010                  127.95\n",
       "X360     2009                  120.29\n",
       "DS       2006                  119.81\n",
       "         2009                  119.54\n",
       "PS4      2015                  118.90\n",
       "PS3      2008                  118.52\n",
       "         2013                  113.25\n",
       "         2012                  108.28\n",
       "PS2      2006                  103.42"
      ]
     },
     "execution_count": 24,
     "metadata": {},
     "output_type": "execute_result"
    }
   ],
   "source": [
    "games.query('year_of_release != 1900').pivot_table(index = ['platform', 'year_of_release'], values = 'total_sales', aggfunc = 'sum').sort_values('total_sales', ascending=False).head(30)"
   ]
  },
  {
   "cell_type": "markdown",
   "metadata": {},
   "source": [
    "Выбираем платформы с наибольшими суммарными продажами, это платформы PS2, Wii, X360, PS, PS3, DS.\n",
    "Построим распределение по годам, определим, за какой характерный срок появляются новые и исчезают старые платформы."
   ]
  },
  {
   "cell_type": "code",
   "execution_count": 25,
   "metadata": {},
   "outputs": [
    {
     "data": {
      "text/plain": [
       "<AxesSubplot:xlabel='year_of_release', ylabel='platform'>"
      ]
     },
     "execution_count": 25,
     "metadata": {},
     "output_type": "execute_result"
    },
    {
     "data": {
      "image/png": "[encoded data removed]",
      "text/plain": [
       "<Figure size 432x288 with 1 Axes>"
      ]
     },
     "metadata": {
      "needs_background": "light"
     },
     "output_type": "display_data"
    }
   ],
   "source": [
    "popular_platforms = games.query('platform == \"PS2\" or platform == \"Wii\" or platform ==\"X360\" or platform == \"PS\" or platform ==\"PS3\" or platform == \"X360\" or platform == \"DS\"')\n",
    "popular_platforms.query('year_of_release != 1900').plot(x='year_of_release', y='platform', kind='scatter', alpha=0.3)"
   ]
  },
  {
   "cell_type": "markdown",
   "metadata": {},
   "source": [
    "Как мы видим, характерный срок \"жизни\" платформы не более 7-8 лет, на пик роста платформы приходится не более 2-3 лет. Наиболее популярные на данный момент платформы - PS3 и X360, игровая платформа Wii всё ещё популярна, но её популярность уже начинает снижаться.\n",
    "\n",
    "Возьмём данные за период с 2013 по неполный 2016 годы, чтобы постороить прогноз на 2017 год. Определим, какие платформы лидируют по продажам, растут или падают, Выберем несколько потенциально прибыльных платформ."
   ]
  },
  {
   "cell_type": "code",
   "execution_count": 26,
   "metadata": {
    "scrolled": true
   },
   "outputs": [
    {
     "data": {
      "text/plain": [
       "<AxesSubplot:xlabel='year_of_release', ylabel='platform'>"
      ]
     },
     "execution_count": 26,
     "metadata": {},
     "output_type": "execute_result"
    },
    {
     "data": {
      "image/png": "[encoded data removed]",
      "text/plain": [
       "<Figure size 432x288 with 1 Axes>"
      ]
     },
     "metadata": {
      "needs_background": "light"
     },
     "output_type": "display_data"
    }
   ],
   "source": [
    "actual_period = games.query('2013 <= year_of_release <= 2016')\n",
    "actual_period.plot(x='year_of_release', y='platform', kind='scatter', alpha=0.01)"
   ]
  },
  {
   "cell_type": "markdown",
   "metadata": {},
   "source": [
    "Судя по графику, в лидерах по продажам в общем за период с 2014 по неполный 2016 годы платформы PSV и 3DS. При этом, наблюдается рост продаж на платформах XOne, PS4. Продажи падают на платформах WiiU, 3DS, X360, PS3, а на платформах DS, Wii продажи либо отсутствуют совсем, либо очень невелики. К потенциально прибыльным платформам к 2017 году можно отнести те, которые увеличивают свои продажи к 2015-2016гг. и у которых только недавно начался жизненный цикл, это платформы XOne, PS4, также можно не списывать со счетов платформу PSV, 3DS (там пока стабильно высокие показатели) и подробнее взглянуть на платформу PC (тут пока нет тенденции к снижению, возможно пик роста ещё впереди)."
   ]
  },
  {
   "cell_type": "markdown",
   "metadata": {},
   "source": [
    "Построим график «ящик с усами» по глобальным продажам игр в разбивке по выбранным платформам."
   ]
  },
  {
   "cell_type": "code",
   "execution_count": 27,
   "metadata": {},
   "outputs": [
    {
     "data": {
      "text/plain": [
       "(0.0, 1.0)"
      ]
     },
     "execution_count": 27,
     "metadata": {},
     "output_type": "execute_result"
    },
    {
     "data": {
      "image/png": "[encoded data removed]",
      "text/plain": [
       "<Figure size 432x288 with 1 Axes>"
      ]
     },
     "metadata": {
      "needs_background": "light"
     },
     "output_type": "display_data"
    }
   ],
   "source": [
    "platform_sales_selected = actual_period.query('platform ==\"XOne\" or platform ==\"PS4\" or platform ==\"PSV\" or platform == \"3DS\" or platform ==\"PC\"')\n",
    "sns.boxplot(x=platform_sales_selected['total_sales'], y=platform_sales_selected['platform'])\n",
    "plt.xlim(0, 1)"
   ]
  },
  {
   "cell_type": "code",
   "execution_count": 28,
   "metadata": {
    "scrolled": true
   },
   "outputs": [
    {
     "data": {
      "text/html": [
       "<div>\n",
       "<style scoped>\n",
       "    .dataframe tbody tr th:only-of-type {\n",
       "        vertical-align: middle;\n",
       "    }\n",
       "\n",
       "    .dataframe tbody tr th {\n",
       "        vertical-align: top;\n",
       "    }\n",
       "\n",
       "    .dataframe thead th {\n",
       "        text-align: right;\n",
       "    }\n",
       "</style>\n",
       "<table border=\"1\" class=\"dataframe\">\n",
       "  <thead>\n",
       "    <tr style=\"text-align: right;\">\n",
       "      <th></th>\n",
       "      <th></th>\n",
       "      <th>total_sales</th>\n",
       "    </tr>\n",
       "    <tr>\n",
       "      <th>platform</th>\n",
       "      <th>year_of_release</th>\n",
       "      <th></th>\n",
       "    </tr>\n",
       "  </thead>\n",
       "  <tbody>\n",
       "    <tr>\n",
       "      <th rowspan=\"4\" valign=\"top\">3DS</th>\n",
       "      <th>2013</th>\n",
       "      <td>56.57</td>\n",
       "    </tr>\n",
       "    <tr>\n",
       "      <th>2014</th>\n",
       "      <td>43.76</td>\n",
       "    </tr>\n",
       "    <tr>\n",
       "      <th>2015</th>\n",
       "      <td>27.78</td>\n",
       "    </tr>\n",
       "    <tr>\n",
       "      <th>2016</th>\n",
       "      <td>15.14</td>\n",
       "    </tr>\n",
       "    <tr>\n",
       "      <th rowspan=\"4\" valign=\"top\">PC</th>\n",
       "      <th>2013</th>\n",
       "      <td>12.38</td>\n",
       "    </tr>\n",
       "    <tr>\n",
       "      <th>2014</th>\n",
       "      <td>13.28</td>\n",
       "    </tr>\n",
       "    <tr>\n",
       "      <th>2015</th>\n",
       "      <td>8.52</td>\n",
       "    </tr>\n",
       "    <tr>\n",
       "      <th>2016</th>\n",
       "      <td>5.25</td>\n",
       "    </tr>\n",
       "    <tr>\n",
       "      <th rowspan=\"4\" valign=\"top\">PS4</th>\n",
       "      <th>2013</th>\n",
       "      <td>25.99</td>\n",
       "    </tr>\n",
       "    <tr>\n",
       "      <th>2014</th>\n",
       "      <td>100.00</td>\n",
       "    </tr>\n",
       "    <tr>\n",
       "      <th>2015</th>\n",
       "      <td>118.90</td>\n",
       "    </tr>\n",
       "    <tr>\n",
       "      <th>2016</th>\n",
       "      <td>69.25</td>\n",
       "    </tr>\n",
       "    <tr>\n",
       "      <th rowspan=\"4\" valign=\"top\">PSV</th>\n",
       "      <th>2013</th>\n",
       "      <td>10.59</td>\n",
       "    </tr>\n",
       "    <tr>\n",
       "      <th>2014</th>\n",
       "      <td>11.90</td>\n",
       "    </tr>\n",
       "    <tr>\n",
       "      <th>2015</th>\n",
       "      <td>6.25</td>\n",
       "    </tr>\n",
       "    <tr>\n",
       "      <th>2016</th>\n",
       "      <td>4.25</td>\n",
       "    </tr>\n",
       "    <tr>\n",
       "      <th rowspan=\"4\" valign=\"top\">XOne</th>\n",
       "      <th>2013</th>\n",
       "      <td>18.96</td>\n",
       "    </tr>\n",
       "    <tr>\n",
       "      <th>2014</th>\n",
       "      <td>54.07</td>\n",
       "    </tr>\n",
       "    <tr>\n",
       "      <th>2015</th>\n",
       "      <td>60.14</td>\n",
       "    </tr>\n",
       "    <tr>\n",
       "      <th>2016</th>\n",
       "      <td>26.15</td>\n",
       "    </tr>\n",
       "  </tbody>\n",
       "</table>\n",
       "</div>"
      ],
      "text/plain": [
       "                          total_sales\n",
       "platform year_of_release             \n",
       "3DS      2013                   56.57\n",
       "         2014                   43.76\n",
       "         2015                   27.78\n",
       "         2016                   15.14\n",
       "PC       2013                   12.38\n",
       "         2014                   13.28\n",
       "         2015                    8.52\n",
       "         2016                    5.25\n",
       "PS4      2013                   25.99\n",
       "         2014                  100.00\n",
       "         2015                  118.90\n",
       "         2016                   69.25\n",
       "PSV      2013                   10.59\n",
       "         2014                   11.90\n",
       "         2015                    6.25\n",
       "         2016                    4.25\n",
       "XOne     2013                   18.96\n",
       "         2014                   54.07\n",
       "         2015                   60.14\n",
       "         2016                   26.15"
      ]
     },
     "execution_count": 28,
     "metadata": {},
     "output_type": "execute_result"
    }
   ],
   "source": [
    "platform_sales_selected.pivot_table(index=['platform','year_of_release'],values='total_sales', aggfunc='sum')\n"
   ]
  },
  {
   "cell_type": "markdown",
   "metadata": {},
   "source": [
    "Итак, мы видим, что разбросы по глобальным продажам на выбранных платформах различны. Наибольший разброс по продажам на платформах PS4 и XOne - от 0,1 до 0,7 млн копий примерно, а на платформе PSV - от 0 до 0,1 млн. копий.\n",
    "При этом медианные значения глобальных продаж на каждой из выбранных платформ, стремятся в меньшую сторону, это говорит о том, что в целом распределение данных смещено вправо, а средние значения продаж меньше медианных. Также на графике мы видим довольно большое количество выбросов с правой стороны по всем выбранным платформам.\n",
    "\n",
    "С помощью сводной таблицы также посмотрели статистику глобальных продаж за посление годы по выбранным платформам, видим рост продаж на платформах PS4 и XOne (2016 год не учитываем, так как данные по нему неполные), к сожалению, продажи на платформах 3DS, PC и PSV показывали рост только до 2014 года включительно, в 2015 году почему-то снизились."
   ]
  },
  {
   "cell_type": "markdown",
   "metadata": {},
   "source": [
    "Посмотрим, как влияют на продажи внутри одной популярной платформы XOne отзывы пользователей и критиков. Построим диаграммы рассеяния и посчитаем корреляцию между отзывами и продажами."
   ]
  },
  {
   "cell_type": "code",
   "execution_count": 29,
   "metadata": {
    "scrolled": true
   },
   "outputs": [],
   "source": [
    "def critic_scores_influence(data, plt_name, title):\n",
    "    critic = data[(data['critic_score']!=1000) & (data['platform'] == plt_name)]\n",
    "    critic.plot(x='total_sales', y='critic_score', kind='hexbin', gridsize=20, figsize=(8, 6), sharex=False, grid=True, title=title)\n",
    "    print('Коэффициент корреляции продаж от оценки критиков:', critic['total_sales'].corr(critic['critic_score']))\n",
    "    return critic\n",
    "\n",
    "def user_scores_influence(data, plt_name,title):\n",
    "    user = data[(data['user_score']!=100) & (data['platform'] == plt_name)]\n",
    "    user.plot(x='total_sales', y='user_score', kind='hexbin', gridsize=20, figsize=(8, 6), sharex=False, grid=True, title=title)\n",
    "    print('Коэффициент корреляции продаж от оценки пользователей:',user['total_sales'].corr(user['user_score']))\n",
    "    return user\n"
   ]
  },
  {
   "cell_type": "code",
   "execution_count": 30,
   "metadata": {},
   "outputs": [],
   "source": [
    "def scores_influence(data, plt_name, title_1, title_2):\n",
    "    critic = data[(data['critic_score']!=1000) & (data['platform'] == plt_name)]\n",
    "    critic.plot(x='total_sales', y='critic_score', kind='hexbin', gridsize=20, figsize=(8, 6), sharex=False, grid=True, title=title_1)\n",
    "    print('Коэффициент корреляции продаж от оценки критиков:', critic['total_sales'].corr(critic['critic_score']))\n",
    "    user = data[(data['user_score']!=100) & (data['platform'] == plt_name)]\n",
    "    user.plot(x='total_sales', y='user_score', kind='hexbin', gridsize=20, figsize=(8, 6), sharex=False, grid=True, title=title_2)\n",
    "    plt.title('XOne/user_score')\n",
    "    print('Коэффициент корреляции продаж от оценки пользователей:',user['total_sales'].corr(user['user_score']))\n",
    "    return critic, user"
   ]
  },
  {
   "cell_type": "code",
   "execution_count": 31,
   "metadata": {},
   "outputs": [
    {
     "name": "stdout",
     "output_type": "stream",
     "text": [
      "Коэффициент корреляции продаж от оценки критиков: 0.41699832800840175\n",
      "Коэффициент корреляции продаж от оценки пользователей: 0.06108091226155909\n"
     ]
    },
    {
     "data": {
      "image/png": "[encoded data removed]",
      "text/plain": [
       "<Figure size 576x432 with 2 Axes>"
      ]
     },
     "metadata": {
      "needs_background": "light"
     },
     "output_type": "display_data"
    },
    {
     "data": {
      "image/png": "[encoded data removed]",
      "text/plain": [
       "<Figure size 576x432 with 2 Axes>"
      ]
     },
     "metadata": {
      "needs_background": "light"
     },
     "output_type": "display_data"
    }
   ],
   "source": [
    "xone_scores = scores_influence(data = actual_period, plt_name = 'XOne', title_1 = 'XOne/critic_score', title_2 = 'XOne/user_score')"
   ]
  },
  {
   "cell_type": "markdown",
   "metadata": {},
   "source": [
    "Видим, что между оценками критиков/пользователей и глобальными продажами на платформе XOne есть прямопропорциональные связи, т.е. с ростом оценки критиков/ пользователей, могут расти продажи, однако эти связи довольно слабые (особенно с между продажами и оценкой пользователей).\n",
    "\n",
    "Посмотрим, как обстоят дела со взаимосвязью оценок и продажами на платформе WiiU."
   ]
  },
  {
   "cell_type": "code",
   "execution_count": 32,
   "metadata": {},
   "outputs": [
    {
     "name": "stdout",
     "output_type": "stream",
     "text": [
      "Коэффициент корреляции продаж от оценки критиков: 0.406567902061781\n",
      "Коэффициент корреляции продаж от оценки пользователей: 0.023874818051222615\n"
     ]
    },
    {
     "data": {
      "image/png": "[encoded data removed]",
      "text/plain": [
       "<Figure size 576x432 with 2 Axes>"
      ]
     },
     "metadata": {
      "needs_background": "light"
     },
     "output_type": "display_data"
    },
    {
     "data": {
      "image/png": "[encoded data removed]",
      "text/plain": [
       "<Figure size 576x432 with 2 Axes>"
      ]
     },
     "metadata": {
      "needs_background": "light"
     },
     "output_type": "display_data"
    }
   ],
   "source": [
    "ps4_scores = scores_influence(data = actual_period, plt_name = 'PS4', title_1 = 'PS4/critic_score', title_2 = 'PS4/user_score')"
   ]
  },
  {
   "cell_type": "markdown",
   "metadata": {},
   "source": [
    "На платформе PS4 также наблюдается прямопропорциональная связь между оценками критиков, оценками пользователей и глобальными продажами, тут уровень связей  примерно такой же, как и в случае с платформой XOne.\n",
    "\n",
    "Попробуем проверить взаимосвязи между оценками пользователей/критиков и глобальными продажами на одной из платформ-лидеров периода 2013-2015 годов, например,  платформа PSV."
   ]
  },
  {
   "cell_type": "code",
   "execution_count": 33,
   "metadata": {},
   "outputs": [
    {
     "name": "stdout",
     "output_type": "stream",
     "text": [
      "Коэффициент корреляции продаж от оценки критиков: 0.25474235030686565\n",
      "Коэффициент корреляции продаж от оценки пользователей: 0.14548901235736278\n"
     ]
    },
    {
     "data": {
      "image/png": "[encoded data removed]",
      "text/plain": [
       "<Figure size 576x432 with 2 Axes>"
      ]
     },
     "metadata": {
      "needs_background": "light"
     },
     "output_type": "display_data"
    },
    {
     "data": {
      "image/png": "[encoded data removed]",
      "text/plain": [
       "<Figure size 576x432 with 2 Axes>"
      ]
     },
     "metadata": {
      "needs_background": "light"
     },
     "output_type": "display_data"
    }
   ],
   "source": [
    "psv_scores = scores_influence(data = actual_period, plt_name = 'PSV', title_1 = 'PSV/critic_score', title_2 = 'PSV/user_score')"
   ]
  },
  {
   "cell_type": "markdown",
   "metadata": {},
   "source": [
    "Тут аналогичный вывод - связь между оценками и продажами прямопропорциональная, но слаба, ещё и оценка критиков влияет на продажи в меньшей степени, чем на платформах XOne и PS4."
   ]
  },
  {
   "cell_type": "markdown",
   "metadata": {},
   "source": [
    "Тут предполагаем, что корреляция продаж с отзывами критиков выше, чем с отзывами пользователей, по той причине, что отзывы критиков, как правило, имеют информативный характер и появляются до выпуска игры, чтобы ознакомить пользователей с тем, что будет такая-то игра в таком-то жанре с таким-то сюжетом, а рейтинги пользователей складываются уже на основе того, что сами пользователи в эту игру играли, т.е. отзыв (в т.ч. негативный) может быть написан уже после покупки, т.е. пользователю игра не понравилась, но он уже её купил.\n",
    "\n",
    "Корреляция Пирсона может выявить линейный тип связи между двумя переменными. Если подходить к вопросу с точки зрения теории, то значение кореляции, равное 0, означает, что линейной зависимости между переменными нет, но на самом деле, нельзя утверждать об отсутствии какой-либо связи даже при близких к нулю показателях корреляции, особенно в нашем случае, так как помимо оценок есть ещё комплекс дополняющих факторов,которые влияют на продажи. Возможно отдельно оценки на продажи влияют несущественно, но в комплексе с другими показателями (например популярность жанра, страна релиза) эти оценки будут оказывать бОльшее влияние на продажи, так как интерпретация коэффициента корреляции всегда зависит от контекста и целей. \n",
    "\n",
    "Утверждать о причинно-следственной связи между оценками и продажами, даже при высоком уровне корреляции, чисто теоретически можно, но тут опять же есть другие факторы, влияющие на продажи, мне кажется, что можно утверждать только о причинно-следственных связях между комплексом факторов и продажами.    "
   ]
  },
  {
   "cell_type": "markdown",
   "metadata": {},
   "source": [
    "Посмотрим на общее распределение игр по жанрам, сразу составим функцию для оценки трёх вариантов популярностей:\n",
    "- за общий период\n",
    "- за актуальный период (2013- неполный 2016 годы)\n",
    "- только за неполный 2016 год"
   ]
  },
  {
   "cell_type": "code",
   "execution_count": 34,
   "metadata": {},
   "outputs": [],
   "source": [
    "def genre_popularity(data, title):\n",
    "    data['genre'].hist(bins = 30, figsize = (15,6))\n",
    "    plt.title(title)\n",
    "    display('Наиболее прибыльные жанры по суммарным продажам', data.pivot_table(index='genre', values='total_sales', aggfunc='sum').reset_index().sort_values(by='total_sales', ascending=False).head())\n",
    "    display('Наименее прибыльные жанры по суммарным продажам', data.pivot_table(index='genre', values='total_sales', aggfunc='sum').reset_index().sort_values(by='total_sales').head())\n",
    "    display('Наиболее прибыльные жанры по средней цене игры', data.pivot_table(index='genre', values='total_sales').reset_index().sort_values(by='total_sales', ascending=False).head())\n",
    "    display('Наименее прибыльные жанры по средней цене игры', data.pivot_table(index='genre', values='total_sales').reset_index().sort_values(by='total_sales').head())\n",
    "    \n",
    "    return data['genre'].hist(bins = 30, figsize = (15,6))"
   ]
  },
  {
   "cell_type": "code",
   "execution_count": 35,
   "metadata": {},
   "outputs": [
    {
     "data": {
      "text/plain": [
       "'Наиболее прибыльные жанры по суммарным продажам'"
      ]
     },
     "metadata": {},
     "output_type": "display_data"
    },
    {
     "data": {
      "text/html": [
       "<div>\n",
       "<style scoped>\n",
       "    .dataframe tbody tr th:only-of-type {\n",
       "        vertical-align: middle;\n",
       "    }\n",
       "\n",
       "    .dataframe tbody tr th {\n",
       "        vertical-align: top;\n",
       "    }\n",
       "\n",
       "    .dataframe thead th {\n",
       "        text-align: right;\n",
       "    }\n",
       "</style>\n",
       "<table border=\"1\" class=\"dataframe\">\n",
       "  <thead>\n",
       "    <tr style=\"text-align: right;\">\n",
       "      <th></th>\n",
       "      <th>genre</th>\n",
       "      <th>total_sales</th>\n",
       "    </tr>\n",
       "  </thead>\n",
       "  <tbody>\n",
       "    <tr>\n",
       "      <th>0</th>\n",
       "      <td>Action</td>\n",
       "      <td>1744.17</td>\n",
       "    </tr>\n",
       "    <tr>\n",
       "      <th>10</th>\n",
       "      <td>Sports</td>\n",
       "      <td>1331.27</td>\n",
       "    </tr>\n",
       "    <tr>\n",
       "      <th>8</th>\n",
       "      <td>Shooter</td>\n",
       "      <td>1052.45</td>\n",
       "    </tr>\n",
       "    <tr>\n",
       "      <th>7</th>\n",
       "      <td>Role-Playing</td>\n",
       "      <td>934.56</td>\n",
       "    </tr>\n",
       "    <tr>\n",
       "      <th>4</th>\n",
       "      <td>Platform</td>\n",
       "      <td>827.77</td>\n",
       "    </tr>\n",
       "  </tbody>\n",
       "</table>\n",
       "</div>"
      ],
      "text/plain": [
       "           genre  total_sales\n",
       "0         Action      1744.17\n",
       "10        Sports      1331.27\n",
       "8        Shooter      1052.45\n",
       "7   Role-Playing       934.56\n",
       "4       Platform       827.77"
      ]
     },
     "metadata": {},
     "output_type": "display_data"
    },
    {
     "data": {
      "text/plain": [
       "'Наименее прибыльные жанры по суммарным продажам'"
      ]
     },
     "metadata": {},
     "output_type": "display_data"
    },
    {
     "data": {
      "text/html": [
       "<div>\n",
       "<style scoped>\n",
       "    .dataframe tbody tr th:only-of-type {\n",
       "        vertical-align: middle;\n",
       "    }\n",
       "\n",
       "    .dataframe tbody tr th {\n",
       "        vertical-align: top;\n",
       "    }\n",
       "\n",
       "    .dataframe thead th {\n",
       "        text-align: right;\n",
       "    }\n",
       "</style>\n",
       "<table border=\"1\" class=\"dataframe\">\n",
       "  <thead>\n",
       "    <tr style=\"text-align: right;\">\n",
       "      <th></th>\n",
       "      <th>genre</th>\n",
       "      <th>total_sales</th>\n",
       "    </tr>\n",
       "  </thead>\n",
       "  <tbody>\n",
       "    <tr>\n",
       "      <th>12</th>\n",
       "      <td>unknown</td>\n",
       "      <td>2.42</td>\n",
       "    </tr>\n",
       "    <tr>\n",
       "      <th>11</th>\n",
       "      <td>Strategy</td>\n",
       "      <td>174.23</td>\n",
       "    </tr>\n",
       "    <tr>\n",
       "      <th>1</th>\n",
       "      <td>Adventure</td>\n",
       "      <td>237.59</td>\n",
       "    </tr>\n",
       "    <tr>\n",
       "      <th>5</th>\n",
       "      <td>Puzzle</td>\n",
       "      <td>242.57</td>\n",
       "    </tr>\n",
       "    <tr>\n",
       "      <th>9</th>\n",
       "      <td>Simulation</td>\n",
       "      <td>389.97</td>\n",
       "    </tr>\n",
       "  </tbody>\n",
       "</table>\n",
       "</div>"
      ],
      "text/plain": [
       "         genre  total_sales\n",
       "12     unknown         2.42\n",
       "11    Strategy       174.23\n",
       "1    Adventure       237.59\n",
       "5       Puzzle       242.57\n",
       "9   Simulation       389.97"
      ]
     },
     "metadata": {},
     "output_type": "display_data"
    },
    {
     "data": {
      "text/plain": [
       "'Наиболее прибыльные жанры по средней цене игры'"
      ]
     },
     "metadata": {},
     "output_type": "display_data"
    },
    {
     "data": {
      "text/html": [
       "<div>\n",
       "<style scoped>\n",
       "    .dataframe tbody tr th:only-of-type {\n",
       "        vertical-align: middle;\n",
       "    }\n",
       "\n",
       "    .dataframe tbody tr th {\n",
       "        vertical-align: top;\n",
       "    }\n",
       "\n",
       "    .dataframe thead th {\n",
       "        text-align: right;\n",
       "    }\n",
       "</style>\n",
       "<table border=\"1\" class=\"dataframe\">\n",
       "  <thead>\n",
       "    <tr style=\"text-align: right;\">\n",
       "      <th></th>\n",
       "      <th>genre</th>\n",
       "      <th>total_sales</th>\n",
       "    </tr>\n",
       "  </thead>\n",
       "  <tbody>\n",
       "    <tr>\n",
       "      <th>12</th>\n",
       "      <td>unknown</td>\n",
       "      <td>1.210000</td>\n",
       "    </tr>\n",
       "    <tr>\n",
       "      <th>4</th>\n",
       "      <td>Platform</td>\n",
       "      <td>0.932173</td>\n",
       "    </tr>\n",
       "    <tr>\n",
       "      <th>8</th>\n",
       "      <td>Shooter</td>\n",
       "      <td>0.795503</td>\n",
       "    </tr>\n",
       "    <tr>\n",
       "      <th>7</th>\n",
       "      <td>Role-Playing</td>\n",
       "      <td>0.623872</td>\n",
       "    </tr>\n",
       "    <tr>\n",
       "      <th>6</th>\n",
       "      <td>Racing</td>\n",
       "      <td>0.583870</td>\n",
       "    </tr>\n",
       "  </tbody>\n",
       "</table>\n",
       "</div>"
      ],
      "text/plain": [
       "           genre  total_sales\n",
       "12       unknown     1.210000\n",
       "4       Platform     0.932173\n",
       "8        Shooter     0.795503\n",
       "7   Role-Playing     0.623872\n",
       "6         Racing     0.583870"
      ]
     },
     "metadata": {},
     "output_type": "display_data"
    },
    {
     "data": {
      "text/plain": [
       "'Наименее прибыльные жанры по средней цене игры'"
      ]
     },
     "metadata": {},
     "output_type": "display_data"
    },
    {
     "data": {
      "text/html": [
       "<div>\n",
       "<style scoped>\n",
       "    .dataframe tbody tr th:only-of-type {\n",
       "        vertical-align: middle;\n",
       "    }\n",
       "\n",
       "    .dataframe tbody tr th {\n",
       "        vertical-align: top;\n",
       "    }\n",
       "\n",
       "    .dataframe thead th {\n",
       "        text-align: right;\n",
       "    }\n",
       "</style>\n",
       "<table border=\"1\" class=\"dataframe\">\n",
       "  <thead>\n",
       "    <tr style=\"text-align: right;\">\n",
       "      <th></th>\n",
       "      <th>genre</th>\n",
       "      <th>total_sales</th>\n",
       "    </tr>\n",
       "  </thead>\n",
       "  <tbody>\n",
       "    <tr>\n",
       "      <th>1</th>\n",
       "      <td>Adventure</td>\n",
       "      <td>0.182341</td>\n",
       "    </tr>\n",
       "    <tr>\n",
       "      <th>11</th>\n",
       "      <td>Strategy</td>\n",
       "      <td>0.255095</td>\n",
       "    </tr>\n",
       "    <tr>\n",
       "      <th>5</th>\n",
       "      <td>Puzzle</td>\n",
       "      <td>0.418224</td>\n",
       "    </tr>\n",
       "    <tr>\n",
       "      <th>9</th>\n",
       "      <td>Simulation</td>\n",
       "      <td>0.446701</td>\n",
       "    </tr>\n",
       "    <tr>\n",
       "      <th>3</th>\n",
       "      <td>Misc</td>\n",
       "      <td>0.458577</td>\n",
       "    </tr>\n",
       "  </tbody>\n",
       "</table>\n",
       "</div>"
      ],
      "text/plain": [
       "         genre  total_sales\n",
       "1    Adventure     0.182341\n",
       "11    Strategy     0.255095\n",
       "5       Puzzle     0.418224\n",
       "9   Simulation     0.446701\n",
       "3         Misc     0.458577"
      ]
     },
     "metadata": {},
     "output_type": "display_data"
    },
    {
     "data": {
      "text/plain": [
       "<AxesSubplot:title={'center':'Гистограмма популярности жанров за всю историю до 2016 года'}>"
      ]
     },
     "execution_count": 35,
     "metadata": {},
     "output_type": "execute_result"
    },
    {
     "data": {
      "image/png": "[encoded data removed]",
      "text/plain": [
       "<Figure size 1080x432 with 1 Axes>"
      ]
     },
     "metadata": {
      "needs_background": "light"
     },
     "output_type": "display_data"
    }
   ],
   "source": [
    "genre_popularity(data=games, title='Гистограмма популярности жанров за всю историю до 2016 года')"
   ]
  },
  {
   "cell_type": "markdown",
   "metadata": {},
   "source": [
    "Итак, больше всего игр выпущено в жанрах Action и Sports, меньше всего - Strategy и Puzzle. \n",
    "Cамые прибыльные жанры по суммарным продажам за весь период - Action и Sports, наименее прибыльные - неизвестного нам жанра и жанра Strategy. При этом наиболее прибыльные жанры по средней цене игры - игры неизвестного нам жанра(эти игры были в топ-5 наименее прибыльных суммарных продаж) и жанра Platform, а наименее прибыльные жанры по средней цене игры - жанры Adventure и Strategy.\n",
    "\n",
    "Посмотрим, актуальна ли эта информация для нашего периода с 2005 по 2015 годы."
   ]
  },
  {
   "cell_type": "code",
   "execution_count": 36,
   "metadata": {
    "scrolled": true
   },
   "outputs": [
    {
     "data": {
      "text/plain": [
       "'Наиболее прибыльные жанры по суммарным продажам'"
      ]
     },
     "metadata": {},
     "output_type": "display_data"
    },
    {
     "data": {
      "text/html": [
       "<div>\n",
       "<style scoped>\n",
       "    .dataframe tbody tr th:only-of-type {\n",
       "        vertical-align: middle;\n",
       "    }\n",
       "\n",
       "    .dataframe tbody tr th {\n",
       "        vertical-align: top;\n",
       "    }\n",
       "\n",
       "    .dataframe thead th {\n",
       "        text-align: right;\n",
       "    }\n",
       "</style>\n",
       "<table border=\"1\" class=\"dataframe\">\n",
       "  <thead>\n",
       "    <tr style=\"text-align: right;\">\n",
       "      <th></th>\n",
       "      <th>genre</th>\n",
       "      <th>total_sales</th>\n",
       "    </tr>\n",
       "  </thead>\n",
       "  <tbody>\n",
       "    <tr>\n",
       "      <th>0</th>\n",
       "      <td>Action</td>\n",
       "      <td>321.87</td>\n",
       "    </tr>\n",
       "    <tr>\n",
       "      <th>8</th>\n",
       "      <td>Shooter</td>\n",
       "      <td>232.98</td>\n",
       "    </tr>\n",
       "    <tr>\n",
       "      <th>10</th>\n",
       "      <td>Sports</td>\n",
       "      <td>150.65</td>\n",
       "    </tr>\n",
       "    <tr>\n",
       "      <th>7</th>\n",
       "      <td>Role-Playing</td>\n",
       "      <td>145.89</td>\n",
       "    </tr>\n",
       "    <tr>\n",
       "      <th>3</th>\n",
       "      <td>Misc</td>\n",
       "      <td>62.82</td>\n",
       "    </tr>\n",
       "  </tbody>\n",
       "</table>\n",
       "</div>"
      ],
      "text/plain": [
       "           genre  total_sales\n",
       "0         Action       321.87\n",
       "8        Shooter       232.98\n",
       "10        Sports       150.65\n",
       "7   Role-Playing       145.89\n",
       "3           Misc        62.82"
      ]
     },
     "metadata": {},
     "output_type": "display_data"
    },
    {
     "data": {
      "text/plain": [
       "'Наименее прибыльные жанры по суммарным продажам'"
      ]
     },
     "metadata": {},
     "output_type": "display_data"
    },
    {
     "data": {
      "text/html": [
       "<div>\n",
       "<style scoped>\n",
       "    .dataframe tbody tr th:only-of-type {\n",
       "        vertical-align: middle;\n",
       "    }\n",
       "\n",
       "    .dataframe tbody tr th {\n",
       "        vertical-align: top;\n",
       "    }\n",
       "\n",
       "    .dataframe thead th {\n",
       "        text-align: right;\n",
       "    }\n",
       "</style>\n",
       "<table border=\"1\" class=\"dataframe\">\n",
       "  <thead>\n",
       "    <tr style=\"text-align: right;\">\n",
       "      <th></th>\n",
       "      <th>genre</th>\n",
       "      <th>total_sales</th>\n",
       "    </tr>\n",
       "  </thead>\n",
       "  <tbody>\n",
       "    <tr>\n",
       "      <th>5</th>\n",
       "      <td>Puzzle</td>\n",
       "      <td>3.17</td>\n",
       "    </tr>\n",
       "    <tr>\n",
       "      <th>11</th>\n",
       "      <td>Strategy</td>\n",
       "      <td>10.08</td>\n",
       "    </tr>\n",
       "    <tr>\n",
       "      <th>9</th>\n",
       "      <td>Simulation</td>\n",
       "      <td>21.76</td>\n",
       "    </tr>\n",
       "    <tr>\n",
       "      <th>1</th>\n",
       "      <td>Adventure</td>\n",
       "      <td>23.64</td>\n",
       "    </tr>\n",
       "    <tr>\n",
       "      <th>2</th>\n",
       "      <td>Fighting</td>\n",
       "      <td>35.31</td>\n",
       "    </tr>\n",
       "  </tbody>\n",
       "</table>\n",
       "</div>"
      ],
      "text/plain": [
       "         genre  total_sales\n",
       "5       Puzzle         3.17\n",
       "11    Strategy        10.08\n",
       "9   Simulation        21.76\n",
       "1    Adventure        23.64\n",
       "2     Fighting        35.31"
      ]
     },
     "metadata": {},
     "output_type": "display_data"
    },
    {
     "data": {
      "text/plain": [
       "'Наиболее прибыльные жанры по средней цене игры'"
      ]
     },
     "metadata": {},
     "output_type": "display_data"
    },
    {
     "data": {
      "text/html": [
       "<div>\n",
       "<style scoped>\n",
       "    .dataframe tbody tr th:only-of-type {\n",
       "        vertical-align: middle;\n",
       "    }\n",
       "\n",
       "    .dataframe tbody tr th {\n",
       "        vertical-align: top;\n",
       "    }\n",
       "\n",
       "    .dataframe thead th {\n",
       "        text-align: right;\n",
       "    }\n",
       "</style>\n",
       "<table border=\"1\" class=\"dataframe\">\n",
       "  <thead>\n",
       "    <tr style=\"text-align: right;\">\n",
       "      <th></th>\n",
       "      <th>genre</th>\n",
       "      <th>total_sales</th>\n",
       "    </tr>\n",
       "  </thead>\n",
       "  <tbody>\n",
       "    <tr>\n",
       "      <th>8</th>\n",
       "      <td>Shooter</td>\n",
       "      <td>1.245882</td>\n",
       "    </tr>\n",
       "    <tr>\n",
       "      <th>10</th>\n",
       "      <td>Sports</td>\n",
       "      <td>0.703972</td>\n",
       "    </tr>\n",
       "    <tr>\n",
       "      <th>4</th>\n",
       "      <td>Platform</td>\n",
       "      <td>0.576081</td>\n",
       "    </tr>\n",
       "    <tr>\n",
       "      <th>7</th>\n",
       "      <td>Role-Playing</td>\n",
       "      <td>0.499623</td>\n",
       "    </tr>\n",
       "    <tr>\n",
       "      <th>6</th>\n",
       "      <td>Racing</td>\n",
       "      <td>0.469294</td>\n",
       "    </tr>\n",
       "  </tbody>\n",
       "</table>\n",
       "</div>"
      ],
      "text/plain": [
       "           genre  total_sales\n",
       "8        Shooter     1.245882\n",
       "10        Sports     0.703972\n",
       "4       Platform     0.576081\n",
       "7   Role-Playing     0.499623\n",
       "6         Racing     0.469294"
      ]
     },
     "metadata": {},
     "output_type": "display_data"
    },
    {
     "data": {
      "text/plain": [
       "'Наименее прибыльные жанры по средней цене игры'"
      ]
     },
     "metadata": {},
     "output_type": "display_data"
    },
    {
     "data": {
      "text/html": [
       "<div>\n",
       "<style scoped>\n",
       "    .dataframe tbody tr th:only-of-type {\n",
       "        vertical-align: middle;\n",
       "    }\n",
       "\n",
       "    .dataframe tbody tr th {\n",
       "        vertical-align: top;\n",
       "    }\n",
       "\n",
       "    .dataframe thead th {\n",
       "        text-align: right;\n",
       "    }\n",
       "</style>\n",
       "<table border=\"1\" class=\"dataframe\">\n",
       "  <thead>\n",
       "    <tr style=\"text-align: right;\">\n",
       "      <th></th>\n",
       "      <th>genre</th>\n",
       "      <th>total_sales</th>\n",
       "    </tr>\n",
       "  </thead>\n",
       "  <tbody>\n",
       "    <tr>\n",
       "      <th>1</th>\n",
       "      <td>Adventure</td>\n",
       "      <td>0.096490</td>\n",
       "    </tr>\n",
       "    <tr>\n",
       "      <th>11</th>\n",
       "      <td>Strategy</td>\n",
       "      <td>0.180000</td>\n",
       "    </tr>\n",
       "    <tr>\n",
       "      <th>5</th>\n",
       "      <td>Puzzle</td>\n",
       "      <td>0.186471</td>\n",
       "    </tr>\n",
       "    <tr>\n",
       "      <th>9</th>\n",
       "      <td>Simulation</td>\n",
       "      <td>0.350968</td>\n",
       "    </tr>\n",
       "    <tr>\n",
       "      <th>3</th>\n",
       "      <td>Misc</td>\n",
       "      <td>0.405290</td>\n",
       "    </tr>\n",
       "  </tbody>\n",
       "</table>\n",
       "</div>"
      ],
      "text/plain": [
       "         genre  total_sales\n",
       "1    Adventure     0.096490\n",
       "11    Strategy     0.180000\n",
       "5       Puzzle     0.186471\n",
       "9   Simulation     0.350968\n",
       "3         Misc     0.405290"
      ]
     },
     "metadata": {},
     "output_type": "display_data"
    },
    {
     "data": {
      "text/plain": [
       "<AxesSubplot:title={'center':'Гистограмма популярности жанров за 2013-неполный 2016 годы'}>"
      ]
     },
     "execution_count": 36,
     "metadata": {},
     "output_type": "execute_result"
    },
    {
     "data": {
      "image/png": "[encoded data removed]",
      "text/plain": [
       "<Figure size 1080x432 with 1 Axes>"
      ]
     },
     "metadata": {
      "needs_background": "light"
     },
     "output_type": "display_data"
    }
   ],
   "source": [
    "genre_popularity(data=actual_period, title='Гистограмма популярности жанров за 2013-неполный 2016 годы')"
   ]
  },
  {
   "cell_type": "code",
   "execution_count": 37,
   "metadata": {
    "scrolled": true
   },
   "outputs": [
    {
     "data": {
      "text/plain": [
       "'Наиболее прибыльные жанры по суммарным продажам'"
      ]
     },
     "metadata": {},
     "output_type": "display_data"
    },
    {
     "data": {
      "text/html": [
       "<div>\n",
       "<style scoped>\n",
       "    .dataframe tbody tr th:only-of-type {\n",
       "        vertical-align: middle;\n",
       "    }\n",
       "\n",
       "    .dataframe tbody tr th {\n",
       "        vertical-align: top;\n",
       "    }\n",
       "\n",
       "    .dataframe thead th {\n",
       "        text-align: right;\n",
       "    }\n",
       "</style>\n",
       "<table border=\"1\" class=\"dataframe\">\n",
       "  <thead>\n",
       "    <tr style=\"text-align: right;\">\n",
       "      <th></th>\n",
       "      <th>genre</th>\n",
       "      <th>total_sales</th>\n",
       "    </tr>\n",
       "  </thead>\n",
       "  <tbody>\n",
       "    <tr>\n",
       "      <th>0</th>\n",
       "      <td>Action</td>\n",
       "      <td>321.87</td>\n",
       "    </tr>\n",
       "    <tr>\n",
       "      <th>8</th>\n",
       "      <td>Shooter</td>\n",
       "      <td>232.98</td>\n",
       "    </tr>\n",
       "    <tr>\n",
       "      <th>10</th>\n",
       "      <td>Sports</td>\n",
       "      <td>150.65</td>\n",
       "    </tr>\n",
       "    <tr>\n",
       "      <th>7</th>\n",
       "      <td>Role-Playing</td>\n",
       "      <td>145.89</td>\n",
       "    </tr>\n",
       "    <tr>\n",
       "      <th>3</th>\n",
       "      <td>Misc</td>\n",
       "      <td>62.82</td>\n",
       "    </tr>\n",
       "  </tbody>\n",
       "</table>\n",
       "</div>"
      ],
      "text/plain": [
       "           genre  total_sales\n",
       "0         Action       321.87\n",
       "8        Shooter       232.98\n",
       "10        Sports       150.65\n",
       "7   Role-Playing       145.89\n",
       "3           Misc        62.82"
      ]
     },
     "metadata": {},
     "output_type": "display_data"
    },
    {
     "data": {
      "text/plain": [
       "'Наименее прибыльные жанры по суммарным продажам'"
      ]
     },
     "metadata": {},
     "output_type": "display_data"
    },
    {
     "data": {
      "text/html": [
       "<div>\n",
       "<style scoped>\n",
       "    .dataframe tbody tr th:only-of-type {\n",
       "        vertical-align: middle;\n",
       "    }\n",
       "\n",
       "    .dataframe tbody tr th {\n",
       "        vertical-align: top;\n",
       "    }\n",
       "\n",
       "    .dataframe thead th {\n",
       "        text-align: right;\n",
       "    }\n",
       "</style>\n",
       "<table border=\"1\" class=\"dataframe\">\n",
       "  <thead>\n",
       "    <tr style=\"text-align: right;\">\n",
       "      <th></th>\n",
       "      <th>genre</th>\n",
       "      <th>total_sales</th>\n",
       "    </tr>\n",
       "  </thead>\n",
       "  <tbody>\n",
       "    <tr>\n",
       "      <th>5</th>\n",
       "      <td>Puzzle</td>\n",
       "      <td>3.17</td>\n",
       "    </tr>\n",
       "    <tr>\n",
       "      <th>11</th>\n",
       "      <td>Strategy</td>\n",
       "      <td>10.08</td>\n",
       "    </tr>\n",
       "    <tr>\n",
       "      <th>9</th>\n",
       "      <td>Simulation</td>\n",
       "      <td>21.76</td>\n",
       "    </tr>\n",
       "    <tr>\n",
       "      <th>1</th>\n",
       "      <td>Adventure</td>\n",
       "      <td>23.64</td>\n",
       "    </tr>\n",
       "    <tr>\n",
       "      <th>2</th>\n",
       "      <td>Fighting</td>\n",
       "      <td>35.31</td>\n",
       "    </tr>\n",
       "  </tbody>\n",
       "</table>\n",
       "</div>"
      ],
      "text/plain": [
       "         genre  total_sales\n",
       "5       Puzzle         3.17\n",
       "11    Strategy        10.08\n",
       "9   Simulation        21.76\n",
       "1    Adventure        23.64\n",
       "2     Fighting        35.31"
      ]
     },
     "metadata": {},
     "output_type": "display_data"
    },
    {
     "data": {
      "text/plain": [
       "'Наиболее прибыльные жанры по средней цене игры'"
      ]
     },
     "metadata": {},
     "output_type": "display_data"
    },
    {
     "data": {
      "text/html": [
       "<div>\n",
       "<style scoped>\n",
       "    .dataframe tbody tr th:only-of-type {\n",
       "        vertical-align: middle;\n",
       "    }\n",
       "\n",
       "    .dataframe tbody tr th {\n",
       "        vertical-align: top;\n",
       "    }\n",
       "\n",
       "    .dataframe thead th {\n",
       "        text-align: right;\n",
       "    }\n",
       "</style>\n",
       "<table border=\"1\" class=\"dataframe\">\n",
       "  <thead>\n",
       "    <tr style=\"text-align: right;\">\n",
       "      <th></th>\n",
       "      <th>genre</th>\n",
       "      <th>total_sales</th>\n",
       "    </tr>\n",
       "  </thead>\n",
       "  <tbody>\n",
       "    <tr>\n",
       "      <th>8</th>\n",
       "      <td>Shooter</td>\n",
       "      <td>1.245882</td>\n",
       "    </tr>\n",
       "    <tr>\n",
       "      <th>10</th>\n",
       "      <td>Sports</td>\n",
       "      <td>0.703972</td>\n",
       "    </tr>\n",
       "    <tr>\n",
       "      <th>4</th>\n",
       "      <td>Platform</td>\n",
       "      <td>0.576081</td>\n",
       "    </tr>\n",
       "    <tr>\n",
       "      <th>7</th>\n",
       "      <td>Role-Playing</td>\n",
       "      <td>0.499623</td>\n",
       "    </tr>\n",
       "    <tr>\n",
       "      <th>6</th>\n",
       "      <td>Racing</td>\n",
       "      <td>0.469294</td>\n",
       "    </tr>\n",
       "  </tbody>\n",
       "</table>\n",
       "</div>"
      ],
      "text/plain": [
       "           genre  total_sales\n",
       "8        Shooter     1.245882\n",
       "10        Sports     0.703972\n",
       "4       Platform     0.576081\n",
       "7   Role-Playing     0.499623\n",
       "6         Racing     0.469294"
      ]
     },
     "metadata": {},
     "output_type": "display_data"
    },
    {
     "data": {
      "text/plain": [
       "'Наименее прибыльные жанры по средней цене игры'"
      ]
     },
     "metadata": {},
     "output_type": "display_data"
    },
    {
     "data": {
      "text/html": [
       "<div>\n",
       "<style scoped>\n",
       "    .dataframe tbody tr th:only-of-type {\n",
       "        vertical-align: middle;\n",
       "    }\n",
       "\n",
       "    .dataframe tbody tr th {\n",
       "        vertical-align: top;\n",
       "    }\n",
       "\n",
       "    .dataframe thead th {\n",
       "        text-align: right;\n",
       "    }\n",
       "</style>\n",
       "<table border=\"1\" class=\"dataframe\">\n",
       "  <thead>\n",
       "    <tr style=\"text-align: right;\">\n",
       "      <th></th>\n",
       "      <th>genre</th>\n",
       "      <th>total_sales</th>\n",
       "    </tr>\n",
       "  </thead>\n",
       "  <tbody>\n",
       "    <tr>\n",
       "      <th>1</th>\n",
       "      <td>Adventure</td>\n",
       "      <td>0.096490</td>\n",
       "    </tr>\n",
       "    <tr>\n",
       "      <th>11</th>\n",
       "      <td>Strategy</td>\n",
       "      <td>0.180000</td>\n",
       "    </tr>\n",
       "    <tr>\n",
       "      <th>5</th>\n",
       "      <td>Puzzle</td>\n",
       "      <td>0.186471</td>\n",
       "    </tr>\n",
       "    <tr>\n",
       "      <th>9</th>\n",
       "      <td>Simulation</td>\n",
       "      <td>0.350968</td>\n",
       "    </tr>\n",
       "    <tr>\n",
       "      <th>3</th>\n",
       "      <td>Misc</td>\n",
       "      <td>0.405290</td>\n",
       "    </tr>\n",
       "  </tbody>\n",
       "</table>\n",
       "</div>"
      ],
      "text/plain": [
       "         genre  total_sales\n",
       "1    Adventure     0.096490\n",
       "11    Strategy     0.180000\n",
       "5       Puzzle     0.186471\n",
       "9   Simulation     0.350968\n",
       "3         Misc     0.405290"
      ]
     },
     "metadata": {},
     "output_type": "display_data"
    },
    {
     "data": {
      "text/plain": [
       "<AxesSubplot:title={'center':'Гистограмма популярности жанров за 2013-неполный 2016 годы'}>"
      ]
     },
     "execution_count": 37,
     "metadata": {},
     "output_type": "execute_result"
    },
    {
     "data": {
      "image/png": "[encoded data removed]",
      "text/plain": [
       "<Figure size 1080x432 with 1 Axes>"
      ]
     },
     "metadata": {
      "needs_background": "light"
     },
     "output_type": "display_data"
    }
   ],
   "source": [
    "genre_popularity(data=actual_period, title='Гистограмма популярности жанров за 2013-неполный 2016 годы')"
   ]
  },
  {
   "cell_type": "markdown",
   "metadata": {},
   "source": [
    "В целом, информация актуальна и для периода с 2013 по неполный 2015 годы, однако жанр Sports довольно сильно утрачивает свои позиции и становится вровень с жанром Role-Playing по поулярности. В лидерах продаж остаётся жанр Action, минимальные продажи у игр жанра Puzzle. По средней цене игры в самых популярных жанрах Shooter, а жанр Action даже не вошёл в топ-5 по прибыльности по средней цене, наименее прибыльный жанр по средней цене - Adventure. \n",
    "\n",
    "Посмотрим ситуацию по поулярности игр только на 2016 год."
   ]
  },
  {
   "cell_type": "code",
   "execution_count": 38,
   "metadata": {
    "scrolled": true
   },
   "outputs": [
    {
     "data": {
      "text/plain": [
       "'Наиболее прибыльные жанры по суммарным продажам'"
      ]
     },
     "metadata": {},
     "output_type": "display_data"
    },
    {
     "data": {
      "text/html": [
       "<div>\n",
       "<style scoped>\n",
       "    .dataframe tbody tr th:only-of-type {\n",
       "        vertical-align: middle;\n",
       "    }\n",
       "\n",
       "    .dataframe tbody tr th {\n",
       "        vertical-align: top;\n",
       "    }\n",
       "\n",
       "    .dataframe thead th {\n",
       "        text-align: right;\n",
       "    }\n",
       "</style>\n",
       "<table border=\"1\" class=\"dataframe\">\n",
       "  <thead>\n",
       "    <tr style=\"text-align: right;\">\n",
       "      <th></th>\n",
       "      <th>genre</th>\n",
       "      <th>total_sales</th>\n",
       "    </tr>\n",
       "  </thead>\n",
       "  <tbody>\n",
       "    <tr>\n",
       "      <th>8</th>\n",
       "      <td>Shooter</td>\n",
       "      <td>38.22</td>\n",
       "    </tr>\n",
       "    <tr>\n",
       "      <th>0</th>\n",
       "      <td>Action</td>\n",
       "      <td>30.11</td>\n",
       "    </tr>\n",
       "    <tr>\n",
       "      <th>10</th>\n",
       "      <td>Sports</td>\n",
       "      <td>23.49</td>\n",
       "    </tr>\n",
       "    <tr>\n",
       "      <th>7</th>\n",
       "      <td>Role-Playing</td>\n",
       "      <td>18.18</td>\n",
       "    </tr>\n",
       "    <tr>\n",
       "      <th>2</th>\n",
       "      <td>Fighting</td>\n",
       "      <td>4.47</td>\n",
       "    </tr>\n",
       "  </tbody>\n",
       "</table>\n",
       "</div>"
      ],
      "text/plain": [
       "           genre  total_sales\n",
       "8        Shooter        38.22\n",
       "0         Action        30.11\n",
       "10        Sports        23.49\n",
       "7   Role-Playing        18.18\n",
       "2       Fighting         4.47"
      ]
     },
     "metadata": {},
     "output_type": "display_data"
    },
    {
     "data": {
      "text/plain": [
       "'Наименее прибыльные жанры по суммарным продажам'"
      ]
     },
     "metadata": {},
     "output_type": "display_data"
    },
    {
     "data": {
      "text/html": [
       "<div>\n",
       "<style scoped>\n",
       "    .dataframe tbody tr th:only-of-type {\n",
       "        vertical-align: middle;\n",
       "    }\n",
       "\n",
       "    .dataframe tbody tr th {\n",
       "        vertical-align: top;\n",
       "    }\n",
       "\n",
       "    .dataframe thead th {\n",
       "        text-align: right;\n",
       "    }\n",
       "</style>\n",
       "<table border=\"1\" class=\"dataframe\">\n",
       "  <thead>\n",
       "    <tr style=\"text-align: right;\">\n",
       "      <th></th>\n",
       "      <th>genre</th>\n",
       "      <th>total_sales</th>\n",
       "    </tr>\n",
       "  </thead>\n",
       "  <tbody>\n",
       "    <tr>\n",
       "      <th>5</th>\n",
       "      <td>Puzzle</td>\n",
       "      <td>0.01</td>\n",
       "    </tr>\n",
       "    <tr>\n",
       "      <th>11</th>\n",
       "      <td>Strategy</td>\n",
       "      <td>1.13</td>\n",
       "    </tr>\n",
       "    <tr>\n",
       "      <th>9</th>\n",
       "      <td>Simulation</td>\n",
       "      <td>1.89</td>\n",
       "    </tr>\n",
       "    <tr>\n",
       "      <th>3</th>\n",
       "      <td>Misc</td>\n",
       "      <td>2.60</td>\n",
       "    </tr>\n",
       "    <tr>\n",
       "      <th>6</th>\n",
       "      <td>Racing</td>\n",
       "      <td>2.79</td>\n",
       "    </tr>\n",
       "  </tbody>\n",
       "</table>\n",
       "</div>"
      ],
      "text/plain": [
       "         genre  total_sales\n",
       "5       Puzzle         0.01\n",
       "11    Strategy         1.13\n",
       "9   Simulation         1.89\n",
       "3         Misc         2.60\n",
       "6       Racing         2.79"
      ]
     },
     "metadata": {},
     "output_type": "display_data"
    },
    {
     "data": {
      "text/plain": [
       "'Наиболее прибыльные жанры по средней цене игры'"
      ]
     },
     "metadata": {},
     "output_type": "display_data"
    },
    {
     "data": {
      "text/html": [
       "<div>\n",
       "<style scoped>\n",
       "    .dataframe tbody tr th:only-of-type {\n",
       "        vertical-align: middle;\n",
       "    }\n",
       "\n",
       "    .dataframe tbody tr th {\n",
       "        vertical-align: top;\n",
       "    }\n",
       "\n",
       "    .dataframe thead th {\n",
       "        text-align: right;\n",
       "    }\n",
       "</style>\n",
       "<table border=\"1\" class=\"dataframe\">\n",
       "  <thead>\n",
       "    <tr style=\"text-align: right;\">\n",
       "      <th></th>\n",
       "      <th>genre</th>\n",
       "      <th>total_sales</th>\n",
       "    </tr>\n",
       "  </thead>\n",
       "  <tbody>\n",
       "    <tr>\n",
       "      <th>8</th>\n",
       "      <td>Shooter</td>\n",
       "      <td>0.813191</td>\n",
       "    </tr>\n",
       "    <tr>\n",
       "      <th>10</th>\n",
       "      <td>Sports</td>\n",
       "      <td>0.489375</td>\n",
       "    </tr>\n",
       "    <tr>\n",
       "      <th>7</th>\n",
       "      <td>Role-Playing</td>\n",
       "      <td>0.336667</td>\n",
       "    </tr>\n",
       "    <tr>\n",
       "      <th>2</th>\n",
       "      <td>Fighting</td>\n",
       "      <td>0.279375</td>\n",
       "    </tr>\n",
       "    <tr>\n",
       "      <th>4</th>\n",
       "      <td>Platform</td>\n",
       "      <td>0.215333</td>\n",
       "    </tr>\n",
       "  </tbody>\n",
       "</table>\n",
       "</div>"
      ],
      "text/plain": [
       "           genre  total_sales\n",
       "8        Shooter     0.813191\n",
       "10        Sports     0.489375\n",
       "7   Role-Playing     0.336667\n",
       "2       Fighting     0.279375\n",
       "4       Platform     0.215333"
      ]
     },
     "metadata": {},
     "output_type": "display_data"
    },
    {
     "data": {
      "text/plain": [
       "'Наименее прибыльные жанры по средней цене игры'"
      ]
     },
     "metadata": {},
     "output_type": "display_data"
    },
    {
     "data": {
      "text/html": [
       "<div>\n",
       "<style scoped>\n",
       "    .dataframe tbody tr th:only-of-type {\n",
       "        vertical-align: middle;\n",
       "    }\n",
       "\n",
       "    .dataframe tbody tr th {\n",
       "        vertical-align: top;\n",
       "    }\n",
       "\n",
       "    .dataframe thead th {\n",
       "        text-align: right;\n",
       "    }\n",
       "</style>\n",
       "<table border=\"1\" class=\"dataframe\">\n",
       "  <thead>\n",
       "    <tr style=\"text-align: right;\">\n",
       "      <th></th>\n",
       "      <th>genre</th>\n",
       "      <th>total_sales</th>\n",
       "    </tr>\n",
       "  </thead>\n",
       "  <tbody>\n",
       "    <tr>\n",
       "      <th>5</th>\n",
       "      <td>Puzzle</td>\n",
       "      <td>0.010000</td>\n",
       "    </tr>\n",
       "    <tr>\n",
       "      <th>1</th>\n",
       "      <td>Adventure</td>\n",
       "      <td>0.068214</td>\n",
       "    </tr>\n",
       "    <tr>\n",
       "      <th>3</th>\n",
       "      <td>Misc</td>\n",
       "      <td>0.081250</td>\n",
       "    </tr>\n",
       "    <tr>\n",
       "      <th>11</th>\n",
       "      <td>Strategy</td>\n",
       "      <td>0.086923</td>\n",
       "    </tr>\n",
       "    <tr>\n",
       "      <th>9</th>\n",
       "      <td>Simulation</td>\n",
       "      <td>0.105000</td>\n",
       "    </tr>\n",
       "  </tbody>\n",
       "</table>\n",
       "</div>"
      ],
      "text/plain": [
       "         genre  total_sales\n",
       "5       Puzzle     0.010000\n",
       "1    Adventure     0.068214\n",
       "3         Misc     0.081250\n",
       "11    Strategy     0.086923\n",
       "9   Simulation     0.105000"
      ]
     },
     "metadata": {},
     "output_type": "display_data"
    },
    {
     "data": {
      "text/plain": [
       "<AxesSubplot:title={'center':'Гистограмма популярности жанров только за 2016 год'}>"
      ]
     },
     "execution_count": 38,
     "metadata": {},
     "output_type": "execute_result"
    },
    {
     "data": {
      "image/png": "[encoded data removed]",
      "text/plain": [
       "<Figure size 1080x432 with 1 Axes>"
      ]
     },
     "metadata": {
      "needs_background": "light"
     },
     "output_type": "display_data"
    }
   ],
   "source": [
    "genre_popularity(data=games.query('year_of_release==2016'), title='Гистограмма популярности жанров только за 2016 год')"
   ]
  },
  {
   "cell_type": "markdown",
   "metadata": {},
   "source": [
    "На неполный 2016 год пока в абсолютных лидерах жанрах по количеству выпущенных игр - жанр Action, однако по суммарным продажам и по средней цене лидирует жанр Shooter, жанр Action - на втором месте по суммарным продажам и его нет в топ-5 по средней цене, минимальные суммарные продажи и наименьшая средняя цена у жанра Puzzle."
   ]
  },
  {
   "cell_type": "markdown",
   "metadata": {},
   "source": [
    "## Составление портрета пользователя каждого региона\n",
    "\n"
   ]
  },
  {
   "cell_type": "markdown",
   "metadata": {},
   "source": [
    "Определим для пользователя каждого региона (NA, EU, JP):\n",
    "- самые популярные платформы (топ-5), опишем различия в долях продаж\n",
    "- самые популярные жанры (топ-5)\n",
    "- оценим, влияет ли рейтинг ESRB на продажи в отдельном регионе\n",
    "\n",
    "Сначала дополним наш датафрейм колонкой с расшифровкой рейтингов ESRB для наглядности."
   ]
  },
  {
   "cell_type": "markdown",
   "metadata": {},
   "source": [
    "def rating_description(row):\n",
    "    rating = row['rating']\n",
    "    if rating == 'EC':\n",
    "        return 'Early childhood'\n",
    "    elif rating == 'E':\n",
    "        return 'Everyone'\n",
    "    elif rating == 'E10+':\n",
    "        return 'Everyone 10 and older'\n",
    "    elif rating == 'T':\n",
    "        return 'Teen'\n",
    "    elif rating == 'M':\n",
    "        return 'Mature'\n",
    "    elif rating == 'AO':\n",
    "        return 'Adults Only 18+'\n",
    "    elif rating == 'RP':\n",
    "        return 'Rating Pending'\n",
    "    else:\n",
    "        return rating\n",
    "\n",
    "actual_period['rating_description'] = actual_period.apply(rating_description, axis=1)"
   ]
  },
  {
   "cell_type": "code",
   "execution_count": 39,
   "metadata": {},
   "outputs": [],
   "source": [
    "ESRB_dict = {'E': 'Everyone', 'T': 'Teen', 'EC': 'Early childhood', 'E10+': 'Everyone 10 and older', 'AO': 'Adults Only 18+','RP': 'Rating Pending'}\n",
    "actual_period['rating_description'] = actual_period['rating'].map(ESRB_dict)"
   ]
  },
  {
   "cell_type": "markdown",
   "metadata": {},
   "source": [
    "Напишем функцию для состалвения портрета пользователя по региону."
   ]
  },
  {
   "cell_type": "code",
   "execution_count": 40,
   "metadata": {},
   "outputs": [],
   "source": [
    "def portrait(data, value):\n",
    "    platform = data.pivot_table(index='platform', values=value, aggfunc='sum').reset_index()\n",
    "    platform['sales_part'] = platform[value]/(platform[value].sum())\n",
    "    platform = platform.sort_values(by='sales_part', ascending=False).head().T\n",
    "    genre = data.pivot_table(index='genre', values=value, aggfunc='sum').reset_index().sort_values(by=value, ascending=False).head()\n",
    "    genre['sales_part'] = genre[value]/(genre[value].sum())\n",
    "    rating = data.pivot_table(index='rating_description', values=value,aggfunc='sum')\n",
    "    rating['sales_part'] = rating[value]/rating[value].sum()\n",
    "    rating = rating.sort_values(by=value, ascending=False)\n",
    "    rating.query('sales_part > 0.01').plot(y=value, kind='pie', figsize=(15,7))\n",
    "    display(platform, genre, rating)\n",
    "    return platform, genre, rating"
   ]
  },
  {
   "cell_type": "markdown",
   "metadata": {},
   "source": [
    "Составим портрет североамериканского пользователя"
   ]
  },
  {
   "cell_type": "code",
   "execution_count": 41,
   "metadata": {
    "scrolled": true
   },
   "outputs": [
    {
     "data": {
      "text/html": [
       "<div>\n",
       "<style scoped>\n",
       "    .dataframe tbody tr th:only-of-type {\n",
       "        vertical-align: middle;\n",
       "    }\n",
       "\n",
       "    .dataframe tbody tr th {\n",
       "        vertical-align: top;\n",
       "    }\n",
       "\n",
       "    .dataframe thead th {\n",
       "        text-align: right;\n",
       "    }\n",
       "</style>\n",
       "<table border=\"1\" class=\"dataframe\">\n",
       "  <thead>\n",
       "    <tr style=\"text-align: right;\">\n",
       "      <th></th>\n",
       "      <th>4</th>\n",
       "      <th>10</th>\n",
       "      <th>9</th>\n",
       "      <th>3</th>\n",
       "      <th>0</th>\n",
       "    </tr>\n",
       "  </thead>\n",
       "  <tbody>\n",
       "    <tr>\n",
       "      <th>platform</th>\n",
       "      <td>PS4</td>\n",
       "      <td>XOne</td>\n",
       "      <td>X360</td>\n",
       "      <td>PS3</td>\n",
       "      <td>3DS</td>\n",
       "    </tr>\n",
       "    <tr>\n",
       "      <th>na_sales</th>\n",
       "      <td>108.74</td>\n",
       "      <td>93.12</td>\n",
       "      <td>81.66</td>\n",
       "      <td>63.5</td>\n",
       "      <td>38.2</td>\n",
       "    </tr>\n",
       "    <tr>\n",
       "      <th>sales_part</th>\n",
       "      <td>0.248429</td>\n",
       "      <td>0.212744</td>\n",
       "      <td>0.186562</td>\n",
       "      <td>0.145073</td>\n",
       "      <td>0.087272</td>\n",
       "    </tr>\n",
       "  </tbody>\n",
       "</table>\n",
       "</div>"
      ],
      "text/plain": [
       "                  4         10        9         3         0 \n",
       "platform         PS4      XOne      X360       PS3       3DS\n",
       "na_sales      108.74     93.12     81.66      63.5      38.2\n",
       "sales_part  0.248429  0.212744  0.186562  0.145073  0.087272"
      ]
     },
     "metadata": {},
     "output_type": "display_data"
    },
    {
     "data": {
      "text/html": [
       "<div>\n",
       "<style scoped>\n",
       "    .dataframe tbody tr th:only-of-type {\n",
       "        vertical-align: middle;\n",
       "    }\n",
       "\n",
       "    .dataframe tbody tr th {\n",
       "        vertical-align: top;\n",
       "    }\n",
       "\n",
       "    .dataframe thead th {\n",
       "        text-align: right;\n",
       "    }\n",
       "</style>\n",
       "<table border=\"1\" class=\"dataframe\">\n",
       "  <thead>\n",
       "    <tr style=\"text-align: right;\">\n",
       "      <th></th>\n",
       "      <th>genre</th>\n",
       "      <th>na_sales</th>\n",
       "      <th>sales_part</th>\n",
       "    </tr>\n",
       "  </thead>\n",
       "  <tbody>\n",
       "    <tr>\n",
       "      <th>0</th>\n",
       "      <td>Action</td>\n",
       "      <td>126.05</td>\n",
       "      <td>0.336178</td>\n",
       "    </tr>\n",
       "    <tr>\n",
       "      <th>8</th>\n",
       "      <td>Shooter</td>\n",
       "      <td>109.74</td>\n",
       "      <td>0.292679</td>\n",
       "    </tr>\n",
       "    <tr>\n",
       "      <th>10</th>\n",
       "      <td>Sports</td>\n",
       "      <td>65.27</td>\n",
       "      <td>0.174077</td>\n",
       "    </tr>\n",
       "    <tr>\n",
       "      <th>7</th>\n",
       "      <td>Role-Playing</td>\n",
       "      <td>46.40</td>\n",
       "      <td>0.123750</td>\n",
       "    </tr>\n",
       "    <tr>\n",
       "      <th>3</th>\n",
       "      <td>Misc</td>\n",
       "      <td>27.49</td>\n",
       "      <td>0.073316</td>\n",
       "    </tr>\n",
       "  </tbody>\n",
       "</table>\n",
       "</div>"
      ],
      "text/plain": [
       "           genre  na_sales  sales_part\n",
       "0         Action    126.05    0.336178\n",
       "8        Shooter    109.74    0.292679\n",
       "10        Sports     65.27    0.174077\n",
       "7   Role-Playing     46.40    0.123750\n",
       "3           Misc     27.49    0.073316"
      ]
     },
     "metadata": {},
     "output_type": "display_data"
    },
    {
     "data": {
      "text/html": [
       "<div>\n",
       "<style scoped>\n",
       "    .dataframe tbody tr th:only-of-type {\n",
       "        vertical-align: middle;\n",
       "    }\n",
       "\n",
       "    .dataframe tbody tr th {\n",
       "        vertical-align: top;\n",
       "    }\n",
       "\n",
       "    .dataframe thead th {\n",
       "        text-align: right;\n",
       "    }\n",
       "</style>\n",
       "<table border=\"1\" class=\"dataframe\">\n",
       "  <thead>\n",
       "    <tr style=\"text-align: right;\">\n",
       "      <th></th>\n",
       "      <th>na_sales</th>\n",
       "      <th>sales_part</th>\n",
       "    </tr>\n",
       "    <tr>\n",
       "      <th>rating_description</th>\n",
       "      <th></th>\n",
       "      <th></th>\n",
       "    </tr>\n",
       "  </thead>\n",
       "  <tbody>\n",
       "    <tr>\n",
       "      <th>Adults Only 18+</th>\n",
       "      <td>165.21</td>\n",
       "      <td>0.474346</td>\n",
       "    </tr>\n",
       "    <tr>\n",
       "      <th>Everyone</th>\n",
       "      <td>79.05</td>\n",
       "      <td>0.226966</td>\n",
       "    </tr>\n",
       "    <tr>\n",
       "      <th>Everyone 10 and older</th>\n",
       "      <td>54.24</td>\n",
       "      <td>0.155732</td>\n",
       "    </tr>\n",
       "    <tr>\n",
       "      <th>Teen</th>\n",
       "      <td>49.79</td>\n",
       "      <td>0.142956</td>\n",
       "    </tr>\n",
       "  </tbody>\n",
       "</table>\n",
       "</div>"
      ],
      "text/plain": [
       "                       na_sales  sales_part\n",
       "rating_description                         \n",
       "Adults Only 18+          165.21    0.474346\n",
       "Everyone                  79.05    0.226966\n",
       "Everyone 10 and older     54.24    0.155732\n",
       "Teen                      49.79    0.142956"
      ]
     },
     "metadata": {},
     "output_type": "display_data"
    },
    {
     "data": {
      "image/png": "[encoded data removed]",
      "text/plain": [
       "<Figure size 1080x504 with 1 Axes>"
      ]
     },
     "metadata": {},
     "output_type": "display_data"
    }
   ],
   "source": [
    "na_portrait = portrait(data = actual_period, value = 'na_sales')"
   ]
  },
  {
   "cell_type": "markdown",
   "metadata": {},
   "source": [
    "В Северной Америке наиболее популярными по продажам платформами являются PS4 (24,8% от общего количества продаж в регионе), XOne (21,3%), X360 (18,7%), PS3 (14,5%), 3DS (8,7%).\n",
    "\n",
    "Наиболее популярными играми в Северной Америке являются игры в жанрах Action (126,05 млн. проданных копий за период с 2013 по неполный 2016 годы, т.е. 33,6%), Shooter (109,74 млн. проданных копий = 29,3%), Sports (65,27 млн. проданных копии = 17,4%), Role-Playing (46,4 млн. проданных копии = 12,4%), Misc (27,49 млн. проданных копии = 7,3%).\n",
    "\n",
    "Наиболее популярными играми в Северной Америке являются игры для взрослых (47,4% от всех проданных копий в регионе за 2013-16гг), наименее популярными в Северной Америке являются игры категории 10+ и игры для подростков (15,6% и 14,3% соответственно).\n",
    "\n",
    "Теперь составим портрет среднестатистического европейского пользователя 2013-15 гг."
   ]
  },
  {
   "cell_type": "code",
   "execution_count": 42,
   "metadata": {
    "scrolled": true
   },
   "outputs": [
    {
     "data": {
      "text/html": [
       "<div>\n",
       "<style scoped>\n",
       "    .dataframe tbody tr th:only-of-type {\n",
       "        vertical-align: middle;\n",
       "    }\n",
       "\n",
       "    .dataframe tbody tr th {\n",
       "        vertical-align: top;\n",
       "    }\n",
       "\n",
       "    .dataframe thead th {\n",
       "        text-align: right;\n",
       "    }\n",
       "</style>\n",
       "<table border=\"1\" class=\"dataframe\">\n",
       "  <thead>\n",
       "    <tr style=\"text-align: right;\">\n",
       "      <th></th>\n",
       "      <th>4</th>\n",
       "      <th>3</th>\n",
       "      <th>10</th>\n",
       "      <th>9</th>\n",
       "      <th>0</th>\n",
       "    </tr>\n",
       "  </thead>\n",
       "  <tbody>\n",
       "    <tr>\n",
       "      <th>platform</th>\n",
       "      <td>PS4</td>\n",
       "      <td>PS3</td>\n",
       "      <td>XOne</td>\n",
       "      <td>X360</td>\n",
       "      <td>3DS</td>\n",
       "    </tr>\n",
       "    <tr>\n",
       "      <th>eu_sales</th>\n",
       "      <td>141.09</td>\n",
       "      <td>67.81</td>\n",
       "      <td>51.59</td>\n",
       "      <td>42.52</td>\n",
       "      <td>30.96</td>\n",
       "    </tr>\n",
       "    <tr>\n",
       "      <th>sales_part</th>\n",
       "      <td>0.359712</td>\n",
       "      <td>0.172883</td>\n",
       "      <td>0.13153</td>\n",
       "      <td>0.108406</td>\n",
       "      <td>0.078933</td>\n",
       "    </tr>\n",
       "  </tbody>\n",
       "</table>\n",
       "</div>"
      ],
      "text/plain": [
       "                  4         3        10        9         0 \n",
       "platform         PS4       PS3     XOne      X360       3DS\n",
       "eu_sales      141.09     67.81    51.59     42.52     30.96\n",
       "sales_part  0.359712  0.172883  0.13153  0.108406  0.078933"
      ]
     },
     "metadata": {},
     "output_type": "display_data"
    },
    {
     "data": {
      "text/html": [
       "<div>\n",
       "<style scoped>\n",
       "    .dataframe tbody tr th:only-of-type {\n",
       "        vertical-align: middle;\n",
       "    }\n",
       "\n",
       "    .dataframe tbody tr th {\n",
       "        vertical-align: top;\n",
       "    }\n",
       "\n",
       "    .dataframe thead th {\n",
       "        text-align: right;\n",
       "    }\n",
       "</style>\n",
       "<table border=\"1\" class=\"dataframe\">\n",
       "  <thead>\n",
       "    <tr style=\"text-align: right;\">\n",
       "      <th></th>\n",
       "      <th>genre</th>\n",
       "      <th>eu_sales</th>\n",
       "      <th>sales_part</th>\n",
       "    </tr>\n",
       "  </thead>\n",
       "  <tbody>\n",
       "    <tr>\n",
       "      <th>0</th>\n",
       "      <td>Action</td>\n",
       "      <td>118.13</td>\n",
       "      <td>0.364970</td>\n",
       "    </tr>\n",
       "    <tr>\n",
       "      <th>8</th>\n",
       "      <td>Shooter</td>\n",
       "      <td>87.86</td>\n",
       "      <td>0.271449</td>\n",
       "    </tr>\n",
       "    <tr>\n",
       "      <th>10</th>\n",
       "      <td>Sports</td>\n",
       "      <td>60.52</td>\n",
       "      <td>0.186981</td>\n",
       "    </tr>\n",
       "    <tr>\n",
       "      <th>7</th>\n",
       "      <td>Role-Playing</td>\n",
       "      <td>36.97</td>\n",
       "      <td>0.114221</td>\n",
       "    </tr>\n",
       "    <tr>\n",
       "      <th>6</th>\n",
       "      <td>Racing</td>\n",
       "      <td>20.19</td>\n",
       "      <td>0.062378</td>\n",
       "    </tr>\n",
       "  </tbody>\n",
       "</table>\n",
       "</div>"
      ],
      "text/plain": [
       "           genre  eu_sales  sales_part\n",
       "0         Action    118.13    0.364970\n",
       "8        Shooter     87.86    0.271449\n",
       "10        Sports     60.52    0.186981\n",
       "7   Role-Playing     36.97    0.114221\n",
       "6         Racing     20.19    0.062378"
      ]
     },
     "metadata": {},
     "output_type": "display_data"
    },
    {
     "data": {
      "text/html": [
       "<div>\n",
       "<style scoped>\n",
       "    .dataframe tbody tr th:only-of-type {\n",
       "        vertical-align: middle;\n",
       "    }\n",
       "\n",
       "    .dataframe tbody tr th {\n",
       "        vertical-align: top;\n",
       "    }\n",
       "\n",
       "    .dataframe thead th {\n",
       "        text-align: right;\n",
       "    }\n",
       "</style>\n",
       "<table border=\"1\" class=\"dataframe\">\n",
       "  <thead>\n",
       "    <tr style=\"text-align: right;\">\n",
       "      <th></th>\n",
       "      <th>eu_sales</th>\n",
       "      <th>sales_part</th>\n",
       "    </tr>\n",
       "    <tr>\n",
       "      <th>rating_description</th>\n",
       "      <th></th>\n",
       "      <th></th>\n",
       "    </tr>\n",
       "  </thead>\n",
       "  <tbody>\n",
       "    <tr>\n",
       "      <th>Adults Only 18+</th>\n",
       "      <td>145.32</td>\n",
       "      <td>0.463807</td>\n",
       "    </tr>\n",
       "    <tr>\n",
       "      <th>Everyone</th>\n",
       "      <td>83.36</td>\n",
       "      <td>0.266054</td>\n",
       "    </tr>\n",
       "    <tr>\n",
       "      <th>Everyone 10 and older</th>\n",
       "      <td>42.69</td>\n",
       "      <td>0.136250</td>\n",
       "    </tr>\n",
       "    <tr>\n",
       "      <th>Teen</th>\n",
       "      <td>41.95</td>\n",
       "      <td>0.133889</td>\n",
       "    </tr>\n",
       "  </tbody>\n",
       "</table>\n",
       "</div>"
      ],
      "text/plain": [
       "                       eu_sales  sales_part\n",
       "rating_description                         \n",
       "Adults Only 18+          145.32    0.463807\n",
       "Everyone                  83.36    0.266054\n",
       "Everyone 10 and older     42.69    0.136250\n",
       "Teen                      41.95    0.133889"
      ]
     },
     "metadata": {},
     "output_type": "display_data"
    },
    {
     "data": {
      "image/png": "[encoded data removed]",
      "text/plain": [
       "<Figure size 1080x504 with 1 Axes>"
      ]
     },
     "metadata": {},
     "output_type": "display_data"
    }
   ],
   "source": [
    "eu_portrat  = portrait(data = actual_period, value='eu_sales')"
   ]
  },
  {
   "cell_type": "markdown",
   "metadata": {},
   "source": [
    "В Европе наиболее популярными по продажам платформами являются PS4 (35,97% от общего количества продаж в регионе), PS3 (17,3%), XOne (13,2%), X360 (10,8%), 3DS (7,9%).\n",
    "\n",
    "Наиболее популярными играми в Европе являются игры в жанрах Action (118,13 млн. проданных копий за период с 2013 по 2016 годы, т.е. 36,5% от всех игр в данном регионе), Shooter (87,86 млн. проданных копии = 27,1%), Sports (60,52 млн. проданных копий = 18,7%),  Role-Playing (36,97 млн. проданных копии = 11,4%), Raсing (20,19 млн. проданных копии = 6,2%).\n",
    "\n",
    "Наиболее популярными играми в Европе являются игры для взрослых (46,4% от всех проданных копий в регионе за 2013-16гг), наименее популярными в Европе являются игры категории 10+ и игры для подростков (13,6% и 13,4% соответственно).\n",
    "\n",
    "Теперь составим портрет среднестатистического японского пользователя 2013-16 гг."
   ]
  },
  {
   "cell_type": "code",
   "execution_count": 43,
   "metadata": {
    "scrolled": true
   },
   "outputs": [
    {
     "data": {
      "text/html": [
       "<div>\n",
       "<style scoped>\n",
       "    .dataframe tbody tr th:only-of-type {\n",
       "        vertical-align: middle;\n",
       "    }\n",
       "\n",
       "    .dataframe tbody tr th {\n",
       "        vertical-align: top;\n",
       "    }\n",
       "\n",
       "    .dataframe thead th {\n",
       "        text-align: right;\n",
       "    }\n",
       "</style>\n",
       "<table border=\"1\" class=\"dataframe\">\n",
       "  <thead>\n",
       "    <tr style=\"text-align: right;\">\n",
       "      <th></th>\n",
       "      <th>0</th>\n",
       "      <th>3</th>\n",
       "      <th>6</th>\n",
       "      <th>4</th>\n",
       "      <th>8</th>\n",
       "    </tr>\n",
       "  </thead>\n",
       "  <tbody>\n",
       "    <tr>\n",
       "      <th>platform</th>\n",
       "      <td>3DS</td>\n",
       "      <td>PS3</td>\n",
       "      <td>PSV</td>\n",
       "      <td>PS4</td>\n",
       "      <td>WiiU</td>\n",
       "    </tr>\n",
       "    <tr>\n",
       "      <th>jp_sales</th>\n",
       "      <td>67.81</td>\n",
       "      <td>23.35</td>\n",
       "      <td>18.59</td>\n",
       "      <td>15.96</td>\n",
       "      <td>10.88</td>\n",
       "    </tr>\n",
       "    <tr>\n",
       "      <th>sales_part</th>\n",
       "      <td>0.481674</td>\n",
       "      <td>0.165862</td>\n",
       "      <td>0.13205</td>\n",
       "      <td>0.113368</td>\n",
       "      <td>0.077284</td>\n",
       "    </tr>\n",
       "  </tbody>\n",
       "</table>\n",
       "</div>"
      ],
      "text/plain": [
       "                   0         3        6         4         8\n",
       "platform         3DS       PS3      PSV       PS4      WiiU\n",
       "jp_sales       67.81     23.35    18.59     15.96     10.88\n",
       "sales_part  0.481674  0.165862  0.13205  0.113368  0.077284"
      ]
     },
     "metadata": {},
     "output_type": "display_data"
    },
    {
     "data": {
      "text/html": [
       "<div>\n",
       "<style scoped>\n",
       "    .dataframe tbody tr th:only-of-type {\n",
       "        vertical-align: middle;\n",
       "    }\n",
       "\n",
       "    .dataframe tbody tr th {\n",
       "        vertical-align: top;\n",
       "    }\n",
       "\n",
       "    .dataframe thead th {\n",
       "        text-align: right;\n",
       "    }\n",
       "</style>\n",
       "<table border=\"1\" class=\"dataframe\">\n",
       "  <thead>\n",
       "    <tr style=\"text-align: right;\">\n",
       "      <th></th>\n",
       "      <th>genre</th>\n",
       "      <th>jp_sales</th>\n",
       "      <th>sales_part</th>\n",
       "    </tr>\n",
       "  </thead>\n",
       "  <tbody>\n",
       "    <tr>\n",
       "      <th>7</th>\n",
       "      <td>Role-Playing</td>\n",
       "      <td>51.04</td>\n",
       "      <td>0.443865</td>\n",
       "    </tr>\n",
       "    <tr>\n",
       "      <th>0</th>\n",
       "      <td>Action</td>\n",
       "      <td>40.49</td>\n",
       "      <td>0.352118</td>\n",
       "    </tr>\n",
       "    <tr>\n",
       "      <th>3</th>\n",
       "      <td>Misc</td>\n",
       "      <td>9.20</td>\n",
       "      <td>0.080007</td>\n",
       "    </tr>\n",
       "    <tr>\n",
       "      <th>2</th>\n",
       "      <td>Fighting</td>\n",
       "      <td>7.65</td>\n",
       "      <td>0.066528</td>\n",
       "    </tr>\n",
       "    <tr>\n",
       "      <th>8</th>\n",
       "      <td>Shooter</td>\n",
       "      <td>6.61</td>\n",
       "      <td>0.057483</td>\n",
       "    </tr>\n",
       "  </tbody>\n",
       "</table>\n",
       "</div>"
      ],
      "text/plain": [
       "          genre  jp_sales  sales_part\n",
       "7  Role-Playing     51.04    0.443865\n",
       "0        Action     40.49    0.352118\n",
       "3          Misc      9.20    0.080007\n",
       "2      Fighting      7.65    0.066528\n",
       "8       Shooter      6.61    0.057483"
      ]
     },
     "metadata": {},
     "output_type": "display_data"
    },
    {
     "data": {
      "text/html": [
       "<div>\n",
       "<style scoped>\n",
       "    .dataframe tbody tr th:only-of-type {\n",
       "        vertical-align: middle;\n",
       "    }\n",
       "\n",
       "    .dataframe tbody tr th {\n",
       "        vertical-align: top;\n",
       "    }\n",
       "\n",
       "    .dataframe thead th {\n",
       "        text-align: right;\n",
       "    }\n",
       "</style>\n",
       "<table border=\"1\" class=\"dataframe\">\n",
       "  <thead>\n",
       "    <tr style=\"text-align: right;\">\n",
       "      <th></th>\n",
       "      <th>jp_sales</th>\n",
       "      <th>sales_part</th>\n",
       "    </tr>\n",
       "    <tr>\n",
       "      <th>rating_description</th>\n",
       "      <th></th>\n",
       "      <th></th>\n",
       "    </tr>\n",
       "  </thead>\n",
       "  <tbody>\n",
       "    <tr>\n",
       "      <th>Teen</th>\n",
       "      <td>20.59</td>\n",
       "      <td>0.369460</td>\n",
       "    </tr>\n",
       "    <tr>\n",
       "      <th>Everyone</th>\n",
       "      <td>15.14</td>\n",
       "      <td>0.271667</td>\n",
       "    </tr>\n",
       "    <tr>\n",
       "      <th>Adults Only 18+</th>\n",
       "      <td>14.11</td>\n",
       "      <td>0.253185</td>\n",
       "    </tr>\n",
       "    <tr>\n",
       "      <th>Everyone 10 and older</th>\n",
       "      <td>5.89</td>\n",
       "      <td>0.105688</td>\n",
       "    </tr>\n",
       "  </tbody>\n",
       "</table>\n",
       "</div>"
      ],
      "text/plain": [
       "                       jp_sales  sales_part\n",
       "rating_description                         \n",
       "Teen                      20.59    0.369460\n",
       "Everyone                  15.14    0.271667\n",
       "Adults Only 18+           14.11    0.253185\n",
       "Everyone 10 and older      5.89    0.105688"
      ]
     },
     "metadata": {},
     "output_type": "display_data"
    },
    {
     "data": {
      "image/png": "[encoded data removed]",
      "text/plain": [
       "<Figure size 1080x504 with 1 Axes>"
      ]
     },
     "metadata": {},
     "output_type": "display_data"
    }
   ],
   "source": [
    "jp_portrat  = portrait(data = actual_period, value='jp_sales')"
   ]
  },
  {
   "cell_type": "markdown",
   "metadata": {},
   "source": [
    "В Японии наиболее популярными по продажам платформами являются 3DS (48,2% от общего количества продаж в регионе), PS3 (16,6%), PSV (13,2%), PS4 (11,3%), WiiU (7,7%).\n",
    "\n",
    "Наиболее популярными играми в Японии являются игры в жанрах Role-Playing(51,04 млн. проданных копий за период с 2013 по 2016 годы,т.е. 44,39%), Action (40,49 млн. проданных копий = 35,2%), Misc (9,2 млн. проданных копии = 8%), Fighting (7,65 млн. проданных копии = 6,7%), Shooter (6,61 млн. проданных копии = 5,7%).\n",
    "\n",
    "Наиболее популярными играми в Японии являются игры для подростков (36,9% от всех проданных копий в регионе за 2013-16гг), наименее популярными в Японии являются игры для категории 10+ (10,6%).\n",
    "\n",
    "Составив и проанализировав портреты трёх различных пользователей, можем сделаь выводы о схожести предпочтений северо-американского и европейского пользователей в жанрах игр (первые 4 самых популярных жанра у этих пользователей совпадают, самым популярным жанром является Action), у японского пользователя этот жанр тоже относится к популярным (стоит на 2-м месте), однако на первом месте стоит жанр Role-Playing, у северо-американского и европейского пользователей этот жанр стал предпоследним в топ-5.\n",
    "\n",
    "Что касается используемых платформ, то можно сделать выводы, что у северо-американских, европейских и японских пользователей из топ-5 популярных платформ совпадают 3 (это DS, PS3, Wii), а у северо-американских и европейских пользователей сопадение по всем 5 платформам.\n",
    "\n",
    "Относительно рейтинга ESRB видим, что и в Северной Америке, и в Европе наибольшей популярностью пользуются игры для взрослых), а вот в Японии наиболее популярны игры для подростков."
   ]
  },
  {
   "cell_type": "markdown",
   "metadata": {},
   "source": [
    "## Проверка гипотез\n",
    "\n",
    "Проверим гипотезу о том, что средние пользовательские рейтинги платформ Xbox One и PC одинаковые.\n",
    "\n",
    "Сформулируем нулевую гипотезу H₀ так: «средний пользовательский рейтинг платформы XOne равен среднему пользовательскому рейтингу платформы PC».\n",
    "Исходя из нулевой гипотезы H₀ сформулируем альтернативную гипотезу H₁. Это утверждение, которое принимается верным, если отбрасывается H₀, т.е.в нашем случае оно будет звучать так: «средний пользовательский рейтинг платформы XOne не равен среднему пользовательскому рейтингу платформы PC».\n",
    "\n",
    "Гипотезу будем проверять специальным методом для проверки гипотезы о равенстве среднего двух генеральных совокупностей по взятым из них выборкам: scipy.stats.ttest_ind (array1, array2, equal_var), так как наши генеральные совокупности не зависят друг от друга. Для корректного применения данного метода и с учётом того, что размеры выборок у нас отличаются, рассчитаем дисперсии рассматриваемых генеральных совокупностей."
   ]
  },
  {
   "cell_type": "code",
   "execution_count": 44,
   "metadata": {},
   "outputs": [
    {
     "name": "stdout",
     "output_type": "stream",
     "text": [
      "Дисперсия пользовательского рейтинга платформы XOne 3.7566646084458606\n",
      "Дисперсия пользовательского рейтинга платформы PC 3.9233984375000004\n"
     ]
    }
   ],
   "source": [
    "variance_xone = np.var(actual_period.query('platform ==\"XOne\" and user_score!=100')['user_score'])\n",
    "print('Дисперсия пользовательского рейтинга платформы XOne', variance_xone)\n",
    "variance_pc = np.var(actual_period.query('platform ==\"PC\" and user_score!=100')['user_score'])\n",
    "print('Дисперсия пользовательского рейтинга платформы PC', variance_pc)"
   ]
  },
  {
   "cell_type": "markdown",
   "metadata": {},
   "source": [
    "Дисперсии выборок сильно отличаются, таким образом будем указывать equal_var = False при вызове метода scipy.stats.ttest_ind(), в качестве критического уровня статистической значимости зададим alpha=0.01."
   ]
  },
  {
   "cell_type": "code",
   "execution_count": 45,
   "metadata": {},
   "outputs": [
    {
     "name": "stdout",
     "output_type": "stream",
     "text": [
      "p-значение:  0.4973356674916535\n",
      "Опровергнуть нулевую гипотезу нельзя\n"
     ]
    }
   ],
   "source": [
    "xone = actual_period.query('platform ==\"XOne\" and user_score!=100')['user_score'] \n",
    "pc = actual_period.query('platform ==\"PC\" and user_score!=100')['user_score']\n",
    "\n",
    "results = st.ttest_ind( xone, pc, equal_var=False)\n",
    "alpha = 0.01\n",
    "\n",
    "print('p-значение: ', results.pvalue)\n",
    "if results.pvalue < alpha:\n",
    "    print('Принимаем альтернативную гипотезу')\n",
    "else:\n",
    "    print('Опровергнуть нулевую гипотезу нельзя')"
   ]
  },
  {
   "cell_type": "markdown",
   "metadata": {},
   "source": [
    "Таким образом, у нас нет оснований для того, чтобы опровергнуть нулевую гипотезу о том, что средний пользовательский рейтинг платформы XOne равен среднему пользовательскому рейтингу платформы PC, значит, у нас нет оснований утверждать, что средние пользовательские рейтинги платформ XOne и PC значимо различаются. Следовательно, мы можем предположить, что изначальная гипотеза о том, что средние пользовательские рейтинги платформ Xbox One и PC одинаковые, верна.\n",
    "На всякий случай, можем дополнительно убедиться в этом, рассчитав средние пользовательские рейтинги обеих платформ с помощью функции mean в сводной таблице по играм, итак средний пользовательский рейтинг платформы PC отличается от среднего пользовательского рейтинга платформы XOne примерно на 0,15 баллов, оба пользовательских рейтинга равны примерно 6 баллам."
   ]
  },
  {
   "cell_type": "code",
   "execution_count": 46,
   "metadata": {
    "scrolled": true
   },
   "outputs": [
    {
     "data": {
      "text/html": [
       "<div>\n",
       "<style scoped>\n",
       "    .dataframe tbody tr th:only-of-type {\n",
       "        vertical-align: middle;\n",
       "    }\n",
       "\n",
       "    .dataframe tbody tr th {\n",
       "        vertical-align: top;\n",
       "    }\n",
       "\n",
       "    .dataframe thead th {\n",
       "        text-align: right;\n",
       "    }\n",
       "</style>\n",
       "<table border=\"1\" class=\"dataframe\">\n",
       "  <thead>\n",
       "    <tr style=\"text-align: right;\">\n",
       "      <th></th>\n",
       "      <th>user_score</th>\n",
       "    </tr>\n",
       "    <tr>\n",
       "      <th>platform</th>\n",
       "      <th></th>\n",
       "    </tr>\n",
       "  </thead>\n",
       "  <tbody>\n",
       "    <tr>\n",
       "      <th>PC</th>\n",
       "      <td>5.618750</td>\n",
       "    </tr>\n",
       "    <tr>\n",
       "      <th>XOne</th>\n",
       "      <td>5.761658</td>\n",
       "    </tr>\n",
       "  </tbody>\n",
       "</table>\n",
       "</div>"
      ],
      "text/plain": [
       "          user_score\n",
       "platform            \n",
       "PC          5.618750\n",
       "XOne        5.761658"
      ]
     },
     "execution_count": 46,
     "metadata": {},
     "output_type": "execute_result"
    }
   ],
   "source": [
    "actual_period.query('user_score!=100 and (platform==\"PC\" or platform==\"XOne\")').pivot_table(index='platform', values='user_score')"
   ]
  },
  {
   "cell_type": "markdown",
   "metadata": {},
   "source": [
    "Проверим вторую гипотезу о том, что средние пользовательские рейтинги жанров Action и Sports разные.\n",
    "\n",
    "Сформулируем нулевую гипотезу H₀ так: «средний пользовательский рейтинг жанра Action равен среднему пользовательскому рейтингу жанра Sports».\n",
    "Исходя из нулевой гипотезы H₀ сформулируем альтернативную гипотезу H₁. Это утверждение, которое принимается верным, если отбрасывается H₀, т.е.в нашем случае оно будет звучать так: «средний пользовательский рейтинг жанра Action не равен среднему пользовательскому рейтингу жанра Sports».\n",
    "\n",
    "Гипотезу будем проверять специальным методом для проверки гипотезы о равенстве среднего двух генеральных совокупностей по взятым из них выборкам: scipy.stats.ttest_ind (array1, array2, equal_var), так как наши генеральные совокупности не зависят друг от друга. Для корректного применения данного метода и с учётом того, что размеры выборок у нас отличаются, рассчитаем дисперсии рассматриваемых генеральных совокупностей."
   ]
  },
  {
   "cell_type": "code",
   "execution_count": 47,
   "metadata": {},
   "outputs": [
    {
     "name": "stdout",
     "output_type": "stream",
     "text": [
      "Дисперсия пользовательского рейтинга жанра Action 5.238082990397807\n",
      "Дисперсия пользовательского рейтинга жанра Sports 4.560259280296701\n"
     ]
    }
   ],
   "source": [
    "variance_action = np.var(actual_period.query('genre ==\"Action\" and user_score!=100')['user_score'])\n",
    "print('Дисперсия пользовательского рейтинга жанра Action', variance_action)\n",
    "variance_sports = np.var(actual_period.query('genre ==\"Sports\" and user_score!=100')['user_score'])\n",
    "print('Дисперсия пользовательского рейтинга жанра Sports', variance_sports)"
   ]
  },
  {
   "cell_type": "markdown",
   "metadata": {},
   "source": [
    "Дисперсии выборок отличаются, таким образом будем указывать equal_var = False при вызове метода scipy.stats.ttest_ind(), в качестве критического уровня статистической значимости зададим alpha=0.01."
   ]
  },
  {
   "cell_type": "code",
   "execution_count": 48,
   "metadata": {},
   "outputs": [
    {
     "name": "stdout",
     "output_type": "stream",
     "text": [
      "p-значение:  3.189480735374219e-10\n",
      "Принимаем альтернативную гипотезу\n"
     ]
    }
   ],
   "source": [
    "action = actual_period.query('genre ==\"Action\" and user_score!=100')['user_score'] \n",
    "sports = actual_period.query('genre ==\"Sports\" and user_score!=100')['user_score']\n",
    "\n",
    "results = st.ttest_ind( action, sports, equal_var=False)\n",
    "alpha = 0.01\n",
    "\n",
    "print('p-значение: ', results.pvalue)\n",
    "if results.pvalue < alpha:\n",
    "    print('Принимаем альтернативную гипотезу')\n",
    "else:\n",
    "    print('Опровергнуть нулевую гипотезу нельзя')"
   ]
  },
  {
   "cell_type": "markdown",
   "metadata": {},
   "source": [
    "Итак, мы можем принять альтернативную гипотезу о том, что средний пользовательский рейтинг жанра Action не равен среднему пользовательскому рейтингу платформы PC, следовательно, изначальная гипотеза о том, что средние пользовательские рейтинги жанров Action и Sports разные, может быть верна.\n",
    "На всякий случай, можем также дополнительно убедиться в этом, рассчитав средние пользовательские рейтинги обоих жанров с помощью функции mean в сводной таблице по играм, итак средний пользовательский рейтинг жанра Action равен примерно 5,7 балла, а жанра Sports - 4,5 балла."
   ]
  },
  {
   "cell_type": "code",
   "execution_count": 49,
   "metadata": {
    "scrolled": true
   },
   "outputs": [
    {
     "data": {
      "text/html": [
       "<div>\n",
       "<style scoped>\n",
       "    .dataframe tbody tr th:only-of-type {\n",
       "        vertical-align: middle;\n",
       "    }\n",
       "\n",
       "    .dataframe tbody tr th {\n",
       "        vertical-align: top;\n",
       "    }\n",
       "\n",
       "    .dataframe thead th {\n",
       "        text-align: right;\n",
       "    }\n",
       "</style>\n",
       "<table border=\"1\" class=\"dataframe\">\n",
       "  <thead>\n",
       "    <tr style=\"text-align: right;\">\n",
       "      <th></th>\n",
       "      <th>user_score</th>\n",
       "    </tr>\n",
       "    <tr>\n",
       "      <th>genre</th>\n",
       "      <th></th>\n",
       "    </tr>\n",
       "  </thead>\n",
       "  <tbody>\n",
       "    <tr>\n",
       "      <th>Action</th>\n",
       "      <td>5.731481</td>\n",
       "    </tr>\n",
       "    <tr>\n",
       "      <th>Sports</th>\n",
       "      <td>4.456647</td>\n",
       "    </tr>\n",
       "  </tbody>\n",
       "</table>\n",
       "</div>"
      ],
      "text/plain": [
       "        user_score\n",
       "genre             \n",
       "Action    5.731481\n",
       "Sports    4.456647"
      ]
     },
     "execution_count": 49,
     "metadata": {},
     "output_type": "execute_result"
    }
   ],
   "source": [
    "actual_period.query('user_score!=100 and (genre==\"Action\" or genre==\"Sports\")').pivot_table(index='genre', values='user_score')"
   ]
  },
  {
   "cell_type": "markdown",
   "metadata": {},
   "source": [
    "## Общий вывод\n",
    "\n",
    "В результате проведённого анализа исторических данных о продажах игр, оценках пользователей и экспертов, жанрах и платформах, мы смогли отработать принципы работы с данными. \n",
    "\n",
    "В ходе работы мы проанаизировали данные, существенных пропусков и выбросов в данных замечено не было, также получили информацию о том, что средний цикл \"жизни\" патформы составляет не более 7-8 лет пик приходится на 2-3 года, за этот срок, как правило, появляются новые и исчезают старые платформы. Таким образом, для дальнейшего анализа был выбран период с 2013 по неполный 2016 годы, к потенциально прибыльным платформам к концу периода были отнесены платформы, у которых только недавно начался жизненный цикл, это платформы XOne, PS4. Анализ показал, что на продажи игр относительно платформ оценки критиков и пользователей влияют, однако эта связь эта очень слабая, гораздо больше на продажи игр влияют жанры и рейтинг ESRB.\n",
    "Так, наиболее популярным жанром является Action (его популярность особенно значима в Северной Америке и Европе, в Японии этот жанр второй по популярности после Role-Playing, при этом в Европе Role-Playing не входит даже в топ-5 наиболее популярных жанров), наименее популярными жанрами являются Strategy и Puzzle.\n",
    "Что касается рейтинга ESRB, то и в Северной Америке, и в Европе наибольшей популярностью пользуются игры для взрослых в то время, как в Японии наиболее популярны игры для взрослых.\n",
    "\n",
    "Также в рамках данного анализа, мы проверили две гипотезы о том, что средние пользовательские рейтинги платформ XOne и PC одинаковы, и о том, что средние пользовательские рейтинги жанров Action и Sports разные. Обе гипотезы могут быть верны. При этом средний пользовательский рейтинг платформ XOne и PC отличается равен примерно 6 баллам,а средний пользовательский рейтинг жанра Action оказался выше (5,7 балла) среднего пользовательского рейтинга Sports (4,5 балла).\n",
    "\n",
    "Основной задачей исследования было выявление определяющих успешность игры закономерностей, к таким закономерностям можно отнести принадлежность игры к набирающей \"силу\" платформе (например, XOne и PS4), наиболее популярному жанру (Action во всех регионах, Shooter - для Северной Америки и Европы, Role-Playing - Японии), принадлежность игры к определённому рейтингу ESRB (например, рейтинг Everyone актуален для всех регионов), эти критерии позволят сделать ставку на потенциально популярный продукт (например, игры в жанре Action для категории Everyone на платформах XOne/ PS4) и спланировать соответствующие рекламные кампании для таких игр. Поставленную задачу можно считать выполненной в данном контексте."
   ]
  }
 ],
 "metadata": {
  "ExecuteTimeLog": [
   {
    "duration": 44,
    "start_time": "2022-04-22T08:34:41.610Z"
   },
   {
    "duration": 1129,
    "start_time": "2022-04-22T08:34:45.348Z"
   },
   {
    "duration": 86,
    "start_time": "2022-04-22T08:34:46.478Z"
   },
   {
    "duration": 56,
    "start_time": "2022-04-22T08:34:46.565Z"
   },
   {
    "duration": 0,
    "start_time": "2022-04-22T08:34:46.623Z"
   },
   {
    "duration": 0,
    "start_time": "2022-04-22T08:34:46.625Z"
   },
   {
    "duration": 0,
    "start_time": "2022-04-22T08:34:46.626Z"
   },
   {
    "duration": 0,
    "start_time": "2022-04-22T08:34:46.627Z"
   },
   {
    "duration": 0,
    "start_time": "2022-04-22T08:34:46.627Z"
   },
   {
    "duration": 0,
    "start_time": "2022-04-22T08:34:46.648Z"
   },
   {
    "duration": 0,
    "start_time": "2022-04-22T08:34:46.649Z"
   },
   {
    "duration": 0,
    "start_time": "2022-04-22T08:34:46.650Z"
   },
   {
    "duration": 0,
    "start_time": "2022-04-22T08:34:46.650Z"
   },
   {
    "duration": 0,
    "start_time": "2022-04-22T08:34:46.651Z"
   },
   {
    "duration": 0,
    "start_time": "2022-04-22T08:34:46.652Z"
   },
   {
    "duration": 0,
    "start_time": "2022-04-22T08:34:46.653Z"
   },
   {
    "duration": 0,
    "start_time": "2022-04-22T08:34:46.654Z"
   },
   {
    "duration": 0,
    "start_time": "2022-04-22T08:34:46.655Z"
   },
   {
    "duration": 0,
    "start_time": "2022-04-22T08:34:46.656Z"
   },
   {
    "duration": 0,
    "start_time": "2022-04-22T08:34:46.657Z"
   },
   {
    "duration": 0,
    "start_time": "2022-04-22T08:34:46.658Z"
   },
   {
    "duration": 0,
    "start_time": "2022-04-22T08:34:46.658Z"
   },
   {
    "duration": 0,
    "start_time": "2022-04-22T08:34:46.659Z"
   },
   {
    "duration": 0,
    "start_time": "2022-04-22T08:34:46.660Z"
   },
   {
    "duration": 0,
    "start_time": "2022-04-22T08:34:46.661Z"
   },
   {
    "duration": 0,
    "start_time": "2022-04-22T08:34:46.662Z"
   },
   {
    "duration": 0,
    "start_time": "2022-04-22T08:34:46.663Z"
   },
   {
    "duration": 0,
    "start_time": "2022-04-22T08:34:46.663Z"
   },
   {
    "duration": 0,
    "start_time": "2022-04-22T08:34:46.664Z"
   },
   {
    "duration": 0,
    "start_time": "2022-04-22T08:34:46.665Z"
   },
   {
    "duration": 0,
    "start_time": "2022-04-22T08:34:46.666Z"
   },
   {
    "duration": 0,
    "start_time": "2022-04-22T08:34:46.667Z"
   },
   {
    "duration": 0,
    "start_time": "2022-04-22T08:34:46.668Z"
   },
   {
    "duration": 0,
    "start_time": "2022-04-22T08:34:46.668Z"
   },
   {
    "duration": 0,
    "start_time": "2022-04-22T08:34:46.670Z"
   },
   {
    "duration": 0,
    "start_time": "2022-04-22T08:34:46.670Z"
   },
   {
    "duration": 0,
    "start_time": "2022-04-22T08:34:46.671Z"
   },
   {
    "duration": 0,
    "start_time": "2022-04-22T08:34:46.672Z"
   },
   {
    "duration": 0,
    "start_time": "2022-04-22T08:34:46.673Z"
   },
   {
    "duration": 0,
    "start_time": "2022-04-22T08:34:46.674Z"
   },
   {
    "duration": 0,
    "start_time": "2022-04-22T08:34:46.675Z"
   },
   {
    "duration": 0,
    "start_time": "2022-04-22T08:34:46.676Z"
   },
   {
    "duration": 0,
    "start_time": "2022-04-22T08:34:46.676Z"
   },
   {
    "duration": 0,
    "start_time": "2022-04-22T08:34:46.678Z"
   },
   {
    "duration": 0,
    "start_time": "2022-04-22T08:34:46.679Z"
   },
   {
    "duration": 0,
    "start_time": "2022-04-22T08:34:46.679Z"
   },
   {
    "duration": 0,
    "start_time": "2022-04-22T08:34:46.680Z"
   },
   {
    "duration": 0,
    "start_time": "2022-04-22T08:34:46.681Z"
   },
   {
    "duration": 0,
    "start_time": "2022-04-22T08:34:46.682Z"
   },
   {
    "duration": 0,
    "start_time": "2022-04-22T08:34:46.683Z"
   },
   {
    "duration": 4,
    "start_time": "2022-04-22T08:36:41.552Z"
   },
   {
    "duration": 95,
    "start_time": "2022-04-22T08:36:41.558Z"
   },
   {
    "duration": 22,
    "start_time": "2022-04-22T08:36:41.768Z"
   },
   {
    "duration": 30,
    "start_time": "2022-04-22T08:36:41.793Z"
   },
   {
    "duration": 5,
    "start_time": "2022-04-22T08:36:41.825Z"
   },
   {
    "duration": 16,
    "start_time": "2022-04-22T08:36:41.832Z"
   },
   {
    "duration": 20,
    "start_time": "2022-04-22T08:36:41.850Z"
   },
   {
    "duration": 13,
    "start_time": "2022-04-22T08:36:41.872Z"
   },
   {
    "duration": 11,
    "start_time": "2022-04-22T08:36:41.886Z"
   },
   {
    "duration": 49,
    "start_time": "2022-04-22T08:36:41.903Z"
   },
   {
    "duration": 8,
    "start_time": "2022-04-22T08:36:41.954Z"
   },
   {
    "duration": 9,
    "start_time": "2022-04-22T08:36:41.965Z"
   },
   {
    "duration": 18,
    "start_time": "2022-04-22T08:36:41.975Z"
   },
   {
    "duration": 129,
    "start_time": "2022-04-22T08:36:41.995Z"
   },
   {
    "duration": 27,
    "start_time": "2022-04-22T08:36:42.126Z"
   },
   {
    "duration": 6,
    "start_time": "2022-04-22T08:36:42.155Z"
   },
   {
    "duration": 5,
    "start_time": "2022-04-22T08:36:42.163Z"
   },
   {
    "duration": 15,
    "start_time": "2022-04-22T08:36:42.170Z"
   },
   {
    "duration": 7,
    "start_time": "2022-04-22T08:36:42.187Z"
   },
   {
    "duration": 7,
    "start_time": "2022-04-22T08:36:42.196Z"
   },
   {
    "duration": 50,
    "start_time": "2022-04-22T08:36:42.204Z"
   },
   {
    "duration": 34,
    "start_time": "2022-04-22T08:36:42.255Z"
   },
   {
    "duration": 314,
    "start_time": "2022-04-22T08:36:42.291Z"
   },
   {
    "duration": 450,
    "start_time": "2022-04-22T08:36:42.607Z"
   },
   {
    "duration": 10,
    "start_time": "2022-04-22T08:36:43.058Z"
   },
   {
    "duration": 161,
    "start_time": "2022-04-22T08:36:43.069Z"
   },
   {
    "duration": 165,
    "start_time": "2022-04-22T08:36:43.232Z"
   },
   {
    "duration": 10,
    "start_time": "2022-04-22T08:36:43.399Z"
   },
   {
    "duration": 0,
    "start_time": "2022-04-22T08:36:43.411Z"
   },
   {
    "duration": 0,
    "start_time": "2022-04-22T08:36:43.412Z"
   },
   {
    "duration": 0,
    "start_time": "2022-04-22T08:36:43.413Z"
   },
   {
    "duration": 0,
    "start_time": "2022-04-22T08:36:43.414Z"
   },
   {
    "duration": 0,
    "start_time": "2022-04-22T08:36:43.415Z"
   },
   {
    "duration": 0,
    "start_time": "2022-04-22T08:36:43.416Z"
   },
   {
    "duration": 0,
    "start_time": "2022-04-22T08:36:43.417Z"
   },
   {
    "duration": 0,
    "start_time": "2022-04-22T08:36:43.418Z"
   },
   {
    "duration": 0,
    "start_time": "2022-04-22T08:36:43.419Z"
   },
   {
    "duration": 0,
    "start_time": "2022-04-22T08:36:43.420Z"
   },
   {
    "duration": 0,
    "start_time": "2022-04-22T08:36:43.421Z"
   },
   {
    "duration": 0,
    "start_time": "2022-04-22T08:36:43.422Z"
   },
   {
    "duration": 0,
    "start_time": "2022-04-22T08:36:43.423Z"
   },
   {
    "duration": 0,
    "start_time": "2022-04-22T08:36:43.448Z"
   },
   {
    "duration": 0,
    "start_time": "2022-04-22T08:36:43.449Z"
   },
   {
    "duration": 0,
    "start_time": "2022-04-22T08:36:43.450Z"
   },
   {
    "duration": 0,
    "start_time": "2022-04-22T08:36:43.451Z"
   },
   {
    "duration": 0,
    "start_time": "2022-04-22T08:36:43.452Z"
   },
   {
    "duration": 0,
    "start_time": "2022-04-22T08:36:43.453Z"
   },
   {
    "duration": 0,
    "start_time": "2022-04-22T08:36:43.454Z"
   },
   {
    "duration": 0,
    "start_time": "2022-04-22T08:36:43.455Z"
   },
   {
    "duration": 8,
    "start_time": "2022-04-22T08:37:13.941Z"
   },
   {
    "duration": 3,
    "start_time": "2022-04-22T08:37:24.493Z"
   },
   {
    "duration": 102,
    "start_time": "2022-04-22T08:37:24.498Z"
   },
   {
    "duration": 14,
    "start_time": "2022-04-22T08:37:24.601Z"
   },
   {
    "duration": 15,
    "start_time": "2022-04-22T08:37:24.617Z"
   },
   {
    "duration": 6,
    "start_time": "2022-04-22T08:37:24.634Z"
   },
   {
    "duration": 5,
    "start_time": "2022-04-22T08:37:24.647Z"
   },
   {
    "duration": 16,
    "start_time": "2022-04-22T08:37:24.653Z"
   },
   {
    "duration": 13,
    "start_time": "2022-04-22T08:37:24.670Z"
   },
   {
    "duration": 11,
    "start_time": "2022-04-22T08:37:24.685Z"
   },
   {
    "duration": 16,
    "start_time": "2022-04-22T08:37:24.697Z"
   },
   {
    "duration": 31,
    "start_time": "2022-04-22T08:37:24.716Z"
   },
   {
    "duration": 8,
    "start_time": "2022-04-22T08:37:24.749Z"
   },
   {
    "duration": 18,
    "start_time": "2022-04-22T08:37:24.758Z"
   },
   {
    "duration": 130,
    "start_time": "2022-04-22T08:37:24.777Z"
   },
   {
    "duration": 18,
    "start_time": "2022-04-22T08:37:24.909Z"
   },
   {
    "duration": 4,
    "start_time": "2022-04-22T08:37:24.929Z"
   },
   {
    "duration": 5,
    "start_time": "2022-04-22T08:37:24.947Z"
   },
   {
    "duration": 13,
    "start_time": "2022-04-22T08:37:24.954Z"
   },
   {
    "duration": 6,
    "start_time": "2022-04-22T08:37:24.968Z"
   },
   {
    "duration": 5,
    "start_time": "2022-04-22T08:37:24.976Z"
   },
   {
    "duration": 17,
    "start_time": "2022-04-22T08:37:24.983Z"
   },
   {
    "duration": 60,
    "start_time": "2022-04-22T08:37:25.001Z"
   },
   {
    "duration": 216,
    "start_time": "2022-04-22T08:37:25.062Z"
   },
   {
    "duration": 387,
    "start_time": "2022-04-22T08:37:25.279Z"
   },
   {
    "duration": 10,
    "start_time": "2022-04-22T08:37:25.667Z"
   },
   {
    "duration": 154,
    "start_time": "2022-04-22T08:37:25.678Z"
   },
   {
    "duration": 169,
    "start_time": "2022-04-22T08:37:25.833Z"
   },
   {
    "duration": 3,
    "start_time": "2022-04-22T08:37:26.003Z"
   },
   {
    "duration": 150,
    "start_time": "2022-04-22T08:37:26.009Z"
   },
   {
    "duration": 15,
    "start_time": "2022-04-22T08:37:26.161Z"
   },
   {
    "duration": 16,
    "start_time": "2022-04-22T08:37:26.178Z"
   },
   {
    "duration": 361,
    "start_time": "2022-04-22T08:37:26.196Z"
   },
   {
    "duration": 624,
    "start_time": "2022-04-22T08:37:26.558Z"
   },
   {
    "duration": 778,
    "start_time": "2022-04-22T08:37:27.183Z"
   },
   {
    "duration": 4,
    "start_time": "2022-04-22T08:37:27.962Z"
   },
   {
    "duration": 393,
    "start_time": "2022-04-22T08:37:27.968Z"
   },
   {
    "duration": 243,
    "start_time": "2022-04-22T08:37:28.363Z"
   },
   {
    "duration": 241,
    "start_time": "2022-04-22T08:37:28.608Z"
   },
   {
    "duration": 68,
    "start_time": "2022-04-22T08:37:28.850Z"
   },
   {
    "duration": 5,
    "start_time": "2022-04-22T08:37:28.919Z"
   },
   {
    "duration": 202,
    "start_time": "2022-04-22T08:37:28.925Z"
   },
   {
    "duration": 200,
    "start_time": "2022-04-22T08:37:29.128Z"
   },
   {
    "duration": 187,
    "start_time": "2022-04-22T08:37:29.330Z"
   },
   {
    "duration": 10,
    "start_time": "2022-04-22T08:37:29.519Z"
   },
   {
    "duration": 24,
    "start_time": "2022-04-22T08:37:29.531Z"
   },
   {
    "duration": 15,
    "start_time": "2022-04-22T08:37:29.557Z"
   },
   {
    "duration": 10,
    "start_time": "2022-04-22T08:37:29.574Z"
   },
   {
    "duration": 15,
    "start_time": "2022-04-22T08:37:29.585Z"
   },
   {
    "duration": 46,
    "start_time": "2022-04-22T08:37:29.601Z"
   },
   {
    "duration": 5,
    "start_time": "2022-04-22T08:37:52.142Z"
   },
   {
    "duration": 137,
    "start_time": "2022-04-22T08:42:59.400Z"
   },
   {
    "duration": 3,
    "start_time": "2022-04-22T08:43:06.437Z"
   },
   {
    "duration": 11,
    "start_time": "2022-04-22T08:43:10.748Z"
   },
   {
    "duration": 21,
    "start_time": "2022-04-22T08:43:23.382Z"
   },
   {
    "duration": 557,
    "start_time": "2022-04-22T08:54:16.732Z"
   },
   {
    "duration": 12,
    "start_time": "2022-04-22T09:03:14.635Z"
   },
   {
    "duration": 197,
    "start_time": "2022-04-22T09:03:36.047Z"
   },
   {
    "duration": 18,
    "start_time": "2022-04-22T09:04:01.561Z"
   },
   {
    "duration": 116,
    "start_time": "2022-04-22T09:04:27.544Z"
   },
   {
    "duration": 16,
    "start_time": "2022-04-22T09:04:29.760Z"
   },
   {
    "duration": 16,
    "start_time": "2022-04-22T09:05:03.776Z"
   },
   {
    "duration": 177,
    "start_time": "2022-04-22T09:05:30.912Z"
   },
   {
    "duration": 169,
    "start_time": "2022-04-22T09:05:38.304Z"
   },
   {
    "duration": 3648,
    "start_time": "2022-04-22T09:06:06.161Z"
   },
   {
    "duration": 180,
    "start_time": "2022-04-22T09:06:17.567Z"
   },
   {
    "duration": 5,
    "start_time": "2022-04-22T09:06:49.977Z"
   },
   {
    "duration": 1302,
    "start_time": "2022-04-22T09:42:32.846Z"
   },
   {
    "duration": 156,
    "start_time": "2022-04-22T09:42:34.150Z"
   },
   {
    "duration": 17,
    "start_time": "2022-04-22T09:42:34.307Z"
   },
   {
    "duration": 20,
    "start_time": "2022-04-22T09:42:34.326Z"
   },
   {
    "duration": 4,
    "start_time": "2022-04-22T09:42:34.348Z"
   },
   {
    "duration": 6,
    "start_time": "2022-04-22T09:42:34.354Z"
   },
   {
    "duration": 23,
    "start_time": "2022-04-22T09:42:34.362Z"
   },
   {
    "duration": 17,
    "start_time": "2022-04-22T09:42:34.387Z"
   },
   {
    "duration": 9,
    "start_time": "2022-04-22T09:42:34.406Z"
   },
   {
    "duration": 21,
    "start_time": "2022-04-22T09:42:34.447Z"
   },
   {
    "duration": 8,
    "start_time": "2022-04-22T09:42:34.470Z"
   },
   {
    "duration": 10,
    "start_time": "2022-04-22T09:42:34.480Z"
   },
   {
    "duration": 30,
    "start_time": "2022-04-22T09:42:34.492Z"
   },
   {
    "duration": 200,
    "start_time": "2022-04-22T09:42:34.524Z"
   },
   {
    "duration": 27,
    "start_time": "2022-04-22T09:42:34.726Z"
   },
   {
    "duration": 5,
    "start_time": "2022-04-22T09:42:34.755Z"
   },
   {
    "duration": 5,
    "start_time": "2022-04-22T09:42:34.761Z"
   },
   {
    "duration": 15,
    "start_time": "2022-04-22T09:42:34.768Z"
   },
   {
    "duration": 7,
    "start_time": "2022-04-22T09:42:34.784Z"
   },
   {
    "duration": 7,
    "start_time": "2022-04-22T09:42:34.792Z"
   },
   {
    "duration": 52,
    "start_time": "2022-04-22T09:42:34.800Z"
   },
   {
    "duration": 32,
    "start_time": "2022-04-22T09:42:34.854Z"
   },
   {
    "duration": 243,
    "start_time": "2022-04-22T09:42:34.887Z"
   },
   {
    "duration": 316,
    "start_time": "2022-04-22T09:42:35.131Z"
   },
   {
    "duration": 10,
    "start_time": "2022-04-22T09:42:35.449Z"
   },
   {
    "duration": 156,
    "start_time": "2022-04-22T09:42:35.460Z"
   },
   {
    "duration": 163,
    "start_time": "2022-04-22T09:42:35.617Z"
   },
   {
    "duration": 138,
    "start_time": "2022-04-22T09:42:35.783Z"
   },
   {
    "duration": 28,
    "start_time": "2022-04-22T09:42:35.922Z"
   },
   {
    "duration": 4,
    "start_time": "2022-04-22T09:42:35.952Z"
   },
   {
    "duration": 492,
    "start_time": "2022-04-22T09:42:35.958Z"
   },
   {
    "duration": 445,
    "start_time": "2022-04-22T09:42:36.452Z"
   },
   {
    "duration": 393,
    "start_time": "2022-04-22T09:42:36.898Z"
   },
   {
    "duration": 5,
    "start_time": "2022-04-22T09:42:37.293Z"
   },
   {
    "duration": 281,
    "start_time": "2022-04-22T09:42:37.299Z"
   },
   {
    "duration": 260,
    "start_time": "2022-04-22T09:42:37.582Z"
   },
   {
    "duration": 261,
    "start_time": "2022-04-22T09:42:37.847Z"
   },
   {
    "duration": 84,
    "start_time": "2022-04-22T09:42:38.110Z"
   },
   {
    "duration": 5,
    "start_time": "2022-04-22T09:42:38.196Z"
   },
   {
    "duration": 227,
    "start_time": "2022-04-22T09:42:38.202Z"
   },
   {
    "duration": 300,
    "start_time": "2022-04-22T09:42:38.431Z"
   },
   {
    "duration": 204,
    "start_time": "2022-04-22T09:42:38.733Z"
   },
   {
    "duration": 19,
    "start_time": "2022-04-22T09:42:38.939Z"
   },
   {
    "duration": 12,
    "start_time": "2022-04-22T09:42:38.960Z"
   },
   {
    "duration": 15,
    "start_time": "2022-04-22T09:42:38.973Z"
   },
   {
    "duration": 11,
    "start_time": "2022-04-22T09:42:38.990Z"
   },
   {
    "duration": 46,
    "start_time": "2022-04-22T09:42:39.003Z"
   },
   {
    "duration": 15,
    "start_time": "2022-04-22T09:42:39.051Z"
   },
   {
    "duration": 49,
    "start_time": "2022-04-26T15:53:40.958Z"
   },
   {
    "duration": 1160,
    "start_time": "2022-04-26T15:53:44.559Z"
   },
   {
    "duration": 196,
    "start_time": "2022-04-26T15:53:45.722Z"
   },
   {
    "duration": 14,
    "start_time": "2022-04-26T15:53:45.919Z"
   },
   {
    "duration": 32,
    "start_time": "2022-04-26T15:53:45.935Z"
   },
   {
    "duration": 21,
    "start_time": "2022-04-26T15:53:45.968Z"
   },
   {
    "duration": 12,
    "start_time": "2022-04-26T15:53:45.990Z"
   },
   {
    "duration": 35,
    "start_time": "2022-04-26T15:53:46.003Z"
   },
   {
    "duration": 16,
    "start_time": "2022-04-26T15:53:46.040Z"
   },
   {
    "duration": 14,
    "start_time": "2022-04-26T15:53:46.057Z"
   },
   {
    "duration": 37,
    "start_time": "2022-04-26T15:53:46.074Z"
   },
   {
    "duration": 7,
    "start_time": "2022-04-26T15:53:46.113Z"
   },
   {
    "duration": 19,
    "start_time": "2022-04-26T15:53:46.122Z"
   },
   {
    "duration": 24,
    "start_time": "2022-04-26T15:53:46.143Z"
   },
   {
    "duration": 115,
    "start_time": "2022-04-26T15:53:46.168Z"
   },
   {
    "duration": 19,
    "start_time": "2022-04-26T15:53:46.285Z"
   },
   {
    "duration": 17,
    "start_time": "2022-04-26T15:53:46.305Z"
   },
   {
    "duration": 20,
    "start_time": "2022-04-26T15:53:46.324Z"
   },
   {
    "duration": 15,
    "start_time": "2022-04-26T15:53:46.345Z"
   },
   {
    "duration": 6,
    "start_time": "2022-04-26T15:53:46.362Z"
   },
   {
    "duration": 19,
    "start_time": "2022-04-26T15:53:46.370Z"
   },
   {
    "duration": 23,
    "start_time": "2022-04-26T15:53:46.390Z"
   },
   {
    "duration": 33,
    "start_time": "2022-04-26T15:53:46.415Z"
   },
   {
    "duration": 256,
    "start_time": "2022-04-26T15:53:46.449Z"
   },
   {
    "duration": 385,
    "start_time": "2022-04-26T15:53:46.706Z"
   },
   {
    "duration": 3,
    "start_time": "2022-04-26T15:53:47.093Z"
   },
   {
    "duration": 33,
    "start_time": "2022-04-26T15:53:47.097Z"
   },
   {
    "duration": 174,
    "start_time": "2022-04-26T15:53:47.132Z"
   },
   {
    "duration": 163,
    "start_time": "2022-04-26T15:53:47.310Z"
   },
   {
    "duration": 164,
    "start_time": "2022-04-26T15:53:47.475Z"
   },
   {
    "duration": 17,
    "start_time": "2022-04-26T15:53:47.641Z"
   },
   {
    "duration": 5,
    "start_time": "2022-04-26T15:53:47.660Z"
   },
   {
    "duration": 5,
    "start_time": "2022-04-26T15:53:47.667Z"
   },
   {
    "duration": 430,
    "start_time": "2022-04-26T15:53:47.674Z"
   },
   {
    "duration": 493,
    "start_time": "2022-04-26T15:53:48.106Z"
   },
   {
    "duration": 465,
    "start_time": "2022-04-26T15:53:48.601Z"
   },
   {
    "duration": 5,
    "start_time": "2022-04-26T15:53:49.067Z"
   },
   {
    "duration": 342,
    "start_time": "2022-04-26T15:53:49.073Z"
   },
   {
    "duration": 295,
    "start_time": "2022-04-26T15:53:49.416Z"
   },
   {
    "duration": 315,
    "start_time": "2022-04-26T15:53:49.713Z"
   },
   {
    "duration": 368,
    "start_time": "2022-04-26T15:53:50.030Z"
   },
   {
    "duration": 6,
    "start_time": "2022-04-26T15:53:50.399Z"
   },
   {
    "duration": 5,
    "start_time": "2022-04-26T15:53:50.422Z"
   },
   {
    "duration": 182,
    "start_time": "2022-04-26T15:53:50.429Z"
   },
   {
    "duration": 198,
    "start_time": "2022-04-26T15:53:50.613Z"
   },
   {
    "duration": 209,
    "start_time": "2022-04-26T15:53:50.813Z"
   },
   {
    "duration": 11,
    "start_time": "2022-04-26T15:53:51.024Z"
   },
   {
    "duration": 21,
    "start_time": "2022-04-26T15:53:51.036Z"
   },
   {
    "duration": 28,
    "start_time": "2022-04-26T15:53:51.058Z"
   },
   {
    "duration": 20,
    "start_time": "2022-04-26T15:53:51.088Z"
   },
   {
    "duration": 14,
    "start_time": "2022-04-26T15:53:51.110Z"
   },
   {
    "duration": 22,
    "start_time": "2022-04-26T15:53:51.125Z"
   },
   {
    "duration": 186,
    "start_time": "2022-04-26T15:54:09.305Z"
   },
   {
    "duration": 201,
    "start_time": "2022-04-26T15:54:14.846Z"
   },
   {
    "duration": 4,
    "start_time": "2022-04-26T15:54:29.031Z"
   },
   {
    "duration": 61,
    "start_time": "2022-04-26T15:54:39.502Z"
   },
   {
    "duration": 2256,
    "start_time": "2022-04-26T15:54:43.960Z"
   },
   {
    "duration": 5,
    "start_time": "2022-04-26T15:54:50.592Z"
   },
   {
    "duration": 2794,
    "start_time": "2022-04-26T15:55:26.054Z"
   },
   {
    "duration": 5,
    "start_time": "2022-04-26T15:55:38.063Z"
   },
   {
    "duration": 6,
    "start_time": "2022-04-26T15:55:50.903Z"
   },
   {
    "duration": 1546,
    "start_time": "2022-04-26T15:55:56.518Z"
   },
   {
    "duration": 2238,
    "start_time": "2022-04-26T15:56:05.512Z"
   },
   {
    "duration": 12,
    "start_time": "2022-04-26T15:56:11.095Z"
   },
   {
    "duration": 203,
    "start_time": "2022-04-26T15:56:30.960Z"
   },
   {
    "duration": 13,
    "start_time": "2022-04-26T15:56:34.414Z"
   },
   {
    "duration": 16,
    "start_time": "2022-04-26T15:56:43.758Z"
   },
   {
    "duration": 2297,
    "start_time": "2022-04-26T15:56:47.455Z"
   },
   {
    "duration": 16,
    "start_time": "2022-04-26T15:57:54.816Z"
   },
   {
    "duration": 16,
    "start_time": "2022-04-26T15:58:57.470Z"
   },
   {
    "duration": 23,
    "start_time": "2022-04-26T16:00:42.168Z"
   },
   {
    "duration": 5,
    "start_time": "2022-04-26T16:01:02.438Z"
   },
   {
    "duration": 5,
    "start_time": "2022-04-26T16:01:11.852Z"
   },
   {
    "duration": 5,
    "start_time": "2022-04-26T16:03:28.122Z"
   },
   {
    "duration": 5,
    "start_time": "2022-04-26T16:03:35.020Z"
   },
   {
    "duration": 2377,
    "start_time": "2022-04-26T16:11:16.152Z"
   },
   {
    "duration": 1671,
    "start_time": "2022-04-26T16:11:18.532Z"
   },
   {
    "duration": 24,
    "start_time": "2022-04-26T16:11:20.205Z"
   },
   {
    "duration": 32,
    "start_time": "2022-04-26T16:11:20.232Z"
   },
   {
    "duration": 4,
    "start_time": "2022-04-26T16:11:20.267Z"
   },
   {
    "duration": 7,
    "start_time": "2022-04-26T16:11:20.274Z"
   },
   {
    "duration": 51,
    "start_time": "2022-04-26T16:11:20.283Z"
   },
   {
    "duration": 21,
    "start_time": "2022-04-26T16:11:20.337Z"
   },
   {
    "duration": 13,
    "start_time": "2022-04-26T16:11:20.360Z"
   },
   {
    "duration": 30,
    "start_time": "2022-04-26T16:11:20.378Z"
   },
   {
    "duration": 11,
    "start_time": "2022-04-26T16:11:20.424Z"
   },
   {
    "duration": 215,
    "start_time": "2022-04-26T16:11:20.437Z"
   },
   {
    "duration": 31,
    "start_time": "2022-04-26T16:11:20.654Z"
   },
   {
    "duration": 117,
    "start_time": "2022-04-26T16:11:20.687Z"
   },
   {
    "duration": 20,
    "start_time": "2022-04-26T16:11:20.806Z"
   },
   {
    "duration": 5,
    "start_time": "2022-04-26T16:11:20.828Z"
   },
   {
    "duration": 7,
    "start_time": "2022-04-26T16:11:20.835Z"
   },
   {
    "duration": 18,
    "start_time": "2022-04-26T16:11:20.844Z"
   },
   {
    "duration": 7,
    "start_time": "2022-04-26T16:11:20.864Z"
   },
   {
    "duration": 17,
    "start_time": "2022-04-26T16:11:20.872Z"
   },
   {
    "duration": 44,
    "start_time": "2022-04-26T16:11:20.891Z"
   },
   {
    "duration": 35,
    "start_time": "2022-04-26T16:11:20.937Z"
   },
   {
    "duration": 312,
    "start_time": "2022-04-26T16:11:20.974Z"
   },
   {
    "duration": 424,
    "start_time": "2022-04-26T16:11:21.288Z"
   },
   {
    "duration": 3,
    "start_time": "2022-04-26T16:11:21.722Z"
   },
   {
    "duration": 37,
    "start_time": "2022-04-26T16:11:21.727Z"
   },
   {
    "duration": 264,
    "start_time": "2022-04-26T16:11:21.766Z"
   },
   {
    "duration": 248,
    "start_time": "2022-04-26T16:11:22.036Z"
   },
   {
    "duration": 164,
    "start_time": "2022-04-26T16:11:22.286Z"
   },
   {
    "duration": 16,
    "start_time": "2022-04-26T16:11:22.451Z"
   },
   {
    "duration": 5,
    "start_time": "2022-04-26T16:11:22.469Z"
   },
   {
    "duration": 6,
    "start_time": "2022-04-26T16:11:22.475Z"
   },
   {
    "duration": 440,
    "start_time": "2022-04-26T16:11:22.483Z"
   },
   {
    "duration": 505,
    "start_time": "2022-04-26T16:11:22.925Z"
   },
   {
    "duration": 429,
    "start_time": "2022-04-26T16:11:23.432Z"
   },
   {
    "duration": 5,
    "start_time": "2022-04-26T16:11:23.863Z"
   },
   {
    "duration": 328,
    "start_time": "2022-04-26T16:11:23.870Z"
   },
   {
    "duration": 302,
    "start_time": "2022-04-26T16:11:24.200Z"
   },
   {
    "duration": 298,
    "start_time": "2022-04-26T16:11:24.504Z"
   },
   {
    "duration": 403,
    "start_time": "2022-04-26T16:11:24.804Z"
   },
   {
    "duration": 14,
    "start_time": "2022-04-26T16:11:25.209Z"
   },
   {
    "duration": 6,
    "start_time": "2022-04-26T16:11:25.225Z"
   },
   {
    "duration": 296,
    "start_time": "2022-04-26T16:11:25.233Z"
   },
   {
    "duration": 253,
    "start_time": "2022-04-26T16:11:25.532Z"
   },
   {
    "duration": 227,
    "start_time": "2022-04-26T16:11:25.787Z"
   },
   {
    "duration": 16,
    "start_time": "2022-04-26T16:11:26.016Z"
   },
   {
    "duration": 14,
    "start_time": "2022-04-26T16:11:26.034Z"
   },
   {
    "duration": 18,
    "start_time": "2022-04-26T16:11:26.050Z"
   },
   {
    "duration": 13,
    "start_time": "2022-04-26T16:11:26.070Z"
   },
   {
    "duration": 41,
    "start_time": "2022-04-26T16:11:26.085Z"
   },
   {
    "duration": 20,
    "start_time": "2022-04-26T16:11:26.128Z"
   }
  ],
  "kernelspec": {
   "display_name": "Python 3 (ipykernel)",
   "language": "python",
   "name": "python3"
  },
  "language_info": {
   "codemirror_mode": {
    "name": "ipython",
    "version": 3
   },
   "file_extension": ".py",
   "mimetype": "text/x-python",
   "name": "python",
   "nbconvert_exporter": "python",
   "pygments_lexer": "ipython3",
   "version": "3.10.4"
  },
  "toc": {
   "base_numbering": 1,
   "nav_menu": {},
   "number_sections": true,
   "sideBar": true,
   "skip_h1_title": true,
   "title_cell": "Содержание",
   "title_sidebar": "Contents",
   "toc_cell": true,
   "toc_position": {
    "height": "676px",
    "left": "87px",
    "top": "110px",
    "width": "460px"
   },
   "toc_section_display": true,
   "toc_window_display": true
  }
 },
 "nbformat": 4,
 "nbformat_minor": 4
}
